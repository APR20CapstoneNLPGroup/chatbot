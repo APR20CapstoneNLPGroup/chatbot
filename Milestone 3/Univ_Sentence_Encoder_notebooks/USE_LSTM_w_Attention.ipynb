{
  "nbformat": 4,
  "nbformat_minor": 0,
  "metadata": {
    "colab": {
      "name": "USE_LSTM_w_Attention.ipynb",
      "provenance": [],
      "collapsed_sections": []
    },
    "kernelspec": {
      "name": "python3",
      "display_name": "Python 3"
    },
    "accelerator": "TPU"
  },
  "cells": [
    {
      "cell_type": "code",
      "metadata": {
        "colab": {
          "base_uri": "https://localhost:8080/"
        },
        "id": "QHjLRONpXEpY",
        "outputId": "987ecfc6-d37e-464c-f73a-ebdeb227a5ca"
      },
      "source": [
        "# Mounting Google Drive\n",
        "from google.colab import drive\n",
        "drive.mount('/content/drive')"
      ],
      "execution_count": 1,
      "outputs": [
        {
          "output_type": "stream",
          "text": [
            "Mounted at /content/drive\n"
          ],
          "name": "stdout"
        }
      ]
    },
    {
      "cell_type": "code",
      "metadata": {
        "id": "U4ueEcjdXGzQ"
      },
      "source": [
        "# Setting the current working directory\n",
        "import os; os.chdir('/content/drive/MyDrive/AI_ML/Projects/Capstone-NLP')"
      ],
      "execution_count": 2,
      "outputs": []
    },
    {
      "cell_type": "markdown",
      "metadata": {
        "id": "bYLYN0uFzIbi"
      },
      "source": [
        "### Importing the Packages"
      ]
    },
    {
      "cell_type": "code",
      "metadata": {
        "id": "MCDtOFSVKFgi"
      },
      "source": [
        "import numpy as np\n",
        "import pandas as pd\n",
        "import matplotlib.pyplot as plt\n",
        "%matplotlib inline\n",
        "import seaborn as sns\n",
        "import re\n",
        "import random\n",
        "\n",
        "from sklearn.model_selection import train_test_split\n",
        "from sklearn.linear_model import LogisticRegression\n",
        "from sklearn.preprocessing import LabelEncoder\n",
        "from sklearn.preprocessing import OneHotEncoder\n",
        "from sklearn.metrics import accuracy_score\n",
        "\n",
        "from sklearn.metrics import classification_report, confusion_matrix, roc_curve"
      ],
      "execution_count": 3,
      "outputs": []
    },
    {
      "cell_type": "markdown",
      "metadata": {
        "id": "pdlIbPVXgJj8"
      },
      "source": [
        "## Load the dataset"
      ]
    },
    {
      "cell_type": "code",
      "metadata": {
        "id": "oaPEETXUKI-o",
        "colab": {
          "base_uri": "https://localhost:8080/",
          "height": 306
        },
        "outputId": "5682f25c-0e76-449a-babe-2b9576259ed5"
      },
      "source": [
        "#Function 1.1 - Load the dataset\n",
        "\n",
        "def load_dataset(filename):\n",
        "  data = pd.read_csv(filename)\n",
        "  return data\n",
        "\n",
        "#Function 1.2 - Dataset Cleansing\n",
        "\n",
        "def data_cleansing_info(data):\n",
        "  data.drop(\"Unnamed: 0\", axis=1, inplace=True)\n",
        "  data.rename(columns={'Data':'Date', 'Countries':'Country', 'Accident Level' : 'AccLevel' ,  'Genre':'Gender', 'Employee or Third Party':'Employee type'}, inplace=True)\n",
        "  return data.head(5), data.isnull().sum()\n",
        "\n",
        "data = load_dataset(\"IHMStefanini_industrial_safety_and_health_database_with_accidents_description.csv\")\n",
        "data.head()\n",
        "\n",
        "# Preparing the data for our model\n",
        "# Done some preprocessing on the dataset to the 5 acc level:\n",
        "\n",
        "# Data Cleansing\n",
        "# Name Corrections\n",
        "# Replace Roman numerals to Integers\n",
        "\n",
        "data_cleansing_info(data)\n",
        "data.head() #Column names corrected"
      ],
      "execution_count": 4,
      "outputs": [
        {
          "output_type": "execute_result",
          "data": {
            "text/html": [
              "<div>\n",
              "<style scoped>\n",
              "    .dataframe tbody tr th:only-of-type {\n",
              "        vertical-align: middle;\n",
              "    }\n",
              "\n",
              "    .dataframe tbody tr th {\n",
              "        vertical-align: top;\n",
              "    }\n",
              "\n",
              "    .dataframe thead th {\n",
              "        text-align: right;\n",
              "    }\n",
              "</style>\n",
              "<table border=\"1\" class=\"dataframe\">\n",
              "  <thead>\n",
              "    <tr style=\"text-align: right;\">\n",
              "      <th></th>\n",
              "      <th>Date</th>\n",
              "      <th>Country</th>\n",
              "      <th>Local</th>\n",
              "      <th>Industry Sector</th>\n",
              "      <th>AccLevel</th>\n",
              "      <th>Potential Accident Level</th>\n",
              "      <th>Gender</th>\n",
              "      <th>Employee type</th>\n",
              "      <th>Critical Risk</th>\n",
              "      <th>Description</th>\n",
              "    </tr>\n",
              "  </thead>\n",
              "  <tbody>\n",
              "    <tr>\n",
              "      <th>0</th>\n",
              "      <td>1/1/2016 0:00</td>\n",
              "      <td>Country_01</td>\n",
              "      <td>Local_01</td>\n",
              "      <td>Mining</td>\n",
              "      <td>I</td>\n",
              "      <td>IV</td>\n",
              "      <td>Male</td>\n",
              "      <td>Third Party</td>\n",
              "      <td>Pressed</td>\n",
              "      <td>While removing the drill rod of the Jumbo 08 f...</td>\n",
              "    </tr>\n",
              "    <tr>\n",
              "      <th>1</th>\n",
              "      <td>1/2/2016 0:00</td>\n",
              "      <td>Country_02</td>\n",
              "      <td>Local_02</td>\n",
              "      <td>Mining</td>\n",
              "      <td>I</td>\n",
              "      <td>IV</td>\n",
              "      <td>Male</td>\n",
              "      <td>Employee</td>\n",
              "      <td>Pressurized Systems</td>\n",
              "      <td>During the activation of a sodium sulphide pum...</td>\n",
              "    </tr>\n",
              "    <tr>\n",
              "      <th>2</th>\n",
              "      <td>1/6/2016 0:00</td>\n",
              "      <td>Country_01</td>\n",
              "      <td>Local_03</td>\n",
              "      <td>Mining</td>\n",
              "      <td>I</td>\n",
              "      <td>III</td>\n",
              "      <td>Male</td>\n",
              "      <td>Third Party (Remote)</td>\n",
              "      <td>Manual Tools</td>\n",
              "      <td>In the sub-station MILPO located at level +170...</td>\n",
              "    </tr>\n",
              "    <tr>\n",
              "      <th>3</th>\n",
              "      <td>1/8/2016 0:00</td>\n",
              "      <td>Country_01</td>\n",
              "      <td>Local_04</td>\n",
              "      <td>Mining</td>\n",
              "      <td>I</td>\n",
              "      <td>I</td>\n",
              "      <td>Male</td>\n",
              "      <td>Third Party</td>\n",
              "      <td>Others</td>\n",
              "      <td>Being 9:45 am. approximately in the Nv. 1880 C...</td>\n",
              "    </tr>\n",
              "    <tr>\n",
              "      <th>4</th>\n",
              "      <td>1/10/2016 0:00</td>\n",
              "      <td>Country_01</td>\n",
              "      <td>Local_04</td>\n",
              "      <td>Mining</td>\n",
              "      <td>IV</td>\n",
              "      <td>IV</td>\n",
              "      <td>Male</td>\n",
              "      <td>Third Party</td>\n",
              "      <td>Others</td>\n",
              "      <td>Approximately at 11:45 a.m. in circumstances t...</td>\n",
              "    </tr>\n",
              "  </tbody>\n",
              "</table>\n",
              "</div>"
            ],
            "text/plain": [
              "             Date  ...                                        Description\n",
              "0   1/1/2016 0:00  ...  While removing the drill rod of the Jumbo 08 f...\n",
              "1   1/2/2016 0:00  ...  During the activation of a sodium sulphide pum...\n",
              "2   1/6/2016 0:00  ...  In the sub-station MILPO located at level +170...\n",
              "3   1/8/2016 0:00  ...  Being 9:45 am. approximately in the Nv. 1880 C...\n",
              "4  1/10/2016 0:00  ...  Approximately at 11:45 a.m. in circumstances t...\n",
              "\n",
              "[5 rows x 10 columns]"
            ]
          },
          "metadata": {
            "tags": []
          },
          "execution_count": 4
        }
      ]
    },
    {
      "cell_type": "markdown",
      "metadata": {
        "id": "TPYNFoWOftCD"
      },
      "source": [
        "## Preparing the data for our model\n",
        "\n",
        "Done some preprocessing on the dataset to the 5 acc level:\n",
        "- Data Cleansing\n",
        "- Name Corrections\n",
        "- Replace Roman numerals to Integers"
      ]
    },
    {
      "cell_type": "code",
      "metadata": {
        "colab": {
          "base_uri": "https://localhost:8080/"
        },
        "id": "pe1QhobyzJ0c",
        "outputId": "46f80b62-60bf-4e7f-b551-56b48caebf31"
      },
      "source": [
        "data.info()"
      ],
      "execution_count": 5,
      "outputs": [
        {
          "output_type": "stream",
          "text": [
            "<class 'pandas.core.frame.DataFrame'>\n",
            "RangeIndex: 425 entries, 0 to 424\n",
            "Data columns (total 10 columns):\n",
            " #   Column                    Non-Null Count  Dtype \n",
            "---  ------                    --------------  ----- \n",
            " 0   Date                      425 non-null    object\n",
            " 1   Country                   425 non-null    object\n",
            " 2   Local                     425 non-null    object\n",
            " 3   Industry Sector           425 non-null    object\n",
            " 4   AccLevel                  425 non-null    object\n",
            " 5   Potential Accident Level  425 non-null    object\n",
            " 6   Gender                    425 non-null    object\n",
            " 7   Employee type             425 non-null    object\n",
            " 8   Critical Risk             425 non-null    object\n",
            " 9   Description               425 non-null    object\n",
            "dtypes: object(10)\n",
            "memory usage: 33.3+ KB\n"
          ],
          "name": "stdout"
        }
      ]
    },
    {
      "cell_type": "code",
      "metadata": {
        "id": "ueXwfB4SUl3u"
      },
      "source": [
        "data1 = data.copy() # Backup"
      ],
      "execution_count": 6,
      "outputs": []
    },
    {
      "cell_type": "code",
      "metadata": {
        "colab": {
          "base_uri": "https://localhost:8080/"
        },
        "id": "uwok89oP0YO_",
        "outputId": "d31208ec-86d2-4e51-fac5-ce58c57c55cd"
      },
      "source": [
        "data.columns"
      ],
      "execution_count": 7,
      "outputs": [
        {
          "output_type": "execute_result",
          "data": {
            "text/plain": [
              "Index(['Date', 'Country', 'Local', 'Industry Sector', 'AccLevel',\n",
              "       'Potential Accident Level', 'Gender', 'Employee type', 'Critical Risk',\n",
              "       'Description'],\n",
              "      dtype='object')"
            ]
          },
          "metadata": {
            "tags": []
          },
          "execution_count": 7
        }
      ]
    },
    {
      "cell_type": "code",
      "metadata": {
        "colab": {
          "base_uri": "https://localhost:8080/"
        },
        "id": "ETQxlEbEVVaX",
        "outputId": "5db29395-0b9a-44ae-a711-ee57e78b07b1"
      },
      "source": [
        "# NLP Import packages\n",
        "import nltk; nltk.download('wordnet'); nltk.download('stopwords')\n",
        "from nltk.stem import WordNetLemmatizer\n",
        "from nltk.corpus import wordnet as wn\n",
        "from nltk.corpus import stopwords\n",
        "from wordcloud import WordCloud\n",
        "import matplotlib.pyplot as plt\n",
        "import string"
      ],
      "execution_count": 8,
      "outputs": [
        {
          "output_type": "stream",
          "text": [
            "[nltk_data] Downloading package wordnet to /root/nltk_data...\n",
            "[nltk_data]   Unzipping corpora/wordnet.zip.\n",
            "[nltk_data] Downloading package stopwords to /root/nltk_data...\n",
            "[nltk_data]   Unzipping corpora/stopwords.zip.\n"
          ],
          "name": "stdout"
        }
      ]
    },
    {
      "cell_type": "code",
      "metadata": {
        "id": "EkVRuhj1UDAn"
      },
      "source": [
        "import re\n",
        "from string import punctuation\n",
        "from wordcloud import STOPWORDS\n",
        "\n",
        "stop_words =  stopwords.words('english')\n",
        "\n",
        "def text_cleaning(text, remove_stop_words=True, lemmatize_words=True):\n",
        "    # Clean the text, with the option to remove stop_words and to lemmatize word\n",
        "\n",
        "    # Clean the text\n",
        "    text = re.sub(r\"[^A-Za-z0-9]\", \" \", text)\n",
        "    text = re.sub(r\"\\'s\", \" \", text)\n",
        "    text = re.sub(r\"n't\", \" not \", text)\n",
        "    text = re.sub(r\"I'm\", \"I am\", text)\n",
        "    text = re.sub(r\"ur\", \" your \", text)\n",
        "    text = re.sub(r\" nd \",\" and \",text)\n",
        "    text = re.sub(r\"\\'d\", \" would \", text)\n",
        "    text = re.sub(r\"\\'ll\", \" will \", text)\n",
        "    text = re.sub(r\" tkts \",\" tickets \",text)\n",
        "    text = re.sub(r\" c \",\" can \",text)\n",
        "    text = re.sub(r\" e g \", \" eg \", text)\n",
        "    text =  re.sub(r'http\\S+',' link ', text)\n",
        "    text = re.sub(r'\\b\\d+(?:\\.\\d+)?\\s+', '', text) # remove numbers\n",
        "    text = re.sub(r\" u \",\" you \",text)\n",
        "    text = text.lower()  # set in lowercase \n",
        "        \n",
        "    # Remove punctuation from text\n",
        "    text = ''.join([c for c in text if c not in punctuation])\n",
        "    \n",
        "    # Optionally, remove stop words\n",
        "    if remove_stop_words:\n",
        "        text = text.split()\n",
        "        text = [w for w in text if not w in stop_words]\n",
        "        text = \" \".join(text)\n",
        "    \n",
        "    # Optionally, shorten words to their stems\n",
        "    if lemmatize_words:\n",
        "        text = text.split()\n",
        "        lemmatizer = WordNetLemmatizer() \n",
        "        lemmatized_words = [lemmatizer.lemmatize(word) for word in text]\n",
        "        text = \" \".join(lemmatized_words)\n",
        "    \n",
        "    # Return a list of words\n",
        "    return(text)"
      ],
      "execution_count": 9,
      "outputs": []
    },
    {
      "cell_type": "code",
      "metadata": {
        "colab": {
          "base_uri": "https://localhost:8080/",
          "height": 210
        },
        "id": "O10rjNW7UNO0",
        "outputId": "87a342bd-5267-4613-bbb1-7951137d4a97"
      },
      "source": [
        "#clean the dataset \n",
        "data[\"clean_Description\"] = data[\"Description\"].apply(text_cleaning)\n",
        "data.head(3)"
      ],
      "execution_count": 10,
      "outputs": [
        {
          "output_type": "execute_result",
          "data": {
            "text/html": [
              "<div>\n",
              "<style scoped>\n",
              "    .dataframe tbody tr th:only-of-type {\n",
              "        vertical-align: middle;\n",
              "    }\n",
              "\n",
              "    .dataframe tbody tr th {\n",
              "        vertical-align: top;\n",
              "    }\n",
              "\n",
              "    .dataframe thead th {\n",
              "        text-align: right;\n",
              "    }\n",
              "</style>\n",
              "<table border=\"1\" class=\"dataframe\">\n",
              "  <thead>\n",
              "    <tr style=\"text-align: right;\">\n",
              "      <th></th>\n",
              "      <th>Date</th>\n",
              "      <th>Country</th>\n",
              "      <th>Local</th>\n",
              "      <th>Industry Sector</th>\n",
              "      <th>AccLevel</th>\n",
              "      <th>Potential Accident Level</th>\n",
              "      <th>Gender</th>\n",
              "      <th>Employee type</th>\n",
              "      <th>Critical Risk</th>\n",
              "      <th>Description</th>\n",
              "      <th>clean_Description</th>\n",
              "    </tr>\n",
              "  </thead>\n",
              "  <tbody>\n",
              "    <tr>\n",
              "      <th>0</th>\n",
              "      <td>1/1/2016 0:00</td>\n",
              "      <td>Country_01</td>\n",
              "      <td>Local_01</td>\n",
              "      <td>Mining</td>\n",
              "      <td>I</td>\n",
              "      <td>IV</td>\n",
              "      <td>Male</td>\n",
              "      <td>Third Party</td>\n",
              "      <td>Pressed</td>\n",
              "      <td>While removing the drill rod of the Jumbo 08 f...</td>\n",
              "      <td>removing drill rod jumbo maintenance superviso...</td>\n",
              "    </tr>\n",
              "    <tr>\n",
              "      <th>1</th>\n",
              "      <td>1/2/2016 0:00</td>\n",
              "      <td>Country_02</td>\n",
              "      <td>Local_02</td>\n",
              "      <td>Mining</td>\n",
              "      <td>I</td>\n",
              "      <td>IV</td>\n",
              "      <td>Male</td>\n",
              "      <td>Employee</td>\n",
              "      <td>Pressurized Systems</td>\n",
              "      <td>During the activation of a sodium sulphide pum...</td>\n",
              "      <td>ing activation sodium sulphide pump piping unc...</td>\n",
              "    </tr>\n",
              "    <tr>\n",
              "      <th>2</th>\n",
              "      <td>1/6/2016 0:00</td>\n",
              "      <td>Country_01</td>\n",
              "      <td>Local_03</td>\n",
              "      <td>Mining</td>\n",
              "      <td>I</td>\n",
              "      <td>III</td>\n",
              "      <td>Male</td>\n",
              "      <td>Third Party (Remote)</td>\n",
              "      <td>Manual Tools</td>\n",
              "      <td>In the sub-station MILPO located at level +170...</td>\n",
              "      <td>sub station milpo located level collaborator e...</td>\n",
              "    </tr>\n",
              "  </tbody>\n",
              "</table>\n",
              "</div>"
            ],
            "text/plain": [
              "            Date  ...                                  clean_Description\n",
              "0  1/1/2016 0:00  ...  removing drill rod jumbo maintenance superviso...\n",
              "1  1/2/2016 0:00  ...  ing activation sodium sulphide pump piping unc...\n",
              "2  1/6/2016 0:00  ...  sub station milpo located level collaborator e...\n",
              "\n",
              "[3 rows x 11 columns]"
            ]
          },
          "metadata": {
            "tags": []
          },
          "execution_count": 10
        }
      ]
    },
    {
      "cell_type": "code",
      "metadata": {
        "colab": {
          "base_uri": "https://localhost:8080/",
          "height": 306
        },
        "id": "Bem-vGEcVk5L",
        "outputId": "7b0e3d46-4d85-4dfa-b9e7-4aaa39f22e44"
      },
      "source": [
        "data.drop('Description', axis=1, inplace=True)\n",
        "data.rename(columns={'clean_Description':'Description'}, inplace=True)\n",
        "data.head()"
      ],
      "execution_count": 11,
      "outputs": [
        {
          "output_type": "execute_result",
          "data": {
            "text/html": [
              "<div>\n",
              "<style scoped>\n",
              "    .dataframe tbody tr th:only-of-type {\n",
              "        vertical-align: middle;\n",
              "    }\n",
              "\n",
              "    .dataframe tbody tr th {\n",
              "        vertical-align: top;\n",
              "    }\n",
              "\n",
              "    .dataframe thead th {\n",
              "        text-align: right;\n",
              "    }\n",
              "</style>\n",
              "<table border=\"1\" class=\"dataframe\">\n",
              "  <thead>\n",
              "    <tr style=\"text-align: right;\">\n",
              "      <th></th>\n",
              "      <th>Date</th>\n",
              "      <th>Country</th>\n",
              "      <th>Local</th>\n",
              "      <th>Industry Sector</th>\n",
              "      <th>AccLevel</th>\n",
              "      <th>Potential Accident Level</th>\n",
              "      <th>Gender</th>\n",
              "      <th>Employee type</th>\n",
              "      <th>Critical Risk</th>\n",
              "      <th>Description</th>\n",
              "    </tr>\n",
              "  </thead>\n",
              "  <tbody>\n",
              "    <tr>\n",
              "      <th>0</th>\n",
              "      <td>1/1/2016 0:00</td>\n",
              "      <td>Country_01</td>\n",
              "      <td>Local_01</td>\n",
              "      <td>Mining</td>\n",
              "      <td>I</td>\n",
              "      <td>IV</td>\n",
              "      <td>Male</td>\n",
              "      <td>Third Party</td>\n",
              "      <td>Pressed</td>\n",
              "      <td>removing drill rod jumbo maintenance superviso...</td>\n",
              "    </tr>\n",
              "    <tr>\n",
              "      <th>1</th>\n",
              "      <td>1/2/2016 0:00</td>\n",
              "      <td>Country_02</td>\n",
              "      <td>Local_02</td>\n",
              "      <td>Mining</td>\n",
              "      <td>I</td>\n",
              "      <td>IV</td>\n",
              "      <td>Male</td>\n",
              "      <td>Employee</td>\n",
              "      <td>Pressurized Systems</td>\n",
              "      <td>ing activation sodium sulphide pump piping unc...</td>\n",
              "    </tr>\n",
              "    <tr>\n",
              "      <th>2</th>\n",
              "      <td>1/6/2016 0:00</td>\n",
              "      <td>Country_01</td>\n",
              "      <td>Local_03</td>\n",
              "      <td>Mining</td>\n",
              "      <td>I</td>\n",
              "      <td>III</td>\n",
              "      <td>Male</td>\n",
              "      <td>Third Party (Remote)</td>\n",
              "      <td>Manual Tools</td>\n",
              "      <td>sub station milpo located level collaborator e...</td>\n",
              "    </tr>\n",
              "    <tr>\n",
              "      <th>3</th>\n",
              "      <td>1/8/2016 0:00</td>\n",
              "      <td>Country_01</td>\n",
              "      <td>Local_04</td>\n",
              "      <td>Mining</td>\n",
              "      <td>I</td>\n",
              "      <td>I</td>\n",
              "      <td>Male</td>\n",
              "      <td>Third Party</td>\n",
              "      <td>Others</td>\n",
              "      <td>approximately nv cx ob7 personnel begin task u...</td>\n",
              "    </tr>\n",
              "    <tr>\n",
              "      <th>4</th>\n",
              "      <td>1/10/2016 0:00</td>\n",
              "      <td>Country_01</td>\n",
              "      <td>Local_04</td>\n",
              "      <td>Mining</td>\n",
              "      <td>IV</td>\n",
              "      <td>IV</td>\n",
              "      <td>Male</td>\n",
              "      <td>Third Party</td>\n",
              "      <td>Others</td>\n",
              "      <td>approximately circumstance mechanic anthony gr...</td>\n",
              "    </tr>\n",
              "  </tbody>\n",
              "</table>\n",
              "</div>"
            ],
            "text/plain": [
              "             Date  ...                                        Description\n",
              "0   1/1/2016 0:00  ...  removing drill rod jumbo maintenance superviso...\n",
              "1   1/2/2016 0:00  ...  ing activation sodium sulphide pump piping unc...\n",
              "2   1/6/2016 0:00  ...  sub station milpo located level collaborator e...\n",
              "3   1/8/2016 0:00  ...  approximately nv cx ob7 personnel begin task u...\n",
              "4  1/10/2016 0:00  ...  approximately circumstance mechanic anthony gr...\n",
              "\n",
              "[5 rows x 10 columns]"
            ]
          },
          "metadata": {
            "tags": []
          },
          "execution_count": 11
        }
      ]
    },
    {
      "cell_type": "code",
      "metadata": {
        "id": "nY9qxHEyk_Aw"
      },
      "source": [
        "df = pd.DataFrame(data, columns=['AccLevel', 'Description'])\n",
        "df.AccLevel = df.AccLevel.astype('category')\n",
        "df_backup = df.copy()"
      ],
      "execution_count": 12,
      "outputs": []
    },
    {
      "cell_type": "code",
      "metadata": {
        "colab": {
          "base_uri": "https://localhost:8080/",
          "height": 204
        },
        "id": "iais94esKxZy",
        "outputId": "900504b4-cbc7-440c-ea21-94bb1bbc6c36"
      },
      "source": [
        "df.head()"
      ],
      "execution_count": 13,
      "outputs": [
        {
          "output_type": "execute_result",
          "data": {
            "text/html": [
              "<div>\n",
              "<style scoped>\n",
              "    .dataframe tbody tr th:only-of-type {\n",
              "        vertical-align: middle;\n",
              "    }\n",
              "\n",
              "    .dataframe tbody tr th {\n",
              "        vertical-align: top;\n",
              "    }\n",
              "\n",
              "    .dataframe thead th {\n",
              "        text-align: right;\n",
              "    }\n",
              "</style>\n",
              "<table border=\"1\" class=\"dataframe\">\n",
              "  <thead>\n",
              "    <tr style=\"text-align: right;\">\n",
              "      <th></th>\n",
              "      <th>AccLevel</th>\n",
              "      <th>Description</th>\n",
              "    </tr>\n",
              "  </thead>\n",
              "  <tbody>\n",
              "    <tr>\n",
              "      <th>0</th>\n",
              "      <td>I</td>\n",
              "      <td>removing drill rod jumbo maintenance superviso...</td>\n",
              "    </tr>\n",
              "    <tr>\n",
              "      <th>1</th>\n",
              "      <td>I</td>\n",
              "      <td>ing activation sodium sulphide pump piping unc...</td>\n",
              "    </tr>\n",
              "    <tr>\n",
              "      <th>2</th>\n",
              "      <td>I</td>\n",
              "      <td>sub station milpo located level collaborator e...</td>\n",
              "    </tr>\n",
              "    <tr>\n",
              "      <th>3</th>\n",
              "      <td>I</td>\n",
              "      <td>approximately nv cx ob7 personnel begin task u...</td>\n",
              "    </tr>\n",
              "    <tr>\n",
              "      <th>4</th>\n",
              "      <td>IV</td>\n",
              "      <td>approximately circumstance mechanic anthony gr...</td>\n",
              "    </tr>\n",
              "  </tbody>\n",
              "</table>\n",
              "</div>"
            ],
            "text/plain": [
              "  AccLevel                                        Description\n",
              "0        I  removing drill rod jumbo maintenance superviso...\n",
              "1        I  ing activation sodium sulphide pump piping unc...\n",
              "2        I  sub station milpo located level collaborator e...\n",
              "3        I  approximately nv cx ob7 personnel begin task u...\n",
              "4       IV  approximately circumstance mechanic anthony gr..."
            ]
          },
          "metadata": {
            "tags": []
          },
          "execution_count": 13
        }
      ]
    },
    {
      "cell_type": "code",
      "metadata": {
        "colab": {
          "base_uri": "https://localhost:8080/"
        },
        "id": "YH4PRyq6w5HA",
        "outputId": "362beb3c-310d-4a96-97f7-083d3c2d97ab"
      },
      "source": [
        "df.AccLevel.value_counts()"
      ],
      "execution_count": 14,
      "outputs": [
        {
          "output_type": "execute_result",
          "data": {
            "text/plain": [
              "I      316\n",
              "II      40\n",
              "III     31\n",
              "IV      30\n",
              "V        8\n",
              "Name: AccLevel, dtype: int64"
            ]
          },
          "metadata": {
            "tags": []
          },
          "execution_count": 14
        }
      ]
    },
    {
      "cell_type": "code",
      "metadata": {
        "id": "6XOhwNhRFTdq"
      },
      "source": [
        "# df_upsampled_backup = df_upsampled.copy()\n",
        "# df = df_upsampled.copy()"
      ],
      "execution_count": 15,
      "outputs": []
    },
    {
      "cell_type": "code",
      "metadata": {
        "id": "fqG9kpRSn6h6"
      },
      "source": [
        "# train_text = df_train['text'].tolist()\n",
        "# train_text = np.array(train_text, dtype=object)[:, np.newaxis]\n",
        "\n",
        "# train_label = np.asarray(pd.get_dummies(df_train.label), dtype = np.int8)"
      ],
      "execution_count": 16,
      "outputs": []
    },
    {
      "cell_type": "code",
      "metadata": {
        "id": "0QC9Bv0Np_2q"
      },
      "source": [
        "# split the data into train and test set\n",
        "trainval, df_test = train_test_split(df, test_size=0.2, random_state=42, shuffle=True)"
      ],
      "execution_count": 17,
      "outputs": []
    },
    {
      "cell_type": "code",
      "metadata": {
        "id": "9592SVmEqaub"
      },
      "source": [
        "# Split train into train-val\n",
        "df_train, val = train_test_split(trainval, test_size=0.1, random_state=21, shuffle=True)"
      ],
      "execution_count": 18,
      "outputs": []
    },
    {
      "cell_type": "code",
      "metadata": {
        "id": "CHnaTAEwKcel"
      },
      "source": [
        "from sklearn.utils import resample"
      ],
      "execution_count": 19,
      "outputs": []
    },
    {
      "cell_type": "code",
      "metadata": {
        "colab": {
          "base_uri": "https://localhost:8080/"
        },
        "id": "7631K8CRLK7N",
        "outputId": "0841e8f2-51f9-4f6d-f846-b482cb4838a6"
      },
      "source": [
        "df_train.AccLevel.value_counts()"
      ],
      "execution_count": 20,
      "outputs": [
        {
          "output_type": "execute_result",
          "data": {
            "text/plain": [
              "I      223\n",
              "II      29\n",
              "III     25\n",
              "IV      23\n",
              "V        6\n",
              "Name: AccLevel, dtype: int64"
            ]
          },
          "metadata": {
            "tags": []
          },
          "execution_count": 20
        }
      ]
    },
    {
      "cell_type": "code",
      "metadata": {
        "id": "6l00orcnKfJC"
      },
      "source": [
        "df_train_1 = df_train[df_train.AccLevel == \"I\"]\n",
        "df_train_2 = df_train[df_train.AccLevel == \"II\"]\n",
        "df_train_3 = df_train[df_train.AccLevel == \"III\"]\n",
        "df_train_4 = df_train[df_train.AccLevel == \"IV\"]\n",
        "df_train_5 = df_train[df_train.AccLevel == \"V\"]"
      ],
      "execution_count": 21,
      "outputs": []
    },
    {
      "cell_type": "code",
      "metadata": {
        "id": "auznVyt6KjEC"
      },
      "source": [
        "df_train_2_upsampled = resample(df_train_2, replace = True, n_samples = 223 , random_state = 123)\n",
        "df_train_3_upsampled = resample(df_train_3, replace = True, n_samples = 223 , random_state = 123)\n",
        "df_train_4_upsampled = resample(df_train_4, replace = True, n_samples = 223 , random_state = 123)\n",
        "df_train_5_upsampled = resample(df_train_5, replace = True, n_samples = 223 , random_state = 123)"
      ],
      "execution_count": 22,
      "outputs": []
    },
    {
      "cell_type": "code",
      "metadata": {
        "colab": {
          "base_uri": "https://localhost:8080/"
        },
        "id": "E2JJd9a_Kla7",
        "outputId": "9c485ceb-e486-499e-8032-1664c5cce775"
      },
      "source": [
        "df_train_upsampled = pd.concat([df_train_1, df_train_2_upsampled,df_train_3_upsampled, df_train_4_upsampled, df_train_5_upsampled ])\n",
        "df_train_upsampled.AccLevel.value_counts()"
      ],
      "execution_count": 23,
      "outputs": [
        {
          "output_type": "execute_result",
          "data": {
            "text/plain": [
              "V      223\n",
              "IV     223\n",
              "III    223\n",
              "II     223\n",
              "I      223\n",
              "Name: AccLevel, dtype: int64"
            ]
          },
          "metadata": {
            "tags": []
          },
          "execution_count": 23
        }
      ]
    },
    {
      "cell_type": "code",
      "metadata": {
        "colab": {
          "base_uri": "https://localhost:8080/"
        },
        "id": "d-pQ-I94LwUf",
        "outputId": "bf00e3bf-bd70-4628-db12-74d78abeceff"
      },
      "source": [
        "df_train_upsampled_bkup = df_train_upsampled.copy()\n",
        "df_train_upsampled_bkup.AccLevel.value_counts()"
      ],
      "execution_count": 24,
      "outputs": [
        {
          "output_type": "execute_result",
          "data": {
            "text/plain": [
              "V      223\n",
              "IV     223\n",
              "III    223\n",
              "II     223\n",
              "I      223\n",
              "Name: AccLevel, dtype: int64"
            ]
          },
          "metadata": {
            "tags": []
          },
          "execution_count": 24
        }
      ]
    },
    {
      "cell_type": "code",
      "metadata": {
        "id": "xl-36iAJL4jp"
      },
      "source": [
        "df_train = df_train_upsampled.copy()"
      ],
      "execution_count": 25,
      "outputs": []
    },
    {
      "cell_type": "code",
      "metadata": {
        "id": "P50uxrkJrwHG"
      },
      "source": [
        "#train_label"
      ],
      "execution_count": 26,
      "outputs": []
    },
    {
      "cell_type": "code",
      "metadata": {
        "id": "IGOfSRpvsac8",
        "colab": {
          "base_uri": "https://localhost:8080/"
        },
        "outputId": "ef16edba-b7b5-4ae0-fa21-f9b7c1ef1d85"
      },
      "source": [
        "%tensorflow_version 1.x\n",
        "\n",
        "import tensorflow as tf\n",
        "import tensorflow_hub as hub\n",
        "from tensorflow.keras.callbacks import EarlyStopping, ModelCheckpoint, ReduceLROnPlateau\n",
        "import seaborn as sns\n",
        "from tensorflow import keras\n",
        "import keras.layers as layers\n",
        "from keras.models import Model\n",
        "from keras import backend as K\n",
        "\n",
        "np.random.seed(10)"
      ],
      "execution_count": 27,
      "outputs": [
        {
          "output_type": "stream",
          "text": [
            "TensorFlow 1.x selected.\n"
          ],
          "name": "stdout"
        },
        {
          "output_type": "stream",
          "text": [
            "Using TensorFlow backend.\n"
          ],
          "name": "stderr"
        }
      ]
    },
    {
      "cell_type": "code",
      "metadata": {
        "id": "jnK5mkUbr9zE"
      },
      "source": [
        "module_url = \"https://tfhub.dev/google/universal-sentence-encoder-large/3\" #@param [\"https://tfhub.dev/google/universal-sentence-encoder/2\", \"https://tfhub.dev/google/universal-sentence-encoder-large/3\"]"
      ],
      "execution_count": 28,
      "outputs": []
    },
    {
      "cell_type": "code",
      "metadata": {
        "id": "GVSVrnBnsDff"
      },
      "source": [
        "# Import the Universal Sentence Encoder's TF Hub module\n",
        "embed = hub.Module(module_url)"
      ],
      "execution_count": 29,
      "outputs": []
    },
    {
      "cell_type": "code",
      "metadata": {
        "colab": {
          "base_uri": "https://localhost:8080/"
        },
        "id": "lkM7N__KtUGx",
        "outputId": "aa144e03-3147-47f1-de10-65405a7f2c74"
      },
      "source": [
        "# Compute a representation for each message, showing various lengths supported.\n",
        "word = \"Elephant\"\n",
        "sentence = \"I am a sentence for which I would like to get its embedding.\"\n",
        "paragraph = (\n",
        "    \"Universal Sentence Encoder embeddings also support short paragraphs. \"\n",
        "    \"There is no hard limit on how long the paragraph is. Roughly, the longer \"\n",
        "    \"the more 'diluted' the embedding will be.\")\n",
        "messages = [word, sentence, paragraph]\n",
        "\n",
        "# Reduce logging output.\n",
        "tf.logging.set_verbosity(tf.logging.ERROR)\n",
        "\n",
        "with tf.Session() as session:\n",
        "  session.run([tf.global_variables_initializer(), tf.tables_initializer()])\n",
        "  message_embeddings = session.run(embed(messages))\n",
        "\n",
        "  for i, message_embedding in enumerate(np.array(message_embeddings).tolist()):\n",
        "    print(\"Message: {}\".format(messages[i]))\n",
        "    print(\"Embedding size: {}\".format(len(message_embedding)))\n",
        "    message_embedding_snippet = \", \".join(\n",
        "        (str(x) for x in message_embedding[:3]))\n",
        "    print(\"Embedding: [{}, ...]\\n\".format(message_embedding_snippet))\n",
        " "
      ],
      "execution_count": 30,
      "outputs": [
        {
          "output_type": "stream",
          "text": [
            "Message: Elephant\n",
            "Embedding size: 512\n",
            "Embedding: [0.04498475790023804, -0.057433921843767166, 0.002211492508649826, ...]\n",
            "\n",
            "Message: I am a sentence for which I would like to get its embedding.\n",
            "Embedding size: 512\n",
            "Embedding: [0.055680178105831146, -0.00960793811827898, 0.00624628784134984, ...]\n",
            "\n",
            "Message: Universal Sentence Encoder embeddings also support short paragraphs. There is no hard limit on how long the paragraph is. Roughly, the longer the more 'diluted' the embedding will be.\n",
            "Embedding size: 512\n",
            "Embedding: [0.03874940052628517, 0.0765201598405838, -0.0007945735123939812, ...]\n",
            "\n"
          ],
          "name": "stdout"
        }
      ]
    },
    {
      "cell_type": "code",
      "metadata": {
        "colab": {
          "base_uri": "https://localhost:8080/"
        },
        "id": "nRvNMm-QtZWS",
        "outputId": "e3dd2bc2-6229-4218-daee-ee92699a229b"
      },
      "source": [
        "# Compute a representation for each message, showing various lengths supported.\n",
        "messages = [\"That band rocks!\", \"That song is really cool.\"]\n",
        "\n",
        "with tf.Session() as session:\n",
        "  session.run([tf.global_variables_initializer(), tf.tables_initializer()])\n",
        "  message_embeddings = session.run(embed(messages))\n",
        "message_embeddings"
      ],
      "execution_count": 31,
      "outputs": [
        {
          "output_type": "execute_result",
          "data": {
            "text/plain": [
              "array([[ 0.00341094, -0.03811169, -0.01249461, ..., -0.03188569,\n",
              "         0.03693526, -0.04350927],\n",
              "       [ 0.00599075, -0.03070364,  0.02946818, ..., -0.0187422 ,\n",
              "         0.05244367,  0.01933832]], dtype=float32)"
            ]
          },
          "metadata": {
            "tags": []
          },
          "execution_count": 31
        }
      ]
    },
    {
      "cell_type": "code",
      "metadata": {
        "colab": {
          "base_uri": "https://localhost:8080/"
        },
        "id": "buXiF33etbA3",
        "outputId": "d0e5b118-c32b-4614-dae1-7c7aad52ae96"
      },
      "source": [
        "embed_size = embed.get_output_info_dict()['default'].get_shape()[1].value\n",
        "embed_size"
      ],
      "execution_count": 32,
      "outputs": [
        {
          "output_type": "execute_result",
          "data": {
            "text/plain": [
              "512"
            ]
          },
          "metadata": {
            "tags": []
          },
          "execution_count": 32
        }
      ]
    },
    {
      "cell_type": "code",
      "metadata": {
        "colab": {
          "base_uri": "https://localhost:8080/"
        },
        "id": "6doa91zCtffK",
        "outputId": "11807ecc-442c-41b9-8c55-717ca3bcf7ef"
      },
      "source": [
        "category_counts = len(df_train.AccLevel.cat.categories)\n",
        "category_counts"
      ],
      "execution_count": 33,
      "outputs": [
        {
          "output_type": "execute_result",
          "data": {
            "text/plain": [
              "5"
            ]
          },
          "metadata": {
            "tags": []
          },
          "execution_count": 33
        }
      ]
    },
    {
      "cell_type": "code",
      "metadata": {
        "colab": {
          "base_uri": "https://localhost:8080/"
        },
        "id": "f1SFqQzmtyti",
        "outputId": "10373dfb-78f6-4cdf-8bca-f273e8ecfbff"
      },
      "source": [
        "train_text = df_train['Description'].tolist()\n",
        "train_text = np.array(train_text, dtype=object)[:, np.newaxis]\n",
        "\n",
        "train_label = np.asarray(pd.get_dummies(df_train.AccLevel), dtype = np.int8)\n",
        "train_label[8]\n"
      ],
      "execution_count": 34,
      "outputs": [
        {
          "output_type": "execute_result",
          "data": {
            "text/plain": [
              "array([1, 0, 0, 0, 0], dtype=int8)"
            ]
          },
          "metadata": {
            "tags": []
          },
          "execution_count": 34
        }
      ]
    },
    {
      "cell_type": "code",
      "metadata": {
        "colab": {
          "base_uri": "https://localhost:8080/"
        },
        "id": "Wp7aHsFst0xF",
        "outputId": "a9494443-d769-487f-e112-09ae3a9ddc9c"
      },
      "source": [
        "train_text.shape"
      ],
      "execution_count": 35,
      "outputs": [
        {
          "output_type": "execute_result",
          "data": {
            "text/plain": [
              "(1115, 1)"
            ]
          },
          "metadata": {
            "tags": []
          },
          "execution_count": 35
        }
      ]
    },
    {
      "cell_type": "code",
      "metadata": {
        "colab": {
          "base_uri": "https://localhost:8080/"
        },
        "id": "0Pdy9jUdt1xb",
        "outputId": "98ba30ba-e820-4d08-ecc2-f5662151d381"
      },
      "source": [
        "train_label.shape"
      ],
      "execution_count": 36,
      "outputs": [
        {
          "output_type": "execute_result",
          "data": {
            "text/plain": [
              "(1115, 5)"
            ]
          },
          "metadata": {
            "tags": []
          },
          "execution_count": 36
        }
      ]
    },
    {
      "cell_type": "code",
      "metadata": {
        "colab": {
          "base_uri": "https://localhost:8080/"
        },
        "id": "IgPbOXvTt4Kj",
        "outputId": "5c78bb4a-1b2e-4d0c-da91-0ffe7ea56db5"
      },
      "source": [
        "train_label[:3]"
      ],
      "execution_count": 37,
      "outputs": [
        {
          "output_type": "execute_result",
          "data": {
            "text/plain": [
              "array([[1, 0, 0, 0, 0],\n",
              "       [1, 0, 0, 0, 0],\n",
              "       [1, 0, 0, 0, 0]], dtype=int8)"
            ]
          },
          "metadata": {
            "tags": []
          },
          "execution_count": 37
        }
      ]
    },
    {
      "cell_type": "code",
      "metadata": {
        "colab": {
          "base_uri": "https://localhost:8080/"
        },
        "id": "EHBPp3obt8Ul",
        "outputId": "5d9dd931-6e5c-4841-ebd1-9ac906b66fa0"
      },
      "source": [
        "test_text = df_test['Description'].tolist()\n",
        "test_text = np.array(test_text, dtype=object)[:, np.newaxis]\n",
        "test_label = np.asarray(pd.get_dummies(df_test.AccLevel), dtype = np.int8)\n",
        "test_label[:3]"
      ],
      "execution_count": 38,
      "outputs": [
        {
          "output_type": "execute_result",
          "data": {
            "text/plain": [
              "array([[1, 0, 0, 0, 0],\n",
              "       [1, 0, 0, 0, 0],\n",
              "       [1, 0, 0, 0, 0]], dtype=int8)"
            ]
          },
          "metadata": {
            "tags": []
          },
          "execution_count": 38
        }
      ]
    },
    {
      "cell_type": "code",
      "metadata": {
        "colab": {
          "base_uri": "https://localhost:8080/"
        },
        "id": "uDZFD1aKzM2_",
        "outputId": "4a1f478e-2b3a-4db9-e254-bad8d7857bcc"
      },
      "source": [
        "val_text = val[\"Description\"].tolist()\n",
        "val_text = np.array(val_text, dtype=object)[:, np.newaxis]\n",
        "val_label = np.asarray(pd.get_dummies(val.AccLevel), dtype = np.int8)\n",
        "val_label[:3]"
      ],
      "execution_count": 39,
      "outputs": [
        {
          "output_type": "execute_result",
          "data": {
            "text/plain": [
              "array([[0, 1, 0, 0, 0],\n",
              "       [0, 0, 0, 1, 0],\n",
              "       [0, 1, 0, 0, 0]], dtype=int8)"
            ]
          },
          "metadata": {
            "tags": []
          },
          "execution_count": 39
        }
      ]
    },
    {
      "cell_type": "code",
      "metadata": {
        "id": "nnfF8Bylrz2J"
      },
      "source": [
        "def UniversalEmbedding(x):\n",
        "    return embed(tf.squeeze(tf.cast(x, tf.string)), signature=\"default\", as_dict=True)[\"default\"]"
      ],
      "execution_count": 40,
      "outputs": []
    },
    {
      "cell_type": "code",
      "metadata": {
        "id": "2QKe9Ey4pdC3"
      },
      "source": [
        "from keras.layers import Input, LSTM, Dense, Activation, Dropout,Embedding\n",
        "from tensorflow.keras.layers import Flatten, Dense\n"
      ],
      "execution_count": 41,
      "outputs": []
    },
    {
      "cell_type": "code",
      "metadata": {
        "colab": {
          "base_uri": "https://localhost:8080/"
        },
        "id": "q_WCKsrdbGir",
        "outputId": "59307526-d45b-40b0-bbb0-84fad340cc76"
      },
      "source": [
        "!pip install keras-self-attention"
      ],
      "execution_count": 42,
      "outputs": [
        {
          "output_type": "stream",
          "text": [
            "Collecting keras-self-attention\n",
            "  Downloading https://files.pythonhosted.org/packages/c3/34/e21dc6adcdab2be03781bde78c6c5d2b2136d35a1dd3e692d7e160ba062a/keras-self-attention-0.49.0.tar.gz\n",
            "Requirement already satisfied: numpy in /usr/local/lib/python3.7/dist-packages (from keras-self-attention) (1.19.5)\n",
            "Requirement already satisfied: Keras in /tensorflow-1.15.2/python3.7 (from keras-self-attention) (2.3.1)\n",
            "Requirement already satisfied: scipy>=0.14 in /usr/local/lib/python3.7/dist-packages (from Keras->keras-self-attention) (1.4.1)\n",
            "Requirement already satisfied: pyyaml in /usr/local/lib/python3.7/dist-packages (from Keras->keras-self-attention) (3.13)\n",
            "Requirement already satisfied: h5py in /usr/local/lib/python3.7/dist-packages (from Keras->keras-self-attention) (2.10.0)\n",
            "Requirement already satisfied: six>=1.9.0 in /usr/local/lib/python3.7/dist-packages (from Keras->keras-self-attention) (1.15.0)\n",
            "Requirement already satisfied: keras-applications>=1.0.6 in /tensorflow-1.15.2/python3.7 (from Keras->keras-self-attention) (1.0.8)\n",
            "Requirement already satisfied: keras-preprocessing>=1.0.5 in /usr/local/lib/python3.7/dist-packages (from Keras->keras-self-attention) (1.1.2)\n",
            "Building wheels for collected packages: keras-self-attention\n",
            "  Building wheel for keras-self-attention (setup.py) ... \u001b[?25l\u001b[?25hdone\n",
            "  Created wheel for keras-self-attention: filename=keras_self_attention-0.49.0-cp37-none-any.whl size=19468 sha256=a671000ad0003f9f6fea648183e9b663bfb7d981f11dbd893f26367d77d03aa6\n",
            "  Stored in directory: /root/.cache/pip/wheels/6f/9d/c5/26693a5092d9313daeae94db04818fc0a2b7a48ea381989f34\n",
            "Successfully built keras-self-attention\n",
            "Installing collected packages: keras-self-attention\n",
            "Successfully installed keras-self-attention-0.49.0\n"
          ],
          "name": "stdout"
        }
      ]
    },
    {
      "cell_type": "code",
      "metadata": {
        "id": "NcnhmBqibJOU"
      },
      "source": [
        "#from keras_self_attention import SeqSelfAttention"
      ],
      "execution_count": 43,
      "outputs": []
    },
    {
      "cell_type": "markdown",
      "metadata": {
        "id": "MboOV0HTtdp2"
      },
      "source": [
        "https://stackoverflow.com/questions/60809068/error-output-of-the-tf-hub-layers-embedding-with-conv-or-rnn\n",
        "https://stackoverflow.com/questions/42918446/how-to-add-an-attention-mechanism-in-keras?answertab=votes#tab-top\n"
      ]
    },
    {
      "cell_type": "code",
      "metadata": {
        "colab": {
          "base_uri": "https://localhost:8080/"
        },
        "id": "YM9ExLJPr2JL",
        "outputId": "9da97b54-06c4-4ddf-e90b-9caf4c0cade7"
      },
      "source": [
        "input_text = layers.Input(shape=(1,), dtype=tf.string)\n",
        "print(input_text.shape)\n",
        "embedding = layers.Lambda(UniversalEmbedding,output_shape=(embed_size,))(input_text)\n",
        "print(embedding.shape)\n",
        "reshape = layers.Reshape(target_shape=(1, 512 ))(embedding)\n",
        "print(reshape.shape)\n",
        "lstm=LSTM(units=128,return_sequences=False)(reshape)\n",
        "#attn = SeqSelfAttention(attention_activation='softmax')(lstm)\n",
        "attn = (Activation(\"softmax\"))(lstm)\n",
        "dense = layers.Dense(256, activation='relu')(attn)\n",
        "print(dense.shape)\n",
        "\n",
        "pred = layers.Dense(category_counts, activation='softmax')(dense)\n",
        "model = Model(inputs=[input_text], outputs=pred)\n",
        "#model.compile(loss='categorical_crossentropy', optimizer='adam', metrics=['accuracy'])  \n",
        "model.compile(loss='categorical_crossentropy', optimizer='adam', metrics=['categorical_accuracy'])"
      ],
      "execution_count": 44,
      "outputs": [
        {
          "output_type": "stream",
          "text": [
            "(?, 1)\n",
            "(?, 512)\n",
            "(?, 1, 512)\n",
            "(?, 256)\n"
          ],
          "name": "stdout"
        }
      ]
    },
    {
      "cell_type": "code",
      "metadata": {
        "colab": {
          "base_uri": "https://localhost:8080/"
        },
        "id": "9sB_8mmptm1o",
        "outputId": "41781e78-690c-499f-ee76-5da1921aee27"
      },
      "source": [
        "model.summary()"
      ],
      "execution_count": 45,
      "outputs": [
        {
          "output_type": "stream",
          "text": [
            "Model: \"model_1\"\n",
            "_________________________________________________________________\n",
            "Layer (type)                 Output Shape              Param #   \n",
            "=================================================================\n",
            "input_1 (InputLayer)         (None, 1)                 0         \n",
            "_________________________________________________________________\n",
            "lambda_1 (Lambda)            (None, 512)               0         \n",
            "_________________________________________________________________\n",
            "reshape_1 (Reshape)          (None, 1, 512)            0         \n",
            "_________________________________________________________________\n",
            "lstm_1 (LSTM)                (None, 128)               328192    \n",
            "_________________________________________________________________\n",
            "activation_1 (Activation)    (None, 128)               0         \n",
            "_________________________________________________________________\n",
            "dense_1 (Dense)              (None, 256)               33024     \n",
            "_________________________________________________________________\n",
            "dense_2 (Dense)              (None, 5)                 1285      \n",
            "=================================================================\n",
            "Total params: 362,501\n",
            "Trainable params: 362,501\n",
            "Non-trainable params: 0\n",
            "_________________________________________________________________\n"
          ],
          "name": "stdout"
        }
      ]
    },
    {
      "cell_type": "code",
      "metadata": {
        "colab": {
          "base_uri": "https://localhost:8080/",
          "height": 754
        },
        "id": "w7bjR9KIq4Gw",
        "outputId": "30b2f49c-05ef-4b40-c590-ab37b579aa24"
      },
      "source": [
        "tf.keras.utils.plot_model(model, show_shapes = True)"
      ],
      "execution_count": 46,
      "outputs": [
        {
          "output_type": "execute_result",
          "data": {
            "image/png": "[encoded data removed]",
            "text/plain": [
              "<IPython.core.display.Image object>"
            ]
          },
          "metadata": {
            "tags": []
          },
          "execution_count": 46
        }
      ]
    },
    {
      "cell_type": "code",
      "metadata": {
        "id": "s7EOsmMgV_y_"
      },
      "source": [
        "#from keras.callbacks import Callback\n",
        "#https://github.com/keras-team/keras/issues/4962"
      ],
      "execution_count": 47,
      "outputs": []
    },
    {
      "cell_type": "code",
      "metadata": {
        "colab": {
          "base_uri": "https://localhost:8080/"
        },
        "id": "-pcf1RpmuKtx",
        "outputId": "e88b3e37-5f70-40c2-e511-0049493c8c7a"
      },
      "source": [
        "with tf.Session() as session:\n",
        "  K.set_session(session)\n",
        "  session.run(tf.global_variables_initializer())\n",
        "  session.run(tf.tables_initializer())\n",
        "  # Adding callbacks\n",
        "  es = EarlyStopping(monitor = 'val_loss', mode = 'min', verbose = 1, patience = 10)  \n",
        "  #mc = ModelCheckpoint('sarcasm_detector.h5', monitor = 'val_loss', mode = 'min', save_best_only = True, verbose = 1)\n",
        "  #logdir = 'log'; tb = TensorBoard(logdir, histogram_freq = 1)\n",
        "  #lr_r = ReduceLROnPlateau(monitor = 'val_loss', factor = 0.1, patience = 5)\n",
        "  \n",
        "  callbacks = [es] #mc, lr_r] #https://stackoverflow.com/questions/58030543/list-of-keras-callbacks-generates-error-tuple-object-has-no-attribute-set-mo\n",
        "  \n",
        "  h = model.fit(train_text, train_label, validation_data=(val_text, val_label), epochs=30, batch_size=32, callbacks = callbacks)\n",
        "  model.save_weights('./model_attn.h5')"
      ],
      "execution_count": 48,
      "outputs": [
        {
          "output_type": "stream",
          "text": [
            "Train on 1115 samples, validate on 34 samples\n",
            "Epoch 1/30\n",
            "1115/1115 [==============================] - 44s 40ms/step - loss: 1.6108 - categorical_accuracy: 0.1839 - val_loss: 1.6039 - val_categorical_accuracy: 0.0000e+00\n",
            "Epoch 2/30\n",
            "1115/1115 [==============================] - 42s 38ms/step - loss: 1.6097 - categorical_accuracy: 0.1910 - val_loss: 1.6108 - val_categorical_accuracy: 0.1765\n",
            "Epoch 3/30\n",
            "1115/1115 [==============================] - 42s 38ms/step - loss: 1.6098 - categorical_accuracy: 0.1964 - val_loss: 1.6164 - val_categorical_accuracy: 0.0882\n",
            "Epoch 4/30\n",
            "1115/1115 [==============================] - 42s 38ms/step - loss: 1.6092 - categorical_accuracy: 0.1892 - val_loss: 1.6025 - val_categorical_accuracy: 0.7353\n",
            "Epoch 5/30\n",
            "1115/1115 [==============================] - 42s 38ms/step - loss: 1.6090 - categorical_accuracy: 0.2260 - val_loss: 1.6089 - val_categorical_accuracy: 0.1471\n",
            "Epoch 6/30\n",
            "1115/1115 [==============================] - 42s 37ms/step - loss: 1.6078 - categorical_accuracy: 0.3058 - val_loss: 1.6081 - val_categorical_accuracy: 0.2059\n",
            "Epoch 7/30\n",
            "1115/1115 [==============================] - 42s 38ms/step - loss: 1.6047 - categorical_accuracy: 0.3677 - val_loss: 1.6032 - val_categorical_accuracy: 0.4706\n",
            "Epoch 8/30\n",
            "1115/1115 [==============================] - 42s 38ms/step - loss: 1.5964 - categorical_accuracy: 0.4027 - val_loss: 1.6031 - val_categorical_accuracy: 0.2059\n",
            "Epoch 9/30\n",
            "1115/1115 [==============================] - 42s 38ms/step - loss: 1.5705 - categorical_accuracy: 0.3919 - val_loss: 1.5847 - val_categorical_accuracy: 0.1471\n",
            "Epoch 10/30\n",
            "1115/1115 [==============================] - 42s 38ms/step - loss: 1.5049 - categorical_accuracy: 0.4359 - val_loss: 1.4765 - val_categorical_accuracy: 0.2353\n",
            "Epoch 11/30\n",
            "1115/1115 [==============================] - 42s 38ms/step - loss: 1.4041 - categorical_accuracy: 0.4224 - val_loss: 1.4511 - val_categorical_accuracy: 0.2059\n",
            "Epoch 12/30\n",
            "1115/1115 [==============================] - 42s 38ms/step - loss: 1.3021 - categorical_accuracy: 0.4709 - val_loss: 1.3408 - val_categorical_accuracy: 0.2059\n",
            "Epoch 13/30\n",
            "1115/1115 [==============================] - 42s 38ms/step - loss: 1.2152 - categorical_accuracy: 0.5220 - val_loss: 1.3366 - val_categorical_accuracy: 0.1471\n",
            "Epoch 14/30\n",
            "1115/1115 [==============================] - 42s 38ms/step - loss: 1.1444 - categorical_accuracy: 0.5650 - val_loss: 1.3291 - val_categorical_accuracy: 0.2059\n",
            "Epoch 15/30\n",
            "1115/1115 [==============================] - 42s 38ms/step - loss: 1.0812 - categorical_accuracy: 0.5991 - val_loss: 1.3310 - val_categorical_accuracy: 0.1765\n",
            "Epoch 16/30\n",
            "1115/1115 [==============================] - 42s 38ms/step - loss: 1.0257 - categorical_accuracy: 0.6197 - val_loss: 1.3426 - val_categorical_accuracy: 0.2059\n",
            "Epoch 17/30\n",
            "1115/1115 [==============================] - 42s 37ms/step - loss: 0.9799 - categorical_accuracy: 0.6413 - val_loss: 1.3084 - val_categorical_accuracy: 0.2353\n",
            "Epoch 18/30\n",
            "1115/1115 [==============================] - 42s 38ms/step - loss: 0.9281 - categorical_accuracy: 0.6771 - val_loss: 1.3573 - val_categorical_accuracy: 0.1471\n",
            "Epoch 19/30\n",
            "1115/1115 [==============================] - 42s 38ms/step - loss: 0.8842 - categorical_accuracy: 0.6709 - val_loss: 1.3347 - val_categorical_accuracy: 0.1765\n",
            "Epoch 20/30\n",
            "1115/1115 [==============================] - 42s 38ms/step - loss: 0.8417 - categorical_accuracy: 0.6744 - val_loss: 1.3715 - val_categorical_accuracy: 0.1765\n",
            "Epoch 21/30\n",
            "1115/1115 [==============================] - 42s 38ms/step - loss: 0.8039 - categorical_accuracy: 0.6852 - val_loss: 1.3610 - val_categorical_accuracy: 0.1765\n",
            "Epoch 22/30\n",
            "1115/1115 [==============================] - 42s 38ms/step - loss: 0.7639 - categorical_accuracy: 0.7013 - val_loss: 1.3455 - val_categorical_accuracy: 0.2059\n",
            "Epoch 23/30\n",
            "1115/1115 [==============================] - 42s 38ms/step - loss: 0.7300 - categorical_accuracy: 0.7112 - val_loss: 1.4091 - val_categorical_accuracy: 0.2059\n",
            "Epoch 24/30\n",
            "1115/1115 [==============================] - 42s 38ms/step - loss: 0.6971 - categorical_accuracy: 0.7229 - val_loss: 1.4121 - val_categorical_accuracy: 0.2647\n",
            "Epoch 25/30\n",
            "1115/1115 [==============================] - 42s 38ms/step - loss: 0.6731 - categorical_accuracy: 0.7256 - val_loss: 1.4115 - val_categorical_accuracy: 0.2647\n",
            "Epoch 26/30\n",
            "1115/1115 [==============================] - 42s 38ms/step - loss: 0.6408 - categorical_accuracy: 0.7345 - val_loss: 1.4098 - val_categorical_accuracy: 0.1765\n",
            "Epoch 27/30\n",
            "1115/1115 [==============================] - 42s 38ms/step - loss: 0.6156 - categorical_accuracy: 0.7426 - val_loss: 1.3779 - val_categorical_accuracy: 0.2059\n",
            "Epoch 00027: early stopping\n"
          ],
          "name": "stdout"
        }
      ]
    },
    {
      "cell_type": "code",
      "metadata": {
        "id": "JoAzrkXBsZye"
      },
      "source": [
        "with tf.Session() as session:\n",
        "  K.set_session(session)\n",
        "  session.run(tf.global_variables_initializer())\n",
        "  model.save_weights('./model_attn.h5')"
      ],
      "execution_count": 57,
      "outputs": []
    },
    {
      "cell_type": "code",
      "metadata": {
        "id": "lvmHUzXWRiKA"
      },
      "source": [
        "# print(type(callbacks))\n",
        "# print(type(es))\n",
        "# print(type(lr_r))\n",
        "# print(type(mc))"
      ],
      "execution_count": 49,
      "outputs": []
    },
    {
      "cell_type": "code",
      "metadata": {
        "id": "xP0Y0xBxZWqW"
      },
      "source": [
        "# from keras import metrics\n",
        "# keras.metrics.categorical_accuracy(train_label, y_pred)"
      ],
      "execution_count": 50,
      "outputs": []
    },
    {
      "cell_type": "code",
      "metadata": {
        "id": "HKbfPH1IxYQH",
        "colab": {
          "base_uri": "https://localhost:8080/",
          "height": 504
        },
        "outputId": "5c6aae51-2a10-4e1e-8499-ea1c334de9d1"
      },
      "source": [
        "f, (ax1, ax2) = plt.subplots(1, 2, figsize = (15, 7.2))\n",
        "f.suptitle('Training & Testing Loss')\n",
        "\n",
        "ax1.plot(h.history['loss'], 'go-' , label = 'Train')\n",
        "ax1.plot(h.history['val_loss'],  'ro-' , label = 'Test')\n",
        "ax1.set_title('Model Loss')\n",
        "ax1.legend(['Train', 'Test'])\n",
        "ax1.set_xlabel(\"Epochs\")\n",
        "ax1.set_ylabel(\"Loss\")\n",
        "\n",
        "ax2.plot(h.history['categorical_accuracy'], 'go-', label = 'Train')\n",
        "ax2.plot(h.history['val_categorical_accuracy'], 'ro-' , label = 'Test')\n",
        "ax2.set_title('Model Accuracy')\n",
        "ax2.legend(['Train', 'Test'])\n",
        "ax2.set_xlabel(\"Epochs\")\n",
        "ax2.set_ylabel(\"Accuracy\")\n",
        "\n",
        "plt.show()"
      ],
      "execution_count": 58,
      "outputs": [
        {
          "output_type": "display_data",
          "data": {
            "image/png": "[encoded data removed]",
            "text/plain": [
              "<Figure size 1080x518.4 with 2 Axes>"
            ]
          },
          "metadata": {
            "tags": [],
            "needs_background": "light"
          }
        }
      ]
    },
    {
      "cell_type": "code",
      "metadata": {
        "colab": {
          "base_uri": "https://localhost:8080/"
        },
        "id": "OuCtMq_bxzUB",
        "outputId": "845938df-9332-471a-a490-19cbeba2ea06"
      },
      "source": [
        "# Evaluate the model\n",
        "with tf.Session() as session:\n",
        "  K.set_session(session)\n",
        "  session.run(tf.global_variables_initializer())\n",
        "  session.run(tf.tables_initializer())\n",
        "  loss, categorical_accuracy = model.evaluate(test_text, test_label, verbose = 0)\n",
        "  print('Overall Accuracy: {}'.format(categorical_accuracy * 100))\n",
        "  #Predict using model\n",
        "  y_pred = (model.predict(test_text) > 0.5).astype('int32')\n",
        "  print(f'Classification Report:\\n{classification_report(y_pred, test_label)}')"
      ],
      "execution_count": 59,
      "outputs": [
        {
          "output_type": "stream",
          "text": [
            "Overall Accuracy: 4.70588244497776\n",
            "Classification Report:\n",
            "              precision    recall  f1-score   support\n",
            "\n",
            "           0       0.00      0.00      0.00         0\n",
            "           1       0.00      0.00      0.00         0\n",
            "           2       0.00      0.00      0.00         0\n",
            "           3       0.00      0.00      0.00         0\n",
            "           4       0.00      0.00      0.00         0\n",
            "\n",
            "   micro avg       0.00      0.00      0.00         0\n",
            "   macro avg       0.00      0.00      0.00         0\n",
            "weighted avg       0.00      0.00      0.00         0\n",
            " samples avg       0.00      0.00      0.00         0\n",
            "\n"
          ],
          "name": "stdout"
        },
        {
          "output_type": "stream",
          "text": [
            "/usr/local/lib/python3.7/dist-packages/sklearn/metrics/_classification.py:1272: UndefinedMetricWarning: Recall and F-score are ill-defined and being set to 0.0 in labels with no true samples. Use `zero_division` parameter to control this behavior.\n",
            "  _warn_prf(average, modifier, msg_start, len(result))\n",
            "/usr/local/lib/python3.7/dist-packages/sklearn/metrics/_classification.py:1272: UndefinedMetricWarning: Recall and F-score are ill-defined and being set to 0.0 due to no true samples. Use `zero_division` parameter to control this behavior.\n",
            "  _warn_prf(average, modifier, msg_start, len(result))\n",
            "/usr/local/lib/python3.7/dist-packages/sklearn/metrics/_classification.py:1272: UndefinedMetricWarning: Recall and F-score are ill-defined and being set to 0.0 in samples with no true labels. Use `zero_division` parameter to control this behavior.\n",
            "  _warn_prf(average, modifier, msg_start, len(result))\n"
          ],
          "name": "stderr"
        }
      ]
    },
    {
      "cell_type": "code",
      "metadata": {
        "colab": {
          "base_uri": "https://localhost:8080/"
        },
        "id": "NyRLfSeezlUx",
        "outputId": "85ecb4ae-7955-467d-9688-c695a748df11"
      },
      "source": [
        "from sklearn import metrics\n",
        "\n",
        "model_score = metrics.accuracy_score(test_label, y_pred)\n",
        "print(model_score)"
      ],
      "execution_count": 53,
      "outputs": [
        {
          "output_type": "stream",
          "text": [
            "0.0\n"
          ],
          "name": "stdout"
        }
      ]
    },
    {
      "cell_type": "code",
      "metadata": {
        "id": "O2hS9CxFuRY9"
      },
      "source": [
        "#new_text = [\"In what year did the titanic sink ?\", \"What is the highest peak in California ?\", \"Who invented the light bulb ?\"]\n",
        "new_text = [\"During the tests of the soft starter of the engine of belt 03 the collaborator Igor moves around the site and at approximately 19:45 pm falls into a trench for electric cables, (0.90m deep), the same as was found partially discovered.\", \"\",\"\"]\n",
        "new_text = np.array(new_text, dtype=object)[:, np.newaxis]\n",
        "with tf.Session() as session:\n",
        "  K.set_session(session)\n",
        "  session.run(tf.global_variables_initializer())\n",
        "  session.run(tf.tables_initializer())\n",
        "  model.load_weights('./model_attn.h5')  \n",
        "  predicts = model.predict(new_text, batch_size=32)"
      ],
      "execution_count": 60,
      "outputs": []
    },
    {
      "cell_type": "code",
      "metadata": {
        "colab": {
          "base_uri": "https://localhost:8080/"
        },
        "id": "BuL1PLSJukyT",
        "outputId": "5ab9c6dd-f680-4de8-96e5-b997f324646b"
      },
      "source": [
        "predicts"
      ],
      "execution_count": 61,
      "outputs": [
        {
          "output_type": "execute_result",
          "data": {
            "text/plain": [
              "array([[0.20036283, 0.20025688, 0.19963512, 0.20053484, 0.19921032],\n",
              "       [0.20038041, 0.20023638, 0.19961812, 0.20055877, 0.19920628],\n",
              "       [0.20038041, 0.20023638, 0.19961812, 0.20055877, 0.19920628]],\n",
              "      dtype=float32)"
            ]
          },
          "metadata": {
            "tags": []
          },
          "execution_count": 61
        }
      ]
    },
    {
      "cell_type": "code",
      "metadata": {
        "colab": {
          "base_uri": "https://localhost:8080/",
          "height": 35
        },
        "id": "XvCO40udunA9",
        "outputId": "3f071ca9-0406-49d5-ab9c-5b4a8c6d690b"
      },
      "source": [
        "categories = df_train.AccLevel.cat.categories.tolist()\n",
        "predict_logits = predicts.argmax(axis=1)\n",
        "predict_labels = [categories[logit] for logit in predict_logits]\n",
        "predict_labels[0]"
      ],
      "execution_count": 62,
      "outputs": [
        {
          "output_type": "execute_result",
          "data": {
            "application/vnd.google.colaboratory.intrinsic+json": {
              "type": "string"
            },
            "text/plain": [
              "'IV'"
            ]
          },
          "metadata": {
            "tags": []
          },
          "execution_count": 62
        }
      ]
    }
  ]
}