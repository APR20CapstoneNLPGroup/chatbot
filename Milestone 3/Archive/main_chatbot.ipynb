{
  "nbformat": 4,
  "nbformat_minor": 0,
  "metadata": {
    "accelerator": "GPU",
    "colab": {
      "name": "main_chatbot.ipynb",
      "provenance": [],
      "collapsed_sections": []
    },
    "kernelspec": {
      "display_name": "Python 3",
      "name": "python3"
    }
  },
  "cells": [
    {
      "cell_type": "code",
      "metadata": {
        "colab": {
          "base_uri": "https://localhost:8080/"
        },
        "id": "QHjLRONpXEpY",
        "outputId": "513d1b03-ca75-4ca5-a4f9-5aa9c8f9aebe"
      },
      "source": [
        "# Mounting Google Drive\n",
        "from google.colab import drive\n",
        "drive.mount('/content/drive')"
      ],
      "execution_count": 92,
      "outputs": [
        {
          "output_type": "stream",
          "text": [
            "Drive already mounted at /content/drive; to attempt to forcibly remount, call drive.mount(\"/content/drive\", force_remount=True).\n"
          ],
          "name": "stdout"
        }
      ]
    },
    {
      "cell_type": "code",
      "metadata": {
        "id": "U4ueEcjdXGzQ"
      },
      "source": [
        "# Setting the current working directory\n",
        "import os; os.chdir('/content/drive/MyDrive/AI_ML/Projects/Capstone-NLP')"
      ],
      "execution_count": 93,
      "outputs": []
    },
    {
      "cell_type": "markdown",
      "metadata": {
        "id": "bYLYN0uFzIbi"
      },
      "source": [
        "### Importing the Packages"
      ]
    },
    {
      "cell_type": "code",
      "metadata": {
        "id": "fVJOuPH45YkF"
      },
      "source": [
        "# Importing the libraries\n",
        "# load packages\n",
        "import os\n",
        "\n",
        "import flask\n",
        "app = flask.Flask(__name__)\n",
        "from flask import Flask, render_template, request\n"
      ],
      "execution_count": 94,
      "outputs": []
    },
    {
      "cell_type": "code",
      "metadata": {
        "id": "Cl6wct6IVwhl"
      },
      "source": [
        "!mkdir templates -p"
      ],
      "execution_count": 95,
      "outputs": []
    },
    {
      "cell_type": "code",
      "metadata": {
        "colab": {
          "base_uri": "https://localhost:8080/"
        },
        "id": "i2844SQlWK8T",
        "outputId": "aa8dbe0f-eba5-4ed6-ace2-3d21f8d0db63"
      },
      "source": [
        "!ls"
      ],
      "execution_count": 96,
      "outputs": [
        {
          "output_type": "stream",
          "text": [
            "chatbot.ipynb\n",
            "glove.6B.200d.txt\n",
            "glove.6B.50d.txt\n",
            "IHMStefanini_industrial_safety_and_health_database_with_accidents_description.csv\n",
            "log\n",
            "main_chatbot.ipynb\n",
            "main.py.ipynb\n",
            "model.h5\n",
            "model.json\n",
            "model.png\n",
            "prediction.html\n",
            "sarcasm_detector.h5\n",
            "search_page.html\n",
            "SMSSpamCollection\n",
            "templates\n",
            "tokenizer.pickle\n",
            "word2vec.glove.6B.50d.txt\n",
            "Word2Vec.ipynb\n",
            "WordCNN.ipynb\n"
          ],
          "name": "stdout"
        }
      ]
    },
    {
      "cell_type": "code",
      "metadata": {
        "colab": {
          "base_uri": "https://localhost:8080/"
        },
        "id": "Stz_Zxu5We3u",
        "outputId": "677e8dea-623b-4887-b753-86d5394cc86b"
      },
      "source": [
        "%%writefile templates/prediction.html\n",
        "\n",
        "<!DOCTYPE html>\n",
        "<div class=\"header\">\n",
        "  <h1>Accident Level</h1>\n",
        "</div>\n",
        "\n",
        "<div id=\"search-info\">\n",
        "  <h2>There is a {{ prediction }}% chance your description is of accident level {{  }}.</h2>\n",
        "</div>\n",
        "\n",
        "\n",
        "\n",
        "<style>\n",
        ".header {\n",
        "  font-family: 'Proxima Novas', sans-serif;\n",
        "  padding: 10px;\n",
        "  text-align: center;\n",
        "  background: #0077cc;\n",
        "  color: #ffffff;\n",
        "  font-size: 18px;\n",
        "}\n",
        "\n",
        "#search-info {\n",
        "  text-align: center;\n",
        "  font-family: 'Proxima Nova', sans-serif;\n",
        "  color: #0077cc;\n",
        "  font-size: 18px;\n",
        "  font-weight: 100;\n",
        "  padding: 20px;\n",
        "  margin: -30px -30px -10px -30px;\n",
        "}\n",
        "\n",
        "</style>\n"
      ],
      "execution_count": 97,
      "outputs": [
        {
          "output_type": "stream",
          "text": [
            "Overwriting templates/prediction.html\n"
          ],
          "name": "stdout"
        }
      ]
    },
    {
      "cell_type": "code",
      "metadata": {
        "colab": {
          "base_uri": "https://localhost:8080/"
        },
        "id": "B5HP96RzWt7I",
        "outputId": "72d57251-338b-403a-ed0b-3c95d5af8a2f"
      },
      "source": [
        "%%writefile templates/search_page.html\n",
        "\n",
        "<!DOCTYPE html>\n",
        "<div class=\"header\">\n",
        "  <h1>Accident Level ?</h1>\n",
        "</div>\n",
        "\n",
        "<div id=\"search-info\">\n",
        "  <h2>Accident Level predictor using deep learning</h2>\n",
        "</div>\n",
        "\n",
        "<div class=\"form-style-8\">\n",
        "  <form id=\"search_form\" action=\"/\" method=\"POST\">\n",
        "    <input type=\"text\" name=\"text_entered\" placeholder=\"Enter text received\" />\n",
        "    <input type=\"submit\" value=\"Get Accident Level prediction!\" id=\"SubmitButton\" />\n",
        "  </form>\n",
        "</div>\n",
        "\n",
        "<script src=\"https://ajax.googleapis.com/ajax/libs/jquery/1.11.1/jquery.min.js\"></script>\n",
        "<script src=\"https://maxcdn.bootstrapcdn.com/bootstrap/3.2.0/js/bootstrap.min.js\"></script>\n",
        "<script>\n",
        "\n",
        "window.onload = function() {\n",
        "  jQuery(document).keypress(function(e) {\n",
        "    if (e.keyCode == 13) {\n",
        "      e.preventDefault();\n",
        "      jQuery('#SubmitButton').click();\n",
        "    }\n",
        "  });\n",
        "}\n",
        "\n",
        "</script>\n",
        "\n",
        "\n",
        "\n",
        "<style>\n",
        ".header {\n",
        "  font-family: 'Proxima Novas', sans-serif;\n",
        "  padding: 10px;\n",
        "  text-align: center;\n",
        "  background: #0077cc;\n",
        "  color: #ffffff;\n",
        "  font-size: 18px;\n",
        "}\n",
        "\n",
        "#search-info {\n",
        "  text-align: center;\n",
        "  font-family: 'Proxima Nova', sans-serif;\n",
        "  color: #0077cc;\n",
        "  font-size: 18px;\n",
        "  font-weight: 100;\n",
        "  padding: 20px;\n",
        "  margin: -30px -30px -10px -30px;\n",
        "}\n",
        "\n",
        "<link href='http://fonts.googleapis.com/css?family=Open+Sans+Condensed:300' rel='stylesheet' type='text/css'><style type=\"text/css\">.form-style-8 {\n",
        "  font-family: 'Proxima Novas', sans-serif;\n",
        "  width: 500px;\n",
        "  padding: 30px;\n",
        "  background: #FFFFFF;\n",
        "  margin: 50px auto;\n",
        "  box-shadow: 0px 0px 15px rgba(0, 0, 0, 0.22);\n",
        "  -moz-box-shadow: 0px 0px 15px rgba(0, 0, 0, 0.22);\n",
        "  -webkit-box-shadow: 0px 0px 15px rgba(0, 0, 0, 0.22);\n",
        "}\n",
        "\n",
        ".form-style-8 input[type=\"text\"],\n",
        ".form-style-8 textarea,\n",
        ".form-style-8 select {\n",
        "  box-sizing: border-box;\n",
        "  -webkit-box-sizing: border-box;\n",
        "  -moz-box-sizing: border-box;\n",
        "  outline: none;\n",
        "  display: block;\n",
        "  width: 100%;\n",
        "  padding: 10px;\n",
        "  border: none;\n",
        "  border-bottom: 1px solid #ddd;\n",
        "  background: transparent;\n",
        "  margin-bottom: 10px;\n",
        "  font: 16px 'Lucida Sans', sans-serif;\n",
        "  height: 45px;\n",
        "}\n",
        "\n",
        ".form-style-8 textarea {\n",
        "  resize: none;\n",
        "  overflow: hidden;\n",
        "}\n",
        "\n",
        ".form-style-8 input[type=\"button\"],\n",
        ".form-style-8 input[type=\"submit\"] {\n",
        "  -moz-box-shadow: inset 0px 1px 0px 0px #f6f6f6;\n",
        "  -webkit-box-shadow: inset 0px 1px 0px 0px #f6f6f6;\n",
        "  box-shadow: inset 0px 1px 0px 0px #f6f6f6;\n",
        "  background-color: #c21515;\n",
        "  border: 1px solid #f6f6f6;\n",
        "  display: inline-block;\n",
        "  cursor: pointer;\n",
        "  color: #ffffff;\n",
        "  font-family: 'Lucida Sans', sans-serif;\n",
        "  font-size: 14px;\n",
        "  padding: 8px 18px;\n",
        "  text-decoration: none;\n",
        "}\n",
        "\n",
        ".form-style-8 input[type=\"button\"]:hover,\n",
        ".form-style-8 input[type=\"submit\"]:hover {\n",
        "  background: linear-gradient(to bottom, #c21515 50%, #f6f6f6 100%);\n",
        "  background-color: #c21515;\n",
        "}\n",
        "</style>\n"
      ],
      "execution_count": 98,
      "outputs": [
        {
          "output_type": "stream",
          "text": [
            "Overwriting templates/search_page.html\n"
          ],
          "name": "stdout"
        }
      ]
    },
    {
      "cell_type": "code",
      "metadata": {
        "colab": {
          "base_uri": "https://localhost:8080/"
        },
        "id": "2R20U2MBT0yw",
        "outputId": "7498f0ca-8666-4ef5-f932-c4f341698221"
      },
      "source": [
        "!pip install flask-ngrok"
      ],
      "execution_count": 99,
      "outputs": [
        {
          "output_type": "stream",
          "text": [
            "Requirement already satisfied: flask-ngrok in /usr/local/lib/python3.7/dist-packages (0.0.25)\n",
            "Requirement already satisfied: requests in /usr/local/lib/python3.7/dist-packages (from flask-ngrok) (2.23.0)\n",
            "Requirement already satisfied: Flask>=0.8 in /usr/local/lib/python3.7/dist-packages (from flask-ngrok) (1.1.2)\n",
            "Requirement already satisfied: urllib3!=1.25.0,!=1.25.1,<1.26,>=1.21.1 in /usr/local/lib/python3.7/dist-packages (from requests->flask-ngrok) (1.24.3)\n",
            "Requirement already satisfied: certifi>=2017.4.17 in /usr/local/lib/python3.7/dist-packages (from requests->flask-ngrok) (2020.12.5)\n",
            "Requirement already satisfied: idna<3,>=2.5 in /usr/local/lib/python3.7/dist-packages (from requests->flask-ngrok) (2.10)\n",
            "Requirement already satisfied: chardet<4,>=3.0.2 in /usr/local/lib/python3.7/dist-packages (from requests->flask-ngrok) (3.0.4)\n",
            "Requirement already satisfied: itsdangerous>=0.24 in /usr/local/lib/python3.7/dist-packages (from Flask>=0.8->flask-ngrok) (1.1.0)\n",
            "Requirement already satisfied: click>=5.1 in /usr/local/lib/python3.7/dist-packages (from Flask>=0.8->flask-ngrok) (7.1.2)\n",
            "Requirement already satisfied: Jinja2>=2.10.1 in /usr/local/lib/python3.7/dist-packages (from Flask>=0.8->flask-ngrok) (2.11.3)\n",
            "Requirement already satisfied: Werkzeug>=0.15 in /usr/local/lib/python3.7/dist-packages (from Flask>=0.8->flask-ngrok) (1.0.1)\n",
            "Requirement already satisfied: MarkupSafe>=0.23 in /usr/local/lib/python3.7/dist-packages (from Jinja2>=2.10.1->Flask>=0.8->flask-ngrok) (1.1.1)\n"
          ],
          "name": "stdout"
        }
      ]
    },
    {
      "cell_type": "code",
      "metadata": {
        "id": "I0iDWPJ2LPT-"
      },
      "source": [
        "#load model preprocessing\n",
        "import numpy as np\n",
        "import pandas as pd\n",
        "import pickle\n",
        "from keras.preprocessing.text import Tokenizer\n",
        "from keras.preprocessing.sequence import pad_sequences\n",
        "import keras.models\n",
        "from keras.models import model_from_json"
      ],
      "execution_count": 100,
      "outputs": []
    },
    {
      "cell_type": "code",
      "metadata": {
        "id": "P_ns50xDLQ5_"
      },
      "source": [
        "# Load tokenizer for preprocessing\n",
        "with open('tokenizer.pickle', 'rb') as handle:\n",
        "    tokenizer = pickle.load(handle)"
      ],
      "execution_count": 101,
      "outputs": []
    },
    {
      "cell_type": "code",
      "metadata": {
        "id": "JliZMXIeLRa-",
        "colab": {
          "base_uri": "https://localhost:8080/"
        },
        "outputId": "cd0f5b7b-cd63-4393-d081-0016417940fc"
      },
      "source": [
        "# Load pre-trained model into memory\n",
        "json_file = open('model.json','r')\n",
        "loaded_model_json = json_file.read()\n",
        "json_file.close()\n",
        "loaded_model = model_from_json(loaded_model_json)"
      ],
      "execution_count": 102,
      "outputs": [
        {
          "output_type": "stream",
          "text": [
            "WARNING:tensorflow:Layer lstm_1 will not use cuDNN kernel since it doesn't meet the cuDNN kernel criteria. It will use generic GPU kernel as fallback when running on GPU\n",
            "WARNING:tensorflow:Layer lstm_1 will not use cuDNN kernel since it doesn't meet the cuDNN kernel criteria. It will use generic GPU kernel as fallback when running on GPU\n",
            "WARNING:tensorflow:Layer lstm_1 will not use cuDNN kernel since it doesn't meet the cuDNN kernel criteria. It will use generic GPU kernel as fallback when running on GPU\n"
          ],
          "name": "stdout"
        }
      ]
    },
    {
      "cell_type": "code",
      "metadata": {
        "id": "aFEPWHL-LSn9"
      },
      "source": [
        "# Load weights into new model\n",
        "loaded_model.load_weights(\"model.h5\")"
      ],
      "execution_count": 103,
      "outputs": []
    },
    {
      "cell_type": "code",
      "metadata": {
        "id": "CgL5Ed4iLTxA"
      },
      "source": [
        "def prepData(text):\n",
        "    # Convert to array\n",
        "    textDataArray = [text]\n",
        "    \n",
        "    # Convert into list with word ids\n",
        "    Features = tokenizer.texts_to_sequences(textDataArray)\n",
        "    Features = pad_sequences(Features, 20, padding='post')\n",
        "    \n",
        "    return Features"
      ],
      "execution_count": 104,
      "outputs": []
    },
    {
      "cell_type": "code",
      "metadata": {
        "id": "Zw6RJIxBLVmG"
      },
      "source": [
        "loaded_model.compile(optimizer=\"Adam\",loss='binary_crossentropy',metrics=['accuracy'])"
      ],
      "execution_count": 105,
      "outputs": []
    },
    {
      "cell_type": "code",
      "metadata": {
        "id": "krH9hKRHT9fd"
      },
      "source": [
        "from flask_ngrok import run_with_ngrok \n",
        "\n",
        "app = Flask(__name__) \n",
        "run_with_ngrok(app)   "
      ],
      "execution_count": 106,
      "outputs": []
    },
    {
      "cell_type": "code",
      "metadata": {
        "id": "hub5Yg8XXJpf"
      },
      "source": [
        "#@app.route(\"/\")\n",
        "#def home():\n",
        "#    return \"<h1>Running Flask on Google Colab!</h1>\"\n",
        "#    #return render_template('prediction.html', prediction=prediction)"
      ],
      "execution_count": 107,
      "outputs": []
    },
    {
      "cell_type": "code",
      "metadata": {
        "id": "mGtvzDCIXnJX"
      },
      "source": [
        "# define a predict function as an endpoint \n",
        "\n",
        "@app.route('/', methods=['GET','POST'])\n",
        "def predict():\n",
        "    \n",
        "    #whenever the predict method is called, we're going\n",
        "    #to input the user entered text into the model\n",
        "    #and return a prediction\n",
        "    \n",
        "    if request.method=='POST':\n",
        "        textData = request.form.get('text_entered')\n",
        "        Features = prepData(textData)\n",
        "        prediction = int((np.asscalar(loaded_model.predict(Features)))*100)\n",
        "        return render_template('prediction.html', prediction=prediction)\n",
        "        print(prediction.dtypes)\n",
        "    \n",
        "    else:\n",
        "        return render_template(\"search_page.html\")\n",
        "\n"
      ],
      "execution_count": 108,
      "outputs": []
    },
    {
      "cell_type": "code",
      "metadata": {
        "colab": {
          "base_uri": "https://localhost:8080/"
        },
        "id": "SyfTXshvrmns",
        "outputId": "fe1897ae-8a77-4e0a-a84f-05bbaeb92e01"
      },
      "source": [
        "text_entered = \"The collaborator reports that he was on street 09 holding in his left hand the volumetric balloon, when he slipped and when placing his hand on the ground the volumetric balloon ended up breaking caused a small wound in his left hand.\"\n",
        "\n",
        "textData = text_entered\n",
        "Features = prepData(textData)\n",
        "prediction = int((np.asscalar(loaded_model.predict(Features)))*100)\n",
        "prediction"
      ],
      "execution_count": 111,
      "outputs": [
        {
          "output_type": "stream",
          "text": [
            "/usr/local/lib/python3.7/dist-packages/ipykernel_launcher.py:5: DeprecationWarning: np.asscalar(a) is deprecated since NumPy v1.16, use a.item() instead\n",
            "  \"\"\"\n"
          ],
          "name": "stderr"
        },
        {
          "output_type": "execute_result",
          "data": {
            "text/plain": [
              "54"
            ]
          },
          "metadata": {
            "tags": []
          },
          "execution_count": 111
        }
      ]
    },
    {
      "cell_type": "code",
      "metadata": {
        "id": "FIVSFvuuLZwt"
      },
      "source": [
        "if __name__ == \"__main__\":\n",
        "    app.run()"
      ],
      "execution_count": null,
      "outputs": []
    }
  ]
}