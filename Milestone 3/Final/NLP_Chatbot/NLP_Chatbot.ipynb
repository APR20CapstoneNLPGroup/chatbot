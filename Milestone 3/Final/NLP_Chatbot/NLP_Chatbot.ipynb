{
  "nbformat": 4,
  "nbformat_minor": 0,
  "metadata": {
    "colab": {
      "name": "Untitled13.ipynb",
      "provenance": [],
      "collapsed_sections": []
    },
    "kernelspec": {
      "name": "python3",
      "display_name": "Python 3"
    },
    "language_info": {
      "name": "python"
    }
  },
  "cells": [
    {
      "cell_type": "code",
      "metadata": {
        "colab": {
          "base_uri": "https://localhost:8080/"
        },
        "id": "scMUUBygWvHR",
        "outputId": "2129d82a-7676-431e-a415-1a2ec306994c"
      },
      "source": [
        "from google.colab import drive\n",
        "drive.mount('/content/drive')"
      ],
      "execution_count": 1,
      "outputs": [
        {
          "output_type": "stream",
          "text": [
            "Mounted at /content/drive\n"
          ],
          "name": "stdout"
        }
      ]
    },
    {
      "cell_type": "code",
      "metadata": {
        "id": "_ZF-R_jamAZY"
      },
      "source": [
        "import warnings\n",
        "warnings.filterwarnings(\"ignore\")"
      ],
      "execution_count": 2,
      "outputs": []
    },
    {
      "cell_type": "code",
      "metadata": {
        "colab": {
          "base_uri": "https://localhost:8080/"
        },
        "id": "z3rtEtG2jSL7",
        "outputId": "2b6648a6-9164-4b82-ea86-f81ba05799fd"
      },
      "source": [
        "%pip --disable-pip-version-check install flair\n",
        "%pip --disable-pip-version-check install flask-ngrok"
      ],
      "execution_count": 2,
      "outputs": [
        {
          "output_type": "stream",
          "text": [
            "Collecting flair\n",
            "\u001b[?25l  Downloading https://files.pythonhosted.org/packages/f0/3a/1b46a0220d6176b22bcb9336619d1731301bc2c75fa926a9ef953e6e4d58/flair-0.8.0.post1-py3-none-any.whl (284kB)\n",
            "\u001b[K     |████████████████████████████████| 286kB 6.1MB/s \n",
            "\u001b[?25hCollecting janome\n",
            "\u001b[?25l  Downloading https://files.pythonhosted.org/packages/a8/63/98858cbead27df7536c7e300c169da0999e9704d02220dc6700b804eeff0/Janome-0.4.1-py2.py3-none-any.whl (19.7MB)\n",
            "\u001b[K     |████████████████████████████████| 19.7MB 1.3MB/s \n",
            "\u001b[?25hCollecting sentencepiece==0.1.95\n",
            "\u001b[?25l  Downloading https://files.pythonhosted.org/packages/f5/99/e0808cb947ba10f575839c43e8fafc9cc44e4a7a2c8f79c60db48220a577/sentencepiece-0.1.95-cp37-cp37m-manylinux2014_x86_64.whl (1.2MB)\n",
            "\u001b[K     |████████████████████████████████| 1.2MB 39.4MB/s \n",
            "\u001b[?25hRequirement already satisfied: lxml in /usr/local/lib/python3.7/dist-packages (from flair) (4.2.6)\n",
            "Requirement already satisfied: python-dateutil>=2.6.1 in /usr/local/lib/python3.7/dist-packages (from flair) (2.8.1)\n",
            "Requirement already satisfied: regex in /usr/local/lib/python3.7/dist-packages (from flair) (2019.12.20)\n",
            "Requirement already satisfied: tqdm>=4.26.0 in /usr/local/lib/python3.7/dist-packages (from flair) (4.41.1)\n",
            "Collecting segtok>=1.5.7\n",
            "  Downloading https://files.pythonhosted.org/packages/41/08/582dab5f4b1d5ca23bc6927b4bb977c8ff7f3a87a3b98844ef833e2f5623/segtok-1.5.10.tar.gz\n",
            "Collecting torch<=1.7.1,>=1.5.0\n",
            "\u001b[?25l  Downloading https://files.pythonhosted.org/packages/90/5d/095ddddc91c8a769a68c791c019c5793f9c4456a688ddd235d6670924ecb/torch-1.7.1-cp37-cp37m-manylinux1_x86_64.whl (776.8MB)\n",
            "\u001b[K     |████████████████████████████████| 776.8MB 23kB/s \n",
            "\u001b[?25hCollecting gdown==3.12.2\n",
            "  Downloading https://files.pythonhosted.org/packages/50/21/92c3cfe56f5c0647145c4b0083d0733dd4890a057eb100a8eeddf949ffe9/gdown-3.12.2.tar.gz\n",
            "  Installing build dependencies ... \u001b[?25l\u001b[?25hdone\n",
            "  Getting requirements to build wheel ... \u001b[?25l\u001b[?25hdone\n",
            "    Preparing wheel metadata ... \u001b[?25l\u001b[?25hdone\n",
            "Requirement already satisfied: matplotlib>=2.2.3 in /usr/local/lib/python3.7/dist-packages (from flair) (3.2.2)\n",
            "Collecting konoha<5.0.0,>=4.0.0\n",
            "  Downloading https://files.pythonhosted.org/packages/02/be/4dd30d56a0a19619deb9bf41ba8202709fa83b1b301b876572cd6dc38117/konoha-4.6.4-py3-none-any.whl\n",
            "Requirement already satisfied: tabulate in /usr/local/lib/python3.7/dist-packages (from flair) (0.8.9)\n",
            "Collecting mpld3==0.3\n",
            "\u001b[?25l  Downloading https://files.pythonhosted.org/packages/91/95/a52d3a83d0a29ba0d6898f6727e9858fe7a43f6c2ce81a5fe7e05f0f4912/mpld3-0.3.tar.gz (788kB)\n",
            "\u001b[K     |████████████████████████████████| 798kB 39.4MB/s \n",
            "\u001b[?25hRequirement already satisfied: numpy<1.20.0 in /usr/local/lib/python3.7/dist-packages (from flair) (1.19.5)\n",
            "Collecting huggingface-hub\n",
            "  Downloading https://files.pythonhosted.org/packages/a1/88/7b1e45720ecf59c6c6737ff332f41c955963090a18e72acbcbeac6b25e86/huggingface_hub-0.0.8-py3-none-any.whl\n",
            "Requirement already satisfied: hyperopt>=0.1.1 in /usr/local/lib/python3.7/dist-packages (from flair) (0.1.2)\n",
            "Collecting transformers>=4.0.0\n",
            "\u001b[?25l  Downloading https://files.pythonhosted.org/packages/d8/b2/57495b5309f09fa501866e225c84532d1fd89536ea62406b2181933fb418/transformers-4.5.1-py3-none-any.whl (2.1MB)\n",
            "\u001b[K     |████████████████████████████████| 2.1MB 29.8MB/s \n",
            "\u001b[?25hCollecting bpemb>=0.3.2\n",
            "  Downloading https://files.pythonhosted.org/packages/f2/6f/9191b85109772636a8f8accb122900c34db26c091d2793218aa94954524c/bpemb-0.3.3-py3-none-any.whl\n",
            "Collecting langdetect\n",
            "\u001b[?25l  Downloading https://files.pythonhosted.org/packages/56/a3/8407c1e62d5980188b4acc45ef3d94b933d14a2ebc9ef3505f22cf772570/langdetect-1.0.8.tar.gz (981kB)\n",
            "\u001b[K     |████████████████████████████████| 983kB 33.6MB/s \n",
            "\u001b[?25hCollecting sqlitedict>=1.6.0\n",
            "  Downloading https://files.pythonhosted.org/packages/5c/2d/b1d99e9ad157dd7de9cd0d36a8a5876b13b55e4b75f7498bc96035fb4e96/sqlitedict-1.7.0.tar.gz\n",
            "Requirement already satisfied: gensim<=3.8.3,>=3.4.0 in /usr/local/lib/python3.7/dist-packages (from flair) (3.6.0)\n",
            "Collecting ftfy\n",
            "\u001b[?25l  Downloading https://files.pythonhosted.org/packages/ce/b5/5da463f9c7823e0e575e9908d004e2af4b36efa8d02d3d6dad57094fcb11/ftfy-6.0.1.tar.gz (63kB)\n",
            "\u001b[K     |████████████████████████████████| 71kB 7.4MB/s \n",
            "\u001b[?25hRequirement already satisfied: scikit-learn>=0.21.3 in /usr/local/lib/python3.7/dist-packages (from flair) (0.22.2.post1)\n",
            "Collecting deprecated>=1.2.4\n",
            "  Downloading https://files.pythonhosted.org/packages/fb/73/994edfcba74443146c84b91921fcc269374354118d4f452fb0c54c1cbb12/Deprecated-1.2.12-py2.py3-none-any.whl\n",
            "Requirement already satisfied: six>=1.5 in /usr/local/lib/python3.7/dist-packages (from python-dateutil>=2.6.1->flair) (1.15.0)\n",
            "Requirement already satisfied: typing-extensions in /usr/local/lib/python3.7/dist-packages (from torch<=1.7.1,>=1.5.0->flair) (3.7.4.3)\n",
            "Requirement already satisfied: requests[socks] in /usr/local/lib/python3.7/dist-packages (from gdown==3.12.2->flair) (2.23.0)\n",
            "Requirement already satisfied: filelock in /usr/local/lib/python3.7/dist-packages (from gdown==3.12.2->flair) (3.0.12)\n",
            "Requirement already satisfied: pyparsing!=2.0.4,!=2.1.2,!=2.1.6,>=2.0.1 in /usr/local/lib/python3.7/dist-packages (from matplotlib>=2.2.3->flair) (2.4.7)\n",
            "Requirement already satisfied: kiwisolver>=1.0.1 in /usr/local/lib/python3.7/dist-packages (from matplotlib>=2.2.3->flair) (1.3.1)\n",
            "Requirement already satisfied: cycler>=0.10 in /usr/local/lib/python3.7/dist-packages (from matplotlib>=2.2.3->flair) (0.10.0)\n",
            "Requirement already satisfied: importlib-metadata<4.0.0,>=3.7.0 in /usr/local/lib/python3.7/dist-packages (from konoha<5.0.0,>=4.0.0->flair) (3.10.1)\n",
            "Collecting overrides<4.0.0,>=3.0.0\n",
            "  Downloading https://files.pythonhosted.org/packages/ff/b1/10f69c00947518e6676bbd43e739733048de64b8dd998e9c2d5a71f44c5d/overrides-3.1.0.tar.gz\n",
            "Requirement already satisfied: pymongo in /usr/local/lib/python3.7/dist-packages (from hyperopt>=0.1.1->flair) (3.11.3)\n",
            "Requirement already satisfied: networkx in /usr/local/lib/python3.7/dist-packages (from hyperopt>=0.1.1->flair) (2.5.1)\n",
            "Requirement already satisfied: scipy in /usr/local/lib/python3.7/dist-packages (from hyperopt>=0.1.1->flair) (1.4.1)\n",
            "Requirement already satisfied: future in /usr/local/lib/python3.7/dist-packages (from hyperopt>=0.1.1->flair) (0.16.0)\n",
            "Collecting sacremoses\n",
            "\u001b[?25l  Downloading https://files.pythonhosted.org/packages/75/ee/67241dc87f266093c533a2d4d3d69438e57d7a90abb216fa076e7d475d4a/sacremoses-0.0.45-py3-none-any.whl (895kB)\n",
            "\u001b[K     |████████████████████████████████| 901kB 28.4MB/s \n",
            "\u001b[?25hCollecting tokenizers<0.11,>=0.10.1\n",
            "\u001b[?25l  Downloading https://files.pythonhosted.org/packages/ae/04/5b870f26a858552025a62f1649c20d29d2672c02ff3c3fb4c688ca46467a/tokenizers-0.10.2-cp37-cp37m-manylinux2010_x86_64.whl (3.3MB)\n",
            "\u001b[K     |████████████████████████████████| 3.3MB 42.3MB/s \n",
            "\u001b[?25hRequirement already satisfied: packaging in /usr/local/lib/python3.7/dist-packages (from transformers>=4.0.0->flair) (20.9)\n",
            "Requirement already satisfied: smart-open>=1.2.1 in /usr/local/lib/python3.7/dist-packages (from gensim<=3.8.3,>=3.4.0->flair) (5.0.0)\n",
            "Requirement already satisfied: wcwidth in /usr/local/lib/python3.7/dist-packages (from ftfy->flair) (0.2.5)\n",
            "Requirement already satisfied: joblib>=0.11 in /usr/local/lib/python3.7/dist-packages (from scikit-learn>=0.21.3->flair) (1.0.1)\n",
            "Requirement already satisfied: wrapt<2,>=1.10 in /usr/local/lib/python3.7/dist-packages (from deprecated>=1.2.4->flair) (1.12.1)\n",
            "Requirement already satisfied: certifi>=2017.4.17 in /usr/local/lib/python3.7/dist-packages (from requests[socks]->gdown==3.12.2->flair) (2020.12.5)\n",
            "Requirement already satisfied: idna<3,>=2.5 in /usr/local/lib/python3.7/dist-packages (from requests[socks]->gdown==3.12.2->flair) (2.10)\n",
            "Requirement already satisfied: chardet<4,>=3.0.2 in /usr/local/lib/python3.7/dist-packages (from requests[socks]->gdown==3.12.2->flair) (3.0.4)\n",
            "Requirement already satisfied: urllib3!=1.25.0,!=1.25.1,<1.26,>=1.21.1 in /usr/local/lib/python3.7/dist-packages (from requests[socks]->gdown==3.12.2->flair) (1.24.3)\n",
            "Requirement already satisfied: PySocks!=1.5.7,>=1.5.6; extra == \"socks\" in /usr/local/lib/python3.7/dist-packages (from requests[socks]->gdown==3.12.2->flair) (1.7.1)\n",
            "Requirement already satisfied: zipp>=0.5 in /usr/local/lib/python3.7/dist-packages (from importlib-metadata<4.0.0,>=3.7.0->konoha<5.0.0,>=4.0.0->flair) (3.4.1)\n",
            "Requirement already satisfied: decorator<5,>=4.3 in /usr/local/lib/python3.7/dist-packages (from networkx->hyperopt>=0.1.1->flair) (4.4.2)\n",
            "Requirement already satisfied: click in /usr/local/lib/python3.7/dist-packages (from sacremoses->transformers>=4.0.0->flair) (7.1.2)\n",
            "Building wheels for collected packages: gdown\n",
            "  Building wheel for gdown (PEP 517) ... \u001b[?25l\u001b[?25hdone\n",
            "  Created wheel for gdown: filename=gdown-3.12.2-cp37-none-any.whl size=9693 sha256=79a9423102b1a382c667485e89211c65adb6f464b0c8c0d002b28f0145bf05dd\n",
            "  Stored in directory: /root/.cache/pip/wheels/81/d0/d7/d9983facc6f2775411803e0e2d30ebf98efbf2fc6e57701e09\n",
            "Successfully built gdown\n",
            "Building wheels for collected packages: segtok, mpld3, langdetect, sqlitedict, ftfy, overrides\n",
            "  Building wheel for segtok (setup.py) ... \u001b[?25l\u001b[?25hdone\n",
            "  Created wheel for segtok: filename=segtok-1.5.10-cp37-none-any.whl size=25019 sha256=3717a787bbd48c5ed7d908989761dcb87d58006959116f5fc00f9578ce4b5118\n",
            "  Stored in directory: /root/.cache/pip/wheels/b4/39/f6/9ca1c5cabde964d728023b5751c3a206a5c8cc40252321fb6b\n",
            "  Building wheel for mpld3 (setup.py) ... \u001b[?25l\u001b[?25hdone\n",
            "  Created wheel for mpld3: filename=mpld3-0.3-cp37-none-any.whl size=116679 sha256=8e1d74771cde50f58e12fe6ca9b7bc2f51cee87f57e6bbd3b436f7d9a2e4d302\n",
            "  Stored in directory: /root/.cache/pip/wheels/c0/47/fb/8a64f89aecfe0059830479308ad42d62e898a3e3cefdf6ba28\n",
            "  Building wheel for langdetect (setup.py) ... \u001b[?25l\u001b[?25hdone\n",
            "  Created wheel for langdetect: filename=langdetect-1.0.8-cp37-none-any.whl size=993193 sha256=46d13fc428a3e57a4b82af70f042306d87cebe0b11b3a89dff4262ab82591019\n",
            "  Stored in directory: /root/.cache/pip/wheels/8d/b3/aa/6d99de9f3841d7d3d40a60ea06e6d669e8e5012e6c8b947a57\n",
            "  Building wheel for sqlitedict (setup.py) ... \u001b[?25l\u001b[?25hdone\n",
            "  Created wheel for sqlitedict: filename=sqlitedict-1.7.0-cp37-none-any.whl size=14376 sha256=d6f82dbbacf1d3041f997eab1344751245714a70f049b37bfcdf5098e515d1a1\n",
            "  Stored in directory: /root/.cache/pip/wheels/cf/c6/4f/2c64a43f041415eb8b8740bd80e15e92f0d46c5e464d8e4b9b\n",
            "  Building wheel for ftfy (setup.py) ... \u001b[?25l\u001b[?25hdone\n",
            "  Created wheel for ftfy: filename=ftfy-6.0.1-cp37-none-any.whl size=41573 sha256=a34351c4d68b5a7dcdb936ba1610de4ee4c5ea1ffff2accc39d3749fd14ce539\n",
            "  Stored in directory: /root/.cache/pip/wheels/ae/73/c7/9056e14b04919e5c262fe80b54133b1a88d73683d05d7ac65c\n",
            "  Building wheel for overrides (setup.py) ... \u001b[?25l\u001b[?25hdone\n",
            "  Created wheel for overrides: filename=overrides-3.1.0-cp37-none-any.whl size=10174 sha256=5257874674dbab53feca91fb0ca53a32ce20e59e6d08b2bdeaa87a6a94b86414\n",
            "  Stored in directory: /root/.cache/pip/wheels/5c/24/13/6ef8600e6f147c95e595f1289a86a3cc82ed65df57582c65a9\n",
            "Successfully built segtok mpld3 langdetect sqlitedict ftfy overrides\n",
            "\u001b[31mERROR: torchvision 0.9.1+cu101 has requirement torch==1.8.1, but you'll have torch 1.7.1 which is incompatible.\u001b[0m\n",
            "\u001b[31mERROR: torchtext 0.9.1 has requirement torch==1.8.1, but you'll have torch 1.7.1 which is incompatible.\u001b[0m\n",
            "\u001b[31mERROR: konoha 4.6.4 has requirement requests<3.0.0,>=2.25.1, but you'll have requests 2.23.0 which is incompatible.\u001b[0m\n",
            "Installing collected packages: janome, sentencepiece, segtok, torch, gdown, overrides, konoha, mpld3, huggingface-hub, sacremoses, tokenizers, transformers, bpemb, langdetect, sqlitedict, ftfy, deprecated, flair\n",
            "  Found existing installation: torch 1.8.1+cu101\n",
            "    Uninstalling torch-1.8.1+cu101:\n",
            "      Successfully uninstalled torch-1.8.1+cu101\n",
            "  Found existing installation: gdown 3.6.4\n",
            "    Uninstalling gdown-3.6.4:\n",
            "      Successfully uninstalled gdown-3.6.4\n",
            "Successfully installed bpemb-0.3.3 deprecated-1.2.12 flair-0.8.0.post1 ftfy-6.0.1 gdown-3.12.2 huggingface-hub-0.0.8 janome-0.4.1 konoha-4.6.4 langdetect-1.0.8 mpld3-0.3 overrides-3.1.0 sacremoses-0.0.45 segtok-1.5.10 sentencepiece-0.1.95 sqlitedict-1.7.0 tokenizers-0.10.2 torch-1.7.1 transformers-4.5.1\n",
            "Collecting flask-ngrok\n",
            "  Downloading https://files.pythonhosted.org/packages/af/6c/f54cb686ad1129e27d125d182f90f52b32f284e6c8df58c1bae54fa1adbc/flask_ngrok-0.0.25-py3-none-any.whl\n",
            "Requirement already satisfied: Flask>=0.8 in /usr/local/lib/python3.7/dist-packages (from flask-ngrok) (1.1.2)\n",
            "Requirement already satisfied: requests in /usr/local/lib/python3.7/dist-packages (from flask-ngrok) (2.23.0)\n",
            "Requirement already satisfied: Werkzeug>=0.15 in /usr/local/lib/python3.7/dist-packages (from Flask>=0.8->flask-ngrok) (1.0.1)\n",
            "Requirement already satisfied: Jinja2>=2.10.1 in /usr/local/lib/python3.7/dist-packages (from Flask>=0.8->flask-ngrok) (2.11.3)\n",
            "Requirement already satisfied: click>=5.1 in /usr/local/lib/python3.7/dist-packages (from Flask>=0.8->flask-ngrok) (7.1.2)\n",
            "Requirement already satisfied: itsdangerous>=0.24 in /usr/local/lib/python3.7/dist-packages (from Flask>=0.8->flask-ngrok) (1.1.0)\n",
            "Requirement already satisfied: urllib3!=1.25.0,!=1.25.1,<1.26,>=1.21.1 in /usr/local/lib/python3.7/dist-packages (from requests->flask-ngrok) (1.24.3)\n",
            "Requirement already satisfied: chardet<4,>=3.0.2 in /usr/local/lib/python3.7/dist-packages (from requests->flask-ngrok) (3.0.4)\n",
            "Requirement already satisfied: certifi>=2017.4.17 in /usr/local/lib/python3.7/dist-packages (from requests->flask-ngrok) (2020.12.5)\n",
            "Requirement already satisfied: idna<3,>=2.5 in /usr/local/lib/python3.7/dist-packages (from requests->flask-ngrok) (2.10)\n",
            "Requirement already satisfied: MarkupSafe>=0.23 in /usr/local/lib/python3.7/dist-packages (from Jinja2>=2.10.1->Flask>=0.8->flask-ngrok) (1.1.1)\n",
            "Installing collected packages: flask-ngrok\n",
            "Successfully installed flask-ngrok-0.0.25\n"
          ],
          "name": "stdout"
        }
      ]
    },
    {
      "cell_type": "code",
      "metadata": {
        "colab": {
          "base_uri": "https://localhost:8080/"
        },
        "id": "R7-0ksc9YZTF",
        "outputId": "4a2dcefb-7e82-4eee-861d-885dc21a111e"
      },
      "source": [
        "!python -c \"import flask; print(flask.__version__)\""
      ],
      "execution_count": 3,
      "outputs": [
        {
          "output_type": "stream",
          "text": [
            "1.1.2\n"
          ],
          "name": "stdout"
        }
      ]
    },
    {
      "cell_type": "code",
      "metadata": {
        "colab": {
          "base_uri": "https://localhost:8080/"
        },
        "id": "HiyM5R_iY3Vm",
        "outputId": "7b50549a-43b9-4fc8-ce44-f8747507d758"
      },
      "source": [
        "# Importing the libraries\n",
        "import os\n",
        "import pickle\n",
        "import flask\n",
        "import json\n",
        "import random\n",
        "import time\n",
        "from tqdm import tqdm\n",
        "from scipy.spatial.distance import cosine\n",
        "from flair.data import Sentence\n",
        "from flair.embeddings import WordEmbeddings, DocumentPoolEmbeddings\n",
        "\n",
        "from flask import Flask, flash, request, redirect, url_for\n",
        "from werkzeug.utils import secure_filename\n",
        "from flask import Flask, render_template, request\n",
        "app = flask.Flask(__name__)\n",
        "\n",
        "# Setting the current working directory\n",
        "os.chdir('/content/drive/MyDrive/Projects/AI-ML/Capstone/')\n",
        "UPLOAD_FOLDER = '/content/drive/MyDrive/Projects/AI-ML/Capstone/'\n",
        "\n",
        "embeddings = DocumentPoolEmbeddings([WordEmbeddings('en')],pooling='mean',)\n",
        "\n",
        "!mkdir templates -p"
      ],
      "execution_count": 4,
      "outputs": [
        {
          "output_type": "stream",
          "text": [
            "2021-04-26 02:39:36,902 https://flair.informatik.hu-berlin.de/resources/embeddings/token/en-fasttext-news-300d-1M.vectors.npy not found in cache, downloading to /tmp/tmpwqv4bro4\n"
          ],
          "name": "stdout"
        },
        {
          "output_type": "stream",
          "text": [
            "100%|██████████| 1200000128/1200000128 [00:47<00:00, 25290094.37B/s]"
          ],
          "name": "stderr"
        },
        {
          "output_type": "stream",
          "text": [
            "2021-04-26 02:40:24,769 copying /tmp/tmpwqv4bro4 to cache at /root/.flair/embeddings/en-fasttext-news-300d-1M.vectors.npy\n"
          ],
          "name": "stdout"
        },
        {
          "output_type": "stream",
          "text": [
            "\n"
          ],
          "name": "stderr"
        },
        {
          "output_type": "stream",
          "text": [
            "2021-04-26 02:40:29,189 removing temp file /tmp/tmpwqv4bro4\n",
            "2021-04-26 02:40:29,842 https://flair.informatik.hu-berlin.de/resources/embeddings/token/en-fasttext-news-300d-1M not found in cache, downloading to /tmp/tmpbq0srptd\n"
          ],
          "name": "stdout"
        },
        {
          "output_type": "stream",
          "text": [
            "100%|██████████| 54600983/54600983 [00:03<00:00, 16999693.46B/s]"
          ],
          "name": "stderr"
        },
        {
          "output_type": "stream",
          "text": [
            "2021-04-26 02:40:33,529 copying /tmp/tmpbq0srptd to cache at /root/.flair/embeddings/en-fasttext-news-300d-1M\n"
          ],
          "name": "stdout"
        },
        {
          "output_type": "stream",
          "text": [
            "\n"
          ],
          "name": "stderr"
        },
        {
          "output_type": "stream",
          "text": [
            "2021-04-26 02:40:33,605 removing temp file /tmp/tmpbq0srptd\n"
          ],
          "name": "stdout"
        }
      ]
    },
    {
      "cell_type": "code",
      "metadata": {
        "id": "X870HTWDRBcg"
      },
      "source": [
        "def prepare_embeddings(input_file,output_file):\n",
        "  print(1)\n",
        "  global embeddings\n",
        "  embedded_intent_dict = {}\n",
        "  with open(input_file) as file:\n",
        "    intent_dict = json.load(file)\n",
        "  for intent,examples in tqdm(intent_dict.items()):\n",
        "    embedded_intent_dict[intent] = []\n",
        "    for example in examples:\n",
        "      sentence = Sentence(example)\n",
        "      embeddings.embed(sentence)\n",
        "      embedded_intent_dict[intent].append(sentence.embedding.detach().numpy())\n",
        "\n",
        "  if not os.path.exists(os.path.dirname(output_file)):\n",
        "      os.makedirs(os.path.dirname(output_file))\n",
        "\n",
        "  pickle.dump(embedded_intent_dict,open( output_file, \"wb+\"))"
      ],
      "execution_count": 5,
      "outputs": []
    },
    {
      "cell_type": "code",
      "metadata": {
        "id": "yS0UfncrN9RA"
      },
      "source": [
        "def answer(message,embeddings_file,anwsers_file):\n",
        "    global embeddings\n",
        "    with open(embeddings_file, 'rb') as file:\n",
        "        embedded_dict = pickle.load(file)\n",
        "    message_sentence = Sentence(message)\n",
        "    embeddings.embed(message_sentence)\n",
        "    message_vector = message_sentence.embedding.detach().numpy()\n",
        "    best_intent = \"\"\n",
        "    best_score = 1\n",
        "    for intent, examples in embedded_dict.items():\n",
        "        for example in examples:\n",
        "            score = cosine(message_vector, example)\n",
        "            if(score<best_score):\n",
        "                best_score = score\n",
        "                best_intent = intent\n",
        "    with open(anwsers_file) as file:\n",
        "        anwsers_dict = json.load(file)\n",
        "    if(best_intent in anwsers_dict):\n",
        "        return random.choice(anwsers_dict[best_intent])\n",
        "    else:\n",
        "        return \"I am sorry! Please rephrase your query to answer you.\""
      ],
      "execution_count": 6,
      "outputs": []
    },
    {
      "cell_type": "code",
      "metadata": {
        "colab": {
          "base_uri": "https://localhost:8080/"
        },
        "id": "kRdTYBq3nM7o",
        "outputId": "057d972b-4429-43c1-9051-798aeb9e970f"
      },
      "source": [
        "# create Pickle file for runtime use.\n",
        "input_file   = \"/content/drive/MyDrive/Projects/AI-ML/Capstone/intents.json\"\n",
        "output_file  = \"/content/drive/MyDrive/Projects/AI-ML/Capstone/intents_pkl.pickle\"\n",
        "\n",
        "prepare_embeddings(input_file, output_file)"
      ],
      "execution_count": 7,
      "outputs": [
        {
          "output_type": "stream",
          "text": [
            "1\n"
          ],
          "name": "stdout"
        },
        {
          "output_type": "stream",
          "text": [
            "100%|██████████| 37/37 [00:00<00:00, 344.50it/s]\n"
          ],
          "name": "stderr"
        }
      ]
    },
    {
      "cell_type": "code",
      "metadata": {
        "id": "ktb5Qo-GMKqV"
      },
      "source": [
        "def chat_response(input_message):  \n",
        "  anwsers_file = \"/content/drive/MyDrive/Projects/AI-ML/Capstone/answer.json\"\n",
        "  output_file  = \"/content/drive/MyDrive/Projects/AI-ML/Capstone/intents_pkl.pickle\"\n",
        "  return str(answer(input_message,embeddings_file=output_file,anwsers_file=anwsers_file))"
      ],
      "execution_count": 21,
      "outputs": []
    },
    {
      "cell_type": "code",
      "metadata": {
        "colab": {
          "base_uri": "https://localhost:8080/"
        },
        "id": "e7gWKBL_ZGvU",
        "outputId": "2cae8188-063b-4ae9-8504-0389fc09bcf6"
      },
      "source": [
        "%%writefile templates/industrialsafety_chat.html\n",
        "\n",
        "<!DOCTYPE html>\n",
        "\n",
        "<html>\n",
        "<head>\n",
        "\t<link href=\"https://cdnjs.cloudflare.com/ajax/libs/font-awesome/4.7.0/css/font-awesome.css\" type=\"text/css\" rel=\"stylesheet\">\n",
        "\t<link href=\"https://maxcdn.bootstrapcdn.com/bootstrap/4.1.1/css/bootstrap.min.css\" rel=\"stylesheet\" id=\"bootstrap-css\">\n",
        "\t<script src=\"https://maxcdn.bootstrapcdn.com/bootstrap/4.1.1/js/bootstrap.min.js\"></script>\n",
        "  <script src=\"https://ajax.googleapis.com/ajax/libs/jquery/3.3.1/jquery.min.js\"></script>\n",
        "</head>\n",
        "<body>\n",
        "<div class=\"container\">\n",
        "\t<h3 class=\" text-center\">Messaging</h3>\n",
        "\t<div class=\"messaging\">\n",
        "\t\t<div class=\"mesgs\">\n",
        "\t\t\t<div id=\"chatbox\" class=\"msg_history\">\n",
        "\t\t\t\t<div class=\"incoming_msg\">\n",
        "\t\t\t\t\t<div class=\"incoming_msg_img\"> <img src=\"https://ptetutorials.com/images/user-profile.png\" alt=\"chatbot\"> </div>\n",
        "\t\t\t\t\t<div class=\"received_msg\">\n",
        "\t\t\t\t\t\t<div class=\"received_withd_msg\">\n",
        "\t\t\t\t\t\t  <p>Welcome to the Chat Service! I can help you on Industrial Safety and its effectiveness.</p>\n",
        "\t\t\t\t\t\t</div>\n",
        "\t\t\t\t\t</div>\n",
        "\t\t\t\t</div>\n",
        "\t\t\t\t<div class=\"outgoing_msg\">\n",
        "\t\t\t\t\t<div class=\"sent_msg\"></div>\n",
        "\t\t\t\t</div>\n",
        "\t\t\t</div>\n",
        "\t\t\t<div class=\"type_msg\">\n",
        "\t\t\t\t<div id=\"userInput\" class=\"input_msg_write\">\n",
        "\t\t\t\t  <input id=\"textInput\" type=\"text\" class=\"write_msg\" name=\"msg\" placeholder=\"Type a message\">\n",
        "\t\t\t\t  <button id=\"buttonInput\" class=\"msg_send_btn\" type=\"submit\"><i class=\"fa fa-paper-plane-o\" aria-hidden=\"true\"></i></button>\n",
        "\t\t\t\t</div>\n",
        "\t\t\t</div>\n",
        "\t\t</div>\n",
        "\t</div>\n",
        "</div>\n",
        "<script>\n",
        "    function getResponse() {\n",
        "        let userText = $(\"#textInput\").val();\n",
        "        let userHtml = '<div class=\"outgoing_msg\"><div class=\"sent_msg\"><p>' + userText + '</p></div></div>';\n",
        "        $(\"#textInput\").val(\"\");\n",
        "        $(\"#chatbox\").append(userHtml);\n",
        "\n",
        "        $.get(\"/get\", { msg: userText }).done(function(data) {\n",
        "          let ansHtml = '<div class=\"incoming_msg\"><div class=\"incoming_msg_img\"><img src=\"https://ptetutorials.com/images/user-profile.png\" alt=\"chatbot\"> </div><div class=\"received_msg\"><div  class=\"received_withd_msg\"><p>' + data + '</p></div></div></div>';\n",
        "          $(\"#chatbox\").append(ansHtml);\n",
        "          document.getElementById('userInput').scrollIntoView({block: 'start', behavior: 'smooth'});\n",
        "\n",
        "          var objDiv = document.getElementById('chatbox');\n",
        "          objDiv.scrollTop = objDiv.scrollHeight;\n",
        "        });\n",
        "    }\n",
        "\t$(\"#textInput\").keypress(function(e) {\n",
        "    //if enter key is pressed\n",
        "        if(e.which == 13) {\n",
        "            getResponse();\n",
        "        }\n",
        "    });\n",
        "    $(\"#buttonInput\").click(function() {\n",
        "        getResponse();\n",
        "    });\n",
        "\t\n",
        "\tn =  new Date();\n",
        "\ty = n.getFullYear();\n",
        "\tm = n.getMonth() + 1;\n",
        "\td = n.getDate();\n",
        "\t//document.getElementById(\"date\").innerHTML = m + \"/\" + d + \"/\" + y;\n",
        "\t\n",
        "</script>\n",
        "</body>\n",
        "</html>\n",
        "\n",
        "<style>\n",
        ".container{max-width:1170px; margin:auto;}\n",
        "img{ max-width:100%;}\n",
        ".inbox_people {\n",
        "  background: #f8f8f8 none repeat scroll 0 0;\n",
        "  float: left;\n",
        "  overflow: hidden;\n",
        "  width: 40%; border-right:1px solid #c4c4c4;\n",
        "}\n",
        ".inbox_msg {\n",
        "  border: 1px solid #c4c4c4;\n",
        "  clear: both;\n",
        "  overflow: hidden;\n",
        "}\n",
        ".top_spac{ margin: 20px 0 0;}\n",
        "\n",
        "\n",
        ".recent_heading {float: left; width:40%;}\n",
        ".srch_bar {\n",
        "  display: inline-block;\n",
        "  text-align: right;\n",
        "  width: 60%;\n",
        "}\n",
        ".headind_srch{ padding:10px 29px 10px 20px; overflow:hidden; border-bottom:1px solid #c4c4c4;}\n",
        "\n",
        ".recent_heading h4 {\n",
        "  color: #05728f;\n",
        "  font-size: 21px;\n",
        "  margin: auto;\n",
        "}\n",
        ".srch_bar input{ border:1px solid #cdcdcd; border-width:0 0 1px 0; width:80%; padding:2px 0 4px 6px; background:none;}\n",
        ".srch_bar .input-group-addon button {\n",
        "  background: rgba(0, 0, 0, 0) none repeat scroll 0 0;\n",
        "  border: medium none;\n",
        "  padding: 0;\n",
        "  color: #707070;\n",
        "  font-size: 18px;\n",
        "}\n",
        ".srch_bar .input-group-addon { margin: 0 0 0 -27px;}\n",
        "\n",
        ".chat_ib h5{ font-size:15px; color:#464646; margin:0 0 8px 0;}\n",
        ".chat_ib h5 span{ font-size:13px; float:right;}\n",
        ".chat_ib p{ font-size:14px; color:#989898; margin:auto}\n",
        ".chat_img {\n",
        "  float: left;\n",
        "  width: 11%;\n",
        "}\n",
        ".chat_ib {\n",
        "  float: left;\n",
        "  padding: 0 0 0 15px;\n",
        "  width: 88%;\n",
        "}\n",
        "\n",
        ".chat_people{ overflow:hidden; clear:both;}\n",
        ".chat_list {\n",
        "  border-bottom: 1px solid #c4c4c4;\n",
        "  margin: 0;\n",
        "  padding: 18px 16px 10px;\n",
        "}\n",
        ".inbox_chat { height: 550px; overflow-y: scroll;}\n",
        "\n",
        ".active_chat{ background:#ebebeb;}\n",
        "\n",
        ".incoming_msg_img {\n",
        "  display: inline-block;\n",
        "  width: 6%;\n",
        "}\n",
        ".received_msg {\n",
        "  display: inline-block;\n",
        "  padding: 0 0 0 10px;\n",
        "  vertical-align: top;\n",
        "  width: 92%;\n",
        " }\n",
        " .received_withd_msg p {\n",
        "  background: #ebebeb none repeat scroll 0 0;\n",
        "  border-radius: 3px;\n",
        "  color: #646464;\n",
        "  font-size: 14px;\n",
        "  margin: 0;\n",
        "  padding: 5px 10px 5px 12px;\n",
        "  width: 100%;\n",
        "}\n",
        ".time_date {\n",
        "  color: #747474;\n",
        "  display: block;\n",
        "  font-size: 12px;\n",
        "  margin: 8px 0 0;\n",
        "}\n",
        ".received_withd_msg { width: 100%;}\n",
        ".mesgs {\n",
        "  float: left;\n",
        "  padding: 30px 15px 0 25px;\n",
        "  width: 60%;\n",
        "}\n",
        "\n",
        " .sent_msg p {\n",
        "  background: rgb(0 123 255 / 25%) none repeat scroll 0 0;\n",
        "  border-radius: 3px;\n",
        "  font-size: 14px;\n",
        "  margin: 0;\n",
        "  padding: 5px 10px 5px 12px;\n",
        "  width:96%;\n",
        "}\n",
        ".outgoing_msg{ overflow:hidden; margin:15px 0 15px;}\n",
        ".sent_msg {\n",
        "  float: right;\n",
        "  align: right;\n",
        "  width: 46%;\n",
        "}\n",
        ".input_msg_write input {\n",
        "  background: rgba(0, 0, 0, 0) none repeat scroll 0 0;\n",
        "  border: medium none;\n",
        "  color: #4c4c4c;\n",
        "  font-size: 15px;\n",
        "  min-height: 48px;\n",
        "  width: 100%;\n",
        "}\n",
        "\n",
        ".type_msg {border-top: 1px solid #c4c4c4;position: relative;}\n",
        ".msg_send_btn {\n",
        "  background: #05728f none repeat scroll 0 0;\n",
        "  border: medium none;\n",
        "  border-radius: 50%;\n",
        "  color: #fff;\n",
        "  cursor: pointer;\n",
        "  font-size: 17px;\n",
        "  height: 33px;\n",
        "  position: absolute;\n",
        "  right: 0;\n",
        "  top: 11px;\n",
        "  width: 33px;\n",
        "}\n",
        ".messaging { padding: 0 0 50px 0;}\n",
        ".msg_history {\n",
        "  height: 516px;\n",
        "  overflow-y: auto;\n",
        "}\n",
        "\n",
        "</style>\n"
      ],
      "execution_count": 38,
      "outputs": [
        {
          "output_type": "stream",
          "text": [
            "Overwriting templates/industrialsafety_chat.html\n"
          ],
          "name": "stdout"
        }
      ]
    },
    {
      "cell_type": "code",
      "metadata": {
        "id": "uESY0gQTZsak"
      },
      "source": [
        "from flask_ngrok import run_with_ngrok \n",
        "\n",
        "app = Flask(__name__) \n",
        "app.config['UPLOAD_FOLDER'] = UPLOAD_FOLDER\n",
        "run_with_ngrok(app)"
      ],
      "execution_count": 39,
      "outputs": []
    },
    {
      "cell_type": "code",
      "metadata": {
        "id": "2BkmT5sKZwJO"
      },
      "source": [
        "@app.route(\"/get\")\n",
        "#function for the bot response\n",
        "def get_bot_response():\n",
        "    input_message = request.args.get('msg')\n",
        "    return str(chat_response(input_message))\n",
        "\n",
        "@app.route('/', methods=['GET','POST'])\n",
        "def load_page():\n",
        "  return render_template(\"industrialsafety_chat.html\")"
      ],
      "execution_count": 40,
      "outputs": []
    },
    {
      "cell_type": "code",
      "metadata": {
        "colab": {
          "base_uri": "https://localhost:8080/"
        },
        "id": "iSKQ3n82Zyhq",
        "outputId": "43dc2faf-187e-4b62-9795-da443065d99b"
      },
      "source": [
        "if __name__ == \"__main__\":\n",
        "  app.run()"
      ],
      "execution_count": null,
      "outputs": [
        {
          "output_type": "stream",
          "text": [
            " * Serving Flask app \"__main__\" (lazy loading)\n",
            " * Environment: production\n",
            "\u001b[31m   WARNING: This is a development server. Do not use it in a production deployment.\u001b[0m\n",
            "\u001b[2m   Use a production WSGI server instead.\u001b[0m\n",
            " * Debug mode: off\n"
          ],
          "name": "stdout"
        },
        {
          "output_type": "stream",
          "text": [
            " * Running on http://127.0.0.1:5000/ (Press CTRL+C to quit)\n"
          ],
          "name": "stderr"
        },
        {
          "output_type": "stream",
          "text": [
            " * Running on http://e8cf3c367dcb.ngrok.io\n",
            " * Traffic stats available on http://127.0.0.1:4040\n"
          ],
          "name": "stdout"
        },
        {
          "output_type": "stream",
          "text": [
            "127.0.0.1 - - [26/Apr/2021 03:35:34] \"\u001b[37mGET / HTTP/1.1\u001b[0m\" 200 -\n",
            "127.0.0.1 - - [26/Apr/2021 03:35:34] \"\u001b[33mGET /favicon.ico HTTP/1.1\u001b[0m\" 404 -\n",
            "127.0.0.1 - - [26/Apr/2021 03:35:37] \"\u001b[37mGET /get?msg=hi HTTP/1.1\u001b[0m\" 200 -\n",
            "127.0.0.1 - - [26/Apr/2021 03:35:48] \"\u001b[37mGET /get?msg=what%20is%20safety%3F HTTP/1.1\u001b[0m\" 200 -\n",
            "127.0.0.1 - - [26/Apr/2021 03:36:32] \"\u001b[37mGET /get?msg=which%20year%20accident%20occurred%20most%3F HTTP/1.1\u001b[0m\" 200 -\n",
            "127.0.0.1 - - [26/Apr/2021 03:37:02] \"\u001b[37mGET /get?msg=which%20all%20industry%20covered%3F HTTP/1.1\u001b[0m\" 200 -\n",
            "127.0.0.1 - - [26/Apr/2021 03:37:30] \"\u001b[37mGET /get?msg=what%20all%20risks%20covered%3F HTTP/1.1\u001b[0m\" 200 -\n"
          ],
          "name": "stderr"
        }
      ]
    }
  ]
}