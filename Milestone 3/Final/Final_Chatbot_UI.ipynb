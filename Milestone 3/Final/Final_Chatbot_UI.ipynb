{
  "nbformat": 4,
  "nbformat_minor": 0,
  "metadata": {
    "colab": {
      "name": "Final_Chatbot_UI.ipynb",
      "provenance": [],
      "collapsed_sections": []
    },
    "kernelspec": {
      "display_name": "Python 3",
      "name": "python3"
    }
  },
  "cells": [
    {
      "cell_type": "code",
      "metadata": {
        "colab": {
          "base_uri": "https://localhost:8080/"
        },
        "id": "QHjLRONpXEpY",
        "outputId": "6229d723-ae27-4e25-f7a1-c6434f73bdfe"
      },
      "source": [
        "# Mounting Google Drive\n",
        "from google.colab import drive\n",
        "drive.mount('/content/drive')"
      ],
      "execution_count": 286,
      "outputs": [
        {
          "output_type": "stream",
          "text": [
            "Drive already mounted at /content/drive; to attempt to forcibly remount, call drive.mount(\"/content/drive\", force_remount=True).\n"
          ],
          "name": "stdout"
        }
      ]
    },
    {
      "cell_type": "code",
      "metadata": {
        "id": "U4ueEcjdXGzQ"
      },
      "source": [
        "# Setting the current working directory\n",
        "import os; os.chdir('/content/drive/MyDrive/AI_ML/Projects/Capstone-NLP/')"
      ],
      "execution_count": 287,
      "outputs": []
    },
    {
      "cell_type": "markdown",
      "metadata": {
        "id": "bYLYN0uFzIbi"
      },
      "source": [
        "### Importing the Packages"
      ]
    },
    {
      "cell_type": "code",
      "metadata": {
        "id": "fVJOuPH45YkF"
      },
      "source": [
        "# Importing the libraries\n",
        "# load packages\n",
        "import os\n",
        "from flask import Flask, flash, request, redirect, url_for\n",
        "from werkzeug.utils import secure_filename\n",
        "\n",
        "import flask\n",
        "app = flask.Flask(__name__)\n",
        "from flask import Flask, render_template, request\n",
        "\n",
        "import pickle"
      ],
      "execution_count": 288,
      "outputs": []
    },
    {
      "cell_type": "code",
      "metadata": {
        "id": "F_p3pC60cQi6"
      },
      "source": [
        "#UPLOAD_FOLDER = '/path/to/the/uploads'\n",
        "\n",
        "UPLOAD_FOLDER = '/content/drive/MyDrive/AI_ML/Projects/Capstone-NLP/'\n",
        "\n",
        "#ALLOWED_EXTENSIONS = {'txt', 'pdf', 'png', 'jpg', 'jpeg', 'gif'}\n",
        "\n",
        "ALLOWED_EXTENSIONS = {'csv'}"
      ],
      "execution_count": 289,
      "outputs": []
    },
    {
      "cell_type": "code",
      "metadata": {
        "id": "Cl6wct6IVwhl"
      },
      "source": [
        "!mkdir templates -p"
      ],
      "execution_count": 290,
      "outputs": []
    },
    {
      "cell_type": "code",
      "metadata": {
        "id": "i2844SQlWK8T"
      },
      "source": [
        "#!ls"
      ],
      "execution_count": 291,
      "outputs": []
    },
    {
      "cell_type": "code",
      "metadata": {
        "colab": {
          "base_uri": "https://localhost:8080/"
        },
        "id": "Stz_Zxu5We3u",
        "outputId": "402bb1a4-d662-421c-e4c6-9865fcf3e52f"
      },
      "source": [
        "%%writefile templates/prediction.html\n",
        "\n",
        "<!DOCTYPE html>\n",
        "<div class=\"header\">\n",
        "  <h1>Accident Level</h1>\n",
        "</div>\n",
        "\n",
        "<!--\n",
        "<div id=\"search-info\">\n",
        "  <!--<h2>There is a {{ prediction }}% chance your text is Accident Level.</h2>\n",
        "</div>\n",
        "-->\n",
        "\n",
        "<div id=\"search-info\">\n",
        "  <!--<h2>There is a {{ prediction }}% chance your text is Accident Level.</h2>\n",
        "</div>\n",
        "\n",
        "<style>\n",
        ".header {\n",
        "  font-family: 'Proxima Novas', sans-serif;\n",
        "  padding: 10px;\n",
        "  text-align: center;\n",
        "  background: #0077cc;\n",
        "  color: #ffffff;\n",
        "  font-size: 18px;\n",
        "}\n",
        "\n",
        "#search-info {\n",
        "  text-align: center;\n",
        "  font-family: 'Proxima Nova', sans-serif;\n",
        "  color: #0077cc;\n",
        "  font-size: 18px;\n",
        "  font-weight: 100;\n",
        "  padding: 20px;\n",
        "  margin: -30px -30px -10px -30px;\n",
        "}\n",
        "\n",
        "</style>\n"
      ],
      "execution_count": 292,
      "outputs": [
        {
          "output_type": "stream",
          "text": [
            "Overwriting templates/prediction.html\n"
          ],
          "name": "stdout"
        }
      ]
    },
    {
      "cell_type": "code",
      "metadata": {
        "colab": {
          "base_uri": "https://localhost:8080/"
        },
        "id": "a9G4NIPJX667",
        "outputId": "e8126fee-60e2-4e62-e1b3-e4b6a92cc4ca"
      },
      "source": [
        "%%writefile templates/search_page.html\n",
        "\n",
        "<!DOCTYPE html>\n",
        "<div class=\"header\">\n",
        "  <h1>Industrial-safety-and-health-analytics-database</h1>\n",
        "</div>\n",
        "\n",
        "<div id=\"search-info\">\n",
        "  <h2>Accident Severity Level predictor</h2>\n",
        "</div>\n",
        "\n",
        "<div id=\"search-info\">\n",
        "  <h3>A) Milestone-1)-Tasks</h3>\n",
        "</div>\n",
        "\n",
        "<div id=\"search-info\">\n",
        "  <h4>1) Import dataset into DataFrame</h4>\n",
        "</div>\n",
        "\n",
        "<div class=\"form-style-8\">\n",
        "  <form id=\"load_form\" action=\"/load\" method=\"POST\" target=\"_blank\" enctype=multipart/form-data>\n",
        "\t  <input type=\"submit\" value=\"Import dataset\" id=\"LoadButton\" />\n",
        "  </form>\n",
        "</div>\n",
        "\n",
        "\n",
        "<div id=\"search-info\">\n",
        "  <h4>2) Dataset Cleaning</h4>\n",
        "</div>\n",
        "\n",
        "\t<div class=\"form-style-8\">\n",
        "\t  <form id=\"Clean\" action=\"/clean\" method=\"POST\" target=\"_blank\" enctype=multipart/form-data>\n",
        "\t\t  <input type=\"submit\" value=\"Clean Dataset\" id=\"CleanButton\" />\n",
        "\t  </form>\n",
        "\t</div>\n",
        "\n",
        "\n",
        "<div id=\"search-info\">\n",
        "  <h4>3) Data preparation to be used for AIML model learning</h4>\n",
        "</div>\n",
        "\n",
        "<div class=\"form-style-8\">\n",
        "  <form id=\"prep\" action=\"/prep\" method=\"POST\" target=\"_blank\" enctype=multipart/form-data>\n",
        "\t  <input type=\"submit\" value=\"Prep Dataset\" id=\"PrepButton\" />\n",
        "  </form>\n",
        "</div>\n",
        "\n",
        "<div id=\"search-info\">\n",
        "\t<h3>B) Milestone-2-Tasks</h3>\n",
        "</div>\n",
        "\n",
        "<div id=\"search-info\">\n",
        "  <h4>1) NLP pre processing</h4>\n",
        "</div>\n",
        "\n",
        "\t<div class=\"form-style-8\">\n",
        "\t  <form id=\"train-test\" action=\"/nlp_preprocess\" method=\"POST\" target=\"_blank\" enctype=multipart/form-data>\n",
        "\t\t  <input type=\"submit\" value=\"NLP_Preprocess\" id=\"NLP_Preprocess\" />\n",
        "\t  </form>\n",
        "\t</div>\n",
        "\n",
        "\n",
        "<div id=\"search-info\">\n",
        "  <h4>2) Design, train and test machine learning classifiers</h4>\n",
        "</div>\n",
        "\n",
        "\t<div class=\"form-style-8\">\n",
        "\t  <form id=\"ML_clf\" action=\"/ML_clf\" method=\"POST\" target=\"_blank\" enctype=multipart/form-data>\n",
        "\t\t  <input type=\"submit\" value=\"ML_clf\" id=\"ML_clfButton\" />\n",
        "\t  </form>\n",
        "\t</div>\n",
        "\n",
        "<div id=\"search-info\">\n",
        "  <h4>3) Design, train and test Neural networks classifiers</h4>\n",
        "</div>\n",
        "\n",
        "\t<div class=\"form-style-8\">\n",
        "\t  <form id=\"NN_clf\" action=\"/NN_clf\" method=\"POST\" target=\"_blank\" enctype=multipart/form-data>\n",
        "\t\t  <input type=\"submit\" value=\"NN_clf\" id=\"NN_clfButton\" />\n",
        "\t  </form>\n",
        "\t</div>\n",
        "\n",
        "<div id=\"search-info\">\n",
        "  <h4>4) Design, train and test RNN or LSTM classifiers</h4>\n",
        "</div>\n",
        "\t<div class=\"form-style-8\">\n",
        "\t  <form id=\"LSTM_clf\" action=\"/LSTM_clf\" method=\"POST\" target=\"_blank\" enctype=multipart/form-data>\n",
        "\t\t  <input type=\"submit\" value=\"LSTM_clf\" id=\"LSTM_clfButton\" />\n",
        "\t  </form>\n",
        "\t</div>\n",
        "<div id=\"search-info\">\n",
        "  <h4>5) Predicts with LSTM</h4>\n",
        "</div>\n",
        "\t<div class=\"form-style-8\">\n",
        "\t  <form id=\"search_form\" action=\"/predicts_lstm\" method=\"POST\" target=\"_blank\">\n",
        "\t\t<input type=\"text\" name=\"text_entered\" placeholder=\"Enter text received\" />\n",
        "\t\t<input type=\"submit\" value=\"Get Accident Level prediction!\" id=\"PredictButton\" />\n",
        "\t  </form>\n",
        "</div>\t\t\t\t\t\t\t\t\n",
        "\n",
        "<script src=\"https://ajax.googleapis.com/ajax/libs/jquery/1.11.1/jquery.min.js\"></script>\n",
        "<script src=\"https://maxcdn.bootstrapcdn.com/bootstrap/3.2.0/js/bootstrap.min.js\"></script>\n",
        "\n",
        "<script>\n",
        "\n",
        "window.onload = function() {\n",
        "  jQuery(document).keypress(function(e) {\n",
        "    if (e.keyCode == 13) {\n",
        "      e.preventDefault();\n",
        "      jQuery('#SubmitButton').click();\n",
        "    }\n",
        "  });\n",
        "}\n",
        "\n",
        "</script>\n",
        "\n",
        "<style>\n",
        "\n",
        "h1{\n",
        "  font-weight: bold;\n",
        "  font-size: 2em;\n",
        "  font-family: 'Raleway', sans-serif;\n",
        "  margin: 0;\n",
        "  margin-top: 1px;\n",
        "  color: black;\n",
        "  text-align: center;\n",
        "  \n",
        "}\n",
        "\n",
        "h2{\n",
        "  font-weight: bold;\n",
        "  font-size: 1em;\n",
        "  font-family: 'Raleway', sans-serif;\n",
        "  margin: 0 auto;\n",
        "  margin-top: 10px;\n",
        "  width: 1000px;\n",
        "  color: black;\n",
        "  text-align: left;\n",
        "\n",
        "}\n",
        "\n",
        "h3 {\n",
        "  text-align: left;\n",
        "  padding-left: 3%;\n",
        "  font-size: 1.0em;\n",
        "  font-weight: bold;\n",
        "  color: black;\n",
        "  font-family: 'Raleway', sans-serif;\n",
        "  background-color: lightblue\n",
        "}\n",
        "\n",
        "h4 {\n",
        "  text-align: left;\n",
        "  padding-left: 3%;\n",
        "  font-size: 0.8em;\n",
        "  font-weight: bold;\n",
        "  color: black;\n",
        "  font-family: 'Sniglet', monospace;\n",
        "}\n",
        "\n",
        "#search-info {\n",
        "  text-align: center;\n",
        "  font-family: 'Proxima Nova', sans-serif;\n",
        "  color: #0077cc;\n",
        "  font-size: 24px;\n",
        "  font-weight: 100;\n",
        "  padding: 20px;\n",
        "  margin: -30px -30px -10px -30px;\n",
        "}\n",
        "\n",
        "</style>"
      ],
      "execution_count": 293,
      "outputs": [
        {
          "output_type": "stream",
          "text": [
            "Overwriting templates/search_page.html\n"
          ],
          "name": "stdout"
        }
      ]
    },
    {
      "cell_type": "code",
      "metadata": {
        "colab": {
          "base_uri": "https://localhost:8080/"
        },
        "id": "2R20U2MBT0yw",
        "outputId": "cbc2eae0-3515-4394-d941-4c0d171d4023"
      },
      "source": [
        "!pip install flask-ngrok"
      ],
      "execution_count": 294,
      "outputs": [
        {
          "output_type": "stream",
          "text": [
            "Requirement already satisfied: flask-ngrok in /usr/local/lib/python3.7/dist-packages (0.0.25)\n",
            "Requirement already satisfied: requests in /usr/local/lib/python3.7/dist-packages (from flask-ngrok) (2.23.0)\n",
            "Requirement already satisfied: Flask>=0.8 in /usr/local/lib/python3.7/dist-packages (from flask-ngrok) (1.1.2)\n",
            "Requirement already satisfied: idna<3,>=2.5 in /usr/local/lib/python3.7/dist-packages (from requests->flask-ngrok) (2.10)\n",
            "Requirement already satisfied: urllib3!=1.25.0,!=1.25.1,<1.26,>=1.21.1 in /usr/local/lib/python3.7/dist-packages (from requests->flask-ngrok) (1.24.3)\n",
            "Requirement already satisfied: certifi>=2017.4.17 in /usr/local/lib/python3.7/dist-packages (from requests->flask-ngrok) (2020.12.5)\n",
            "Requirement already satisfied: chardet<4,>=3.0.2 in /usr/local/lib/python3.7/dist-packages (from requests->flask-ngrok) (3.0.4)\n",
            "Requirement already satisfied: click>=5.1 in /usr/local/lib/python3.7/dist-packages (from Flask>=0.8->flask-ngrok) (7.1.2)\n",
            "Requirement already satisfied: Werkzeug>=0.15 in /usr/local/lib/python3.7/dist-packages (from Flask>=0.8->flask-ngrok) (1.0.1)\n",
            "Requirement already satisfied: Jinja2>=2.10.1 in /usr/local/lib/python3.7/dist-packages (from Flask>=0.8->flask-ngrok) (2.11.3)\n",
            "Requirement already satisfied: itsdangerous>=0.24 in /usr/local/lib/python3.7/dist-packages (from Flask>=0.8->flask-ngrok) (1.1.0)\n",
            "Requirement already satisfied: MarkupSafe>=0.23 in /usr/local/lib/python3.7/dist-packages (from Jinja2>=2.10.1->Flask>=0.8->flask-ngrok) (1.1.1)\n"
          ],
          "name": "stdout"
        }
      ]
    },
    {
      "cell_type": "code",
      "metadata": {
        "id": "I0iDWPJ2LPT-"
      },
      "source": [
        "#load model preprocessing\n",
        "import numpy as np\n",
        "import pandas as pd\n",
        "import pickle\n",
        "from keras.preprocessing.text import Tokenizer\n",
        "from keras.preprocessing.sequence import pad_sequences\n",
        "import keras.models\n",
        "from keras.models import model_from_json"
      ],
      "execution_count": 295,
      "outputs": []
    },
    {
      "cell_type": "code",
      "metadata": {
        "id": "P_ns50xDLQ5_"
      },
      "source": [
        "# # Load tokenizer for preprocessing\n",
        "# with open('tokenizer.pickle', 'rb') as handle:\n",
        "#     tokenizer = pickle.load(handle)"
      ],
      "execution_count": 296,
      "outputs": []
    },
    {
      "cell_type": "code",
      "metadata": {
        "id": "JliZMXIeLRa-"
      },
      "source": [
        "# # Load pre-trained model into memory\n",
        "# json_file = open('model.json','r')\n",
        "# loaded_model_json = json_file.read()\n",
        "# json_file.close()\n",
        "# loaded_model = model_from_json(loaded_model_json)"
      ],
      "execution_count": 297,
      "outputs": []
    },
    {
      "cell_type": "code",
      "metadata": {
        "id": "aFEPWHL-LSn9"
      },
      "source": [
        "# # Load weights into new model\n",
        "# loaded_model.load_weights(\"model.h5\")"
      ],
      "execution_count": 298,
      "outputs": []
    },
    {
      "cell_type": "code",
      "metadata": {
        "id": "CgL5Ed4iLTxA"
      },
      "source": [
        "def prepData(text):\n",
        "    # Convert to array\n",
        "    textDataArray = [text]\n",
        "    \n",
        "    # Convert into list with word ids\n",
        "    Features = tokenizer.texts_to_sequences(textDataArray)\n",
        "    Features = pad_sequences(Features, 20, padding='post')\n",
        "    \n",
        "    return Features"
      ],
      "execution_count": 299,
      "outputs": []
    },
    {
      "cell_type": "code",
      "metadata": {
        "id": "Zw6RJIxBLVmG"
      },
      "source": [
        "#loaded_model.compile(optimizer=\"Adam\",loss='binary_crossentropy',metrics=['accuracy'])"
      ],
      "execution_count": 300,
      "outputs": []
    },
    {
      "cell_type": "code",
      "metadata": {
        "id": "krH9hKRHT9fd"
      },
      "source": [
        "from flask_ngrok import run_with_ngrok \n",
        "\n",
        "app = Flask(__name__) \n",
        "app.config['UPLOAD_FOLDER'] = UPLOAD_FOLDER\n",
        "run_with_ngrok(app)   "
      ],
      "execution_count": 301,
      "outputs": []
    },
    {
      "cell_type": "code",
      "metadata": {
        "id": "hub5Yg8XXJpf"
      },
      "source": [
        "#@app.route(\"/\")\n",
        "#def home():\n",
        "#    return \"<h1>Running Flask on Google Colab!</h1>\"\n",
        "#    #return render_template('prediction.html', prediction=prediction)"
      ],
      "execution_count": 302,
      "outputs": []
    },
    {
      "cell_type": "code",
      "metadata": {
        "id": "EGWCtIHRgpo5"
      },
      "source": [
        "def allowed_file(filename):\n",
        "    return '.' in filename and \\\n",
        "           filename.rsplit('.', 1)[1].lower() in ALLOWED_EXTENSIONS\n",
        "\n",
        "@app.route('/load', methods=['GET', 'POST'])\n",
        "def load_dataset():\n",
        "  data = pd.read_csv(\"IHMStefanini_industrial_safety_and_health_database_with_accidents_description.csv\")\n",
        "  pickle.dump( data, open( \"raw_data.p\", \"wb\" ) )\n",
        "  html = data.to_html()\n",
        "  return html\n",
        "  #return \"Data Uploaded Successfully in Dataframe\"\n",
        "\n",
        "\n",
        "@app.route('/clean', methods=['GET', 'POST'])\n",
        "def data_clean():\n",
        "  #data = pd.read_csv(\"IHMStefanini_industrial_safety_and_health_database_with_accidents_description.csv\")\n",
        "  data = pickle.load( open( \"raw_data.p\", \"rb\" ) )\n",
        "  data.drop(\"Unnamed: 0\", axis=1, inplace=True)\n",
        "  data.rename(columns={'Data':'Date', 'Countries':'Country', 'Genre':'Gender', 'Employee or Third Party':'Employee type'}, inplace=True)\n",
        "  replace_values = {'Local_01': 1, 'Local_02': 2, 'Local_03': 3, 'Local_04': 4, 'Local_05': 5, 'Local_06': 6, 'Local_07': 7, 'Local_08': 8, 'Local_09': 9, 'Local_10': 10, 'Local_11': 11, 'Local_12': 12}\n",
        "  data['Local'] = data['Local'].map(replace_values)\n",
        "  replace_values = {'I': 1, 'II': 2, 'III': 3, 'IV': 4, 'V': 5}\n",
        "  data['Accident Level'] = data['Accident Level'].map(replace_values)\n",
        "  replace_values = {'I': 1, 'II': 2, 'III': 3, 'IV': 4, 'V': 5, 'VI': 6}\n",
        "  data['Potential Accident Level'] = data['Potential Accident Level'].map(replace_values)\n",
        "  del replace_values\n",
        "  pickle.dump( data, open( \"clean_data.p\", \"wb\" ) )\n",
        "  html = data.to_html()\n",
        "  #return \"File Cleaned Successfully\"\n",
        "  return html\n",
        "\n",
        "@app.route('/prep', methods=['GET', 'POST'])\n",
        "def data_prep():\n",
        "  data = pickle.load( open( \"clean_data.p\", \"rb\" ) )\n",
        "  html = data.to_html()\n",
        "  return html\n",
        "\n",
        "@app.route('/Train-Test', methods=['GET', 'POST'])\n",
        "def model_train_test_ML_classifiers():\n",
        "  pass\n",
        "\n",
        "# @app.route('/', methods = ['GET', 'POST'])\n",
        "# def predicts(new_text):\n",
        "#   pass\n",
        "\n",
        "# @app.route('/predicts', methods = ['GET', 'POST'])\n",
        "# def predicts(new_text):\n",
        "#   new_text = [\"During the tests of the soft starter of the engine of belt 03 the collaborator Igor moves around the site and at approximately 19:45 pm falls into a trench for electric cables, (0.90m deep), the same as was found partially discovered.\", \"\", \"\"]\n",
        "#   new_text = np.array(new_text, dtype=object)[:, np.newaxis]\n",
        "#   with tf.Session() as session:\n",
        "#     K.set_session(session)\n",
        "#     session.run(tf.global_variables_initializer())\n",
        "#     session.run(tf.tables_initializer())\n",
        "#     model.load_weights('./model_lstm.h5')  \n",
        "#     predicts = model.predict(new_text, batch_size=32)\n",
        "#   html = predicts.to_html()\n",
        "#   return html\n",
        "\n",
        "\n",
        "#define a predict function as an endpoint \n",
        "\n",
        "@app.route('/', methods=['GET','POST'])\n",
        "def predicts_lstm():\n",
        "    \n",
        "    #whenever the predict method is called, we're going\n",
        "    #to input the user entered text into the model\n",
        "    #and return a prediction\n",
        "    \n",
        "    if request.method=='POST':\n",
        "        new_text = request.form.get('text_entered')\n",
        "    #     with tf.Session() as session:\n",
        "    #       K.set_session(session)\n",
        "    #       session.run(tf.global_variables_initializer())\n",
        "    #       session.run(tf.tables_initializer())\n",
        "    #       model.load_weights('./model_lstm.h5')\n",
        "    #       predicts = model.predict(new_text, batch_size=32)\n",
        "    # html = predicts.to_html()\n",
        "    # return html\n",
        "        Features = prepData(new_text)\n",
        "        prediction = int((np.asscalar(loaded_model.predict(Features)))*100)\n",
        "        return render_template('prediction.html', prediction='prediction')\n",
        "        #print(prediction.dtypes)\n",
        "    \n",
        "    else:\n",
        "        return render_template(\"search_page.html\")\n"
      ],
      "execution_count": 303,
      "outputs": []
    },
    {
      "cell_type": "code",
      "metadata": {
        "colab": {
          "base_uri": "https://localhost:8080/"
        },
        "id": "FIVSFvuuLZwt",
        "outputId": "4f7719c3-a29d-4193-a8ba-292d1c64e05b"
      },
      "source": [
        "if __name__ == \"__main__\":\n",
        "  app.run()"
      ],
      "execution_count": 304,
      "outputs": [
        {
          "output_type": "stream",
          "text": [
            " * Serving Flask app \"__main__\" (lazy loading)\n",
            " * Environment: production\n",
            "\u001b[31m   WARNING: This is a development server. Do not use it in a production deployment.\u001b[0m\n",
            "\u001b[2m   Use a production WSGI server instead.\u001b[0m\n",
            " * Debug mode: off\n"
          ],
          "name": "stdout"
        },
        {
          "output_type": "stream",
          "text": [
            " * Running on http://127.0.0.1:5000/ (Press CTRL+C to quit)\n"
          ],
          "name": "stderr"
        },
        {
          "output_type": "stream",
          "text": [
            " * Running on http://856926baff52.ngrok.io\n",
            " * Traffic stats available on http://127.0.0.1:4040\n"
          ],
          "name": "stdout"
        },
        {
          "output_type": "stream",
          "text": [
            "127.0.0.1 - - [10/Apr/2021 02:46:22] \"\u001b[37mGET / HTTP/1.1\u001b[0m\" 200 -\n",
            "127.0.0.1 - - [10/Apr/2021 02:46:24] \"\u001b[33mGET /favicon.ico HTTP/1.1\u001b[0m\" 404 -\n",
            "127.0.0.1 - - [10/Apr/2021 02:46:26] \"\u001b[37mPOST /load HTTP/1.1\u001b[0m\" 200 -\n",
            "127.0.0.1 - - [10/Apr/2021 02:46:29] \"\u001b[37mPOST /clean HTTP/1.1\u001b[0m\" 200 -\n",
            "127.0.0.1 - - [10/Apr/2021 02:46:40] \"\u001b[33mPOST /predicts_lstm HTTP/1.1\u001b[0m\" 404 -\n"
          ],
          "name": "stderr"
        }
      ]
    }
  ]
}