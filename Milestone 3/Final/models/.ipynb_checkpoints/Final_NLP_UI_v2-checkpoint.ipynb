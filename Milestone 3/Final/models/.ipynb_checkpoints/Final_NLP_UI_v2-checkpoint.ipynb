{
 "cells": [
  {
   "cell_type": "code",
   "execution_count": 1,
   "metadata": {
    "colab": {
     "base_uri": "https://localhost:8080/"
    },
    "id": "QHjLRONpXEpY",
    "outputId": "3c4db140-4d06-405b-f966-7598f9707c1e"
   },
   "outputs": [
    {
     "name": "stdout",
     "output_type": "stream",
     "text": [
      "Mounted at /content/drive\n"
     ]
    }
   ],
   "source": [
    "# Mounting Google Drive\n",
    "from google.colab import drive\n",
    "drive.mount('/content/drive')"
   ]
  },
  {
   "cell_type": "code",
   "execution_count": 2,
   "metadata": {
    "id": "U4ueEcjdXGzQ"
   },
   "outputs": [],
   "source": [
    "# Setting the current working directory\n",
    "import os; os.chdir('/content/drive/MyDrive/AI_ML/Projects/Capstone-NLP/')"
   ]
  },
  {
   "cell_type": "markdown",
   "metadata": {
    "id": "bYLYN0uFzIbi"
   },
   "source": [
    "### Importing the Packages"
   ]
  },
  {
   "cell_type": "code",
   "execution_count": 3,
   "metadata": {
    "colab": {
     "base_uri": "https://localhost:8080/"
    },
    "id": "fVJOuPH45YkF",
    "outputId": "ab589e14-118c-47c3-b942-904f797b8268"
   },
   "outputs": [
    {
     "name": "stdout",
     "output_type": "stream",
     "text": [
      "2.4.1\n"
     ]
    }
   ],
   "source": [
    "# Importing the libraries\n",
    "# load packages\n",
    "import os\n",
    "from flask import Flask, flash, request, redirect, url_for\n",
    "from werkzeug.utils import secure_filename\n",
    "\n",
    "import flask\n",
    "app = flask.Flask(__name__)\n",
    "from flask import Flask, render_template, request\n",
    "\n",
    "import pickle\n",
    "\n",
    "#%tensorflow_version 1.x\n",
    "\n",
    "import tensorflow as tf\n",
    "from tensorflow import keras\n",
    "from tensorflow.keras.layers import Dense, Flatten, Conv2D\n",
    "from tensorflow.keras import Model\n",
    "from tensorflow.keras import backend as K\n",
    "\n",
    "# import keras.layers as layers\n",
    "# from keras.models import Model\n",
    "# from keras import backend as K\n",
    "# from keras.models import load_model\n",
    "\n",
    "print(tf.__version__)"
   ]
  },
  {
   "cell_type": "code",
   "execution_count": 4,
   "metadata": {
    "id": "F_p3pC60cQi6"
   },
   "outputs": [],
   "source": [
    "#UPLOAD_FOLDER = '/path/to/the/uploads'\n",
    "\n",
    "UPLOAD_FOLDER = '/content/drive/MyDrive/AI_ML/Projects/Capstone-NLP/'\n",
    "\n",
    "#ALLOWED_EXTENSIONS = {'txt', 'pdf', 'png', 'jpg', 'jpeg', 'gif'}\n",
    "\n",
    "ALLOWED_EXTENSIONS = {'csv'}"
   ]
  },
  {
   "cell_type": "code",
   "execution_count": 5,
   "metadata": {
    "id": "Cl6wct6IVwhl"
   },
   "outputs": [],
   "source": [
    "!mkdir templates -p"
   ]
  },
  {
   "cell_type": "code",
   "execution_count": 6,
   "metadata": {
    "id": "i2844SQlWK8T"
   },
   "outputs": [],
   "source": [
    "#!ls"
   ]
  },
  {
   "cell_type": "code",
   "execution_count": 7,
   "metadata": {
    "colab": {
     "base_uri": "https://localhost:8080/"
    },
    "id": "Stz_Zxu5We3u",
    "outputId": "149c551f-a611-4058-cb21-33c1ffc6d7a8"
   },
   "outputs": [
    {
     "name": "stdout",
     "output_type": "stream",
     "text": [
      "Overwriting templates/prediction.html\n"
     ]
    }
   ],
   "source": [
    "%%writefile templates/prediction.html\n",
    "\n",
    "<!DOCTYPE html>\n",
    "\n",
    "<div class=\"form_main\">\n",
    "\n",
    "<h4 class=\"heading\"><strong> Industrial-safety-and-health-analytics-database  </strong> <span></span></h4>\n",
    "\n",
    "<div class=\"header\">\n",
    "  <h3>The Accident Severity Level is {{ prediction }}</h3>\n",
    "</div>\n",
    "\n",
    "\n",
    "<style>\n",
    "\n",
    "form_main {\n",
    "      width: 100%;\n",
    "  }\n",
    "  .form_main h4 {\n",
    "      font-family: roboto;\n",
    "      font-size: 20px;\n",
    "      font-weight: 300;\n",
    "      margin-bottom: 15px;\n",
    "      margin-top: 20px;\n",
    "      text-transform: uppercase;\n",
    "  }\n",
    "  \n",
    "    .form_main h3 {\n",
    "      font-family: roboto;\n",
    "      font-size: 20px;\n",
    "      font-weight: 300;\n",
    "      margin-bottom: 15px;\n",
    "      margin-top: 20px;\n",
    "      \n",
    "  }\n",
    "  \n",
    "  .heading {\n",
    "      border-bottom: 1px solid #fcab0e;\n",
    "      padding-bottom: 9px;\n",
    "      position: relative;\n",
    "\t  text-align: center\n",
    "  }\n",
    "  .heading span {\n",
    "      background: #9e6600 none repeat scroll 0 0;\n",
    "      bottom: -2px;\n",
    "      height: 3px;\n",
    "      left: 0;\n",
    "      position: absolute;\n",
    "      width: 75px;\n",
    "  }\n",
    "  .form {\n",
    "      border-radius: 7px;\n",
    "      padding: 6px;\n",
    "  }\n",
    "\n",
    "\n",
    "</style>\n"
   ]
  },
  {
   "cell_type": "code",
   "execution_count": 8,
   "metadata": {
    "colab": {
     "base_uri": "https://localhost:8080/"
    },
    "id": "g3ZoNZrqxU4n",
    "outputId": "670c2518-b4d8-4576-df30-d3e40a624655"
   },
   "outputs": [
    {
     "name": "stdout",
     "output_type": "stream",
     "text": [
      "Overwriting templates/result.html\n"
     ]
    }
   ],
   "source": [
    "%%writefile templates/result.html\n",
    "\n",
    "<!doctype html>\n",
    "<html>\n",
    "   <body>\n",
    "        <div \n",
    "          <h2>There is a {{ result }} </h2>\n",
    "        </div>\n",
    "   </body>\n",
    "</html>"
   ]
  },
  {
   "cell_type": "code",
   "execution_count": 9,
   "metadata": {
    "colab": {
     "base_uri": "https://localhost:8080/"
    },
    "id": "a9G4NIPJX667",
    "outputId": "8657d0d1-5250-4068-c1f6-616cd31740ae"
   },
   "outputs": [
    {
     "name": "stdout",
     "output_type": "stream",
     "text": [
      "Overwriting templates/search_page.html\n"
     ]
    }
   ],
   "source": [
    "%%writefile templates/search_page.html\n",
    "\n",
    "<!DOCTYPE html>\n",
    "\n",
    "<div class=\"form_main\">\n",
    "\n",
    "<h4 class=\"heading\"><strong>Industrial-safety-and-health-analytics-database </strong> <span></span></h4>\n",
    "\n",
    "<div id=\"search-info\">\n",
    "  <h3>Accident Severity Level predictor</h3>\n",
    "</div>\n",
    "\n",
    "<div id=\"search-info\">\n",
    "  <h3>A) Milestone-1)-Tasks</h3>\n",
    "</div>\n",
    "\n",
    "\n",
    "<div id=\"search-info\">\n",
    "  <h4>0) Dataset Upload </h4>\n",
    "</div>\n",
    "\n",
    "<div class=\"form-style-8\">\n",
    "  <form id=\"load_form\" action=\"/upload\" method=\"POST\" target=\"_blank\" enctype=multipart/form-data>\n",
    "\t    <input type = \"file\" name = \"file\" />\n",
    "\t\t  <input type = \"submit\" value=\"Submit\" name=\"Sumbit\" class=\"txt2\"/>\n",
    "  </form>\n",
    "</div>\n",
    "\n",
    "\n",
    "<div id=\"search-info\">\n",
    "  <h4>1) Import dataset into DataFrame</h4>\n",
    "</div>\n",
    "\n",
    "<div class=\"form-style-8\">\n",
    "  <form id=\"load_form\" action=\"/import\" method=\"POST\" target=\"_blank\" enctype=multipart/form-data>\n",
    "\t   <input type=\"submit\" value=\"Import dataset\" name=\"Sumbit\" class=\"txt2\">\n",
    "  </form>\n",
    "</div>\n",
    "\n",
    "\n",
    "<div id=\"search-info\">\n",
    "  <h4>2) Dataset Cleaning</h4>\n",
    "</div>\n",
    "\n",
    "\t<div class=\"form-style-8\">\n",
    "\t  <form id=\"Clean\" action=\"/clean\" method=\"POST\" target=\"_blank\" enctype=multipart/form-data>\n",
    "\t\t  <input type=\"submit\" value=\"Clean Dataset\" name=\"Sumbit\" class=\"txt2\">\n",
    "\t  </form>\n",
    "\t</div>\n",
    "\n",
    "\n",
    "<div id=\"search-info\">\n",
    "\t<h3>B) Milestone-2-Tasks</h3>\n",
    "</div>\n",
    "\n",
    "<div id=\"search-info\">\n",
    "  <h4>3) Design, train and test for LSTM </h4>\n",
    "</div>\n",
    "\t<div class=\"form-style-8\">\n",
    "\t  <form id=\"search_form\" action=\"/all\" method=\"POST\" target=\"_blank\">\n",
    "\t\t<input type=\"submit\" value=\"PreProcess_Train\" name=\"Sumbit\" class=\"txt2\">\n",
    "\t  </form>\n",
    " </div>\n",
    "\n",
    "<div id=\"search-info\">\n",
    "  <h4>4) Prediction with LSTM</h4>\n",
    "</div>\n",
    "\t<div class=\"form-style-8\">\n",
    "\t  <form id=\"search_form\" action=\"/predict\" method=\"POST\" target=\"_blank\">\n",
    "\t\n",
    "\t\t<input type=\"text\" required=\"\" placeholder=\"input_str\" value=\"\" name=\"input_str\"\n",
    "                                  class=\"txt\">\n",
    "        <input type=\"submit\" value=\"Predict with Glove_LSTM\" name=\"Sumbit\" class=\"txt2\">\n",
    "\t  </form>\n",
    " </div>\n",
    "\n",
    "  \n",
    "<script src=\"https://ajax.googleapis.com/ajax/libs/jquery/1.11.1/jquery.min.js\"></script>\n",
    "<script src=\"https://maxcdn.bootstrapcdn.com/bootstrap/3.2.0/js/bootstrap.min.js\"></script>\n",
    "\n",
    "<script>\n",
    "\n",
    "window.onload = function() {\n",
    "  jQuery(document).keypress(function(e) {\n",
    "    if (e.keyCode == 13) {\n",
    "      e.preventDefault();\n",
    "      jQuery('#SubmitButton').click();\n",
    "    }\n",
    "  });\n",
    "}\n",
    "\n",
    "</script>\n",
    "\n",
    "<style>\n",
    "\n",
    "label {\n",
    "  background-color: indigo;\n",
    "  color: white;\n",
    "  padding: 0.5rem;\n",
    "  font-family: sans-serif;\n",
    "  border-radius: 0.3rem;\n",
    "  cursor: pointer;\n",
    "  margin-top: 1rem;\n",
    "}\n",
    "\n",
    "\n",
    "\n",
    "h1{\n",
    "  font-weight: bold;\n",
    "  font-size: 2em;\n",
    "  font-family: 'Raleway', sans-serif;\n",
    "  margin: 0;\n",
    "  margin-top: 1px;\n",
    "  color: black;\n",
    "  text-align: center;\n",
    "  \n",
    "}\n",
    "\n",
    "h2{\n",
    "  font-weight: bold;\n",
    "  font-size: 1em;\n",
    "  font-family: 'Raleway', sans-serif;\n",
    "  margin: 0 auto;\n",
    "  margin-top: 10px;\n",
    "  width: 1000px;\n",
    "  color: black;\n",
    "  text-align: left;\n",
    "\n",
    "}\n",
    "\n",
    "h3 {\n",
    "  text-align: left;\n",
    "  padding-left: 3%;\n",
    "  font-size: 1.0em;\n",
    "  font-weight: bold;\n",
    "  color: black;\n",
    "  font-family: 'Raleway', sans-serif;\n",
    "  background-color: lightblue\n",
    "}\n",
    "\n",
    "h4 {\n",
    "  text-align: left;\n",
    "  padding-left: 3%;\n",
    "  font-size: 0.8em;\n",
    "  font-weight: bold;\n",
    "  color: black;\n",
    "  font-family: 'Sniglet', monospace;\n",
    "}\n",
    "\n",
    "#search-info {\n",
    "  text-align: center;\n",
    "  font-family: 'Proxima Nova', sans-serif;\n",
    "  color: #0077cc;\n",
    "  font-size: 24px;\n",
    "  font-weight: 100;\n",
    "  padding: 20px;\n",
    "  margin: -30px -30px -10px -30px;\n",
    "}\n",
    "\n",
    "\n",
    "\n",
    "form_main {\n",
    "      width: 100%;\n",
    "  }\n",
    "  .form_main h4 {\n",
    "      font-family: roboto;\n",
    "      font-size: 20px;\n",
    "      font-weight: 300;\n",
    "      margin-bottom: 15px;\n",
    "      margin-top: 20px;\n",
    "      text-transform: uppercase;\n",
    "  }\n",
    "  \n",
    "    .form_main h3 {\n",
    "      font-family: roboto;\n",
    "      font-size: 20px;\n",
    "      font-weight: 300;\n",
    "      margin-bottom: 15px;\n",
    "      margin-top: 20px;\n",
    "      text-transform: uppercase;\n",
    "  }\n",
    "  \n",
    "  .heading {\n",
    "      border-bottom: 1px solid #fcab0e;\n",
    "      padding-bottom: 9px;\n",
    "      position: relative;\n",
    "\t  text-align: center\n",
    "  }\n",
    "  .heading span {\n",
    "      background: #9e6600 none repeat scroll 0 0;\n",
    "      bottom: -2px;\n",
    "      height: 3px;\n",
    "      left: 0;\n",
    "      position: absolute;\n",
    "      width: 75px;\n",
    "  }\n",
    "  .form {\n",
    "      border-radius: 7px;\n",
    "      padding: 6px;\n",
    "  }\n",
    "  .txt[type=\"text\"] {\n",
    "      border: 1px solid #ccc;\n",
    "      margin: 10px 0;\n",
    "      padding: 10px 0 10px 5px;\n",
    "      width: 100%;\n",
    "  }\n",
    "  .txt_3[type=\"text\"] {\n",
    "      margin: 10px 0 0;\n",
    "      padding: 10px 0 10px 5px;\n",
    "      width: 100%;\n",
    "  }\n",
    "  .txt2[type=\"submit\"] {\n",
    "      background: #242424 none repeat scroll 0 0;\n",
    "      border: 1px solid #4f5c04;\n",
    "      border-radius: 25px;\n",
    "      color: #fff;\n",
    "      font-size: 16px;\n",
    "      font-style: normal;\n",
    "      line-height: 35px;\n",
    "      margin: 10px 0;\n",
    "      padding: 0;\n",
    "      text-transform: uppercase;\n",
    "      width: 20%;\n",
    "  }\n",
    "  .txt2:hover {\n",
    "      background: rgba(0, 0, 0, 0) none repeat scroll 0 0;\n",
    "      color: #5793ef;\n",
    "      transition: all 0.5s ease 0s;\n",
    "  }\n",
    "\n",
    "  .notice {\n",
    "      padding: 15px;\n",
    "      background-color: #fafafa;\n",
    "      border-left: 6px solid #7f7f84;\n",
    "      margin-bottom: 10px;\n",
    "      -webkit-box-shadow: 0 5px 8px -6px rgba(0,0,0,.2);\n",
    "         -moz-box-shadow: 0 5px 8px -6px rgba(0,0,0,.2);\n",
    "              box-shadow: 0 5px 8px -6px rgba(0,0,0,.2);\n",
    "  }\n",
    "  .notice-sm {\n",
    "      padding: 10px;\n",
    "      font-size: 80%;\n",
    "  }\n",
    "  .notice-lg {\n",
    "      padding: 35px;\n",
    "      font-size: large;\n",
    "  }\n",
    "  .notice-success {\n",
    "      border-color: #80D651;\n",
    "  }\n",
    "  .notice-success>strong {\n",
    "      color: #80D651;\n",
    "  }\n",
    "  .notice-info {\n",
    "      border-color: #45ABCD;\n",
    "  }\n",
    "  .notice-info>strong {\n",
    "      color: #45ABCD;\n",
    "  }\n",
    "  .notice-warning {\n",
    "      border-color: #FEAF20;\n",
    "  }\n",
    "  .notice-warning>strong {\n",
    "      color: #FEAF20;\n",
    "  }\n",
    "  .notice-danger {\n",
    "      border-color: #d73814;\n",
    "  }\n",
    "  .notice-danger>strong {\n",
    "      color: #d73814;\n",
    "  }\n",
    "  \n",
    "</style>"
   ]
  },
  {
   "cell_type": "code",
   "execution_count": 10,
   "metadata": {
    "colab": {
     "base_uri": "https://localhost:8080/"
    },
    "id": "2R20U2MBT0yw",
    "outputId": "8660a12f-d31c-472d-a7b4-8a1d065fa1ae"
   },
   "outputs": [
    {
     "name": "stdout",
     "output_type": "stream",
     "text": [
      "Collecting flask-ngrok\n",
      "  Downloading https://files.pythonhosted.org/packages/af/6c/f54cb686ad1129e27d125d182f90f52b32f284e6c8df58c1bae54fa1adbc/flask_ngrok-0.0.25-py3-none-any.whl\n",
      "Requirement already satisfied: requests in /usr/local/lib/python3.7/dist-packages (from flask-ngrok) (2.23.0)\n",
      "Requirement already satisfied: Flask>=0.8 in /usr/local/lib/python3.7/dist-packages (from flask-ngrok) (1.1.2)\n",
      "Requirement already satisfied: idna<3,>=2.5 in /usr/local/lib/python3.7/dist-packages (from requests->flask-ngrok) (2.10)\n",
      "Requirement already satisfied: urllib3!=1.25.0,!=1.25.1,<1.26,>=1.21.1 in /usr/local/lib/python3.7/dist-packages (from requests->flask-ngrok) (1.24.3)\n",
      "Requirement already satisfied: chardet<4,>=3.0.2 in /usr/local/lib/python3.7/dist-packages (from requests->flask-ngrok) (3.0.4)\n",
      "Requirement already satisfied: certifi>=2017.4.17 in /usr/local/lib/python3.7/dist-packages (from requests->flask-ngrok) (2020.12.5)\n",
      "Requirement already satisfied: itsdangerous>=0.24 in /usr/local/lib/python3.7/dist-packages (from Flask>=0.8->flask-ngrok) (1.1.0)\n",
      "Requirement already satisfied: Jinja2>=2.10.1 in /usr/local/lib/python3.7/dist-packages (from Flask>=0.8->flask-ngrok) (2.11.3)\n",
      "Requirement already satisfied: Werkzeug>=0.15 in /usr/local/lib/python3.7/dist-packages (from Flask>=0.8->flask-ngrok) (1.0.1)\n",
      "Requirement already satisfied: click>=5.1 in /usr/local/lib/python3.7/dist-packages (from Flask>=0.8->flask-ngrok) (7.1.2)\n",
      "Requirement already satisfied: MarkupSafe>=0.23 in /usr/local/lib/python3.7/dist-packages (from Jinja2>=2.10.1->Flask>=0.8->flask-ngrok) (1.1.1)\n",
      "Installing collected packages: flask-ngrok\n",
      "Successfully installed flask-ngrok-0.0.25\n"
     ]
    }
   ],
   "source": [
    "!pip install flask-ngrok"
   ]
  },
  {
   "cell_type": "code",
   "execution_count": 11,
   "metadata": {
    "id": "I0iDWPJ2LPT-"
   },
   "outputs": [],
   "source": [
    "#load model preprocessing\n",
    "import numpy as np\n",
    "import pandas as pd\n",
    "import pickle\n",
    "from keras.preprocessing.text import Tokenizer\n",
    "from keras.preprocessing.sequence import pad_sequences\n",
    "import keras.models\n",
    "from keras.models import model_from_json"
   ]
  },
  {
   "cell_type": "code",
   "execution_count": 12,
   "metadata": {
    "id": "CgL5Ed4iLTxA"
   },
   "outputs": [],
   "source": [
    "def prepData(text):\n",
    "    # Convert to array\n",
    "    textDataArray = [text]\n",
    "    \n",
    "    # Convert into list with word ids\n",
    "    Features = tokenizer.texts_to_sequences(textDataArray)\n",
    "    Features = pad_sequences(Features, 20, padding='post')\n",
    "    \n",
    "    return Features"
   ]
  },
  {
   "cell_type": "code",
   "execution_count": 13,
   "metadata": {
    "id": "krH9hKRHT9fd"
   },
   "outputs": [],
   "source": [
    "from flask_ngrok import run_with_ngrok \n",
    "\n",
    "app = Flask(__name__) \n",
    "app.config['UPLOAD_FOLDER'] = UPLOAD_FOLDER\n",
    "run_with_ngrok(app)   "
   ]
  },
  {
   "cell_type": "code",
   "execution_count": 14,
   "metadata": {
    "id": "hOFsQJK-8JBD"
   },
   "outputs": [],
   "source": [
    "# new_text = ['text_entered', '1', '2']\n",
    "# type(new_text)\n",
    "# new_text = np.array(new_text, dtype=object)[:, np.newaxis]\n",
    "# new_text.shape"
   ]
  },
  {
   "cell_type": "code",
   "execution_count": 15,
   "metadata": {
    "id": "OkfzTEZZs56K"
   },
   "outputs": [],
   "source": [
    "# names =[]\n",
    "# new = 'text'\n",
    "# new = ['DowDuPont', 'Alphabet Inc', new]\n",
    "# #names.extend(more_elements)\n",
    "# print(new)"
   ]
  },
  {
   "cell_type": "markdown",
   "metadata": {
    "id": "oZprYuQ5iglf"
   },
   "source": [
    "##**Function Helpers**"
   ]
  },
  {
   "cell_type": "code",
   "execution_count": 16,
   "metadata": {
    "id": "EGWCtIHRgpo5"
   },
   "outputs": [],
   "source": [
    "import keras\n",
    "from keras.models import load_model\n",
    "\n",
    "def allowed_file(filename):\n",
    "    return '.' in filename and \\\n",
    "           filename.rsplit('.', 1)[1].lower() in ALLOWED_EXTENSIONS\n",
    "\n",
    "@app.route('/upload', methods = ['GET', 'POST'])\n",
    "def upload():\n",
    "    if request.method == 'POST':  \n",
    "        f = request.files['file']  \n",
    "        f.save(secure_filename(f.filename))\n",
    "        pickle.dump( f, open( \"raw_data.p\", \"wb\" ) )\n",
    "        return \"File Uploaded Successfully\"  \n",
    "\n",
    "\n",
    "@app.route('/import', methods=['GET', 'POST'])\n",
    "def load_dataset():\n",
    "  #data = pickle.load( open( \"raw_data.p\", \"rb\" ) )\n",
    "  #data = pickle.load( open( \"raw_data.p\", \"rb\" ) )\n",
    "  #pickle.dump( data, open( \"raw_data.p\", \"wb\" ) )\n",
    "  #df = pd.read_pickle(data)\n",
    "  data = pd.read_csv(\"IHMStefanini_industrial_safety_and_health_database_with_accidents_description.csv\")\n",
    "  html = data.to_html()\n",
    "  return html\n",
    "  #return \"Data Uploaded Successfully in Dataframe\"\n",
    "\n",
    "\n",
    "@app.route('/clean', methods=['GET', 'POST'])\n",
    "def data_clean():\n",
    "  data = pd.read_csv(\"IHMStefanini_industrial_safety_and_health_database_with_accidents_description.csv\")\n",
    "  #data = pickle.load( open( \"raw_data.p\", \"rb\" ) )\n",
    "  data.drop(\"Unnamed: 0\", axis=1, inplace=True)\n",
    "  data.rename(columns={'Data':'Date', 'Countries':'Country', 'Genre':'Gender', 'Employee or Third Party':'Employee type'}, inplace=True)\n",
    "  replace_values = {'Local_01': 1, 'Local_02': 2, 'Local_03': 3, 'Local_04': 4, 'Local_05': 5, 'Local_06': 6, 'Local_07': 7, 'Local_08': 8, 'Local_09': 9, 'Local_10': 10, 'Local_11': 11, 'Local_12': 12}\n",
    "  data['Local'] = data['Local'].map(replace_values)\n",
    "  replace_values = {'I': 1, 'II': 2, 'III': 3, 'IV': 4, 'V': 5}\n",
    "  data['Accident Level'] = data['Accident Level'].map(replace_values)\n",
    "  replace_values = {'I': 1, 'II': 2, 'III': 3, 'IV': 4, 'V': 5, 'VI': 6}\n",
    "  data['Potential Accident Level'] = data['Potential Accident Level'].map(replace_values)\n",
    "  del replace_values\n",
    "  pickle.dump( data, open( \"clean_data.p\", \"wb\" ) )\n",
    "  html = data.to_html()\n",
    "  #return \"File Cleaned Successfully\"\n",
    "  return html\n",
    "\n",
    "# @app.route('/test_nlp_preprocess', methods=['GET', 'POST'])\n",
    "# def data_for_nlp():\n",
    "#   data = pickle.load( open( \"clean_data.p\", \"rb\" ) )\n",
    "#   html = data.to_html()\n",
    "#   return html\n",
    "\n",
    "# @app.route('/result', methods=['GET', 'POST'])\n",
    "# def result():\n",
    "#    if request.method == 'POST':\n",
    "#       result = request.form.get('result')\n",
    "#       #return \"You entered \"+result\n",
    "#       return render_template(\"result.html\", result = result)\n",
    "\n",
    "# @app.route('/predicts_USE', methods=['GET','POST'])\n",
    "# def predicts_use():\n",
    "#     if request.method=='POST':\n",
    "#       new_text = request.form.get('text_entered')\n",
    "#       new_text = np.array(new_text, dtype=object)[:, np.newaxis]\n",
    "#       model.load_weights('./model_lstm.h5')  \n",
    "#       predicts = model.predict(new_text, batch_size=32)\n",
    "#       categories = df_train[target].cat.categories.tolist()\n",
    "#       predict_logits = predicts.argmax(axis=1)\n",
    "#       predict_labels = [categories[logit] for logit in predict_logits]\n",
    "#       prediction = predict_labels[0]\n",
    "#       return prediction\n",
    "#       #return render_template('prediction.html', prediction='prediction')\n",
    "\n",
    "# @app.route('/', methods = ['GET', 'POST'])\n",
    "# def predicts(new_text):\n",
    "#   pass\n",
    "\n",
    "@app.route('/', methods = ['GET', 'POST'])\n",
    "def home():\n",
    "  return render_template(\"search_page.html\")\n",
    "\n",
    "@app.route('/predicts_use', methods = ['GET', 'POST'])\n",
    "def predicts_use():\n",
    "    import tensorflow as tf\n",
    "    import tensorflow_hub as hub\n",
    "    import tensorflow.compat.v1 as tf\n",
    "    from tensorflow.keras import Model\n",
    "    from tensorflow.keras import layers\n",
    "    from tensorflow.keras import backend as K\n",
    "    graph = tf.Graph() #https://stackoverflow.com/questions/52392407/tensorflow-module-must-be-applied-in-the-graph-it-was-instantiated-for\n",
    "    \n",
    "    if request.method=='POST':\n",
    "        prediction = []\n",
    "        prediction = request.form.get('prediction')\n",
    "        prediction = [prediction, 'text', 'text']\n",
    "        print(type(prediction))\n",
    "        print(prediction)\n",
    "        prediction = np.array(prediction, dtype=object)[:, np.newaxis]\n",
    "        graph = tf.Graph()\n",
    "        with tf.Session(graph = graph) as session:\n",
    "           K.set_session(session)\n",
    "           session.run([tf.global_variables_initializer(), tf.tables_initializer()])\n",
    "           embed = hub.Module(\"https://tfhub.dev/google/universal-sentence-encoder-large/3\")\n",
    "           \n",
    "          #  def UniversalEmbedding(x):\n",
    "          #    import tensorflow as tf\n",
    "          #    return embed(tf.squeeze(tf.cast(x, tf.string)), signature=\"default\", as_dict=True)[\"default\"]\n",
    "\n",
    "          #  embed_size = embed.get_output_info_dict()['default'].get_shape()[1].value\n",
    "          #  print(embed_size)\n",
    "          #  input_text = layers.Input(shape=(1,), dtype=\"string\")\n",
    "          #  embedding = layers.Lambda(UniversalEmbedding,output_shape=(embed_size,))(input_text)\n",
    "           \n",
    "           message_embeddings = session.run(embed(tf.cast(prediction, dtype=tf.string, name=None)))\n",
    "           print(message_embeddings)\n",
    "           return render_template('prediction.html', prediction = prediction )\n",
    "\n",
    "\n",
    "\n",
    "\n"
   ]
  },
  {
   "cell_type": "code",
   "execution_count": 17,
   "metadata": {
    "id": "J_QKmrZzjCsR"
   },
   "outputs": [],
   "source": [
    "#Load, Clean, Pre-Process, Split, Train, Test, Create Embedding, Build Model, Save Model\n",
    "@app.route('/all', methods=['GET', 'POST'])\n",
    "def all():\n",
    "  from preprocess_train_v2 import preprocess_data, create_save_w2v_embedding, train_save_w2_model\n",
    "  data = pd.read_csv('data.csv')\n",
    "  df = preprocess_data(data)\n",
    "  w2v_embedding_file = 'embedding_word2vec.txt'\n",
    "  w2v_model_dir = 'w2v_model_dir'\n",
    "  desc_lines = create_save_w2v_embedding(w2v_embedding_file, df)\n",
    "  train_save_w2_model(df, w2v_embedding_file, desc_lines, w2v_model_dir)\n",
    "  return \"Load, Clean, Pre-Process, Split, Train, Test, Create Embedding, Build Model, Save Model Completed Successfully\"\n",
    "\n"
   ]
  },
  {
   "cell_type": "code",
   "execution_count": 18,
   "metadata": {
    "id": "pDtqViJpKnl1"
   },
   "outputs": [],
   "source": [
    "#Predict:\n",
    "@app.route('/predict', methods=['GET', 'POST'])\n",
    "def predict():\n",
    "   from preprocess_train_v2 import predict\n",
    "   if request.method == 'POST':\n",
    "      input_str = request.form.get('input_str')\n",
    "      w2v_embedding_file = \"embedding_word2vec.txt\"\n",
    "      w2v_model_dir = \"w2v_model_dir\"\n",
    "      input_str = predict(input_str, w2v_model_dir, w2v_embedding_file)\n",
    "      #return \"You entered \"+result\n",
    "      #return render_template(\"result.html\", result = prediction)\n",
    "      #html = prediction.to_html()\n",
    "      #return(\"Prediction: \".format(input_str))\n",
    "      return render_template('prediction.html', prediction=input_str)\n",
    "      #return render_template('search.html', prediction=input_str)\n",
    "      #result[\"sim_msg\"] = input_str\n",
    "      #return render_template(\"search.html\", result=result)\n"
   ]
  },
  {
   "cell_type": "code",
   "execution_count": 19,
   "metadata": {
    "colab": {
     "base_uri": "https://localhost:8080/",
     "height": 1000
    },
    "id": "FIVSFvuuLZwt",
    "outputId": "459bf1ac-0bd6-4968-c821-7b5a3576f0d6"
   },
   "outputs": [
    {
     "name": "stdout",
     "output_type": "stream",
     "text": [
      " * Serving Flask app \"__main__\" (lazy loading)\n",
      " * Environment: production\n",
      "\u001b[31m   WARNING: This is a development server. Do not use it in a production deployment.\u001b[0m\n",
      "\u001b[2m   Use a production WSGI server instead.\u001b[0m\n",
      " * Debug mode: off\n"
     ]
    },
    {
     "name": "stderr",
     "output_type": "stream",
     "text": [
      " * Running on http://127.0.0.1:5000/ (Press CTRL+C to quit)\n"
     ]
    },
    {
     "name": "stdout",
     "output_type": "stream",
     "text": [
      " * Running on http://09498d00e820.ngrok.io\n",
      " * Traffic stats available on http://127.0.0.1:4040\n"
     ]
    },
    {
     "name": "stderr",
     "output_type": "stream",
     "text": [
      "127.0.0.1 - - [25/Apr/2021 07:00:24] \"\u001b[37mGET / HTTP/1.1\u001b[0m\" 200 -\n",
      "127.0.0.1 - - [25/Apr/2021 07:00:25] \"\u001b[33mGET /favicon.ico HTTP/1.1\u001b[0m\" 404 -\n"
     ]
    },
    {
     "name": "stdout",
     "output_type": "stream",
     "text": [
      "[nltk_data] Downloading package wordnet to /root/nltk_data...\n",
      "[nltk_data]   Unzipping corpora/wordnet.zip.\n",
      "[nltk_data] Downloading package stopwords to /root/nltk_data...\n",
      "[nltk_data]   Unzipping corpora/stopwords.zip.\n",
      "[nltk_data] Downloading package punkt to /root/nltk_data...\n",
      "[nltk_data]   Unzipping tokenizers/punkt.zip.\n"
     ]
    },
    {
     "name": "stderr",
     "output_type": "stream",
     "text": [
      "/usr/local/lib/python3.7/dist-packages/sklearn/externals/six.py:31: FutureWarning: The module is deprecated in version 0.21 and will be removed in version 0.23 since we've dropped support for Python 2.7. Please rely on the official version of six (https://pypi.org/project/six/).\n",
      "  \"(https://pypi.org/project/six/).\", FutureWarning)\n",
      "/usr/local/lib/python3.7/dist-packages/sklearn/utils/deprecation.py:144: FutureWarning: The sklearn.neighbors.base module is  deprecated in version 0.22 and will be removed in version 0.24. The corresponding classes / functions should instead be imported from sklearn.neighbors. Anything that cannot be imported from sklearn.neighbors is now part of the private API.\n",
      "  warnings.warn(message, FutureWarning)\n"
     ]
    },
    {
     "name": "stdout",
     "output_type": "stream",
     "text": [
      "Shape of input data: (425, 11)\n"
     ]
    },
    {
     "name": "stderr",
     "output_type": "stream",
     "text": [
      "/usr/local/lib/python3.7/dist-packages/pandas/core/generic.py:5170: SettingWithCopyWarning: \n",
      "A value is trying to be set on a copy of a slice from a DataFrame.\n",
      "Try using .loc[row_indexer,col_indexer] = value instead\n",
      "\n",
      "See the caveats in the documentation: https://pandas.pydata.org/pandas-docs/stable/user_guide/indexing.html#returning-a-view-versus-a-copy\n",
      "  self[name] = value\n"
     ]
    },
    {
     "name": "stdout",
     "output_type": "stream",
     "text": [
      "\n",
      " Longest line at idx: 174\n",
      "\n",
      " Length of longest line: 622\n",
      "\n",
      " Longest line:: level gallery hold activity bolter equipment no operator perform drill first hole support right gable drill end drill rod break leave thread inside drill machine shank operator assistant decide make two empty percussion attempt free thread shank without success third attempt assistant enter corrugate iron central hole rest bar embed shank generate pressure moment operator activate percussion generate movement shank hit palm victim leave hand generate describe injury worker wear safety gloves time accident end corrugate iron contact leave hand shape like cane worker time accident position roof support mesh split set\n",
      "Vocabulary size: 2372\n",
      "\n",
      ": Saving model file: embedding_word2vec.txt\n",
      "\n",
      " Found 2372 unique tokens.\n",
      "\n",
      " Shape of Desc tensor: (425, 100)\n",
      "\n",
      " Shape of label tensor: (425, 5)\n",
      "\n",
      " Applying Train-Validation 90-10 split::\n",
      "\n",
      "\n",
      "######################################## \n",
      "Number of rows in training dataset: 382\n",
      "Number of columns in training dataset: 100\n",
      "Number of unique words in training dataset: 2253\n",
      "######################################## \n",
      "Number of rows in validation dataset: 43\n",
      "Number of columns in validation dataset: 100\n",
      "Number of unique words in validation dataset: 675\n",
      "########################################\n",
      "\n",
      "##\n",
      "##\n",
      "##\n",
      "##\n",
      "##\n",
      "##\n",
      "##\n",
      "##\n",
      "##\n",
      "##\n",
      "##\n",
      "##\n",
      "##\n",
      "##\n",
      "##\n",
      "##\n",
      "##\n",
      "##\n",
      "##\n",
      "##\n",
      "\n",
      "Applying SMOTENC::\n",
      "\n",
      "\n"
     ]
    },
    {
     "name": "stderr",
     "output_type": "stream",
     "text": [
      "/usr/local/lib/python3.7/dist-packages/sklearn/utils/deprecation.py:87: FutureWarning: Function safe_indexing is deprecated; safe_indexing is deprecated in version 0.22 and will be removed in version 0.24.\n",
      "  warnings.warn(msg, category=FutureWarning)\n",
      "/usr/local/lib/python3.7/dist-packages/sklearn/utils/deprecation.py:87: FutureWarning: Function safe_indexing is deprecated; safe_indexing is deprecated in version 0.22 and will be removed in version 0.24.\n",
      "  warnings.warn(msg, category=FutureWarning)\n"
     ]
    },
    {
     "name": "stdout",
     "output_type": "stream",
     "text": [
      "\n",
      " Before Sampling: X_train: (382, 100), y_train: (382, 5)\n",
      "\n",
      " After Sampling: X: (1395, 100), y: (1395, 5)\n",
      "\n",
      " Apply train-test split 80-20:\n",
      "\n",
      "\n",
      "\n",
      " After oversampling: X_train: (1116, 100), y_train: (1116, 5)\n",
      "\n",
      " After oversampling: X_test : (279, 100), y_test : (279, 5)\n",
      "\n",
      " Embedding Matrix shape: (2373, 100)\n",
      "Model: \"sequential\"\n",
      "_________________________________________________________________\n",
      "Layer (type)                 Output Shape              Param #   \n",
      "=================================================================\n",
      "embedding (Embedding)        (None, 100, 100)          237300    \n",
      "_________________________________________________________________\n",
      "conv1d (Conv1D)              (None, 96, 128)           64128     \n",
      "_________________________________________________________________\n",
      "spatial_dropout1d (SpatialDr (None, 96, 128)           0         \n",
      "_________________________________________________________________\n",
      "lstm (LSTM)                  (None, 128)               131584    \n",
      "_________________________________________________________________\n",
      "dense (Dense)                (None, 5)                 645       \n",
      "=================================================================\n",
      "Total params: 433,657\n",
      "Trainable params: 196,357\n",
      "Non-trainable params: 237,300\n",
      "_________________________________________________________________\n",
      "\n",
      " Model Summary\n",
      "\n",
      "\n",
      " ... Fitting the model...\n",
      "\n",
      "Epoch 1/10\n",
      "18/18 - 11s - loss: 1.6061 - accuracy: 0.1765 - val_loss: 1.5594 - val_accuracy: 0.0465\n",
      "Epoch 2/10\n",
      "18/18 - 6s - loss: 1.5602 - accuracy: 0.2778 - val_loss: 1.5638 - val_accuracy: 0.1628\n",
      "Epoch 3/10\n",
      "18/18 - 6s - loss: 1.5149 - accuracy: 0.3351 - val_loss: 1.4668 - val_accuracy: 0.1395\n",
      "Epoch 4/10\n",
      "18/18 - 6s - loss: 1.5172 - accuracy: 0.3647 - val_loss: 1.3801 - val_accuracy: 0.5116\n",
      "Epoch 5/10\n",
      "18/18 - 6s - loss: 1.3948 - accuracy: 0.3826 - val_loss: 1.5699 - val_accuracy: 0.2791\n",
      "Epoch 6/10\n",
      "18/18 - 6s - loss: 1.3526 - accuracy: 0.4203 - val_loss: 1.3515 - val_accuracy: 0.4884\n",
      "Epoch 7/10\n",
      "18/18 - 6s - loss: 1.3324 - accuracy: 0.4292 - val_loss: 1.3396 - val_accuracy: 0.5116\n",
      "Epoch 8/10\n",
      "18/18 - 6s - loss: 1.3047 - accuracy: 0.4471 - val_loss: 1.4879 - val_accuracy: 0.2791\n",
      "Epoch 9/10\n",
      "18/18 - 6s - loss: 1.2863 - accuracy: 0.4409 - val_loss: 1.2907 - val_accuracy: 0.4884\n",
      "Epoch 10/10\n",
      "18/18 - 6s - loss: 1.2726 - accuracy: 0.4740 - val_loss: 1.4030 - val_accuracy: 0.4419\n"
     ]
    },
    {
     "data": {
      "image/png": "[encoded data removed]",
      "text/plain": [
       "<Figure size 1728x432 with 2 Axes>"
      ]
     },
     "metadata": {
      "tags": []
     },
     "output_type": "display_data"
    },
    {
     "name": "stdout",
     "output_type": "stream",
     "text": [
      "\n",
      "\n",
      " Testing the model...\n",
      "\n",
      "\n",
      "28/28 [==============================] - 1s 23ms/step - loss: 1.4468 - accuracy: 0.3369\n",
      "\n",
      "Test score: 1.446824073791504\n",
      "\n",
      "Test accuracy: 0.33691754937171936\n",
      "\n",
      "Accuracy: 33.69%\n"
     ]
    },
    {
     "name": "stderr",
     "output_type": "stream",
     "text": [
      "/usr/local/lib/python3.7/dist-packages/tensorflow/python/keras/engine/sequential.py:425: UserWarning: `model.predict_proba()` is deprecated and will be removed after 2021-01-01. Please use `model.predict()` instead.\n",
      "  warnings.warn('`model.predict_proba()` is deprecated and '\n"
     ]
    },
    {
     "name": "stdout",
     "output_type": "stream",
     "text": [
      "5/5 [==============================] - 0s 46ms/step\n",
      "              precision    recall  f1-score   support\n",
      "\n",
      "           0       0.42      0.29      0.34        62\n",
      "           1       0.28      0.49      0.35        51\n",
      "           2       0.31      0.30      0.30        54\n",
      "           3       0.28      0.31      0.30        54\n",
      "           4       0.53      0.31      0.39        58\n",
      "\n",
      "    accuracy                           0.34       279\n",
      "   macro avg       0.36      0.34      0.34       279\n",
      "weighted avg       0.37      0.34      0.34       279\n",
      "\n"
     ]
    },
    {
     "data": {
      "image/png": "[encoded data removed]",
      "text/plain": [
       "<Figure size 432x288 with 2 Axes>"
      ]
     },
     "metadata": {
      "tags": []
     },
     "output_type": "display_data"
    },
    {
     "data": {
      "image/png": "[encoded data removed]",
      "text/plain": [
       "<Figure size 1008x576 with 5 Axes>"
      ]
     },
     "metadata": {
      "tags": []
     },
     "output_type": "display_data"
    },
    {
     "name": "stdout",
     "output_type": "stream",
     "text": [
      "\n",
      " Saving w2v mode::\n",
      "INFO:tensorflow:Assets written to: w2v_model_dir/assets\n"
     ]
    },
    {
     "name": "stderr",
     "output_type": "stream",
     "text": [
      "127.0.0.1 - - [25/Apr/2021 07:02:00] \"\u001b[37mPOST /all HTTP/1.1\u001b[0m\" 200 -\n"
     ]
    },
    {
     "name": "stdout",
     "output_type": "stream",
     "text": [
      "\n",
      " Found 22 unique tokens.\n",
      "WARNING:tensorflow:Model was constructed with shape (None, 100) for input KerasTensor(type_spec=TensorSpec(shape=(None, 100), dtype=tf.float32, name='embedding_input'), name='embedding_input', description=\"created by layer 'embedding_input'\"), but it was called on an input with incompatible shape (None, 30).\n"
     ]
    },
    {
     "name": "stderr",
     "output_type": "stream",
     "text": [
      "/usr/local/lib/python3.7/dist-packages/tensorflow/python/keras/engine/sequential.py:425: UserWarning: `model.predict_proba()` is deprecated and will be removed after 2021-01-01. Please use `model.predict()` instead.\n",
      "  warnings.warn('`model.predict_proba()` is deprecated and '\n"
     ]
    },
    {
     "name": "stdout",
     "output_type": "stream",
     "text": [
      "5/5 [==============================] - 0s 16ms/step\n"
     ]
    },
    {
     "name": "stderr",
     "output_type": "stream",
     "text": [
      "127.0.0.1 - - [25/Apr/2021 07:03:33] \"\u001b[37mPOST /predict HTTP/1.1\u001b[0m\" 200 -\n"
     ]
    },
    {
     "name": "stdout",
     "output_type": "stream",
     "text": [
      "\n",
      "Prediction class: 0\n"
     ]
    }
   ],
   "source": [
    "if __name__ == \"__main__\":\n",
    "  app.run()"
   ]
  }
 ],
 "metadata": {
  "accelerator": "GPU",
  "colab": {
   "collapsed_sections": [],
   "name": "Final_NLP_UI_v2.ipynb",
   "provenance": []
  },
  "kernelspec": {
   "display_name": "Python 3",
   "language": "python",
   "name": "python3"
  },
  "language_info": {
   "codemirror_mode": {
    "name": "ipython",
    "version": 3
   },
   "file_extension": ".py",
   "mimetype": "text/x-python",
   "name": "python",
   "nbconvert_exporter": "python",
   "pygments_lexer": "ipython3",
   "version": "3.7.6"
  }
 },
 "nbformat": 4,
 "nbformat_minor": 1
}
