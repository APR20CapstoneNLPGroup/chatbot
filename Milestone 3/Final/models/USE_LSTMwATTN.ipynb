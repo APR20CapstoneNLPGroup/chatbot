{
  "nbformat": 4,
  "nbformat_minor": 0,
  "metadata": {
    "accelerator": "GPU",
    "colab": {
      "name": "USE_LSTMwATTN.ipynb",
      "provenance": [],
      "collapsed_sections": []
    },
    "kernelspec": {
      "display_name": "Python 3",
      "name": "python3"
    }
  },
  "cells": [
    {
      "cell_type": "markdown",
      "metadata": {
        "id": "hSk1ErjEpK8B"
      },
      "source": [
        "#Universal Sentence Encoder with LSTM"
      ]
    },
    {
      "cell_type": "code",
      "metadata": {
        "colab": {
          "base_uri": "https://localhost:8080/"
        },
        "id": "QHjLRONpXEpY",
        "outputId": "94817c79-6c2e-4868-dfa4-f2d61e03804e"
      },
      "source": [
        "# Mounting Google Drive\n",
        "from google.colab import drive\n",
        "drive.mount('/content/drive')"
      ],
      "execution_count": 1,
      "outputs": [
        {
          "output_type": "stream",
          "text": [
            "Mounted at /content/drive\n"
          ],
          "name": "stdout"
        }
      ]
    },
    {
      "cell_type": "code",
      "metadata": {
        "id": "U4ueEcjdXGzQ"
      },
      "source": [
        "# Setting the current working directory\n",
        "import os; os.chdir('/content/drive/MyDrive/AI_ML/Projects/Capstone-NLP')"
      ],
      "execution_count": 2,
      "outputs": []
    },
    {
      "cell_type": "markdown",
      "metadata": {
        "id": "bYLYN0uFzIbi"
      },
      "source": [
        "### Importing the necessary Libraries"
      ]
    },
    {
      "cell_type": "code",
      "metadata": {
        "colab": {
          "base_uri": "https://localhost:8080/"
        },
        "id": "MCDtOFSVKFgi",
        "outputId": "0d68e85b-aaa6-45af-8618-93a3fc621a61"
      },
      "source": [
        "import numpy as np\n",
        "import pandas as pd\n",
        "import matplotlib.pyplot as plt\n",
        "%matplotlib inline\n",
        "import seaborn as sns\n",
        "import re\n",
        "import random\n",
        "\n",
        "import pickle\n",
        "\n",
        "from sklearn.model_selection import train_test_split\n",
        "from sklearn.linear_model import LogisticRegression\n",
        "from sklearn.preprocessing import LabelEncoder\n",
        "from sklearn.preprocessing import OneHotEncoder\n",
        "from sklearn import metrics\n",
        "from sklearn.metrics import accuracy_score, classification_report, confusion_matrix, roc_curve\n",
        "\n",
        "\n",
        "%tensorflow_version 1.x\n",
        "\n",
        "import tensorflow as tf\n",
        "import tensorflow_hub as hub\n",
        "from tensorflow.keras.callbacks import EarlyStopping, ModelCheckpoint, ReduceLROnPlateau\n",
        "from tensorflow.keras.layers import Dense, Flatten, Conv1D, Conv2D, Input, LSTM,Activation, Dropout,Embedding,  MaxPooling1D, Bidirectional\n",
        "import seaborn as sns\n",
        "from tensorflow import keras\n",
        "from tensorflow.keras import Model\n",
        "from tensorflow.keras import layers\n",
        "from tensorflow.keras import backend as K\n",
        "\n",
        "#from tensorflow.keras.layers import Flatten, Dense,  Dense, Activation, Dropout,Embedding,  MaxPooling1D, Conv1D, Bidirectional\n",
        "\n",
        "#from keras.callbacks import ModelCheckpoint\n",
        "from tensorflow.keras.callbacks import ModelCheckpoint\n",
        "from tensorflow.keras.optimizers import Adam\n",
        "\n",
        "from tensorflow.keras.models import load_model\n",
        "\n",
        "#import keras.layers as layers\n",
        "# from keras.models import Model\n",
        "# from keras import backend as K\n",
        "# import backend as K\n",
        "\n",
        "np.random.seed(10)"
      ],
      "execution_count": 3,
      "outputs": [
        {
          "output_type": "stream",
          "text": [
            "TensorFlow 1.x selected.\n"
          ],
          "name": "stdout"
        }
      ]
    },
    {
      "cell_type": "markdown",
      "metadata": {
        "id": "pdlIbPVXgJj8"
      },
      "source": [
        "## Load the dataset"
      ]
    },
    {
      "cell_type": "code",
      "metadata": {
        "colab": {
          "base_uri": "https://localhost:8080/",
          "height": 202
        },
        "id": "oaPEETXUKI-o",
        "outputId": "7eeab1cc-c176-4d67-903b-821d640ffd5a"
      },
      "source": [
        "#Function 1.1 - Load the dataset\n",
        "\n",
        "def load_dataset(filename):\n",
        "  data = pd.read_csv(filename)\n",
        "  return data\n",
        "\n",
        "#Function 1.2 - Dataset Cleansing\n",
        "\n",
        "def data_cleansing_info(data):\n",
        "  data.drop(\"Unnamed: 0\", axis=1, inplace=True)\n",
        "  data.rename(columns={'Data':'Date', 'Countries':'Country', 'Accident Level' : 'AccLevel' ,  'Genre':'Gender', 'Employee or Third Party':'Employee type' , 'Potential Accident Level':'Pot_AccLevel', 'Critical Risk':'Cri_Risk'}, inplace=True)\n",
        "  return data.head(5), data.isnull().sum()\n",
        "\n",
        "data = load_dataset(\"data.csv\")\n",
        "data.head()\n",
        "\n",
        "# Preparing the data for our model\n",
        "# Done some preprocessing on the dataset to the 5 acc level:\n",
        "\n",
        "# Data Cleansing\n",
        "# Name Corrections\n",
        "# Replace Roman numerals to Integers\n",
        "\n",
        "data_cleansing_info(data)\n",
        "data.head() #Column names corrected"
      ],
      "execution_count": 4,
      "outputs": [
        {
          "output_type": "execute_result",
          "data": {
            "text/html": [
              "<div>\n",
              "<style scoped>\n",
              "    .dataframe tbody tr th:only-of-type {\n",
              "        vertical-align: middle;\n",
              "    }\n",
              "\n",
              "    .dataframe tbody tr th {\n",
              "        vertical-align: top;\n",
              "    }\n",
              "\n",
              "    .dataframe thead th {\n",
              "        text-align: right;\n",
              "    }\n",
              "</style>\n",
              "<table border=\"1\" class=\"dataframe\">\n",
              "  <thead>\n",
              "    <tr style=\"text-align: right;\">\n",
              "      <th></th>\n",
              "      <th>Date</th>\n",
              "      <th>Country</th>\n",
              "      <th>Local</th>\n",
              "      <th>Industry Sector</th>\n",
              "      <th>AccLevel</th>\n",
              "      <th>Pot_AccLevel</th>\n",
              "      <th>Gender</th>\n",
              "      <th>Employee type</th>\n",
              "      <th>Cri_Risk</th>\n",
              "      <th>Description</th>\n",
              "    </tr>\n",
              "  </thead>\n",
              "  <tbody>\n",
              "    <tr>\n",
              "      <th>0</th>\n",
              "      <td>2016-01-01 00:00:00</td>\n",
              "      <td>Country_01</td>\n",
              "      <td>Local_01</td>\n",
              "      <td>Mining</td>\n",
              "      <td>I</td>\n",
              "      <td>IV</td>\n",
              "      <td>Male</td>\n",
              "      <td>Third Party</td>\n",
              "      <td>Pressed</td>\n",
              "      <td>While removing the drill rod of the Jumbo 08 f...</td>\n",
              "    </tr>\n",
              "    <tr>\n",
              "      <th>1</th>\n",
              "      <td>2016-01-02 00:00:00</td>\n",
              "      <td>Country_02</td>\n",
              "      <td>Local_02</td>\n",
              "      <td>Mining</td>\n",
              "      <td>I</td>\n",
              "      <td>IV</td>\n",
              "      <td>Male</td>\n",
              "      <td>Employee</td>\n",
              "      <td>Pressurized Systems</td>\n",
              "      <td>During the activation of a sodium sulphide pum...</td>\n",
              "    </tr>\n",
              "    <tr>\n",
              "      <th>2</th>\n",
              "      <td>2016-01-06 00:00:00</td>\n",
              "      <td>Country_01</td>\n",
              "      <td>Local_03</td>\n",
              "      <td>Mining</td>\n",
              "      <td>I</td>\n",
              "      <td>III</td>\n",
              "      <td>Male</td>\n",
              "      <td>Third Party (Remote)</td>\n",
              "      <td>Manual Tools</td>\n",
              "      <td>In the sub-station MILPO located at level +170...</td>\n",
              "    </tr>\n",
              "    <tr>\n",
              "      <th>3</th>\n",
              "      <td>2016-01-08 00:00:00</td>\n",
              "      <td>Country_01</td>\n",
              "      <td>Local_04</td>\n",
              "      <td>Mining</td>\n",
              "      <td>I</td>\n",
              "      <td>I</td>\n",
              "      <td>Male</td>\n",
              "      <td>Third Party</td>\n",
              "      <td>Others</td>\n",
              "      <td>Being 9:45 am. approximately in the Nv. 1880 C...</td>\n",
              "    </tr>\n",
              "    <tr>\n",
              "      <th>4</th>\n",
              "      <td>2016-01-10 00:00:00</td>\n",
              "      <td>Country_01</td>\n",
              "      <td>Local_04</td>\n",
              "      <td>Mining</td>\n",
              "      <td>IV</td>\n",
              "      <td>IV</td>\n",
              "      <td>Male</td>\n",
              "      <td>Third Party</td>\n",
              "      <td>Others</td>\n",
              "      <td>Approximately at 11:45 a.m. in circumstances t...</td>\n",
              "    </tr>\n",
              "  </tbody>\n",
              "</table>\n",
              "</div>"
            ],
            "text/plain": [
              "                  Date  ...                                        Description\n",
              "0  2016-01-01 00:00:00  ...  While removing the drill rod of the Jumbo 08 f...\n",
              "1  2016-01-02 00:00:00  ...  During the activation of a sodium sulphide pum...\n",
              "2  2016-01-06 00:00:00  ...  In the sub-station MILPO located at level +170...\n",
              "3  2016-01-08 00:00:00  ...  Being 9:45 am. approximately in the Nv. 1880 C...\n",
              "4  2016-01-10 00:00:00  ...  Approximately at 11:45 a.m. in circumstances t...\n",
              "\n",
              "[5 rows x 10 columns]"
            ]
          },
          "metadata": {
            "tags": []
          },
          "execution_count": 4
        }
      ]
    },
    {
      "cell_type": "markdown",
      "metadata": {
        "id": "TPYNFoWOftCD"
      },
      "source": [
        "## Preparing the data for our model\n",
        "\n",
        "Done some preprocessing on the dataset to the 5 acc level:\n",
        "- Data Cleansing\n",
        "- Name Corrections"
      ]
    },
    {
      "cell_type": "code",
      "metadata": {
        "colab": {
          "base_uri": "https://localhost:8080/"
        },
        "id": "pe1QhobyzJ0c",
        "outputId": "2c0eea26-714e-4fbd-c563-f0176da248d6"
      },
      "source": [
        "data.info()"
      ],
      "execution_count": 5,
      "outputs": [
        {
          "output_type": "stream",
          "text": [
            "<class 'pandas.core.frame.DataFrame'>\n",
            "RangeIndex: 425 entries, 0 to 424\n",
            "Data columns (total 10 columns):\n",
            " #   Column           Non-Null Count  Dtype \n",
            "---  ------           --------------  ----- \n",
            " 0   Date             425 non-null    object\n",
            " 1   Country          425 non-null    object\n",
            " 2   Local            425 non-null    object\n",
            " 3   Industry Sector  425 non-null    object\n",
            " 4   AccLevel         425 non-null    object\n",
            " 5   Pot_AccLevel     425 non-null    object\n",
            " 6   Gender           425 non-null    object\n",
            " 7   Employee type    425 non-null    object\n",
            " 8   Cri_Risk         425 non-null    object\n",
            " 9   Description      425 non-null    object\n",
            "dtypes: object(10)\n",
            "memory usage: 33.3+ KB\n"
          ],
          "name": "stdout"
        }
      ]
    },
    {
      "cell_type": "markdown",
      "metadata": {
        "id": "0vJVswTczjX6"
      },
      "source": [
        "**The data type of all columns is object**"
      ]
    },
    {
      "cell_type": "code",
      "metadata": {
        "id": "ueXwfB4SUl3u"
      },
      "source": [
        "data1 = data.copy() # Backup"
      ],
      "execution_count": 6,
      "outputs": []
    },
    {
      "cell_type": "code",
      "metadata": {
        "colab": {
          "base_uri": "https://localhost:8080/"
        },
        "id": "uwok89oP0YO_",
        "outputId": "74d2597a-34b9-40d4-84e6-435ca05103e2"
      },
      "source": [
        "data.columns"
      ],
      "execution_count": 7,
      "outputs": [
        {
          "output_type": "execute_result",
          "data": {
            "text/plain": [
              "Index(['Date', 'Country', 'Local', 'Industry Sector', 'AccLevel',\n",
              "       'Pot_AccLevel', 'Gender', 'Employee type', 'Cri_Risk', 'Description'],\n",
              "      dtype='object')"
            ]
          },
          "metadata": {
            "tags": []
          },
          "execution_count": 7
        }
      ]
    },
    {
      "cell_type": "markdown",
      "metadata": {
        "id": "CPUdDmWKz4Gt"
      },
      "source": [
        "## Dataset Cleaning using NLTK library\n",
        "- Text normalization"
      ]
    },
    {
      "cell_type": "code",
      "metadata": {
        "colab": {
          "base_uri": "https://localhost:8080/"
        },
        "id": "ETQxlEbEVVaX",
        "outputId": "e1058b72-d18b-4499-fb89-6b44ac4b46b2"
      },
      "source": [
        "# NLP Import packages\n",
        "import nltk; nltk.download('wordnet'); nltk.download('stopwords')\n",
        "from nltk.stem import WordNetLemmatizer\n",
        "from nltk.corpus import wordnet as wn\n",
        "from nltk.corpus import stopwords\n",
        "from wordcloud import WordCloud\n",
        "import matplotlib.pyplot as plt\n",
        "import string"
      ],
      "execution_count": 8,
      "outputs": [
        {
          "output_type": "stream",
          "text": [
            "[nltk_data] Downloading package wordnet to /root/nltk_data...\n",
            "[nltk_data]   Unzipping corpora/wordnet.zip.\n",
            "[nltk_data] Downloading package stopwords to /root/nltk_data...\n",
            "[nltk_data]   Unzipping corpora/stopwords.zip.\n"
          ],
          "name": "stdout"
        }
      ]
    },
    {
      "cell_type": "code",
      "metadata": {
        "id": "EkVRuhj1UDAn"
      },
      "source": [
        "import re\n",
        "from string import punctuation\n",
        "from wordcloud import STOPWORDS\n",
        "\n",
        "stop_words =  stopwords.words('english')\n",
        "\n",
        "def text_cleaning(text, remove_stop_words=True, lemmatize_words=True):\n",
        "    # Clean the text, with the option to remove stop_words and to lemmatize word\n",
        "\n",
        "    # Clean the text\n",
        "    text = re.sub(r\"[^A-Za-z0-9]\", \" \", text)\n",
        "    text = re.sub(r\"\\'s\", \" \", text)\n",
        "    text = re.sub(r\"n't\", \" not \", text)\n",
        "    text = re.sub(r\"I'm\", \"I am\", text)\n",
        "    text = re.sub(r\"ur\", \" your \", text)\n",
        "    text = re.sub(r\" nd \",\" and \",text)\n",
        "    text = re.sub(r\"\\'d\", \" would \", text)\n",
        "    text = re.sub(r\"\\'ll\", \" will \", text)\n",
        "    text = re.sub(r\" tkts \",\" tickets \",text)\n",
        "    text = re.sub(r\" c \",\" can \",text)\n",
        "    text = re.sub(r\" e g \", \" eg \", text)\n",
        "    text =  re.sub(r'http\\S+',' link ', text)\n",
        "    text = re.sub(r'\\b\\d+(?:\\.\\d+)?\\s+', '', text) # remove numbers\n",
        "    text = re.sub(r\" u \",\" you \",text)\n",
        "    text = text.lower()  # set in lowercase \n",
        "        \n",
        "    # Remove punctuation from text\n",
        "    text = ''.join([c for c in text if c not in punctuation])\n",
        "    \n",
        "    # Optionally, remove stop words\n",
        "    if remove_stop_words:\n",
        "        text = text.split()\n",
        "        text = [w for w in text if not w in stop_words]\n",
        "        text = \" \".join(text)\n",
        "    \n",
        "    # Optionally, shorten words to their stems\n",
        "    if lemmatize_words:\n",
        "        text = text.split()\n",
        "        lemmatizer = WordNetLemmatizer() \n",
        "        lemmatized_words = [lemmatizer.lemmatize(word) for word in text]\n",
        "        text = \" \".join(lemmatized_words)\n",
        "    \n",
        "    # Return a list of words\n",
        "    return(text)"
      ],
      "execution_count": 9,
      "outputs": []
    },
    {
      "cell_type": "markdown",
      "metadata": {
        "id": "XNXBmBoXqCWf"
      },
      "source": [
        "##Helper Functions for Text cleaning:"
      ]
    },
    {
      "cell_type": "code",
      "metadata": {
        "id": "k-zlIpLxp-iE"
      },
      "source": [
        "import re\n",
        "def decontracted(phrase):\n",
        "  \"\"\"decontracted takes text and convert contractions into natural form.\n",
        "     ref: https://stackoverflow.com/questions/19790188/expanding-english-language-contractions-in-python/47091490#47091490\"\"\"\n",
        "\n",
        "  # specific\n",
        "  phrase = re.sub(r\"won\\'t\", \"will not\", phrase)\n",
        "  phrase = re.sub(r\"can\\'t\", \"can not\", phrase)\n",
        "  phrase = re.sub(r\"won\\’t\", \"will not\", phrase)\n",
        "  phrase = re.sub(r\"can\\’t\", \"can not\", phrase)\n",
        "\n",
        "  # general\n",
        "  phrase = re.sub(r\"n\\'t\", \" not\", phrase)\n",
        "  phrase = re.sub(r\"\\'re\", \" are\", phrase)\n",
        "  phrase = re.sub(r\"\\'s\", \" is\", phrase)\n",
        "  phrase = re.sub(r\"\\'d\", \" would\", phrase)\n",
        "  phrase = re.sub(r\"\\'ll\", \" will\", phrase)\n",
        "  phrase = re.sub(r\"\\'t\", \" not\", phrase)\n",
        "  phrase = re.sub(r\"\\'ve\", \" have\", phrase)\n",
        "  phrase = re.sub(r\"\\'m\", \" am\", phrase)\n",
        "\n",
        "  phrase = re.sub(r\"n\\’t\", \" not\", phrase)\n",
        "  phrase = re.sub(r\"\\’re\", \" are\", phrase)\n",
        "  phrase = re.sub(r\"\\’s\", \" is\", phrase)\n",
        "  phrase = re.sub(r\"\\’d\", \" would\", phrase)\n",
        "  phrase = re.sub(r\"\\’ll\", \" will\", phrase)\n",
        "  phrase = re.sub(r\"\\’t\", \" not\", phrase)\n",
        "  phrase = re.sub(r\"\\’ve\", \" have\", phrase)\n",
        "  phrase = re.sub(r\"\\’m\", \" am\", phrase)\n",
        "\n",
        "  return phrase\n",
        "\n",
        "#processed_text = decontracted(processed_text)\n",
        "#print(processed_text)\n",
        "\n",
        "def remove_special_character(phrase, remove_number=False):\n",
        "  \"\"\"remove_special_character takes text and removes special charcters.\n",
        "     ref: https://stackoverflow.com/a/18082370/4084039\"\"\"\n",
        "\n",
        "  phrase = re.sub(\"\\S*\\d\\S*\", \"\", phrase).strip()\n",
        "  if remove_number:\n",
        "    phrase = re.sub('[^A-Za-z]+', ' ', phrase)\n",
        "  else:\n",
        "    phrase = re.sub('[^A-Za-z0-9]+', ' ', phrase)\n",
        "  return phrase\n",
        "\n",
        "# processed_text = remove_special_character(processed_text, True)\n",
        "# print(processed_text)\n",
        "\n",
        "def remove_stop_words(text):\n",
        "    stopwords= set(['br', 'the', 'i', 'me', 'my', 'myself', 'we', 'our', 'ours', 'ourselves', 'you', \\\n",
        "                \"you're\", \"you've\", \"you'll\", \"you'd\", 'your', 'yours', 'yourself', 'yourselves', \\\n",
        "                'he', 'him', 'his', 'himself', 'she', \"she's\", 'her', 'hers', 'herself', 'it', \"it's\", \\\n",
        "                'its', 'itself', 'they', 'them', 'their', 'theirs', 'themselves', 'what', 'which', 'who', \\\n",
        "                'whom', 'this', 'that', \"that'll\", 'these', 'those', 'am', 'is', 'are', 'was', 'were', \\\n",
        "                'be', 'been', 'being', 'have', 'has', 'had', 'having', 'do', 'does', 'did', 'doing', \\\n",
        "                'a', 'an', 'the', 'and', 'but', 'if', 'or', 'because', 'as', 'until', 'while', 'of', \\\n",
        "                'at', 'by', 'for', 'with', 'about', 'against', 'between', 'into', 'through', 'during', \\\n",
        "                'before', 'after', 'above', 'below', 'to', 'from', 'up', 'down', 'in', 'out', 'on', 'off', \\\n",
        "                'over', 'under', 'again', 'further', 'then', 'once', 'here', 'there', 'when', 'where', 'why', \\\n",
        "                'how', 'all', 'any', 'both', 'each', 'few', 'more', 'most', 'other', 'some', 'such', 'only', \\\n",
        "                'own', 'same', 'so', 'than', 'too', 'very', 's', 't', 'can', 'will', 'just', 'don', \"don't\", \\\n",
        "                'should', \"should've\", 'now', 'd', 'll', 'm', 'o', 're', 've', 'y', 'ain', 'aren', \"aren't\", \\\n",
        "                'couldn', \"couldn't\", 'didn', \"didn't\", 'doesn', \"doesn't\", 'hadn', \"hadn't\", 'hasn', \\\n",
        "                \"hasn't\", 'haven', \"haven't\", 'isn', \"isn't\", 'ma', 'mightn', \"mightn't\", 'mustn', \\\n",
        "                \"mustn't\", 'needn', \"needn't\", 'shan', \"shan't\", 'shouldn', \"shouldn't\", 'wasn', \"wasn't\", \\\n",
        "                'weren', \"weren't\", 'won', \"won't\", 'wouldn', \"wouldn't\"])\n",
        "    return ' '.join(e.lower() for e in text.split() if e.lower() not in stopwords)\n",
        "\n",
        "# ref: https://gist.github.com/sebleier/554280\n",
        "\n",
        "# processed_text = ' '.join(e.lower() for e in processed_text.split() if e.lower() not in stopwords)\n",
        "# print(processed_text)\n",
        "\n",
        "def lemmatize_text(text_data):\n",
        "  \"\"\"lem_text takes text and lemmatize it using WordNetLemmatizer.\n",
        "     ref: https://stackoverflow.com/a/25535348\"\"\"\n",
        "  lem = WordNetLemmatizer()\n",
        "  n_text = []\n",
        "  for word in text_data.split(' '):\n",
        "    n_word = lem.lemmatize(word, pos='a')\n",
        "    n_word = lem.lemmatize(n_word, pos='v')\n",
        "    n_text.append(n_word)\n",
        "\n",
        "  return ' '.join(n_text)\n",
        "\n",
        "# processed_text = lem_text(processed_text)\n",
        "# print(processed_text)\n",
        "\n",
        "def stem_and_stopwords(text):\n",
        "    stemmer = nltk.stem.SnowballStemmer('english')\n",
        "    stop_words = set(nltk.corpus.stopwords.words('english'))\n",
        "    tokens = [word for word in nltk.word_tokenize(text) if (len(word) > 3 and len(word.strip('Xx/')) > 2 and len(re.sub('\\d+', '', word.strip('Xx/'))) > 3) ] \n",
        "    tokens = map(str.lower, tokens)\n",
        "    stems = [stemmer.stem(item) for item in tokens if (item not in stop_words)]\n",
        "    return stems\n",
        "\n",
        "\n",
        "def clean_text(text):\n",
        "    text = decontracted(text)\n",
        "    text = remove_special_character(text)\n",
        "    text = remove_stop_words(text)\n",
        "    text = lemmatize_text(text)\n",
        "    #text = stem_and_stopwords(text)\n",
        "    return text\n",
        "\n",
        "\n",
        "def find_max_list_idx(list):\n",
        "    list_len = [len(i) for i in list]\n",
        "    return np.argmax(np.array(list_len))"
      ],
      "execution_count": 10,
      "outputs": []
    },
    {
      "cell_type": "code",
      "metadata": {
        "colab": {
          "base_uri": "https://localhost:8080/",
          "height": 110
        },
        "id": "O10rjNW7UNO0",
        "outputId": "9eb15acc-87cd-460f-9cb7-7c23472af5c1"
      },
      "source": [
        "#clean the dataset \n",
        "data[\"clean_Description\"] = data[\"Description\"].apply(text_cleaning)\n",
        "data.head(2)"
      ],
      "execution_count": 11,
      "outputs": [
        {
          "output_type": "execute_result",
          "data": {
            "text/html": [
              "<div>\n",
              "<style scoped>\n",
              "    .dataframe tbody tr th:only-of-type {\n",
              "        vertical-align: middle;\n",
              "    }\n",
              "\n",
              "    .dataframe tbody tr th {\n",
              "        vertical-align: top;\n",
              "    }\n",
              "\n",
              "    .dataframe thead th {\n",
              "        text-align: right;\n",
              "    }\n",
              "</style>\n",
              "<table border=\"1\" class=\"dataframe\">\n",
              "  <thead>\n",
              "    <tr style=\"text-align: right;\">\n",
              "      <th></th>\n",
              "      <th>Date</th>\n",
              "      <th>Country</th>\n",
              "      <th>Local</th>\n",
              "      <th>Industry Sector</th>\n",
              "      <th>AccLevel</th>\n",
              "      <th>Pot_AccLevel</th>\n",
              "      <th>Gender</th>\n",
              "      <th>Employee type</th>\n",
              "      <th>Cri_Risk</th>\n",
              "      <th>Description</th>\n",
              "      <th>clean_Description</th>\n",
              "    </tr>\n",
              "  </thead>\n",
              "  <tbody>\n",
              "    <tr>\n",
              "      <th>0</th>\n",
              "      <td>2016-01-01 00:00:00</td>\n",
              "      <td>Country_01</td>\n",
              "      <td>Local_01</td>\n",
              "      <td>Mining</td>\n",
              "      <td>I</td>\n",
              "      <td>IV</td>\n",
              "      <td>Male</td>\n",
              "      <td>Third Party</td>\n",
              "      <td>Pressed</td>\n",
              "      <td>While removing the drill rod of the Jumbo 08 f...</td>\n",
              "      <td>removing drill rod jumbo maintenance superviso...</td>\n",
              "    </tr>\n",
              "    <tr>\n",
              "      <th>1</th>\n",
              "      <td>2016-01-02 00:00:00</td>\n",
              "      <td>Country_02</td>\n",
              "      <td>Local_02</td>\n",
              "      <td>Mining</td>\n",
              "      <td>I</td>\n",
              "      <td>IV</td>\n",
              "      <td>Male</td>\n",
              "      <td>Employee</td>\n",
              "      <td>Pressurized Systems</td>\n",
              "      <td>During the activation of a sodium sulphide pum...</td>\n",
              "      <td>ing activation sodium sulphide pump piping unc...</td>\n",
              "    </tr>\n",
              "  </tbody>\n",
              "</table>\n",
              "</div>"
            ],
            "text/plain": [
              "                  Date  ...                                  clean_Description\n",
              "0  2016-01-01 00:00:00  ...  removing drill rod jumbo maintenance superviso...\n",
              "1  2016-01-02 00:00:00  ...  ing activation sodium sulphide pump piping unc...\n",
              "\n",
              "[2 rows x 11 columns]"
            ]
          },
          "metadata": {
            "tags": []
          },
          "execution_count": 11
        }
      ]
    },
    {
      "cell_type": "code",
      "metadata": {
        "colab": {
          "base_uri": "https://localhost:8080/",
          "height": 202
        },
        "id": "Bem-vGEcVk5L",
        "outputId": "90bb1018-fb65-4fa6-a687-367c39619af6"
      },
      "source": [
        "data.drop('Description', axis=1, inplace=True)\n",
        "data.rename(columns={'clean_Description':'Description'}, inplace=True)\n",
        "data.head()"
      ],
      "execution_count": 12,
      "outputs": [
        {
          "output_type": "execute_result",
          "data": {
            "text/html": [
              "<div>\n",
              "<style scoped>\n",
              "    .dataframe tbody tr th:only-of-type {\n",
              "        vertical-align: middle;\n",
              "    }\n",
              "\n",
              "    .dataframe tbody tr th {\n",
              "        vertical-align: top;\n",
              "    }\n",
              "\n",
              "    .dataframe thead th {\n",
              "        text-align: right;\n",
              "    }\n",
              "</style>\n",
              "<table border=\"1\" class=\"dataframe\">\n",
              "  <thead>\n",
              "    <tr style=\"text-align: right;\">\n",
              "      <th></th>\n",
              "      <th>Date</th>\n",
              "      <th>Country</th>\n",
              "      <th>Local</th>\n",
              "      <th>Industry Sector</th>\n",
              "      <th>AccLevel</th>\n",
              "      <th>Pot_AccLevel</th>\n",
              "      <th>Gender</th>\n",
              "      <th>Employee type</th>\n",
              "      <th>Cri_Risk</th>\n",
              "      <th>Description</th>\n",
              "    </tr>\n",
              "  </thead>\n",
              "  <tbody>\n",
              "    <tr>\n",
              "      <th>0</th>\n",
              "      <td>2016-01-01 00:00:00</td>\n",
              "      <td>Country_01</td>\n",
              "      <td>Local_01</td>\n",
              "      <td>Mining</td>\n",
              "      <td>I</td>\n",
              "      <td>IV</td>\n",
              "      <td>Male</td>\n",
              "      <td>Third Party</td>\n",
              "      <td>Pressed</td>\n",
              "      <td>removing drill rod jumbo maintenance superviso...</td>\n",
              "    </tr>\n",
              "    <tr>\n",
              "      <th>1</th>\n",
              "      <td>2016-01-02 00:00:00</td>\n",
              "      <td>Country_02</td>\n",
              "      <td>Local_02</td>\n",
              "      <td>Mining</td>\n",
              "      <td>I</td>\n",
              "      <td>IV</td>\n",
              "      <td>Male</td>\n",
              "      <td>Employee</td>\n",
              "      <td>Pressurized Systems</td>\n",
              "      <td>ing activation sodium sulphide pump piping unc...</td>\n",
              "    </tr>\n",
              "    <tr>\n",
              "      <th>2</th>\n",
              "      <td>2016-01-06 00:00:00</td>\n",
              "      <td>Country_01</td>\n",
              "      <td>Local_03</td>\n",
              "      <td>Mining</td>\n",
              "      <td>I</td>\n",
              "      <td>III</td>\n",
              "      <td>Male</td>\n",
              "      <td>Third Party (Remote)</td>\n",
              "      <td>Manual Tools</td>\n",
              "      <td>sub station milpo located level collaborator e...</td>\n",
              "    </tr>\n",
              "    <tr>\n",
              "      <th>3</th>\n",
              "      <td>2016-01-08 00:00:00</td>\n",
              "      <td>Country_01</td>\n",
              "      <td>Local_04</td>\n",
              "      <td>Mining</td>\n",
              "      <td>I</td>\n",
              "      <td>I</td>\n",
              "      <td>Male</td>\n",
              "      <td>Third Party</td>\n",
              "      <td>Others</td>\n",
              "      <td>approximately nv cx ob7 personnel begin task u...</td>\n",
              "    </tr>\n",
              "    <tr>\n",
              "      <th>4</th>\n",
              "      <td>2016-01-10 00:00:00</td>\n",
              "      <td>Country_01</td>\n",
              "      <td>Local_04</td>\n",
              "      <td>Mining</td>\n",
              "      <td>IV</td>\n",
              "      <td>IV</td>\n",
              "      <td>Male</td>\n",
              "      <td>Third Party</td>\n",
              "      <td>Others</td>\n",
              "      <td>approximately circumstance mechanic anthony gr...</td>\n",
              "    </tr>\n",
              "  </tbody>\n",
              "</table>\n",
              "</div>"
            ],
            "text/plain": [
              "                  Date  ...                                        Description\n",
              "0  2016-01-01 00:00:00  ...  removing drill rod jumbo maintenance superviso...\n",
              "1  2016-01-02 00:00:00  ...  ing activation sodium sulphide pump piping unc...\n",
              "2  2016-01-06 00:00:00  ...  sub station milpo located level collaborator e...\n",
              "3  2016-01-08 00:00:00  ...  approximately nv cx ob7 personnel begin task u...\n",
              "4  2016-01-10 00:00:00  ...  approximately circumstance mechanic anthony gr...\n",
              "\n",
              "[5 rows x 10 columns]"
            ]
          },
          "metadata": {
            "tags": []
          },
          "execution_count": 12
        }
      ]
    },
    {
      "cell_type": "code",
      "metadata": {
        "id": "bCN8123IL4BI"
      },
      "source": [
        "pickle.dump( data, open( \"clean_data.p\", \"wb\" ))"
      ],
      "execution_count": 13,
      "outputs": []
    },
    {
      "cell_type": "code",
      "metadata": {
        "id": "lFuU5ZodMMuB"
      },
      "source": [
        "data = pickle.load( open( \"clean_data.p\", \"rb\" ))"
      ],
      "execution_count": 14,
      "outputs": []
    },
    {
      "cell_type": "markdown",
      "metadata": {
        "id": "cBijdvmaOTLy"
      },
      "source": [
        "### Taking Target input from User"
      ]
    },
    {
      "cell_type": "code",
      "metadata": {
        "colab": {
          "base_uri": "https://localhost:8080/"
        },
        "id": "TBHgh65ZNMrO",
        "outputId": "15f964ce-f3a6-493d-a4e2-d9dbe0e386a4"
      },
      "source": [
        "t = ['AccLevel', 'Pot_AccLevel', 'Cri_Risk']\n",
        "target = input(\"Please select target 'AccLevel', 'Pot_AccLevel', 'Cri_Risk': \")"
      ],
      "execution_count": 15,
      "outputs": [
        {
          "output_type": "stream",
          "text": [
            "Please select target 'AccLevel', 'Pot_AccLevel', 'Cri_Risk': AccLevel\n"
          ],
          "name": "stdout"
        }
      ]
    },
    {
      "cell_type": "code",
      "metadata": {
        "colab": {
          "base_uri": "https://localhost:8080/",
          "height": 34
        },
        "id": "-aqS77df4UkL",
        "outputId": "e8d8b850-268d-4e41-e457-290abffbe321"
      },
      "source": [
        "target"
      ],
      "execution_count": 16,
      "outputs": [
        {
          "output_type": "execute_result",
          "data": {
            "application/vnd.google.colaboratory.intrinsic+json": {
              "type": "string"
            },
            "text/plain": [
              "'AccLevel'"
            ]
          },
          "metadata": {
            "tags": []
          },
          "execution_count": 16
        }
      ]
    },
    {
      "cell_type": "code",
      "metadata": {
        "colab": {
          "base_uri": "https://localhost:8080/",
          "height": 202
        },
        "id": "nY9qxHEyk_Aw",
        "outputId": "fd2e977c-4152-4f7e-bb96-4e533e4bfb68"
      },
      "source": [
        "df = pd.DataFrame(data, columns=[target, 'Description'])\n",
        "df[target] = df[target].astype('category')\n",
        "df_backup = df[target]\n",
        "df.head()"
      ],
      "execution_count": 17,
      "outputs": [
        {
          "output_type": "execute_result",
          "data": {
            "text/html": [
              "<div>\n",
              "<style scoped>\n",
              "    .dataframe tbody tr th:only-of-type {\n",
              "        vertical-align: middle;\n",
              "    }\n",
              "\n",
              "    .dataframe tbody tr th {\n",
              "        vertical-align: top;\n",
              "    }\n",
              "\n",
              "    .dataframe thead th {\n",
              "        text-align: right;\n",
              "    }\n",
              "</style>\n",
              "<table border=\"1\" class=\"dataframe\">\n",
              "  <thead>\n",
              "    <tr style=\"text-align: right;\">\n",
              "      <th></th>\n",
              "      <th>AccLevel</th>\n",
              "      <th>Description</th>\n",
              "    </tr>\n",
              "  </thead>\n",
              "  <tbody>\n",
              "    <tr>\n",
              "      <th>0</th>\n",
              "      <td>I</td>\n",
              "      <td>removing drill rod jumbo maintenance superviso...</td>\n",
              "    </tr>\n",
              "    <tr>\n",
              "      <th>1</th>\n",
              "      <td>I</td>\n",
              "      <td>ing activation sodium sulphide pump piping unc...</td>\n",
              "    </tr>\n",
              "    <tr>\n",
              "      <th>2</th>\n",
              "      <td>I</td>\n",
              "      <td>sub station milpo located level collaborator e...</td>\n",
              "    </tr>\n",
              "    <tr>\n",
              "      <th>3</th>\n",
              "      <td>I</td>\n",
              "      <td>approximately nv cx ob7 personnel begin task u...</td>\n",
              "    </tr>\n",
              "    <tr>\n",
              "      <th>4</th>\n",
              "      <td>IV</td>\n",
              "      <td>approximately circumstance mechanic anthony gr...</td>\n",
              "    </tr>\n",
              "  </tbody>\n",
              "</table>\n",
              "</div>"
            ],
            "text/plain": [
              "  AccLevel                                        Description\n",
              "0        I  removing drill rod jumbo maintenance superviso...\n",
              "1        I  ing activation sodium sulphide pump piping unc...\n",
              "2        I  sub station milpo located level collaborator e...\n",
              "3        I  approximately nv cx ob7 personnel begin task u...\n",
              "4       IV  approximately circumstance mechanic anthony gr..."
            ]
          },
          "metadata": {
            "tags": []
          },
          "execution_count": 17
        }
      ]
    },
    {
      "cell_type": "code",
      "metadata": {
        "id": "SatYfmdiElEa"
      },
      "source": [
        "#data['Cri_Risk'].value_counts()"
      ],
      "execution_count": 18,
      "outputs": []
    },
    {
      "cell_type": "code",
      "metadata": {
        "colab": {
          "base_uri": "https://localhost:8080/"
        },
        "id": "YH4PRyq6w5HA",
        "outputId": "471879ec-9ba1-4576-abf5-4a5f3cb15bf2"
      },
      "source": [
        "df[target].value_counts()"
      ],
      "execution_count": 19,
      "outputs": [
        {
          "output_type": "execute_result",
          "data": {
            "text/plain": [
              "I      316\n",
              "II      40\n",
              "III     31\n",
              "IV      30\n",
              "V        8\n",
              "Name: AccLevel, dtype: int64"
            ]
          },
          "metadata": {
            "tags": []
          },
          "execution_count": 19
        }
      ]
    },
    {
      "cell_type": "code",
      "metadata": {
        "colab": {
          "base_uri": "https://localhost:8080/"
        },
        "id": "CiwAf9-p7NEy",
        "outputId": "3dcb2e7d-827a-4047-93fa-b59d5828c2b5"
      },
      "source": [
        "df[target].count()"
      ],
      "execution_count": 20,
      "outputs": [
        {
          "output_type": "execute_result",
          "data": {
            "text/plain": [
              "425"
            ]
          },
          "metadata": {
            "tags": []
          },
          "execution_count": 20
        }
      ]
    },
    {
      "cell_type": "code",
      "metadata": {
        "colab": {
          "base_uri": "https://localhost:8080/"
        },
        "id": "KulFqvS_7lkf",
        "outputId": "5418d6da-0193-4862-f964-b0e4ee246830"
      },
      "source": [
        "categories = df[target].cat.categories.tolist()\n",
        "len(categories)"
      ],
      "execution_count": 21,
      "outputs": [
        {
          "output_type": "execute_result",
          "data": {
            "text/plain": [
              "5"
            ]
          },
          "metadata": {
            "tags": []
          },
          "execution_count": 21
        }
      ]
    },
    {
      "cell_type": "markdown",
      "metadata": {
        "id": "jN64o38M0D_0"
      },
      "source": [
        "## Train/Validation/Test Dataset Split"
      ]
    },
    {
      "cell_type": "code",
      "metadata": {
        "colab": {
          "base_uri": "https://localhost:8080/",
          "height": 416
        },
        "id": "0QC9Bv0Np_2q",
        "outputId": "98c7b087-03bd-489b-8897-63e31a6ba296"
      },
      "source": [
        "# Train/Test Dataset Split\n",
        "\n",
        "# split the data into train and test set\n",
        "trainval, df_test = train_test_split(df, test_size=0.2, random_state=42, shuffle=True)\n",
        "\n",
        "# Split train into train-val\n",
        "df_train, val = train_test_split(trainval, test_size=0.1, random_state=21, shuffle=True)\n",
        "df_train"
      ],
      "execution_count": 22,
      "outputs": [
        {
          "output_type": "execute_result",
          "data": {
            "text/html": [
              "<div>\n",
              "<style scoped>\n",
              "    .dataframe tbody tr th:only-of-type {\n",
              "        vertical-align: middle;\n",
              "    }\n",
              "\n",
              "    .dataframe tbody tr th {\n",
              "        vertical-align: top;\n",
              "    }\n",
              "\n",
              "    .dataframe thead th {\n",
              "        text-align: right;\n",
              "    }\n",
              "</style>\n",
              "<table border=\"1\" class=\"dataframe\">\n",
              "  <thead>\n",
              "    <tr style=\"text-align: right;\">\n",
              "      <th></th>\n",
              "      <th>AccLevel</th>\n",
              "      <th>Description</th>\n",
              "    </tr>\n",
              "  </thead>\n",
              "  <tbody>\n",
              "    <tr>\n",
              "      <th>18</th>\n",
              "      <td>I</td>\n",
              "      <td>auxiliary wheel cathode crane g2133 changed ar...</td>\n",
              "    </tr>\n",
              "    <tr>\n",
              "      <th>85</th>\n",
              "      <td>I</td>\n",
              "      <td>parking van next cluster wooden sleeper board ...</td>\n",
              "    </tr>\n",
              "    <tr>\n",
              "      <th>31</th>\n",
              "      <td>I</td>\n",
              "      <td>level access a2 time engineer trainee planamie...</td>\n",
              "    </tr>\n",
              "    <tr>\n",
              "      <th>264</th>\n",
              "      <td>I</td>\n",
              "      <td>time fo mechanic performed removal 1tm engine ...</td>\n",
              "    </tr>\n",
              "    <tr>\n",
              "      <th>277</th>\n",
              "      <td>II</td>\n",
              "      <td>performing movement bar make room place calibr...</td>\n",
              "    </tr>\n",
              "    <tr>\n",
              "      <th>...</th>\n",
              "      <td>...</td>\n",
              "      <td>...</td>\n",
              "    </tr>\n",
              "    <tr>\n",
              "      <th>23</th>\n",
              "      <td>II</td>\n",
              "      <td>loosening a30 truck steering cylinder bolt usi...</td>\n",
              "    </tr>\n",
              "    <tr>\n",
              "      <th>373</th>\n",
              "      <td>I</td>\n",
              "      <td>ing marking management point supervision breed...</td>\n",
              "    </tr>\n",
              "    <tr>\n",
              "      <th>251</th>\n",
              "      <td>IV</td>\n",
              "      <td>approximately mr wilmer approach c150 drying t...</td>\n",
              "    </tr>\n",
              "    <tr>\n",
              "      <th>21</th>\n",
              "      <td>I</td>\n",
              "      <td>raise chamber operator assistant removed drill...</td>\n",
              "    </tr>\n",
              "    <tr>\n",
              "      <th>178</th>\n",
              "      <td>I</td>\n",
              "      <td>ing torch cutting activity new evaporator trea...</td>\n",
              "    </tr>\n",
              "  </tbody>\n",
              "</table>\n",
              "<p>306 rows × 2 columns</p>\n",
              "</div>"
            ],
            "text/plain": [
              "    AccLevel                                        Description\n",
              "18         I  auxiliary wheel cathode crane g2133 changed ar...\n",
              "85         I  parking van next cluster wooden sleeper board ...\n",
              "31         I  level access a2 time engineer trainee planamie...\n",
              "264        I  time fo mechanic performed removal 1tm engine ...\n",
              "277       II  performing movement bar make room place calibr...\n",
              "..       ...                                                ...\n",
              "23        II  loosening a30 truck steering cylinder bolt usi...\n",
              "373        I  ing marking management point supervision breed...\n",
              "251       IV  approximately mr wilmer approach c150 drying t...\n",
              "21         I  raise chamber operator assistant removed drill...\n",
              "178        I  ing torch cutting activity new evaporator trea...\n",
              "\n",
              "[306 rows x 2 columns]"
            ]
          },
          "metadata": {
            "tags": []
          },
          "execution_count": 22
        }
      ]
    },
    {
      "cell_type": "code",
      "metadata": {
        "colab": {
          "base_uri": "https://localhost:8080/"
        },
        "id": "G3URV26T9q3v",
        "outputId": "d80f1b35-f670-46fa-d72b-3a9b8ab58c12"
      },
      "source": [
        "#Balancing the Dataset with UpSampling\n",
        "\n",
        "from sklearn.utils import resample\n",
        "df_train[target].value_counts()\n",
        "\n",
        "categories = df_train[target].cat.categories.tolist()\n",
        "categories"
      ],
      "execution_count": 23,
      "outputs": [
        {
          "output_type": "execute_result",
          "data": {
            "text/plain": [
              "['I', 'II', 'III', 'IV', 'V']"
            ]
          },
          "metadata": {
            "tags": []
          },
          "execution_count": 23
        }
      ]
    },
    {
      "cell_type": "markdown",
      "metadata": {
        "id": "vY_E9WKl0NFC"
      },
      "source": [
        "##Upsampling the Minority Class"
      ]
    },
    {
      "cell_type": "code",
      "metadata": {
        "colab": {
          "base_uri": "https://localhost:8080/"
        },
        "id": "CHnaTAEwKcel",
        "outputId": "a7b22176-8403-49ac-8c52-eb437204cdea"
      },
      "source": [
        "#Assiging Classes as per each type\n",
        "\n",
        "if(target == 'AccLevel'):\n",
        "  df_train_1 = df_train[df_train[target] == \"I\"]\n",
        "  df_train_2 = df_train[df_train[target] == \"II\"]\n",
        "  df_train_3 = df_train[df_train[target] == \"III\"]\n",
        "  df_train_4 = df_train[df_train[target] == \"IV\"]\n",
        "  df_train_5 = df_train[df_train[target] == \"V\"]\n",
        "\n",
        "  df_train_2_upsampled = resample(df_train_2, replace = True, n_samples = 223 , random_state = 123)\n",
        "  df_train_3_upsampled = resample(df_train_3, replace = True, n_samples = 223 , random_state = 123)\n",
        "  df_train_4_upsampled = resample(df_train_4, replace = True, n_samples = 223 , random_state = 123)\n",
        "  df_train_5_upsampled = resample(df_train_5, replace = True, n_samples = 223 , random_state = 123)\n",
        "\n",
        "  df_train_upsampled = pd.concat([df_train_1, df_train_2_upsampled,df_train_3_upsampled, df_train_4_upsampled, df_train_5_upsampled ])\n",
        "  print(df_train_upsampled[target].value_counts())\n",
        "\n",
        "  df_train_upsampled_bkup = df_train_upsampled.copy()\n",
        "  df_train_upsampled_bkup[target].value_counts()\n",
        "\n",
        "  df_train = df_train_upsampled.copy()\n",
        "\n",
        "elif(target == 'Pot_AccLevel'):\n",
        "  df_train_1 = df_train[df_train[target] == \"I\"]\n",
        "  df_train_2 = df_train[df_train[target] == \"II\"]\n",
        "  df_train_3 = df_train[df_train[target] == \"III\"]\n",
        "  df_train_4 = df_train[df_train[target] == \"IV\"]\n",
        "  df_train_5 = df_train[df_train[target] == \"V\"]\n",
        "  df_train_6 = df_train[df_train[target] == \"VI\"]\n",
        "\n",
        "  df_train_1_upsampled = resample(df_train_1, replace = True, n_samples = 143 , random_state = 123)\n",
        "  df_train_2_upsampled = resample(df_train_2, replace = True, n_samples = 143 , random_state = 123)\n",
        "  df_train_3_upsampled = resample(df_train_3, replace = True, n_samples = 143 , random_state = 123)\n",
        "  df_train_5_upsampled = resample(df_train_5, replace = True, n_samples = 143 , random_state = 123)\n",
        "  df_train_6_upsampled = resample(df_train_6, replace = True, n_samples = 143 , random_state = 123)\n",
        " \n",
        "  df_train_upsampled = pd.concat([df_train_1_upsampled, df_train_2_upsampled,df_train_3_upsampled, df_train_4, df_train_5_upsampled, df_train_6_upsampled ])\n",
        "  print(df_train_upsampled[target].value_counts())\n",
        "\n",
        "  df_train_upsampled_bkup = df_train_upsampled.copy()\n",
        "  df_train_upsampled_bkup[target].value_counts()\n",
        "\n",
        "  df_train = df_train_upsampled.copy()\n",
        "\n",
        "else:\n",
        "  df_train_1 = df_train[df_train[target] == \"Others\"]\n",
        "  df_train_2 = df_train[df_train[target] == \"Pressed\"]\n",
        "  df_train_3 = df_train[df_train[target] == \"Manual Tools\"]\n",
        "  df_train_4 = df_train[df_train[target] == \"Chemical substances\"]\n",
        "  df_train_5 = df_train[df_train[target] == \"Venomous Animals\"]\n",
        "  df_train_6 = df_train[df_train[target] == \"Cut\"]\n",
        "  df_train_7 = df_train[df_train[target] == \"Projection\"]\n",
        "  df_train_8 = df_train[df_train[target] == \"Bees\"]\n",
        "  df_train_9 = df_train[df_train[target] == \"Fall\"]\n",
        "  df_train_10 = df_train[df_train[target] == \"Vehicles and Mobile Equipment\"]\n",
        "  df_train_11 = df_train[df_train[target] == \"Pressurized Systems\"]\n",
        "  df_train_12 = df_train[df_train[target] == \"remains of choco\"]\n",
        "  df_train_13 = df_train[df_train[target] == \"Fall prevention (same level)\"]\n",
        "  df_train_14 = df_train[df_train[target] == \"Suspended Loads\"]\n",
        "  df_train_15= df_train[df_train[target] == \"Fall prevention\"]\n",
        "  df_train_16 = df_train[df_train[target] == \"Pressurized Systems / Chemical Substances\"]\n",
        "  df_train_17 = df_train[df_train[target] == \"Blocking and isolation of energies\"]\n",
        "  df_train_18 = df_train[df_train[target] == \"Liquid Metal\"]\n",
        "  df_train_19 = df_train[df_train[target] == \"Power lock\"]\n",
        "  df_train_20 = df_train[df_train[target] == \"Machine Protection\"]\n",
        "  df_train_21 = df_train[df_train[target] == \"Electrical Shock\"]\n",
        "  df_train_22 = df_train[df_train[target] == \"Projection of fragments\"]\n",
        "  df_train_23 = df_train[df_train[target] == \"Confined space\"]\n",
        "  df_train_24 = df_train[df_train[target] == \"Burn\"]\n",
        "  #df_train_25 = df_train[df_train[target] == \"Poll\"]\n",
        "  df_train_26 = df_train[df_train[target] == \"Projection/Choco\"]\n",
        "  df_train_27 = df_train[df_train[target] == \"Electrical installation\"]\n",
        "  #df_train_28 = df_train[df_train[target] == \"Projection/Burning\"]\n",
        "  #df_train_29 = df_train[df_train[target] == \"Projection/Manual Tools\"]\n",
        "  #df_train_30 = df_train[df_train[target] == \"\\nNot applicable\"]\n",
        "  #df_train_31 = df_train[df_train[target] == \"Traffic\"]\n",
        "  #df_train_32 = df_train[df_train[target] == \"Individual protection equipment\"]\n",
        "  #df_train_33 = df_train[df_train[target] == \"Plates\"]\n",
        "  \n",
        "\n",
        "  #df_train_1_upsampled = resample(df_train_1, replace = True, n_samples = 232 , random_state = 123)\n",
        "  df_train_2_upsampled = resample(df_train_2, replace = True, n_samples = 232 , random_state = 123)\n",
        "  df_train_3_upsampled = resample(df_train_3, replace = True, n_samples = 232 , random_state = 123)\n",
        "  df_train_4_upsampled = resample(df_train_4, replace = True, n_samples = 232 , random_state = 123)\n",
        "  df_train_5_upsampled = resample(df_train_5, replace = True, n_samples = 232 , random_state = 123)\n",
        "  df_train_6_upsampled = resample(df_train_6, replace = True, n_samples = 232 , random_state = 123)\n",
        "  df_train_7_upsampled = resample(df_train_7, replace = True, n_samples = 232 , random_state = 123)\n",
        "  df_train_8_upsampled = resample(df_train_8, replace = True, n_samples = 232 , random_state = 123)\n",
        "  df_train_9_upsampled = resample(df_train_9, replace = True, n_samples = 232 , random_state = 123)\n",
        "  df_train_10_upsampled = resample(df_train_10, replace = True, n_samples = 232 , random_state = 123)\n",
        "  df_train_11_upsampled = resample(df_train_11, replace = True, n_samples = 232 , random_state = 123)\n",
        "  df_train_12_upsampled = resample(df_train_12, replace = True, n_samples = 232 , random_state = 123)\n",
        "  df_train_13_upsampled = resample(df_train_13, replace = True, n_samples = 232 , random_state = 123)\n",
        "  df_train_14_upsampled = resample(df_train_14, replace = True, n_samples = 232 , random_state = 123)\n",
        "  df_train_15_upsampled = resample(df_train_15, replace = True, n_samples = 232 , random_state = 123)\n",
        "  df_train_16_upsampled = resample(df_train_16, replace = True, n_samples = 232 , random_state = 123)\n",
        "  df_train_17_upsampled = resample(df_train_17, replace = True, n_samples = 232 , random_state = 123)\n",
        "  df_train_18_upsampled = resample(df_train_18, replace = True, n_samples = 232 , random_state = 123)\n",
        "  df_train_19_upsampled = resample(df_train_19, replace = True, n_samples = 232 , random_state = 123)\n",
        "  df_train_20_upsampled = resample(df_train_20, replace = True, n_samples = 232 , random_state = 123)\n",
        "  df_train_21_upsampled = resample(df_train_21, replace = True, n_samples = 232 , random_state = 123)\n",
        "  df_train_22_upsampled = resample(df_train_22, replace = True, n_samples = 232 , random_state = 123)\n",
        "  df_train_23_upsampled = resample(df_train_23, replace = True, n_samples = 232 , random_state = 123)\n",
        "  df_train_24_upsampled = resample(df_train_24, replace = True, n_samples = 232 , random_state = 123)\n",
        "  #df_train_25_upsampled = resample(df_train_25, replace = True, n_samples = 232 , random_state = 123)\n",
        "  df_train_26_upsampled = resample(df_train_26, replace = True, n_samples = 232 , random_state = 123)\n",
        "  df_train_27_upsampled = resample(df_train_27, replace = True, n_samples = 232 , random_state = 123)\n",
        "  #df_train_28_upsampled = resample(df_train_28, replace = True, n_samples = 232 , random_state = 123)\n",
        "  #df_train_29_upsampled = resample(df_train_29, replace = True, n_samples = 232 , random_state = 123)\n",
        "  # df_train_30_upsampled = resample(df_train_30, replace = True, n_samples = 232 , random_state = 123)\n",
        "  # df_train_31_upsampled = resample(df_train_31, replace = True, n_samples = 232 , random_state = 123)\n",
        "  # df_train_32_upsampled = resample(df_train_32, replace = True, n_samples = 232 , random_state = 123)\n",
        "  # df_train_33_upsampled = resample(df_train_33, replace = True, n_samples = 232 , random_state = 123)\n",
        " \n",
        "  df_train_upsampled = pd.concat([df_train_1, df_train_2_upsampled,df_train_3_upsampled, df_train_4, df_train_5_upsampled, df_train_6_upsampled, df_train_7_upsampled, df_train_8_upsampled, df_train_9_upsampled, df_train_10_upsampled, df_train_11_upsampled,  df_train_12_upsampled,df_train_13_upsampled, df_train_14, df_train_15_upsampled, df_train_16_upsampled, df_train_17_upsampled, df_train_18_upsampled, df_train_19_upsampled, df_train_20_upsampled, df_train_21_upsampled, df_train_22_upsampled, df_train_23_upsampled, df_train_24_upsampled, df_train_26_upsampled, df_train_27_upsampled ])\n",
        "  print(df_train_upsampled[target].value_counts())\n",
        "\n",
        "  df_train_upsampled_bkup = df_train_upsampled.copy()\n",
        "  df_train_upsampled_bkup[target].value_counts()\n",
        "\n",
        "  df_train = df_train_upsampled.copy()\n",
        "\n"
      ],
      "execution_count": 24,
      "outputs": [
        {
          "output_type": "stream",
          "text": [
            "V      223\n",
            "IV     223\n",
            "III    223\n",
            "II     223\n",
            "I      223\n",
            "Name: AccLevel, dtype: int64\n"
          ],
          "name": "stdout"
        }
      ]
    },
    {
      "cell_type": "code",
      "metadata": {
        "colab": {
          "base_uri": "https://localhost:8080/"
        },
        "id": "f1SFqQzmtyti",
        "outputId": "35182f34-a809-4913-f696-b19f71d0c622"
      },
      "source": [
        "# Get the Category Counts\n",
        "category_counts = len(df_train[target].cat.categories)\n",
        "category_counts"
      ],
      "execution_count": 25,
      "outputs": [
        {
          "output_type": "execute_result",
          "data": {
            "text/plain": [
              "5"
            ]
          },
          "metadata": {
            "tags": []
          },
          "execution_count": 25
        }
      ]
    },
    {
      "cell_type": "code",
      "metadata": {
        "id": "UTYahdGwI6VW"
      },
      "source": [
        "#Converting train dataset to correct format\n",
        "\n",
        "train_text = df_train['Description'].tolist()\n",
        "train_text = np.array(train_text, dtype=object)[:, np.newaxis]\n",
        "\n",
        "train_label = np.asarray(pd.get_dummies(df_train[target]), dtype = np.int8)\n",
        "train_label[8]\n",
        "\n",
        "#Converting test dataset to correct format\n",
        "\n",
        "test_text = df_test['Description'].tolist()\n",
        "test_text = np.array(test_text, dtype=object)[:, np.newaxis]\n",
        "test_label = np.asarray(pd.get_dummies(df_test[target]), dtype = np.int8)\n",
        "\n",
        "#Converting validation dataset to correct format\n",
        "\n",
        "val_text = val[\"Description\"].tolist()\n",
        "val_text = np.array(val_text, dtype=object)[:, np.newaxis]\n",
        "val_label = np.asarray(pd.get_dummies(val[target]), dtype = np.int8)"
      ],
      "execution_count": 26,
      "outputs": []
    },
    {
      "cell_type": "markdown",
      "metadata": {
        "id": "MboOV0HTtdp2"
      },
      "source": [
        "https://stackoverflow.com/questions/60809068/error-output-of-the-tf-hub-layers-embedding-with-conv-or-rnn\n",
        "https://stackoverflow.com/questions/42918446/how-to-add-an-attention-mechanism-in-keras?answertab=votes#tab-top\n"
      ]
    },
    {
      "cell_type": "markdown",
      "metadata": {
        "id": "iiOBL21vlWrF"
      },
      "source": [
        "#Using Embedding: Universal Sentence Encoder\n",
        "- The Universal Sentence Encoder encodes text into high dimensional vectors that can be used for text classification, semantic similarity, clustering and other natural language tasks.\n",
        "\n",
        "- The input is variable length English text and the output is a 512 dimensional vector. The universal-sentence-encoder-large model is trained with a Transformer encoder.\n",
        "\n",
        "- This module is about 800MB."
      ]
    },
    {
      "cell_type": "code",
      "metadata": {
        "id": "4HWIgB4Unw6G"
      },
      "source": [
        "module_url = \"https://tfhub.dev/google/universal-sentence-encoder-large/3\" #@param [\"https://tfhub.dev/google/universal-sentence-encoder/2\", \"https://tfhub.dev/google/universal-sentence-encoder-large/3\", \"https://tfhub.dev/google/universal-sentence-encoder/1\", \"https://tfhub.dev/google/nnlm-en-dim50-with-normalization/1\"]"
      ],
      "execution_count": 27,
      "outputs": []
    },
    {
      "cell_type": "code",
      "metadata": {
        "id": "H4M7gosFlxnH"
      },
      "source": [
        "#from keras.layers import Input, LSTM, Dense, Activation, Dropout,Embedding\n",
        "#from tensorflow.keras import \n",
        "\n",
        "# Import the Universal Sentence Encoder's TF Hub module\n",
        "embed = hub.Module(module_url)\n",
        "\n",
        "def UniversalEmbedding(x):\n",
        "  import tensorflow as tf\n",
        "  return embed(tf.squeeze(tf.cast(x, tf.string)), signature=\"default\", as_dict=True)[\"default\"]"
      ],
      "execution_count": 28,
      "outputs": []
    },
    {
      "cell_type": "code",
      "metadata": {
        "colab": {
          "base_uri": "https://localhost:8080/"
        },
        "id": "IPGy60l2l4q8",
        "outputId": "e6efbbd6-90df-46d5-8299-5859d05b8ffb"
      },
      "source": [
        "#Get the Embed Size\n",
        "\n",
        "embed_size = embed.get_output_info_dict()['default'].get_shape()[1].value\n",
        "embed_size"
      ],
      "execution_count": 29,
      "outputs": [
        {
          "output_type": "execute_result",
          "data": {
            "text/plain": [
              "512"
            ]
          },
          "metadata": {
            "tags": []
          },
          "execution_count": 29
        }
      ]
    },
    {
      "cell_type": "markdown",
      "metadata": {
        "id": "XOOG2w5_fSEi"
      },
      "source": [
        "##Model Building\n",
        "\n",
        "- Using Convolution with LSTM \n",
        "\n",
        "### Compile the model \n",
        "- Use Optimizer as Adam\n",
        "- Use **categorical_crossentropy** as loss\n",
        "- Use **categorical_accuracy** as metrics"
      ]
    },
    {
      "cell_type": "code",
      "metadata": {
        "colab": {
          "base_uri": "https://localhost:8080/"
        },
        "id": "YM9ExLJPr2JL",
        "outputId": "d7615314-2272-45d8-8179-c4e36f88d9e0"
      },
      "source": [
        "#Model Building\n",
        "\n",
        "#from keras.layers import Dense, Embedding, LSTM, Dropout, MaxPooling1D, Conv1D, Bidirectional\n",
        "\n",
        "#input_text = layers.Input(shape=(1,), dtype=tf.string)\n",
        "input_text = layers.Input(shape=(1,), dtype=\"string\") #https://github.com/tensorflow/tensorflow/issues/19303\n",
        "\n",
        "print(input_text.shape)\n",
        "embedding = layers.Lambda(UniversalEmbedding,output_shape=(embed_size,))(input_text)\n",
        "print(embedding.shape)\n",
        "reshape = layers.Reshape(target_shape=(1, 512 ))(embedding)\n",
        "print(reshape.shape)\n",
        "drop = (Dropout(0.25))(reshape)\n",
        "cnvl = (Conv1D(256, 5, padding = 'same', activation = 'relu', strides = 1))(drop)\n",
        "lstm=LSTM(units=128,return_sequences=False)(cnvl)\n",
        "attn = (Activation(\"softmax\"))(lstm)\n",
        "dense = layers.Dense(256, activation='relu')(attn)\n",
        "print(dense.shape)\n",
        "\n",
        "pred = layers.Dense(category_counts, activation='softmax')(dense)\n",
        "model = Model(inputs=[input_text], outputs=pred)\n",
        "\n",
        "#model.compile(loss='categorical_crossentropy', optimizer='adam', metrics=['accuracy'])  \n",
        "model.compile(loss='categorical_crossentropy', optimizer='adam', metrics=['categorical_accuracy'])\n",
        "\n",
        "#print model summary\n",
        "model.summary()\n",
        "\n",
        "type(model)"
      ],
      "execution_count": 30,
      "outputs": [
        {
          "output_type": "stream",
          "text": [
            "(?, 1)\n",
            "INFO:tensorflow:Saver not created because there are no variables in the graph to restore\n"
          ],
          "name": "stdout"
        },
        {
          "output_type": "stream",
          "text": [
            "INFO:tensorflow:Saver not created because there are no variables in the graph to restore\n"
          ],
          "name": "stderr"
        },
        {
          "output_type": "stream",
          "text": [
            "(?, 512)\n",
            "(?, 1, 512)\n",
            "WARNING:tensorflow:From /tensorflow-1.15.2/python3.7/tensorflow_core/python/ops/resource_variable_ops.py:1630: calling BaseResourceVariable.__init__ (from tensorflow.python.ops.resource_variable_ops) with constraint is deprecated and will be removed in a future version.\n",
            "Instructions for updating:\n",
            "If using Keras pass *_constraint arguments to layers.\n"
          ],
          "name": "stdout"
        },
        {
          "output_type": "stream",
          "text": [
            "WARNING:tensorflow:From /tensorflow-1.15.2/python3.7/tensorflow_core/python/ops/resource_variable_ops.py:1630: calling BaseResourceVariable.__init__ (from tensorflow.python.ops.resource_variable_ops) with constraint is deprecated and will be removed in a future version.\n",
            "Instructions for updating:\n",
            "If using Keras pass *_constraint arguments to layers.\n"
          ],
          "name": "stderr"
        },
        {
          "output_type": "stream",
          "text": [
            "(?, 256)\n",
            "Model: \"model\"\n",
            "_________________________________________________________________\n",
            "Layer (type)                 Output Shape              Param #   \n",
            "=================================================================\n",
            "input_1 (InputLayer)         [(None, 1)]               0         \n",
            "_________________________________________________________________\n",
            "lambda (Lambda)              (None, 512)               0         \n",
            "_________________________________________________________________\n",
            "reshape (Reshape)            (None, 1, 512)            0         \n",
            "_________________________________________________________________\n",
            "dropout (Dropout)            (None, 1, 512)            0         \n",
            "_________________________________________________________________\n",
            "conv1d (Conv1D)              (None, 1, 256)            655616    \n",
            "_________________________________________________________________\n",
            "lstm (LSTM)                  (None, 128)               197120    \n",
            "_________________________________________________________________\n",
            "activation (Activation)      (None, 128)               0         \n",
            "_________________________________________________________________\n",
            "dense (Dense)                (None, 256)               33024     \n",
            "_________________________________________________________________\n",
            "dense_1 (Dense)              (None, 5)                 1285      \n",
            "=================================================================\n",
            "Total params: 887,045\n",
            "Trainable params: 887,045\n",
            "Non-trainable params: 0\n",
            "_________________________________________________________________\n"
          ],
          "name": "stdout"
        },
        {
          "output_type": "execute_result",
          "data": {
            "text/plain": [
              "tensorflow.python.keras.engine.training.Model"
            ]
          },
          "metadata": {
            "tags": []
          },
          "execution_count": 30
        }
      ]
    },
    {
      "cell_type": "code",
      "metadata": {
        "colab": {
          "base_uri": "https://localhost:8080/",
          "height": 976
        },
        "id": "w7bjR9KIq4Gw",
        "outputId": "61453b14-e11f-4121-cdaa-be8f7fa2954e"
      },
      "source": [
        "tf.keras.utils.plot_model(model, show_shapes = True)"
      ],
      "execution_count": 31,
      "outputs": [
        {
          "output_type": "execute_result",
          "data": {
            "image/png": "[encoded data removed]",
            "text/plain": [
              "<IPython.core.display.Image object>"
            ]
          },
          "metadata": {
            "tags": []
          },
          "execution_count": 31
        }
      ]
    },
    {
      "cell_type": "markdown",
      "metadata": {
        "id": "roD4sTw1fNnI"
      },
      "source": [
        "##Model Training"
      ]
    },
    {
      "cell_type": "code",
      "metadata": {
        "colab": {
          "base_uri": "https://localhost:8080/"
        },
        "id": "-pcf1RpmuKtx",
        "outputId": "e6e9a064-705d-4504-9519-a825769e59b5"
      },
      "source": [
        "#Model Training\n",
        "\n",
        "# # Adding callbacks\n",
        "# es = EarlyStopping(monitor = 'val_loss', mode = 'min', verbose = 1, patience = 0)  \n",
        "# mc = ModelCheckpoint('imdb_model.h5', monitor = 'val_loss', mode = 'min', save_best_only = True, verbose = 1)\n",
        "\n",
        "with tf.Session() as session:\n",
        "  K.set_session(session)\n",
        "  session.run(tf.global_variables_initializer())\n",
        "  session.run(tf.tables_initializer())\n",
        "  # Adding callbacks\n",
        "  es = EarlyStopping(monitor = 'val_loss', mode = 'min', verbose = 1, patience = 0)  \n",
        "  mc = ModelCheckpoint('model_lstm.h5', monitor = 'val_loss', mode = 'min', save_best_only = True, verbose = 1)\n",
        "  #logdir = 'log'; tb = TensorBoard(logdir, histogram_freq = 1)\n",
        "  lr_r = ReduceLROnPlateau(monitor = 'val_loss', factor = 0.2, patience = 0)\n",
        "  \n",
        "  cb = [es, lr_r] #https://stackoverflow.com/questions/58030543/list-of-keras-callbacks-generates-error-tuple-object-has-no-attribute-set-mo\n",
        "  \n",
        "  h = model.fit(train_text, train_label, validation_data=(val_text, val_label), epochs=30, batch_size=32, callbacks=[es, lr_r, mc])\n",
        "\n",
        "  #model.save_weights('./model_lstm.h5')\n",
        "  #model.save(\"my_model.hdf5\")"
      ],
      "execution_count": 32,
      "outputs": [
        {
          "output_type": "stream",
          "text": [
            "WARNING:tensorflow:From /tensorflow-1.15.2/python3.7/tensorflow_core/python/ops/math_grad.py:1424: where (from tensorflow.python.ops.array_ops) is deprecated and will be removed in a future version.\n",
            "Instructions for updating:\n",
            "Use tf.where in 2.0, which has the same broadcast rule as np.where\n"
          ],
          "name": "stdout"
        },
        {
          "output_type": "stream",
          "text": [
            "WARNING:tensorflow:From /tensorflow-1.15.2/python3.7/tensorflow_core/python/ops/math_grad.py:1424: where (from tensorflow.python.ops.array_ops) is deprecated and will be removed in a future version.\n",
            "Instructions for updating:\n",
            "Use tf.where in 2.0, which has the same broadcast rule as np.where\n"
          ],
          "name": "stderr"
        },
        {
          "output_type": "stream",
          "text": [
            "Train on 1115 samples, validate on 34 samples\n",
            "Epoch 1/30\n",
            "1088/1115 [============================>.] - ETA: 0s - loss: 1.6103 - categorical_accuracy: 0.1838\n",
            "Epoch 00001: val_loss improved from inf to 1.60593, saving model to model_lstm.h5\n",
            "1115/1115 [==============================] - 41s 37ms/sample - loss: 1.6103 - categorical_accuracy: 0.1830 - val_loss: 1.6059 - val_categorical_accuracy: 0.0000e+00\n",
            "Epoch 2/30\n",
            "1088/1115 [============================>.] - ETA: 0s - loss: 1.6098 - categorical_accuracy: 0.1866\n",
            "Epoch 00002: val_loss did not improve from 1.60593\n",
            "1115/1115 [==============================] - 36s 32ms/sample - loss: 1.6098 - categorical_accuracy: 0.1865 - val_loss: 1.6078 - val_categorical_accuracy: 0.0882\n",
            "Epoch 00002: early stopping\n"
          ],
          "name": "stdout"
        }
      ]
    },
    {
      "cell_type": "markdown",
      "metadata": {
        "id": "wstHa1xPfFTk"
      },
      "source": [
        "##Plotting the Training & Test Accuracy and Loss"
      ]
    },
    {
      "cell_type": "code",
      "metadata": {
        "id": "HKbfPH1IxYQH",
        "colab": {
          "base_uri": "https://localhost:8080/",
          "height": 505
        },
        "outputId": "06c14d1e-e5c7-481e-84b2-c0253672e095"
      },
      "source": [
        "#Plotting the Training & Test Accuracy and Loss\n",
        "\n",
        "f, (ax1, ax2) = plt.subplots(1, 2, figsize = (15, 7.2))\n",
        "f.suptitle('Training & Testing Loss')\n",
        "\n",
        "ax1.plot(h.history['loss'], 'go-' , label = 'Train')\n",
        "ax1.plot(h.history['val_loss'],  'ro-' , label = 'Test')\n",
        "ax1.set_title('Model Loss')\n",
        "ax1.legend(['Train', 'Test'])\n",
        "ax1.set_xlabel(\"Epochs\")\n",
        "ax1.set_ylabel(\"Loss\")\n",
        "\n",
        "ax2.plot(h.history['categorical_accuracy'], 'go-', label = 'Train')\n",
        "ax2.plot(h.history['val_categorical_accuracy'], 'ro-' , label = 'Test')\n",
        "ax2.set_title('Model Accuracy')\n",
        "ax2.legend(['Train', 'Test'])\n",
        "ax2.set_xlabel(\"Epochs\")\n",
        "ax2.set_ylabel(\"Accuracy\")\n",
        "\n",
        "plt.show()"
      ],
      "execution_count": 33,
      "outputs": [
        {
          "output_type": "display_data",
          "data": {
            "image/png": "[encoded data removed]",
            "text/plain": [
              "<Figure size 1080x518.4 with 2 Axes>"
            ]
          },
          "metadata": {
            "tags": [],
            "needs_background": "light"
          }
        }
      ]
    },
    {
      "cell_type": "markdown",
      "metadata": {
        "id": "ftSk_S55e_kq"
      },
      "source": [
        " ## Plot the Classification Report and Overall Accuracy"
      ]
    },
    {
      "cell_type": "code",
      "metadata": {
        "id": "ghN7b5JjaBLv",
        "colab": {
          "base_uri": "https://localhost:8080/"
        },
        "outputId": "f7f15f66-ea20-41c1-a596-39dc495628cd"
      },
      "source": [
        "#Print the Classification Report and Overall Accuracy\n",
        "\n",
        "# Evaluate the model\n",
        "with tf.Session() as session:\n",
        "  K.set_session(session)\n",
        "  session.run(tf.global_variables_initializer())\n",
        "  session.run(tf.tables_initializer())\n",
        "  loss, categorical_accuracy = model.evaluate(test_text, test_label, verbose = 0)\n",
        "  print('Overall Accuracy: {}'.format(categorical_accuracy * 100))\n",
        "  y_pred = model.predict(test_text, batch_size=10, verbose=1)\n",
        "  y_pred_bool = np.argmax(y_pred, axis=1)\n",
        "  y_test_bool = np.argmax(test_label, axis=1)\n",
        "  print(classification_report(y_test_bool, y_pred_bool))\n",
        "\n",
        "\n",
        "model_score = metrics.accuracy_score(y_test_bool, y_pred_bool)\n",
        "print(model_score * 100)"
      ],
      "execution_count": 34,
      "outputs": [
        {
          "output_type": "stream",
          "text": [
            "Overall Accuracy: 5.882352963089943\n",
            "85/85 [==============================] - 3s 39ms/sample\n",
            "              precision    recall  f1-score   support\n",
            "\n",
            "           0       0.00      0.00      0.00        68\n",
            "           1       0.00      0.00      0.00         6\n",
            "           2       0.06      1.00      0.11         5\n",
            "           3       0.00      0.00      0.00         4\n",
            "           4       0.00      0.00      0.00         2\n",
            "\n",
            "    accuracy                           0.06        85\n",
            "   macro avg       0.01      0.20      0.02        85\n",
            "weighted avg       0.00      0.06      0.01        85\n",
            "\n",
            "5.88235294117647\n"
          ],
          "name": "stdout"
        },
        {
          "output_type": "stream",
          "text": [
            "/usr/local/lib/python3.7/dist-packages/sklearn/metrics/_classification.py:1272: UndefinedMetricWarning: Precision and F-score are ill-defined and being set to 0.0 in labels with no predicted samples. Use `zero_division` parameter to control this behavior.\n",
            "  _warn_prf(average, modifier, msg_start, len(result))\n"
          ],
          "name": "stderr"
        }
      ]
    },
    {
      "cell_type": "markdown",
      "metadata": {
        "id": "Bv3XHyfle9L9"
      },
      "source": [
        "##Plot the confusion matrix"
      ]
    },
    {
      "cell_type": "code",
      "metadata": {
        "id": "tuwN_7XCQDno",
        "colab": {
          "base_uri": "https://localhost:8080/",
          "height": 445
        },
        "outputId": "edd3fcbf-e3c2-4bbf-9b13-183ec22a8174"
      },
      "source": [
        "#Print Confusion Matrix\n",
        "import matplotlib.pyplot as plt\n",
        "import seaborn as sns\n",
        "from sklearn.metrics import confusion_matrix, multilabel_confusion_matrix\n",
        "\n",
        "cm = confusion_matrix(y_test_bool, y_pred_bool)\n",
        "#cm = multilabel_confusion_matrix(y_test_bool, y_pred_bool)\n",
        "\n",
        "#Plot the  Confusion Matrix\n",
        "\n",
        "plt.figure(figsize = (10,7))\n",
        "sns.heatmap(cm, annot=True)"
      ],
      "execution_count": 35,
      "outputs": [
        {
          "output_type": "execute_result",
          "data": {
            "text/plain": [
              "<matplotlib.axes._subplots.AxesSubplot at 0x7f669e459190>"
            ]
          },
          "metadata": {
            "tags": []
          },
          "execution_count": 35
        },
        {
          "output_type": "display_data",
          "data": {
            "image/png": "[encoded data removed]",
            "text/plain": [
              "<Figure size 720x504 with 2 Axes>"
            ]
          },
          "metadata": {
            "tags": [],
            "needs_background": "light"
          }
        }
      ]
    },
    {
      "cell_type": "code",
      "metadata": {
        "id": "O2hS9CxFuRY9",
        "colab": {
          "base_uri": "https://localhost:8080/",
          "height": 121
        },
        "outputId": "536fc09b-6da4-49b4-d187-92ed8f886d5f"
      },
      "source": [
        "#Prediction with Raw Text\n",
        "\n",
        "new_text = [\"In the sub-station MILPO located at level +170 when the collaborator was doing the excavation work with a pick (hand tool), hitting a rock with the flat part of the beak, it bounces off hitting the steel tip of the safety shoe and then the metatarsal area of â€‹â€‹the left foot of the collaborator causing the injury.\", \"\",\"\"]\n",
        "print(type(new_text))\n",
        "new_text = np.array(new_text, dtype=object)[:, np.newaxis]\n",
        "print(type(new_text))\n",
        "with tf.Session() as session:\n",
        "  K.set_session(session)\n",
        "  session.run(tf.global_variables_initializer())\n",
        "  session.run(tf.tables_initializer())\n",
        "  # universal sentence encoder input/output\n",
        "  model.load_weights('./model_lstm.h5')  \n",
        "  predicts = model.predict(new_text, batch_size=32)\n",
        "\n",
        "print(predicts)\n",
        "\n",
        "categories = df_train[target].cat.categories.tolist()\n",
        "predict_logits = predicts.argmax(axis=1)\n",
        "predict_labels = [categories[logit] for logit in predict_logits]\n",
        "predict_labels[0]"
      ],
      "execution_count": 36,
      "outputs": [
        {
          "output_type": "stream",
          "text": [
            "<class 'list'>\n",
            "<class 'numpy.ndarray'>\n",
            "[[0.20135392 0.19837938 0.19680727 0.20052758 0.20293185]\n",
            " [0.20134631 0.19837709 0.1968066  0.20052859 0.2029415 ]\n",
            " [0.20134631 0.19837709 0.1968066  0.20052859 0.2029415 ]]\n"
          ],
          "name": "stdout"
        },
        {
          "output_type": "execute_result",
          "data": {
            "application/vnd.google.colaboratory.intrinsic+json": {
              "type": "string"
            },
            "text/plain": [
              "'V'"
            ]
          },
          "metadata": {
            "tags": []
          },
          "execution_count": 36
        }
      ]
    }
  ]
}