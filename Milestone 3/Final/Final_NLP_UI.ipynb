{
  "nbformat": 4,
  "nbformat_minor": 0,
  "metadata": {
    "colab": {
      "name": "Copy of Final_Chatbot_UI.ipynb",
      "provenance": [],
      "collapsed_sections": []
    },
    "kernelspec": {
      "display_name": "Python 3",
      "name": "python3"
    },
    "accelerator": "GPU"
  },
  "cells": [
    {
      "cell_type": "code",
      "metadata": {
        "colab": {
          "base_uri": "https://localhost:8080/"
        },
        "id": "QHjLRONpXEpY",
        "outputId": "61959485-a8dd-4b89-b62a-0427abf617dc"
      },
      "source": [
        "# Mounting Google Drive\n",
        "from google.colab import drive\n",
        "drive.mount('/content/drive')"
      ],
      "execution_count": 59,
      "outputs": [
        {
          "output_type": "stream",
          "text": [
            "Drive already mounted at /content/drive; to attempt to forcibly remount, call drive.mount(\"/content/drive\", force_remount=True).\n"
          ],
          "name": "stdout"
        }
      ]
    },
    {
      "cell_type": "code",
      "metadata": {
        "id": "U4ueEcjdXGzQ"
      },
      "source": [
        "# Setting the current working directory\n",
        "import os; os.chdir('/content/drive/MyDrive/AI_ML/Projects/Capstone-NLP/')"
      ],
      "execution_count": 60,
      "outputs": []
    },
    {
      "cell_type": "markdown",
      "metadata": {
        "id": "bYLYN0uFzIbi"
      },
      "source": [
        "### Importing the Packages"
      ]
    },
    {
      "cell_type": "code",
      "metadata": {
        "id": "fVJOuPH45YkF",
        "colab": {
          "base_uri": "https://localhost:8080/"
        },
        "outputId": "517d2991-ec70-4ec3-e4c2-d2f754647cfc"
      },
      "source": [
        "# Importing the libraries\n",
        "# load packages\n",
        "import os\n",
        "from flask import Flask, flash, request, redirect, url_for\n",
        "from werkzeug.utils import secure_filename\n",
        "\n",
        "import flask\n",
        "app = flask.Flask(__name__)\n",
        "from flask import Flask, render_template, request\n",
        "\n",
        "import pickle\n",
        "\n",
        "#%tensorflow_version 1.x\n",
        "\n",
        "import tensorflow as tf\n",
        "from tensorflow import keras\n",
        "from tensorflow.keras.layers import Dense, Flatten, Conv2D\n",
        "from tensorflow.keras import Model\n",
        "from tensorflow.keras import backend as K\n",
        "\n",
        "# import keras.layers as layers\n",
        "# from keras.models import Model\n",
        "# from keras import backend as K\n",
        "# from keras.models import load_model\n",
        "\n",
        "print(tf.__version__)"
      ],
      "execution_count": 61,
      "outputs": [
        {
          "output_type": "stream",
          "text": [
            "2.4.1\n"
          ],
          "name": "stdout"
        }
      ]
    },
    {
      "cell_type": "code",
      "metadata": {
        "id": "F_p3pC60cQi6"
      },
      "source": [
        "#UPLOAD_FOLDER = '/path/to/the/uploads'\n",
        "\n",
        "UPLOAD_FOLDER = '/content/drive/MyDrive/AI_ML/Projects/Capstone-NLP/'\n",
        "\n",
        "#ALLOWED_EXTENSIONS = {'txt', 'pdf', 'png', 'jpg', 'jpeg', 'gif'}\n",
        "\n",
        "ALLOWED_EXTENSIONS = {'csv'}"
      ],
      "execution_count": 62,
      "outputs": []
    },
    {
      "cell_type": "code",
      "metadata": {
        "id": "Cl6wct6IVwhl"
      },
      "source": [
        "!mkdir templates -p"
      ],
      "execution_count": 63,
      "outputs": []
    },
    {
      "cell_type": "code",
      "metadata": {
        "id": "i2844SQlWK8T"
      },
      "source": [
        "#!ls"
      ],
      "execution_count": 64,
      "outputs": []
    },
    {
      "cell_type": "code",
      "metadata": {
        "colab": {
          "base_uri": "https://localhost:8080/"
        },
        "id": "Stz_Zxu5We3u",
        "outputId": "171f5fd1-6759-4e9a-dee2-85c2478f3c08"
      },
      "source": [
        "%%writefile templates/prediction.html\n",
        "\n",
        "<!DOCTYPE html>\n",
        "\n",
        "<div class=\"form_main\">\n",
        "\n",
        "<h4 class=\"heading\"><strong> Industrial-safety-and-health-analytics-database  </strong> <span></span></h4>\n",
        "\n",
        "<div class=\"header\">\n",
        "  <h3>The Accident Severity Level is {{ prediction }}</h3>\n",
        "</div>\n",
        "\n",
        "\n",
        "<style>\n",
        "\n",
        "form_main {\n",
        "      width: 100%;\n",
        "  }\n",
        "  .form_main h4 {\n",
        "      font-family: roboto;\n",
        "      font-size: 20px;\n",
        "      font-weight: 300;\n",
        "      margin-bottom: 15px;\n",
        "      margin-top: 20px;\n",
        "      text-transform: uppercase;\n",
        "  }\n",
        "  \n",
        "    .form_main h3 {\n",
        "      font-family: roboto;\n",
        "      font-size: 20px;\n",
        "      font-weight: 300;\n",
        "      margin-bottom: 15px;\n",
        "      margin-top: 20px;\n",
        "      \n",
        "  }\n",
        "  \n",
        "  .heading {\n",
        "      border-bottom: 1px solid #fcab0e;\n",
        "      padding-bottom: 9px;\n",
        "      position: relative;\n",
        "\t  text-align: center\n",
        "  }\n",
        "  .heading span {\n",
        "      background: #9e6600 none repeat scroll 0 0;\n",
        "      bottom: -2px;\n",
        "      height: 3px;\n",
        "      left: 0;\n",
        "      position: absolute;\n",
        "      width: 75px;\n",
        "  }\n",
        "  .form {\n",
        "      border-radius: 7px;\n",
        "      padding: 6px;\n",
        "  }\n",
        "\n",
        "\n",
        "</style>\n"
      ],
      "execution_count": 65,
      "outputs": [
        {
          "output_type": "stream",
          "text": [
            "Overwriting templates/prediction.html\n"
          ],
          "name": "stdout"
        }
      ]
    },
    {
      "cell_type": "code",
      "metadata": {
        "colab": {
          "base_uri": "https://localhost:8080/"
        },
        "id": "g3ZoNZrqxU4n",
        "outputId": "25c488dd-396a-4fb8-e2d6-403c9a35462c"
      },
      "source": [
        "%%writefile templates/result.html\n",
        "\n",
        "<!doctype html>\n",
        "<html>\n",
        "   <body>\n",
        "        <div \n",
        "          <h2>There is a {{ result }} </h2>\n",
        "        </div>\n",
        "   </body>\n",
        "</html>"
      ],
      "execution_count": 66,
      "outputs": [
        {
          "output_type": "stream",
          "text": [
            "Overwriting templates/result.html\n"
          ],
          "name": "stdout"
        }
      ]
    },
    {
      "cell_type": "code",
      "metadata": {
        "colab": {
          "base_uri": "https://localhost:8080/"
        },
        "id": "a9G4NIPJX667",
        "outputId": "54696e92-12e4-4025-eb5e-84cc03128227"
      },
      "source": [
        "%%writefile templates/search_page.html\n",
        "\n",
        "<!DOCTYPE html>\n",
        "\n",
        "<div class=\"form_main\">\n",
        "\n",
        "<h4 class=\"heading\"><strong>Industrial-safety-and-health-analytics-database </strong> <span></span></h4>\n",
        "\n",
        "<div id=\"search-info\">\n",
        "  <h3>Accident Severity Level predictor</h3>\n",
        "</div>\n",
        "\n",
        "<div id=\"search-info\">\n",
        "  <h3>A) Milestone-1)-Tasks</h3>\n",
        "</div>\n",
        "\n",
        "<div id=\"search-info\">\n",
        "  <h4>1) Import dataset into DataFrame</h4>\n",
        "</div>\n",
        "\n",
        "<div class=\"form-style-8\">\n",
        "  <form id=\"load_form\" action=\"/load\" method=\"POST\" target=\"_blank\" enctype=multipart/form-data>\n",
        "\t   <input type=\"submit\" value=\"Import dataset\" name=\"Sumbit\" class=\"txt2\">\n",
        "  </form>\n",
        "</div>\n",
        "\n",
        "\n",
        "<div id=\"search-info\">\n",
        "  <h4>2) Dataset Cleaning</h4>\n",
        "</div>\n",
        "\n",
        "\t<div class=\"form-style-8\">\n",
        "\t  <form id=\"Clean\" action=\"/clean\" method=\"POST\" target=\"_blank\" enctype=multipart/form-data>\n",
        "\t\t  <input type=\"submit\" value=\"Clean Dataset\" name=\"Sumbit\" class=\"txt2\">\n",
        "\t  </form>\n",
        "\t</div>\n",
        "\n",
        "\n",
        "<div id=\"search-info\">\n",
        "\t<h3>B) Milestone-2-Tasks</h3>\n",
        "</div>\n",
        "\n",
        "<div id=\"search-info\">\n",
        "  <h4>3) Design, train and test for LSTM </h4>\n",
        "</div>\n",
        "\t<div class=\"form-style-8\">\n",
        "\t  <form id=\"search_form\" action=\"/all\" method=\"POST\" target=\"_blank\">\n",
        "\t\t<input type=\"submit\" value=\"PreProcess_Train\" name=\"Sumbit\" class=\"txt2\">\n",
        "\t  </form>\n",
        " </div>\n",
        "\n",
        "<div id=\"search-info\">\n",
        "  <h4>4) Prediction with LSTM</h4>\n",
        "</div>\n",
        "\t<div class=\"form-style-8\">\n",
        "\t  <form id=\"search_form\" action=\"/predict\" method=\"POST\" target=\"_blank\">\n",
        "\t\n",
        "\t\t<input type=\"text\" required=\"\" placeholder=\"input_str\" value=\"\" name=\"input_str\"\n",
        "                                  class=\"txt\">\n",
        "        <input type=\"submit\" value=\"Predict with Glove_LSTM\" name=\"Sumbit\" class=\"txt2\">\n",
        "\t  </form>\n",
        " </div>\n",
        "\n",
        "  \n",
        "<script src=\"https://ajax.googleapis.com/ajax/libs/jquery/1.11.1/jquery.min.js\"></script>\n",
        "<script src=\"https://maxcdn.bootstrapcdn.com/bootstrap/3.2.0/js/bootstrap.min.js\"></script>\n",
        "\n",
        "<script>\n",
        "\n",
        "window.onload = function() {\n",
        "  jQuery(document).keypress(function(e) {\n",
        "    if (e.keyCode == 13) {\n",
        "      e.preventDefault();\n",
        "      jQuery('#SubmitButton').click();\n",
        "    }\n",
        "  });\n",
        "}\n",
        "\n",
        "</script>\n",
        "\n",
        "<style>\n",
        "\n",
        "h1{\n",
        "  font-weight: bold;\n",
        "  font-size: 2em;\n",
        "  font-family: 'Raleway', sans-serif;\n",
        "  margin: 0;\n",
        "  margin-top: 1px;\n",
        "  color: black;\n",
        "  text-align: center;\n",
        "  \n",
        "}\n",
        "\n",
        "h2{\n",
        "  font-weight: bold;\n",
        "  font-size: 1em;\n",
        "  font-family: 'Raleway', sans-serif;\n",
        "  margin: 0 auto;\n",
        "  margin-top: 10px;\n",
        "  width: 1000px;\n",
        "  color: black;\n",
        "  text-align: left;\n",
        "\n",
        "}\n",
        "\n",
        "h3 {\n",
        "  text-align: left;\n",
        "  padding-left: 3%;\n",
        "  font-size: 1.0em;\n",
        "  font-weight: bold;\n",
        "  color: black;\n",
        "  font-family: 'Raleway', sans-serif;\n",
        "  background-color: lightblue\n",
        "}\n",
        "\n",
        "h4 {\n",
        "  text-align: left;\n",
        "  padding-left: 3%;\n",
        "  font-size: 0.8em;\n",
        "  font-weight: bold;\n",
        "  color: black;\n",
        "  font-family: 'Sniglet', monospace;\n",
        "}\n",
        "\n",
        "#search-info {\n",
        "  text-align: center;\n",
        "  font-family: 'Proxima Nova', sans-serif;\n",
        "  color: #0077cc;\n",
        "  font-size: 24px;\n",
        "  font-weight: 100;\n",
        "  padding: 20px;\n",
        "  margin: -30px -30px -10px -30px;\n",
        "}\n",
        "\n",
        "\n",
        "\n",
        "form_main {\n",
        "      width: 100%;\n",
        "  }\n",
        "  .form_main h4 {\n",
        "      font-family: roboto;\n",
        "      font-size: 20px;\n",
        "      font-weight: 300;\n",
        "      margin-bottom: 15px;\n",
        "      margin-top: 20px;\n",
        "      text-transform: uppercase;\n",
        "  }\n",
        "  \n",
        "    .form_main h3 {\n",
        "      font-family: roboto;\n",
        "      font-size: 20px;\n",
        "      font-weight: 300;\n",
        "      margin-bottom: 15px;\n",
        "      margin-top: 20px;\n",
        "      text-transform: uppercase;\n",
        "  }\n",
        "  \n",
        "  .heading {\n",
        "      border-bottom: 1px solid #fcab0e;\n",
        "      padding-bottom: 9px;\n",
        "      position: relative;\n",
        "\t  text-align: center\n",
        "  }\n",
        "  .heading span {\n",
        "      background: #9e6600 none repeat scroll 0 0;\n",
        "      bottom: -2px;\n",
        "      height: 3px;\n",
        "      left: 0;\n",
        "      position: absolute;\n",
        "      width: 75px;\n",
        "  }\n",
        "  .form {\n",
        "      border-radius: 7px;\n",
        "      padding: 6px;\n",
        "  }\n",
        "  .txt[type=\"text\"] {\n",
        "      border: 1px solid #ccc;\n",
        "      margin: 10px 0;\n",
        "      padding: 10px 0 10px 5px;\n",
        "      width: 100%;\n",
        "  }\n",
        "  .txt_3[type=\"text\"] {\n",
        "      margin: 10px 0 0;\n",
        "      padding: 10px 0 10px 5px;\n",
        "      width: 100%;\n",
        "  }\n",
        "  .txt2[type=\"submit\"] {\n",
        "      background: #242424 none repeat scroll 0 0;\n",
        "      border: 1px solid #4f5c04;\n",
        "      border-radius: 25px;\n",
        "      color: #fff;\n",
        "      font-size: 16px;\n",
        "      font-style: normal;\n",
        "      line-height: 35px;\n",
        "      margin: 10px 0;\n",
        "      padding: 0;\n",
        "      text-transform: uppercase;\n",
        "      width: 20%;\n",
        "  }\n",
        "  .txt2:hover {\n",
        "      background: rgba(0, 0, 0, 0) none repeat scroll 0 0;\n",
        "      color: #5793ef;\n",
        "      transition: all 0.5s ease 0s;\n",
        "  }\n",
        "\n",
        "  .notice {\n",
        "      padding: 15px;\n",
        "      background-color: #fafafa;\n",
        "      border-left: 6px solid #7f7f84;\n",
        "      margin-bottom: 10px;\n",
        "      -webkit-box-shadow: 0 5px 8px -6px rgba(0,0,0,.2);\n",
        "         -moz-box-shadow: 0 5px 8px -6px rgba(0,0,0,.2);\n",
        "              box-shadow: 0 5px 8px -6px rgba(0,0,0,.2);\n",
        "  }\n",
        "  .notice-sm {\n",
        "      padding: 10px;\n",
        "      font-size: 80%;\n",
        "  }\n",
        "  .notice-lg {\n",
        "      padding: 35px;\n",
        "      font-size: large;\n",
        "  }\n",
        "  .notice-success {\n",
        "      border-color: #80D651;\n",
        "  }\n",
        "  .notice-success>strong {\n",
        "      color: #80D651;\n",
        "  }\n",
        "  .notice-info {\n",
        "      border-color: #45ABCD;\n",
        "  }\n",
        "  .notice-info>strong {\n",
        "      color: #45ABCD;\n",
        "  }\n",
        "  .notice-warning {\n",
        "      border-color: #FEAF20;\n",
        "  }\n",
        "  .notice-warning>strong {\n",
        "      color: #FEAF20;\n",
        "  }\n",
        "  .notice-danger {\n",
        "      border-color: #d73814;\n",
        "  }\n",
        "  .notice-danger>strong {\n",
        "      color: #d73814;\n",
        "  }\n",
        "  \n",
        "</style>"
      ],
      "execution_count": 67,
      "outputs": [
        {
          "output_type": "stream",
          "text": [
            "Overwriting templates/search_page.html\n"
          ],
          "name": "stdout"
        }
      ]
    },
    {
      "cell_type": "code",
      "metadata": {
        "colab": {
          "base_uri": "https://localhost:8080/"
        },
        "id": "2R20U2MBT0yw",
        "outputId": "fff3d03d-c102-4969-cb23-25b965eb7b7d"
      },
      "source": [
        "!pip install flask-ngrok"
      ],
      "execution_count": 68,
      "outputs": [
        {
          "output_type": "stream",
          "text": [
            "Requirement already satisfied: flask-ngrok in /usr/local/lib/python3.7/dist-packages (0.0.25)\n",
            "Requirement already satisfied: requests in /usr/local/lib/python3.7/dist-packages (from flask-ngrok) (2.23.0)\n",
            "Requirement already satisfied: Flask>=0.8 in /usr/local/lib/python3.7/dist-packages (from flask-ngrok) (1.1.2)\n",
            "Requirement already satisfied: idna<3,>=2.5 in /usr/local/lib/python3.7/dist-packages (from requests->flask-ngrok) (2.10)\n",
            "Requirement already satisfied: chardet<4,>=3.0.2 in /usr/local/lib/python3.7/dist-packages (from requests->flask-ngrok) (3.0.4)\n",
            "Requirement already satisfied: certifi>=2017.4.17 in /usr/local/lib/python3.7/dist-packages (from requests->flask-ngrok) (2020.12.5)\n",
            "Requirement already satisfied: urllib3!=1.25.0,!=1.25.1,<1.26,>=1.21.1 in /usr/local/lib/python3.7/dist-packages (from requests->flask-ngrok) (1.24.3)\n",
            "Requirement already satisfied: Jinja2>=2.10.1 in /usr/local/lib/python3.7/dist-packages (from Flask>=0.8->flask-ngrok) (2.11.3)\n",
            "Requirement already satisfied: itsdangerous>=0.24 in /usr/local/lib/python3.7/dist-packages (from Flask>=0.8->flask-ngrok) (1.1.0)\n",
            "Requirement already satisfied: click>=5.1 in /usr/local/lib/python3.7/dist-packages (from Flask>=0.8->flask-ngrok) (7.1.2)\n",
            "Requirement already satisfied: Werkzeug>=0.15 in /usr/local/lib/python3.7/dist-packages (from Flask>=0.8->flask-ngrok) (1.0.1)\n",
            "Requirement already satisfied: MarkupSafe>=0.23 in /usr/local/lib/python3.7/dist-packages (from Jinja2>=2.10.1->Flask>=0.8->flask-ngrok) (1.1.1)\n"
          ],
          "name": "stdout"
        }
      ]
    },
    {
      "cell_type": "code",
      "metadata": {
        "id": "I0iDWPJ2LPT-"
      },
      "source": [
        "#load model preprocessing\n",
        "import numpy as np\n",
        "import pandas as pd\n",
        "import pickle\n",
        "from keras.preprocessing.text import Tokenizer\n",
        "from keras.preprocessing.sequence import pad_sequences\n",
        "import keras.models\n",
        "from keras.models import model_from_json"
      ],
      "execution_count": 69,
      "outputs": []
    },
    {
      "cell_type": "code",
      "metadata": {
        "id": "CgL5Ed4iLTxA"
      },
      "source": [
        "def prepData(text):\n",
        "    # Convert to array\n",
        "    textDataArray = [text]\n",
        "    \n",
        "    # Convert into list with word ids\n",
        "    Features = tokenizer.texts_to_sequences(textDataArray)\n",
        "    Features = pad_sequences(Features, 20, padding='post')\n",
        "    \n",
        "    return Features"
      ],
      "execution_count": 70,
      "outputs": []
    },
    {
      "cell_type": "code",
      "metadata": {
        "id": "krH9hKRHT9fd"
      },
      "source": [
        "from flask_ngrok import run_with_ngrok \n",
        "\n",
        "app = Flask(__name__) \n",
        "app.config['UPLOAD_FOLDER'] = UPLOAD_FOLDER\n",
        "run_with_ngrok(app)   "
      ],
      "execution_count": 71,
      "outputs": []
    },
    {
      "cell_type": "code",
      "metadata": {
        "id": "hOFsQJK-8JBD"
      },
      "source": [
        "# new_text = ['text_entered', '1', '2']\n",
        "# type(new_text)\n",
        "# new_text = np.array(new_text, dtype=object)[:, np.newaxis]\n",
        "# new_text.shape"
      ],
      "execution_count": 72,
      "outputs": []
    },
    {
      "cell_type": "code",
      "metadata": {
        "id": "OkfzTEZZs56K"
      },
      "source": [
        "# names =[]\n",
        "# new = 'text'\n",
        "# new = ['DowDuPont', 'Alphabet Inc', new]\n",
        "# #names.extend(more_elements)\n",
        "# print(new)"
      ],
      "execution_count": 73,
      "outputs": []
    },
    {
      "cell_type": "markdown",
      "metadata": {
        "id": "oZprYuQ5iglf"
      },
      "source": [
        "##**Function Helpers**"
      ]
    },
    {
      "cell_type": "code",
      "metadata": {
        "id": "EGWCtIHRgpo5"
      },
      "source": [
        "import keras\n",
        "from keras.models import load_model\n",
        "\n",
        "def allowed_file(filename):\n",
        "    return '.' in filename and \\\n",
        "           filename.rsplit('.', 1)[1].lower() in ALLOWED_EXTENSIONS\n",
        "\n",
        "@app.route('/load', methods=['GET', 'POST'])\n",
        "def load_dataset():\n",
        "  data = pd.read_csv(\"data.csv\")\n",
        "  pickle.dump( data, open( \"raw_data.p\", \"wb\" ) )\n",
        "  html = data.to_html()\n",
        "  return html\n",
        "  #return \"Data Uploaded Successfully in Dataframe\"\n",
        "\n",
        "\n",
        "@app.route('/clean', methods=['GET', 'POST'])\n",
        "def data_clean():\n",
        "  #data = pd.read_csv(\"IHMStefanini_industrial_safety_and_health_database_with_accidents_description.csv\")\n",
        "  data = pickle.load( open( \"raw_data.p\", \"rb\" ) )\n",
        "  data.drop(\"Unnamed: 0\", axis=1, inplace=True)\n",
        "  #data.rename(columns={'Data':'Date', 'Countries':'Country', 'Genre':'Gender', 'Employee or Third Party':'Employee type'}, inplace=True)\n",
        "  #replace_values = {'Local_01': 1, 'Local_02': 2, 'Local_03': 3, 'Local_04': 4, 'Local_05': 5, 'Local_06': 6, 'Local_07': 7, 'Local_08': 8, 'Local_09': 9, 'Local_10': 10, 'Local_11': 11, 'Local_12': 12}\n",
        "  #data['Local'] = data['Local'].map(replace_values)\n",
        "  #replace_values = {'I': 1, 'II': 2, 'III': 3, 'IV': 4, 'V': 5}\n",
        "  #data['Accident Level'] = data['Accident Level'].map(replace_values)\n",
        "  #replace_values = {'I': 1, 'II': 2, 'III': 3, 'IV': 4, 'V': 5, 'VI': 6}\n",
        "  #data['Potential Accident Level'] = data['Potential Accident Level'].map(replace_values)\n",
        "  #del replace_values\n",
        "  pickle.dump( data, open( \"clean_data.p\", \"wb\" ) )\n",
        "  html = data.to_html()\n",
        "  #return \"File Cleaned Successfully\"\n",
        "  return html\n",
        "\n",
        "@app.route('/test_nlp_preprocess', methods=['GET', 'POST'])\n",
        "def data_for_nlp():\n",
        "  data = pickle.load( open( \"clean_data.p\", \"rb\" ) )\n",
        "  html = data.to_html()\n",
        "  return html\n",
        "\n",
        "@app.route('/result', methods=['GET', 'POST'])\n",
        "def result():\n",
        "   if request.method == 'POST':\n",
        "      result = request.form.get('result')\n",
        "      #return \"You entered \"+result\n",
        "      return render_template(\"result.html\", result = result)\n",
        "\n",
        "# @app.route('/predicts_USE', methods=['GET','POST'])\n",
        "# def predicts_use():\n",
        "#     if request.method=='POST':\n",
        "#       new_text = request.form.get('text_entered')\n",
        "#       new_text = np.array(new_text, dtype=object)[:, np.newaxis]\n",
        "#       model.load_weights('./model_lstm.h5')  \n",
        "#       predicts = model.predict(new_text, batch_size=32)\n",
        "#       categories = df_train[target].cat.categories.tolist()\n",
        "#       predict_logits = predicts.argmax(axis=1)\n",
        "#       predict_labels = [categories[logit] for logit in predict_logits]\n",
        "#       prediction = predict_labels[0]\n",
        "#       return prediction\n",
        "#       #return render_template('prediction.html', prediction='prediction')\n",
        "\n",
        "# @app.route('/', methods = ['GET', 'POST'])\n",
        "# def predicts(new_text):\n",
        "#   pass\n",
        "\n",
        "@app.route('/', methods = ['GET', 'POST'])\n",
        "def home():\n",
        "  return render_template(\"search_page.html\")\n",
        "\n",
        "@app.route('/predicts_use', methods = ['GET', 'POST'])\n",
        "def predicts_use():\n",
        "    import tensorflow as tf\n",
        "    import tensorflow_hub as hub\n",
        "    import tensorflow.compat.v1 as tf\n",
        "    from tensorflow.keras import Model\n",
        "    from tensorflow.keras import layers\n",
        "    from tensorflow.keras import backend as K\n",
        "    graph = tf.Graph() #https://stackoverflow.com/questions/52392407/tensorflow-module-must-be-applied-in-the-graph-it-was-instantiated-for\n",
        "    \n",
        "    if request.method=='POST':\n",
        "        prediction = []\n",
        "        prediction = request.form.get('prediction')\n",
        "        prediction = [prediction, 'text', 'text']\n",
        "        print(type(prediction))\n",
        "        print(prediction)\n",
        "        prediction = np.array(prediction, dtype=object)[:, np.newaxis]\n",
        "        graph = tf.Graph()\n",
        "        with tf.Session(graph = graph) as session:\n",
        "           K.set_session(session)\n",
        "           session.run([tf.global_variables_initializer(), tf.tables_initializer()])\n",
        "           embed = hub.Module(\"https://tfhub.dev/google/universal-sentence-encoder-large/3\")\n",
        "           \n",
        "          #  def UniversalEmbedding(x):\n",
        "          #    import tensorflow as tf\n",
        "          #    return embed(tf.squeeze(tf.cast(x, tf.string)), signature=\"default\", as_dict=True)[\"default\"]\n",
        "\n",
        "          #  embed_size = embed.get_output_info_dict()['default'].get_shape()[1].value\n",
        "          #  print(embed_size)\n",
        "          #  input_text = layers.Input(shape=(1,), dtype=\"string\")\n",
        "          #  embedding = layers.Lambda(UniversalEmbedding,output_shape=(embed_size,))(input_text)\n",
        "           \n",
        "           message_embeddings = session.run(embed(tf.cast(prediction, dtype=tf.string, name=None)))\n",
        "           print(message_embeddings)\n",
        "           return render_template('prediction.html', prediction = prediction )\n",
        "    #       #  session.run(tf.global_variables_initializer())\n",
        "    #       #  session.run(tf.tables_initializer())\n",
        "    #        embed = hub.Module(\"https://tfhub.dev/google/universal-sentence-encoder-large/3\")\n",
        "    #        \n",
        "    #        model = tf.keras.models.load_model('my_model.hdf5')# custom_objects= {'embed': hub.Module(module_url)})# , {'tf': tf }))\n",
        "    #        model.load_weights('./model_lstm.h5')  \n",
        "    #        predicts = model.predict(new_text, batch_size=32)#,steps=1)\n",
        "         \n",
        "    # categories = df_train[target].cat.categories.tolist()\n",
        "    # predict_logits = predicts.argmax(axis=1)\n",
        "    # predict_labels = [categories[logit] for logit in predict_logits]\n",
        "    # predict_labels[0]\n",
        "      \n",
        "    #return render_template('prediction.html', prediction = predict_labels[0] )\n",
        "    #return render_template('prediction.html', prediction = message_embeddings )\n",
        "    # else:\n",
        "    #     return render_template(\"search_page.html\")\n",
        "\n",
        "\n",
        "#define a predict function as an endpoint \n",
        "\n",
        "# @app.route('/', methods=['GET','POST'])\n",
        "# def predicts_lstm():\n",
        "    \n",
        "#     #whenever the predict method is called, we're going\n",
        "#     #to input the user entered text into the model\n",
        "#     #and return a prediction\n",
        "    \n",
        "#     if request.method=='POST':\n",
        "#         new_text = request.form.get('text_entered')\n",
        "#     #     with tf.Session() as session:\n",
        "#     #       K.set_session(session)\n",
        "#     #       session.run(tf.global_variables_initializer())\n",
        "#     #       session.run(tf.tables_initializer())\n",
        "#     #       model.load_weights('./model_lstm.h5')\n",
        "#     #       predicts = model.predict(new_text, batch_size=32)\n",
        "#     # html = predicts.to_html()\n",
        "#     # return html\n",
        "#         Features = prepData(new_text)\n",
        "#         prediction = int((np.asscalar(loaded_model.predict(Features)))*100)\n",
        "#         return render_template('prediction.html', prediction='prediction')\n",
        "#         #print(prediction.dtypes)\n",
        "    \n",
        "#     else:\n",
        "#         return render_template(\"search_page.html\")\n"
      ],
      "execution_count": 74,
      "outputs": []
    },
    {
      "cell_type": "code",
      "metadata": {
        "id": "J_QKmrZzjCsR"
      },
      "source": [
        "#Load, Clean, Pre-Process, Split, Train, Test, Create Embedding, Build Model, Save Model\n",
        "@app.route('/all', methods=['GET', 'POST'])\n",
        "def all():\n",
        "  from preprocess_train import preprocess_data, create_save_w2v_embedding, train_save_w2_model\n",
        "  data = pd.read_csv('data.csv')\n",
        "  df = preprocess_data(data)\n",
        "  w2v_embedding_file = 'embedding_word2vec.txt'\n",
        "  w2v_model_dir = 'w2v_model_dir'\n",
        "  desc_lines = create_save_w2v_embedding(w2v_embedding_file, df)\n",
        "  train_save_w2_model(df, w2v_embedding_file, desc_lines, w2v_model_dir)\n",
        "  return \"Load, Clean, Pre-Process, Split, Train, Test, Create Embedding, Build Model, Save Model Completed Successfully\"\n",
        "\n"
      ],
      "execution_count": 75,
      "outputs": []
    },
    {
      "cell_type": "code",
      "metadata": {
        "id": "pDtqViJpKnl1"
      },
      "source": [
        "#Predict:\n",
        "@app.route('/predict', methods=['GET', 'POST'])\n",
        "def predict():\n",
        "   from preprocess_train import predict\n",
        "   if request.method == 'POST':\n",
        "      input_str = request.form.get('input_str')\n",
        "      w2v_embedding_file = \"embedding_word2vec.txt\"\n",
        "      w2v_model_dir = \"w2v_model_dir\"\n",
        "      input_str = predict(input_str, w2v_model_dir, w2v_embedding_file)\n",
        "      #return \"You entered \"+result\n",
        "      #return render_template(\"result.html\", result = prediction)\n",
        "      #html = prediction.to_html()\n",
        "      #return(\"Prediction: \".format(input_str))\n",
        "      return render_template('prediction.html', prediction=input_str)\n",
        "      #return render_template('search.html', prediction=input_str)\n",
        "      #result[\"sim_msg\"] = input_str\n",
        "      #return render_template(\"search.html\", result=result)\n"
      ],
      "execution_count": 76,
      "outputs": []
    },
    {
      "cell_type": "code",
      "metadata": {
        "colab": {
          "base_uri": "https://localhost:8080/"
        },
        "id": "FIVSFvuuLZwt",
        "outputId": "6ff56ae5-e4d2-42a3-f8bd-4199fc074ac8"
      },
      "source": [
        "if __name__ == \"__main__\":\n",
        "  app.run()"
      ],
      "execution_count": 77,
      "outputs": [
        {
          "output_type": "stream",
          "text": [
            " * Serving Flask app \"__main__\" (lazy loading)\n",
            " * Environment: production\n",
            "\u001b[31m   WARNING: This is a development server. Do not use it in a production deployment.\u001b[0m\n",
            "\u001b[2m   Use a production WSGI server instead.\u001b[0m\n",
            " * Debug mode: off\n"
          ],
          "name": "stdout"
        },
        {
          "output_type": "stream",
          "text": [
            " * Running on http://127.0.0.1:5000/ (Press CTRL+C to quit)\n"
          ],
          "name": "stderr"
        },
        {
          "output_type": "stream",
          "text": [
            " * Running on http://3b67e4c0a159.ngrok.io\n",
            " * Traffic stats available on http://127.0.0.1:4040\n"
          ],
          "name": "stdout"
        },
        {
          "output_type": "stream",
          "text": [
            "127.0.0.1 - - [23/Apr/2021 11:49:38] \"\u001b[37mGET / HTTP/1.1\u001b[0m\" 200 -\n",
            "127.0.0.1 - - [23/Apr/2021 11:49:39] \"\u001b[33mGET /favicon.ico HTTP/1.1\u001b[0m\" 404 -\n"
          ],
          "name": "stderr"
        }
      ]
    }
  ]
}