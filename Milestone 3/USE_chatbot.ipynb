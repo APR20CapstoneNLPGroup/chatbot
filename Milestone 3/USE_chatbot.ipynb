{
  "nbformat": 4,
  "nbformat_minor": 0,
  "metadata": {
    "colab": {
      "name": "USE_chatbot.ipynb",
      "provenance": [],
      "collapsed_sections": []
    },
    "kernelspec": {
      "name": "python3",
      "display_name": "Python 3"
    },
    "accelerator": "GPU"
  },
  "cells": [
    {
      "cell_type": "code",
      "metadata": {
        "colab": {
          "base_uri": "https://localhost:8080/"
        },
        "id": "QHjLRONpXEpY",
        "outputId": "40c04dd4-bb37-49e8-f3f2-f85da822d8e2"
      },
      "source": [
        "# Mounting Google Drive\n",
        "from google.colab import drive\n",
        "drive.mount('/content/drive')"
      ],
      "execution_count": null,
      "outputs": [
        {
          "output_type": "stream",
          "text": [
            "Drive already mounted at /content/drive; to attempt to forcibly remount, call drive.mount(\"/content/drive\", force_remount=True).\n"
          ],
          "name": "stdout"
        }
      ]
    },
    {
      "cell_type": "code",
      "metadata": {
        "id": "U4ueEcjdXGzQ"
      },
      "source": [
        "# Setting the current working directory\n",
        "import os; os.chdir('/content/drive/MyDrive/AI_ML/Projects/Capstone-NLP')"
      ],
      "execution_count": null,
      "outputs": []
    },
    {
      "cell_type": "markdown",
      "metadata": {
        "id": "bYLYN0uFzIbi"
      },
      "source": [
        "### Importing the Packages"
      ]
    },
    {
      "cell_type": "code",
      "metadata": {
        "id": "8nRhJG8P6VUa"
      },
      "source": [
        "import numpy as np\n",
        "import pandas as pd\n",
        "import matplotlib.pyplot as plt\n",
        "%matplotlib inline\n",
        "import seaborn as sns"
      ],
      "execution_count": null,
      "outputs": []
    },
    {
      "cell_type": "code",
      "metadata": {
        "colab": {
          "base_uri": "https://localhost:8080/"
        },
        "id": "gz_1oOlSzH3k",
        "outputId": "ff2f6ea7-fe6b-4a82-da9d-ca52dd464b17"
      },
      "source": [
        "%tensorflow_version 1.x\n",
        "\n",
        "import tensorflow as tf\n",
        "import tensorflow_hub as hub\n",
        "import matplotlib.pyplot as plt\n",
        "import numpy as np\n",
        "import os\n",
        "import pandas as pd\n",
        "import re\n",
        "import seaborn as sns\n",
        "import keras.layers as layers\n",
        "from keras.models import Model\n",
        "from keras import backend as K\n",
        "np.random.seed(10)\n",
        "\n",
        "print(\"Version: \", tf.__version__)\n",
        "print(\"Eager mode: \", tf.executing_eagerly())\n",
        "print(\"Hub version: \", hub.__version__)\n",
        "#print(\"GPU is\", \"available\" if tf.config.list_physical_devices('GPU') else \"NOT AVAILABLE\")"
      ],
      "execution_count": null,
      "outputs": [
        {
          "output_type": "stream",
          "text": [
            "Version:  1.15.2\n",
            "Eager mode:  False\n",
            "Hub version:  0.11.0\n"
          ],
          "name": "stdout"
        }
      ]
    },
    {
      "cell_type": "code",
      "metadata": {
        "id": "vGKTVJEz505a"
      },
      "source": [
        "#Function 1.1 - Load the dataset\n",
        "\n",
        "def load_dataset(filename):\n",
        "  data = pd.read_csv(\"IHMStefanini_industrial_safety_and_health_database_with_accidents_description.csv\")\n",
        "  return data\n",
        "\n",
        "#Function 1.2 - Dataset Cleansing\n",
        "\n",
        "def data_cleansing_info(data):\n",
        "  data.drop(\"Unnamed: 0\", axis=1, inplace=True)\n",
        "  data.rename(columns={'Data':'Date', 'Countries':'Country', 'Accident Level' : 'AccLevel' ,  'Genre':'Gender', 'Employee or Third Party':'Employee type'}, inplace=True)\n",
        "  return data.head(5), data.isnull().sum()"
      ],
      "execution_count": null,
      "outputs": []
    },
    {
      "cell_type": "code",
      "metadata": {
        "colab": {
          "base_uri": "https://localhost:8080/",
          "height": 306
        },
        "id": "UnigxUj-595u",
        "outputId": "2980741f-d273-46d7-fefb-f278b2a0cf05"
      },
      "source": [
        "data = load_dataset(\"IHMStefanini_industrial_safety_and_health_database_with_accidents_description.csv\")\n",
        "data.head()"
      ],
      "execution_count": null,
      "outputs": [
        {
          "output_type": "execute_result",
          "data": {
            "text/html": [
              "<div>\n",
              "<style scoped>\n",
              "    .dataframe tbody tr th:only-of-type {\n",
              "        vertical-align: middle;\n",
              "    }\n",
              "\n",
              "    .dataframe tbody tr th {\n",
              "        vertical-align: top;\n",
              "    }\n",
              "\n",
              "    .dataframe thead th {\n",
              "        text-align: right;\n",
              "    }\n",
              "</style>\n",
              "<table border=\"1\" class=\"dataframe\">\n",
              "  <thead>\n",
              "    <tr style=\"text-align: right;\">\n",
              "      <th></th>\n",
              "      <th>Unnamed: 0</th>\n",
              "      <th>Data</th>\n",
              "      <th>Countries</th>\n",
              "      <th>Local</th>\n",
              "      <th>Industry Sector</th>\n",
              "      <th>Accident Level</th>\n",
              "      <th>Potential Accident Level</th>\n",
              "      <th>Genre</th>\n",
              "      <th>Employee or Third Party</th>\n",
              "      <th>Critical Risk</th>\n",
              "      <th>Description</th>\n",
              "    </tr>\n",
              "  </thead>\n",
              "  <tbody>\n",
              "    <tr>\n",
              "      <th>0</th>\n",
              "      <td>0</td>\n",
              "      <td>1/1/2016 0:00</td>\n",
              "      <td>Country_01</td>\n",
              "      <td>Local_01</td>\n",
              "      <td>Mining</td>\n",
              "      <td>I</td>\n",
              "      <td>IV</td>\n",
              "      <td>Male</td>\n",
              "      <td>Third Party</td>\n",
              "      <td>Pressed</td>\n",
              "      <td>While removing the drill rod of the Jumbo 08 f...</td>\n",
              "    </tr>\n",
              "    <tr>\n",
              "      <th>1</th>\n",
              "      <td>1</td>\n",
              "      <td>1/2/2016 0:00</td>\n",
              "      <td>Country_02</td>\n",
              "      <td>Local_02</td>\n",
              "      <td>Mining</td>\n",
              "      <td>I</td>\n",
              "      <td>IV</td>\n",
              "      <td>Male</td>\n",
              "      <td>Employee</td>\n",
              "      <td>Pressurized Systems</td>\n",
              "      <td>During the activation of a sodium sulphide pum...</td>\n",
              "    </tr>\n",
              "    <tr>\n",
              "      <th>2</th>\n",
              "      <td>2</td>\n",
              "      <td>1/6/2016 0:00</td>\n",
              "      <td>Country_01</td>\n",
              "      <td>Local_03</td>\n",
              "      <td>Mining</td>\n",
              "      <td>I</td>\n",
              "      <td>III</td>\n",
              "      <td>Male</td>\n",
              "      <td>Third Party (Remote)</td>\n",
              "      <td>Manual Tools</td>\n",
              "      <td>In the sub-station MILPO located at level +170...</td>\n",
              "    </tr>\n",
              "    <tr>\n",
              "      <th>3</th>\n",
              "      <td>3</td>\n",
              "      <td>1/8/2016 0:00</td>\n",
              "      <td>Country_01</td>\n",
              "      <td>Local_04</td>\n",
              "      <td>Mining</td>\n",
              "      <td>I</td>\n",
              "      <td>I</td>\n",
              "      <td>Male</td>\n",
              "      <td>Third Party</td>\n",
              "      <td>Others</td>\n",
              "      <td>Being 9:45 am. approximately in the Nv. 1880 C...</td>\n",
              "    </tr>\n",
              "    <tr>\n",
              "      <th>4</th>\n",
              "      <td>4</td>\n",
              "      <td>1/10/2016 0:00</td>\n",
              "      <td>Country_01</td>\n",
              "      <td>Local_04</td>\n",
              "      <td>Mining</td>\n",
              "      <td>IV</td>\n",
              "      <td>IV</td>\n",
              "      <td>Male</td>\n",
              "      <td>Third Party</td>\n",
              "      <td>Others</td>\n",
              "      <td>Approximately at 11:45 a.m. in circumstances t...</td>\n",
              "    </tr>\n",
              "  </tbody>\n",
              "</table>\n",
              "</div>"
            ],
            "text/plain": [
              "   Unnamed: 0  ...                                        Description\n",
              "0           0  ...  While removing the drill rod of the Jumbo 08 f...\n",
              "1           1  ...  During the activation of a sodium sulphide pum...\n",
              "2           2  ...  In the sub-station MILPO located at level +170...\n",
              "3           3  ...  Being 9:45 am. approximately in the Nv. 1880 C...\n",
              "4           4  ...  Approximately at 11:45 a.m. in circumstances t...\n",
              "\n",
              "[5 rows x 11 columns]"
            ]
          },
          "metadata": {
            "tags": []
          },
          "execution_count": 381
        }
      ]
    },
    {
      "cell_type": "code",
      "metadata": {
        "colab": {
          "base_uri": "https://localhost:8080/"
        },
        "id": "u-BLrpe65_Tw",
        "outputId": "75058127-cf71-488e-9946-ad8f5cb7b3ee"
      },
      "source": [
        "data_cleansing_info(data)"
      ],
      "execution_count": null,
      "outputs": [
        {
          "output_type": "execute_result",
          "data": {
            "text/plain": [
              "(             Date  ...                                        Description\n",
              " 0   1/1/2016 0:00  ...  While removing the drill rod of the Jumbo 08 f...\n",
              " 1   1/2/2016 0:00  ...  During the activation of a sodium sulphide pum...\n",
              " 2   1/6/2016 0:00  ...  In the sub-station MILPO located at level +170...\n",
              " 3   1/8/2016 0:00  ...  Being 9:45 am. approximately in the Nv. 1880 C...\n",
              " 4  1/10/2016 0:00  ...  Approximately at 11:45 a.m. in circumstances t...\n",
              " \n",
              " [5 rows x 10 columns], Date                        0\n",
              " Country                     0\n",
              " Local                       0\n",
              " Industry Sector             0\n",
              " AccLevel                    0\n",
              " Potential Accident Level    0\n",
              " Gender                      0\n",
              " Employee type               0\n",
              " Critical Risk               0\n",
              " Description                 0\n",
              " dtype: int64)"
            ]
          },
          "metadata": {
            "tags": []
          },
          "execution_count": 382
        }
      ]
    },
    {
      "cell_type": "code",
      "metadata": {
        "colab": {
          "base_uri": "https://localhost:8080/",
          "height": 306
        },
        "id": "JzXLv8a-6Ata",
        "outputId": "d1d84667-5b3c-4461-f692-e7b26c02a4ca"
      },
      "source": [
        "data.head() #Column names corrected"
      ],
      "execution_count": null,
      "outputs": [
        {
          "output_type": "execute_result",
          "data": {
            "text/html": [
              "<div>\n",
              "<style scoped>\n",
              "    .dataframe tbody tr th:only-of-type {\n",
              "        vertical-align: middle;\n",
              "    }\n",
              "\n",
              "    .dataframe tbody tr th {\n",
              "        vertical-align: top;\n",
              "    }\n",
              "\n",
              "    .dataframe thead th {\n",
              "        text-align: right;\n",
              "    }\n",
              "</style>\n",
              "<table border=\"1\" class=\"dataframe\">\n",
              "  <thead>\n",
              "    <tr style=\"text-align: right;\">\n",
              "      <th></th>\n",
              "      <th>Date</th>\n",
              "      <th>Country</th>\n",
              "      <th>Local</th>\n",
              "      <th>Industry Sector</th>\n",
              "      <th>AccLevel</th>\n",
              "      <th>Potential Accident Level</th>\n",
              "      <th>Gender</th>\n",
              "      <th>Employee type</th>\n",
              "      <th>Critical Risk</th>\n",
              "      <th>Description</th>\n",
              "    </tr>\n",
              "  </thead>\n",
              "  <tbody>\n",
              "    <tr>\n",
              "      <th>0</th>\n",
              "      <td>1/1/2016 0:00</td>\n",
              "      <td>Country_01</td>\n",
              "      <td>Local_01</td>\n",
              "      <td>Mining</td>\n",
              "      <td>I</td>\n",
              "      <td>IV</td>\n",
              "      <td>Male</td>\n",
              "      <td>Third Party</td>\n",
              "      <td>Pressed</td>\n",
              "      <td>While removing the drill rod of the Jumbo 08 f...</td>\n",
              "    </tr>\n",
              "    <tr>\n",
              "      <th>1</th>\n",
              "      <td>1/2/2016 0:00</td>\n",
              "      <td>Country_02</td>\n",
              "      <td>Local_02</td>\n",
              "      <td>Mining</td>\n",
              "      <td>I</td>\n",
              "      <td>IV</td>\n",
              "      <td>Male</td>\n",
              "      <td>Employee</td>\n",
              "      <td>Pressurized Systems</td>\n",
              "      <td>During the activation of a sodium sulphide pum...</td>\n",
              "    </tr>\n",
              "    <tr>\n",
              "      <th>2</th>\n",
              "      <td>1/6/2016 0:00</td>\n",
              "      <td>Country_01</td>\n",
              "      <td>Local_03</td>\n",
              "      <td>Mining</td>\n",
              "      <td>I</td>\n",
              "      <td>III</td>\n",
              "      <td>Male</td>\n",
              "      <td>Third Party (Remote)</td>\n",
              "      <td>Manual Tools</td>\n",
              "      <td>In the sub-station MILPO located at level +170...</td>\n",
              "    </tr>\n",
              "    <tr>\n",
              "      <th>3</th>\n",
              "      <td>1/8/2016 0:00</td>\n",
              "      <td>Country_01</td>\n",
              "      <td>Local_04</td>\n",
              "      <td>Mining</td>\n",
              "      <td>I</td>\n",
              "      <td>I</td>\n",
              "      <td>Male</td>\n",
              "      <td>Third Party</td>\n",
              "      <td>Others</td>\n",
              "      <td>Being 9:45 am. approximately in the Nv. 1880 C...</td>\n",
              "    </tr>\n",
              "    <tr>\n",
              "      <th>4</th>\n",
              "      <td>1/10/2016 0:00</td>\n",
              "      <td>Country_01</td>\n",
              "      <td>Local_04</td>\n",
              "      <td>Mining</td>\n",
              "      <td>IV</td>\n",
              "      <td>IV</td>\n",
              "      <td>Male</td>\n",
              "      <td>Third Party</td>\n",
              "      <td>Others</td>\n",
              "      <td>Approximately at 11:45 a.m. in circumstances t...</td>\n",
              "    </tr>\n",
              "  </tbody>\n",
              "</table>\n",
              "</div>"
            ],
            "text/plain": [
              "             Date  ...                                        Description\n",
              "0   1/1/2016 0:00  ...  While removing the drill rod of the Jumbo 08 f...\n",
              "1   1/2/2016 0:00  ...  During the activation of a sodium sulphide pum...\n",
              "2   1/6/2016 0:00  ...  In the sub-station MILPO located at level +170...\n",
              "3   1/8/2016 0:00  ...  Being 9:45 am. approximately in the Nv. 1880 C...\n",
              "4  1/10/2016 0:00  ...  Approximately at 11:45 a.m. in circumstances t...\n",
              "\n",
              "[5 rows x 10 columns]"
            ]
          },
          "metadata": {
            "tags": []
          },
          "execution_count": 383
        }
      ]
    },
    {
      "cell_type": "code",
      "metadata": {
        "id": "PxQL5pjR6CfY"
      },
      "source": [
        "replace_values = {'Local_01': 1, 'Local_02': 2, 'Local_03': 3, 'Local_04': 4, 'Local_05': 5, 'Local_06': 6, 'Local_07': 7, 'Local_08': 8, 'Local_09': 9, 'Local_10': 10, 'Local_11': 11, 'Local_12': 12}\n",
        "data['Local'] = data['Local'].map(replace_values)\n",
        "replace_values = {'I': 1, 'II': 2, 'III': 3, 'IV': 4, 'V': 5}\n",
        "#data['Accident Level'] = data['Accident Level'].map(replace_values)\n",
        "replace_values = {'I': 1, 'II': 2, 'III': 3, 'IV': 4, 'V': 5, 'VI': 6}\n",
        "data['Potential Accident Level'] = data['Potential Accident Level'].map(replace_values)\n",
        "del replace_values"
      ],
      "execution_count": null,
      "outputs": []
    },
    {
      "cell_type": "code",
      "metadata": {
        "colab": {
          "base_uri": "https://localhost:8080/",
          "height": 340
        },
        "id": "O9qTO2Fu6Dee",
        "outputId": "b6dd3f00-72b9-4dc4-fc6e-1379b8488d6a"
      },
      "source": [
        "print(f'Dataset after adjusting categorical values\\n')\n",
        "data.head()"
      ],
      "execution_count": null,
      "outputs": [
        {
          "output_type": "stream",
          "text": [
            "Dataset after adjusting categorical values\n",
            "\n"
          ],
          "name": "stdout"
        },
        {
          "output_type": "execute_result",
          "data": {
            "text/html": [
              "<div>\n",
              "<style scoped>\n",
              "    .dataframe tbody tr th:only-of-type {\n",
              "        vertical-align: middle;\n",
              "    }\n",
              "\n",
              "    .dataframe tbody tr th {\n",
              "        vertical-align: top;\n",
              "    }\n",
              "\n",
              "    .dataframe thead th {\n",
              "        text-align: right;\n",
              "    }\n",
              "</style>\n",
              "<table border=\"1\" class=\"dataframe\">\n",
              "  <thead>\n",
              "    <tr style=\"text-align: right;\">\n",
              "      <th></th>\n",
              "      <th>Date</th>\n",
              "      <th>Country</th>\n",
              "      <th>Local</th>\n",
              "      <th>Industry Sector</th>\n",
              "      <th>AccLevel</th>\n",
              "      <th>Potential Accident Level</th>\n",
              "      <th>Gender</th>\n",
              "      <th>Employee type</th>\n",
              "      <th>Critical Risk</th>\n",
              "      <th>Description</th>\n",
              "    </tr>\n",
              "  </thead>\n",
              "  <tbody>\n",
              "    <tr>\n",
              "      <th>0</th>\n",
              "      <td>1/1/2016 0:00</td>\n",
              "      <td>Country_01</td>\n",
              "      <td>1</td>\n",
              "      <td>Mining</td>\n",
              "      <td>I</td>\n",
              "      <td>4</td>\n",
              "      <td>Male</td>\n",
              "      <td>Third Party</td>\n",
              "      <td>Pressed</td>\n",
              "      <td>While removing the drill rod of the Jumbo 08 f...</td>\n",
              "    </tr>\n",
              "    <tr>\n",
              "      <th>1</th>\n",
              "      <td>1/2/2016 0:00</td>\n",
              "      <td>Country_02</td>\n",
              "      <td>2</td>\n",
              "      <td>Mining</td>\n",
              "      <td>I</td>\n",
              "      <td>4</td>\n",
              "      <td>Male</td>\n",
              "      <td>Employee</td>\n",
              "      <td>Pressurized Systems</td>\n",
              "      <td>During the activation of a sodium sulphide pum...</td>\n",
              "    </tr>\n",
              "    <tr>\n",
              "      <th>2</th>\n",
              "      <td>1/6/2016 0:00</td>\n",
              "      <td>Country_01</td>\n",
              "      <td>3</td>\n",
              "      <td>Mining</td>\n",
              "      <td>I</td>\n",
              "      <td>3</td>\n",
              "      <td>Male</td>\n",
              "      <td>Third Party (Remote)</td>\n",
              "      <td>Manual Tools</td>\n",
              "      <td>In the sub-station MILPO located at level +170...</td>\n",
              "    </tr>\n",
              "    <tr>\n",
              "      <th>3</th>\n",
              "      <td>1/8/2016 0:00</td>\n",
              "      <td>Country_01</td>\n",
              "      <td>4</td>\n",
              "      <td>Mining</td>\n",
              "      <td>I</td>\n",
              "      <td>1</td>\n",
              "      <td>Male</td>\n",
              "      <td>Third Party</td>\n",
              "      <td>Others</td>\n",
              "      <td>Being 9:45 am. approximately in the Nv. 1880 C...</td>\n",
              "    </tr>\n",
              "    <tr>\n",
              "      <th>4</th>\n",
              "      <td>1/10/2016 0:00</td>\n",
              "      <td>Country_01</td>\n",
              "      <td>4</td>\n",
              "      <td>Mining</td>\n",
              "      <td>IV</td>\n",
              "      <td>4</td>\n",
              "      <td>Male</td>\n",
              "      <td>Third Party</td>\n",
              "      <td>Others</td>\n",
              "      <td>Approximately at 11:45 a.m. in circumstances t...</td>\n",
              "    </tr>\n",
              "  </tbody>\n",
              "</table>\n",
              "</div>"
            ],
            "text/plain": [
              "             Date  ...                                        Description\n",
              "0   1/1/2016 0:00  ...  While removing the drill rod of the Jumbo 08 f...\n",
              "1   1/2/2016 0:00  ...  During the activation of a sodium sulphide pum...\n",
              "2   1/6/2016 0:00  ...  In the sub-station MILPO located at level +170...\n",
              "3   1/8/2016 0:00  ...  Being 9:45 am. approximately in the Nv. 1880 C...\n",
              "4  1/10/2016 0:00  ...  Approximately at 11:45 a.m. in circumstances t...\n",
              "\n",
              "[5 rows x 10 columns]"
            ]
          },
          "metadata": {
            "tags": []
          },
          "execution_count": 385
        }
      ]
    },
    {
      "cell_type": "code",
      "metadata": {
        "colab": {
          "base_uri": "https://localhost:8080/"
        },
        "id": "GqaVPgV86E0v",
        "outputId": "09868be9-e29b-4936-c3db-61191f813bc1"
      },
      "source": [
        "data.shape"
      ],
      "execution_count": null,
      "outputs": [
        {
          "output_type": "execute_result",
          "data": {
            "text/plain": [
              "(425, 10)"
            ]
          },
          "metadata": {
            "tags": []
          },
          "execution_count": 386
        }
      ]
    },
    {
      "cell_type": "code",
      "metadata": {
        "colab": {
          "base_uri": "https://localhost:8080/",
          "height": 204
        },
        "id": "YEO3oP1K6dt_",
        "outputId": "4fce6b45-215c-4cf6-8641-6895bf33f7a2"
      },
      "source": [
        "df1 = data[['AccLevel', 'Description']]\n",
        "df1.head()"
      ],
      "execution_count": null,
      "outputs": [
        {
          "output_type": "execute_result",
          "data": {
            "text/html": [
              "<div>\n",
              "<style scoped>\n",
              "    .dataframe tbody tr th:only-of-type {\n",
              "        vertical-align: middle;\n",
              "    }\n",
              "\n",
              "    .dataframe tbody tr th {\n",
              "        vertical-align: top;\n",
              "    }\n",
              "\n",
              "    .dataframe thead th {\n",
              "        text-align: right;\n",
              "    }\n",
              "</style>\n",
              "<table border=\"1\" class=\"dataframe\">\n",
              "  <thead>\n",
              "    <tr style=\"text-align: right;\">\n",
              "      <th></th>\n",
              "      <th>AccLevel</th>\n",
              "      <th>Description</th>\n",
              "    </tr>\n",
              "  </thead>\n",
              "  <tbody>\n",
              "    <tr>\n",
              "      <th>0</th>\n",
              "      <td>I</td>\n",
              "      <td>While removing the drill rod of the Jumbo 08 f...</td>\n",
              "    </tr>\n",
              "    <tr>\n",
              "      <th>1</th>\n",
              "      <td>I</td>\n",
              "      <td>During the activation of a sodium sulphide pum...</td>\n",
              "    </tr>\n",
              "    <tr>\n",
              "      <th>2</th>\n",
              "      <td>I</td>\n",
              "      <td>In the sub-station MILPO located at level +170...</td>\n",
              "    </tr>\n",
              "    <tr>\n",
              "      <th>3</th>\n",
              "      <td>I</td>\n",
              "      <td>Being 9:45 am. approximately in the Nv. 1880 C...</td>\n",
              "    </tr>\n",
              "    <tr>\n",
              "      <th>4</th>\n",
              "      <td>IV</td>\n",
              "      <td>Approximately at 11:45 a.m. in circumstances t...</td>\n",
              "    </tr>\n",
              "  </tbody>\n",
              "</table>\n",
              "</div>"
            ],
            "text/plain": [
              "  AccLevel                                        Description\n",
              "0        I  While removing the drill rod of the Jumbo 08 f...\n",
              "1        I  During the activation of a sodium sulphide pum...\n",
              "2        I  In the sub-station MILPO located at level +170...\n",
              "3        I  Being 9:45 am. approximately in the Nv. 1880 C...\n",
              "4       IV  Approximately at 11:45 a.m. in circumstances t..."
            ]
          },
          "metadata": {
            "tags": []
          },
          "execution_count": 387
        }
      ]
    },
    {
      "cell_type": "code",
      "metadata": {
        "id": "L-kwst-i6gGM"
      },
      "source": [
        "import pickle\n",
        "\n",
        "with open('df1.pickle', 'wb') as to_write:\n",
        "  pickle.dump(df1, to_write)"
      ],
      "execution_count": null,
      "outputs": []
    },
    {
      "cell_type": "code",
      "metadata": {
        "colab": {
          "base_uri": "https://localhost:8080/"
        },
        "id": "JBXeY3pH6lrw",
        "outputId": "9a895a85-5092-4a07-9e77-af1bbbcdec88"
      },
      "source": [
        "# Exploring the number of mutli-class categories we have\n",
        "print('--------------')\n",
        "print('Categories in Accident Level column:')\n",
        "print('--------------\\n')\n",
        "print(df1['AccLevel'].unique(), '\\n')\n",
        "print('--------------')\n",
        "print('# of unique categories: ', df1['AccLevel'].nunique())\n",
        "print('--------------')"
      ],
      "execution_count": null,
      "outputs": [
        {
          "output_type": "stream",
          "text": [
            "--------------\n",
            "Categories in Accident Level column:\n",
            "--------------\n",
            "\n",
            "['I' 'IV' 'III' 'II' 'V'] \n",
            "\n",
            "--------------\n",
            "# of unique categories:  5\n",
            "--------------\n"
          ],
          "name": "stdout"
        }
      ]
    },
    {
      "cell_type": "code",
      "metadata": {
        "id": "WduR13EI9hLT",
        "colab": {
          "base_uri": "https://localhost:8080/",
          "height": 204
        },
        "outputId": "e959eff2-95fa-43f2-abaf-c4f9f6e0d6eb"
      },
      "source": [
        " df1.head()"
      ],
      "execution_count": null,
      "outputs": [
        {
          "output_type": "execute_result",
          "data": {
            "text/html": [
              "<div>\n",
              "<style scoped>\n",
              "    .dataframe tbody tr th:only-of-type {\n",
              "        vertical-align: middle;\n",
              "    }\n",
              "\n",
              "    .dataframe tbody tr th {\n",
              "        vertical-align: top;\n",
              "    }\n",
              "\n",
              "    .dataframe thead th {\n",
              "        text-align: right;\n",
              "    }\n",
              "</style>\n",
              "<table border=\"1\" class=\"dataframe\">\n",
              "  <thead>\n",
              "    <tr style=\"text-align: right;\">\n",
              "      <th></th>\n",
              "      <th>AccLevel</th>\n",
              "      <th>Description</th>\n",
              "    </tr>\n",
              "  </thead>\n",
              "  <tbody>\n",
              "    <tr>\n",
              "      <th>0</th>\n",
              "      <td>I</td>\n",
              "      <td>While removing the drill rod of the Jumbo 08 f...</td>\n",
              "    </tr>\n",
              "    <tr>\n",
              "      <th>1</th>\n",
              "      <td>I</td>\n",
              "      <td>During the activation of a sodium sulphide pum...</td>\n",
              "    </tr>\n",
              "    <tr>\n",
              "      <th>2</th>\n",
              "      <td>I</td>\n",
              "      <td>In the sub-station MILPO located at level +170...</td>\n",
              "    </tr>\n",
              "    <tr>\n",
              "      <th>3</th>\n",
              "      <td>I</td>\n",
              "      <td>Being 9:45 am. approximately in the Nv. 1880 C...</td>\n",
              "    </tr>\n",
              "    <tr>\n",
              "      <th>4</th>\n",
              "      <td>IV</td>\n",
              "      <td>Approximately at 11:45 a.m. in circumstances t...</td>\n",
              "    </tr>\n",
              "  </tbody>\n",
              "</table>\n",
              "</div>"
            ],
            "text/plain": [
              "  AccLevel                                        Description\n",
              "0        I  While removing the drill rod of the Jumbo 08 f...\n",
              "1        I  During the activation of a sodium sulphide pum...\n",
              "2        I  In the sub-station MILPO located at level +170...\n",
              "3        I  Being 9:45 am. approximately in the Nv. 1880 C...\n",
              "4       IV  Approximately at 11:45 a.m. in circumstances t..."
            ]
          },
          "metadata": {
            "tags": []
          },
          "execution_count": 390
        }
      ]
    },
    {
      "cell_type": "code",
      "metadata": {
        "id": "lfOpcVXDcKMP"
      },
      "source": [
        "df2 = df1.copy()"
      ],
      "execution_count": null,
      "outputs": []
    },
    {
      "cell_type": "markdown",
      "metadata": {
        "id": "6mH9LTRN6b1-"
      },
      "source": [
        "###First 5 Rows look like this."
      ]
    },
    {
      "cell_type": "code",
      "metadata": {
        "colab": {
          "base_uri": "https://localhost:8080/",
          "height": 204
        },
        "id": "ep00NYIBjyeT",
        "outputId": "ac384625-b292-467d-f547-0d6442c85361"
      },
      "source": [
        "df1.head()"
      ],
      "execution_count": null,
      "outputs": [
        {
          "output_type": "execute_result",
          "data": {
            "text/html": [
              "<div>\n",
              "<style scoped>\n",
              "    .dataframe tbody tr th:only-of-type {\n",
              "        vertical-align: middle;\n",
              "    }\n",
              "\n",
              "    .dataframe tbody tr th {\n",
              "        vertical-align: top;\n",
              "    }\n",
              "\n",
              "    .dataframe thead th {\n",
              "        text-align: right;\n",
              "    }\n",
              "</style>\n",
              "<table border=\"1\" class=\"dataframe\">\n",
              "  <thead>\n",
              "    <tr style=\"text-align: right;\">\n",
              "      <th></th>\n",
              "      <th>AccLevel</th>\n",
              "      <th>Description</th>\n",
              "    </tr>\n",
              "  </thead>\n",
              "  <tbody>\n",
              "    <tr>\n",
              "      <th>0</th>\n",
              "      <td>I</td>\n",
              "      <td>While removing the drill rod of the Jumbo 08 f...</td>\n",
              "    </tr>\n",
              "    <tr>\n",
              "      <th>1</th>\n",
              "      <td>I</td>\n",
              "      <td>During the activation of a sodium sulphide pum...</td>\n",
              "    </tr>\n",
              "    <tr>\n",
              "      <th>2</th>\n",
              "      <td>I</td>\n",
              "      <td>In the sub-station MILPO located at level +170...</td>\n",
              "    </tr>\n",
              "    <tr>\n",
              "      <th>3</th>\n",
              "      <td>I</td>\n",
              "      <td>Being 9:45 am. approximately in the Nv. 1880 C...</td>\n",
              "    </tr>\n",
              "    <tr>\n",
              "      <th>4</th>\n",
              "      <td>IV</td>\n",
              "      <td>Approximately at 11:45 a.m. in circumstances t...</td>\n",
              "    </tr>\n",
              "  </tbody>\n",
              "</table>\n",
              "</div>"
            ],
            "text/plain": [
              "  AccLevel                                        Description\n",
              "0        I  While removing the drill rod of the Jumbo 08 f...\n",
              "1        I  During the activation of a sodium sulphide pum...\n",
              "2        I  In the sub-station MILPO located at level +170...\n",
              "3        I  Being 9:45 am. approximately in the Nv. 1880 C...\n",
              "4       IV  Approximately at 11:45 a.m. in circumstances t..."
            ]
          },
          "metadata": {
            "tags": []
          },
          "execution_count": 392
        }
      ]
    },
    {
      "cell_type": "code",
      "metadata": {
        "colab": {
          "base_uri": "https://localhost:8080/"
        },
        "id": "8XHqo7K-1EY5",
        "outputId": "9c5cd9db-1fbe-429c-d0c3-60a1963c7517"
      },
      "source": [
        "# NLP Import packages\n",
        "import nltk; nltk.download('wordnet'); nltk.download('stopwords')\n",
        "from nltk.stem import WordNetLemmatizer\n",
        "from nltk.corpus import wordnet as wn\n",
        "from nltk.corpus import stopwords\n",
        "from wordcloud import WordCloud\n",
        "import matplotlib.pyplot as plt\n",
        "import string"
      ],
      "execution_count": null,
      "outputs": [
        {
          "output_type": "stream",
          "text": [
            "[nltk_data] Downloading package wordnet to /root/nltk_data...\n",
            "[nltk_data]   Package wordnet is already up-to-date!\n",
            "[nltk_data] Downloading package stopwords to /root/nltk_data...\n",
            "[nltk_data]   Package stopwords is already up-to-date!\n"
          ],
          "name": "stdout"
        }
      ]
    },
    {
      "cell_type": "code",
      "metadata": {
        "id": "gydkiVYN0r0g"
      },
      "source": [
        "import re\n",
        "from string import punctuation\n",
        "from wordcloud import STOPWORDS\n",
        "\n",
        "stop_words =  stopwords.words('english')\n",
        "\n",
        "def text_cleaning(text, remove_stop_words=True, lemmatize_words=True):\n",
        "    # Clean the text, with the option to remove stop_words and to lemmatize word\n",
        "\n",
        "    # Clean the text\n",
        "    text = re.sub(r\"[^A-Za-z0-9]\", \" \", text)\n",
        "    text = re.sub(r\"\\'s\", \" \", text)\n",
        "    text = re.sub(r\"n't\", \" not \", text)\n",
        "    text = re.sub(r\"I'm\", \"I am\", text)\n",
        "    text = re.sub(r\"ur\", \" your \", text)\n",
        "    text = re.sub(r\" nd \",\" and \",text)\n",
        "    text = re.sub(r\"\\'d\", \" would \", text)\n",
        "    text = re.sub(r\"\\'ll\", \" will \", text)\n",
        "    text = re.sub(r\" tkts \",\" tickets \",text)\n",
        "    text = re.sub(r\" c \",\" can \",text)\n",
        "    text = re.sub(r\" e g \", \" eg \", text)\n",
        "    text =  re.sub(r'http\\S+',' link ', text)\n",
        "    text = re.sub(r'\\b\\d+(?:\\.\\d+)?\\s+', '', text) # remove numbers\n",
        "    text = re.sub(r\" u \",\" you \",text)\n",
        "    text = text.lower()  # set in lowercase \n",
        "        \n",
        "    # Remove punctuation from text\n",
        "    text = ''.join([c for c in text if c not in punctuation])\n",
        "    \n",
        "    # Optionally, remove stop words\n",
        "    if remove_stop_words:\n",
        "        text = text.split()\n",
        "        text = [w for w in text if not w in stop_words]\n",
        "        text = \" \".join(text)\n",
        "    \n",
        "    # Optionally, shorten words to their stems\n",
        "    if lemmatize_words:\n",
        "        text = text.split()\n",
        "        lemmatizer = WordNetLemmatizer() \n",
        "        lemmatized_words = [lemmatizer.lemmatize(word) for word in text]\n",
        "        text = \" \".join(lemmatized_words)\n",
        "    \n",
        "    # Return a list of words\n",
        "    return(text)"
      ],
      "execution_count": null,
      "outputs": []
    },
    {
      "cell_type": "markdown",
      "metadata": {
        "id": "gE3M_FG86var"
      },
      "source": [
        "##Cleaning the col \"Description\" inplace"
      ]
    },
    {
      "cell_type": "code",
      "metadata": {
        "colab": {
          "base_uri": "https://localhost:8080/",
          "height": 521
        },
        "id": "ZZv8p2O31J03",
        "outputId": "419af60d-2582-4ff8-9394-fbe36f2e3b0c"
      },
      "source": [
        "#clean the dataset \n",
        "#new_data[\"clean_message\"] = new_data[\"message\"].apply(text_cleaning)\n",
        "df1[\"clean_Description\"] = df1[\"Description\"].apply(text_cleaning)\n",
        "df1"
      ],
      "execution_count": null,
      "outputs": [
        {
          "output_type": "stream",
          "text": [
            "/usr/local/lib/python3.7/dist-packages/ipykernel_launcher.py:3: SettingWithCopyWarning: \n",
            "A value is trying to be set on a copy of a slice from a DataFrame.\n",
            "Try using .loc[row_indexer,col_indexer] = value instead\n",
            "\n",
            "See the caveats in the documentation: https://pandas.pydata.org/pandas-docs/stable/user_guide/indexing.html#returning-a-view-versus-a-copy\n",
            "  This is separate from the ipykernel package so we can avoid doing imports until\n"
          ],
          "name": "stderr"
        },
        {
          "output_type": "execute_result",
          "data": {
            "text/html": [
              "<div>\n",
              "<style scoped>\n",
              "    .dataframe tbody tr th:only-of-type {\n",
              "        vertical-align: middle;\n",
              "    }\n",
              "\n",
              "    .dataframe tbody tr th {\n",
              "        vertical-align: top;\n",
              "    }\n",
              "\n",
              "    .dataframe thead th {\n",
              "        text-align: right;\n",
              "    }\n",
              "</style>\n",
              "<table border=\"1\" class=\"dataframe\">\n",
              "  <thead>\n",
              "    <tr style=\"text-align: right;\">\n",
              "      <th></th>\n",
              "      <th>AccLevel</th>\n",
              "      <th>Description</th>\n",
              "      <th>clean_Description</th>\n",
              "    </tr>\n",
              "  </thead>\n",
              "  <tbody>\n",
              "    <tr>\n",
              "      <th>0</th>\n",
              "      <td>I</td>\n",
              "      <td>While removing the drill rod of the Jumbo 08 f...</td>\n",
              "      <td>removing drill rod jumbo maintenance superviso...</td>\n",
              "    </tr>\n",
              "    <tr>\n",
              "      <th>1</th>\n",
              "      <td>I</td>\n",
              "      <td>During the activation of a sodium sulphide pum...</td>\n",
              "      <td>ing activation sodium sulphide pump piping unc...</td>\n",
              "    </tr>\n",
              "    <tr>\n",
              "      <th>2</th>\n",
              "      <td>I</td>\n",
              "      <td>In the sub-station MILPO located at level +170...</td>\n",
              "      <td>sub station milpo located level collaborator e...</td>\n",
              "    </tr>\n",
              "    <tr>\n",
              "      <th>3</th>\n",
              "      <td>I</td>\n",
              "      <td>Being 9:45 am. approximately in the Nv. 1880 C...</td>\n",
              "      <td>approximately nv cx ob7 personnel begin task u...</td>\n",
              "    </tr>\n",
              "    <tr>\n",
              "      <th>4</th>\n",
              "      <td>IV</td>\n",
              "      <td>Approximately at 11:45 a.m. in circumstances t...</td>\n",
              "      <td>approximately circumstance mechanic anthony gr...</td>\n",
              "    </tr>\n",
              "    <tr>\n",
              "      <th>...</th>\n",
              "      <td>...</td>\n",
              "      <td>...</td>\n",
              "      <td>...</td>\n",
              "    </tr>\n",
              "    <tr>\n",
              "      <th>420</th>\n",
              "      <td>I</td>\n",
              "      <td>Being approximately 5:00 a.m. approximately, w...</td>\n",
              "      <td>approximately approximately lifting kelly hq t...</td>\n",
              "    </tr>\n",
              "    <tr>\n",
              "      <th>421</th>\n",
              "      <td>I</td>\n",
              "      <td>The collaborator moved from the infrastructure...</td>\n",
              "      <td>collaborator moved infrastruct e office julio ...</td>\n",
              "    </tr>\n",
              "    <tr>\n",
              "      <th>422</th>\n",
              "      <td>I</td>\n",
              "      <td>During the environmental monitoring activity i...</td>\n",
              "      <td>ing environmental monitoring activity area emp...</td>\n",
              "    </tr>\n",
              "    <tr>\n",
              "      <th>423</th>\n",
              "      <td>I</td>\n",
              "      <td>The Employee performed the activity of strippi...</td>\n",
              "      <td>employee performed activity stripping cathode ...</td>\n",
              "    </tr>\n",
              "    <tr>\n",
              "      <th>424</th>\n",
              "      <td>I</td>\n",
              "      <td>At 10:00 a.m., when the assistant cleaned the ...</td>\n",
              "      <td>assistant cleaned floor module e central camp ...</td>\n",
              "    </tr>\n",
              "  </tbody>\n",
              "</table>\n",
              "<p>425 rows × 3 columns</p>\n",
              "</div>"
            ],
            "text/plain": [
              "    AccLevel  ...                                  clean_Description\n",
              "0          I  ...  removing drill rod jumbo maintenance superviso...\n",
              "1          I  ...  ing activation sodium sulphide pump piping unc...\n",
              "2          I  ...  sub station milpo located level collaborator e...\n",
              "3          I  ...  approximately nv cx ob7 personnel begin task u...\n",
              "4         IV  ...  approximately circumstance mechanic anthony gr...\n",
              "..       ...  ...                                                ...\n",
              "420        I  ...  approximately approximately lifting kelly hq t...\n",
              "421        I  ...  collaborator moved infrastruct e office julio ...\n",
              "422        I  ...  ing environmental monitoring activity area emp...\n",
              "423        I  ...  employee performed activity stripping cathode ...\n",
              "424        I  ...  assistant cleaned floor module e central camp ...\n",
              "\n",
              "[425 rows x 3 columns]"
            ]
          },
          "metadata": {
            "tags": []
          },
          "execution_count": 395
        }
      ]
    },
    {
      "cell_type": "markdown",
      "metadata": {
        "id": "Zj6roPpx7EsX"
      },
      "source": [
        "####Drop col \"Description\" & Rename clean_Description to Description"
      ]
    },
    {
      "cell_type": "code",
      "metadata": {
        "colab": {
          "base_uri": "https://localhost:8080/",
          "height": 374
        },
        "id": "cey7UIAu3Pzx",
        "outputId": "03e841c1-9092-494c-a28d-1adefd0fc9dc"
      },
      "source": [
        "df1.drop('Description', axis=1, inplace=True)\n",
        "df1.rename(columns={'clean_Description':'Description'}, inplace=True)\n",
        "df1.head()"
      ],
      "execution_count": null,
      "outputs": [
        {
          "output_type": "stream",
          "text": [
            "/usr/local/lib/python3.7/dist-packages/pandas/core/frame.py:4174: SettingWithCopyWarning: \n",
            "A value is trying to be set on a copy of a slice from a DataFrame\n",
            "\n",
            "See the caveats in the documentation: https://pandas.pydata.org/pandas-docs/stable/user_guide/indexing.html#returning-a-view-versus-a-copy\n",
            "  errors=errors,\n",
            "/usr/local/lib/python3.7/dist-packages/pandas/core/frame.py:4308: SettingWithCopyWarning: \n",
            "A value is trying to be set on a copy of a slice from a DataFrame\n",
            "\n",
            "See the caveats in the documentation: https://pandas.pydata.org/pandas-docs/stable/user_guide/indexing.html#returning-a-view-versus-a-copy\n",
            "  errors=errors,\n"
          ],
          "name": "stderr"
        },
        {
          "output_type": "execute_result",
          "data": {
            "text/html": [
              "<div>\n",
              "<style scoped>\n",
              "    .dataframe tbody tr th:only-of-type {\n",
              "        vertical-align: middle;\n",
              "    }\n",
              "\n",
              "    .dataframe tbody tr th {\n",
              "        vertical-align: top;\n",
              "    }\n",
              "\n",
              "    .dataframe thead th {\n",
              "        text-align: right;\n",
              "    }\n",
              "</style>\n",
              "<table border=\"1\" class=\"dataframe\">\n",
              "  <thead>\n",
              "    <tr style=\"text-align: right;\">\n",
              "      <th></th>\n",
              "      <th>AccLevel</th>\n",
              "      <th>Description</th>\n",
              "    </tr>\n",
              "  </thead>\n",
              "  <tbody>\n",
              "    <tr>\n",
              "      <th>0</th>\n",
              "      <td>I</td>\n",
              "      <td>removing drill rod jumbo maintenance superviso...</td>\n",
              "    </tr>\n",
              "    <tr>\n",
              "      <th>1</th>\n",
              "      <td>I</td>\n",
              "      <td>ing activation sodium sulphide pump piping unc...</td>\n",
              "    </tr>\n",
              "    <tr>\n",
              "      <th>2</th>\n",
              "      <td>I</td>\n",
              "      <td>sub station milpo located level collaborator e...</td>\n",
              "    </tr>\n",
              "    <tr>\n",
              "      <th>3</th>\n",
              "      <td>I</td>\n",
              "      <td>approximately nv cx ob7 personnel begin task u...</td>\n",
              "    </tr>\n",
              "    <tr>\n",
              "      <th>4</th>\n",
              "      <td>IV</td>\n",
              "      <td>approximately circumstance mechanic anthony gr...</td>\n",
              "    </tr>\n",
              "  </tbody>\n",
              "</table>\n",
              "</div>"
            ],
            "text/plain": [
              "  AccLevel                                        Description\n",
              "0        I  removing drill rod jumbo maintenance superviso...\n",
              "1        I  ing activation sodium sulphide pump piping unc...\n",
              "2        I  sub station milpo located level collaborator e...\n",
              "3        I  approximately nv cx ob7 personnel begin task u...\n",
              "4       IV  approximately circumstance mechanic anthony gr..."
            ]
          },
          "metadata": {
            "tags": []
          },
          "execution_count": 396
        }
      ]
    },
    {
      "cell_type": "code",
      "metadata": {
        "colab": {
          "base_uri": "https://localhost:8080/"
        },
        "id": "P6qZSG5UkKMF",
        "outputId": "10c6efb0-5f25-4398-b491-7270146dcb25"
      },
      "source": [
        "df1['AccLevel'] = df1['AccLevel'].astype('category')"
      ],
      "execution_count": null,
      "outputs": [
        {
          "output_type": "stream",
          "text": [
            "/usr/local/lib/python3.7/dist-packages/ipykernel_launcher.py:1: SettingWithCopyWarning: \n",
            "A value is trying to be set on a copy of a slice from a DataFrame.\n",
            "Try using .loc[row_indexer,col_indexer] = value instead\n",
            "\n",
            "See the caveats in the documentation: https://pandas.pydata.org/pandas-docs/stable/user_guide/indexing.html#returning-a-view-versus-a-copy\n",
            "  \"\"\"Entry point for launching an IPython kernel.\n"
          ],
          "name": "stderr"
        }
      ]
    },
    {
      "cell_type": "code",
      "metadata": {
        "colab": {
          "base_uri": "https://localhost:8080/"
        },
        "id": "8bX-tmk6j-BS",
        "outputId": "cb3de1eb-6e62-4a24-db39-6f0ef32c1780"
      },
      "source": [
        "cat_counts = len(df1.AccLevel.cat.categories)\n",
        "cat_counts"
      ],
      "execution_count": null,
      "outputs": [
        {
          "output_type": "execute_result",
          "data": {
            "text/plain": [
              "5"
            ]
          },
          "metadata": {
            "tags": []
          },
          "execution_count": 398
        }
      ]
    },
    {
      "cell_type": "markdown",
      "metadata": {
        "id": "3RmRocZx51gc"
      },
      "source": [
        "###**We want our model to be a multiclass classification model that takes strings as input and output probability for each of the 5 class labels.**"
      ]
    },
    {
      "cell_type": "code",
      "metadata": {
        "colab": {
          "base_uri": "https://localhost:8080/"
        },
        "id": "AXGOYtp9vhvi",
        "outputId": "dea253ee-929d-4550-9960-dc6030f02abe"
      },
      "source": [
        "train.shape, test.shape"
      ],
      "execution_count": null,
      "outputs": [
        {
          "output_type": "execute_result",
          "data": {
            "text/plain": [
              "((340, 2), (85, 2))"
            ]
          },
          "metadata": {
            "tags": []
          },
          "execution_count": 399
        }
      ]
    },
    {
      "cell_type": "code",
      "metadata": {
        "colab": {
          "base_uri": "https://localhost:8080/"
        },
        "id": "3U1EbT_Zv4r3",
        "outputId": "88b79376-a336-4420-d200-fda0115fd860"
      },
      "source": [
        "train_Description = train['Description'].tolist()\n",
        "train_Description = np.array(train_Description, dtype=object)[:, np.newaxis]\n",
        "train_Description"
      ],
      "execution_count": null,
      "outputs": [
        {
          "output_type": "execute_result",
          "data": {
            "text/plain": [
              "array([['moving roll electro welded mesh kg weight place hopper truck two operator pull roll mesh bring hopper truck time imprisonment left hand one operator mesh body hopper generating described inj time accident operator wearing pvc type safety glove'],\n",
              "       ['raise chamber operator assistant removed drilling bar 71r drilling machine weight approx kg holding top tm stroke assisted jib move horizontally operator jib bottom slide moving top drill bar causing assistant bar enforce assistant hand bar piston equipment'],\n",
              "       ['ing die cutting feeder pead geomembrane blanket weld seam store extruder stylet blade came direction left forearm resulting blunt short inj'],\n",
              "       ['performing sleeve removal maneuver hole meter deep general da silva pressed one side locking nut rod together jack hold entire weight rod maneuver locking proced e effective weight rod sec ed steel wire rope probe winch moment driller pedro released brake winch inefficacy locking done one side chestnut without aid monkey caused sliding rod auxiliary prepared manual unlocking rod holding faucet key firmly probe tower composition shifted stem slid hand shifted downward causing left hand strike base probe tower struct e causing cut 4th 5th quirodactyl employee taken hospital went medical care wound sut ed stitch removed day activity'],\n",
              "       ['ing preparation office cleaning activity employee made use stair railing contact clamp used lock signaling board'],\n",
              "       ['ing ore transport work op2 bine filled tenth mining car ore assistant positioned platform hopper op2 place wooden board piston chain avoid fall fine track time fragment rock 10cmx8cm x6 cm kg roll load hit distal phalanx fo th finger left hand assistant time accident wearing safety glove pad type hopper op2 time accident zero energy'],\n",
              "       ['circumstance drilling assistant proceeded assemble inner tube barel inj ed person retracts inner tube head throw manually towards top catheter inclination continue perforation moment glove left hand hooked speart point pushing left hand edge box barel originating inj time accident inj ed employee used rubber glove work area well lit'],\n",
              "       ['ing discharge waste operator proceeds remove bag hose rolled circumstance one end hose move direction face driver projecting liquid contained impacting ear part face'],\n",
              "       ['open suction valve bo acid pump cable pump come loose pressing 5th finger employee left hand tubing causing fract e distal phalanx photo'],\n",
              "       ['opened access ladder people carrying truck employee right hand pressed support bracket suffering superficial inj'],\n",
              "       ['level access siemag camera roof time piquero civil operator looked stilson key inside metal tool box open metal lid 1m x 6m x 7m kg weight hand push lid backwards positioning yo right hand near base lid causing incentration yo fifth finger lid struct e box height hinge time accident employee wore pad glove reduced consequence inj'],\n",
              "       ['approximately luna master loader company incimet carrying loading activity front cruiser level moment tying pentacord crown trying reach fanel left side loses balance movement ladder fall floor resulting accident'],\n",
              "       ['discharging sodium hydroxide disconnecting hose employee placed next demineralization suction pump ned receiving projection pump sensor causing 1st degree b n'],\n",
              "       ['employee moved toward struct e post came step false suffering twisting left ankle'],\n",
              "       ['ing preparation scaffolding activity employee loading piece designated place finger pressed metal piece moved'],\n",
              "       ['employee work electrician management electrometall gy suffers contusion right leg suffering slip height step staircase code ele abb f nace cat ladder immediately referred collaborator medical service treated'],\n",
              "       ['moment collaborator carried inspection conveyor belt tail pulley height load polymer maslucan collaborator heard noise note belt moving towards tail pulley fragmentos mineral fragment projected towards access ramp impacting collaborator evacuated medical post'],\n",
              "       ['assistant cleaned floor module e central camp slipped back immediately grabbed laundry table avoid falling floor suffering described inj'],\n",
              "       ['circumstance two worker company incimmet fectuaban loading explosive using equipment anfoloader front work sustained shotcreterepentinamente right superior part crown piece rock approx kg 2mx0 15mx0 10m impacting basket back helper basket suspended height moment later block rock detached wall gable approx kg 20mx1 10mx0 40m impact ampoloader team part block inj e operator ampoloader team standing ground equipment anfoloader cabin protection rops fop time accident worker used helmet safety boot suffered polyontusions minor scoria inj y'],\n",
              "       ['ing activity chuteo ore hopper op5 operator locomotive park equipment hopper fill first car moment blowing release load mud flow suddenly appears presence rock fragment personnel direction flow covered mud'],\n",
              "       ['circumstance worker hit support drill beam advance cylinder align base beam hole beam place bolt mechanical hammer slip inertia mechanic hand hit edge beam causing inj time accident employee ppe activity'],\n",
              "       ['ing execution service opening pricked fut e work ip around employee pedro second line equipment stung wasp right portion neck beetle small size seen employee bite causing employee shock insect manifested employee used ppe required activity developed bite occ red collar shirt face shield technician responsible performing work evaluated sting together inj ed employee found localized swelling allergy would need paralyze activity followed normally'],\n",
              "       ['employee performing maintenance blower residual water projection occ red face attempt remove ppe inj ed person contact contaminated glove right eye causing irritation'],\n",
              "       ['removing drill rod jumbo maintenance supervisor proceeds loosen support intermediate centralizer facilitate removal seeing mechanic support one end drill equipment pull hand bar accelerate removal moment bar slide point support tightens finger mechanic drilling bar beam jumbo'],\n",
              "       ['employee cleaned thermal recovery boiler using air boom hose loosened pipe connection drawing jet compressed air toward right ear causing impact noise'],\n",
              "       ['happened ing maintenance bolter equipment collaborator us carpenter hammer able remove link chain advance drilling machine moment hit side chain partner hit struct e beam diverting path hammer causing strike left hand'],\n",
              "       ['employee hitchhiking cep truck equipment crossed central canterio track catch key wheel loader another operator stopped opposite direction upon ret ning truck hit arm left loader tire traveling along road passed cep right'],\n",
              "       ['level guide wire chamber ing preparation activity mix shocrete worker performs emptying bag cement towards bucket complete dosage moment dust generated cement enters lower part lens left eye causing irritation'],\n",
              "       ['employee performed task hoisting big bag containing waelz oxide performing several hoistings employee suffered low voltage electric shock contacting hoist attaching handle big bag'],\n",
              "       ['industrial cleaning worker cristian performing cleaning activity gutter striking wall remove solid solution formed moment operator hand slide impact edge gutter causing blow little finger left hand'],\n",
              "       ['circumstance collaborator performed cleaning ditch cm deep removing pipe hdpe material estimated weight kg together two collaborator pushing tube drain dune collaborator hit lower right side lip producing slight blow lip time event collaborator safety helmet glass glove'],\n",
              "       ['geologo auxiliary elismar traveled evaluate geological point following gps near drainage following state highway give access aripuan area stopped got vehicle see point identified gps renato distancing seven meter vehicle following road prised fo bite thorn face neck quickly h ried back vehicle moving away place clerk wearing girdle goggles still wearing glove would enter forest area allergic reaction'],\n",
              "       ['hr cathode go pre estriping sheet detached bend cathode position operator assistant lift cathode head position tranfer moment detached sheet exerts press e cathode hitting palm left hand operator head transfe activity paralyzed collaborator referred medical post head guard'],\n",
              "       ['scoop heading rpa cut point cro south unloaded visualizes truck parked light engine ignited inside thrust scoop found accumulating dismount operator stop scoop get tell driver truck leave find one decides go look driver top cro south find ret n scoop meter visualizes light lamp shining direction gable approaching find deceased lying side scoop proceeds give immediate notice supervisory shift control center emergency center'],\n",
              "       ['level dining room collaborator finished washing tabolas food container dimension cm x cm x cm proceed order pinking thumb right hand corner aluminum tabola generating lesion employee time accident safety glove'],\n",
              "       ['collaborator report street holding left hand volumetric balloon slipped placing hand ground volumetric balloon ended breaking caused small wound left hand'],\n",
              "       ['handling sample laboratory sleeve employee coat contact nitric acid absorbing small amount came reach left forearm causing 1st degree b n'],\n",
              "       ['employee report supervising activity ustulation near ball projection hot humped dust upper floor reached cervical neck region causing first degree b n'],\n",
              "       ['access level ing installation activity hydraulic filling pipe diameter installing section height reference floor master hydraulic filling accident partner suffers attrition right hand upper edge scoop lamp roof work generating inj time accident employee used rubber glove'],\n",
              "       ['geological reconnaissance activity farm mr l zaro team composed felipe divino de morais normal activity encountered ciliary forest needed enter forest verify rock outcrop front divine realized opening access machete moment took bite neck attack allergic reaction continued work normally work completed leaving forest access divine assistant attacked snake suffered sting forehead moment moved away area verified type allergic reaction ret ned normal activity'],\n",
              "       ['project vazante carried sediment collection rent south mata target drainage serra garrote team composed member wca company r leandro jehov nio moving one collection point another inside shallow drainage saw bee carton reaction move away box quickly possible avoid sting ran meter looking safe area exit radius attack bee breno attacked consequently suffered sting belly jehovah hand verified type allergic reaction ret ned normal activity'],\n",
              "       ['safety technical moved field inspection activity way field paused together two team order know drainage point checked safety getting vehicle struck sting weed neck quickly ret ned vehicle made radio communication two team distanced place clerk wearing legging glass allergic reaction'],\n",
              "       ['activity maintenance scaller breaker arm extension cylinder local underground mine level ing removal cylinder scaller arm releasing fixing pin cylinder came bumped tool used press hand tool struct e equipment'],\n",
              "       ['employee report carrying activity area expedition remove overall contact material contaminated sleeve caused 1st degree b n right forearm'],\n",
              "       ['employee performed withdrawal electrical fail e engine control drawer tq check exchange fuse closed door drawer energized drawer moment arc opened reaching face part employee forearm causing minor b n'],\n",
              "       ['activity front sanitation slaughter choco scaller local underground mine level front upper jka operator performed front sanitation rock block roof hit equipment accident victim promptly rescued unit emergency brigade transported outpatient clinic received first care transferred municipal paracatu'],\n",
              "       ['probe bore bapdd00146 around ho polling assistant luciano da silva performing maneuver descending rod led rod gutter leaning suitably came escape gutter ret ning toward easel hand slipped little finger rod easel realizing shaft ret ned released immediately little finger partially hit rim rod easel resulting cut auxiliary taken hospital attended wound resulted point released administrative activity'],\n",
              "       ['maid walking electrolysis area stumbled fell next bathroom room b'],\n",
              "       ['level entrance locomotive workshop welder proceeds inspect mining car identifies car bearing problem informs partner finding decides enter car workshop operates swing arm type mona kg weight move direction railway towards central op moment push rocker weight body right hand come contact rock producing inj described time accident worker wearing safety glove pad'],\n",
              "       ['ing activity chuteo ore hopper op5 operator locomotive park equipment hopper fill first car moment blowing release load mud flow suddenly appears presence rock fragment personnel direction flow covered mud'],\n",
              "       ['tower n old kv lt disabled de energized dismantled located city pasco last profile base tower previously disassembled cut using oxyfuel equipment proingcom sec ity supervisor foreman outside fenced area supervising activity indicate stoppage activity evacuation refuge due orange alert indicated detector storm ing evacuation last employee inside fenced area loud sound heard provoking fright caused staff throw floor inside area proceeded leave work area mean ladder apparently loud sound would correspond electrical discharge cable guard pass old tower'],\n",
              "       ['ing torch cutting activity new evaporator treatment fixing rupt e hose near torch pen causing inj'],\n",
              "       ['circumstance assistant mine arranging advance hose flexible nylon diameter proceed watered shot fired positioning zone support deteriorated last blasting moment give block rock 25cmx10cmx5cm kg roof work height meter falling hit rebound left leg collaborator causing described inj'],\n",
              "       ['time mill operator proceeded remove vitaulic flange connecting suction pipe pump housing 8b intention de sanding system removing flange mineral pulp come press e impact face wrist left hand generating lesion described time accident secondary mill pump 8a 8b blocked maintenance work mill operator used safety glass'],\n",
              "       ['starting activity removing coil electric cable warehouse help forklift truck operator notice beehive due movement coil bee excited realizing fact operator ned equipment left area people passing stung'],\n",
              "       ['level unicon plant collaborator shuttering work concrete water sedimentation basin moment nailing wood supply another x inch strip feel metallic hammer loosen wooden handle fix grab hammer head hit handle vertically wood generating inj time accident employee use safety glove'],\n",
              "       ['activity loading explosive front level gts fall rock fragment reaching right arm blaster causing cut blunt'],\n",
              "       ['collaborator report working ustulaci n realized cyclone duct obstructed opened door try unclog material detached projected towards employee causing small b n right heel'],\n",
              "       ['plant operator semi kneeling lifting lid gate kg distributor box secondary mill right knee slip due presence debris spilled platform floor grating gave extra effort left leg generating muscle contract e'],\n",
              "       ['level geology face master mine temporarily repair water leakage inch diameter metal distributor make cut rim chamber strip 4cm wide x 100cm long making using cutter partner stretch camera cutting force edge cutter make contact index finger left hand causing superficial cut time event worker wearing bos glove'],\n",
              "       ['time worker cleaning long hole production mesh negative removing polyethylene pipe suffers clogging inside drill product compressed air press e released ejecting detritus fragment rock inside hole impacting worker forehead causing cut'],\n",
              "       ['performing movement bar make room place calibrator mr chuquillanqui push bar hand ning moment imprisoned middle finger left hand bar ahead'],\n",
              "       ['circumstance ahk license plate empresa serf supervision cma carried field inspection upper bank unexpectedly climbing operational access positive ramp slide excavated area approximately meter high remaining position front part floor occupant vehicle made use safety belt complete epps'],\n",
              "       ['performing soil activity collaborator alex used pickaxe assist opening collection hole struck ferranta ground fragment rock projected forehead causing small cut activity paralyzed moment necessary go doctor employee continued activity normally'],\n",
              "       ['collaborator cleaning sink copper repulping area moment filling truck shovel project sludge towards lens soiling obstructing vision worker indicates removing lens clean mud particle enter left eye causing discomfort referred medical center corresponding attention'],\n",
              "       ['ddh chamber company explomin located level socorro ramp worker assistant driller dismantling fifth drill rod nq meter steel weight kg using stilson key moment operator operates rotation unit drill rod rotates pressing left hand worker base rod holder causing inj left hand time accident drilling assistant used rubber glove'],\n",
              "       ['circumstance mr efra n osorio felix mina 2nd entered interior pocket level activated compressed air gun installed lower part struct e nozzle communicates air lung internal part pocket projecting violent flow air blow left leg worker generates stun noise produced'],\n",
              "       ['accident occ red time employee partner company sf carried unloading operation bladder bag cutting bag charging boom silo truck delivery mouth inner plastic bag rounding content abruptly dropped large amount material fell onto cone funnel cone fell inj ed man stood leg pressed body guard scaffold external medical attention verified fract e'],\n",
              "       ['employee cleaning near area pneumatic conveyor hit drop sulf ic acid upper lip'],\n",
              "       ['worker manuel making disconnection power cable gate intersection manco street cajamarquilla order remove circumstance mr jos worker company removing rope tied body gate yield fall pulling warning post hit helmet mr standing side'],\n",
              "       ['using griff wrench unscrew rod probe key came move pressing employee finger probe'],\n",
              "       ['accessing santa novo area order open chop general moving ahead team order open access manetometer came across area steep slope gravel presence certain place access employee slipped coming become unbalanced moment machete left hand came slip right leg knee causing cut 3cm'],\n",
              "       ['circumstance staff performing rhyming caving hw hw pipe suspended approximately cm floor assistant placed stilson key hw pipe fit pipe height cm base rod holder operator operates chuck slide back causing pipe slide causing tip fo th finger assistant right hand caught stilson key base rod holder time event collaborator used epps'],\n",
              "       ['collaborator completed misalignment nut left side chute scraper strip get n hit head guard railing hitting lens generating inj'],\n",
              "       ['area equipment inspection staff atenuz ee trying remove hydraulic hammer safety lock excavator mechanical lubricator hold right hand hat type chisel equipment mechanic hit chisel pound rubber bump remove safety point one blow fall edge hat type protector causing slip strike fo th finger lubricant mechanic right hand generating described inj time accident lubricator mechanic put glove type pad'],\n",
              "       ['ho end concentrate truck cleaning driver instructed close gate moment mr carlos back vehicle reported inj left hand transferred medical center attention later evacuation clinic'],\n",
              "       ['approximately h supervising line clamping pom d071 roy canario ret ning thickener d1304 hit nose metal chute operation'],\n",
              "       ['employee report attempting manually ingot zinco rotary table l1 ingot hit left hand angle struct e ingot pressing finger ingot angle'],\n",
              "       ['clerk cutting excess fiberglass passing box contact blade marble saw cut glove caused wound right hand'],\n",
              "       ['inj ed collaborator time making hdpe pipe used hydraulic filling released causing one end pipe impact lip causing inj apparently support deconcentrates release little pipe action generates pipe presented rubber victa lica copla released generating impact previously described pipe empty without hydraulic load'],\n",
              "       ['replacing telescopic expansion joint hdpe pipe storm drainage pumping system report piece involuntarily moved positioned holder pressing finger holder causing wound right chemo'],\n",
              "       ['checking voltage power outlet plug socket make e connection correct small electrical arc power cord causing slight b n right hand wrist protection system acted immediately'],\n",
              "       ['ing plant stop scheduled maintenance almost end change fitting hdp pipe diameter resident enters work zone bottom supervise work moment fo worker anchored harness upper part manipulating accessory tie flange hdp pipe pvc diameter suddenly pvc pipe come support pipe fine material tailing weight 700kg fall height meter floor bounce imprisons resident engineer inj ed worker lower part line fire'],\n",
              "       ['mechanic assistant throwing wooden block support stabilizer hiab crane truck ground descending truck access ladder arriving last step jump towards ground height 69cm treading edge one wooden block cause inj left ankle'],\n",
              "       ['aligning right bracket tower n releasing tension applied tirford tn pushing lever towards tension release point ret n mechanical effect overcoming resistance lineman operator reshaping hand assistant beating assistant frontal region'],\n",
              "       ['intersection level main road access south ramp collaborator freed tube inch diameter gable descended holding pipe fo th step telescopic aluminum ladder approximately meter floor point another clamping point gable lifted lifting tube pull worker causing lose balance fall height meter described inj occ ring'],\n",
              "       ['employee engaged adjusting metallic shape using tether striking shape tether cable hit lifeline projecting hand metal struct e shape causing superficial inj ring finger right hand'],\n",
              "       ['face comedor worker company c c made cut lemon time imprisoned knife generating movement impacting first finger left hand causing slight cut'],\n",
              "       ['employee engaged removal material excavation well level using shovel placing bucket ing day material fell pipe employee boot friction boot calf caused superficial inj leg'],\n",
              "       ['mr frank support another mechanic preparing place floor metal part called rear bridge forklift moment part moving part move generating blow middle finger left hand'],\n",
              "       ['leaving company employee stumbled onto exit ladder building fell step causing twisting ankle grating cinnamon'],\n",
              "       ['bypass level worker company incimet raul operator bolter bolting team rolando assistant retired installing support helical bolt pink team mesh overhanging gable teacher tell assistant cut mesh instant assistant finished cutting mesh suddenly rise hitting face causing inj described'],\n",
              "       ['p assisting gps magnetometric collaborator gilv nio bumped top field hat branch attacked maribondos moth went towards eye due use sunglass attack region prevented insect moved side face getting caught ear back field hat making helper get two bite behind ear gilv nio allergic marimbondos bite soon activity immediately paralyzed drove car accident took medicine antiallergic already used situation work indicated another doctor avoid f ther swelling marcelo responsible project also field mapping activity called radio immediately assistant felt good taken emergency hospital lavras sul consulted doctor took antiallergic released around'],\n",
              "       ['moment mr william carried inspection cut block level ob6a loading platform could realized instant observed drill positive radial one covered shotcreteados hears noise upper part pit detachment bank center pit mr william go back leave work metatarsal boot make contact rock floor cause lose balance stumble gable'],\n",
              "       ['collaborator moved infrastruct e office julio toilet pin right shoe hooked bra left shoe causing take step fall untimely causing inj described'],\n",
              "       ['ing activity changing conveyor belt 11b feeding primary mill mechanic entered discharge chute x x clean material time automatic sampler x inside chute activated trapping mechanic height chest time accident mechanic alone work area'],\n",
              "       ['employee report monitoring existence borehole tubing thermal recovery boiler ustulation area side window struck projection heated air reached face right forearm'],\n",
              "       ['employee performed insertion adjustment joint blind flange tubing one wedge shifted causing movement flange causing 3rd 4th finger left hand pressed'],\n",
              "       ['participating general dd held outside area central locker room employee bitten bee'],\n",
              "       ['approximately circumstance mechanic anthony group leader eduardo eric fern ndez inj ed three company impromec performed removal pulley motor pump zaf marcy cm length cm weight kg locked proceed heating pulley loosen come fall distance meter high hit instep right foot worker causing inj described'],\n",
              "       ['spillway circumstance worker cleaning use absorbent cloth oil residue right edge atlas ax compressor bonnet open functioning rag fall inside ompressor attempt remove hooked fan propeller pulling worker left hand toward propeller causing inj'],\n",
              "       ['employee passed corner front door seeing virdro slight swelling frontal region due closing glass door'],\n",
              "       ['ing execution area cleaning activity using hoe employee hit fixed metal struct e area coming reach abdomen left'],\n",
              "       ['eu bio bridge sudden braking several car brake quickly collaborator car failed stop time collided rear car ahead 40km ho'],\n",
              "       ['project vazante carried sediment collection rent south mata target drainage serra garrote team composed member wca company r leandro jehov nio moving one collection point another inside shallow drainage saw bee carton reaction move away box quickly possible avoid sting ran meter looking safe area exit radius attack bee breno attacked consequently suffered sting belly jehovah hand verified type allergic reaction ret ned normal activity'],\n",
              "       ['driver aeq plate dump truck ton heading loading area nv ob5 tj bp parking proceeding ore loading scoop ydrs moment lift first scoop towards hopper large bank fall causing tipper shake violently operator hit gear lever communicate supervisor evacuated medical center'],\n",
              "       ['traveling field order make geological mapping geologist manoel accompanied prospector marcos stooped deviate vegetation time received three whistling sting two face one neck allergic reaction activity followed normally event'],\n",
              "       ['ing trip vehicle end work collaborator rhainer stepped object could identify thus coming pierce sole boot causing small hole sole left foot collaborator perforation possibly due stump wood since area covered collaborator past e grazed recently near residence'],\n",
              "       ['moment truck transport personnel company mceisa plate ajg moved nv face missing 50m reach mouth nv gearbox respond driver stop truck inspect along maintenance personnel time traveling truck raise cabin manually put change first continue trip culminated task driver support maintenance personnel lower cabin due weight fall hitting driver cabin hopper truck time accident employee wearing safety helmet chin strap'],\n",
              "       ['mechanical technician proceeded perform maintenance motor support tipper decided bring wooden block moved temporary storage material located tipper circumstance sought cue camera tire b st suddenly right involved thunderous sound affected right ear worker tire exploded psi press e approximately time event stacked pneumatic second one exploded presented cut place energy released tire upper part projected tire left previous guard night shift storage area roof place event affected mechanic located 2m distance 70m worker area truck parked none suffered damage glass'],\n",
              "       ['ing execution soil sampling task potion area around pm pablo moving bite bitten right elbow wasp sleeve uniform using time incident ppe needed activity employee evaluated team found mild inj localized swelling employee reported feel pain could continue activity'],\n",
              "       ['inside mine ing diamond drilling positive drill moment control tube rescued fisherman winch cable break untimely developing whiplash effect impacting left hand drilling assistant causing described inj time accident drilling assistant platform 0m frame using hycron type safety glove'],\n",
              "       ['averaging office ajani liliana prepares store folder warehouse go place come iglu going two step diagonally sits left foot edge second step causing foot bend left inward stabilizes quickly avoiding falling ground'],\n",
              "       ['inj ed worker begin work presenting support mesh cloth floor making initial cut mesh section x poncho originating remaining mesh wick tip prong protruding trying make second mesh cut positioned edge remaining mesh wick prevent ling point try take yo shear remove right foot mesh causing mesh roll embed wick tip pole left boot causing inj time accident worker wearing safety boot'],\n",
              "       ['approximately circumstance messrs truck crane william de la cruz culminated shipment block metal plate approximate weight kg mr william de cross rigger climb onto truck remove sling place foot stretcher supported metal plate moment central part stretcher broken result two foot imprisoned producing inj'],\n",
              "       ['performing geological mapping activity necessary hammer rock analysis moment clerk held pointed fragment slipped third quirodactyl right hand causing superficial cut'],\n",
              "       ['ing test soft starter engine belt collaborator igor move around site approximately pm fall trench electric cable 90m deep found partially discovered'],\n",
              "       ['workshop level box two mechanic manipulated steel plate 60cm x40cm x 5cm kg place gutter workshop able remove scaler plate slide restricts right ring finger gable plate causing inj collaborator used glove time accident'],\n",
              "       ['ing field activity amg project target luiz reconnaissance team boarding car parked window closed entered mr paulo putting seat belt inside vehicle pressed wasp shoulder neck causing sting believed possibly bee nailed clothes car properly closed'],\n",
              "       ['ing withdrawal metal form support screw inside well bolt chain holder loosened employee helper exerted force combination wrench bolt came loosen immediately pressing ring finger employee right hand support'],\n",
              "       ['ing start neutral leaching process employee jhonatan proceeds open air valve tank airlift circumstance process solution ret n chimney solution coming contact arm right foot'],\n",
              "       ['level gallery performing manual unlocking load worker prepares cut sacrificial mesh exposed previous n shot placing inch shear cutting fifth suddenly strained wire mesh ret n face casion ndole inj described ing activity worker used safety glass'],\n",
              "       ['circumstance operator performed lifting inch vitaulic pipe imprisoned struct e railing truck instant push pipe right hand ret n initial position hitting middle finger employee causing bruise'],\n",
              "       ['ing cleaning vertical pipe using hydrojet equipment high press e hose hose ret ned due obstruction pipe residue reaching operator actuating equipment pedal'],\n",
              "       ['circumstance worker two partner placing killer bomb basket manitou team bomb hit index finger right hand basket'],\n",
              "       ['upon entering building maid slipped fell behind automatic door front entry mat floor wet slippery'],\n",
              "       ['employee de lima da silva composing team opening bite vey ip team consisted one mining technician three assistant moving bite touched left foot stump tucum ground covered dry leaf vegetation near drainage felt thorn piercing foot told mining technician happened teammate removed thorn pierced top boot removal spine foot washed verified inj event technician waxed activity ret ned city porangatu go necessary take employee health unit'],\n",
              "       ['mr eriks completed change guide pole conveyor belt collaborator moved side belt remove tecl pass stair without getting observe moment collaborator jhon dropped inchancable weight approx kg entrance platform chute discharge height meter iron grazed forearm finally hitting left foot height instep'],\n",
              "       ['ing activity packaging cylindrical piece easel employee carried piece designated place finger pressed metal piece moved'],\n",
              "       ['moment maperu truck plate f1t ret ned city pasco unit transporting consultant meter main gate lane invaded civilian vehicle making driver n sharply side right staff company impromec hot melt work pipe impacting two collaborator causing inj y described time accident truck traveling 37km h according inthinc width road meter activity safety cone warning side road employee used respective epp'],\n",
              "       ['employee report performing maintenance activity pump tunnel tc pulling rotor struck piece mallet slipped hand reaching lower part yo left leg causing inj'],\n",
              "       ['moment maperu truck plate f1t ret ned city pasco unit transporting consultant meter main gate lane invaded civilian vehicle making driver n sharply side right staff company impromec hot melt work pipe impacting two collaborator causing inj y described time accident truck traveling 37km h according inthinc width road meter activity safety cone warning side road employee used respective epp'],\n",
              "       ['technician operator heading towards zone lifting container dust zinc section us space base tranquera sardinel slipping edge rasp ndose left side thorax treated medical center local treatment ret ning work area'],\n",
              "       ['tower n old kv lt disabled de energized disassembled located city pasco cutting last profile base tower previously disassembled carried using oxyfuel equipment safety supervisor proingcom foreman external part fenced area supervising activity indicate paralysis activity evacuation refuge due orange alert indicated detector storm ing evacuation last employee inside fenced area loud sound heard provoking scare caused staff throw floor within area proceeded leave work area mean staircase apparently loud sound would correspond electrical discharge cable guard pass old tower'],\n",
              "       ['approximately p mechanic technician jos tecnomin verified transmission belt hm pump acid plant proceeded n pulley manually unexpectedly instant electrician supervisor miguel eka mining grab transmission belt verify tension point finger trap'],\n",
              "       ['upon approaching f nace process melting zn ingot struck liquid metal projection'],\n",
              "       ['welding workshop level ex tunnel quinoa moment assistant raised wooden strut 3m long x diameter kg weight place work table height tread another wooden strut placed floor losing balance falling level lying laterally concrete wall causing bruise left shoulder'],\n",
              "       ['area lloclla meter sub station nro circumstance worker preparing pick rope floor several fragment rock slide slope hill one cm fragment diameter approximately impact face worker producing aforementioned inj'],\n",
              "       ['welder completed welding work reinforce form deepening walked towards distant truck mt point welder stepped fragment rock cm x 10cm x 5cm approx generates foot flex generates inj worker'],\n",
              "       ['employee performed activity stripping cathode pulling cathode sheet hand hit side another cathode causing blunt cut 2nd finger left hand'],\n",
              "       ['circumstance driver plate truck w5k e e impromec went garit plant chicrin nv entering internal mine area santa approx old dining room stop vehicle informs co pilot longer drive n vehicle trying get van loses balance fall seat complaining intense pain lumbar area citing pain due overexertion due routine activity evacuation residual oil solid waste cylinder previously performed collaborator time event used corresponding epps'],\n",
              "       ['ing field trip lt lajes target junior da costa official stepped wooden stump ground approximately cm pierced boot wounding sole right foot time accident employee using ppe required activity hand free employee taken hospital went medical care released ret n activity next day work'],\n",
              "       ['time heavy equipment operator got equipment check right front headlight defective scooptram position rim position left leg slide causing heavy equipment operator fall height cm'],\n",
              "       ['painting pumping pipe completed person involved involuntarily touch face hand glove full paint clean make use dry industrial cloth begin rub face period time second continuously finally paint face cleaned friction generates described inj'],\n",
              "       ['moment entering mouth tunel employee move left side locomotive lt locomotive personnel transfer stationed entrance mouth without noticing protruding abutment said locomotive bottom hitting right knee metal stirrup noted operator continued duty ing watch without reporting happened extraction supervisor upon noticing discomfort partner knee immediately evacuated natclar reporting control center'],\n",
              "       ['team vms project performed soil collection xix target member team moving one collection point another mr fabio ahead team stinging behind robson manoel da silva near collection point prised swarm bee inside play near ground visibility wood hissing noise fabio passed stump robson manoel da silva attacked bee robson sting left arm uniform manoel da silva prick lip screen ripped tangled branch ing escape'],\n",
              "       ['employee report working brushcutters near stone blade equipment collided piece metal projected toward leg causing inj left leg'],\n",
              "       ['level access scissor performed sustaining activity drilling drill install split lifting electrowelded mesh square meter 6m x 2m weight kg approximately team platform assistant slip feel pain inner edge right knee'],\n",
              "       ['parking van next cluster wooden sleeper board driver descending stepped board iron nail protruded long identify board submerged puddle water accident caused minor wound sole left foot time accident worker wearing safety boot'],\n",
              "       ['end concreting activity employee ned concrete rolling handle make ret n equipment warehouse bumped tip mangote inferior lip causing hematoma'],\n",
              "       ['time worker another partner preparing move oil cylinder gallon mobile platform mounted rail platform weighing approximately kg derailed leaf rail order place platform rail worker lift platform instant right hand one trapped rail platform struct e held metallic tube protruding platform accident caused bruised wound index finger right hand fract e time accident wore leather type safety glove'],\n",
              "       ['starting activity removing coil electric cable warehouse help forklift truck operator notice beehive due movement coil bee excited realizing fact operator ned equipment left area people passing stung'],\n",
              "       ['employee clearing pipe tapped right thumb flange causing little trauma'],\n",
              "       ['team vms project performed soil collection xix target member team moving one collection point another mr fabio ahead team stinging behind robson manoel da silva near collection point prised swarm bee inside play near ground visibility wood hissing noise fabio passed stump robson manoel da silva attacked bee robson sting left arm uniform manoel da silva prick lip screen ripped tangled branch ing escape'],\n",
              "       ['lubricating technician alfredo made oil filling reducer notice oil leak tearing connection hose reducer correcting leak work finished go lubricant workshop remove glove observes hand affected contact hot face go medical center treated'],\n",
              "       ['loosening a30 truck steering cylinder bolt using power cable socket force exerted favor equipment bolt suddenly retired employee hit hand struct e equipment causing inj'],\n",
              "       ['ing transport piece wood aid wheelbarrow employee felt prick right leg moment stopped activity removed legging shaking pant noticed small scorpion'],\n",
              "       ['maid handling pipette sample preparation chemical analysis trying place three way pear pipette came break causing superficial cut right hand'],\n",
              "       ['ho mr hidalgo wanting climb starter board remove fan stand unstable reel driving fell frontally height 98m'],\n",
              "       ['n nv cx mixkret operator washing mixkret hose water press e necessary change location right side left proceeds pull hose slip feel left foot bend'],\n",
              "       ['installing segment poly ethane pulley protective lyner 60x4x5cm weighing kg head pulley ore winch pulley rotated compress lyner inside channel fall housing rubbing right side worker hip generating inj described'],\n",
              "       ['carrying activity cutting electrowelded mesh work front assistant position foot one end mesh leaving end free moment assistant bend make cut shear end free mesh ret n inertia hitting partner safety lens'],\n",
              "       ['worker carried work level stop placed metal mesh basket soil half scissor mesh fall hit back right hand'],\n",
              "       ['section row cell worker performs anode lifting correct short circuit using auxiliary hoist nylon sling time sling released anode hit back right hand causing inj worker seen medical transferred clinic external evaluation'],\n",
              "       ['mixer e c incimmet moved positive south ramp direction face unicon concrete plant height operator observes untimely light engine go control control respond equipment start reverse meter operator jump cabin meter team hit right gable n side left area circumstance event presence personnel equipment could affected'],\n",
              "       ['ing transit fuel tanker level level north ramp passing level operator feel right rear tire skid operator performs defensive maneuver truck hit left gable causing inj described time accident pilot co pilot wearing safety belt safety glass helmet'],\n",
              "       ['approximately pm level cx bp circumstance worker company rock performed anchorage central pin anchoring drilling machine diamantina xrd bob cat assistant cristian inj ed made adjustment nut central bolt stilson key simultaneously jose control panel made movement rotation unit positioning clamp pin moment frame slid pressing thumb assistant left hand stilson key causing described inj due lack sec ing frame fixing bolt'],\n",
              "       ['plant work geho pump reducer n accompanying rotation shaft reducer mixed key wrench crown hit housing geho pump attributing union area fifth fo th finger welder right hand causing inj time accident equipment blocked employee used leather glove'],\n",
              "       ['carrying supply operation zinc powder container using crane move employee closed lower lock container making movement push lock made excessive effort thumb right hand causing sprain'],\n",
              "       ['level access a1 operator scissor carried support right gable platform arranged place split set drill squat position introduced bolt moment cocada support mesh fall crown piece rock 5cmx4cmx2cm 112gr approximate height 2m impacting cervical region collaborator causing lesion described time accident crown held collaborator used safety glass glove'],\n",
              "       ['level ing ore hauling activity locomotive op2 bine time convoy traveling hopper op1 assistant motorist riding saddle holding pole struck weakly split set suspended hdp pipeline gable work meter floor time accident assistant wearing safety equipment wearing seatbelt time accident split set accompanied movement path convoy'],\n",
              "       ['moment collaborator carried inspection conveyor belt tail pulley height load polymer maslucan collaborator heard noise note belt moving towards tail pulley fragmentos mineral fragment projected towards access ramp impacting collaborator evacuated medical post'],\n",
              "       ['conducting inspection evaluate activity carried pump house ustulation steam station struck sulf ic acid spill line located house thermal recovery boiler pump'],\n",
              "       ['inj ed woman performed cleaning cleaning sink collection room pierced finger fragment glass'],\n",
              "       ['ho mr jose performed erasing earthenware section ning machine alizado ironing concrete abruptly imprisoning left hand command equipment metal struct e causing atriction back left hand'],\n",
              "       ['performing carpentry work collaborator hit second finger left hand hammer held right hand causing bruise height nail evaluation carried medical center unit final diagnosis contusion finger'],\n",
              "       ['ing mining cycle chimney starting drilling work anchor lane alimak system collaborator squat pick manual tool platform moment jackleg team loses position project towards back collaborator generating inj'],\n",
              "       ['approximately nv cx mr francisco operator scoop observes polyethylene pipe thrown road proceeding lower equipment found lifting pipe hook right gable piece rock suspended lectro welded mesh impacting operator right eyebrow causing inj'],\n",
              "       ['ing withdrawal fixed jaw wedge crusher 41br01 hoisting device hook broken causing steel cable overhead crane strike left hand employee'],\n",
              "       ['ing maintenance lx p 205b pump projection silicate pulp reaching right leg employee'],\n",
              "       ['employee report ret ning anode easel even bumped side easel coming swing hit right shoulder causing bruise'],\n",
              "       ['moment worker mechanic workshop maintenance wire mining lamp hooked drill hole kg work table workshop fell impacted left foot causing minor bruise time accident collaborator used safety boot steel toecap'],\n",
              "       ['h mechanic duty section antonio observed activity withdrawal check pom d071 moment impacted pulp line discharge stuck causing irritation right part neck ear mechanic referred medical center evaluation'],\n",
              "       ['employee performing cutting activity carbon steel pipe attached band saw machine due uneven weight distribution tube moved downward end projected upwards pressing thumb'],\n",
              "       ['ing placement last support mesh cloth work moment ground inj ed collaborator reached electrowelded mesh operator scissor bolter positioned basket pressing mesh one protruding end mesh cross leather glove causing inj right hand'],\n",
              "       ['convoy locomotive operated mr tito located hopper op2 positioning 1st car hopper assistant observe anything ordinary dry load presence water initiate chute hydraulic module hopper switched control slightly move hopper handle untimely flow water mud splash operator generating described inj addition collaborator meter line fire'],\n",
              "       ['level gallery ing holding activity bolter equipment operator performs drilling first hole support right gable foot deep drill end drill rod break leaving thread inside drilling machine shank operator assistant decide make two empty percussion attempt free thread shank without success third attempt assistant enters corrugated iron central hole rest bar embedded shank generate press e moment operator activates percussion generates movement shank hit palm victim left hand generating described inj worker wearing safety glove time accident end corrugated iron contact left hand shaped like cane worker time accident positioned roof supported mesh split set'],\n",
              "       ['pm performing mag activity employee ilo da silva moving acquisition line came across small drainage approximately 40cm wide small gap traversed drainage employee rested right foot ravine came rest causing right ankle twist soon twisting activity paralyzed employee taken local hospital x ray taken examination made physician serious inj found small swelling released normal activity'],\n",
              "       ['time two assistant carrying bag cement weighing kg lamp loader suspended cm floor left foot one assistant slid hit edge baton'],\n",
              "       ['employee perform painting floor fuel tank area needed cleaning po ing water thinner floor bucket slipped hand mixt e projected onto left shoulder lower lip causing redness b ning'],\n",
              "       ['geological reconnaissance activity farm mr l zaro team composed felipe divino de morais normal activity encountered ciliary forest needed enter forest verify rock outcrop front divine realized opening access machete moment took bite neck attack allergic reaction continued work normally work completed leaving forest access divine assistant attacked snake suffered sting forehead moment moved away area verified type allergic reaction ret ned normal activity'],\n",
              "       ['operator feeding bag big bag containing scrap zn sheet ing lifting loaded bag released hook hoist making abrupt contact liquid zinc f nace generating explosion causing operator hit liquid zinc'],\n",
              "       ['workshop end welding work small bolter equipment welder proceeds clean inside metal stool impregnated thinner flammable liquid help hammer screwdriver proceeds remove oxide hitting screwdriver hammer produce flash internal base stool produce slight b n right hand welder time accident welder us glove left hand'],\n",
              "       ['time collaborator performing evacuation inchancables mine present strip phase notice piece support mesh positioned frame ret n belt several attempt remove mesh belt movement using metal rake support mesh yield moving direction rotation ret n belt hitting collaborator hand metal struct e causing contusion left hand time accident employee used leather glove'],\n",
              "       ['september approximately pm ing preventive maintenance g2142 debarking machine bearing assembly made anode cleaning roller fitting bearing final position staff used chisel pound rope position bearing worker place left hand near head chisel warp circumstance splinter embedded proximal part thumb left hand immediately collaborator communicates supervisor evacuated medical review'],\n",
              "       ['phase operator carried removal inchancanbles reciprocating feeder removing split set support rope staff support left hand struct e protection falling moment another split set come together load hit distal phalanx fifth finger left hand generating described inj'],\n",
              "       ['ing activity collecting soil collaborator milton ran branch attacked maribondos bitten twice head pain swelling allergic symptom continued activity'],\n",
              "       ['maintenance boltec level gts rampa xxx mechanic operator equipment performed test equipment magazine magazine carousel ned operator left middle finger pressed equipment frame'],\n",
              "       ['support process circumstance assistant performs last cut transverse length mesh mesh generates movement towards operator hit face causing described inj'],\n",
              "       ['employee checked acid leakage shipping area hit splash solution right hemiface'],\n",
              "       ['ing routine slimming activity kiln battery employee began remove waste inside crucible aid skimmer felt pain left shoulder'],\n",
              "       ['ing execution drilling target bolt brjcldd0006 made company servitecforaco probe july official josimar da silva moment maneuver fish material removing feeder water ing movement winch realized safety chain loose could l rod performing chain removal movement placed left hand hose cap hydraulic plate unlocking inner tube abrupt movement chain pushing hand towards hydraulic plate causing inj ring finger hand lesion caused cut 4th quirodactyl need sut e point close cut'],\n",
              "       ['activity placing board rack exchange fabric filter one plate inclined trying put plate correct position plate arm pressed back right hand struct e easel'],\n",
              "       ['employee report upon initiating rlc front loading activity performing emulsion preparation use displacement small rock fragment ceiling reaching left forearm'],\n",
              "       ['approximately mr wilmer approach c150 drying tower placement blanket cover entrance manhole tower moment manhole cover resting railing slide impacting right leg'],\n",
              "       ['ing activity revegetation slope pit pit ii employee hitting sledgehammer rod installation lifeline hit right leg causing slight excoriation'],\n",
              "       ['time collaborator passing tubo pvc pipe loader uncover fifth hole obstructed piece rock operator jetanol accidentally activates air valve causing loading pipe floor rise suddenly throwing prils anfo excess pipe cheekbone eyelid right eye victim'],\n",
              "       ['ing execution task assembling box testimony box area bonsucesso around orlando research driller geosol trying fit two part trestle third piece fell hand piece held causing small trauma left thumb employee referred lucas hospital paracatu ltda attended released without leaving work soon'],\n",
              "       ['moving field make geological mapping prospector marcos accompanied geologist manoel stooped deviate vegetation moment received whistling sting ring finger right hand allergic reaction activity followed normally event'],\n",
              "       ['approx pm mr victor time made visual inspection scaffolding suffered slight blow level right ear metallic extension chute conveyor chain'],\n",
              "       ['ing maintenance flyght pump rotor oil press e lubrication chamber caused chamber cover projected towards employee face striking superficially forehead causing inj'],\n",
              "       ['pm performing magnetometric using gps collaborator ant nio bumped top field hat branch attacked maribondos bitten behind ear another shoulder continued activity felt pain swelling'],\n",
              "       ['circumstance worker prepared food electric pot en ing lid fall head causing inj described'],\n",
              "       ['employee transiting toward cadmium factory near tank copper sulphate acid solution spilled direction reaching leg causing minor b n'],\n",
              "       ['ing maintenance work vertical pump zinc concentrate three mechanic performing lifting maneuver able position pump drawer instant pump becomes clogged reduced space work area order release pump place young lady lower part time released n untimely hitting middle finger inj ed person right hand trellex hose'],\n",
              "       ['employee sitting resting area level raise bore suffered sudden illness falling suffering excoriation face'],\n",
              "       ['circumstance two worker abratech company putty work inside conditioning tank meter deep covered platform metal grating grating upper part two employee hyt company carried maneuver transfer pump help manual tick worked hooked beam h dragging pump metal grating grating suddenly pump hooked metal grate grating trying release metal grid grating kg cm x cm fall inside tank hit diagonal channel inside tank impact right arm one worker rub helmet second worker crouching area bomb moved marked tape lookout'],\n",
              "       ['employee report lowered cloth p ification arranged cart would grab pipe pressing left hand cloth cart'],\n",
              "       ['igniting f nace battery reflux hot gas reaching face employee'],\n",
              "       ['employee milpo lima visited facility level waiting personnel cage go level drop water fall ceiling height meter approximately product slight filtration crown sustained shotcrete drop enters right eye causing discomfort right eye according employee time accident lens removed clean happened visit interior mine'],\n",
              "       ['phase iii concentrator plant maintenance personnel carried removal transmission belt flotation cell pb cleaning moment mechanic removed belt lean left leg slide towards grating floor leaving foot two pipe generating lesion described work carried floor level time accident staff put safety equipment'],\n",
              "       ['positioning scissor bolter n east stope meter top operator assistant verify ventilation sleeve obstruct support left gable decide section sleeve direct towards main corridor inj ed person decides climb roof equipment cabin face square meter carry reinstallation sectioned sleeve without noticing step empty fall equipment height meter time accident operator scissor bolter platform equipment positioned blocked perform maintenance assistant wearing safety helmet chin strap'],\n",
              "       ['performing shotcrete casting resane cruise nv p approximately operator placed left side equipment started release cubic meter time decided paralyze task minute due leak water roof box allow adhesion shotcrete rock setting restarting shotcrete launch operator left side moved right side equipment assistant operator mixkret see pumping went verify happened ret ned realized operator assume fallen chimney left job ask help immediately emergency response brigade medical service activated verify death collaborator accident investigation begin'],\n",
              "       ['ing process loading drill carmen pit level operator position basket anfo loader equipment height 3m floor carry loading production drill moment stone slab 4x0 7x0 detached front pit tilted lodged inside basket trapping right leg collaborator'],\n",
              "       ['ho mr cesar tello moinsac carrying work assembling water line climb cat ladder approximate height meter vanishes fall hitting way transferred medical center attention'],\n",
              "       ['region povoado vista martin pole ce employee f bio de vieira performed soil collection activity field together auxiliary manoel da silva diassis nascimento around crossing fence glove attached wire body projected forward causing slight twist left wrist team traveled city granja employee referred hospital consultation doctor diagnose fract e prescribing remedy local pain ice pack medical evaluation employee carry activity normally'],\n",
              "       ['employee performing adjustment tightening operation cutter blade worked neglected key slip causing blade equipment hit causing blunt cut right forearm'],\n",
              "       ['approx mr denis made mesh placed ventilation plug ladder trying wire tie suddenly imbalance due manipulation tool falling third step propici ndose blow right knee wound wrist right hand later evacuated post received first aid'],\n",
              "       ['manipulating material master drill truck operator decide make space moving radiator moment driver truck imprisoned little finger left hand bar'],\n",
              "       ['ing activity settling concrete block ventilation plug wall cx level circumstance worker made setting union concrete block polyethylene pipe diameter pick spike hit hit top worker protector'],\n",
              "       ['p performing geological mapping activity geologist manoel da silva accompanied geologist luciano do santos dayme make crossing side fence barbed wire known region goat fence base 60cm height made rod interlaced horizontally upwards made little barbed wire barbed around 20cm jumped fence still fence managed sweep vegetation left foot even supporting foot ground stump approximately 10cm x 1cm came break sole boot cause perforation left foot height finger'],\n",
              "       ['level formerly level hydraulic filling personnel performed installation diameter hdpe pipe ventilation chimney help yard scooptram held pushed end pipe pipe meter length moment pipe get stuck edge chimney causing pipe form arc height inj ed worker signal light lamp operator scooptram stop trying retire line fire worker loses balance light contact pipe causing fall level'],\n",
              "       ['operator cleaned spatula spear one window boiler time force action hit window frame causing inj little finger left hand operator epp boiler cleaning'],\n",
              "       ['ing maintenance locomotive n workshop level assistant pulling locomotive chair backwards stumble ventilation grille falling platform locomotive floor workshop height 17m generating inj time accident assistant used safety helmet chin strap'],\n",
              "       ['p approximately nv cx mr kevin helper jumbo removed drill rod drilling hole instant break chain subjection table drilling machine sliding achieving rubbing index finger left hand causing inj'],\n",
              "       ['ing process washing material becker tip material broken caused cut 5th finger right hand'],\n",
              "       ['rp level circumstance worker company performing task diamond drilling assistant jhonatan inj ed nilton preparing increase hq perforation pipe located scaffolding mr jhonatan lift one end tube support pulley equipment frame end working scaffolding moment mr nilton lift end hq pipe scaffolding position frame upper part pipe come pulley falling striking right hand worker jhonatan bolt lateral part frame causing inj described'],\n",
              "       ['employee engaged removal material excavation well level using shovel placing bucket ing day material fell pipe employee boot friction boot calf caused superficial inj leg'],\n",
              "       ['level access a2 operator scissor performed support crown time piece rock 13cmx6cmx2cm 54g pass cocada support mesh height meter towards platform team breaking particle one reach right eye causing inj'],\n",
              "       ['employee rcio rgio performed pump pipe clearing activity fz1 ing removal suction spool flange bolt projection pulp causing inj y'],\n",
              "       ['sunday collaborator go medical center saying accident day ago performed internal maintenance work heat exchanger defined confined space risk b ning acid leaving confined space employee remove protective glove without passed emergency shower moment skin contact occ sulfate generating lesion'],\n",
              "       ['auxiliary general service paulo e silva month day work performing activity soil collection ing movement equipment next point holding lever encountered piece sloping ground interlaced vegetation caused fall left side tool held rapid fall prevented employee leaning causing shock elbow ground employee continued activity another point sample collection felt arm bothering'],\n",
              "       ['end rock break intersection ramp opening access ventilation chimney master loader identifies rock mesh proceeding unload end decides verify still remains positioning line fire time fragment rock fall 5x4x3cm gr cocada mesh impacting lens helmet causing inj'],\n",
              "       ['circumstance employee made connection electric cable jumbo operator feel discomfort face cleaning hand using rubber glove generating superficial laceration small wound left cheekbone'],\n",
              "       ['topographic vey stp east zone victim co worker decide continue work stp west inj ed person walk behind co worker meter arriving loading zone intersection rpa st inj ed person asks sccop operator stop pas equipment stopped victim pass behind partner stuck gable trying avoid accumulation water take third step puddle inj ed person step false fall floor causing inj'],\n",
              "       ['due accumulation waelz conveyor trailer filter 08fi0502 employee performed cleaning shutter using air lance prised fall product door passing neck collar aramid jacket causing b n neck shoulder'],\n",
              "       ['rb machine lifted weight tn cm floor level accidently proceeds pull rb machine key ton maximum cap lay floor advancing cm horizontally anchor bolt pig tail type diameter key hooked break transversely pulling force key projected onto inj ed person left shoulder causing inj inj ed meter key time incident assistant meter away order cleaning'],\n",
              "       ['time fo employee lowered metal sheet 5mx1 8m 80kg towards floor height cm assembly assistant timely remove hand trapping ring finger iron loose earth causing contusion ring finger collaborator time event use maneuver glove'],\n",
              "       ['ing activity chuteo ore hopper op5 operator locomotive park equipment hopper fill first car moment blowing release load mud flow suddenly appears presence rock fragment personnel direction flow covered mud'],\n",
              "       ['circumstance operator bolter n went ladder height resting platform floor level slip balance hitting yo back handrail operator door time event inj ed person used epp'],\n",
              "       ['circumstance mechanical technician work colleague arranged accommodate spare rollover small platform cart floor two squat collaborator decide push one side time one edge rollover imprisons third finger left hand handle cart right side causing wound third finger left hand time accident employee used respective glove'],\n",
              "       ['ing exchange shock bearing housing employee used sledgehammer hit pipe stage activity hammer hit stepladder close coming hand tool projected onto left hand thumb holding piece'],\n",
              "       ['carrying refractory brick chopping activity order place support bus bar section particle detached hitting assistant right arm one meter away work area provoking wound arm treated medical center ret ned usual duty'],\n",
              "       ['employee performed ret n load entrance debarking machine trying align cathode pressed right hand'],\n",
              "       ['geologist auxiliary ademir traveled field evaluate geological point following gps near drainage following state highway give access aripuan area stopped got vehicle see point identified gps rio distancing five meter vehicle following road prised two bite thorn face quickly h ried back vehicle moving away place clerk wearing girdle goggles still wearing glove would enter forest area allergic reaction'],\n",
              "       ['time worker technician mr orlando boltec cia wanted pas hand stacker sardinel technician pulled hydraulic arm mr pushing nail equipment reaching trench rim tied team n forward falling technician'],\n",
              "       ['ing ref bishment work hdpe pipe diameter two worker worker sec ed pipe chain standing basket ampoloader raised height ground pipe slipped impacted arm right causing inj radius right arm'],\n",
              "       ['approximately nv cx ob7 personnel begin task unlocking soquet bolt bhb machine penultimate bolt identified hexagonal head worn proceeding mr crist bal auxiliary assistant climb platform exert press e yo hand dado key prevent coming bolt moment two collaborator rotate lever anti clockwise direction leaving key bolt hitting palm left hand causing inj'],\n",
              "       ['performing cleaning activity area near tc grinding employee handling block triangular shaped rock meas ing b 53cm x h 42cm x e 12cm ing movement lost balance falling rock thumb left hand inj ing'],\n",
              "       ['circumstance operator going level level noticed hydraulic pump inspection cover x32 x3 kg approx fall stopped equipment activates cat climb upper part equipment moment accommodated cover slide middle finger causing inj'],\n",
              "       ['179th block nv ob moment messrs roger inj ed cleaned 14th drill radial mesh inclined shape right gable moment detaches fragment rock 5x5x2 cm impacting shoulder'],\n",
              "       ['office incimmet circumstance environment set place cleaning material wooden strip placed staircase struct e container strip cut size accident victim coordinated partner put press e using hammer holding right hand frame press e placed strip pushed side container creating opening corrugated iron wall time continuing hit ribbon fall causing wall container ret n initial position pressing tip little finger right hand corrugated iron causing accident'],\n",
              "       ['circumstance two worker company incimmet made loading explosive using equipment anfoloader front work sustained shotcreterepentinamente right superior part crown piece rock approx kg 2mx0 15mx0 10m impacting basket back helper basket suspended height moment later block rock detached wall gable approx kg 20mx1 10mx0 40m impact ampoloader team part block inj e operator ampoloader team standing ground equipment anfoloader cabin protection rops fop time accident worker used helmet safety boot suffered polyontusions minor scoria inj y'],\n",
              "       ['ing activation sodium sulphide pump piping uncoupled sulfide solution designed area reach maid immediately made use emergency shower directed ambulatory doctor later hospital note sulphide solution gram liter'],\n",
              "       ['auxiliary wheel cathode crane g2133 changed area bearing heated hit hammer chisel one end bearing track detachment bearing piece occ red impacting thigh right leg producing cut ambulance called transferred clinic'],\n",
              "       ['entering caustic soda containment basin place hose make suction stage steam formation striking employee right left calf'],\n",
              "       ['circumstance worker walking along straight line level step rock approximately cm x cm bending right ankle caused inj described event occ red worker decided report accident feel pain p approximately begin feel discomfort walking progressive mild pain ankle moment communicates event'],\n",
              "       ['upon entering mine interior bodeguero located litorina n last convoy ing displacement litorina derails advance approximately meter operator observes event entering entrance gate paralyzes displacement convoy winemaker full epps'],\n",
              "       ['operator willing manually displace zinc sheet adhered aluminum cathode moment blade detached blade released cathode bending grazing collaborator right hand producing small cut knuckle finger worker made use glove leather worker transferred medical unit first aid'],\n",
              "       ['employee partner company gr report cutting watermelon inj ed 2nd chirodactilo left hand knife'],\n",
              "       ['removing cap wear plate warman lx bb pump left hand employee glove slipped came contact cutting part board'],\n",
              "       ['operator center demag iv performing maintenance transporting hydraulic cylinder help another operator official unbalanced coming cylinder carried press finger left thumb pillar support oven specified fig e'],\n",
              "       ['ground team coordinated prospector assistant da silva wila p prong opening access collect soil sample auxiliar came across tried divert meter right place moment diversion came across marimbondo house front giving time action since thug already agitated da silva time sting head another behind neck sting face since allergy test verified allergic reaction washed affected part ret ned normal activity'],\n",
              "       ['ore loading lt locomotive completed penultimate car derails 7th car presence fragment rock railway line weight car mineral ton get back track mining car victim make use metal tube length meter diameter maneuver reposition mining car moment metallic tube loses stability imprisons victim hand strut mining car collaborator time event towards use leather glove'],\n",
              "       ['operator descending ladder sailor step fall floor going 3er step falling back hitting head worker used chin strap helmet safety element reduced inj blow treated medical center local treatment referred clinic evaluation'],\n",
              "       ['performing doosan rb equipment hammer repair employee try remove suspender support pound rope moment receiving blow brace bolt cause splinter released expelling impacting lower left limb causing metal embedding collaborator notice immediately'],\n",
              "       ['employee report trying unlock cathodic sheet digger realize blade pressed cable projected hit face'],\n",
              "       ['approximately pm operator paulo operator filter informed autoclave operator via radio leak side scruber autoclave iii feed stopped control official georli renato initiated proced e closing autoclave transfer valve flash tqs soon break chicken projecting pulp hot reaching three employee inside room near equipment'],\n",
              "       ['carried mechanized support scissor heavy equipment operator pick water supply hose towards drum equipment heading towards cabin scissor way piece rock cm high approx displaces sliding right foot causing inj described'],\n",
              "       ['employee report performed routine activity area electrolysis trying position one cathode sheet easel hit sleeve caused cut superficially left hand'],\n",
              "       ['handling lever move sludge employee moved making pendulum movement striking chin'],\n",
              "       ['mr emerson moving tray climbing staircase give access former dining room finding last step slip fall floor supporting body forward suffering blow right knee floor well nose metal tray carrying causing cut nose ematoma knee'],\n",
              "       ['employee report performed activity area ustulaci n coordination maintenance hit dust ustulado causing irritation eye region'],\n",
              "       ['mooring faneles detonating cord completed inj ed person proceeds tie detonating cord safety guide slow wick distance meter top work moment finish mooring rock bank 30cm x 50cm x 15cm kg front height meter fall floor close inj ed disintegrates several fragment one 12cmx10cmx3cm kg slide fragment rock impact left leg victim time accident operator used safety boot accompanied supervisor'],\n",
              "       ['face dining room employee unit collaborator performed chicken habilitation lunch using kitchen knife come contact distal part second finger left hand causing inj described ing accident employee use specific height glove type work'],\n",
              "       ['employee report performed soldering activity hit eye region dust found thermal insulation causing irritation'],\n",
              "       ['employee performing drilling activity lm17 probe level gps positioning needle stem came hit left hand ring finger retraction box causing superficial inj'],\n",
              "       ['moment extracting bolt chuck rotation unit vsd instant made hit rope 6lbs base support bolt fragment metal struct e projected impacting face mechanic freddy described inj'],\n",
              "       ['employee clearing liquid zinc pump oven stepped platform became unbalanced twist left foot'],\n",
              "       ['preparing mount polypropylene tubing employee pulled pickup truck positioned place pressing finger tube concrete wall'],\n",
              "       ['technician ret ning activity bite stepped loose rock sloping region released unbalancing employee stepped false twisting ankle'],\n",
              "       ['h approx ho operator fernando ing opening wagon find hardened stake us bar approx 5m remove moment press bar hit hand'],\n",
              "       ['circumstance two worker abratech company putty work inside conditioning tank meter deep covered platform metal grating grating upper part two employee hyt company carried maneuver transfer pump help manual tick worked hooked beam h dragging pump metal grating grating suddenly pump hooked metal grate grating trying release metal grid grating kg cm x cm fall inside tank hit diagonal channel inside tank impact right arm one worker rub helmet second worker crouching area bomb moved marked tape lookout'],\n",
              "       ['deslaminator stop untimely operator lower lock machine verify fail e detecting locking sheet basket manipulator operator try arrange sheet manually pulling sheet one cut palm right hand edge sheet referred medical center attention'],\n",
              "       ['level f6m license plate went level face pilot trying locate radio answer call concrete plant distracted crash vehicle left gable vehicle n right side happens copilot hit right hand fragment broken glass window right side vehicle'],\n",
              "       ['completing welding work backhoe bucket made ho ing used glass moon welder feel slight discomfort eye transferred medical service evaluation ing accident welder used facial mask welding'],\n",
              "       ['employee removing strap chemical container projected toward reaching lower lip anterior chest strap contaminated caustic soda caused 1st degree b n'],\n",
              "       ['nv chamber accumulation aggregate worker made cast shotcrete towards crown work p perceives discomfort fogging full face decides take chooses use safety glass comfort continue thrown shotcrete p suffers projection shotcrete rebound particle left eye'],\n",
              "       ['approximately ho ing change cable z power cell locked cabinet z014 transformer loud noise followed oscillation electrical system moment collaborator queneche company eissa found floor head inside adjoining cell z cabinet blocked assigned work received electric shock'],\n",
              "       ['level access area operator scissor team preparing present second mesh continue support work operator pull support mesh share length equally side equipment moment roof work rock weighs approximately kg fall support mesh slide towards right side spoiler result mesh push operator kneeling floor platform generates lesion described rock falling directly impact operator squatting position operator move away area walking mean supported assistant'],\n",
              "       ['pm approx collaborator mr duval sampler preparing change remove bucket pulp sample plant co ier slipped fell ground supporting right hand generating lesion described'],\n",
              "       ['performing cleaning material mineral accumulates steel plate concrete base rest shown photograph steel plate thickness order complete cleaning worker decide weld steel plate support eyelet type end fixed point fastening pin helical support way lift plate help key remove accumulated material instant pulling chain tecla inj ed one left hand resting concrete wall line fire product tension exerted tecle helical bolt break chain lash index finger generating inj time accident accident victim used epps including glove'],\n",
              "       ['employee report placed air lance tank opened manual air valve projection acid solution heated toward reaching front left thigh'],\n",
              "       ['employee report assisted maintenance activity tower electrolysis stepped grp grid polymer glass floor moving causing fall event took place stage displacement fall floor span receiving effort employee fall 60m grp floor side gutter floor supporting struct e employee fall lower level 35m grp floor'],\n",
              "       ['p approximately nv tecnomin winery mr chagua bodeguero alone cutting wire grinder previously removed protection guard disk inch diameter adapted disk crosscutter approximately inch originating traumatic amputation two finger left hand'],\n",
              "       ['employee report draining ammonia used refrigerant container water splash solution drained onto face'],\n",
              "       ['master additive taken afo license plate towards launching team collaborator bonifacio robot assistant moment received bucket emptiness operator enoc feel drop drop additive right eye feeling b ning sensation immediately go wash affected eye team eye collaborator evacuated natclar time accident employee glass using correctly'],\n",
              "       ['employee report handling air conditioning pressed 2nd right chirodactilo causing contusion'],\n",
              "       ['ing environmental monitoring activity area employee prised swarming swarm weevil ing exit place end ed suffering two sting one face middle finger left hand'],\n",
              "       ['ing pre use inspection jumbo check list equipment operator equipment find behind seat plastic bottle filled liquid apparently mineral water without label labeling take bottle take small sip liquid expelling immediately noticing water immediately proceeds wash enough water transferred medical center yo attention liquid contact esengrasante product equipment machinery low toxicity'],\n",
              "       ['employee descending ladder inspection milling cyclone give access floor behind mill platform isc mg26 floor gave way fell height approximately meter meter material ore platform decreasing height fall impact'],\n",
              "       ['sub station milpo located level collaborator excavation work pick hand tool hitting rock flat part beak bounce hitting steel tip safety shoe metatarsal area left foot collaborator causing inj'],\n",
              "       ['ing assembly activity polypropylene pipe diameter employee stepped pipe flange twisted right foot'],\n",
              "       ['employee transiting grs area came slip suffering twist left knee'],\n",
              "       ['circumstance dump truck laden ore entered unload backwards upper part via la laquia operator notice unevenness road approximately one meter approaching edge overt ning truck right side operator traveled alone truck made use safety belt helmet glass time accident ing unloading process two square accident site test alcohotest operator negative'],\n",
              "       ['check list area vey operator slipped foliage leucenas fell'],\n",
              "       ['circumstance ahk license plate empresa serf supervision cma carried field inspection upper bank unexpectedly climbing operational access positive ramp slide excavated area approximately meter high remaining position front part floor occupant vehicle made use safety belt complete epps'],\n",
              "       ['worker c sar inj ed nilton receive order immediate supervisor rom n carry assembly activity brace length approximate weight kg struct e nro belt said collaborator lift brace approach installation point leaving one end ground resting corner pedestal approximate height cm carrying planning work inj ed person lift end part floor n position assembly moment end fall generating imprisonment finger left hand staff taken medical center supervisor'],\n",
              "       ['mr walter putting tool hopper atlas truck parked cruise level ob2b mining operation van arrived driven engineer parked behind truck atlas approximately meter without placed safety block went request data drilling later assistant simba opened gate dropping bit hopper mine truck untimely vehicle moved forward pinning mechanic right leg'],\n",
              "       ['moment staff impromec company heading towards pique support shotcrete casting job one electrician identify lane water road right leg enters gutter depth causing inj service litorina paralyzed entrance personnel'],\n",
              "       ['conducting inspection evaluate activity carried pump house ustulation steam station hit sulf ic acid spill line located pump house thermal recovery boiler'],\n",
              "       ['55h september worker confipetrol carried industrial cleaning outside acid reduction tank d2055 check progress helmet mask moment hose pipe released sec ed press e clamp water air impacting lip'],\n",
              "       ['worker yaranga working barretilla stop level unloading metal mesh basket ampoloader operator juan barretilla embedded safety boot reacting immediately worker removing limb force managing release foot producing wound right foot'],\n",
              "       ['loading two blown hole previous blasting use telescopic ladder master loader pull ladder detaching upper support point mt height fragment rock 3cm x 3cm x cm gr projected right end ladder hitting master loader cheekbone upper lip producing lesion described master shipper used safety glass'],\n",
              "       ['locomotive operated maperu personnel directed wagon loaded ore op4 waste bin next waste bin patrol car go back wagon moment passed change track left rear wheel patrol car leaf rail advancing locomotive leaving patrol car tilted ahead assistant motorist traveled alone patrol car remained inside struct e suffered minor bruise'],\n",
              "       ['approximately workshop mechanical maintenance face mr orlando boltec assistant mr macedonio made cut link shorten distance chain hold injection hose resin instant saw blade leaf cutting position affecting second finger left hand causing inj'],\n",
              "       ['employee sanding piece electrolysis end operation protective cap disk spun back left hand'],\n",
              "       ['performing cleaning lhd block f level operator prised rock block displacement side gallery reaching right leg causing superficial inj'],\n",
              "       ['approximately marco isidro torres performing pipe standardization cx cx nv moment marco lift air pipe spike seat pipe impact worker safety guard'],\n",
              "       ['cutting vegetation open bite using sickle assistant struck vine twice liana rupt ed top branch projected face auxiliary causing cut upper lip'],\n",
              "       ['installing ripper pin tractor d6t n1 ripper support arm slide pressing second third finger right hand base ripper causing inj described'],\n",
              "       ['circumstance collaborator juveni performed washing tabolas pot washing area suffers feeling dizziness faintness causing fall level producing slight concussion head'],\n",
              "       ['carrying maneuver increase hq pipe line driller wilder indicates assistant gilton introduce inner pipe drill assistant introduces inner pipe place hand box pipe driller without noticing move pipe assistant hand open chuck rotation unit dropping pipe imprisoning inj ed person right hand causing inj'],\n",
              "       ['worker carried disassembly scaffolding body pulpomatic thickener d2251 dismantling base scaffold located approximately one meter high floor sump rivet anchor support platform broken causing fall worker impacting right knee support anchored one horizontal scaffolding struct e'],\n",
              "       ['due overheating bar row cell spark produced projected manages reach chief guard corridor producing first degree b n neck'],\n",
              "       ['ing withdrawal cathode sample employee came press finger tool cut sample'],\n",
              "       ['pm approximately nv ob5 cx mr cesar operator mine service instant picking cat position one truck crane plate acl raising right hand lower part cat indexed index finger left hand body cylinder valve cat valve ntable upper part'],\n",
              "       ['averaging operator daniel removed cleaning accessory mobile channel line supported left hand rail motion moment crushing 2nd finger left hand occ inj occ collaborator referred medical care'],\n",
              "       ['employee report performed routine activity foundry area necessary fit last zamac ingot one package point ingot slipped hit back right foot causing pain safety footwear worn employee steel toe metatarsal protector'],\n",
              "       ['around 30hs ing rent sediment activity collaborator warley took bee sting neck using screen bee entered bottom screen sting team decided leave workplace due presence bee collaborator reaction continued work normally']],\n",
              "      dtype=object)"
            ]
          },
          "metadata": {
            "tags": []
          },
          "execution_count": 400
        }
      ]
    },
    {
      "cell_type": "markdown",
      "metadata": {
        "id": "JE9AHOZxBmeT"
      },
      "source": [
        "##Perform Train/Test Split on Dataset"
      ]
    },
    {
      "cell_type": "code",
      "metadata": {
        "id": "JF_CcA1tvZXH"
      },
      "source": [
        "from sklearn.model_selection import train_test_split\n",
        "\n",
        "train, test = train_test_split(df1, test_size = 0.2, random_state = 123, shuffle = True)"
      ],
      "execution_count": null,
      "outputs": []
    },
    {
      "cell_type": "code",
      "metadata": {
        "colab": {
          "base_uri": "https://localhost:8080/"
        },
        "id": "MjvD7Z8EwVAd",
        "outputId": "80ac73b0-5654-4251-dc1b-404b2bd73edb"
      },
      "source": [
        "train_AccLevel = np.asarray(pd.get_dummies(train.AccLevel), dtype = np.int8)\n",
        "train_AccLevel.shape"
      ],
      "execution_count": null,
      "outputs": [
        {
          "output_type": "execute_result",
          "data": {
            "text/plain": [
              "(340, 5)"
            ]
          },
          "metadata": {
            "tags": []
          },
          "execution_count": 402
        }
      ]
    },
    {
      "cell_type": "code",
      "metadata": {
        "colab": {
          "base_uri": "https://localhost:8080/"
        },
        "id": "sm7funHawewN",
        "outputId": "f94ab446-d563-4322-ed48-31575a433606"
      },
      "source": [
        "test_Decription = test['Description'].tolist()\n",
        "test_Decription = np.array(test_Decription, dtype=object)[:, np.newaxis]\n",
        "test_Decription.shape"
      ],
      "execution_count": null,
      "outputs": [
        {
          "output_type": "execute_result",
          "data": {
            "text/plain": [
              "(85, 1)"
            ]
          },
          "metadata": {
            "tags": []
          },
          "execution_count": 403
        }
      ]
    },
    {
      "cell_type": "code",
      "metadata": {
        "colab": {
          "base_uri": "https://localhost:8080/"
        },
        "id": "68C05Yw8w2MG",
        "outputId": "ad60901f-d116-4064-f8ae-f2aac5313f77"
      },
      "source": [
        "test_AccLevel = np.asarray(pd.get_dummies(test.AccLevel), dtype = np.int8)\n",
        "test_AccLevel.shape"
      ],
      "execution_count": null,
      "outputs": [
        {
          "output_type": "execute_result",
          "data": {
            "text/plain": [
              "(85, 5)"
            ]
          },
          "metadata": {
            "tags": []
          },
          "execution_count": 404
        }
      ]
    },
    {
      "cell_type": "markdown",
      "metadata": {
        "id": "jYBRU1zw-aEH"
      },
      "source": [
        "##Load the Universal Sentence Encoder as variable \"embed\""
      ]
    },
    {
      "cell_type": "code",
      "metadata": {
        "id": "AW6PmP09opzn"
      },
      "source": [
        "module_url = \"https://tfhub.dev/google/universal-sentence-encoder/2\" #@param [\"https://tfhub.dev/google/universal-sentence-encoder/2\", \"https://tfhub.dev/google/universal-sentence-encoder-large/3\"]"
      ],
      "execution_count": null,
      "outputs": []
    },
    {
      "cell_type": "code",
      "metadata": {
        "id": "4foztIGSos00"
      },
      "source": [
        "# Import the Universal Sentence Encoder's TF Hub module\n",
        "embed = hub.Module(module_url)"
      ],
      "execution_count": null,
      "outputs": []
    },
    {
      "cell_type": "code",
      "metadata": {
        "colab": {
          "base_uri": "https://localhost:8080/"
        },
        "id": "3QTGRHwUoyhM",
        "outputId": "4e6f1f42-72bf-4e3c-9bcb-ac45e7a538da"
      },
      "source": [
        "embed_size = embed.get_output_info_dict()['default'].get_shape()[1].value\n",
        "embed_size"
      ],
      "execution_count": null,
      "outputs": [
        {
          "output_type": "execute_result",
          "data": {
            "text/plain": [
              "512"
            ]
          },
          "metadata": {
            "tags": []
          },
          "execution_count": 407
        }
      ]
    },
    {
      "cell_type": "markdown",
      "metadata": {
        "id": "BPXUijH--S2l"
      },
      "source": [
        "##Build the Keras model"
      ]
    },
    {
      "cell_type": "markdown",
      "metadata": {
        "id": "19RlWITL5RnR"
      },
      "source": [
        "###Wrap embed module in a Lambda layer\n",
        "Explicitly cast the input as a string"
      ]
    },
    {
      "cell_type": "code",
      "metadata": {
        "id": "loujQB_Fo1p7"
      },
      "source": [
        "def UniversalEmbedding(x):\n",
        "    return embed(tf.squeeze(tf.cast(x, tf.string)), signature=\"default\", as_dict=True)[\"default\"]"
      ],
      "execution_count": null,
      "outputs": []
    },
    {
      "cell_type": "code",
      "metadata": {
        "id": "HZeodJzso7WD"
      },
      "source": [
        "#input_text = layers.Input(shape=(1,), dtype=tf.string)\n",
        "#embedding = layers.Lambda(UniversalEmbedding, output_shape=(embed_size,))(input_text)\n",
        "#dense = layers.Dense(256, activation='relu')(embedding)\n",
        "#pred = layers.Dense(cat_counts, activation='softmax')(dense)\n",
        "#model = Model(inputs=[input_text], outputs=pred, trainable = False)"
      ],
      "execution_count": null,
      "outputs": []
    },
    {
      "cell_type": "code",
      "metadata": {
        "id": "AI1Rj7Q7FNLC"
      },
      "source": [
        "from tensorflow.keras.layers import Dense, LSTM, Embedding, Dropout, Flatten, Bidirectional, GlobalMaxPool1D,GlobalAveragePooling1D\n",
        "\n",
        "input_text = layers.Input(shape=(512,), dtype=tf.string)\n",
        "embedding = layers.Lambda(UniversalEmbedding, output_shape=(embed_size,))(input_text)\n",
        "#lst = layers.LSTM(units=128 , return_sequences = True, recurrent_dropout = 0.5 , dropout = 0.5)(embedding)\n",
        "dense = layers.Dense(256, activation='relu')(embedding)\n",
        "pred = layers.Dense(cat_counts, activation='softmax')(dense)\n",
        "model = Model(inputs=[input_text], outputs=pred, trainable = True)"
      ],
      "execution_count": null,
      "outputs": []
    },
    {
      "cell_type": "markdown",
      "metadata": {
        "id": "od_U9N7KCA5f"
      },
      "source": [
        "##Compile the Model"
      ]
    },
    {
      "cell_type": "code",
      "metadata": {
        "id": "ZjV9MpCZB563"
      },
      "source": [
        "model.compile(loss='categorical_crossentropy', optimizer='adam', metrics=['accuracy'])"
      ],
      "execution_count": null,
      "outputs": []
    },
    {
      "cell_type": "markdown",
      "metadata": {
        "id": "Y1_QTh4J-r_Z"
      },
      "source": [
        "##View the model summary"
      ]
    },
    {
      "cell_type": "code",
      "metadata": {
        "colab": {
          "base_uri": "https://localhost:8080/"
        },
        "id": "Kix8r7Oy-192",
        "outputId": "db5baa40-c8ca-4508-ed89-84cb55e4df82"
      },
      "source": [
        "model.summary()"
      ],
      "execution_count": null,
      "outputs": [
        {
          "output_type": "stream",
          "text": [
            "Model: \"model_9\"\n",
            "_________________________________________________________________\n",
            "Layer (type)                 Output Shape              Param #   \n",
            "=================================================================\n",
            "input_25 (InputLayer)        (None, 512)               0         \n",
            "_________________________________________________________________\n",
            "lambda_16 (Lambda)           (None, 512)               0         \n",
            "_________________________________________________________________\n",
            "dense_23 (Dense)             (None, 256)               131328    \n",
            "_________________________________________________________________\n",
            "dense_24 (Dense)             (None, 5)                 1285      \n",
            "=================================================================\n",
            "Total params: 132,613\n",
            "Trainable params: 132,613\n",
            "Non-trainable params: 0\n",
            "_________________________________________________________________\n"
          ],
          "name": "stdout"
        }
      ]
    },
    {
      "cell_type": "markdown",
      "metadata": {
        "id": "BfhgDxow5acu"
      },
      "source": [
        "###Train Keras model and save weights\n",
        "- Train the model with the training datasets\n",
        "- Validate its performance at the end of each training epoch with test datasets.\n",
        "- This only train and save our Keras layers not the embed module' weights."
      ]
    },
    {
      "cell_type": "code",
      "metadata": {
        "colab": {
          "base_uri": "https://localhost:8080/",
          "height": 357
        },
        "id": "DOTmqi91xArR",
        "outputId": "40ccae3f-e93c-43e8-b409-7c52ff991eda"
      },
      "source": [
        "with tf.Session() as session:\n",
        "  K.set_session(session)\n",
        "  session.run(tf.global_variables_initializer())\n",
        "  session.run(tf.tables_initializer())\n",
        "  history = model.fit(train_Description, \n",
        "            train_AccLevel,\n",
        "            validation_data=(test_Decription, test_AccLevel),\n",
        "            epochs=10,\n",
        "            batch_size=32)\n",
        "  model.save_weights('./model.h5')"
      ],
      "execution_count": null,
      "outputs": [
        {
          "output_type": "error",
          "ename": "ValueError",
          "evalue": "ignored",
          "traceback": [
            "\u001b[0;31m---------------------------------------------------------------------------\u001b[0m",
            "\u001b[0;31mValueError\u001b[0m                                Traceback (most recent call last)",
            "\u001b[0;32m<ipython-input-412-7c51c4aeea63>\u001b[0m in \u001b[0;36m<module>\u001b[0;34m()\u001b[0m\n\u001b[1;32m      7\u001b[0m             \u001b[0mvalidation_data\u001b[0m\u001b[0;34m=\u001b[0m\u001b[0;34m(\u001b[0m\u001b[0mtest_Decription\u001b[0m\u001b[0;34m,\u001b[0m \u001b[0mtest_AccLevel\u001b[0m\u001b[0;34m)\u001b[0m\u001b[0;34m,\u001b[0m\u001b[0;34m\u001b[0m\u001b[0;34m\u001b[0m\u001b[0m\n\u001b[1;32m      8\u001b[0m             \u001b[0mepochs\u001b[0m\u001b[0;34m=\u001b[0m\u001b[0;36m10\u001b[0m\u001b[0;34m,\u001b[0m\u001b[0;34m\u001b[0m\u001b[0;34m\u001b[0m\u001b[0m\n\u001b[0;32m----> 9\u001b[0;31m             batch_size=32)\n\u001b[0m\u001b[1;32m     10\u001b[0m   \u001b[0mmodel\u001b[0m\u001b[0;34m.\u001b[0m\u001b[0msave_weights\u001b[0m\u001b[0;34m(\u001b[0m\u001b[0;34m'./model.h5'\u001b[0m\u001b[0;34m)\u001b[0m\u001b[0;34m\u001b[0m\u001b[0;34m\u001b[0m\u001b[0m\n",
            "\u001b[0;32m/tensorflow-1.15.2/python3.7/keras/engine/training.py\u001b[0m in \u001b[0;36mfit\u001b[0;34m(self, x, y, batch_size, epochs, verbose, callbacks, validation_split, validation_data, shuffle, class_weight, sample_weight, initial_epoch, steps_per_epoch, validation_steps, validation_freq, max_queue_size, workers, use_multiprocessing, **kwargs)\u001b[0m\n\u001b[1;32m   1152\u001b[0m             \u001b[0msample_weight\u001b[0m\u001b[0;34m=\u001b[0m\u001b[0msample_weight\u001b[0m\u001b[0;34m,\u001b[0m\u001b[0;34m\u001b[0m\u001b[0;34m\u001b[0m\u001b[0m\n\u001b[1;32m   1153\u001b[0m             \u001b[0mclass_weight\u001b[0m\u001b[0;34m=\u001b[0m\u001b[0mclass_weight\u001b[0m\u001b[0;34m,\u001b[0m\u001b[0;34m\u001b[0m\u001b[0;34m\u001b[0m\u001b[0m\n\u001b[0;32m-> 1154\u001b[0;31m             batch_size=batch_size)\n\u001b[0m\u001b[1;32m   1155\u001b[0m \u001b[0;34m\u001b[0m\u001b[0m\n\u001b[1;32m   1156\u001b[0m         \u001b[0;31m# Prepare validation data.\u001b[0m\u001b[0;34m\u001b[0m\u001b[0;34m\u001b[0m\u001b[0;34m\u001b[0m\u001b[0m\n",
            "\u001b[0;32m/tensorflow-1.15.2/python3.7/keras/engine/training.py\u001b[0m in \u001b[0;36m_standardize_user_data\u001b[0;34m(self, x, y, sample_weight, class_weight, check_array_lengths, batch_size)\u001b[0m\n\u001b[1;32m    577\u001b[0m             \u001b[0mfeed_input_shapes\u001b[0m\u001b[0;34m,\u001b[0m\u001b[0;34m\u001b[0m\u001b[0;34m\u001b[0m\u001b[0m\n\u001b[1;32m    578\u001b[0m             \u001b[0mcheck_batch_axis\u001b[0m\u001b[0;34m=\u001b[0m\u001b[0;32mFalse\u001b[0m\u001b[0;34m,\u001b[0m  \u001b[0;31m# Don't enforce the batch size.\u001b[0m\u001b[0;34m\u001b[0m\u001b[0;34m\u001b[0m\u001b[0m\n\u001b[0;32m--> 579\u001b[0;31m             exception_prefix='input')\n\u001b[0m\u001b[1;32m    580\u001b[0m \u001b[0;34m\u001b[0m\u001b[0m\n\u001b[1;32m    581\u001b[0m         \u001b[0;32mif\u001b[0m \u001b[0my\u001b[0m \u001b[0;32mis\u001b[0m \u001b[0;32mnot\u001b[0m \u001b[0;32mNone\u001b[0m\u001b[0;34m:\u001b[0m\u001b[0;34m\u001b[0m\u001b[0;34m\u001b[0m\u001b[0m\n",
            "\u001b[0;32m/tensorflow-1.15.2/python3.7/keras/engine/training_utils.py\u001b[0m in \u001b[0;36mstandardize_input_data\u001b[0;34m(data, names, shapes, check_batch_axis, exception_prefix)\u001b[0m\n\u001b[1;32m    143\u001b[0m                             \u001b[0;34m': expected '\u001b[0m \u001b[0;34m+\u001b[0m \u001b[0mnames\u001b[0m\u001b[0;34m[\u001b[0m\u001b[0mi\u001b[0m\u001b[0;34m]\u001b[0m \u001b[0;34m+\u001b[0m \u001b[0;34m' to have shape '\u001b[0m \u001b[0;34m+\u001b[0m\u001b[0;34m\u001b[0m\u001b[0;34m\u001b[0m\u001b[0m\n\u001b[1;32m    144\u001b[0m                             \u001b[0mstr\u001b[0m\u001b[0;34m(\u001b[0m\u001b[0mshape\u001b[0m\u001b[0;34m)\u001b[0m \u001b[0;34m+\u001b[0m \u001b[0;34m' but got array with shape '\u001b[0m \u001b[0;34m+\u001b[0m\u001b[0;34m\u001b[0m\u001b[0;34m\u001b[0m\u001b[0m\n\u001b[0;32m--> 145\u001b[0;31m                             str(data_shape))\n\u001b[0m\u001b[1;32m    146\u001b[0m     \u001b[0;32mreturn\u001b[0m \u001b[0mdata\u001b[0m\u001b[0;34m\u001b[0m\u001b[0;34m\u001b[0m\u001b[0m\n\u001b[1;32m    147\u001b[0m \u001b[0;34m\u001b[0m\u001b[0m\n",
            "\u001b[0;31mValueError\u001b[0m: Error when checking input: expected input_25 to have shape (512,) but got array with shape (1,)"
          ]
        }
      ]
    },
    {
      "cell_type": "code",
      "metadata": {
        "id": "gS9jI41nxAuP"
      },
      "source": [
        "!ls -alh | grep model.h5"
      ],
      "execution_count": null,
      "outputs": []
    },
    {
      "cell_type": "markdown",
      "metadata": {
        "id": "TrmC2T_E5eFX"
      },
      "source": [
        "##Make predictions\n",
        "We have the model trained and its weights saved to a file"
      ]
    },
    {
      "cell_type": "code",
      "metadata": {
        "id": "yF3ybvZOIw0r"
      },
      "source": [
        "#new_text = [\"In what year did the titanic sink ?\", \"What is the highest peak in California ?\", \"Who invented the light bulb ?\"]\n",
        "new_text = [\"The collaborator reports that he was on street 09 holding in his left hand the volumetric balloon ?\"]\n",
        "new_text = np.array(new_text, dtype=object)[:, np.newaxis]\n",
        "print(new_text)\n",
        "\n",
        "#embed5 = hub.load(\"https://tfhub.dev/google/universal-sentence-encoder-large/5\")\n",
        "embeddings = embed(new_text)\n",
        "print(embeddings)\n",
        "\n",
        "with tf.Session() as session:\n",
        "  session.run([tf.global_variables_initializer(), tf.tables_initializer()])\n",
        "  message_embeddings = session.run(embed(messages))\n",
        "\n",
        "  for i, message_embedding in enumerate(np.array(message_embeddings).tolist()):\n",
        "    print(\"Message: {}\".format(messages[i]))\n",
        "    print(\"Embedding size: {}\".format(len(message_embedding)))\n",
        "    message_embedding_snippet = \", \".join(\n",
        "        (str(x) for x in message_embedding[:3]))\n",
        "    print(\"Embedding: [{}, ...]\\n\".format(message_embedding_snippet))"
      ],
      "execution_count": null,
      "outputs": []
    },
    {
      "cell_type": "code",
      "metadata": {
        "id": "7ja-7oyrxAx_"
      },
      "source": [
        "cat_counts = train.AccLevel.cat.categories.tolist()\n",
        "print(cat_counts)\n",
        "\n",
        "with tf.Session() as session:\n",
        "  K.set_session(session)\n",
        "  session.run(tf.global_variables_initializer())\n",
        "  session.run(tf.tables_initializer())\n",
        "  model.load_weights('./model.h5')  \n",
        "  predicts = model.predict(new_text, batch_size=32)\n",
        "\n",
        "print(predicts)\n",
        "\n",
        "predict_logits = predicts.argmax(axis=1)\n",
        "predict_labels = [cat_counts[logit] for logit in predict_logits]\n",
        "predict_labels"
      ],
      "execution_count": null,
      "outputs": []
    },
    {
      "cell_type": "code",
      "metadata": {
        "id": "WzGNWoj4NTT6"
      },
      "source": [
        "message_embeddings.info"
      ],
      "execution_count": null,
      "outputs": []
    },
    {
      "cell_type": "code",
      "metadata": {
        "colab": {
          "base_uri": "https://localhost:8080/",
          "height": 374
        },
        "id": "rmouRrmtKXAO",
        "outputId": "5fc448a3-fd05-48d1-9b8c-63fe0a519cb7"
      },
      "source": [
        "from keras import backend as K\n",
        "\n",
        "# Compute a representation for each message, showing various lengths supported.\n",
        "#word = \"Elephant\"\n",
        "#sentence = \"I am a sentence for which I would like to get its embedding.\"\n",
        "sentence = [\"In the sub-station MILPO located at level +170 when the collaborator was doing the excavation work with a pick (hand tool), hitting a rock with the flat part of the beak, it bounces off hitting the steel tip of the safety shoe and then the metatarsal area of â€‹â€‹the left foot of the collaborator causing the injury.\"]\n",
        "sentence = np.array(sentence, dtype=object)[:, np.newaxis]\n",
        "#paragraph = (\n",
        "#    \"Universal Sentence Encoder embeddings also support short paragraphs. \"\n",
        "#    \"There is no hard limit on how long the paragraph is. Roughly, the longer \"\n",
        "#    \"the more 'diluted' the embedding will be.\")\n",
        "#messages = [word, sentence, paragraph]\n",
        "messages = [sentence]\n",
        "\n",
        "# Reduce logging output.\n",
        "tf.logging.set_verbosity(tf.logging.ERROR)\n",
        "\n",
        "#input_text = layers.Input(shape=(1,), dtype=tf.string)\n",
        "\n",
        "with tf.Session() as session:\n",
        "  K.set_session(session)\n",
        "  session.run([tf.global_variables_initializer(), tf.tables_initializer()])\n",
        "  message_embeddings = session.run(embed(sentence))\n",
        "  # print(message_embeddings.shape)\n",
        "  # print(message_embedding)\n",
        "  # #message_embeddings = layers.Input(shape=(1,), dtype=tf.string)\n",
        "  # #print(message_embedding)\n",
        "  # #shape = K.shape(message_embeddings) # tensor shape\n",
        "  # #print(shape)\n",
        "  # for i, message_embedding in enumerate(np.array(message_embeddings).tolist()):\n",
        "  #   print(\"Message: {}\".format(messages[i]))\n",
        "  #   print(\"Embedding size: {}\".format(len(message_embedding)))\n",
        "  #   message_embedding_snippet = \", \".join(\n",
        "  #       (str(x) for x in message_embedding[:3]))\n",
        "  #   print(\"Embedding: [{}, ...]\\n\".format(message_embedding_snippet))\n",
        "\n",
        "  # #message_embeddings = layers.Input(shape=(1,), dtype=tf.string)\n",
        "  model.load_weights('./model.h5')\n",
        "  predicts = model.predict(message_embeddings, batch_size=32)\n",
        "\n",
        "#with tf.Session() as session:\n",
        "#  K.set_session(session)\n",
        "#  session.run(tf.global_variables_initializer())\n",
        "#  session.run(tf.tables_initializer())\n",
        "#  model.load_weights('./model.h5')  \n",
        "#  predicts = model.predict(new_text, batch_size=32)\n",
        "\n",
        "print(predicts)\n",
        "\n"
      ],
      "execution_count": null,
      "outputs": [
        {
          "output_type": "error",
          "ename": "TypeError",
          "evalue": "ignored",
          "traceback": [
            "\u001b[0;31m---------------------------------------------------------------------------\u001b[0m",
            "\u001b[0;31mTypeError\u001b[0m                                 Traceback (most recent call last)",
            "\u001b[0;32m<ipython-input-419-d307083e42da>\u001b[0m in \u001b[0;36m<module>\u001b[0;34m()\u001b[0m\n\u001b[1;32m     21\u001b[0m   \u001b[0mK\u001b[0m\u001b[0;34m.\u001b[0m\u001b[0mset_session\u001b[0m\u001b[0;34m(\u001b[0m\u001b[0msession\u001b[0m\u001b[0;34m)\u001b[0m\u001b[0;34m\u001b[0m\u001b[0;34m\u001b[0m\u001b[0m\n\u001b[1;32m     22\u001b[0m   \u001b[0msession\u001b[0m\u001b[0;34m.\u001b[0m\u001b[0mrun\u001b[0m\u001b[0;34m(\u001b[0m\u001b[0;34m[\u001b[0m\u001b[0mtf\u001b[0m\u001b[0;34m.\u001b[0m\u001b[0mglobal_variables_initializer\u001b[0m\u001b[0;34m(\u001b[0m\u001b[0;34m)\u001b[0m\u001b[0;34m,\u001b[0m \u001b[0mtf\u001b[0m\u001b[0;34m.\u001b[0m\u001b[0mtables_initializer\u001b[0m\u001b[0;34m(\u001b[0m\u001b[0;34m)\u001b[0m\u001b[0;34m]\u001b[0m\u001b[0;34m)\u001b[0m\u001b[0;34m\u001b[0m\u001b[0;34m\u001b[0m\u001b[0m\n\u001b[0;32m---> 23\u001b[0;31m   \u001b[0mmessage_embeddings\u001b[0m \u001b[0;34m=\u001b[0m \u001b[0msession\u001b[0m\u001b[0;34m.\u001b[0m\u001b[0mrun\u001b[0m\u001b[0;34m(\u001b[0m\u001b[0membed\u001b[0m\u001b[0;34m(\u001b[0m\u001b[0msentence\u001b[0m\u001b[0;34m)\u001b[0m\u001b[0;34m)\u001b[0m\u001b[0;34m\u001b[0m\u001b[0;34m\u001b[0m\u001b[0m\n\u001b[0m\u001b[1;32m     24\u001b[0m   \u001b[0;31m# print(message_embeddings.shape)\u001b[0m\u001b[0;34m\u001b[0m\u001b[0;34m\u001b[0m\u001b[0;34m\u001b[0m\u001b[0m\n\u001b[1;32m     25\u001b[0m   \u001b[0;31m# print(message_embedding)\u001b[0m\u001b[0;34m\u001b[0m\u001b[0;34m\u001b[0m\u001b[0;34m\u001b[0m\u001b[0m\n",
            "\u001b[0;32m/usr/local/lib/python3.7/dist-packages/tensorflow_hub/module.py\u001b[0m in \u001b[0;36m__call__\u001b[0;34m(self, inputs, _sentinel, signature, as_dict)\u001b[0m\n\u001b[1;32m    263\u001b[0m     \u001b[0m_check_supported_types\u001b[0m\u001b[0;34m(\u001b[0m\u001b[0moutput_tensor_infos\u001b[0m\u001b[0;34m,\u001b[0m \u001b[0msignature\u001b[0m\u001b[0;34m,\u001b[0m \u001b[0;34m\"output\"\u001b[0m\u001b[0;34m)\u001b[0m\u001b[0;34m\u001b[0m\u001b[0;34m\u001b[0m\u001b[0m\n\u001b[1;32m    264\u001b[0m \u001b[0;34m\u001b[0m\u001b[0m\n\u001b[0;32m--> 265\u001b[0;31m     \u001b[0mdict_inputs\u001b[0m \u001b[0;34m=\u001b[0m \u001b[0m_convert_dict_inputs\u001b[0m\u001b[0;34m(\u001b[0m\u001b[0minputs\u001b[0m\u001b[0;34m,\u001b[0m \u001b[0minput_tensor_infos\u001b[0m\u001b[0;34m)\u001b[0m\u001b[0;34m\u001b[0m\u001b[0;34m\u001b[0m\u001b[0m\n\u001b[0m\u001b[1;32m    266\u001b[0m     dict_outputs = self._impl.create_apply_graph(\n\u001b[1;32m    267\u001b[0m         \u001b[0msignature\u001b[0m\u001b[0;34m=\u001b[0m\u001b[0msignature\u001b[0m\u001b[0;34m,\u001b[0m\u001b[0;34m\u001b[0m\u001b[0;34m\u001b[0m\u001b[0m\n",
            "\u001b[0;32m/usr/local/lib/python3.7/dist-packages/tensorflow_hub/module.py\u001b[0m in \u001b[0;36m_convert_dict_inputs\u001b[0;34m(inputs, tensor_info_map)\u001b[0m\n\u001b[1;32m    480\u001b[0m   \u001b[0mdict_inputs\u001b[0m \u001b[0;34m=\u001b[0m \u001b[0m_prepare_dict_inputs\u001b[0m\u001b[0;34m(\u001b[0m\u001b[0minputs\u001b[0m\u001b[0;34m,\u001b[0m \u001b[0mtensor_info_map\u001b[0m\u001b[0;34m)\u001b[0m\u001b[0;34m\u001b[0m\u001b[0;34m\u001b[0m\u001b[0m\n\u001b[1;32m    481\u001b[0m   return tensor_info.convert_dict_to_compatible_tensor(dict_inputs,\n\u001b[0;32m--> 482\u001b[0;31m                                                        tensor_info_map)\n\u001b[0m\u001b[1;32m    483\u001b[0m \u001b[0;34m\u001b[0m\u001b[0m\n\u001b[1;32m    484\u001b[0m \u001b[0;34m\u001b[0m\u001b[0m\n",
            "\u001b[0;32m/usr/local/lib/python3.7/dist-packages/tensorflow_hub/tensor_info.py\u001b[0m in \u001b[0;36mconvert_dict_to_compatible_tensor\u001b[0;34m(values, targets)\u001b[0m\n\u001b[1;32m    203\u001b[0m   \u001b[0;32mfor\u001b[0m \u001b[0mkey\u001b[0m\u001b[0;34m,\u001b[0m \u001b[0mvalue\u001b[0m \u001b[0;32min\u001b[0m \u001b[0msorted\u001b[0m\u001b[0;34m(\u001b[0m\u001b[0mvalues\u001b[0m\u001b[0;34m.\u001b[0m\u001b[0mitems\u001b[0m\u001b[0;34m(\u001b[0m\u001b[0;34m)\u001b[0m\u001b[0;34m)\u001b[0m\u001b[0;34m:\u001b[0m\u001b[0;34m\u001b[0m\u001b[0;34m\u001b[0m\u001b[0m\n\u001b[1;32m    204\u001b[0m     result[key] = _convert_to_compatible_tensor(\n\u001b[0;32m--> 205\u001b[0;31m         value, targets[key], error_prefix=\"Can't convert %r\" % key)\n\u001b[0m\u001b[1;32m    206\u001b[0m   \u001b[0;32mreturn\u001b[0m \u001b[0mresult\u001b[0m\u001b[0;34m\u001b[0m\u001b[0;34m\u001b[0m\u001b[0m\n\u001b[1;32m    207\u001b[0m \u001b[0;34m\u001b[0m\u001b[0m\n",
            "\u001b[0;32m/usr/local/lib/python3.7/dist-packages/tensorflow_hub/tensor_info.py\u001b[0m in \u001b[0;36m_convert_to_compatible_tensor\u001b[0;34m(value, target, error_prefix)\u001b[0m\n\u001b[1;32m    182\u001b[0m       \u001b[0mgot\u001b[0m \u001b[0;34m=\u001b[0m \u001b[0mstr\u001b[0m\u001b[0;34m(\u001b[0m\u001b[0mtensor_type_spec\u001b[0m\u001b[0;34m)\u001b[0m\u001b[0;34m\u001b[0m\u001b[0;34m\u001b[0m\u001b[0m\n\u001b[1;32m    183\u001b[0m       \u001b[0mexpected\u001b[0m \u001b[0;34m=\u001b[0m \u001b[0mstr\u001b[0m\u001b[0;34m(\u001b[0m\u001b[0mtarget_type_spec\u001b[0m\u001b[0;34m)\u001b[0m\u001b[0;34m\u001b[0m\u001b[0;34m\u001b[0m\u001b[0m\n\u001b[0;32m--> 184\u001b[0;31m     \u001b[0;32mraise\u001b[0m \u001b[0mTypeError\u001b[0m\u001b[0;34m(\u001b[0m\u001b[0;34m\"%s: Got %s. Expected %s.\"\u001b[0m \u001b[0;34m%\u001b[0m \u001b[0;34m(\u001b[0m\u001b[0merror_prefix\u001b[0m\u001b[0;34m,\u001b[0m \u001b[0mgot\u001b[0m\u001b[0;34m,\u001b[0m \u001b[0mexpected\u001b[0m\u001b[0;34m)\u001b[0m\u001b[0;34m)\u001b[0m\u001b[0;34m\u001b[0m\u001b[0;34m\u001b[0m\u001b[0m\n\u001b[0m\u001b[1;32m    185\u001b[0m   \u001b[0;32mreturn\u001b[0m \u001b[0mtensor\u001b[0m\u001b[0;34m\u001b[0m\u001b[0;34m\u001b[0m\u001b[0m\n\u001b[1;32m    186\u001b[0m \u001b[0;34m\u001b[0m\u001b[0m\n",
            "\u001b[0;31mTypeError\u001b[0m: Can't convert 'text': Got TensorSpec(shape=(1, 1), dtype=tf.string, name='Const_45'). Expected TensorSpec(shape=(?,), dtype=tf.string, name=None)."
          ]
        }
      ]
    }
  ]
}