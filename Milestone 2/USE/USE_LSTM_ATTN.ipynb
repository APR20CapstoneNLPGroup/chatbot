{
  "nbformat": 4,
  "nbformat_minor": 0,
  "metadata": {
    "colab": {
      "name": "USE_LSTM_ATTN.ipynb",
      "provenance": [],
      "collapsed_sections": []
    },
    "kernelspec": {
      "name": "python3",
      "display_name": "Python 3"
    },
    "accelerator": "GPU"
  },
  "cells": [
    {
      "cell_type": "code",
      "metadata": {
        "colab": {
          "base_uri": "https://localhost:8080/"
        },
        "id": "QHjLRONpXEpY",
        "outputId": "f4bba6cd-6dbc-4aa7-f5f7-27595f776223"
      },
      "source": [
        "# Mounting Google Drive\n",
        "from google.colab import drive\n",
        "drive.mount('/content/drive')"
      ],
      "execution_count": 1,
      "outputs": [
        {
          "output_type": "stream",
          "text": [
            "Mounted at /content/drive\n"
          ],
          "name": "stdout"
        }
      ]
    },
    {
      "cell_type": "code",
      "metadata": {
        "id": "U4ueEcjdXGzQ"
      },
      "source": [
        "# Setting the current working directory\n",
        "import os; os.chdir('/content/drive/MyDrive/AI_ML/Projects/Capstone-NLP')"
      ],
      "execution_count": 2,
      "outputs": []
    },
    {
      "cell_type": "markdown",
      "metadata": {
        "id": "bYLYN0uFzIbi"
      },
      "source": [
        "### Importing the necessary Libraries"
      ]
    },
    {
      "cell_type": "code",
      "metadata": {
        "id": "MCDtOFSVKFgi"
      },
      "source": [
        "import numpy as np\n",
        "import pandas as pd\n",
        "import matplotlib.pyplot as plt\n",
        "%matplotlib inline\n",
        "import seaborn as sns\n",
        "import re\n",
        "import random\n",
        "\n",
        "import pickle\n",
        "\n",
        "from sklearn.model_selection import train_test_split\n",
        "from sklearn.linear_model import LogisticRegression\n",
        "from sklearn.preprocessing import LabelEncoder\n",
        "from sklearn.preprocessing import OneHotEncoder\n",
        "from sklearn.metrics import accuracy_score\n",
        "\n",
        "from sklearn.metrics import classification_report, confusion_matrix, roc_curve"
      ],
      "execution_count": 3,
      "outputs": []
    },
    {
      "cell_type": "markdown",
      "metadata": {
        "id": "pdlIbPVXgJj8"
      },
      "source": [
        "## Load the dataset"
      ]
    },
    {
      "cell_type": "code",
      "metadata": {
        "id": "oaPEETXUKI-o",
        "colab": {
          "base_uri": "https://localhost:8080/",
          "height": 289
        },
        "outputId": "635015f0-e4c7-4d2b-f2ea-f36516b5a6d4"
      },
      "source": [
        "#Function 1.1 - Load the dataset\n",
        "\n",
        "def load_dataset(filename):\n",
        "  data = pd.read_csv(filename)\n",
        "  return data\n",
        "\n",
        "#Function 1.2 - Dataset Cleansing\n",
        "\n",
        "def data_cleansing_info(data):\n",
        "  data.drop(\"Unnamed: 0\", axis=1, inplace=True)\n",
        "  data.rename(columns={'Data':'Date', 'Countries':'Country', 'Accident Level' : 'AccLevel' ,  'Genre':'Gender', 'Employee or Third Party':'Employee type' , 'Potential Accident Level':'Pot_AccLevel', 'Critical Risk':'Cri_Risk'}, inplace=True)\n",
        "  return data.head(5), data.isnull().sum()\n",
        "\n",
        "data = load_dataset(\"IHMStefanini_industrial_safety_and_health_database_with_accidents_description.csv\")\n",
        "data.head()\n",
        "\n",
        "# Preparing the data for our model\n",
        "# Done some preprocessing on the dataset to the 5 acc level:\n",
        "\n",
        "# Data Cleansing\n",
        "# Name Corrections\n",
        "# Replace Roman numerals to Integers\n",
        "\n",
        "data_cleansing_info(data)\n",
        "data.head() #Column names corrected"
      ],
      "execution_count": 4,
      "outputs": [
        {
          "output_type": "execute_result",
          "data": {
            "text/html": [
              "<div>\n",
              "<style scoped>\n",
              "    .dataframe tbody tr th:only-of-type {\n",
              "        vertical-align: middle;\n",
              "    }\n",
              "\n",
              "    .dataframe tbody tr th {\n",
              "        vertical-align: top;\n",
              "    }\n",
              "\n",
              "    .dataframe thead th {\n",
              "        text-align: right;\n",
              "    }\n",
              "</style>\n",
              "<table border=\"1\" class=\"dataframe\">\n",
              "  <thead>\n",
              "    <tr style=\"text-align: right;\">\n",
              "      <th></th>\n",
              "      <th>Date</th>\n",
              "      <th>Country</th>\n",
              "      <th>Local</th>\n",
              "      <th>Industry Sector</th>\n",
              "      <th>AccLevel</th>\n",
              "      <th>Pot_AccLevel</th>\n",
              "      <th>Gender</th>\n",
              "      <th>Employee type</th>\n",
              "      <th>Cri_Risk</th>\n",
              "      <th>Description</th>\n",
              "    </tr>\n",
              "  </thead>\n",
              "  <tbody>\n",
              "    <tr>\n",
              "      <th>0</th>\n",
              "      <td>1/1/2016 0:00</td>\n",
              "      <td>Country_01</td>\n",
              "      <td>Local_01</td>\n",
              "      <td>Mining</td>\n",
              "      <td>I</td>\n",
              "      <td>IV</td>\n",
              "      <td>Male</td>\n",
              "      <td>Third Party</td>\n",
              "      <td>Pressed</td>\n",
              "      <td>While removing the drill rod of the Jumbo 08 f...</td>\n",
              "    </tr>\n",
              "    <tr>\n",
              "      <th>1</th>\n",
              "      <td>1/2/2016 0:00</td>\n",
              "      <td>Country_02</td>\n",
              "      <td>Local_02</td>\n",
              "      <td>Mining</td>\n",
              "      <td>I</td>\n",
              "      <td>IV</td>\n",
              "      <td>Male</td>\n",
              "      <td>Employee</td>\n",
              "      <td>Pressurized Systems</td>\n",
              "      <td>During the activation of a sodium sulphide pum...</td>\n",
              "    </tr>\n",
              "    <tr>\n",
              "      <th>2</th>\n",
              "      <td>1/6/2016 0:00</td>\n",
              "      <td>Country_01</td>\n",
              "      <td>Local_03</td>\n",
              "      <td>Mining</td>\n",
              "      <td>I</td>\n",
              "      <td>III</td>\n",
              "      <td>Male</td>\n",
              "      <td>Third Party (Remote)</td>\n",
              "      <td>Manual Tools</td>\n",
              "      <td>In the sub-station MILPO located at level +170...</td>\n",
              "    </tr>\n",
              "    <tr>\n",
              "      <th>3</th>\n",
              "      <td>1/8/2016 0:00</td>\n",
              "      <td>Country_01</td>\n",
              "      <td>Local_04</td>\n",
              "      <td>Mining</td>\n",
              "      <td>I</td>\n",
              "      <td>I</td>\n",
              "      <td>Male</td>\n",
              "      <td>Third Party</td>\n",
              "      <td>Others</td>\n",
              "      <td>Being 9:45 am. approximately in the Nv. 1880 C...</td>\n",
              "    </tr>\n",
              "    <tr>\n",
              "      <th>4</th>\n",
              "      <td>1/10/2016 0:00</td>\n",
              "      <td>Country_01</td>\n",
              "      <td>Local_04</td>\n",
              "      <td>Mining</td>\n",
              "      <td>IV</td>\n",
              "      <td>IV</td>\n",
              "      <td>Male</td>\n",
              "      <td>Third Party</td>\n",
              "      <td>Others</td>\n",
              "      <td>Approximately at 11:45 a.m. in circumstances t...</td>\n",
              "    </tr>\n",
              "  </tbody>\n",
              "</table>\n",
              "</div>"
            ],
            "text/plain": [
              "             Date  ...                                        Description\n",
              "0   1/1/2016 0:00  ...  While removing the drill rod of the Jumbo 08 f...\n",
              "1   1/2/2016 0:00  ...  During the activation of a sodium sulphide pum...\n",
              "2   1/6/2016 0:00  ...  In the sub-station MILPO located at level +170...\n",
              "3   1/8/2016 0:00  ...  Being 9:45 am. approximately in the Nv. 1880 C...\n",
              "4  1/10/2016 0:00  ...  Approximately at 11:45 a.m. in circumstances t...\n",
              "\n",
              "[5 rows x 10 columns]"
            ]
          },
          "metadata": {
            "tags": []
          },
          "execution_count": 4
        }
      ]
    },
    {
      "cell_type": "markdown",
      "metadata": {
        "id": "TPYNFoWOftCD"
      },
      "source": [
        "## Preparing the data for our model\n",
        "\n",
        "Done some preprocessing on the dataset to the 5 acc level:\n",
        "- Data Cleansing\n",
        "- Name Corrections"
      ]
    },
    {
      "cell_type": "code",
      "metadata": {
        "colab": {
          "base_uri": "https://localhost:8080/"
        },
        "id": "pe1QhobyzJ0c",
        "outputId": "71ab97b8-2bb8-4ac0-dcc9-a30f64e8008f"
      },
      "source": [
        "data.info()"
      ],
      "execution_count": 5,
      "outputs": [
        {
          "output_type": "stream",
          "text": [
            "<class 'pandas.core.frame.DataFrame'>\n",
            "RangeIndex: 425 entries, 0 to 424\n",
            "Data columns (total 10 columns):\n",
            " #   Column           Non-Null Count  Dtype \n",
            "---  ------           --------------  ----- \n",
            " 0   Date             425 non-null    object\n",
            " 1   Country          425 non-null    object\n",
            " 2   Local            425 non-null    object\n",
            " 3   Industry Sector  425 non-null    object\n",
            " 4   AccLevel         425 non-null    object\n",
            " 5   Pot_AccLevel     425 non-null    object\n",
            " 6   Gender           425 non-null    object\n",
            " 7   Employee type    425 non-null    object\n",
            " 8   Cri_Risk         425 non-null    object\n",
            " 9   Description      425 non-null    object\n",
            "dtypes: object(10)\n",
            "memory usage: 33.3+ KB\n"
          ],
          "name": "stdout"
        }
      ]
    },
    {
      "cell_type": "markdown",
      "metadata": {
        "id": "0vJVswTczjX6"
      },
      "source": [
        "**The data type of all columns is object**"
      ]
    },
    {
      "cell_type": "code",
      "metadata": {
        "id": "ueXwfB4SUl3u"
      },
      "source": [
        "data1 = data.copy() # Backup"
      ],
      "execution_count": 6,
      "outputs": []
    },
    {
      "cell_type": "code",
      "metadata": {
        "colab": {
          "base_uri": "https://localhost:8080/"
        },
        "id": "uwok89oP0YO_",
        "outputId": "6480ad1c-61c2-4c2c-def6-1fd956fe702e"
      },
      "source": [
        "data.columns"
      ],
      "execution_count": 7,
      "outputs": [
        {
          "output_type": "execute_result",
          "data": {
            "text/plain": [
              "Index(['Date', 'Country', 'Local', 'Industry Sector', 'AccLevel',\n",
              "       'Pot_AccLevel', 'Gender', 'Employee type', 'Cri_Risk', 'Description'],\n",
              "      dtype='object')"
            ]
          },
          "metadata": {
            "tags": []
          },
          "execution_count": 7
        }
      ]
    },
    {
      "cell_type": "markdown",
      "metadata": {
        "id": "CPUdDmWKz4Gt"
      },
      "source": [
        "## Dataset Cleaning using NLTK library\n",
        "- Text normalization"
      ]
    },
    {
      "cell_type": "code",
      "metadata": {
        "colab": {
          "base_uri": "https://localhost:8080/"
        },
        "id": "ETQxlEbEVVaX",
        "outputId": "2a37f62b-a3b9-46ef-bdea-2826267ac59f"
      },
      "source": [
        "# NLP Import packages\n",
        "import nltk; nltk.download('wordnet'); nltk.download('stopwords')\n",
        "from nltk.stem import WordNetLemmatizer\n",
        "from nltk.corpus import wordnet as wn\n",
        "from nltk.corpus import stopwords\n",
        "from wordcloud import WordCloud\n",
        "import matplotlib.pyplot as plt\n",
        "import string"
      ],
      "execution_count": 8,
      "outputs": [
        {
          "output_type": "stream",
          "text": [
            "[nltk_data] Downloading package wordnet to /root/nltk_data...\n",
            "[nltk_data]   Unzipping corpora/wordnet.zip.\n",
            "[nltk_data] Downloading package stopwords to /root/nltk_data...\n",
            "[nltk_data]   Unzipping corpora/stopwords.zip.\n"
          ],
          "name": "stdout"
        }
      ]
    },
    {
      "cell_type": "code",
      "metadata": {
        "id": "EkVRuhj1UDAn"
      },
      "source": [
        "import re\n",
        "from string import punctuation\n",
        "from wordcloud import STOPWORDS\n",
        "\n",
        "stop_words =  stopwords.words('english')\n",
        "\n",
        "def text_cleaning(text, remove_stop_words=True, lemmatize_words=True):\n",
        "    # Clean the text, with the option to remove stop_words and to lemmatize word\n",
        "\n",
        "    # Clean the text\n",
        "    text = re.sub(r\"[^A-Za-z0-9]\", \" \", text)\n",
        "    text = re.sub(r\"\\'s\", \" \", text)\n",
        "    text = re.sub(r\"n't\", \" not \", text)\n",
        "    text = re.sub(r\"I'm\", \"I am\", text)\n",
        "    text = re.sub(r\"ur\", \" your \", text)\n",
        "    text = re.sub(r\" nd \",\" and \",text)\n",
        "    text = re.sub(r\"\\'d\", \" would \", text)\n",
        "    text = re.sub(r\"\\'ll\", \" will \", text)\n",
        "    text = re.sub(r\" tkts \",\" tickets \",text)\n",
        "    text = re.sub(r\" c \",\" can \",text)\n",
        "    text = re.sub(r\" e g \", \" eg \", text)\n",
        "    text =  re.sub(r'http\\S+',' link ', text)\n",
        "    text = re.sub(r'\\b\\d+(?:\\.\\d+)?\\s+', '', text) # remove numbers\n",
        "    text = re.sub(r\" u \",\" you \",text)\n",
        "    text = text.lower()  # set in lowercase \n",
        "        \n",
        "    # Remove punctuation from text\n",
        "    text = ''.join([c for c in text if c not in punctuation])\n",
        "    \n",
        "    # Optionally, remove stop words\n",
        "    if remove_stop_words:\n",
        "        text = text.split()\n",
        "        text = [w for w in text if not w in stop_words]\n",
        "        text = \" \".join(text)\n",
        "    \n",
        "    # Optionally, shorten words to their stems\n",
        "    if lemmatize_words:\n",
        "        text = text.split()\n",
        "        lemmatizer = WordNetLemmatizer() \n",
        "        lemmatized_words = [lemmatizer.lemmatize(word) for word in text]\n",
        "        text = \" \".join(lemmatized_words)\n",
        "    \n",
        "    # Return a list of words\n",
        "    return(text)"
      ],
      "execution_count": 9,
      "outputs": []
    },
    {
      "cell_type": "code",
      "metadata": {
        "colab": {
          "base_uri": "https://localhost:8080/",
          "height": 210
        },
        "id": "O10rjNW7UNO0",
        "outputId": "a1a279eb-fcc5-47e8-8e92-52790b248f17"
      },
      "source": [
        "#clean the dataset \n",
        "data[\"clean_Description\"] = data[\"Description\"].apply(text_cleaning)\n",
        "data.head(3)"
      ],
      "execution_count": 10,
      "outputs": [
        {
          "output_type": "execute_result",
          "data": {
            "text/html": [
              "<div>\n",
              "<style scoped>\n",
              "    .dataframe tbody tr th:only-of-type {\n",
              "        vertical-align: middle;\n",
              "    }\n",
              "\n",
              "    .dataframe tbody tr th {\n",
              "        vertical-align: top;\n",
              "    }\n",
              "\n",
              "    .dataframe thead th {\n",
              "        text-align: right;\n",
              "    }\n",
              "</style>\n",
              "<table border=\"1\" class=\"dataframe\">\n",
              "  <thead>\n",
              "    <tr style=\"text-align: right;\">\n",
              "      <th></th>\n",
              "      <th>Date</th>\n",
              "      <th>Country</th>\n",
              "      <th>Local</th>\n",
              "      <th>Industry Sector</th>\n",
              "      <th>AccLevel</th>\n",
              "      <th>Pot_AccLevel</th>\n",
              "      <th>Gender</th>\n",
              "      <th>Employee type</th>\n",
              "      <th>Cri_Risk</th>\n",
              "      <th>Description</th>\n",
              "      <th>clean_Description</th>\n",
              "    </tr>\n",
              "  </thead>\n",
              "  <tbody>\n",
              "    <tr>\n",
              "      <th>0</th>\n",
              "      <td>1/1/2016 0:00</td>\n",
              "      <td>Country_01</td>\n",
              "      <td>Local_01</td>\n",
              "      <td>Mining</td>\n",
              "      <td>I</td>\n",
              "      <td>IV</td>\n",
              "      <td>Male</td>\n",
              "      <td>Third Party</td>\n",
              "      <td>Pressed</td>\n",
              "      <td>While removing the drill rod of the Jumbo 08 f...</td>\n",
              "      <td>removing drill rod jumbo maintenance superviso...</td>\n",
              "    </tr>\n",
              "    <tr>\n",
              "      <th>1</th>\n",
              "      <td>1/2/2016 0:00</td>\n",
              "      <td>Country_02</td>\n",
              "      <td>Local_02</td>\n",
              "      <td>Mining</td>\n",
              "      <td>I</td>\n",
              "      <td>IV</td>\n",
              "      <td>Male</td>\n",
              "      <td>Employee</td>\n",
              "      <td>Pressurized Systems</td>\n",
              "      <td>During the activation of a sodium sulphide pum...</td>\n",
              "      <td>ing activation sodium sulphide pump piping unc...</td>\n",
              "    </tr>\n",
              "    <tr>\n",
              "      <th>2</th>\n",
              "      <td>1/6/2016 0:00</td>\n",
              "      <td>Country_01</td>\n",
              "      <td>Local_03</td>\n",
              "      <td>Mining</td>\n",
              "      <td>I</td>\n",
              "      <td>III</td>\n",
              "      <td>Male</td>\n",
              "      <td>Third Party (Remote)</td>\n",
              "      <td>Manual Tools</td>\n",
              "      <td>In the sub-station MILPO located at level +170...</td>\n",
              "      <td>sub station milpo located level collaborator e...</td>\n",
              "    </tr>\n",
              "  </tbody>\n",
              "</table>\n",
              "</div>"
            ],
            "text/plain": [
              "            Date  ...                                  clean_Description\n",
              "0  1/1/2016 0:00  ...  removing drill rod jumbo maintenance superviso...\n",
              "1  1/2/2016 0:00  ...  ing activation sodium sulphide pump piping unc...\n",
              "2  1/6/2016 0:00  ...  sub station milpo located level collaborator e...\n",
              "\n",
              "[3 rows x 11 columns]"
            ]
          },
          "metadata": {
            "tags": []
          },
          "execution_count": 10
        }
      ]
    },
    {
      "cell_type": "code",
      "metadata": {
        "colab": {
          "base_uri": "https://localhost:8080/",
          "height": 306
        },
        "id": "Bem-vGEcVk5L",
        "outputId": "2ffd2f94-0ad8-4246-bba7-0c0e02f43f33"
      },
      "source": [
        "data.drop('Description', axis=1, inplace=True)\n",
        "data.rename(columns={'clean_Description':'Description'}, inplace=True)\n",
        "data.head()"
      ],
      "execution_count": 11,
      "outputs": [
        {
          "output_type": "execute_result",
          "data": {
            "text/html": [
              "<div>\n",
              "<style scoped>\n",
              "    .dataframe tbody tr th:only-of-type {\n",
              "        vertical-align: middle;\n",
              "    }\n",
              "\n",
              "    .dataframe tbody tr th {\n",
              "        vertical-align: top;\n",
              "    }\n",
              "\n",
              "    .dataframe thead th {\n",
              "        text-align: right;\n",
              "    }\n",
              "</style>\n",
              "<table border=\"1\" class=\"dataframe\">\n",
              "  <thead>\n",
              "    <tr style=\"text-align: right;\">\n",
              "      <th></th>\n",
              "      <th>Date</th>\n",
              "      <th>Country</th>\n",
              "      <th>Local</th>\n",
              "      <th>Industry Sector</th>\n",
              "      <th>AccLevel</th>\n",
              "      <th>Pot_AccLevel</th>\n",
              "      <th>Gender</th>\n",
              "      <th>Employee type</th>\n",
              "      <th>Cri_Risk</th>\n",
              "      <th>Description</th>\n",
              "    </tr>\n",
              "  </thead>\n",
              "  <tbody>\n",
              "    <tr>\n",
              "      <th>0</th>\n",
              "      <td>1/1/2016 0:00</td>\n",
              "      <td>Country_01</td>\n",
              "      <td>Local_01</td>\n",
              "      <td>Mining</td>\n",
              "      <td>I</td>\n",
              "      <td>IV</td>\n",
              "      <td>Male</td>\n",
              "      <td>Third Party</td>\n",
              "      <td>Pressed</td>\n",
              "      <td>removing drill rod jumbo maintenance superviso...</td>\n",
              "    </tr>\n",
              "    <tr>\n",
              "      <th>1</th>\n",
              "      <td>1/2/2016 0:00</td>\n",
              "      <td>Country_02</td>\n",
              "      <td>Local_02</td>\n",
              "      <td>Mining</td>\n",
              "      <td>I</td>\n",
              "      <td>IV</td>\n",
              "      <td>Male</td>\n",
              "      <td>Employee</td>\n",
              "      <td>Pressurized Systems</td>\n",
              "      <td>ing activation sodium sulphide pump piping unc...</td>\n",
              "    </tr>\n",
              "    <tr>\n",
              "      <th>2</th>\n",
              "      <td>1/6/2016 0:00</td>\n",
              "      <td>Country_01</td>\n",
              "      <td>Local_03</td>\n",
              "      <td>Mining</td>\n",
              "      <td>I</td>\n",
              "      <td>III</td>\n",
              "      <td>Male</td>\n",
              "      <td>Third Party (Remote)</td>\n",
              "      <td>Manual Tools</td>\n",
              "      <td>sub station milpo located level collaborator e...</td>\n",
              "    </tr>\n",
              "    <tr>\n",
              "      <th>3</th>\n",
              "      <td>1/8/2016 0:00</td>\n",
              "      <td>Country_01</td>\n",
              "      <td>Local_04</td>\n",
              "      <td>Mining</td>\n",
              "      <td>I</td>\n",
              "      <td>I</td>\n",
              "      <td>Male</td>\n",
              "      <td>Third Party</td>\n",
              "      <td>Others</td>\n",
              "      <td>approximately nv cx ob7 personnel begin task u...</td>\n",
              "    </tr>\n",
              "    <tr>\n",
              "      <th>4</th>\n",
              "      <td>1/10/2016 0:00</td>\n",
              "      <td>Country_01</td>\n",
              "      <td>Local_04</td>\n",
              "      <td>Mining</td>\n",
              "      <td>IV</td>\n",
              "      <td>IV</td>\n",
              "      <td>Male</td>\n",
              "      <td>Third Party</td>\n",
              "      <td>Others</td>\n",
              "      <td>approximately circumstance mechanic anthony gr...</td>\n",
              "    </tr>\n",
              "  </tbody>\n",
              "</table>\n",
              "</div>"
            ],
            "text/plain": [
              "             Date  ...                                        Description\n",
              "0   1/1/2016 0:00  ...  removing drill rod jumbo maintenance superviso...\n",
              "1   1/2/2016 0:00  ...  ing activation sodium sulphide pump piping unc...\n",
              "2   1/6/2016 0:00  ...  sub station milpo located level collaborator e...\n",
              "3   1/8/2016 0:00  ...  approximately nv cx ob7 personnel begin task u...\n",
              "4  1/10/2016 0:00  ...  approximately circumstance mechanic anthony gr...\n",
              "\n",
              "[5 rows x 10 columns]"
            ]
          },
          "metadata": {
            "tags": []
          },
          "execution_count": 11
        }
      ]
    },
    {
      "cell_type": "code",
      "metadata": {
        "id": "bCN8123IL4BI"
      },
      "source": [
        "pickle.dump( data, open( \"clean_data.p\", \"wb\" ))"
      ],
      "execution_count": 12,
      "outputs": []
    },
    {
      "cell_type": "code",
      "metadata": {
        "id": "lFuU5ZodMMuB"
      },
      "source": [
        "data = pickle.load( open( \"clean_data.p\", \"rb\" ))"
      ],
      "execution_count": 13,
      "outputs": []
    },
    {
      "cell_type": "markdown",
      "metadata": {
        "id": "cBijdvmaOTLy"
      },
      "source": [
        "### Taking Target input from User"
      ]
    },
    {
      "cell_type": "code",
      "metadata": {
        "colab": {
          "base_uri": "https://localhost:8080/"
        },
        "id": "TBHgh65ZNMrO",
        "outputId": "49f26890-a1f0-4772-bd2d-a3c023580c3a"
      },
      "source": [
        "t = ['AccLevel', 'Pot_AccLevel', 'Cri_Risk']\n",
        "target = input(\"Please select target 'AccLevel', 'Pot_AccLevel', 'Cri_Risk': \")"
      ],
      "execution_count": 14,
      "outputs": [
        {
          "output_type": "stream",
          "text": [
            "Please select target 'AccLevel', 'Pot_AccLevel', 'Cri_Risk': AccLevel\n"
          ],
          "name": "stdout"
        }
      ]
    },
    {
      "cell_type": "code",
      "metadata": {
        "colab": {
          "base_uri": "https://localhost:8080/",
          "height": 35
        },
        "id": "-aqS77df4UkL",
        "outputId": "a0b3cb26-24fd-4796-9bfd-e4c0a35e67e8"
      },
      "source": [
        "target"
      ],
      "execution_count": 15,
      "outputs": [
        {
          "output_type": "execute_result",
          "data": {
            "application/vnd.google.colaboratory.intrinsic+json": {
              "type": "string"
            },
            "text/plain": [
              "'AccLevel'"
            ]
          },
          "metadata": {
            "tags": []
          },
          "execution_count": 15
        }
      ]
    },
    {
      "cell_type": "code",
      "metadata": {
        "id": "nY9qxHEyk_Aw",
        "colab": {
          "base_uri": "https://localhost:8080/",
          "height": 204
        },
        "outputId": "2e5fff2f-e3e8-4a7d-b86b-f196be3b2a3a"
      },
      "source": [
        "df = pd.DataFrame(data, columns=[target, 'Description'])\n",
        "df[target] = df[target].astype('category')\n",
        "df_backup = df[target]\n",
        "df.head()"
      ],
      "execution_count": 16,
      "outputs": [
        {
          "output_type": "execute_result",
          "data": {
            "text/html": [
              "<div>\n",
              "<style scoped>\n",
              "    .dataframe tbody tr th:only-of-type {\n",
              "        vertical-align: middle;\n",
              "    }\n",
              "\n",
              "    .dataframe tbody tr th {\n",
              "        vertical-align: top;\n",
              "    }\n",
              "\n",
              "    .dataframe thead th {\n",
              "        text-align: right;\n",
              "    }\n",
              "</style>\n",
              "<table border=\"1\" class=\"dataframe\">\n",
              "  <thead>\n",
              "    <tr style=\"text-align: right;\">\n",
              "      <th></th>\n",
              "      <th>AccLevel</th>\n",
              "      <th>Description</th>\n",
              "    </tr>\n",
              "  </thead>\n",
              "  <tbody>\n",
              "    <tr>\n",
              "      <th>0</th>\n",
              "      <td>I</td>\n",
              "      <td>removing drill rod jumbo maintenance superviso...</td>\n",
              "    </tr>\n",
              "    <tr>\n",
              "      <th>1</th>\n",
              "      <td>I</td>\n",
              "      <td>ing activation sodium sulphide pump piping unc...</td>\n",
              "    </tr>\n",
              "    <tr>\n",
              "      <th>2</th>\n",
              "      <td>I</td>\n",
              "      <td>sub station milpo located level collaborator e...</td>\n",
              "    </tr>\n",
              "    <tr>\n",
              "      <th>3</th>\n",
              "      <td>I</td>\n",
              "      <td>approximately nv cx ob7 personnel begin task u...</td>\n",
              "    </tr>\n",
              "    <tr>\n",
              "      <th>4</th>\n",
              "      <td>IV</td>\n",
              "      <td>approximately circumstance mechanic anthony gr...</td>\n",
              "    </tr>\n",
              "  </tbody>\n",
              "</table>\n",
              "</div>"
            ],
            "text/plain": [
              "  AccLevel                                        Description\n",
              "0        I  removing drill rod jumbo maintenance superviso...\n",
              "1        I  ing activation sodium sulphide pump piping unc...\n",
              "2        I  sub station milpo located level collaborator e...\n",
              "3        I  approximately nv cx ob7 personnel begin task u...\n",
              "4       IV  approximately circumstance mechanic anthony gr..."
            ]
          },
          "metadata": {
            "tags": []
          },
          "execution_count": 16
        }
      ]
    },
    {
      "cell_type": "code",
      "metadata": {
        "colab": {
          "base_uri": "https://localhost:8080/"
        },
        "id": "SatYfmdiElEa",
        "outputId": "77f78063-c913-44f1-95c2-25a6ef107e6e"
      },
      "source": [
        "data['Cri_Risk'].value_counts()"
      ],
      "execution_count": 17,
      "outputs": [
        {
          "output_type": "execute_result",
          "data": {
            "text/plain": [
              "Others                                       232\n",
              "Pressed                                       24\n",
              "Manual Tools                                  20\n",
              "Chemical substances                           17\n",
              "Venomous Animals                              16\n",
              "Cut                                           14\n",
              "Projection                                    13\n",
              "Bees                                          10\n",
              "Fall                                           9\n",
              "Vehicles and Mobile Equipment                  8\n",
              "remains of choco                               7\n",
              "Fall prevention (same level)                   7\n",
              "Pressurized Systems                            7\n",
              "Fall prevention                                6\n",
              "Suspended Loads                                6\n",
              "Liquid Metal                                   3\n",
              "Blocking and isolation of energies             3\n",
              "Power lock                                     3\n",
              "Pressurized Systems / Chemical Substances      3\n",
              "Machine Protection                             2\n",
              "Projection of fragments                        2\n",
              "Electrical Shock                               2\n",
              "\\nNot applicable                               1\n",
              "Electrical installation                        1\n",
              "Traffic                                        1\n",
              "Projection/Burning                             1\n",
              "Confined space                                 1\n",
              "Projection/Manual Tools                        1\n",
              "Poll                                           1\n",
              "Individual protection equipment                1\n",
              "Projection/Choco                               1\n",
              "Burn                                           1\n",
              "Plates                                         1\n",
              "Name: Cri_Risk, dtype: int64"
            ]
          },
          "metadata": {
            "tags": []
          },
          "execution_count": 17
        }
      ]
    },
    {
      "cell_type": "code",
      "metadata": {
        "colab": {
          "base_uri": "https://localhost:8080/"
        },
        "id": "YH4PRyq6w5HA",
        "outputId": "996cfeb4-adf8-4d35-d4b9-f407ee897752"
      },
      "source": [
        "df[target].value_counts()"
      ],
      "execution_count": 18,
      "outputs": [
        {
          "output_type": "execute_result",
          "data": {
            "text/plain": [
              "I      316\n",
              "II      40\n",
              "III     31\n",
              "IV      30\n",
              "V        8\n",
              "Name: AccLevel, dtype: int64"
            ]
          },
          "metadata": {
            "tags": []
          },
          "execution_count": 18
        }
      ]
    },
    {
      "cell_type": "code",
      "metadata": {
        "colab": {
          "base_uri": "https://localhost:8080/"
        },
        "id": "CiwAf9-p7NEy",
        "outputId": "25bb35c7-4e50-46ce-ece6-c257360310e7"
      },
      "source": [
        "df[target].count()"
      ],
      "execution_count": 19,
      "outputs": [
        {
          "output_type": "execute_result",
          "data": {
            "text/plain": [
              "425"
            ]
          },
          "metadata": {
            "tags": []
          },
          "execution_count": 19
        }
      ]
    },
    {
      "cell_type": "code",
      "metadata": {
        "colab": {
          "base_uri": "https://localhost:8080/"
        },
        "id": "KulFqvS_7lkf",
        "outputId": "3294e384-bd2f-4010-bc04-fd87876d7d09"
      },
      "source": [
        "categories = df[target].cat.categories.tolist()\n",
        "len(categories)"
      ],
      "execution_count": 20,
      "outputs": [
        {
          "output_type": "execute_result",
          "data": {
            "text/plain": [
              "5"
            ]
          },
          "metadata": {
            "tags": []
          },
          "execution_count": 20
        }
      ]
    },
    {
      "cell_type": "markdown",
      "metadata": {
        "id": "jN64o38M0D_0"
      },
      "source": [
        "## Train/Validation/Test Dataset Split"
      ]
    },
    {
      "cell_type": "code",
      "metadata": {
        "id": "0QC9Bv0Np_2q",
        "colab": {
          "base_uri": "https://localhost:8080/",
          "height": 419
        },
        "outputId": "8bfbe933-b780-431e-fdc9-abd33314e1bc"
      },
      "source": [
        "# Train/Test Dataset Split\n",
        "\n",
        "# split the data into train and test set\n",
        "trainval, df_test = train_test_split(df, test_size=0.2, random_state=42, shuffle=True)\n",
        "\n",
        "# Split train into train-val\n",
        "df_train, val = train_test_split(trainval, test_size=0.1, random_state=21, shuffle=True)\n",
        "df_train"
      ],
      "execution_count": 21,
      "outputs": [
        {
          "output_type": "execute_result",
          "data": {
            "text/html": [
              "<div>\n",
              "<style scoped>\n",
              "    .dataframe tbody tr th:only-of-type {\n",
              "        vertical-align: middle;\n",
              "    }\n",
              "\n",
              "    .dataframe tbody tr th {\n",
              "        vertical-align: top;\n",
              "    }\n",
              "\n",
              "    .dataframe thead th {\n",
              "        text-align: right;\n",
              "    }\n",
              "</style>\n",
              "<table border=\"1\" class=\"dataframe\">\n",
              "  <thead>\n",
              "    <tr style=\"text-align: right;\">\n",
              "      <th></th>\n",
              "      <th>AccLevel</th>\n",
              "      <th>Description</th>\n",
              "    </tr>\n",
              "  </thead>\n",
              "  <tbody>\n",
              "    <tr>\n",
              "      <th>18</th>\n",
              "      <td>I</td>\n",
              "      <td>auxiliary wheel cathode crane g2133 changed ar...</td>\n",
              "    </tr>\n",
              "    <tr>\n",
              "      <th>85</th>\n",
              "      <td>I</td>\n",
              "      <td>parking van next cluster wooden sleeper board ...</td>\n",
              "    </tr>\n",
              "    <tr>\n",
              "      <th>31</th>\n",
              "      <td>I</td>\n",
              "      <td>level access a2 time engineer trainee planamie...</td>\n",
              "    </tr>\n",
              "    <tr>\n",
              "      <th>264</th>\n",
              "      <td>I</td>\n",
              "      <td>time fo mechanic performed removal 1tm engine ...</td>\n",
              "    </tr>\n",
              "    <tr>\n",
              "      <th>277</th>\n",
              "      <td>II</td>\n",
              "      <td>performing movement bar make room place calibr...</td>\n",
              "    </tr>\n",
              "    <tr>\n",
              "      <th>...</th>\n",
              "      <td>...</td>\n",
              "      <td>...</td>\n",
              "    </tr>\n",
              "    <tr>\n",
              "      <th>23</th>\n",
              "      <td>II</td>\n",
              "      <td>loosening a30 truck steering cylinder bolt usi...</td>\n",
              "    </tr>\n",
              "    <tr>\n",
              "      <th>373</th>\n",
              "      <td>I</td>\n",
              "      <td>ing marking management point supervision breed...</td>\n",
              "    </tr>\n",
              "    <tr>\n",
              "      <th>251</th>\n",
              "      <td>IV</td>\n",
              "      <td>approximately mr wilmer approach c150 drying t...</td>\n",
              "    </tr>\n",
              "    <tr>\n",
              "      <th>21</th>\n",
              "      <td>I</td>\n",
              "      <td>raise chamber operator assistant removed drill...</td>\n",
              "    </tr>\n",
              "    <tr>\n",
              "      <th>178</th>\n",
              "      <td>I</td>\n",
              "      <td>ing torch cutting activity new evaporator trea...</td>\n",
              "    </tr>\n",
              "  </tbody>\n",
              "</table>\n",
              "<p>306 rows × 2 columns</p>\n",
              "</div>"
            ],
            "text/plain": [
              "    AccLevel                                        Description\n",
              "18         I  auxiliary wheel cathode crane g2133 changed ar...\n",
              "85         I  parking van next cluster wooden sleeper board ...\n",
              "31         I  level access a2 time engineer trainee planamie...\n",
              "264        I  time fo mechanic performed removal 1tm engine ...\n",
              "277       II  performing movement bar make room place calibr...\n",
              "..       ...                                                ...\n",
              "23        II  loosening a30 truck steering cylinder bolt usi...\n",
              "373        I  ing marking management point supervision breed...\n",
              "251       IV  approximately mr wilmer approach c150 drying t...\n",
              "21         I  raise chamber operator assistant removed drill...\n",
              "178        I  ing torch cutting activity new evaporator trea...\n",
              "\n",
              "[306 rows x 2 columns]"
            ]
          },
          "metadata": {
            "tags": []
          },
          "execution_count": 21
        }
      ]
    },
    {
      "cell_type": "code",
      "metadata": {
        "colab": {
          "base_uri": "https://localhost:8080/"
        },
        "id": "G3URV26T9q3v",
        "outputId": "87303007-2868-4112-f2a0-746d54bcffac"
      },
      "source": [
        "#Balancing the Dataset with UpSampling\n",
        "\n",
        "from sklearn.utils import resample\n",
        "df_train[target].value_counts()\n",
        "\n",
        "categories = df_train[target].cat.categories.tolist()\n",
        "categories"
      ],
      "execution_count": 22,
      "outputs": [
        {
          "output_type": "execute_result",
          "data": {
            "text/plain": [
              "['I', 'II', 'III', 'IV', 'V']"
            ]
          },
          "metadata": {
            "tags": []
          },
          "execution_count": 22
        }
      ]
    },
    {
      "cell_type": "markdown",
      "metadata": {
        "id": "vY_E9WKl0NFC"
      },
      "source": [
        "##Upsampling the Minority Class"
      ]
    },
    {
      "cell_type": "code",
      "metadata": {
        "id": "CHnaTAEwKcel",
        "colab": {
          "base_uri": "https://localhost:8080/"
        },
        "outputId": "ebf3be68-becd-4f7d-d020-6b61b2b6468d"
      },
      "source": [
        "#Assiging Classes as per each type\n",
        "\n",
        "if(target == 'AccLevel'):\n",
        "  df_train_1 = df_train[df_train[target] == \"I\"]\n",
        "  df_train_2 = df_train[df_train[target] == \"II\"]\n",
        "  df_train_3 = df_train[df_train[target] == \"III\"]\n",
        "  df_train_4 = df_train[df_train[target] == \"IV\"]\n",
        "  df_train_5 = df_train[df_train[target] == \"V\"]\n",
        "\n",
        "  df_train_2_upsampled = resample(df_train_2, replace = True, n_samples = 223 , random_state = 123)\n",
        "  df_train_3_upsampled = resample(df_train_3, replace = True, n_samples = 223 , random_state = 123)\n",
        "  df_train_4_upsampled = resample(df_train_4, replace = True, n_samples = 223 , random_state = 123)\n",
        "  df_train_5_upsampled = resample(df_train_5, replace = True, n_samples = 223 , random_state = 123)\n",
        "\n",
        "  df_train_upsampled = pd.concat([df_train_1, df_train_2_upsampled,df_train_3_upsampled, df_train_4_upsampled, df_train_5_upsampled ])\n",
        "  print(df_train_upsampled[target].value_counts())\n",
        "\n",
        "  df_train_upsampled_bkup = df_train_upsampled.copy()\n",
        "  df_train_upsampled_bkup[target].value_counts()\n",
        "\n",
        "  df_train = df_train_upsampled.copy()\n",
        "\n",
        "elif(target == 'Pot_AccLevel'):\n",
        "  df_train_1 = df_train[df_train[target] == \"I\"]\n",
        "  df_train_2 = df_train[df_train[target] == \"II\"]\n",
        "  df_train_3 = df_train[df_train[target] == \"III\"]\n",
        "  df_train_4 = df_train[df_train[target] == \"IV\"]\n",
        "  df_train_5 = df_train[df_train[target] == \"V\"]\n",
        "  df_train_6 = df_train[df_train[target] == \"VI\"]\n",
        "\n",
        "  df_train_1_upsampled = resample(df_train_1, replace = True, n_samples = 143 , random_state = 123)\n",
        "  df_train_2_upsampled = resample(df_train_2, replace = True, n_samples = 143 , random_state = 123)\n",
        "  df_train_3_upsampled = resample(df_train_3, replace = True, n_samples = 143 , random_state = 123)\n",
        "  df_train_5_upsampled = resample(df_train_5, replace = True, n_samples = 143 , random_state = 123)\n",
        "  df_train_6_upsampled = resample(df_train_6, replace = True, n_samples = 143 , random_state = 123)\n",
        " \n",
        "  df_train_upsampled = pd.concat([df_train_1_upsampled, df_train_2_upsampled,df_train_3_upsampled, df_train_4, df_train_5_upsampled, df_train_6_upsampled ])\n",
        "  print(df_train_upsampled[target].value_counts())\n",
        "\n",
        "  df_train_upsampled_bkup = df_train_upsampled.copy()\n",
        "  df_train_upsampled_bkup[target].value_counts()\n",
        "\n",
        "  df_train = df_train_upsampled.copy()\n",
        "\n",
        "else:\n",
        "  df_train_1 = df_train[df_train[target] == \"Others\"]\n",
        "  df_train_2 = df_train[df_train[target] == \"Pressed\"]\n",
        "  df_train_3 = df_train[df_train[target] == \"Manual Tools\"]\n",
        "  df_train_4 = df_train[df_train[target] == \"Chemical substances\"]\n",
        "  df_train_5 = df_train[df_train[target] == \"Venomous Animals\"]\n",
        "  df_train_6 = df_train[df_train[target] == \"Cut\"]\n",
        "  df_train_7 = df_train[df_train[target] == \"Projection\"]\n",
        "  df_train_8 = df_train[df_train[target] == \"Bees\"]\n",
        "  df_train_9 = df_train[df_train[target] == \"Fall\"]\n",
        "  df_train_10 = df_train[df_train[target] == \"Vehicles and Mobile Equipment\"]\n",
        "  df_train_11 = df_train[df_train[target] == \"Pressurized Systems\"]\n",
        "  df_train_12 = df_train[df_train[target] == \"remains of choco\"]\n",
        "  df_train_13 = df_train[df_train[target] == \"Fall prevention (same level)\"]\n",
        "  df_train_14 = df_train[df_train[target] == \"Suspended Loads\"]\n",
        "  df_train_15= df_train[df_train[target] == \"Fall prevention\"]\n",
        "  df_train_16 = df_train[df_train[target] == \"Pressurized Systems / Chemical Substances\"]\n",
        "  df_train_17 = df_train[df_train[target] == \"Blocking and isolation of energies\"]\n",
        "  df_train_18 = df_train[df_train[target] == \"Liquid Metal\"]\n",
        "  df_train_19 = df_train[df_train[target] == \"Power lock\"]\n",
        "  df_train_20 = df_train[df_train[target] == \"Machine Protection\"]\n",
        "  df_train_21 = df_train[df_train[target] == \"Electrical Shock\"]\n",
        "  df_train_22 = df_train[df_train[target] == \"Projection of fragments\"]\n",
        "  df_train_23 = df_train[df_train[target] == \"Confined space\"]\n",
        "  df_train_24 = df_train[df_train[target] == \"Burn\"]\n",
        "  #df_train_25 = df_train[df_train[target] == \"Poll\"]\n",
        "  df_train_26 = df_train[df_train[target] == \"Projection/Choco\"]\n",
        "  df_train_27 = df_train[df_train[target] == \"Electrical installation\"]\n",
        "  #df_train_28 = df_train[df_train[target] == \"Projection/Burning\"]\n",
        "  #df_train_29 = df_train[df_train[target] == \"Projection/Manual Tools\"]\n",
        "  #df_train_30 = df_train[df_train[target] == \"\\nNot applicable\"]\n",
        "  #df_train_31 = df_train[df_train[target] == \"Traffic\"]\n",
        "  #df_train_32 = df_train[df_train[target] == \"Individual protection equipment\"]\n",
        "  #df_train_33 = df_train[df_train[target] == \"Plates\"]\n",
        "  \n",
        "\n",
        "  #df_train_1_upsampled = resample(df_train_1, replace = True, n_samples = 232 , random_state = 123)\n",
        "  df_train_2_upsampled = resample(df_train_2, replace = True, n_samples = 232 , random_state = 123)\n",
        "  df_train_3_upsampled = resample(df_train_3, replace = True, n_samples = 232 , random_state = 123)\n",
        "  df_train_4_upsampled = resample(df_train_4, replace = True, n_samples = 232 , random_state = 123)\n",
        "  df_train_5_upsampled = resample(df_train_5, replace = True, n_samples = 232 , random_state = 123)\n",
        "  df_train_6_upsampled = resample(df_train_6, replace = True, n_samples = 232 , random_state = 123)\n",
        "  df_train_7_upsampled = resample(df_train_7, replace = True, n_samples = 232 , random_state = 123)\n",
        "  df_train_8_upsampled = resample(df_train_8, replace = True, n_samples = 232 , random_state = 123)\n",
        "  df_train_9_upsampled = resample(df_train_9, replace = True, n_samples = 232 , random_state = 123)\n",
        "  df_train_10_upsampled = resample(df_train_10, replace = True, n_samples = 232 , random_state = 123)\n",
        "  df_train_11_upsampled = resample(df_train_11, replace = True, n_samples = 232 , random_state = 123)\n",
        "  df_train_12_upsampled = resample(df_train_12, replace = True, n_samples = 232 , random_state = 123)\n",
        "  df_train_13_upsampled = resample(df_train_13, replace = True, n_samples = 232 , random_state = 123)\n",
        "  df_train_14_upsampled = resample(df_train_14, replace = True, n_samples = 232 , random_state = 123)\n",
        "  df_train_15_upsampled = resample(df_train_15, replace = True, n_samples = 232 , random_state = 123)\n",
        "  df_train_16_upsampled = resample(df_train_16, replace = True, n_samples = 232 , random_state = 123)\n",
        "  df_train_17_upsampled = resample(df_train_17, replace = True, n_samples = 232 , random_state = 123)\n",
        "  df_train_18_upsampled = resample(df_train_18, replace = True, n_samples = 232 , random_state = 123)\n",
        "  df_train_19_upsampled = resample(df_train_19, replace = True, n_samples = 232 , random_state = 123)\n",
        "  df_train_20_upsampled = resample(df_train_20, replace = True, n_samples = 232 , random_state = 123)\n",
        "  df_train_21_upsampled = resample(df_train_21, replace = True, n_samples = 232 , random_state = 123)\n",
        "  df_train_22_upsampled = resample(df_train_22, replace = True, n_samples = 232 , random_state = 123)\n",
        "  df_train_23_upsampled = resample(df_train_23, replace = True, n_samples = 232 , random_state = 123)\n",
        "  df_train_24_upsampled = resample(df_train_24, replace = True, n_samples = 232 , random_state = 123)\n",
        "  #df_train_25_upsampled = resample(df_train_25, replace = True, n_samples = 232 , random_state = 123)\n",
        "  df_train_26_upsampled = resample(df_train_26, replace = True, n_samples = 232 , random_state = 123)\n",
        "  df_train_27_upsampled = resample(df_train_27, replace = True, n_samples = 232 , random_state = 123)\n",
        "  #df_train_28_upsampled = resample(df_train_28, replace = True, n_samples = 232 , random_state = 123)\n",
        "  #df_train_29_upsampled = resample(df_train_29, replace = True, n_samples = 232 , random_state = 123)\n",
        "  # df_train_30_upsampled = resample(df_train_30, replace = True, n_samples = 232 , random_state = 123)\n",
        "  # df_train_31_upsampled = resample(df_train_31, replace = True, n_samples = 232 , random_state = 123)\n",
        "  # df_train_32_upsampled = resample(df_train_32, replace = True, n_samples = 232 , random_state = 123)\n",
        "  # df_train_33_upsampled = resample(df_train_33, replace = True, n_samples = 232 , random_state = 123)\n",
        " \n",
        "  df_train_upsampled = pd.concat([df_train_1, df_train_2_upsampled,df_train_3_upsampled, df_train_4, df_train_5_upsampled, df_train_6_upsampled, df_train_7_upsampled, df_train_8_upsampled, df_train_9_upsampled, df_train_10_upsampled, df_train_11_upsampled,  df_train_12_upsampled,df_train_13_upsampled, df_train_14, df_train_15_upsampled, df_train_16_upsampled, df_train_17_upsampled, df_train_18_upsampled, df_train_19_upsampled, df_train_20_upsampled, df_train_21_upsampled, df_train_22_upsampled, df_train_23_upsampled, df_train_24_upsampled, df_train_26_upsampled, df_train_27_upsampled ])\n",
        "  print(df_train_upsampled[target].value_counts())\n",
        "\n",
        "  df_train_upsampled_bkup = df_train_upsampled.copy()\n",
        "  df_train_upsampled_bkup[target].value_counts()\n",
        "\n",
        "  df_train = df_train_upsampled.copy()\n",
        "\n"
      ],
      "execution_count": 23,
      "outputs": [
        {
          "output_type": "stream",
          "text": [
            "V      223\n",
            "IV     223\n",
            "III    223\n",
            "II     223\n",
            "I      223\n",
            "Name: AccLevel, dtype: int64\n"
          ],
          "name": "stdout"
        }
      ]
    },
    {
      "cell_type": "markdown",
      "metadata": {
        "id": "P83hqX2l0gSP"
      },
      "source": [
        "#Using Embedding: Universal Sentence Encoder\n",
        "- The Universal Sentence Encoder encodes text into high dimensional vectors that can be used for text classification, semantic similarity, clustering and other natural language tasks.\n",
        "\n",
        "- The input is variable length English text and the output is a 512 dimensional vector. The universal-sentence-encoder-large model is trained with a Transformer encoder.\n",
        "\n",
        "- This module is about 800MB."
      ]
    },
    {
      "cell_type": "code",
      "metadata": {
        "id": "IGOfSRpvsac8",
        "colab": {
          "base_uri": "https://localhost:8080/"
        },
        "outputId": "3044f07e-682e-403d-81f8-9d368efb26ed"
      },
      "source": [
        "%tensorflow_version 1.x\n",
        "\n",
        "import tensorflow as tf\n",
        "import tensorflow_hub as hub\n",
        "from tensorflow.keras.callbacks import EarlyStopping, ModelCheckpoint, ReduceLROnPlateau\n",
        "import seaborn as sns\n",
        "from tensorflow import keras\n",
        "import keras.layers as layers\n",
        "from keras.models import Model\n",
        "from keras import backend as K\n",
        "\n",
        "np.random.seed(10)\n",
        "\n",
        "module_url = \"https://tfhub.dev/google/universal-sentence-encoder-large/3\"\n",
        "\n",
        "# Import the Universal Sentence Encoder's TF Hub module\n",
        "embed = hub.Module(module_url)"
      ],
      "execution_count": 24,
      "outputs": [
        {
          "output_type": "stream",
          "text": [
            "TensorFlow 1.x selected.\n"
          ],
          "name": "stdout"
        },
        {
          "output_type": "stream",
          "text": [
            "Using TensorFlow backend.\n"
          ],
          "name": "stderr"
        }
      ]
    },
    {
      "cell_type": "code",
      "metadata": {
        "id": "jnK5mkUbr9zE"
      },
      "source": [
        "#module_url = \"https://tfhub.dev/google/universal-sentence-encoder-large/3\" #@param [\"https://tfhub.dev/google/universal-sentence-encoder/2\", \"https://tfhub.dev/google/universal-sentence-encoder-large/3\"]"
      ],
      "execution_count": 25,
      "outputs": []
    },
    {
      "cell_type": "code",
      "metadata": {
        "id": "lkM7N__KtUGx"
      },
      "source": [
        "# # Compute a representation for each message, showing various lengths supported.\n",
        "# word = \"Elephant\"\n",
        "# sentence = \"I am a sentence for which I would like to get its embedding.\"\n",
        "# paragraph = (\n",
        "#     \"Universal Sentence Encoder embeddings also support short paragraphs. \"\n",
        "#     \"There is no hard limit on how long the paragraph is. Roughly, the longer \"\n",
        "#     \"the more 'diluted' the embedding will be.\")\n",
        "# messages = [word, sentence, paragraph]\n",
        "\n",
        "# # Reduce logging output.\n",
        "# tf.logging.set_verbosity(tf.logging.ERROR)\n",
        "\n",
        "# with tf.Session() as session:\n",
        "#   session.run([tf.global_variables_initializer(), tf.tables_initializer()])\n",
        "#   message_embeddings = session.run(embed(messages))\n",
        "\n",
        "#   for i, message_embedding in enumerate(np.array(message_embeddings).tolist()):\n",
        "#     print(\"Message: {}\".format(messages[i]))\n",
        "#     print(\"Embedding size: {}\".format(len(message_embedding)))\n",
        "#     message_embedding_snippet = \", \".join(\n",
        "#         (str(x) for x in message_embedding[:3]))\n",
        "#     print(\"Embedding: [{}, ...]\\n\".format(message_embedding_snippet))\n",
        " "
      ],
      "execution_count": 26,
      "outputs": []
    },
    {
      "cell_type": "code",
      "metadata": {
        "id": "nRvNMm-QtZWS"
      },
      "source": [
        "# # Compute a representation for each message, showing various lengths supported.\n",
        "# messages = [\"That band rocks!\", \"That song is really cool.\"]\n",
        "\n",
        "# with tf.Session() as session:\n",
        "#   session.run([tf.global_variables_initializer(), tf.tables_initializer()])\n",
        "#   message_embeddings = session.run(embed(messages))\n",
        "# message_embeddings"
      ],
      "execution_count": 27,
      "outputs": []
    },
    {
      "cell_type": "code",
      "metadata": {
        "colab": {
          "base_uri": "https://localhost:8080/"
        },
        "id": "f1SFqQzmtyti",
        "outputId": "1895ba92-c1b6-4ae0-9a72-391213401589"
      },
      "source": [
        "#Get the Embed Size\n",
        "\n",
        "embed_size = embed.get_output_info_dict()['default'].get_shape()[1].value\n",
        "embed_size\n",
        "\n",
        "# Get the Category Counts\n",
        "category_counts = len(df_train[target].cat.categories)\n",
        "category_counts\n",
        "\n",
        "#Converting train dataset to correct format\n",
        "\n",
        "train_text = df_train['Description'].tolist()\n",
        "train_text = np.array(train_text, dtype=object)[:, np.newaxis]\n",
        "\n",
        "train_label = np.asarray(pd.get_dummies(df_train[target]), dtype = np.int8)\n",
        "train_label[8]\n",
        "print(train_text.shape)\n",
        "\n",
        "#Converting test dataset to correct format\n",
        "\n",
        "test_text = df_test['Description'].tolist()\n",
        "test_text = np.array(test_text, dtype=object)[:, np.newaxis]\n",
        "test_label = np.asarray(pd.get_dummies(df_test[target]), dtype = np.int8)\n",
        "test_label[:3]\n",
        "print(test_text.shape)\n",
        "\n",
        "\n",
        "#Converting validation dataset to correct format\n",
        "\n",
        "val_text = val[\"Description\"].tolist()\n",
        "val_text = np.array(val_text, dtype=object)[:, np.newaxis]\n",
        "val_label = np.asarray(pd.get_dummies(val[target]), dtype = np.int8)\n",
        "val_label[:3]\n",
        "print(val_text.shape)"
      ],
      "execution_count": 28,
      "outputs": [
        {
          "output_type": "stream",
          "text": [
            "(1115, 1)\n",
            "(85, 1)\n",
            "(34, 1)\n"
          ],
          "name": "stdout"
        }
      ]
    },
    {
      "cell_type": "code",
      "metadata": {
        "id": "nnfF8Bylrz2J"
      },
      "source": [
        "from keras.layers import Input, LSTM, Dense, Activation, Dropout,Embedding\n",
        "from tensorflow.keras.layers import Flatten, Dense\n",
        "\n",
        "def UniversalEmbedding(x):\n",
        "    return embed(tf.squeeze(tf.cast(x, tf.string)), signature=\"default\", as_dict=True)[\"default\"]"
      ],
      "execution_count": 29,
      "outputs": []
    },
    {
      "cell_type": "code",
      "metadata": {
        "id": "q_WCKsrdbGir"
      },
      "source": [
        "#!pip install keras-self-attention"
      ],
      "execution_count": 30,
      "outputs": []
    },
    {
      "cell_type": "code",
      "metadata": {
        "id": "NcnhmBqibJOU"
      },
      "source": [
        "#from keras_self_attention import SeqSelfAttention"
      ],
      "execution_count": 31,
      "outputs": []
    },
    {
      "cell_type": "markdown",
      "metadata": {
        "id": "MboOV0HTtdp2"
      },
      "source": [
        "https://stackoverflow.com/questions/60809068/error-output-of-the-tf-hub-layers-embedding-with-conv-or-rnn\n",
        "https://stackoverflow.com/questions/42918446/how-to-add-an-attention-mechanism-in-keras?answertab=votes#tab-top\n"
      ]
    },
    {
      "cell_type": "markdown",
      "metadata": {
        "id": "XOOG2w5_fSEi"
      },
      "source": [
        "##Model Building\n",
        "- Using Convolution with LSTM with Attention\n",
        "\n",
        "### Compile the model \n",
        "- Use Optimizer as Adam\n",
        "- Use **categorical_crossentropy** as loss\n",
        "- Use **categorical_accuracy** as metrics"
      ]
    },
    {
      "cell_type": "code",
      "metadata": {
        "colab": {
          "base_uri": "https://localhost:8080/"
        },
        "id": "YM9ExLJPr2JL",
        "outputId": "3e85358e-44b0-4741-e325-e28fb5843ee3"
      },
      "source": [
        "#Model Building\n",
        "\n",
        "from keras.layers import Dense, Embedding, LSTM, Dropout, MaxPooling1D, Conv1D, Bidirectional\n",
        "\n",
        "input_text = layers.Input(shape=(1,), dtype=tf.string)\n",
        "print(input_text.shape)\n",
        "embedding = layers.Lambda(UniversalEmbedding,output_shape=(embed_size,))(input_text)\n",
        "print(embedding.shape)\n",
        "reshape = layers.Reshape(target_shape=(1, 512 ))(embedding)\n",
        "print(reshape.shape)\n",
        "drop = (Dropout(0.25))(reshape)\n",
        "cnvl = (Conv1D(256, 5, padding = 'same', activation = 'relu', strides = 1))(drop)\n",
        "lstm=LSTM(units=128,return_sequences=False)(cnvl)\n",
        "#lstm = (Bidirectional(LSTM(units=100, return_sequences=False, recurrent_dropout=0.1)))(drop)\n",
        "#attn = SeqSelfAttention(attention_activation='softmax')(lstm)\n",
        "attn = (Activation(\"softmax\"))(lstm)\n",
        "dense = layers.Dense(256, activation='relu')(attn)\n",
        "print(dense.shape)\n",
        "\n",
        "pred = layers.Dense(category_counts, activation='softmax')(dense)\n",
        "model = Model(inputs=[input_text], outputs=pred)\n",
        "#model.compile(loss='categorical_crossentropy', optimizer='adam', metrics=['accuracy'])  \n",
        "model.compile(loss='categorical_crossentropy', optimizer='adam', metrics=['categorical_accuracy'])\n",
        "\n",
        "#print model summary\n",
        "model.summary()"
      ],
      "execution_count": 32,
      "outputs": [
        {
          "output_type": "stream",
          "text": [
            "(?, 1)\n",
            "INFO:tensorflow:Saver not created because there are no variables in the graph to restore\n"
          ],
          "name": "stdout"
        },
        {
          "output_type": "stream",
          "text": [
            "INFO:tensorflow:Saver not created because there are no variables in the graph to restore\n"
          ],
          "name": "stderr"
        },
        {
          "output_type": "stream",
          "text": [
            "(?, 512)\n",
            "(?, 1, 512)\n",
            "WARNING:tensorflow:From /tensorflow-1.15.2/python3.7/tensorflow_core/python/ops/resource_variable_ops.py:1630: calling BaseResourceVariable.__init__ (from tensorflow.python.ops.resource_variable_ops) with constraint is deprecated and will be removed in a future version.\n",
            "Instructions for updating:\n",
            "If using Keras pass *_constraint arguments to layers.\n"
          ],
          "name": "stdout"
        },
        {
          "output_type": "stream",
          "text": [
            "WARNING:tensorflow:From /tensorflow-1.15.2/python3.7/tensorflow_core/python/ops/resource_variable_ops.py:1630: calling BaseResourceVariable.__init__ (from tensorflow.python.ops.resource_variable_ops) with constraint is deprecated and will be removed in a future version.\n",
            "Instructions for updating:\n",
            "If using Keras pass *_constraint arguments to layers.\n"
          ],
          "name": "stderr"
        },
        {
          "output_type": "stream",
          "text": [
            "(?, 256)\n",
            "Model: \"model_1\"\n",
            "_________________________________________________________________\n",
            "Layer (type)                 Output Shape              Param #   \n",
            "=================================================================\n",
            "input_1 (InputLayer)         (None, 1)                 0         \n",
            "_________________________________________________________________\n",
            "lambda_1 (Lambda)            (None, 512)               0         \n",
            "_________________________________________________________________\n",
            "reshape_1 (Reshape)          (None, 1, 512)            0         \n",
            "_________________________________________________________________\n",
            "dropout_1 (Dropout)          (None, 1, 512)            0         \n",
            "_________________________________________________________________\n",
            "conv1d_1 (Conv1D)            (None, 1, 256)            655616    \n",
            "_________________________________________________________________\n",
            "lstm_1 (LSTM)                (None, 128)               197120    \n",
            "_________________________________________________________________\n",
            "activation_1 (Activation)    (None, 128)               0         \n",
            "_________________________________________________________________\n",
            "dense_1 (Dense)              (None, 256)               33024     \n",
            "_________________________________________________________________\n",
            "dense_2 (Dense)              (None, 5)                 1285      \n",
            "=================================================================\n",
            "Total params: 887,045\n",
            "Trainable params: 887,045\n",
            "Non-trainable params: 0\n",
            "_________________________________________________________________\n"
          ],
          "name": "stdout"
        }
      ]
    },
    {
      "cell_type": "code",
      "metadata": {
        "colab": {
          "base_uri": "https://localhost:8080/",
          "height": 976
        },
        "id": "w7bjR9KIq4Gw",
        "outputId": "83f2b009-37c2-4760-c807-bb31f426ecf6"
      },
      "source": [
        "tf.keras.utils.plot_model(model, show_shapes = True)"
      ],
      "execution_count": 33,
      "outputs": [
        {
          "output_type": "execute_result",
          "data": {
            "image/png": "[encoded data removed]",
            "text/plain": [
              "<IPython.core.display.Image object>"
            ]
          },
          "metadata": {
            "tags": []
          },
          "execution_count": 33
        }
      ]
    },
    {
      "cell_type": "markdown",
      "metadata": {
        "id": "roD4sTw1fNnI"
      },
      "source": [
        "##Model Training"
      ]
    },
    {
      "cell_type": "code",
      "metadata": {
        "colab": {
          "base_uri": "https://localhost:8080/"
        },
        "id": "-pcf1RpmuKtx",
        "outputId": "57f6702c-68ff-4b97-a546-157b5dce1b5c"
      },
      "source": [
        "#Model Training\n",
        "\n",
        "with tf.Session() as session:\n",
        "  K.set_session(session)\n",
        "  session.run(tf.global_variables_initializer())\n",
        "  session.run(tf.tables_initializer())\n",
        "  # Adding callbacks\n",
        "  es = EarlyStopping(monitor = 'val_loss', mode = 'min', verbose = 1, patience = 10)  \n",
        "  #mc = ModelCheckpoint('sarcasm_detector.h5', monitor = 'val_loss', mode = 'min', save_best_only = True, verbose = 1)\n",
        "  #logdir = 'log'; tb = TensorBoard(logdir, histogram_freq = 1)\n",
        "  #lr_r = ReduceLROnPlateau(monitor = 'val_loss', factor = 0.1, patience = 5)\n",
        "  \n",
        "  callbacks = [es] #mc, lr_r] #https://stackoverflow.com/questions/58030543/list-of-keras-callbacks-generates-error-tuple-object-has-no-attribute-set-mo\n",
        "  \n",
        "  h = model.fit(train_text, train_label, validation_data=(val_text, val_label), epochs=30, batch_size=32, callbacks = callbacks)\n",
        "  model.save_weights('./model_lstm.h5')"
      ],
      "execution_count": 39,
      "outputs": [
        {
          "output_type": "stream",
          "text": [
            "Train on 1115 samples, validate on 34 samples\n",
            "Epoch 1/30\n",
            "1115/1115 [==============================] - 4s 3ms/step - loss: 1.6105 - categorical_accuracy: 0.1919 - val_loss: 1.6092 - val_categorical_accuracy: 0.0882\n",
            "Epoch 2/30\n",
            "1115/1115 [==============================] - 2s 2ms/step - loss: 1.6098 - categorical_accuracy: 0.1910 - val_loss: 1.6129 - val_categorical_accuracy: 0.0000e+00\n",
            "Epoch 3/30\n",
            "1115/1115 [==============================] - 2s 2ms/step - loss: 1.6072 - categorical_accuracy: 0.2260 - val_loss: 1.6066 - val_categorical_accuracy: 0.1471\n",
            "Epoch 4/30\n",
            "1115/1115 [==============================] - 2s 2ms/step - loss: 1.5658 - categorical_accuracy: 0.4081 - val_loss: 1.5262 - val_categorical_accuracy: 0.1765\n",
            "Epoch 5/30\n",
            "1115/1115 [==============================] - 2s 2ms/step - loss: 1.4183 - categorical_accuracy: 0.3812 - val_loss: 1.4001 - val_categorical_accuracy: 0.1471\n",
            "Epoch 6/30\n",
            "1115/1115 [==============================] - 2s 1ms/step - loss: 1.2624 - categorical_accuracy: 0.4135 - val_loss: 1.3908 - val_categorical_accuracy: 0.1471\n",
            "Epoch 7/30\n",
            "1115/1115 [==============================] - 2s 2ms/step - loss: 1.1705 - categorical_accuracy: 0.4520 - val_loss: 1.3606 - val_categorical_accuracy: 0.1765\n",
            "Epoch 8/30\n",
            "1115/1115 [==============================] - 2s 2ms/step - loss: 1.1243 - categorical_accuracy: 0.4888 - val_loss: 1.3229 - val_categorical_accuracy: 0.1471\n",
            "Epoch 9/30\n",
            "1115/1115 [==============================] - 2s 2ms/step - loss: 1.0653 - categorical_accuracy: 0.5363 - val_loss: 1.3116 - val_categorical_accuracy: 0.1765\n",
            "Epoch 10/30\n",
            "1115/1115 [==============================] - 2s 1ms/step - loss: 1.0292 - categorical_accuracy: 0.5614 - val_loss: 1.3510 - val_categorical_accuracy: 0.1765\n",
            "Epoch 11/30\n",
            "1115/1115 [==============================] - 2s 2ms/step - loss: 1.0054 - categorical_accuracy: 0.5444 - val_loss: 1.3121 - val_categorical_accuracy: 0.2059\n",
            "Epoch 12/30\n",
            "1115/1115 [==============================] - 2s 2ms/step - loss: 0.9707 - categorical_accuracy: 0.5525 - val_loss: 1.2962 - val_categorical_accuracy: 0.1471\n",
            "Epoch 13/30\n",
            "1115/1115 [==============================] - 2s 2ms/step - loss: 0.9412 - categorical_accuracy: 0.5534 - val_loss: 1.3597 - val_categorical_accuracy: 0.1471\n",
            "Epoch 14/30\n",
            "1115/1115 [==============================] - 2s 2ms/step - loss: 0.9415 - categorical_accuracy: 0.5399 - val_loss: 1.3032 - val_categorical_accuracy: 0.2353\n",
            "Epoch 15/30\n",
            "1115/1115 [==============================] - 2s 1ms/step - loss: 0.9041 - categorical_accuracy: 0.5516 - val_loss: 1.2923 - val_categorical_accuracy: 0.2059\n",
            "Epoch 16/30\n",
            "1115/1115 [==============================] - 2s 2ms/step - loss: 0.8917 - categorical_accuracy: 0.5749 - val_loss: 1.2649 - val_categorical_accuracy: 0.2059\n",
            "Epoch 17/30\n",
            "1115/1115 [==============================] - 2s 1ms/step - loss: 0.8803 - categorical_accuracy: 0.5417 - val_loss: 1.2836 - val_categorical_accuracy: 0.1471\n",
            "Epoch 18/30\n",
            "1115/1115 [==============================] - 2s 1ms/step - loss: 0.8735 - categorical_accuracy: 0.5614 - val_loss: 1.2080 - val_categorical_accuracy: 0.2353\n",
            "Epoch 19/30\n",
            "1115/1115 [==============================] - 2s 2ms/step - loss: 0.8723 - categorical_accuracy: 0.5623 - val_loss: 1.2523 - val_categorical_accuracy: 0.2059\n",
            "Epoch 20/30\n",
            "1115/1115 [==============================] - 2s 2ms/step - loss: 0.8735 - categorical_accuracy: 0.5480 - val_loss: 1.3686 - val_categorical_accuracy: 0.2059\n",
            "Epoch 21/30\n",
            "1115/1115 [==============================] - 2s 2ms/step - loss: 0.8722 - categorical_accuracy: 0.5489 - val_loss: 1.2578 - val_categorical_accuracy: 0.2647\n",
            "Epoch 22/30\n",
            "1115/1115 [==============================] - 2s 2ms/step - loss: 0.8570 - categorical_accuracy: 0.5695 - val_loss: 1.2499 - val_categorical_accuracy: 0.2059\n",
            "Epoch 23/30\n",
            "1115/1115 [==============================] - 2s 2ms/step - loss: 0.8394 - categorical_accuracy: 0.5830 - val_loss: 1.2357 - val_categorical_accuracy: 0.2647\n",
            "Epoch 24/30\n",
            "1115/1115 [==============================] - 2s 2ms/step - loss: 0.8330 - categorical_accuracy: 0.5848 - val_loss: 1.3289 - val_categorical_accuracy: 0.2647\n",
            "Epoch 25/30\n",
            "1115/1115 [==============================] - 2s 2ms/step - loss: 0.8327 - categorical_accuracy: 0.5928 - val_loss: 1.2973 - val_categorical_accuracy: 0.2353\n",
            "Epoch 26/30\n",
            "1115/1115 [==============================] - 2s 2ms/step - loss: 0.8357 - categorical_accuracy: 0.5892 - val_loss: 1.3421 - val_categorical_accuracy: 0.2059\n",
            "Epoch 27/30\n",
            "1115/1115 [==============================] - 2s 2ms/step - loss: 0.8182 - categorical_accuracy: 0.5803 - val_loss: 1.2964 - val_categorical_accuracy: 0.3824\n",
            "Epoch 28/30\n",
            "1115/1115 [==============================] - 2s 2ms/step - loss: 0.8077 - categorical_accuracy: 0.6117 - val_loss: 1.3259 - val_categorical_accuracy: 0.3235\n",
            "Epoch 00028: early stopping\n"
          ],
          "name": "stdout"
        }
      ]
    },
    {
      "cell_type": "markdown",
      "metadata": {
        "id": "wstHa1xPfFTk"
      },
      "source": [
        "##Plotting the Training & Test Accuracy and Loss"
      ]
    },
    {
      "cell_type": "code",
      "metadata": {
        "id": "HKbfPH1IxYQH",
        "colab": {
          "base_uri": "https://localhost:8080/",
          "height": 505
        },
        "outputId": "16670dc1-afe8-47b3-8d28-976c97856e01"
      },
      "source": [
        "#Plotting the Training & Test Accuracy and Loss\n",
        "\n",
        "f, (ax1, ax2) = plt.subplots(1, 2, figsize = (15, 7.2))\n",
        "f.suptitle('Training & Testing Loss')\n",
        "\n",
        "ax1.plot(h.history['loss'], 'go-' , label = 'Train')\n",
        "ax1.plot(h.history['val_loss'],  'ro-' , label = 'Test')\n",
        "ax1.set_title('Model Loss')\n",
        "ax1.legend(['Train', 'Test'])\n",
        "ax1.set_xlabel(\"Epochs\")\n",
        "ax1.set_ylabel(\"Loss\")\n",
        "\n",
        "ax2.plot(h.history['categorical_accuracy'], 'go-', label = 'Train')\n",
        "ax2.plot(h.history['val_categorical_accuracy'], 'ro-' , label = 'Test')\n",
        "ax2.set_title('Model Accuracy')\n",
        "ax2.legend(['Train', 'Test'])\n",
        "ax2.set_xlabel(\"Epochs\")\n",
        "ax2.set_ylabel(\"Accuracy\")\n",
        "\n",
        "plt.show()"
      ],
      "execution_count": 40,
      "outputs": [
        {
          "output_type": "display_data",
          "data": {
            "image/png": "[encoded data removed]",
            "text/plain": [
              "<Figure size 1080x518.4 with 2 Axes>"
            ]
          },
          "metadata": {
            "tags": [],
            "needs_background": "light"
          }
        }
      ]
    },
    {
      "cell_type": "markdown",
      "metadata": {
        "id": "ftSk_S55e_kq"
      },
      "source": [
        " ## Plot the Classification Report and Overall Accuracy"
      ]
    },
    {
      "cell_type": "code",
      "metadata": {
        "colab": {
          "base_uri": "https://localhost:8080/"
        },
        "id": "ghN7b5JjaBLv",
        "outputId": "3b4699e1-9c21-41b9-e3e0-2e9c88e4d98b"
      },
      "source": [
        "#Print the Classification Report and Overall Accuracy\n",
        "\n",
        "from sklearn import metrics\n",
        "from sklearn.metrics import classification_report\n",
        "\n",
        "# Evaluate the model\n",
        "with tf.Session() as session:\n",
        "  K.set_session(session)\n",
        "  session.run(tf.global_variables_initializer())\n",
        "  session.run(tf.tables_initializer())\n",
        "  loss, categorical_accuracy = model.evaluate(test_text, test_label, verbose = 0)\n",
        "  print('Overall Accuracy: {}'.format(categorical_accuracy * 100))\n",
        "  y_pred = model.predict(test_text, batch_size=10, verbose=1)\n",
        "  y_pred_bool = np.argmax(y_pred, axis=1)\n",
        "  y_test_bool = np.argmax(test_label, axis=1)\n",
        "  print(classification_report(y_test_bool, y_pred_bool))\n",
        "\n",
        "\n",
        "model_score = metrics.accuracy_score(y_test_bool, y_pred_bool)\n",
        "print(model_score * 100)"
      ],
      "execution_count": 41,
      "outputs": [
        {
          "output_type": "stream",
          "text": [
            "Overall Accuracy: 80.0000011920929\n",
            "85/85 [==============================] - 1s 12ms/step\n",
            "              precision    recall  f1-score   support\n",
            "\n",
            "           0       0.80      1.00      0.89        68\n",
            "           1       0.00      0.00      0.00         6\n",
            "           2       0.00      0.00      0.00         5\n",
            "           3       0.00      0.00      0.00         4\n",
            "           4       0.00      0.00      0.00         2\n",
            "\n",
            "    accuracy                           0.80        85\n",
            "   macro avg       0.16      0.20      0.18        85\n",
            "weighted avg       0.64      0.80      0.71        85\n",
            "\n",
            "80.0\n"
          ],
          "name": "stdout"
        },
        {
          "output_type": "stream",
          "text": [
            "/usr/local/lib/python3.7/dist-packages/sklearn/metrics/_classification.py:1272: UndefinedMetricWarning: Precision and F-score are ill-defined and being set to 0.0 in labels with no predicted samples. Use `zero_division` parameter to control this behavior.\n",
            "  _warn_prf(average, modifier, msg_start, len(result))\n"
          ],
          "name": "stderr"
        }
      ]
    },
    {
      "cell_type": "markdown",
      "metadata": {
        "id": "Bv3XHyfle9L9"
      },
      "source": [
        "##Plot the confusion matrix"
      ]
    },
    {
      "cell_type": "code",
      "metadata": {
        "colab": {
          "base_uri": "https://localhost:8080/",
          "height": 445
        },
        "id": "tuwN_7XCQDno",
        "outputId": "31800e13-9504-4008-efc2-0f69250d3da3"
      },
      "source": [
        "#Print Confusion Matrix\n",
        "import matplotlib.pyplot as plt\n",
        "import seaborn as sns\n",
        "from sklearn.metrics import confusion_matrix\n",
        "\n",
        "cm = confusion_matrix(y_test_bool, y_pred_bool)\n",
        "\n",
        "#Plot the  Confusion Matrix\n",
        "\n",
        "plt.figure(figsize = (10,7))\n",
        "sns.heatmap(cm, annot=True)"
      ],
      "execution_count": 42,
      "outputs": [
        {
          "output_type": "execute_result",
          "data": {
            "text/plain": [
              "<matplotlib.axes._subplots.AxesSubplot at 0x7fd27d855290>"
            ]
          },
          "metadata": {
            "tags": []
          },
          "execution_count": 42
        },
        {
          "output_type": "display_data",
          "data": {
            "image/png": "[encoded data removed]",
            "text/plain": [
              "<Figure size 720x504 with 2 Axes>"
            ]
          },
          "metadata": {
            "tags": [],
            "needs_background": "light"
          }
        }
      ]
    },
    {
      "cell_type": "code",
      "metadata": {
        "id": "O2hS9CxFuRY9",
        "colab": {
          "base_uri": "https://localhost:8080/",
          "height": 86
        },
        "outputId": "d8528cda-89a2-44cb-bd3c-aba379024654"
      },
      "source": [
        "#Prediction with Raw Text\n",
        "\n",
        "#new_text = [\"In what year did the titanic sink ?\", \"What is the highest peak in California ?\", \"Who invented the light bulb ?\"]\n",
        "new_text = [\"In the sub-station MILPO located at level +170 when the collaborator was doing the excavation work with a pick (hand tool), hitting a rock with the flat part of the beak, it bounces off hitting the steel tip of the safety shoe and then the metatarsal area of â€‹â€‹the left foot of the collaborator causing the injury.\", \"\",\"\"]\n",
        "new_text = np.array(new_text, dtype=object)[:, np.newaxis]\n",
        "with tf.Session() as session:\n",
        "  K.set_session(session)\n",
        "  session.run(tf.global_variables_initializer())\n",
        "  session.run(tf.tables_initializer())\n",
        "  model.load_weights('./model_lstm.h5')  \n",
        "  predicts = model.predict(new_text, batch_size=32)\n",
        "\n",
        "print(predicts)\n",
        "\n",
        "categories = df_train[target].cat.categories.tolist()\n",
        "predict_logits = predicts.argmax(axis=1)\n",
        "predict_labels = [categories[logit] for logit in predict_logits]\n",
        "predict_labels[0]"
      ],
      "execution_count": 43,
      "outputs": [
        {
          "output_type": "stream",
          "text": [
            "[[3.8274679e-01 1.7441720e-01 2.5982565e-01 1.8253899e-01 4.7143843e-04]\n",
            " [3.1311938e-01 5.8775920e-02 5.5998611e-01 6.4494617e-02 3.6239543e-03]\n",
            " [3.1311938e-01 5.8775920e-02 5.5998611e-01 6.4494617e-02 3.6239543e-03]]\n"
          ],
          "name": "stdout"
        },
        {
          "output_type": "execute_result",
          "data": {
            "application/vnd.google.colaboratory.intrinsic+json": {
              "type": "string"
            },
            "text/plain": [
              "'I'"
            ]
          },
          "metadata": {
            "tags": []
          },
          "execution_count": 43
        }
      ]
    }
  ]
}