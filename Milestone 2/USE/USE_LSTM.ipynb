{
  "nbformat": 4,
  "nbformat_minor": 0,
  "metadata": {
    "colab": {
      "name": "USE_LSTM.ipynb",
      "provenance": [],
      "collapsed_sections": []
    },
    "kernelspec": {
      "name": "python3",
      "display_name": "Python 3"
    },
    "accelerator": "GPU"
  },
  "cells": [
    {
      "cell_type": "code",
      "metadata": {
        "colab": {
          "base_uri": "https://localhost:8080/"
        },
        "id": "QHjLRONpXEpY",
        "outputId": "933ebcfd-5afd-4552-a787-ec30c4a8b295"
      },
      "source": [
        "# Mounting Google Drive\n",
        "from google.colab import drive\n",
        "drive.mount('/content/drive')"
      ],
      "execution_count": 56,
      "outputs": [
        {
          "output_type": "stream",
          "text": [
            "Drive already mounted at /content/drive; to attempt to forcibly remount, call drive.mount(\"/content/drive\", force_remount=True).\n"
          ],
          "name": "stdout"
        }
      ]
    },
    {
      "cell_type": "code",
      "metadata": {
        "id": "U4ueEcjdXGzQ"
      },
      "source": [
        "# Setting the current working directory\n",
        "import os; os.chdir('/content/drive/MyDrive/AI_ML/Projects/Capstone-NLP')"
      ],
      "execution_count": 57,
      "outputs": []
    },
    {
      "cell_type": "markdown",
      "metadata": {
        "id": "bYLYN0uFzIbi"
      },
      "source": [
        "### Importing the Packages"
      ]
    },
    {
      "cell_type": "code",
      "metadata": {
        "id": "MCDtOFSVKFgi"
      },
      "source": [
        "import numpy as np\n",
        "import pandas as pd\n",
        "import matplotlib.pyplot as plt\n",
        "%matplotlib inline\n",
        "import seaborn as sns\n",
        "import re\n",
        "import random\n",
        "\n",
        "import pickle\n",
        "\n",
        "from sklearn.model_selection import train_test_split\n",
        "from sklearn.linear_model import LogisticRegression\n",
        "from sklearn.preprocessing import LabelEncoder\n",
        "from sklearn.preprocessing import OneHotEncoder\n",
        "from sklearn.metrics import accuracy_score\n",
        "\n",
        "from sklearn.metrics import classification_report, confusion_matrix, roc_curve"
      ],
      "execution_count": 58,
      "outputs": []
    },
    {
      "cell_type": "markdown",
      "metadata": {
        "id": "pdlIbPVXgJj8"
      },
      "source": [
        "## Load the dataset"
      ]
    },
    {
      "cell_type": "code",
      "metadata": {
        "id": "oaPEETXUKI-o",
        "colab": {
          "base_uri": "https://localhost:8080/",
          "height": 289
        },
        "outputId": "6cfbb254-1388-4889-aad0-72e31079ddb7"
      },
      "source": [
        "#Function 1.1 - Load the dataset\n",
        "\n",
        "def load_dataset(filename):\n",
        "  data = pd.read_csv(filename)\n",
        "  return data\n",
        "\n",
        "#Function 1.2 - Dataset Cleansing\n",
        "\n",
        "def data_cleansing_info(data):\n",
        "  data.drop(\"Unnamed: 0\", axis=1, inplace=True)\n",
        "  data.rename(columns={'Data':'Date', 'Countries':'Country', 'Accident Level' : 'AccLevel' ,  'Genre':'Gender', 'Employee or Third Party':'Employee type' , 'Potential Accident Level':'Pot_AccLevel', 'Critical Risk':'Cri_Risk'}, inplace=True)\n",
        "  return data.head(5), data.isnull().sum()\n",
        "\n",
        "data = load_dataset(\"IHMStefanini_industrial_safety_and_health_database_with_accidents_description.csv\")\n",
        "data.head()\n",
        "\n",
        "# Preparing the data for our model\n",
        "# Done some preprocessing on the dataset to the 5 acc level:\n",
        "\n",
        "# Data Cleansing\n",
        "# Name Corrections\n",
        "# Replace Roman numerals to Integers\n",
        "\n",
        "data_cleansing_info(data)\n",
        "data.head() #Column names corrected"
      ],
      "execution_count": 59,
      "outputs": [
        {
          "output_type": "execute_result",
          "data": {
            "text/html": [
              "<div>\n",
              "<style scoped>\n",
              "    .dataframe tbody tr th:only-of-type {\n",
              "        vertical-align: middle;\n",
              "    }\n",
              "\n",
              "    .dataframe tbody tr th {\n",
              "        vertical-align: top;\n",
              "    }\n",
              "\n",
              "    .dataframe thead th {\n",
              "        text-align: right;\n",
              "    }\n",
              "</style>\n",
              "<table border=\"1\" class=\"dataframe\">\n",
              "  <thead>\n",
              "    <tr style=\"text-align: right;\">\n",
              "      <th></th>\n",
              "      <th>Date</th>\n",
              "      <th>Country</th>\n",
              "      <th>Local</th>\n",
              "      <th>Industry Sector</th>\n",
              "      <th>AccLevel</th>\n",
              "      <th>Pot_AccLevel</th>\n",
              "      <th>Gender</th>\n",
              "      <th>Employee type</th>\n",
              "      <th>Cri_Risk</th>\n",
              "      <th>Description</th>\n",
              "    </tr>\n",
              "  </thead>\n",
              "  <tbody>\n",
              "    <tr>\n",
              "      <th>0</th>\n",
              "      <td>1/1/2016 0:00</td>\n",
              "      <td>Country_01</td>\n",
              "      <td>Local_01</td>\n",
              "      <td>Mining</td>\n",
              "      <td>I</td>\n",
              "      <td>IV</td>\n",
              "      <td>Male</td>\n",
              "      <td>Third Party</td>\n",
              "      <td>Pressed</td>\n",
              "      <td>While removing the drill rod of the Jumbo 08 f...</td>\n",
              "    </tr>\n",
              "    <tr>\n",
              "      <th>1</th>\n",
              "      <td>1/2/2016 0:00</td>\n",
              "      <td>Country_02</td>\n",
              "      <td>Local_02</td>\n",
              "      <td>Mining</td>\n",
              "      <td>I</td>\n",
              "      <td>IV</td>\n",
              "      <td>Male</td>\n",
              "      <td>Employee</td>\n",
              "      <td>Pressurized Systems</td>\n",
              "      <td>During the activation of a sodium sulphide pum...</td>\n",
              "    </tr>\n",
              "    <tr>\n",
              "      <th>2</th>\n",
              "      <td>1/6/2016 0:00</td>\n",
              "      <td>Country_01</td>\n",
              "      <td>Local_03</td>\n",
              "      <td>Mining</td>\n",
              "      <td>I</td>\n",
              "      <td>III</td>\n",
              "      <td>Male</td>\n",
              "      <td>Third Party (Remote)</td>\n",
              "      <td>Manual Tools</td>\n",
              "      <td>In the sub-station MILPO located at level +170...</td>\n",
              "    </tr>\n",
              "    <tr>\n",
              "      <th>3</th>\n",
              "      <td>1/8/2016 0:00</td>\n",
              "      <td>Country_01</td>\n",
              "      <td>Local_04</td>\n",
              "      <td>Mining</td>\n",
              "      <td>I</td>\n",
              "      <td>I</td>\n",
              "      <td>Male</td>\n",
              "      <td>Third Party</td>\n",
              "      <td>Others</td>\n",
              "      <td>Being 9:45 am. approximately in the Nv. 1880 C...</td>\n",
              "    </tr>\n",
              "    <tr>\n",
              "      <th>4</th>\n",
              "      <td>1/10/2016 0:00</td>\n",
              "      <td>Country_01</td>\n",
              "      <td>Local_04</td>\n",
              "      <td>Mining</td>\n",
              "      <td>IV</td>\n",
              "      <td>IV</td>\n",
              "      <td>Male</td>\n",
              "      <td>Third Party</td>\n",
              "      <td>Others</td>\n",
              "      <td>Approximately at 11:45 a.m. in circumstances t...</td>\n",
              "    </tr>\n",
              "  </tbody>\n",
              "</table>\n",
              "</div>"
            ],
            "text/plain": [
              "             Date  ...                                        Description\n",
              "0   1/1/2016 0:00  ...  While removing the drill rod of the Jumbo 08 f...\n",
              "1   1/2/2016 0:00  ...  During the activation of a sodium sulphide pum...\n",
              "2   1/6/2016 0:00  ...  In the sub-station MILPO located at level +170...\n",
              "3   1/8/2016 0:00  ...  Being 9:45 am. approximately in the Nv. 1880 C...\n",
              "4  1/10/2016 0:00  ...  Approximately at 11:45 a.m. in circumstances t...\n",
              "\n",
              "[5 rows x 10 columns]"
            ]
          },
          "metadata": {
            "tags": []
          },
          "execution_count": 59
        }
      ]
    },
    {
      "cell_type": "markdown",
      "metadata": {
        "id": "TPYNFoWOftCD"
      },
      "source": [
        "## Preparing the data for our model\n",
        "\n",
        "Done some preprocessing on the dataset to the 5 acc level:\n",
        "- Data Cleansing\n",
        "- Name Corrections\n",
        "- Replace Roman numerals to Integers"
      ]
    },
    {
      "cell_type": "code",
      "metadata": {
        "colab": {
          "base_uri": "https://localhost:8080/"
        },
        "id": "pe1QhobyzJ0c",
        "outputId": "46398cb3-246b-45bd-eaef-fe0e3b6e4011"
      },
      "source": [
        "data.info()"
      ],
      "execution_count": 60,
      "outputs": [
        {
          "output_type": "stream",
          "text": [
            "<class 'pandas.core.frame.DataFrame'>\n",
            "RangeIndex: 425 entries, 0 to 424\n",
            "Data columns (total 10 columns):\n",
            " #   Column           Non-Null Count  Dtype \n",
            "---  ------           --------------  ----- \n",
            " 0   Date             425 non-null    object\n",
            " 1   Country          425 non-null    object\n",
            " 2   Local            425 non-null    object\n",
            " 3   Industry Sector  425 non-null    object\n",
            " 4   AccLevel         425 non-null    object\n",
            " 5   Pot_AccLevel     425 non-null    object\n",
            " 6   Gender           425 non-null    object\n",
            " 7   Employee type    425 non-null    object\n",
            " 8   Cri_Risk         425 non-null    object\n",
            " 9   Description      425 non-null    object\n",
            "dtypes: object(10)\n",
            "memory usage: 33.3+ KB\n"
          ],
          "name": "stdout"
        }
      ]
    },
    {
      "cell_type": "code",
      "metadata": {
        "id": "ueXwfB4SUl3u"
      },
      "source": [
        "data1 = data.copy() # Backup"
      ],
      "execution_count": 61,
      "outputs": []
    },
    {
      "cell_type": "code",
      "metadata": {
        "colab": {
          "base_uri": "https://localhost:8080/"
        },
        "id": "uwok89oP0YO_",
        "outputId": "4502bcaf-3867-449a-9419-7f87b34501b5"
      },
      "source": [
        "data.columns"
      ],
      "execution_count": 62,
      "outputs": [
        {
          "output_type": "execute_result",
          "data": {
            "text/plain": [
              "Index(['Date', 'Country', 'Local', 'Industry Sector', 'AccLevel',\n",
              "       'Pot_AccLevel', 'Gender', 'Employee type', 'Cri_Risk', 'Description'],\n",
              "      dtype='object')"
            ]
          },
          "metadata": {
            "tags": []
          },
          "execution_count": 62
        }
      ]
    },
    {
      "cell_type": "code",
      "metadata": {
        "colab": {
          "base_uri": "https://localhost:8080/"
        },
        "id": "ETQxlEbEVVaX",
        "outputId": "e8dbd876-e822-4820-fdc8-fe6cbc7ad865"
      },
      "source": [
        "# NLP Import packages\n",
        "import nltk; nltk.download('wordnet'); nltk.download('stopwords')\n",
        "from nltk.stem import WordNetLemmatizer\n",
        "from nltk.corpus import wordnet as wn\n",
        "from nltk.corpus import stopwords\n",
        "from wordcloud import WordCloud\n",
        "import matplotlib.pyplot as plt\n",
        "import string"
      ],
      "execution_count": 63,
      "outputs": [
        {
          "output_type": "stream",
          "text": [
            "[nltk_data] Downloading package wordnet to /root/nltk_data...\n",
            "[nltk_data]   Package wordnet is already up-to-date!\n",
            "[nltk_data] Downloading package stopwords to /root/nltk_data...\n",
            "[nltk_data]   Package stopwords is already up-to-date!\n"
          ],
          "name": "stdout"
        }
      ]
    },
    {
      "cell_type": "code",
      "metadata": {
        "id": "EkVRuhj1UDAn"
      },
      "source": [
        "import re\n",
        "from string import punctuation\n",
        "from wordcloud import STOPWORDS\n",
        "\n",
        "stop_words =  stopwords.words('english')\n",
        "\n",
        "def text_cleaning(text, remove_stop_words=True, lemmatize_words=True):\n",
        "    # Clean the text, with the option to remove stop_words and to lemmatize word\n",
        "\n",
        "    # Clean the text\n",
        "    text = re.sub(r\"[^A-Za-z0-9]\", \" \", text)\n",
        "    text = re.sub(r\"\\'s\", \" \", text)\n",
        "    text = re.sub(r\"n't\", \" not \", text)\n",
        "    text = re.sub(r\"I'm\", \"I am\", text)\n",
        "    text = re.sub(r\"ur\", \" your \", text)\n",
        "    text = re.sub(r\" nd \",\" and \",text)\n",
        "    text = re.sub(r\"\\'d\", \" would \", text)\n",
        "    text = re.sub(r\"\\'ll\", \" will \", text)\n",
        "    text = re.sub(r\" tkts \",\" tickets \",text)\n",
        "    text = re.sub(r\" c \",\" can \",text)\n",
        "    text = re.sub(r\" e g \", \" eg \", text)\n",
        "    text =  re.sub(r'http\\S+',' link ', text)\n",
        "    text = re.sub(r'\\b\\d+(?:\\.\\d+)?\\s+', '', text) # remove numbers\n",
        "    text = re.sub(r\" u \",\" you \",text)\n",
        "    text = text.lower()  # set in lowercase \n",
        "        \n",
        "    # Remove punctuation from text\n",
        "    text = ''.join([c for c in text if c not in punctuation])\n",
        "    \n",
        "    # Optionally, remove stop words\n",
        "    if remove_stop_words:\n",
        "        text = text.split()\n",
        "        text = [w for w in text if not w in stop_words]\n",
        "        text = \" \".join(text)\n",
        "    \n",
        "    # Optionally, shorten words to their stems\n",
        "    if lemmatize_words:\n",
        "        text = text.split()\n",
        "        lemmatizer = WordNetLemmatizer() \n",
        "        lemmatized_words = [lemmatizer.lemmatize(word) for word in text]\n",
        "        text = \" \".join(lemmatized_words)\n",
        "    \n",
        "    # Return a list of words\n",
        "    return(text)"
      ],
      "execution_count": 64,
      "outputs": []
    },
    {
      "cell_type": "code",
      "metadata": {
        "colab": {
          "base_uri": "https://localhost:8080/",
          "height": 210
        },
        "id": "O10rjNW7UNO0",
        "outputId": "be67d992-4410-45f0-cee4-012680567590"
      },
      "source": [
        "#clean the dataset \n",
        "data[\"clean_Description\"] = data[\"Description\"].apply(text_cleaning)\n",
        "data.head(3)"
      ],
      "execution_count": 65,
      "outputs": [
        {
          "output_type": "execute_result",
          "data": {
            "text/html": [
              "<div>\n",
              "<style scoped>\n",
              "    .dataframe tbody tr th:only-of-type {\n",
              "        vertical-align: middle;\n",
              "    }\n",
              "\n",
              "    .dataframe tbody tr th {\n",
              "        vertical-align: top;\n",
              "    }\n",
              "\n",
              "    .dataframe thead th {\n",
              "        text-align: right;\n",
              "    }\n",
              "</style>\n",
              "<table border=\"1\" class=\"dataframe\">\n",
              "  <thead>\n",
              "    <tr style=\"text-align: right;\">\n",
              "      <th></th>\n",
              "      <th>Date</th>\n",
              "      <th>Country</th>\n",
              "      <th>Local</th>\n",
              "      <th>Industry Sector</th>\n",
              "      <th>AccLevel</th>\n",
              "      <th>Pot_AccLevel</th>\n",
              "      <th>Gender</th>\n",
              "      <th>Employee type</th>\n",
              "      <th>Cri_Risk</th>\n",
              "      <th>Description</th>\n",
              "      <th>clean_Description</th>\n",
              "    </tr>\n",
              "  </thead>\n",
              "  <tbody>\n",
              "    <tr>\n",
              "      <th>0</th>\n",
              "      <td>1/1/2016 0:00</td>\n",
              "      <td>Country_01</td>\n",
              "      <td>Local_01</td>\n",
              "      <td>Mining</td>\n",
              "      <td>I</td>\n",
              "      <td>IV</td>\n",
              "      <td>Male</td>\n",
              "      <td>Third Party</td>\n",
              "      <td>Pressed</td>\n",
              "      <td>While removing the drill rod of the Jumbo 08 f...</td>\n",
              "      <td>removing drill rod jumbo maintenance superviso...</td>\n",
              "    </tr>\n",
              "    <tr>\n",
              "      <th>1</th>\n",
              "      <td>1/2/2016 0:00</td>\n",
              "      <td>Country_02</td>\n",
              "      <td>Local_02</td>\n",
              "      <td>Mining</td>\n",
              "      <td>I</td>\n",
              "      <td>IV</td>\n",
              "      <td>Male</td>\n",
              "      <td>Employee</td>\n",
              "      <td>Pressurized Systems</td>\n",
              "      <td>During the activation of a sodium sulphide pum...</td>\n",
              "      <td>ing activation sodium sulphide pump piping unc...</td>\n",
              "    </tr>\n",
              "    <tr>\n",
              "      <th>2</th>\n",
              "      <td>1/6/2016 0:00</td>\n",
              "      <td>Country_01</td>\n",
              "      <td>Local_03</td>\n",
              "      <td>Mining</td>\n",
              "      <td>I</td>\n",
              "      <td>III</td>\n",
              "      <td>Male</td>\n",
              "      <td>Third Party (Remote)</td>\n",
              "      <td>Manual Tools</td>\n",
              "      <td>In the sub-station MILPO located at level +170...</td>\n",
              "      <td>sub station milpo located level collaborator e...</td>\n",
              "    </tr>\n",
              "  </tbody>\n",
              "</table>\n",
              "</div>"
            ],
            "text/plain": [
              "            Date  ...                                  clean_Description\n",
              "0  1/1/2016 0:00  ...  removing drill rod jumbo maintenance superviso...\n",
              "1  1/2/2016 0:00  ...  ing activation sodium sulphide pump piping unc...\n",
              "2  1/6/2016 0:00  ...  sub station milpo located level collaborator e...\n",
              "\n",
              "[3 rows x 11 columns]"
            ]
          },
          "metadata": {
            "tags": []
          },
          "execution_count": 65
        }
      ]
    },
    {
      "cell_type": "code",
      "metadata": {
        "colab": {
          "base_uri": "https://localhost:8080/",
          "height": 306
        },
        "id": "Bem-vGEcVk5L",
        "outputId": "a1e035bc-70d8-48ec-aa44-5abc448971df"
      },
      "source": [
        "data.drop('Description', axis=1, inplace=True)\n",
        "data.rename(columns={'clean_Description':'Description'}, inplace=True)\n",
        "data.head()"
      ],
      "execution_count": 66,
      "outputs": [
        {
          "output_type": "execute_result",
          "data": {
            "text/html": [
              "<div>\n",
              "<style scoped>\n",
              "    .dataframe tbody tr th:only-of-type {\n",
              "        vertical-align: middle;\n",
              "    }\n",
              "\n",
              "    .dataframe tbody tr th {\n",
              "        vertical-align: top;\n",
              "    }\n",
              "\n",
              "    .dataframe thead th {\n",
              "        text-align: right;\n",
              "    }\n",
              "</style>\n",
              "<table border=\"1\" class=\"dataframe\">\n",
              "  <thead>\n",
              "    <tr style=\"text-align: right;\">\n",
              "      <th></th>\n",
              "      <th>Date</th>\n",
              "      <th>Country</th>\n",
              "      <th>Local</th>\n",
              "      <th>Industry Sector</th>\n",
              "      <th>AccLevel</th>\n",
              "      <th>Pot_AccLevel</th>\n",
              "      <th>Gender</th>\n",
              "      <th>Employee type</th>\n",
              "      <th>Cri_Risk</th>\n",
              "      <th>Description</th>\n",
              "    </tr>\n",
              "  </thead>\n",
              "  <tbody>\n",
              "    <tr>\n",
              "      <th>0</th>\n",
              "      <td>1/1/2016 0:00</td>\n",
              "      <td>Country_01</td>\n",
              "      <td>Local_01</td>\n",
              "      <td>Mining</td>\n",
              "      <td>I</td>\n",
              "      <td>IV</td>\n",
              "      <td>Male</td>\n",
              "      <td>Third Party</td>\n",
              "      <td>Pressed</td>\n",
              "      <td>removing drill rod jumbo maintenance superviso...</td>\n",
              "    </tr>\n",
              "    <tr>\n",
              "      <th>1</th>\n",
              "      <td>1/2/2016 0:00</td>\n",
              "      <td>Country_02</td>\n",
              "      <td>Local_02</td>\n",
              "      <td>Mining</td>\n",
              "      <td>I</td>\n",
              "      <td>IV</td>\n",
              "      <td>Male</td>\n",
              "      <td>Employee</td>\n",
              "      <td>Pressurized Systems</td>\n",
              "      <td>ing activation sodium sulphide pump piping unc...</td>\n",
              "    </tr>\n",
              "    <tr>\n",
              "      <th>2</th>\n",
              "      <td>1/6/2016 0:00</td>\n",
              "      <td>Country_01</td>\n",
              "      <td>Local_03</td>\n",
              "      <td>Mining</td>\n",
              "      <td>I</td>\n",
              "      <td>III</td>\n",
              "      <td>Male</td>\n",
              "      <td>Third Party (Remote)</td>\n",
              "      <td>Manual Tools</td>\n",
              "      <td>sub station milpo located level collaborator e...</td>\n",
              "    </tr>\n",
              "    <tr>\n",
              "      <th>3</th>\n",
              "      <td>1/8/2016 0:00</td>\n",
              "      <td>Country_01</td>\n",
              "      <td>Local_04</td>\n",
              "      <td>Mining</td>\n",
              "      <td>I</td>\n",
              "      <td>I</td>\n",
              "      <td>Male</td>\n",
              "      <td>Third Party</td>\n",
              "      <td>Others</td>\n",
              "      <td>approximately nv cx ob7 personnel begin task u...</td>\n",
              "    </tr>\n",
              "    <tr>\n",
              "      <th>4</th>\n",
              "      <td>1/10/2016 0:00</td>\n",
              "      <td>Country_01</td>\n",
              "      <td>Local_04</td>\n",
              "      <td>Mining</td>\n",
              "      <td>IV</td>\n",
              "      <td>IV</td>\n",
              "      <td>Male</td>\n",
              "      <td>Third Party</td>\n",
              "      <td>Others</td>\n",
              "      <td>approximately circumstance mechanic anthony gr...</td>\n",
              "    </tr>\n",
              "  </tbody>\n",
              "</table>\n",
              "</div>"
            ],
            "text/plain": [
              "             Date  ...                                        Description\n",
              "0   1/1/2016 0:00  ...  removing drill rod jumbo maintenance superviso...\n",
              "1   1/2/2016 0:00  ...  ing activation sodium sulphide pump piping unc...\n",
              "2   1/6/2016 0:00  ...  sub station milpo located level collaborator e...\n",
              "3   1/8/2016 0:00  ...  approximately nv cx ob7 personnel begin task u...\n",
              "4  1/10/2016 0:00  ...  approximately circumstance mechanic anthony gr...\n",
              "\n",
              "[5 rows x 10 columns]"
            ]
          },
          "metadata": {
            "tags": []
          },
          "execution_count": 66
        }
      ]
    },
    {
      "cell_type": "code",
      "metadata": {
        "id": "bCN8123IL4BI"
      },
      "source": [
        "pickle.dump( data, open( \"clean_data.p\", \"wb\" ))"
      ],
      "execution_count": 67,
      "outputs": []
    },
    {
      "cell_type": "code",
      "metadata": {
        "id": "lFuU5ZodMMuB"
      },
      "source": [
        "data = pickle.load( open( \"clean_data.p\", \"rb\" ))"
      ],
      "execution_count": 68,
      "outputs": []
    },
    {
      "cell_type": "markdown",
      "metadata": {
        "id": "cBijdvmaOTLy"
      },
      "source": [
        "### Taking Target input from User"
      ]
    },
    {
      "cell_type": "code",
      "metadata": {
        "colab": {
          "base_uri": "https://localhost:8080/"
        },
        "id": "TBHgh65ZNMrO",
        "outputId": "faf06cbe-248a-428f-bd17-aa92f5774a60"
      },
      "source": [
        "t = ['AccLevel', 'Pot_AccLevel', 'Cri_Risk']\n",
        "target = input(\"Please select target 'AccLevel', 'Pot_AccLevel', 'Cri_Risk': \")"
      ],
      "execution_count": 69,
      "outputs": [
        {
          "output_type": "stream",
          "text": [
            "Please select target 'AccLevel', 'Pot_AccLevel', 'Cri_Risk': Pot_AccLevel\n"
          ],
          "name": "stdout"
        }
      ]
    },
    {
      "cell_type": "code",
      "metadata": {
        "colab": {
          "base_uri": "https://localhost:8080/",
          "height": 35
        },
        "id": "-aqS77df4UkL",
        "outputId": "feb2231c-5229-4a55-d625-12be2ffde183"
      },
      "source": [
        "target"
      ],
      "execution_count": 70,
      "outputs": [
        {
          "output_type": "execute_result",
          "data": {
            "application/vnd.google.colaboratory.intrinsic+json": {
              "type": "string"
            },
            "text/plain": [
              "'Pot_AccLevel'"
            ]
          },
          "metadata": {
            "tags": []
          },
          "execution_count": 70
        }
      ]
    },
    {
      "cell_type": "code",
      "metadata": {
        "id": "nY9qxHEyk_Aw",
        "colab": {
          "base_uri": "https://localhost:8080/",
          "height": 204
        },
        "outputId": "3f9b8450-6955-4ee9-9471-80696e241b08"
      },
      "source": [
        "df = pd.DataFrame(data, columns=[target, 'Description'])\n",
        "df[target] = df[target].astype('category')\n",
        "df_backup = df[target]\n",
        "df.head()"
      ],
      "execution_count": 71,
      "outputs": [
        {
          "output_type": "execute_result",
          "data": {
            "text/html": [
              "<div>\n",
              "<style scoped>\n",
              "    .dataframe tbody tr th:only-of-type {\n",
              "        vertical-align: middle;\n",
              "    }\n",
              "\n",
              "    .dataframe tbody tr th {\n",
              "        vertical-align: top;\n",
              "    }\n",
              "\n",
              "    .dataframe thead th {\n",
              "        text-align: right;\n",
              "    }\n",
              "</style>\n",
              "<table border=\"1\" class=\"dataframe\">\n",
              "  <thead>\n",
              "    <tr style=\"text-align: right;\">\n",
              "      <th></th>\n",
              "      <th>Pot_AccLevel</th>\n",
              "      <th>Description</th>\n",
              "    </tr>\n",
              "  </thead>\n",
              "  <tbody>\n",
              "    <tr>\n",
              "      <th>0</th>\n",
              "      <td>IV</td>\n",
              "      <td>removing drill rod jumbo maintenance superviso...</td>\n",
              "    </tr>\n",
              "    <tr>\n",
              "      <th>1</th>\n",
              "      <td>IV</td>\n",
              "      <td>ing activation sodium sulphide pump piping unc...</td>\n",
              "    </tr>\n",
              "    <tr>\n",
              "      <th>2</th>\n",
              "      <td>III</td>\n",
              "      <td>sub station milpo located level collaborator e...</td>\n",
              "    </tr>\n",
              "    <tr>\n",
              "      <th>3</th>\n",
              "      <td>I</td>\n",
              "      <td>approximately nv cx ob7 personnel begin task u...</td>\n",
              "    </tr>\n",
              "    <tr>\n",
              "      <th>4</th>\n",
              "      <td>IV</td>\n",
              "      <td>approximately circumstance mechanic anthony gr...</td>\n",
              "    </tr>\n",
              "  </tbody>\n",
              "</table>\n",
              "</div>"
            ],
            "text/plain": [
              "  Pot_AccLevel                                        Description\n",
              "0           IV  removing drill rod jumbo maintenance superviso...\n",
              "1           IV  ing activation sodium sulphide pump piping unc...\n",
              "2          III  sub station milpo located level collaborator e...\n",
              "3            I  approximately nv cx ob7 personnel begin task u...\n",
              "4           IV  approximately circumstance mechanic anthony gr..."
            ]
          },
          "metadata": {
            "tags": []
          },
          "execution_count": 71
        }
      ]
    },
    {
      "cell_type": "code",
      "metadata": {
        "colab": {
          "base_uri": "https://localhost:8080/"
        },
        "id": "SatYfmdiElEa",
        "outputId": "5862d458-a88a-4579-e575-402bde23bb7c"
      },
      "source": [
        "data['Cri_Risk'].value_counts()"
      ],
      "execution_count": 72,
      "outputs": [
        {
          "output_type": "execute_result",
          "data": {
            "text/plain": [
              "Others                                       232\n",
              "Pressed                                       24\n",
              "Manual Tools                                  20\n",
              "Chemical substances                           17\n",
              "Venomous Animals                              16\n",
              "Cut                                           14\n",
              "Projection                                    13\n",
              "Bees                                          10\n",
              "Fall                                           9\n",
              "Vehicles and Mobile Equipment                  8\n",
              "Pressurized Systems                            7\n",
              "Fall prevention (same level)                   7\n",
              "remains of choco                               7\n",
              "Fall prevention                                6\n",
              "Suspended Loads                                6\n",
              "Power lock                                     3\n",
              "Liquid Metal                                   3\n",
              "Pressurized Systems / Chemical Substances      3\n",
              "Blocking and isolation of energies             3\n",
              "Machine Protection                             2\n",
              "Projection of fragments                        2\n",
              "Electrical Shock                               2\n",
              "Projection/Choco                               1\n",
              "\\nNot applicable                               1\n",
              "Traffic                                        1\n",
              "Plates                                         1\n",
              "Burn                                           1\n",
              "Individual protection equipment                1\n",
              "Electrical installation                        1\n",
              "Confined space                                 1\n",
              "Projection/Burning                             1\n",
              "Poll                                           1\n",
              "Projection/Manual Tools                        1\n",
              "Name: Cri_Risk, dtype: int64"
            ]
          },
          "metadata": {
            "tags": []
          },
          "execution_count": 72
        }
      ]
    },
    {
      "cell_type": "code",
      "metadata": {
        "colab": {
          "base_uri": "https://localhost:8080/"
        },
        "id": "YH4PRyq6w5HA",
        "outputId": "fab4fc71-a73c-470c-dd14-c9534108ac67"
      },
      "source": [
        "df[target].value_counts()"
      ],
      "execution_count": 73,
      "outputs": [
        {
          "output_type": "execute_result",
          "data": {
            "text/plain": [
              "IV     143\n",
              "III    106\n",
              "II      95\n",
              "I       49\n",
              "V       31\n",
              "VI       1\n",
              "Name: Pot_AccLevel, dtype: int64"
            ]
          },
          "metadata": {
            "tags": []
          },
          "execution_count": 73
        }
      ]
    },
    {
      "cell_type": "code",
      "metadata": {
        "colab": {
          "base_uri": "https://localhost:8080/"
        },
        "id": "CiwAf9-p7NEy",
        "outputId": "8a81e84d-b595-4431-c602-3aea7661e5de"
      },
      "source": [
        "df[target].count()"
      ],
      "execution_count": 74,
      "outputs": [
        {
          "output_type": "execute_result",
          "data": {
            "text/plain": [
              "425"
            ]
          },
          "metadata": {
            "tags": []
          },
          "execution_count": 74
        }
      ]
    },
    {
      "cell_type": "code",
      "metadata": {
        "colab": {
          "base_uri": "https://localhost:8080/"
        },
        "id": "KulFqvS_7lkf",
        "outputId": "042c9f1f-3371-437d-db1e-81d5e623bf26"
      },
      "source": [
        "categories = df[target].cat.categories.tolist()\n",
        "len(categories)"
      ],
      "execution_count": 75,
      "outputs": [
        {
          "output_type": "execute_result",
          "data": {
            "text/plain": [
              "6"
            ]
          },
          "metadata": {
            "tags": []
          },
          "execution_count": 75
        }
      ]
    },
    {
      "cell_type": "code",
      "metadata": {
        "id": "6XOhwNhRFTdq"
      },
      "source": [
        "# df_upsampled_backup = df_upsampled.copy()\n",
        "# df = df_upsampled.copy()"
      ],
      "execution_count": 76,
      "outputs": []
    },
    {
      "cell_type": "code",
      "metadata": {
        "id": "fqG9kpRSn6h6"
      },
      "source": [
        "# train_text = df_train['text'].tolist()\n",
        "# train_text = np.array(train_text, dtype=object)[:, np.newaxis]\n",
        "\n",
        "# train_label = np.asarray(pd.get_dummies(df_train.label), dtype = np.int8)"
      ],
      "execution_count": 77,
      "outputs": []
    },
    {
      "cell_type": "code",
      "metadata": {
        "id": "0QC9Bv0Np_2q",
        "colab": {
          "base_uri": "https://localhost:8080/",
          "height": 419
        },
        "outputId": "6fcd113b-65d0-46da-b800-f4928963acae"
      },
      "source": [
        "# Train/Test Dataset Split\n",
        "\n",
        "# split the data into train and test set\n",
        "trainval, df_test = train_test_split(df, test_size=0.2, random_state=42, shuffle=True)\n",
        "\n",
        "# Split train into train-val\n",
        "df_train, val = train_test_split(trainval, test_size=0.1, random_state=21, shuffle=True)\n",
        "df_train"
      ],
      "execution_count": 78,
      "outputs": [
        {
          "output_type": "execute_result",
          "data": {
            "text/html": [
              "<div>\n",
              "<style scoped>\n",
              "    .dataframe tbody tr th:only-of-type {\n",
              "        vertical-align: middle;\n",
              "    }\n",
              "\n",
              "    .dataframe tbody tr th {\n",
              "        vertical-align: top;\n",
              "    }\n",
              "\n",
              "    .dataframe thead th {\n",
              "        text-align: right;\n",
              "    }\n",
              "</style>\n",
              "<table border=\"1\" class=\"dataframe\">\n",
              "  <thead>\n",
              "    <tr style=\"text-align: right;\">\n",
              "      <th></th>\n",
              "      <th>Pot_AccLevel</th>\n",
              "      <th>Description</th>\n",
              "    </tr>\n",
              "  </thead>\n",
              "  <tbody>\n",
              "    <tr>\n",
              "      <th>18</th>\n",
              "      <td>II</td>\n",
              "      <td>auxiliary wheel cathode crane g2133 changed ar...</td>\n",
              "    </tr>\n",
              "    <tr>\n",
              "      <th>85</th>\n",
              "      <td>II</td>\n",
              "      <td>parking van next cluster wooden sleeper board ...</td>\n",
              "    </tr>\n",
              "    <tr>\n",
              "      <th>31</th>\n",
              "      <td>II</td>\n",
              "      <td>level access a2 time engineer trainee planamie...</td>\n",
              "    </tr>\n",
              "    <tr>\n",
              "      <th>264</th>\n",
              "      <td>IV</td>\n",
              "      <td>time fo mechanic performed removal 1tm engine ...</td>\n",
              "    </tr>\n",
              "    <tr>\n",
              "      <th>277</th>\n",
              "      <td>IV</td>\n",
              "      <td>performing movement bar make room place calibr...</td>\n",
              "    </tr>\n",
              "    <tr>\n",
              "      <th>...</th>\n",
              "      <td>...</td>\n",
              "      <td>...</td>\n",
              "    </tr>\n",
              "    <tr>\n",
              "      <th>23</th>\n",
              "      <td>II</td>\n",
              "      <td>loosening a30 truck steering cylinder bolt usi...</td>\n",
              "    </tr>\n",
              "    <tr>\n",
              "      <th>373</th>\n",
              "      <td>II</td>\n",
              "      <td>ing marking management point supervision breed...</td>\n",
              "    </tr>\n",
              "    <tr>\n",
              "      <th>251</th>\n",
              "      <td>IV</td>\n",
              "      <td>approximately mr wilmer approach c150 drying t...</td>\n",
              "    </tr>\n",
              "    <tr>\n",
              "      <th>21</th>\n",
              "      <td>IV</td>\n",
              "      <td>raise chamber operator assistant removed drill...</td>\n",
              "    </tr>\n",
              "    <tr>\n",
              "      <th>178</th>\n",
              "      <td>II</td>\n",
              "      <td>ing torch cutting activity new evaporator trea...</td>\n",
              "    </tr>\n",
              "  </tbody>\n",
              "</table>\n",
              "<p>306 rows × 2 columns</p>\n",
              "</div>"
            ],
            "text/plain": [
              "    Pot_AccLevel                                        Description\n",
              "18            II  auxiliary wheel cathode crane g2133 changed ar...\n",
              "85            II  parking van next cluster wooden sleeper board ...\n",
              "31            II  level access a2 time engineer trainee planamie...\n",
              "264           IV  time fo mechanic performed removal 1tm engine ...\n",
              "277           IV  performing movement bar make room place calibr...\n",
              "..           ...                                                ...\n",
              "23            II  loosening a30 truck steering cylinder bolt usi...\n",
              "373           II  ing marking management point supervision breed...\n",
              "251           IV  approximately mr wilmer approach c150 drying t...\n",
              "21            IV  raise chamber operator assistant removed drill...\n",
              "178           II  ing torch cutting activity new evaporator trea...\n",
              "\n",
              "[306 rows x 2 columns]"
            ]
          },
          "metadata": {
            "tags": []
          },
          "execution_count": 78
        }
      ]
    },
    {
      "cell_type": "code",
      "metadata": {
        "id": "Nz2KQqAzfHN4"
      },
      "source": [
        "# target_column = \"AccLevel\"\n",
        "# target ={'I':1, 'II':2, 'III':3, 'IV':4, 'V':5}\n",
        "# #data['target']=data[target_column].map(target)\n",
        "\n",
        "# df_train['target']=df_train[target_column].map(target)\n",
        "# df_train"
      ],
      "execution_count": 79,
      "outputs": []
    },
    {
      "cell_type": "code",
      "metadata": {
        "id": "pB-I7rZHeAdf"
      },
      "source": [
        "# df_train['target'].astype('category')"
      ],
      "execution_count": 80,
      "outputs": []
    },
    {
      "cell_type": "code",
      "metadata": {
        "id": "vr0_BWiJgGAt"
      },
      "source": [
        "# !pip install imblearn\n",
        "# import imblearn\n",
        "# from imblearn.over_sampling import SMOTE"
      ],
      "execution_count": 81,
      "outputs": []
    },
    {
      "cell_type": "code",
      "metadata": {
        "id": "piXah2LNgMFZ"
      },
      "source": [
        "# X = df_train['Description'].values\n",
        "# y = df_train['target']"
      ],
      "execution_count": 82,
      "outputs": []
    },
    {
      "cell_type": "code",
      "metadata": {
        "id": "0ru-920shF2_"
      },
      "source": [
        "# df_train.shape"
      ],
      "execution_count": 83,
      "outputs": []
    },
    {
      "cell_type": "code",
      "metadata": {
        "id": "sbtLRBPgghL-"
      },
      "source": [
        "# print('Shape of Desc tensor:', X.shape)"
      ],
      "execution_count": 84,
      "outputs": []
    },
    {
      "cell_type": "code",
      "metadata": {
        "id": "lhmimB_zgky-"
      },
      "source": [
        "# y = pd.get_dummies(df_train['target']).values\n",
        "# print('Shape of label tensor:', y.shape)"
      ],
      "execution_count": 85,
      "outputs": []
    },
    {
      "cell_type": "code",
      "metadata": {
        "id": "cAjvuKBEdpjW"
      },
      "source": [
        "# from imblearn.over_sampling import SMOTENC\n",
        "# sm = SMOTENC(random_state=111, categorical_features=[1,2,3,4,5])\n",
        "# X_res, y_res = sm.fit_resample(X, y)"
      ],
      "execution_count": 86,
      "outputs": []
    },
    {
      "cell_type": "code",
      "metadata": {
        "colab": {
          "base_uri": "https://localhost:8080/"
        },
        "id": "G3URV26T9q3v",
        "outputId": "24c356c2-5db6-4011-f9bb-ae3c32a1301d"
      },
      "source": [
        "#Balancing the Dataset with UpSampling\n",
        "\n",
        "from sklearn.utils import resample\n",
        "df_train[target].value_counts()\n",
        "\n",
        "categories = df_train[target].cat.categories.tolist()\n",
        "categories"
      ],
      "execution_count": 87,
      "outputs": [
        {
          "output_type": "execute_result",
          "data": {
            "text/plain": [
              "['I', 'II', 'III', 'IV', 'V', 'VI']"
            ]
          },
          "metadata": {
            "tags": []
          },
          "execution_count": 87
        }
      ]
    },
    {
      "cell_type": "code",
      "metadata": {
        "id": "CHnaTAEwKcel",
        "colab": {
          "base_uri": "https://localhost:8080/"
        },
        "outputId": "89915ba9-f91c-4aae-bda3-f0f41a9b49bf"
      },
      "source": [
        "#Upsampling to match the count of the Majority Class\n",
        "\n",
        "#Assiging Classes as per each type\n",
        "\n",
        "if(target == 'AccLevel'):\n",
        "  df_train_1 = df_train[df_train[target] == \"I\"]\n",
        "  df_train_2 = df_train[df_train[target] == \"II\"]\n",
        "  df_train_3 = df_train[df_train[target] == \"III\"]\n",
        "  df_train_4 = df_train[df_train[target] == \"IV\"]\n",
        "  df_train_5 = df_train[df_train[target] == \"V\"]\n",
        "\n",
        "  df_train_2_upsampled = resample(df_train_2, replace = True, n_samples = 223 , random_state = 123)\n",
        "  df_train_3_upsampled = resample(df_train_3, replace = True, n_samples = 223 , random_state = 123)\n",
        "  df_train_4_upsampled = resample(df_train_4, replace = True, n_samples = 223 , random_state = 123)\n",
        "  df_train_5_upsampled = resample(df_train_5, replace = True, n_samples = 223 , random_state = 123)\n",
        "\n",
        "  df_train_upsampled = pd.concat([df_train_1, df_train_2_upsampled,df_train_3_upsampled, df_train_4_upsampled, df_train_5_upsampled ])\n",
        "  print(df_train_upsampled[target].value_counts())\n",
        "\n",
        "  df_train_upsampled_bkup = df_train_upsampled.copy()\n",
        "  df_train_upsampled_bkup[target].value_counts()\n",
        "\n",
        "  df_train = df_train_upsampled.copy()\n",
        "\n",
        "elif(target == 'Pot_AccLevel'):\n",
        "  df_train_1 = df_train[df_train[target] == \"I\"]\n",
        "  df_train_2 = df_train[df_train[target] == \"II\"]\n",
        "  df_train_3 = df_train[df_train[target] == \"III\"]\n",
        "  df_train_4 = df_train[df_train[target] == \"IV\"]\n",
        "  df_train_5 = df_train[df_train[target] == \"V\"]\n",
        "  df_train_6 = df_train[df_train[target] == \"VI\"]\n",
        "\n",
        "  df_train_1_upsampled = resample(df_train_1, replace = True, n_samples = 143 , random_state = 123)\n",
        "  df_train_2_upsampled = resample(df_train_2, replace = True, n_samples = 143 , random_state = 123)\n",
        "  df_train_3_upsampled = resample(df_train_3, replace = True, n_samples = 143 , random_state = 123)\n",
        "  df_train_5_upsampled = resample(df_train_5, replace = True, n_samples = 143 , random_state = 123)\n",
        "  df_train_6_upsampled = resample(df_train_6, replace = True, n_samples = 143 , random_state = 123)\n",
        " \n",
        "  df_train_upsampled = pd.concat([df_train_1_upsampled, df_train_2_upsampled,df_train_3_upsampled, df_train_4, df_train_5_upsampled, df_train_6_upsampled ])\n",
        "  print(df_train_upsampled[target].value_counts())\n",
        "\n",
        "  df_train_upsampled_bkup = df_train_upsampled.copy()\n",
        "  df_train_upsampled_bkup[target].value_counts()\n",
        "\n",
        "  df_train = df_train_upsampled.copy()\n",
        "\n",
        "else:\n",
        "  df_train_1 = df_train[df_train[target] == \"Others\"]\n",
        "  df_train_2 = df_train[df_train[target] == \"Pressed\"]\n",
        "  df_train_3 = df_train[df_train[target] == \"Manual Tools\"]\n",
        "  df_train_4 = df_train[df_train[target] == \"Chemical substances\"]\n",
        "  df_train_5 = df_train[df_train[target] == \"Venomous Animals\"]\n",
        "  df_train_6 = df_train[df_train[target] == \"Cut\"]\n",
        "  df_train_7 = df_train[df_train[target] == \"Projection\"]\n",
        "  df_train_8 = df_train[df_train[target] == \"Bees\"]\n",
        "  df_train_9 = df_train[df_train[target] == \"Fall\"]\n",
        "  df_train_10 = df_train[df_train[target] == \"Vehicles and Mobile Equipment\"]\n",
        "  df_train_11 = df_train[df_train[target] == \"Pressurized Systems\"]\n",
        "  df_train_12 = df_train[df_train[target] == \"remains of choco\"]\n",
        "  df_train_13 = df_train[df_train[target] == \"Fall prevention (same level)\"]\n",
        "  df_train_14 = df_train[df_train[target] == \"Suspended Loads\"]\n",
        "  df_train_15= df_train[df_train[target] == \"Fall prevention\"]\n",
        "  df_train_16 = df_train[df_train[target] == \"Pressurized Systems / Chemical Substances\"]\n",
        "  df_train_17 = df_train[df_train[target] == \"Blocking and isolation of energies\"]\n",
        "  df_train_18 = df_train[df_train[target] == \"Liquid Metal\"]\n",
        "  df_train_19 = df_train[df_train[target] == \"Power lock\"]\n",
        "  df_train_20 = df_train[df_train[target] == \"Machine Protection\"]\n",
        "  df_train_21 = df_train[df_train[target] == \"Electrical Shock\"]\n",
        "  df_train_22 = df_train[df_train[target] == \"Projection of fragments\"]\n",
        "  df_train_23 = df_train[df_train[target] == \"Confined space\"]\n",
        "  df_train_24 = df_train[df_train[target] == \"Burn\"]\n",
        "  #df_train_25 = df_train[df_train[target] == \"Poll\"]\n",
        "  df_train_26 = df_train[df_train[target] == \"Projection/Choco\"]\n",
        "  df_train_27 = df_train[df_train[target] == \"Electrical installation\"]\n",
        "  #df_train_28 = df_train[df_train[target] == \"Projection/Burning\"]\n",
        "  #df_train_29 = df_train[df_train[target] == \"Projection/Manual Tools\"]\n",
        "  #df_train_30 = df_train[df_train[target] == \"\\nNot applicable\"]\n",
        "  #df_train_31 = df_train[df_train[target] == \"Traffic\"]\n",
        "  #df_train_32 = df_train[df_train[target] == \"Individual protection equipment\"]\n",
        "  #df_train_33 = df_train[df_train[target] == \"Plates\"]\n",
        "  \n",
        "\n",
        "  #df_train_1_upsampled = resample(df_train_1, replace = True, n_samples = 232 , random_state = 123)\n",
        "  df_train_2_upsampled = resample(df_train_2, replace = True, n_samples = 232 , random_state = 123)\n",
        "  df_train_3_upsampled = resample(df_train_3, replace = True, n_samples = 232 , random_state = 123)\n",
        "  df_train_4_upsampled = resample(df_train_4, replace = True, n_samples = 232 , random_state = 123)\n",
        "  df_train_5_upsampled = resample(df_train_5, replace = True, n_samples = 232 , random_state = 123)\n",
        "  df_train_6_upsampled = resample(df_train_6, replace = True, n_samples = 232 , random_state = 123)\n",
        "  df_train_7_upsampled = resample(df_train_7, replace = True, n_samples = 232 , random_state = 123)\n",
        "  df_train_8_upsampled = resample(df_train_8, replace = True, n_samples = 232 , random_state = 123)\n",
        "  df_train_9_upsampled = resample(df_train_9, replace = True, n_samples = 232 , random_state = 123)\n",
        "  df_train_10_upsampled = resample(df_train_10, replace = True, n_samples = 232 , random_state = 123)\n",
        "  df_train_11_upsampled = resample(df_train_11, replace = True, n_samples = 232 , random_state = 123)\n",
        "  df_train_12_upsampled = resample(df_train_12, replace = True, n_samples = 232 , random_state = 123)\n",
        "  df_train_13_upsampled = resample(df_train_13, replace = True, n_samples = 232 , random_state = 123)\n",
        "  df_train_14_upsampled = resample(df_train_14, replace = True, n_samples = 232 , random_state = 123)\n",
        "  df_train_15_upsampled = resample(df_train_15, replace = True, n_samples = 232 , random_state = 123)\n",
        "  df_train_16_upsampled = resample(df_train_16, replace = True, n_samples = 232 , random_state = 123)\n",
        "  df_train_17_upsampled = resample(df_train_17, replace = True, n_samples = 232 , random_state = 123)\n",
        "  df_train_18_upsampled = resample(df_train_18, replace = True, n_samples = 232 , random_state = 123)\n",
        "  df_train_19_upsampled = resample(df_train_19, replace = True, n_samples = 232 , random_state = 123)\n",
        "  df_train_20_upsampled = resample(df_train_20, replace = True, n_samples = 232 , random_state = 123)\n",
        "  df_train_21_upsampled = resample(df_train_21, replace = True, n_samples = 232 , random_state = 123)\n",
        "  df_train_22_upsampled = resample(df_train_22, replace = True, n_samples = 232 , random_state = 123)\n",
        "  df_train_23_upsampled = resample(df_train_23, replace = True, n_samples = 232 , random_state = 123)\n",
        "  df_train_24_upsampled = resample(df_train_24, replace = True, n_samples = 232 , random_state = 123)\n",
        "  #df_train_25_upsampled = resample(df_train_25, replace = True, n_samples = 232 , random_state = 123)\n",
        "  df_train_26_upsampled = resample(df_train_26, replace = True, n_samples = 232 , random_state = 123)\n",
        "  df_train_27_upsampled = resample(df_train_27, replace = True, n_samples = 232 , random_state = 123)\n",
        "  #df_train_28_upsampled = resample(df_train_28, replace = True, n_samples = 232 , random_state = 123)\n",
        "  #df_train_29_upsampled = resample(df_train_29, replace = True, n_samples = 232 , random_state = 123)\n",
        "  # df_train_30_upsampled = resample(df_train_30, replace = True, n_samples = 232 , random_state = 123)\n",
        "  # df_train_31_upsampled = resample(df_train_31, replace = True, n_samples = 232 , random_state = 123)\n",
        "  # df_train_32_upsampled = resample(df_train_32, replace = True, n_samples = 232 , random_state = 123)\n",
        "  # df_train_33_upsampled = resample(df_train_33, replace = True, n_samples = 232 , random_state = 123)\n",
        " \n",
        "  df_train_upsampled = pd.concat([df_train_1, df_train_2_upsampled,df_train_3_upsampled, df_train_4, df_train_5_upsampled, df_train_6_upsampled, df_train_7_upsampled, df_train_8_upsampled, df_train_9_upsampled, df_train_10_upsampled, df_train_11_upsampled,  df_train_12_upsampled,df_train_13_upsampled, df_train_14, df_train_15_upsampled, df_train_16_upsampled, df_train_17_upsampled, df_train_18_upsampled, df_train_19_upsampled, df_train_20_upsampled, df_train_21_upsampled, df_train_22_upsampled, df_train_23_upsampled, df_train_24_upsampled, df_train_26_upsampled, df_train_27_upsampled ])\n",
        "  print(df_train_upsampled[target].value_counts())\n",
        "\n",
        "  df_train_upsampled_bkup = df_train_upsampled.copy()\n",
        "  df_train_upsampled_bkup[target].value_counts()\n",
        "\n",
        "  df_train = df_train_upsampled.copy()\n",
        "\n"
      ],
      "execution_count": 88,
      "outputs": [
        {
          "output_type": "stream",
          "text": [
            "VI     143\n",
            "V      143\n",
            "III    143\n",
            "II     143\n",
            "I      143\n",
            "IV     106\n",
            "Name: Pot_AccLevel, dtype: int64\n"
          ],
          "name": "stdout"
        }
      ]
    },
    {
      "cell_type": "code",
      "metadata": {
        "id": "IGOfSRpvsac8"
      },
      "source": [
        "#Universal Sentence Encoder\n",
        "\n",
        "%tensorflow_version 1.x\n",
        "\n",
        "import tensorflow as tf\n",
        "import tensorflow_hub as hub\n",
        "from tensorflow.keras.callbacks import EarlyStopping, ModelCheckpoint, ReduceLROnPlateau\n",
        "import seaborn as sns\n",
        "from tensorflow import keras\n",
        "import keras.layers as layers\n",
        "from keras.models import Model\n",
        "from keras import backend as K\n",
        "\n",
        "np.random.seed(10)\n",
        "\n",
        "module_url = \"https://tfhub.dev/google/universal-sentence-encoder-large/3\"\n",
        "\n",
        "# Import the Universal Sentence Encoder's TF Hub module\n",
        "embed = hub.Module(module_url)"
      ],
      "execution_count": 89,
      "outputs": []
    },
    {
      "cell_type": "code",
      "metadata": {
        "id": "jnK5mkUbr9zE"
      },
      "source": [
        "#module_url = \"https://tfhub.dev/google/universal-sentence-encoder-large/3\" #@param [\"https://tfhub.dev/google/universal-sentence-encoder/2\", \"https://tfhub.dev/google/universal-sentence-encoder-large/3\"]"
      ],
      "execution_count": 90,
      "outputs": []
    },
    {
      "cell_type": "code",
      "metadata": {
        "id": "lkM7N__KtUGx"
      },
      "source": [
        "# # Compute a representation for each message, showing various lengths supported.\n",
        "# word = \"Elephant\"\n",
        "# sentence = \"I am a sentence for which I would like to get its embedding.\"\n",
        "# paragraph = (\n",
        "#     \"Universal Sentence Encoder embeddings also support short paragraphs. \"\n",
        "#     \"There is no hard limit on how long the paragraph is. Roughly, the longer \"\n",
        "#     \"the more 'diluted' the embedding will be.\")\n",
        "# messages = [word, sentence, paragraph]\n",
        "\n",
        "# # Reduce logging output.\n",
        "# tf.logging.set_verbosity(tf.logging.ERROR)\n",
        "\n",
        "# with tf.Session() as session:\n",
        "#   session.run([tf.global_variables_initializer(), tf.tables_initializer()])\n",
        "#   message_embeddings = session.run(embed(messages))\n",
        "\n",
        "#   for i, message_embedding in enumerate(np.array(message_embeddings).tolist()):\n",
        "#     print(\"Message: {}\".format(messages[i]))\n",
        "#     print(\"Embedding size: {}\".format(len(message_embedding)))\n",
        "#     message_embedding_snippet = \", \".join(\n",
        "#         (str(x) for x in message_embedding[:3]))\n",
        "#     print(\"Embedding: [{}, ...]\\n\".format(message_embedding_snippet))\n",
        " "
      ],
      "execution_count": 91,
      "outputs": []
    },
    {
      "cell_type": "code",
      "metadata": {
        "id": "nRvNMm-QtZWS"
      },
      "source": [
        "# # Compute a representation for each message, showing various lengths supported.\n",
        "# messages = [\"That band rocks!\", \"That song is really cool.\"]\n",
        "\n",
        "# with tf.Session() as session:\n",
        "#   session.run([tf.global_variables_initializer(), tf.tables_initializer()])\n",
        "#   message_embeddings = session.run(embed(messages))\n",
        "# message_embeddings"
      ],
      "execution_count": 92,
      "outputs": []
    },
    {
      "cell_type": "code",
      "metadata": {
        "colab": {
          "base_uri": "https://localhost:8080/"
        },
        "id": "f1SFqQzmtyti",
        "outputId": "726667b4-8a08-483e-d683-ca41921f9a6f"
      },
      "source": [
        "#Get the Embed Size\n",
        "\n",
        "embed_size = embed.get_output_info_dict()['default'].get_shape()[1].value\n",
        "embed_size\n",
        "\n",
        "# Get the Category Counts\n",
        "category_counts = len(df_train[target].cat.categories)\n",
        "category_counts\n",
        "\n",
        "#Converting train dataset to correct format\n",
        "\n",
        "train_text = df_train['Description'].tolist()\n",
        "train_text = np.array(train_text, dtype=object)[:, np.newaxis]\n",
        "\n",
        "train_label = np.asarray(pd.get_dummies(df_train[target]), dtype = np.int8)\n",
        "train_label[8]\n",
        "print(train_text.shape)\n",
        "\n",
        "#Converting test dataset to correct format\n",
        "\n",
        "test_text = df_test['Description'].tolist()\n",
        "test_text = np.array(test_text, dtype=object)[:, np.newaxis]\n",
        "test_label = np.asarray(pd.get_dummies(df_test[target]), dtype = np.int8)\n",
        "test_label[:3]\n",
        "print(test_text.shape)\n",
        "\n",
        "\n",
        "#Converting validation dataset to correct format\n",
        "\n",
        "val_text = val[\"Description\"].tolist()\n",
        "val_text = np.array(val_text, dtype=object)[:, np.newaxis]\n",
        "val_label = np.asarray(pd.get_dummies(val[target]), dtype = np.int8)\n",
        "val_label[:3]\n",
        "print(val_text.shape)"
      ],
      "execution_count": 93,
      "outputs": [
        {
          "output_type": "stream",
          "text": [
            "(821, 1)\n",
            "(85, 1)\n",
            "(34, 1)\n"
          ],
          "name": "stdout"
        }
      ]
    },
    {
      "cell_type": "code",
      "metadata": {
        "id": "nnfF8Bylrz2J"
      },
      "source": [
        "from keras.layers import Input, LSTM, Dense, Activation, Dropout,Embedding\n",
        "from tensorflow.keras.layers import Flatten, Dense\n",
        "\n",
        "def UniversalEmbedding(x):\n",
        "    return embed(tf.squeeze(tf.cast(x, tf.string)), signature=\"default\", as_dict=True)[\"default\"]"
      ],
      "execution_count": 94,
      "outputs": []
    },
    {
      "cell_type": "code",
      "metadata": {
        "id": "q_WCKsrdbGir"
      },
      "source": [
        "#!pip install keras-self-attention"
      ],
      "execution_count": 95,
      "outputs": []
    },
    {
      "cell_type": "code",
      "metadata": {
        "id": "NcnhmBqibJOU"
      },
      "source": [
        "#from keras_self_attention import SeqSelfAttention"
      ],
      "execution_count": 96,
      "outputs": []
    },
    {
      "cell_type": "markdown",
      "metadata": {
        "id": "MboOV0HTtdp2"
      },
      "source": [
        "https://stackoverflow.com/questions/60809068/error-output-of-the-tf-hub-layers-embedding-with-conv-or-rnn\n",
        "https://stackoverflow.com/questions/42918446/how-to-add-an-attention-mechanism-in-keras?answertab=votes#tab-top\n"
      ]
    },
    {
      "cell_type": "code",
      "metadata": {
        "colab": {
          "base_uri": "https://localhost:8080/"
        },
        "id": "YM9ExLJPr2JL",
        "outputId": "de69f4a1-5e0b-4f7e-f6cf-82f83c629ef0"
      },
      "source": [
        "#Model Building\n",
        "\n",
        "input_text = layers.Input(shape=(1,), dtype=tf.string)\n",
        "print(input_text.shape)\n",
        "embedding = layers.Lambda(UniversalEmbedding,output_shape=(embed_size,))(input_text)\n",
        "print(embedding.shape)\n",
        "reshape = layers.Reshape(target_shape=(1, 512 ))(embedding)\n",
        "print(reshape.shape)\n",
        "lstm=LSTM(units=128,return_sequences=False)(reshape)\n",
        "#attn = SeqSelfAttention(attention_activation='softmax')(lstm)\n",
        "#attn = (Activation(\"softmax\"))(lstm)\n",
        "dense = layers.Dense(256, activation='relu')(lstm)\n",
        "print(dense.shape)\n",
        "\n",
        "pred = layers.Dense(category_counts, activation='softmax')(dense)\n",
        "model = Model(inputs=[input_text], outputs=pred)\n",
        "#model.compile(loss='categorical_crossentropy', optimizer='adam', metrics=['accuracy'])  \n",
        "model.compile(loss='categorical_crossentropy', optimizer='adam', metrics=['categorical_accuracy'])\n",
        "\n",
        "#print model summary\n",
        "model.summary()"
      ],
      "execution_count": 97,
      "outputs": [
        {
          "output_type": "stream",
          "text": [
            "(?, 1)\n",
            "INFO:tensorflow:Saver not created because there are no variables in the graph to restore\n"
          ],
          "name": "stdout"
        },
        {
          "output_type": "stream",
          "text": [
            "INFO:tensorflow:Saver not created because there are no variables in the graph to restore\n"
          ],
          "name": "stderr"
        },
        {
          "output_type": "stream",
          "text": [
            "(?, 512)\n",
            "(?, 1, 512)\n",
            "(?, 256)\n",
            "Model: \"model_2\"\n",
            "_________________________________________________________________\n",
            "Layer (type)                 Output Shape              Param #   \n",
            "=================================================================\n",
            "input_2 (InputLayer)         (None, 1)                 0         \n",
            "_________________________________________________________________\n",
            "lambda_2 (Lambda)            (None, 512)               0         \n",
            "_________________________________________________________________\n",
            "reshape_2 (Reshape)          (None, 1, 512)            0         \n",
            "_________________________________________________________________\n",
            "lstm_2 (LSTM)                (None, 128)               328192    \n",
            "_________________________________________________________________\n",
            "dense_3 (Dense)              (None, 256)               33024     \n",
            "_________________________________________________________________\n",
            "dense_4 (Dense)              (None, 6)                 1542      \n",
            "=================================================================\n",
            "Total params: 362,758\n",
            "Trainable params: 362,758\n",
            "Non-trainable params: 0\n",
            "_________________________________________________________________\n"
          ],
          "name": "stdout"
        }
      ]
    },
    {
      "cell_type": "code",
      "metadata": {
        "colab": {
          "base_uri": "https://localhost:8080/",
          "height": 644
        },
        "id": "w7bjR9KIq4Gw",
        "outputId": "a73ef41d-0a82-4ab5-dbe5-6960b8fce154"
      },
      "source": [
        "tf.keras.utils.plot_model(model, show_shapes = True)"
      ],
      "execution_count": 98,
      "outputs": [
        {
          "output_type": "execute_result",
          "data": {
            "image/png": "[encoded data removed]",
            "text/plain": [
              "<IPython.core.display.Image object>"
            ]
          },
          "metadata": {
            "tags": []
          },
          "execution_count": 98
        }
      ]
    },
    {
      "cell_type": "code",
      "metadata": {
        "id": "s7EOsmMgV_y_"
      },
      "source": [
        "#from keras.callbacks import Callback\n",
        "#https://github.com/keras-team/keras/issues/4962"
      ],
      "execution_count": 99,
      "outputs": []
    },
    {
      "cell_type": "code",
      "metadata": {
        "colab": {
          "base_uri": "https://localhost:8080/"
        },
        "id": "-pcf1RpmuKtx",
        "outputId": "7d5bc8b4-4297-46e5-c843-2f2150d45dce"
      },
      "source": [
        "#Model Training\n",
        "\n",
        "with tf.Session() as session:\n",
        "  K.set_session(session)\n",
        "  session.run(tf.global_variables_initializer())\n",
        "  session.run(tf.tables_initializer())\n",
        "  # Adding callbacks\n",
        "  es = EarlyStopping(monitor = 'val_loss', mode = 'min', verbose = 1, patience = 10)  \n",
        "  #mc = ModelCheckpoint('sarcasm_detector.h5', monitor = 'val_loss', mode = 'min', save_best_only = True, verbose = 1)\n",
        "  #logdir = 'log'; tb = TensorBoard(logdir, histogram_freq = 1)\n",
        "  #lr_r = ReduceLROnPlateau(monitor = 'val_loss', factor = 0.1, patience = 5)\n",
        "  \n",
        "  callbacks = [es] #mc, lr_r] #https://stackoverflow.com/questions/58030543/list-of-keras-callbacks-generates-error-tuple-object-has-no-attribute-set-mo\n",
        "  \n",
        "  h = model.fit(train_text, train_label, validation_data=(val_text, val_label), epochs=30, batch_size=32, callbacks = callbacks)\n",
        "  model.save_weights('./model_lstm.h5')"
      ],
      "execution_count": 100,
      "outputs": [
        {
          "output_type": "stream",
          "text": [
            "Train on 821 samples, validate on 34 samples\n",
            "Epoch 1/30\n",
            "821/821 [==============================] - 3s 4ms/step - loss: 1.7136 - categorical_accuracy: 0.4641 - val_loss: 1.7408 - val_categorical_accuracy: 0.2941\n",
            "Epoch 2/30\n",
            "821/821 [==============================] - 1s 1ms/step - loss: 1.2862 - categorical_accuracy: 0.5652 - val_loss: 1.4593 - val_categorical_accuracy: 0.3529\n",
            "Epoch 3/30\n",
            "821/821 [==============================] - 1s 1ms/step - loss: 0.9783 - categorical_accuracy: 0.6188 - val_loss: 1.4276 - val_categorical_accuracy: 0.3235\n",
            "Epoch 4/30\n",
            "821/821 [==============================] - 1s 1ms/step - loss: 0.8582 - categorical_accuracy: 0.6626 - val_loss: 1.2935 - val_categorical_accuracy: 0.4118\n",
            "Epoch 5/30\n",
            "821/821 [==============================] - 1s 1ms/step - loss: 0.7664 - categorical_accuracy: 0.7150 - val_loss: 1.4204 - val_categorical_accuracy: 0.3529\n",
            "Epoch 6/30\n",
            "821/821 [==============================] - 1s 1ms/step - loss: 0.7018 - categorical_accuracy: 0.7284 - val_loss: 1.4374 - val_categorical_accuracy: 0.3824\n",
            "Epoch 7/30\n",
            "821/821 [==============================] - 1s 1ms/step - loss: 0.6200 - categorical_accuracy: 0.7820 - val_loss: 1.5032 - val_categorical_accuracy: 0.4706\n",
            "Epoch 8/30\n",
            "821/821 [==============================] - 1s 1ms/step - loss: 0.5647 - categorical_accuracy: 0.8002 - val_loss: 1.5850 - val_categorical_accuracy: 0.4118\n",
            "Epoch 9/30\n",
            "821/821 [==============================] - 1s 1ms/step - loss: 0.5079 - categorical_accuracy: 0.8185 - val_loss: 1.6948 - val_categorical_accuracy: 0.3824\n",
            "Epoch 10/30\n",
            "821/821 [==============================] - 1s 1ms/step - loss: 0.4610 - categorical_accuracy: 0.8538 - val_loss: 1.7553 - val_categorical_accuracy: 0.3824\n",
            "Epoch 11/30\n",
            "821/821 [==============================] - 1s 1ms/step - loss: 0.4480 - categorical_accuracy: 0.8295 - val_loss: 1.9476 - val_categorical_accuracy: 0.3529\n",
            "Epoch 12/30\n",
            "821/821 [==============================] - 1s 1ms/step - loss: 0.3910 - categorical_accuracy: 0.8843 - val_loss: 1.9739 - val_categorical_accuracy: 0.3824\n",
            "Epoch 13/30\n",
            "821/821 [==============================] - 1s 1ms/step - loss: 0.3588 - categorical_accuracy: 0.8904 - val_loss: 2.1604 - val_categorical_accuracy: 0.2647\n",
            "Epoch 14/30\n",
            "821/821 [==============================] - 1s 1ms/step - loss: 0.3576 - categorical_accuracy: 0.8843 - val_loss: 2.2719 - val_categorical_accuracy: 0.2941\n",
            "Epoch 00014: early stopping\n"
          ],
          "name": "stdout"
        }
      ]
    },
    {
      "cell_type": "code",
      "metadata": {
        "id": "JoAzrkXBsZye"
      },
      "source": [
        "# with tf.Session() as session:\n",
        "#   K.set_session(session)\n",
        "#   session.run(tf.global_variables_initializer())\n",
        "#   model.save_weights('./model_lstm.h5')"
      ],
      "execution_count": 101,
      "outputs": []
    },
    {
      "cell_type": "code",
      "metadata": {
        "id": "lvmHUzXWRiKA"
      },
      "source": [
        "# print(type(callbacks))\n",
        "# print(type(es))\n",
        "# print(type(lr_r))\n",
        "# print(type(mc))"
      ],
      "execution_count": 102,
      "outputs": []
    },
    {
      "cell_type": "code",
      "metadata": {
        "id": "xP0Y0xBxZWqW"
      },
      "source": [
        "# from keras import metrics\n",
        "# keras.metrics.categorical_accuracy(train_label, y_pred)"
      ],
      "execution_count": 103,
      "outputs": []
    },
    {
      "cell_type": "code",
      "metadata": {
        "id": "HKbfPH1IxYQH",
        "colab": {
          "base_uri": "https://localhost:8080/",
          "height": 505
        },
        "outputId": "75928b64-f459-48f4-fafa-96176763a880"
      },
      "source": [
        "#Plotting the Training & Test Accuracy and Loss\n",
        "\n",
        "f, (ax1, ax2) = plt.subplots(1, 2, figsize = (15, 7.2))\n",
        "f.suptitle('Training & Testing Loss')\n",
        "\n",
        "ax1.plot(h.history['loss'], 'go-' , label = 'Train')\n",
        "ax1.plot(h.history['val_loss'],  'ro-' , label = 'Test')\n",
        "ax1.set_title('Model Loss')\n",
        "ax1.legend(['Train', 'Test'])\n",
        "ax1.set_xlabel(\"Epochs\")\n",
        "ax1.set_ylabel(\"Loss\")\n",
        "\n",
        "ax2.plot(h.history['categorical_accuracy'], 'go-', label = 'Train')\n",
        "ax2.plot(h.history['val_categorical_accuracy'], 'ro-' , label = 'Test')\n",
        "ax2.set_title('Model Accuracy')\n",
        "ax2.legend(['Train', 'Test'])\n",
        "ax2.set_xlabel(\"Epochs\")\n",
        "ax2.set_ylabel(\"Accuracy\")\n",
        "\n",
        "plt.show()"
      ],
      "execution_count": 104,
      "outputs": [
        {
          "output_type": "display_data",
          "data": {
            "image/png": "[encoded data removed]",
            "text/plain": [
              "<Figure size 1080x518.4 with 2 Axes>"
            ]
          },
          "metadata": {
            "tags": [],
            "needs_background": "light"
          }
        }
      ]
    },
    {
      "cell_type": "code",
      "metadata": {
        "id": "wLpftI8sQW07"
      },
      "source": [
        "#from mlxtend.evaluate import confusion_matrix"
      ],
      "execution_count": 105,
      "outputs": []
    },
    {
      "cell_type": "code",
      "metadata": {
        "colab": {
          "base_uri": "https://localhost:8080/"
        },
        "id": "ghN7b5JjaBLv",
        "outputId": "d26366f1-f0fa-45f1-c0e2-bc4fa676b215"
      },
      "source": [
        "#Print the Classification Report and Overall Accuracy\n",
        "\n",
        "from sklearn import metrics\n",
        "from sklearn.metrics import classification_report\n",
        "\n",
        "# Evaluate the model\n",
        "with tf.Session() as session:\n",
        "  K.set_session(session)\n",
        "  session.run(tf.global_variables_initializer())\n",
        "  session.run(tf.tables_initializer())\n",
        "  loss, categorical_accuracy = model.evaluate(test_text, test_label, verbose = 0)\n",
        "  print('Overall Accuracy: {}'.format(categorical_accuracy * 100))\n",
        "  y_pred = model.predict(test_text, batch_size=10, verbose=1)\n",
        "  y_pred_bool = np.argmax(y_pred, axis=1)\n",
        "  y_test_bool = np.argmax(test_label, axis=1)\n",
        "  print(classification_report(y_test_bool, y_pred_bool))\n",
        "\n",
        "\n",
        "model_score = metrics.accuracy_score(y_test_bool, y_pred_bool)\n",
        "print(model_score * 100)"
      ],
      "execution_count": 106,
      "outputs": [
        {
          "output_type": "stream",
          "text": [
            "Overall Accuracy: 22.35294133424759\n",
            "85/85 [==============================] - 2s 18ms/step\n",
            "              precision    recall  f1-score   support\n",
            "\n",
            "           0       0.06      0.33      0.11         6\n",
            "           1       0.00      0.00      0.00        22\n",
            "           2       0.17      0.04      0.07        23\n",
            "           3       0.38      0.62      0.47        26\n",
            "           4       0.00      0.00      0.00         8\n",
            "\n",
            "    accuracy                           0.22        85\n",
            "   macro avg       0.12      0.20      0.13        85\n",
            "weighted avg       0.17      0.22      0.17        85\n",
            "\n",
            "22.35294117647059\n"
          ],
          "name": "stdout"
        },
        {
          "output_type": "stream",
          "text": [
            "/usr/local/lib/python3.7/dist-packages/sklearn/metrics/_classification.py:1272: UndefinedMetricWarning: Precision and F-score are ill-defined and being set to 0.0 in labels with no predicted samples. Use `zero_division` parameter to control this behavior.\n",
            "  _warn_prf(average, modifier, msg_start, len(result))\n"
          ],
          "name": "stderr"
        }
      ]
    },
    {
      "cell_type": "code",
      "metadata": {
        "colab": {
          "base_uri": "https://localhost:8080/",
          "height": 449
        },
        "id": "tuwN_7XCQDno",
        "outputId": "d094bda1-5c05-4ac2-e32f-d7e4b37c5e58"
      },
      "source": [
        "#Print Confusion Matrix\n",
        "import matplotlib.pyplot as plt\n",
        "import seaborn as sns\n",
        "from sklearn.metrics import confusion_matrix\n",
        "\n",
        "cm = confusion_matrix(y_test_bool, y_pred_bool)\n",
        "\n",
        "#Plot the  Confusion Matrix\n",
        "\n",
        "plt.figure(figsize = (10,7))\n",
        "sns.heatmap(cm, annot=True)"
      ],
      "execution_count": 107,
      "outputs": [
        {
          "output_type": "execute_result",
          "data": {
            "text/plain": [
              "<matplotlib.axes._subplots.AxesSubplot at 0x7f5b9b2bda90>"
            ]
          },
          "metadata": {
            "tags": []
          },
          "execution_count": 107
        },
        {
          "output_type": "display_data",
          "data": {
            "image/png": "[encoded data removed]",
            "text/plain": [
              "<Figure size 720x504 with 2 Axes>"
            ]
          },
          "metadata": {
            "tags": [],
            "needs_background": "light"
          }
        }
      ]
    },
    {
      "cell_type": "code",
      "metadata": {
        "id": "0EZdWV-2Qxig"
      },
      "source": [
        "#from mlxtend.evaluate import confusion_matrix\n",
        "# fig, ax = plot_confusion_matrix(conf_mat=cm)\n",
        "# plt.show()"
      ],
      "execution_count": 108,
      "outputs": []
    },
    {
      "cell_type": "code",
      "metadata": {
        "id": "OuCtMq_bxzUB"
      },
      "source": [
        "# # Evaluate the model\n",
        "# with tf.Session() as session:\n",
        "#   K.set_session(session)\n",
        "#   session.run(tf.global_variables_initializer())\n",
        "#   session.run(tf.tables_initializer())\n",
        "#   loss, categorical_accuracy = model.evaluate(test_text, test_label, verbose = 0)\n",
        "#   print('Overall Accuracy: {}'.format(categorical_accuracy * 100))\n",
        "#   #Predict using model\n",
        "#   y_pred = (model.predict(test_text))\n",
        "#   print(f'Classification Report:\\n{classification_report(y_pred, test_label)}')"
      ],
      "execution_count": 109,
      "outputs": []
    },
    {
      "cell_type": "code",
      "metadata": {
        "id": "O2hS9CxFuRY9",
        "colab": {
          "base_uri": "https://localhost:8080/",
          "height": 137
        },
        "outputId": "4fc8108d-7376-4d6f-be37-4c5c25b32316"
      },
      "source": [
        "#Prediction with Raw Text\n",
        "\n",
        "#new_text = [\"In what year did the titanic sink ?\", \"What is the highest peak in California ?\", \"Who invented the light bulb ?\"]\n",
        "new_text = [\"In the sub-station MILPO located at level +170 when the collaborator was doing the excavation work with a pick (hand tool), hitting a rock with the flat part of the beak, it bounces off hitting the steel tip of the safety shoe and then the metatarsal area of â€‹â€‹the left foot of the collaborator causing the injury.\", \"\",\"\"]\n",
        "new_text = np.array(new_text, dtype=object)[:, np.newaxis]\n",
        "with tf.Session() as session:\n",
        "  K.set_session(session)\n",
        "  session.run(tf.global_variables_initializer())\n",
        "  session.run(tf.tables_initializer())\n",
        "  model.load_weights('./model_lstm.h5')  \n",
        "  predicts = model.predict(new_text, batch_size=32)\n",
        "\n",
        "print(predicts)\n",
        "\n",
        "categories = df_train[target].cat.categories.tolist()\n",
        "predict_logits = predicts.argmax(axis=1)\n",
        "predict_labels = [categories[logit] for logit in predict_logits]\n",
        "predict_labels[0]"
      ],
      "execution_count": 110,
      "outputs": [
        {
          "output_type": "stream",
          "text": [
            "[[2.8418791e-01 2.2133165e-03 9.0797916e-02 6.2104589e-01 3.2235209e-06\n",
            "  1.7517685e-03]\n",
            " [4.6863660e-02 6.0403585e-01 5.5443186e-02 1.4460266e-01 1.4393720e-01\n",
            "  5.1174732e-03]\n",
            " [4.6863660e-02 6.0403585e-01 5.5443186e-02 1.4460266e-01 1.4393720e-01\n",
            "  5.1174732e-03]]\n"
          ],
          "name": "stdout"
        },
        {
          "output_type": "execute_result",
          "data": {
            "application/vnd.google.colaboratory.intrinsic+json": {
              "type": "string"
            },
            "text/plain": [
              "'IV'"
            ]
          },
          "metadata": {
            "tags": []
          },
          "execution_count": 110
        }
      ]
    }
  ]
}