{
  "nbformat": 4,
  "nbformat_minor": 0,
  "metadata": {
    "kernelspec": {
      "display_name": "Python 3",
      "language": "python",
      "name": "python3"
    },
    "language_info": {
      "codemirror_mode": {
        "name": "ipython",
        "version": 3
      },
      "file_extension": ".py",
      "mimetype": "text/x-python",
      "name": "python",
      "nbconvert_exporter": "python",
      "pygments_lexer": "ipython3",
      "version": "3.7.4"
    },
    "colab": {
      "name": "2_NLP-chatbot-Word2Vec_2_LSTM_Acc_Lvl_v2.ipynb",
      "provenance": [],
      "collapsed_sections": []
    }
  },
  "cells": [
    {
      "cell_type": "markdown",
      "metadata": {
        "id": "V79KhuRBY0eJ"
      },
      "source": [
        "# Word2Vec with LSTM:"
      ]
    },
    {
      "cell_type": "code",
      "metadata": {
        "id": "F4aW1ESZ3gYd",
        "colab": {
          "base_uri": "https://localhost:8080/"
        },
        "outputId": "95f79ed7-73ad-46b0-aa25-c52261166e85"
      },
      "source": [
        "\n",
        "import pandas as pd\n",
        "import numpy as np\n",
        "import matplotlib.pyplot as plt\n",
        "import nltk\n",
        "nltk.download('wordnet')\n",
        "nltk.download('stopwords')\n",
        "nltk.download('punkt')\n",
        "from nltk.stem import WordNetLemmatizer\n",
        "from sklearn.model_selection import train_test_split\n",
        "import os\n",
        "\n",
        "from sklearn.feature_extraction.text import TfidfVectorizer\n",
        "import re\n",
        "from nltk.stem.porter import PorterStemmer\n",
        "from sklearn.metrics import classification_report, confusion_matrix\n",
        "\n",
        "from nltk.corpus import stopwords\n",
        "from nltk.util import ngrams\n",
        "from sklearn.feature_extraction.text import CountVectorizer\n",
        "from collections import defaultdict\n",
        "from collections import  Counter\n",
        "plt.style.use('ggplot')\n",
        "#stop=set(stopwords.words('english'))\n",
        "import re\n",
        "from nltk.tokenize import word_tokenize\n",
        "import gensim\n",
        "import string\n",
        "from keras.preprocessing.text import Tokenizer\n",
        "from keras.preprocessing.sequence import pad_sequences\n",
        "from tqdm import tqdm\n",
        "from keras.models import Sequential\n",
        "from keras.layers import Embedding,LSTM,Dense,SpatialDropout1D\n",
        "from keras.initializers import Constant\n",
        "from sklearn.model_selection import train_test_split\n",
        "from keras.optimizers import Adam\n",
        "from tensorflow.keras.layers import Dense, Input, LSTM, Embedding, Dropout, Activation, Flatten, Bidirectional, GlobalMaxPool1D\n",
        "from tensorflow.keras.callbacks import EarlyStopping, ModelCheckpoint, ReduceLROnPlateau, TensorBoard"
      ],
      "execution_count": null,
      "outputs": [
        {
          "output_type": "stream",
          "text": [
            "[nltk_data] Downloading package wordnet to /root/nltk_data...\n",
            "[nltk_data]   Package wordnet is already up-to-date!\n",
            "[nltk_data] Downloading package stopwords to /root/nltk_data...\n",
            "[nltk_data]   Package stopwords is already up-to-date!\n",
            "[nltk_data] Downloading package punkt to /root/nltk_data...\n",
            "[nltk_data]   Package punkt is already up-to-date!\n"
          ],
          "name": "stdout"
        }
      ]
    },
    {
      "cell_type": "code",
      "metadata": {
        "colab": {
          "base_uri": "https://localhost:8080/"
        },
        "id": "Gzz3x81z3gYk",
        "outputId": "cbe34bd0-0d11-4346-911f-2a6769d3badd"
      },
      "source": [
        "import tensorflow as tf\n",
        "print(tf.__version__)"
      ],
      "execution_count": null,
      "outputs": [
        {
          "output_type": "stream",
          "text": [
            "2.4.1\n"
          ],
          "name": "stdout"
        }
      ]
    },
    {
      "cell_type": "code",
      "metadata": {
        "id": "nijE2wNl3gYk"
      },
      "source": [
        "from tensorflow.keras.preprocessing.text import Tokenizer\n",
        "from tensorflow.keras.preprocessing.sequence import pad_sequences"
      ],
      "execution_count": null,
      "outputs": []
    },
    {
      "cell_type": "markdown",
      "metadata": {
        "id": "GAeNAYol3gYl"
      },
      "source": [
        "## Helper Functions for Text cleaning::"
      ]
    },
    {
      "cell_type": "code",
      "metadata": {
        "id": "ghSPR04x3gYl"
      },
      "source": [
        "import re\n",
        "def decontracted(phrase):\n",
        "  \"\"\"decontracted takes text and convert contractions into natural form.\n",
        "     ref: https://stackoverflow.com/questions/19790188/expanding-english-language-contractions-in-python/47091490#47091490\"\"\"\n",
        "\n",
        "  # specific\n",
        "  phrase = re.sub(r\"won\\'t\", \"will not\", phrase)\n",
        "  phrase = re.sub(r\"can\\'t\", \"can not\", phrase)\n",
        "  phrase = re.sub(r\"won\\’t\", \"will not\", phrase)\n",
        "  phrase = re.sub(r\"can\\’t\", \"can not\", phrase)\n",
        "\n",
        "  # general\n",
        "  phrase = re.sub(r\"n\\'t\", \" not\", phrase)\n",
        "  phrase = re.sub(r\"\\'re\", \" are\", phrase)\n",
        "  phrase = re.sub(r\"\\'s\", \" is\", phrase)\n",
        "  phrase = re.sub(r\"\\'d\", \" would\", phrase)\n",
        "  phrase = re.sub(r\"\\'ll\", \" will\", phrase)\n",
        "  phrase = re.sub(r\"\\'t\", \" not\", phrase)\n",
        "  phrase = re.sub(r\"\\'ve\", \" have\", phrase)\n",
        "  phrase = re.sub(r\"\\'m\", \" am\", phrase)\n",
        "\n",
        "  phrase = re.sub(r\"n\\’t\", \" not\", phrase)\n",
        "  phrase = re.sub(r\"\\’re\", \" are\", phrase)\n",
        "  phrase = re.sub(r\"\\’s\", \" is\", phrase)\n",
        "  phrase = re.sub(r\"\\’d\", \" would\", phrase)\n",
        "  phrase = re.sub(r\"\\’ll\", \" will\", phrase)\n",
        "  phrase = re.sub(r\"\\’t\", \" not\", phrase)\n",
        "  phrase = re.sub(r\"\\’ve\", \" have\", phrase)\n",
        "  phrase = re.sub(r\"\\’m\", \" am\", phrase)\n",
        "\n",
        "  return phrase\n",
        "\n",
        "#processed_text = decontracted(processed_text)\n",
        "#print(processed_text)\n",
        "\n",
        "def remove_special_character(phrase, remove_number=False):\n",
        "  \"\"\"remove_special_character takes text and removes special charcters.\n",
        "     ref: https://stackoverflow.com/a/18082370/4084039\"\"\"\n",
        "\n",
        "  phrase = re.sub(\"\\S*\\d\\S*\", \"\", phrase).strip()\n",
        "  if remove_number:\n",
        "    phrase = re.sub('[^A-Za-z]+', ' ', phrase)\n",
        "  else:\n",
        "    phrase = re.sub('[^A-Za-z0-9]+', ' ', phrase)\n",
        "  return phrase\n",
        "\n",
        "# processed_text = remove_special_character(processed_text, True)\n",
        "# print(processed_text)\n",
        "\n",
        "def remove_stop_words(text):\n",
        "    stopwords= set(['br', 'the', 'i', 'me', 'my', 'myself', 'we', 'our', 'ours', 'ourselves', 'you', \\\n",
        "                \"you're\", \"you've\", \"you'll\", \"you'd\", 'your', 'yours', 'yourself', 'yourselves', \\\n",
        "                'he', 'him', 'his', 'himself', 'she', \"she's\", 'her', 'hers', 'herself', 'it', \"it's\", \\\n",
        "                'its', 'itself', 'they', 'them', 'their', 'theirs', 'themselves', 'what', 'which', 'who', \\\n",
        "                'whom', 'this', 'that', \"that'll\", 'these', 'those', 'am', 'is', 'are', 'was', 'were', \\\n",
        "                'be', 'been', 'being', 'have', 'has', 'had', 'having', 'do', 'does', 'did', 'doing', \\\n",
        "                'a', 'an', 'the', 'and', 'but', 'if', 'or', 'because', 'as', 'until', 'while', 'of', \\\n",
        "                'at', 'by', 'for', 'with', 'about', 'against', 'between', 'into', 'through', 'during', \\\n",
        "                'before', 'after', 'above', 'below', 'to', 'from', 'up', 'down', 'in', 'out', 'on', 'off', \\\n",
        "                'over', 'under', 'again', 'further', 'then', 'once', 'here', 'there', 'when', 'where', 'why', \\\n",
        "                'how', 'all', 'any', 'both', 'each', 'few', 'more', 'most', 'other', 'some', 'such', 'only', \\\n",
        "                'own', 'same', 'so', 'than', 'too', 'very', 's', 't', 'can', 'will', 'just', 'don', \"don't\", \\\n",
        "                'should', \"should've\", 'now', 'd', 'll', 'm', 'o', 're', 've', 'y', 'ain', 'aren', \"aren't\", \\\n",
        "                'couldn', \"couldn't\", 'didn', \"didn't\", 'doesn', \"doesn't\", 'hadn', \"hadn't\", 'hasn', \\\n",
        "                \"hasn't\", 'haven', \"haven't\", 'isn', \"isn't\", 'ma', 'mightn', \"mightn't\", 'mustn', \\\n",
        "                \"mustn't\", 'needn', \"needn't\", 'shan', \"shan't\", 'shouldn', \"shouldn't\", 'wasn', \"wasn't\", \\\n",
        "                'weren', \"weren't\", 'won', \"won't\", 'wouldn', \"wouldn't\"])\n",
        "    return ' '.join(e.lower() for e in text.split() if e.lower() not in stopwords)\n",
        "\n",
        "# ref: https://gist.github.com/sebleier/554280\n",
        "\n",
        "# processed_text = ' '.join(e.lower() for e in processed_text.split() if e.lower() not in stopwords)\n",
        "# print(processed_text)\n",
        "\n",
        "def lemmatize_text(text_data):\n",
        "  \"\"\"lem_text takes text and lemmatize it using WordNetLemmatizer.\n",
        "     ref: https://stackoverflow.com/a/25535348\"\"\"\n",
        "  lem = WordNetLemmatizer()\n",
        "  n_text = []\n",
        "  for word in text_data.split(' '):\n",
        "    n_word = lem.lemmatize(word, pos='a')\n",
        "    n_word = lem.lemmatize(n_word, pos='v')\n",
        "    n_text.append(n_word)\n",
        "\n",
        "  return ' '.join(n_text)\n",
        "\n",
        "# processed_text = lem_text(processed_text)\n",
        "# print(processed_text)\n",
        "\n",
        "def stem_and_stopwords(text):\n",
        "    stemmer = nltk.stem.SnowballStemmer('english')\n",
        "    stop_words = set(nltk.corpus.stopwords.words('english'))\n",
        "    tokens = [word for word in nltk.word_tokenize(text) if (len(word) > 3 and len(word.strip('Xx/')) > 2 and len(re.sub('\\d+', '', word.strip('Xx/'))) > 3) ] \n",
        "    tokens = map(str.lower, tokens)\n",
        "    stems = [stemmer.stem(item) for item in tokens if (item not in stop_words)]\n",
        "    return stems\n",
        "\n",
        "\n",
        "def clean_text(text):\n",
        "    text = decontracted(text)\n",
        "    text = remove_special_character(text)\n",
        "    text = remove_stop_words(text)\n",
        "    text = lemmatize_text(text)\n",
        "    #text = stem_and_stopwords(text)\n",
        "    return text\n",
        "\n",
        "\n",
        "def find_max_list_idx(list):\n",
        "    list_len = [len(i) for i in list]\n",
        "    return np.argmax(np.array(list_len))"
      ],
      "execution_count": null,
      "outputs": []
    },
    {
      "cell_type": "code",
      "metadata": {
        "colab": {
          "base_uri": "https://localhost:8080/"
        },
        "id": "GiThfKfj3lFU",
        "outputId": "43db7d1f-798e-4fc4-c7c3-c73f0bee2dee"
      },
      "source": [
        "# Using GoogleCollab:\n",
        "from google.colab import drive\n",
        "drive.mount('/content/drive')\n",
        "os.chdir('/content/drive/My Drive/Colab Notebooks/')"
      ],
      "execution_count": null,
      "outputs": [
        {
          "output_type": "stream",
          "text": [
            "Drive already mounted at /content/drive; to attempt to forcibly remount, call drive.mount(\"/content/drive\", force_remount=True).\n"
          ],
          "name": "stdout"
        }
      ]
    },
    {
      "cell_type": "code",
      "metadata": {
        "id": "WlYnUow33gYm"
      },
      "source": [
        "data = pd.read_csv('data.csv')"
      ],
      "execution_count": null,
      "outputs": []
    },
    {
      "cell_type": "code",
      "metadata": {
        "colab": {
          "base_uri": "https://localhost:8080/"
        },
        "id": "bYIUnaV13gYm",
        "outputId": "a29f6aba-d486-4e7d-e3d7-6da5eebecedb"
      },
      "source": [
        "data.shape"
      ],
      "execution_count": null,
      "outputs": [
        {
          "output_type": "execute_result",
          "data": {
            "text/plain": [
              "(425, 11)"
            ]
          },
          "metadata": {
            "tags": []
          },
          "execution_count": 7
        }
      ]
    },
    {
      "cell_type": "code",
      "metadata": {
        "colab": {
          "base_uri": "https://localhost:8080/",
          "height": 162
        },
        "id": "bbdquj5H3gYn",
        "outputId": "7751c972-cae3-475b-906f-a452ec5389d8"
      },
      "source": [
        "data.head(2)"
      ],
      "execution_count": null,
      "outputs": [
        {
          "output_type": "execute_result",
          "data": {
            "text/html": [
              "<div>\n",
              "<style scoped>\n",
              "    .dataframe tbody tr th:only-of-type {\n",
              "        vertical-align: middle;\n",
              "    }\n",
              "\n",
              "    .dataframe tbody tr th {\n",
              "        vertical-align: top;\n",
              "    }\n",
              "\n",
              "    .dataframe thead th {\n",
              "        text-align: right;\n",
              "    }\n",
              "</style>\n",
              "<table border=\"1\" class=\"dataframe\">\n",
              "  <thead>\n",
              "    <tr style=\"text-align: right;\">\n",
              "      <th></th>\n",
              "      <th>Unnamed: 0</th>\n",
              "      <th>Data</th>\n",
              "      <th>Countries</th>\n",
              "      <th>Local</th>\n",
              "      <th>Industry Sector</th>\n",
              "      <th>Accident Level</th>\n",
              "      <th>Potential Accident Level</th>\n",
              "      <th>Genre</th>\n",
              "      <th>Employee or Third Party</th>\n",
              "      <th>Critical Risk</th>\n",
              "      <th>Description</th>\n",
              "    </tr>\n",
              "  </thead>\n",
              "  <tbody>\n",
              "    <tr>\n",
              "      <th>0</th>\n",
              "      <td>0</td>\n",
              "      <td>2016-01-01 00:00:00</td>\n",
              "      <td>Country_01</td>\n",
              "      <td>Local_01</td>\n",
              "      <td>Mining</td>\n",
              "      <td>I</td>\n",
              "      <td>IV</td>\n",
              "      <td>Male</td>\n",
              "      <td>Third Party</td>\n",
              "      <td>Pressed</td>\n",
              "      <td>While removing the drill rod of the Jumbo 08 f...</td>\n",
              "    </tr>\n",
              "    <tr>\n",
              "      <th>1</th>\n",
              "      <td>1</td>\n",
              "      <td>2016-01-02 00:00:00</td>\n",
              "      <td>Country_02</td>\n",
              "      <td>Local_02</td>\n",
              "      <td>Mining</td>\n",
              "      <td>I</td>\n",
              "      <td>IV</td>\n",
              "      <td>Male</td>\n",
              "      <td>Employee</td>\n",
              "      <td>Pressurized Systems</td>\n",
              "      <td>During the activation of a sodium sulphide pum...</td>\n",
              "    </tr>\n",
              "  </tbody>\n",
              "</table>\n",
              "</div>"
            ],
            "text/plain": [
              "   Unnamed: 0  ...                                        Description\n",
              "0           0  ...  While removing the drill rod of the Jumbo 08 f...\n",
              "1           1  ...  During the activation of a sodium sulphide pum...\n",
              "\n",
              "[2 rows x 11 columns]"
            ]
          },
          "metadata": {
            "tags": []
          },
          "execution_count": 8
        }
      ]
    },
    {
      "cell_type": "code",
      "metadata": {
        "id": "4_Aa65co3gYn"
      },
      "source": [
        "#target_column = 'Potential Accident Level'\n",
        "target_column = 'Accident Level'\n",
        "target={'I':0, 'II':1, 'III':2, 'IV':3, 'V':4, 'VI':5}\n",
        "\n",
        "data['target']=data[target_column].map(target)"
      ],
      "execution_count": null,
      "outputs": []
    },
    {
      "cell_type": "code",
      "metadata": {
        "id": "5ren1hJU3gYn"
      },
      "source": [
        "df = data[['target', 'Description']]"
      ],
      "execution_count": null,
      "outputs": []
    },
    {
      "cell_type": "code",
      "metadata": {
        "colab": {
          "base_uri": "https://localhost:8080/"
        },
        "id": "yW87jv4K3gYo",
        "outputId": "a1f662e1-46fa-4df1-ac5b-292676078af5"
      },
      "source": [
        "df.Description = df.Description.apply(clean_text)"
      ],
      "execution_count": null,
      "outputs": [
        {
          "output_type": "stream",
          "text": [
            "/usr/local/lib/python3.7/dist-packages/pandas/core/generic.py:5170: SettingWithCopyWarning: \n",
            "A value is trying to be set on a copy of a slice from a DataFrame.\n",
            "Try using .loc[row_indexer,col_indexer] = value instead\n",
            "\n",
            "See the caveats in the documentation: https://pandas.pydata.org/pandas-docs/stable/user_guide/indexing.html#returning-a-view-versus-a-copy\n",
            "  self[name] = value\n"
          ],
          "name": "stderr"
        }
      ]
    },
    {
      "cell_type": "code",
      "metadata": {
        "colab": {
          "base_uri": "https://localhost:8080/",
          "height": 111
        },
        "id": "SOwofkdz3gYo",
        "outputId": "abf7cf75-e489-4d99-ceda-4ecd46efb476"
      },
      "source": [
        "df.head(2)"
      ],
      "execution_count": null,
      "outputs": [
        {
          "output_type": "execute_result",
          "data": {
            "text/html": [
              "<div>\n",
              "<style scoped>\n",
              "    .dataframe tbody tr th:only-of-type {\n",
              "        vertical-align: middle;\n",
              "    }\n",
              "\n",
              "    .dataframe tbody tr th {\n",
              "        vertical-align: top;\n",
              "    }\n",
              "\n",
              "    .dataframe thead th {\n",
              "        text-align: right;\n",
              "    }\n",
              "</style>\n",
              "<table border=\"1\" class=\"dataframe\">\n",
              "  <thead>\n",
              "    <tr style=\"text-align: right;\">\n",
              "      <th></th>\n",
              "      <th>target</th>\n",
              "      <th>Description</th>\n",
              "    </tr>\n",
              "  </thead>\n",
              "  <tbody>\n",
              "    <tr>\n",
              "      <th>0</th>\n",
              "      <td>0</td>\n",
              "      <td>remove drill rod jumbo maintenance supervisor ...</td>\n",
              "    </tr>\n",
              "    <tr>\n",
              "      <th>1</th>\n",
              "      <td>0</td>\n",
              "      <td>activation sodium sulphide pump pip uncouple s...</td>\n",
              "    </tr>\n",
              "  </tbody>\n",
              "</table>\n",
              "</div>"
            ],
            "text/plain": [
              "   target                                        Description\n",
              "0       0  remove drill rod jumbo maintenance supervisor ...\n",
              "1       0  activation sodium sulphide pump pip uncouple s..."
            ]
          },
          "metadata": {
            "tags": []
          },
          "execution_count": 12
        }
      ]
    },
    {
      "cell_type": "code",
      "metadata": {
        "id": "J_In9asI3gYo"
      },
      "source": [
        "#X_train, X_test = train_test_split(data[['Description', 'target']], test_size=0.2, random_state=111)"
      ],
      "execution_count": null,
      "outputs": []
    },
    {
      "cell_type": "markdown",
      "metadata": {
        "id": "_GpezFEJRg1r"
      },
      "source": [
        "###Convert target to category::"
      ]
    },
    {
      "cell_type": "code",
      "metadata": {
        "colab": {
          "base_uri": "https://localhost:8080/"
        },
        "id": "L_XenyLZRtne",
        "outputId": "7b33d759-eb80-42ed-8bdd-f7375ad33cf4"
      },
      "source": [
        "df['target'].astype('category')"
      ],
      "execution_count": null,
      "outputs": [
        {
          "output_type": "execute_result",
          "data": {
            "text/plain": [
              "0      0\n",
              "1      0\n",
              "2      0\n",
              "3      0\n",
              "4      3\n",
              "      ..\n",
              "420    0\n",
              "421    0\n",
              "422    0\n",
              "423    0\n",
              "424    0\n",
              "Name: target, Length: 425, dtype: category\n",
              "Categories (5, int64): [0, 1, 2, 3, 4]"
            ]
          },
          "metadata": {
            "tags": []
          },
          "execution_count": 14
        }
      ]
    },
    {
      "cell_type": "markdown",
      "metadata": {
        "id": "OS2Zgj9g3gYp"
      },
      "source": [
        "---"
      ]
    },
    {
      "cell_type": "code",
      "metadata": {
        "colab": {
          "base_uri": "https://localhost:8080/"
        },
        "id": "oVMKw1DF9J6g",
        "outputId": "ce891f24-5e29-4cb7-ff26-6c417b453392"
      },
      "source": [
        "max_idx = find_max_list_idx(df['Description'])\n",
        "print(max_idx)"
      ],
      "execution_count": null,
      "outputs": [
        {
          "output_type": "stream",
          "text": [
            "174\n"
          ],
          "name": "stdout"
        }
      ]
    },
    {
      "cell_type": "code",
      "metadata": {
        "colab": {
          "base_uri": "https://localhost:8080/"
        },
        "id": "gcvQHb0B9My0",
        "outputId": "d1b839c5-4e19-4bb0-bc3d-51baf701647d"
      },
      "source": [
        "print(len(df['Description'][max_idx]))\n",
        "\n"
      ],
      "execution_count": null,
      "outputs": [
        {
          "output_type": "stream",
          "text": [
            "622\n"
          ],
          "name": "stdout"
        }
      ]
    },
    {
      "cell_type": "code",
      "metadata": {
        "colab": {
          "base_uri": "https://localhost:8080/",
          "height": 103
        },
        "id": "1rALTXvuVO4N",
        "outputId": "f80d9077-b23d-458b-b2ae-0d6c5faa1fc4"
      },
      "source": [
        "df['Description'][max_idx]"
      ],
      "execution_count": null,
      "outputs": [
        {
          "output_type": "execute_result",
          "data": {
            "application/vnd.google.colaboratory.intrinsic+json": {
              "type": "string"
            },
            "text/plain": [
              "'level gallery hold activity bolter equipment no operator perform drill first hole support right gable drill end drill rod break leave thread inside drill machine shank operator assistant decide make two empty percussion attempt free thread shank without success third attempt assistant enter corrugate iron central hole rest bar embed shank generate pressure moment operator activate percussion generate movement shank hit palm victim leave hand generate describe injury worker wear safety gloves time accident end corrugate iron contact leave hand shape like cane worker time accident position roof support mesh split set'"
            ]
          },
          "metadata": {
            "tags": []
          },
          "execution_count": 17
        }
      ]
    },
    {
      "cell_type": "code",
      "metadata": {
        "id": "sPPL8OxFVIma"
      },
      "source": [
        "MAX_SEQUENCE_LENGTH = len(df['Description'][max_idx])"
      ],
      "execution_count": null,
      "outputs": []
    },
    {
      "cell_type": "markdown",
      "metadata": {
        "id": "sWpmu2D6bttp"
      },
      "source": [
        "# Create Word2Vec from gensim::"
      ]
    },
    {
      "cell_type": "markdown",
      "metadata": {
        "id": "Z-PXM4AMgZNT"
      },
      "source": [
        "##Text Clean for Gensim::"
      ]
    },
    {
      "cell_type": "code",
      "metadata": {
        "id": "_4XSZc883gYt"
      },
      "source": [
        "desc_lines = list()\n",
        "lines = df['Description'].values.tolist()\n",
        "\n",
        "for line in lines:   \n",
        "    tokens = word_tokenize(line)\n",
        "    # convert to lower case\n",
        "    tokens = [w.lower() for w in tokens]\n",
        "    # remove punctuation from each word    \n",
        "    table = str.maketrans('', '', string.punctuation)\n",
        "    stripped = [w.translate(table) for w in tokens]\n",
        "    # remove remaining tokens that are not alphabetic\n",
        "    words = [word for word in stripped if word.isalpha()]\n",
        "    # filter out stop words    \n",
        "    stop_words = set(stopwords.words('english'))\n",
        "    words = [w for w in words if not w in stop_words]\n",
        "    desc_lines.append(words)"
      ],
      "execution_count": null,
      "outputs": []
    },
    {
      "cell_type": "code",
      "metadata": {
        "colab": {
          "base_uri": "https://localhost:8080/"
        },
        "id": "VpslZx1hqdvO",
        "outputId": "9d87a7e4-e933-40b0-e2b5-9eb471c24b9d"
      },
      "source": [
        "len(desc_lines)\n"
      ],
      "execution_count": null,
      "outputs": [
        {
          "output_type": "execute_result",
          "data": {
            "text/plain": [
              "425"
            ]
          },
          "metadata": {
            "tags": []
          },
          "execution_count": 20
        }
      ]
    },
    {
      "cell_type": "code",
      "metadata": {
        "colab": {
          "base_uri": "https://localhost:8080/"
        },
        "id": "20oFwNnsqdsd",
        "outputId": "efdb6399-c694-489a-bbea-a9e73eb164c6"
      },
      "source": [
        "import gensim \n",
        "\n",
        "EMBEDDING_DIM = 100\n",
        "# train word2vec model\n",
        "model = gensim.models.Word2Vec(sentences=desc_lines, size=EMBEDDING_DIM, window=5, workers=4, min_count=1)\n",
        "# vocab size\n",
        "words = list(model.wv.vocab)\n",
        "print('Vocabulary size: %d' % len(words))"
      ],
      "execution_count": null,
      "outputs": [
        {
          "output_type": "stream",
          "text": [
            "Vocabulary size: 2372\n"
          ],
          "name": "stdout"
        }
      ]
    },
    {
      "cell_type": "code",
      "metadata": {
        "id": "xFS-azleqdp2"
      },
      "source": [
        "# save model in ASCII (word2vec) format\n",
        "filename = 'embedding_word2vec.txt'\n",
        "model.wv.save_word2vec_format(filename, binary=False)"
      ],
      "execution_count": null,
      "outputs": []
    },
    {
      "cell_type": "code",
      "metadata": {
        "colab": {
          "base_uri": "https://localhost:8080/"
        },
        "id": "ynpEc8JYqdm5",
        "outputId": "25ca2186-5ab1-4452-d5e8-3dd8ed84e39b"
      },
      "source": [
        "words[10:15]"
      ],
      "execution_count": null,
      "outputs": [
        {
          "output_type": "execute_result",
          "data": {
            "text/plain": [
              "['centralizer', 'facilitate', 'removal', 'see', 'mechanic']"
            ]
          },
          "metadata": {
            "tags": []
          },
          "execution_count": 23
        }
      ]
    },
    {
      "cell_type": "code",
      "metadata": {
        "colab": {
          "base_uri": "https://localhost:8080/"
        },
        "id": "T4ZVagVEqdkA",
        "outputId": "edacbbec-4347-411d-b324-8b96dda182a3"
      },
      "source": [
        "model.wv.most_similar('mechanic')"
      ],
      "execution_count": null,
      "outputs": [
        {
          "output_type": "execute_result",
          "data": {
            "text/plain": [
              "[('fall', 0.9878702163696289),\n",
              " ('use', 0.9869433045387268),\n",
              " ('right', 0.9860049486160278),\n",
              " ('employee', 0.98548424243927),\n",
              " ('moment', 0.9850805401802063),\n",
              " ('work', 0.9850097298622131),\n",
              " ('leave', 0.9849992394447327),\n",
              " ('operator', 0.9848170876502991),\n",
              " ('hand', 0.9846010208129883),\n",
              " ('activity', 0.9845645427703857)]"
            ]
          },
          "metadata": {
            "tags": []
          },
          "execution_count": 24
        }
      ]
    },
    {
      "cell_type": "code",
      "metadata": {
        "id": "0J7A0Jugqdhg"
      },
      "source": [
        ""
      ],
      "execution_count": null,
      "outputs": []
    },
    {
      "cell_type": "code",
      "metadata": {
        "id": "HEFvQ4UPqdfV"
      },
      "source": [
        "embeddings_index = {}\n",
        "f = open(os.path.join('', 'embedding_word2vec.txt'),  encoding = \"utf-8\")\n",
        "for line in f:\n",
        "    values = line.split()\n",
        "    word = values[0]\n",
        "    coefs = np.asarray(values[1:])\n",
        "    embeddings_index[word] = coefs\n",
        "f.close()"
      ],
      "execution_count": null,
      "outputs": []
    },
    {
      "cell_type": "code",
      "metadata": {
        "id": "DYRqvt2YqdcT"
      },
      "source": [
        ""
      ],
      "execution_count": null,
      "outputs": []
    },
    {
      "cell_type": "code",
      "metadata": {
        "id": "7uYozhgRqdZ3"
      },
      "source": [
        "# total_descriptions = X_train + X_test\n",
        "# max_length = 150 # try other options like mean of sentence lengths\n",
        "# max_length = MAX_SEQUENCE_LENGTH"
      ],
      "execution_count": null,
      "outputs": []
    },
    {
      "cell_type": "code",
      "metadata": {
        "id": "QceIRpHrqdW0"
      },
      "source": [
        ""
      ],
      "execution_count": null,
      "outputs": []
    },
    {
      "cell_type": "code",
      "metadata": {
        "colab": {
          "base_uri": "https://localhost:8080/"
        },
        "id": "--u90NDITh7y",
        "outputId": "883dc0c7-baeb-42d9-f364-7006c2d8f0d6"
      },
      "source": [
        "from tensorflow.python.keras.preprocessing.text import Tokenizer\n",
        "from tensorflow.python.keras.preprocessing.sequence import pad_sequences\n",
        "\n",
        "# vectorize the text samples into a 2D integer tensor\n",
        "tokenizer_obj = Tokenizer()\n",
        "tokenizer_obj.fit_on_texts(desc_lines)\n",
        "sequences = tokenizer_obj.texts_to_sequences(desc_lines)\n",
        "\n",
        "# pad sequences\n",
        "word_index = tokenizer_obj.word_index\n",
        "print('Found %s unique tokens.' % len(word_index))\n",
        "\n",
        "desc_pad = pad_sequences(sequences, maxlen=MAX_SEQUENCE_LENGTH)\n",
        "\n",
        "X = desc_pad\n",
        "\n",
        "print('Shape of Desc tensor:', X.shape)\n",
        "\n"
      ],
      "execution_count": null,
      "outputs": [
        {
          "output_type": "stream",
          "text": [
            "Found 2372 unique tokens.\n",
            "Shape of Desc tensor: (425, 622)\n"
          ],
          "name": "stdout"
        }
      ]
    },
    {
      "cell_type": "code",
      "metadata": {
        "colab": {
          "base_uri": "https://localhost:8080/"
        },
        "id": "rz2xn2StTh4n",
        "outputId": "55e51b24-0cdb-4977-8cea-c94beaff4f96"
      },
      "source": [
        "y = pd.get_dummies(df['target']).values\n",
        "print('Shape of label tensor:', y.shape)\n"
      ],
      "execution_count": null,
      "outputs": [
        {
          "output_type": "stream",
          "text": [
            "Shape of label tensor: (425, 5)\n"
          ],
          "name": "stdout"
        }
      ]
    },
    {
      "cell_type": "markdown",
      "metadata": {
        "id": "1YWFial7ZANa"
      },
      "source": [
        "### Model with imblearn::"
      ]
    },
    {
      "cell_type": "code",
      "metadata": {
        "colab": {
          "base_uri": "https://localhost:8080/"
        },
        "id": "0rw2MuEQS4po",
        "outputId": "45dde3ea-c77e-4d4f-f8b9-5c437b30f133"
      },
      "source": [
        "!pip install imblearn\n",
        "import imblearn\n",
        "from imblearn.over_sampling import SMOTE\n"
      ],
      "execution_count": null,
      "outputs": [
        {
          "output_type": "stream",
          "text": [
            "Requirement already satisfied: imblearn in /usr/local/lib/python3.7/dist-packages (0.0)\n",
            "Requirement already satisfied: imbalanced-learn in /usr/local/lib/python3.7/dist-packages (from imblearn) (0.4.3)\n",
            "Requirement already satisfied: scikit-learn>=0.20 in /usr/local/lib/python3.7/dist-packages (from imbalanced-learn->imblearn) (0.22.2.post1)\n",
            "Requirement already satisfied: numpy>=1.8.2 in /usr/local/lib/python3.7/dist-packages (from imbalanced-learn->imblearn) (1.19.5)\n",
            "Requirement already satisfied: scipy>=0.13.3 in /usr/local/lib/python3.7/dist-packages (from imbalanced-learn->imblearn) (1.4.1)\n",
            "Requirement already satisfied: joblib>=0.11 in /usr/local/lib/python3.7/dist-packages (from scikit-learn>=0.20->imbalanced-learn->imblearn) (1.0.1)\n"
          ],
          "name": "stdout"
        },
        {
          "output_type": "stream",
          "text": [
            "/usr/local/lib/python3.7/dist-packages/sklearn/externals/six.py:31: FutureWarning: The module is deprecated in version 0.21 and will be removed in version 0.23 since we've dropped support for Python 2.7. Please rely on the official version of six (https://pypi.org/project/six/).\n",
            "  \"(https://pypi.org/project/six/).\", FutureWarning)\n",
            "/usr/local/lib/python3.7/dist-packages/sklearn/utils/deprecation.py:144: FutureWarning: The sklearn.neighbors.base module is  deprecated in version 0.22 and will be removed in version 0.24. The corresponding classes / functions should instead be imported from sklearn.neighbors. Anything that cannot be imported from sklearn.neighbors is now part of the private API.\n",
            "  warnings.warn(message, FutureWarning)\n"
          ],
          "name": "stderr"
        }
      ]
    },
    {
      "cell_type": "code",
      "metadata": {
        "id": "EmBisHrmsy_d",
        "colab": {
          "base_uri": "https://localhost:8080/"
        },
        "outputId": "5cbed930-4576-43ba-9fc5-1962130f1af7"
      },
      "source": [
        "\n",
        "# sm = SMOTE(random_state = 111, k_neighbors=4)\n",
        "# X_train_res, y_train_res = sm.fit_sample(X_train_pad, y_train,)\n",
        "\n",
        "from imblearn.over_sampling import SMOTENC\n",
        "sm = SMOTENC(random_state=111, categorical_features=[0,1,2,3,4])\n",
        "X_res, y_res = sm.fit_resample(X, y)\n",
        "\n"
      ],
      "execution_count": null,
      "outputs": [
        {
          "output_type": "stream",
          "text": [
            "/usr/local/lib/python3.7/dist-packages/sklearn/utils/deprecation.py:87: FutureWarning: Function safe_indexing is deprecated; safe_indexing is deprecated in version 0.22 and will be removed in version 0.24.\n",
            "  warnings.warn(msg, category=FutureWarning)\n",
            "/usr/local/lib/python3.7/dist-packages/sklearn/utils/deprecation.py:87: FutureWarning: Function safe_indexing is deprecated; safe_indexing is deprecated in version 0.22 and will be removed in version 0.24.\n",
            "  warnings.warn(msg, category=FutureWarning)\n"
          ],
          "name": "stderr"
        }
      ]
    },
    {
      "cell_type": "code",
      "metadata": {
        "colab": {
          "base_uri": "https://localhost:8080/"
        },
        "id": "rbaA2y7CUnfb",
        "outputId": "8de386ab-2906-4052-8544-6d5af546aa1a"
      },
      "source": [
        "print('Before Sampling: X_train: {}, y_train: {}'.format(X.shape, y.shape))"
      ],
      "execution_count": null,
      "outputs": [
        {
          "output_type": "stream",
          "text": [
            "Before Sampling: X_train: (425, 622), y_train: (425, 5)\n"
          ],
          "name": "stdout"
        }
      ]
    },
    {
      "cell_type": "code",
      "metadata": {
        "colab": {
          "base_uri": "https://localhost:8080/"
        },
        "id": "PS7sGtovX3jr",
        "outputId": "aa5afe1b-d79e-415b-b78e-a9583427881e"
      },
      "source": [
        "print('After Sampling: X: {}, y: {}'.format(X_res.shape, y_res.shape))"
      ],
      "execution_count": null,
      "outputs": [
        {
          "output_type": "stream",
          "text": [
            "After Sampling: X: (1580, 622), y: (1580, 5)\n"
          ],
          "name": "stdout"
        }
      ]
    },
    {
      "cell_type": "code",
      "metadata": {
        "id": "1e_mIpKj_eEt"
      },
      "source": [
        ""
      ],
      "execution_count": null,
      "outputs": []
    },
    {
      "cell_type": "code",
      "metadata": {
        "colab": {
          "base_uri": "https://localhost:8080/"
        },
        "id": "hKbpa4JDThxe",
        "outputId": "431261ba-17cd-4063-ff2b-37554ca76f8d"
      },
      "source": [
        "X_train, X_test, y_train, y_test = train_test_split(X_res, y_res, test_size = 0.10, random_state = 1122)\n",
        "print(X_train.shape,y_train.shape)\n",
        "print(X_test.shape,y_test.shape)"
      ],
      "execution_count": null,
      "outputs": [
        {
          "output_type": "stream",
          "text": [
            "(1422, 622) (1422, 5)\n",
            "(158, 622) (158, 5)\n"
          ],
          "name": "stdout"
        }
      ]
    },
    {
      "cell_type": "code",
      "metadata": {
        "id": "wgWPUc62ThuH"
      },
      "source": [
        ""
      ],
      "execution_count": null,
      "outputs": []
    },
    {
      "cell_type": "code",
      "metadata": {
        "id": "pRxNtmlvsNEG"
      },
      "source": [
        "EMBEDDING_DIM =100\n",
        "num_words = len(word_index) + 1\n",
        "embedding_matrix = np.zeros((num_words, EMBEDDING_DIM))\n",
        "\n",
        "for word, i in word_index.items():\n",
        "    if i > num_words:\n",
        "        continue\n",
        "    embedding_vector = embeddings_index.get(word)\n",
        "    if embedding_vector is not None:\n",
        "        # words not found in embedding index will be all-zeros.\n",
        "        embedding_matrix[i] = embedding_vector"
      ],
      "execution_count": null,
      "outputs": []
    },
    {
      "cell_type": "code",
      "metadata": {
        "id": "CThmQXWOsNA6"
      },
      "source": [
        ""
      ],
      "execution_count": null,
      "outputs": []
    },
    {
      "cell_type": "code",
      "metadata": {
        "colab": {
          "base_uri": "https://localhost:8080/"
        },
        "id": "AyP_UxIJsM-b",
        "outputId": "330150eb-e3ba-463a-e1e0-e4492a23d78e"
      },
      "source": [
        "print(num_words)\n"
      ],
      "execution_count": null,
      "outputs": [
        {
          "output_type": "stream",
          "text": [
            "2373\n"
          ],
          "name": "stdout"
        }
      ]
    },
    {
      "cell_type": "code",
      "metadata": {
        "id": "xBariTWvsM7p"
      },
      "source": [
        ""
      ],
      "execution_count": null,
      "outputs": []
    },
    {
      "cell_type": "markdown",
      "metadata": {
        "id": "raY6ON4HS6-c"
      },
      "source": [
        "### The above model was overfitting, so increase bias: Add drop out layers::"
      ]
    },
    {
      "cell_type": "code",
      "metadata": {
        "colab": {
          "base_uri": "https://localhost:8080/"
        },
        "id": "eB2yJMR2_eB1",
        "outputId": "a215ca08-3be8-4c81-a8ef-cfbba011ba5d"
      },
      "source": [
        "from keras.models import Sequential\n",
        "from keras.layers import Dense, Embedding, Flatten\n",
        "from keras.layers.convolutional import Conv1D\n",
        "from keras.layers.convolutional import MaxPooling1D\n",
        "from keras.initializers import Constant\n",
        "\n",
        "# Model#1:\n",
        "model = Sequential()\n",
        "model.add(Embedding(num_words, EMBEDDING_DIM, input_length=MAX_SEQUENCE_LENGTH))\n",
        "model.add(SpatialDropout1D(0.2))\n",
        "model.add(LSTM(128, dropout=0.2, recurrent_dropout=0.2))\n",
        "model.add(Dense(5, activation='softmax'))\n",
        "#Accuracy: 39.87%\n",
        "# array([[12,  7, 10,  2,  0],\n",
        "#        [ 2,  5,  9,  4,  0],\n",
        "#        [ 5,  6, 12, 12,  2],\n",
        "#        [ 0,  2,  9, 18,  4],\n",
        "#        [ 0,  0,  8, 13, 16]])\n",
        "\n",
        "#Model#2: -> \n",
        "# model = Sequential()\n",
        "# model.add(Embedding(num_words, EMBEDDING_DIM, input_length=MAX_SEQUENCE_LENGTH))\n",
        "# model.add(SpatialDropout1D(0.2))\n",
        "# model.add(LSTM(128, dropout=0.2, recurrent_dropout=0.2))\n",
        "# model.add(Dropout(0.2)) #\n",
        "# model.add(Flatten()) #\n",
        "# model.add(Dense(5, activation='softmax'))\n",
        "# # Accuracy: 40.51%\n",
        "# # CM Matrix::\n",
        "# # array([[15,  4,  7,  5,  0],\n",
        "# #        [ 2, 11,  5,  2,  0],\n",
        "# #        [ 7, 11,  9,  9,  1],\n",
        "# #        [ 1,  6,  9, 15,  2],\n",
        "# #        [ 0,  5,  5, 13, 14]])\n",
        "\n",
        "\n",
        "\n",
        "model.compile(loss='categorical_crossentropy', optimizer='adam', metrics=['accuracy'])\n",
        "print(model.summary())"
      ],
      "execution_count": null,
      "outputs": [
        {
          "output_type": "stream",
          "text": [
            "Model: \"sequential\"\n",
            "_________________________________________________________________\n",
            "Layer (type)                 Output Shape              Param #   \n",
            "=================================================================\n",
            "embedding (Embedding)        (None, 622, 100)          237300    \n",
            "_________________________________________________________________\n",
            "spatial_dropout1d (SpatialDr (None, 622, 100)          0         \n",
            "_________________________________________________________________\n",
            "lstm (LSTM)                  (None, 128)               117248    \n",
            "_________________________________________________________________\n",
            "dense (Dense)                (None, 5)                 645       \n",
            "=================================================================\n",
            "Total params: 355,193\n",
            "Trainable params: 355,193\n",
            "Non-trainable params: 0\n",
            "_________________________________________________________________\n",
            "None\n"
          ],
          "name": "stdout"
        }
      ]
    },
    {
      "cell_type": "code",
      "metadata": {
        "id": "FwgGhtBWZF_o",
        "colab": {
          "base_uri": "https://localhost:8080/"
        },
        "outputId": "58cf09bf-f419-410a-8eda-c32ea1ac2ce5"
      },
      "source": [
        "\n",
        "h = model.fit(X_train, y_train, batch_size=128, epochs=10, validation_data=(X_test, y_test), verbose=2, shuffle=True)\n"
      ],
      "execution_count": null,
      "outputs": [
        {
          "output_type": "stream",
          "text": [
            "Epoch 1/10\n",
            "12/12 - 43s - loss: 1.6063 - accuracy: 0.2314 - val_loss: 1.6006 - val_accuracy: 0.2152\n",
            "Epoch 2/10\n",
            "12/12 - 39s - loss: 1.5566 - accuracy: 0.3361 - val_loss: 1.5425 - val_accuracy: 0.3291\n",
            "Epoch 3/10\n",
            "12/12 - 38s - loss: 1.4670 - accuracy: 0.3685 - val_loss: 1.4874 - val_accuracy: 0.3165\n",
            "Epoch 4/10\n",
            "12/12 - 39s - loss: 1.4250 - accuracy: 0.4086 - val_loss: 1.4646 - val_accuracy: 0.4494\n",
            "Epoch 5/10\n",
            "12/12 - 39s - loss: 1.2753 - accuracy: 0.4993 - val_loss: 1.3777 - val_accuracy: 0.4241\n",
            "Epoch 6/10\n",
            "12/12 - 38s - loss: 1.1303 - accuracy: 0.5591 - val_loss: 1.3371 - val_accuracy: 0.4114\n",
            "Epoch 7/10\n",
            "12/12 - 39s - loss: 0.9822 - accuracy: 0.6224 - val_loss: 1.3593 - val_accuracy: 0.4177\n",
            "Epoch 8/10\n",
            "12/12 - 39s - loss: 0.8138 - accuracy: 0.6857 - val_loss: 1.7605 - val_accuracy: 0.3101\n",
            "Epoch 9/10\n",
            "12/12 - 38s - loss: 0.7331 - accuracy: 0.7370 - val_loss: 1.4980 - val_accuracy: 0.4051\n",
            "Epoch 10/10\n",
            "12/12 - 38s - loss: 0.6115 - accuracy: 0.7834 - val_loss: 1.5796 - val_accuracy: 0.3734\n"
          ],
          "name": "stdout"
        }
      ]
    },
    {
      "cell_type": "markdown",
      "metadata": {
        "id": "4GS51OnuZF_p"
      },
      "source": [
        "###Evaluation:"
      ]
    },
    {
      "cell_type": "code",
      "metadata": {
        "colab": {
          "base_uri": "https://localhost:8080/",
          "height": 400
        },
        "id": "aDZEuQtDZF_p",
        "outputId": "fb39aecc-eb27-49f4-a012-a5a36849f722"
      },
      "source": [
        "f, (ax1, ax2) = plt.subplots(1, 2, figsize = (24, 6))\n",
        "f.suptitle('Monitoring the performance of the model')\n",
        "\n",
        "loss = 'loss'\n",
        "val_loss = 'val_loss'\n",
        "accuracy = 'accuracy'\n",
        "val_accuracy = 'val_accuracy'\n",
        "\n",
        "#accuracy = 'categorical_hinge'\n",
        "#val_accuracy = 'val_categorical_hinge'\n",
        "\n",
        "\n",
        "ax1.plot(h.history['loss'], label = 'Train')\n",
        "ax1.plot(h.history['val_loss'], label = 'Test')\n",
        "ax1.set_title('Model Loss')\n",
        "ax1.legend(['Train', 'Test'])\n",
        "\n",
        "\n",
        "\n",
        "\n",
        "ax2.plot(h.history[accuracy], label = 'Train')\n",
        "ax2.plot(h.history[val_accuracy], label = 'Test')\n",
        "ax2.set_title('Model Accuracy')\n",
        "ax2.legend(['Train', 'Test'])\n",
        "\n",
        "plt.show()"
      ],
      "execution_count": null,
      "outputs": [
        {
          "output_type": "display_data",
          "data": {
            "image/png": "[encoded data removed]",
            "text/plain": [
              "<Figure size 1728x432 with 2 Axes>"
            ]
          },
          "metadata": {
            "tags": [],
            "needs_background": "light"
          }
        }
      ]
    },
    {
      "cell_type": "code",
      "metadata": {
        "colab": {
          "base_uri": "https://localhost:8080/"
        },
        "id": "0jxVusymZF_q",
        "outputId": "c04e0531-a512-46d8-8881-876ffb6e1c8e"
      },
      "source": [
        "print('Testing...')\n",
        "score, acc = model.evaluate(X_test, y_test, batch_size=10)\n",
        "\n",
        "print('Test score:', score)\n",
        "print('Test accuracy:', acc)\n",
        "\n",
        "print(\"Accuracy: {0:.2%}\".format(acc))"
      ],
      "execution_count": null,
      "outputs": [
        {
          "output_type": "stream",
          "text": [
            "Testing...\n",
            "16/16 [==============================] - 2s 116ms/step - loss: 1.5796 - accuracy: 0.3734\n",
            "Test score: 1.5796277523040771\n",
            "Test accuracy: 0.3734177350997925\n",
            "Accuracy: 37.34%\n"
          ],
          "name": "stdout"
        }
      ]
    },
    {
      "cell_type": "code",
      "metadata": {
        "colab": {
          "base_uri": "https://localhost:8080/"
        },
        "id": "k23G8mxIZbw2",
        "outputId": "5659ca9a-1d87-4c34-95d2-5b606e044141"
      },
      "source": [
        "model.evaluate(X_test, y_test)"
      ],
      "execution_count": null,
      "outputs": [
        {
          "output_type": "stream",
          "text": [
            "5/5 [==============================] - 1s 188ms/step - loss: 1.5796 - accuracy: 0.3734\n"
          ],
          "name": "stdout"
        },
        {
          "output_type": "execute_result",
          "data": {
            "text/plain": [
              "[1.5796277523040771, 0.3734177350997925]"
            ]
          },
          "metadata": {
            "tags": []
          },
          "execution_count": 40
        }
      ]
    },
    {
      "cell_type": "code",
      "metadata": {
        "colab": {
          "base_uri": "https://localhost:8080/"
        },
        "id": "nGB7qztPZF_q",
        "outputId": "105360b7-cf79-4913-dceb-5391de932744"
      },
      "source": [
        "from sklearn.metrics import classification_report, confusion_matrix\n",
        "\n",
        "y_pred = model.predict_proba(X_test, batch_size=10, verbose=1)\n",
        "y_pred_bool = np.argmax(y_pred, axis=1)\n",
        "y_test_bool = np.argmax(y_test, axis=1)\n",
        "print(classification_report(y_test_bool, y_pred_bool))\n"
      ],
      "execution_count": null,
      "outputs": [
        {
          "output_type": "stream",
          "text": [
            "/usr/local/lib/python3.7/dist-packages/tensorflow/python/keras/engine/sequential.py:425: UserWarning: `model.predict_proba()` is deprecated and will be removed after 2021-01-01. Please use `model.predict()` instead.\n",
            "  warnings.warn('`model.predict_proba()` is deprecated and '\n"
          ],
          "name": "stderr"
        },
        {
          "output_type": "stream",
          "text": [
            "16/16 [==============================] - 2s 113ms/step\n",
            "              precision    recall  f1-score   support\n",
            "\n",
            "           0       0.48      0.39      0.43        31\n",
            "           1       0.24      0.45      0.31        20\n",
            "           2       0.22      0.19      0.20        37\n",
            "           3       0.32      0.39      0.35        33\n",
            "           4       0.82      0.49      0.61        37\n",
            "\n",
            "    accuracy                           0.37       158\n",
            "   macro avg       0.41      0.38      0.38       158\n",
            "weighted avg       0.43      0.37      0.39       158\n",
            "\n"
          ],
          "name": "stdout"
        }
      ]
    },
    {
      "cell_type": "code",
      "metadata": {
        "colab": {
          "base_uri": "https://localhost:8080/"
        },
        "id": "q9yGarSnZF_q",
        "outputId": "ea6ba4b5-7666-401a-bae7-8d40a293eb7b"
      },
      "source": [
        "confusion_matrix(y_test_bool, y_pred_bool)"
      ],
      "execution_count": null,
      "outputs": [
        {
          "output_type": "execute_result",
          "data": {
            "text/plain": [
              "array([[12, 10,  8,  1,  0],\n",
              "       [ 3,  9,  5,  3,  0],\n",
              "       [ 8,  8,  7, 13,  1],\n",
              "       [ 1,  7,  9, 13,  3],\n",
              "       [ 1,  4,  3, 11, 18]])"
            ]
          },
          "metadata": {
            "tags": []
          },
          "execution_count": 42
        }
      ]
    },
    {
      "cell_type": "code",
      "metadata": {
        "id": "sI7lvCJKZZsw"
      },
      "source": [
        ""
      ],
      "execution_count": null,
      "outputs": []
    },
    {
      "cell_type": "code",
      "metadata": {
        "id": "B8ZWxHCDZZpy"
      },
      "source": [
        ""
      ],
      "execution_count": null,
      "outputs": []
    },
    {
      "cell_type": "markdown",
      "metadata": {
        "id": "bHvY9hGy-vl3"
      },
      "source": [
        "\n",
        "\n",
        "---\n",
        "\n",
        "\n",
        "\n",
        "---\n",
        "\n"
      ]
    }
  ]
}