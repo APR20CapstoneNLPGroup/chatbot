{
  "nbformat": 4,
  "nbformat_minor": 0,
  "metadata": {
    "kernelspec": {
      "display_name": "Python 3",
      "language": "python",
      "name": "python3"
    },
    "language_info": {
      "codemirror_mode": {
        "name": "ipython",
        "version": 3
      },
      "file_extension": ".py",
      "mimetype": "text/x-python",
      "name": "python",
      "nbconvert_exporter": "python",
      "pygments_lexer": "ipython3",
      "version": "3.7.4"
    },
    "colab": {
      "name": "3_NLP-chatbot-W2V_LSTM_word_wise.ipynb",
      "provenance": [],
      "collapsed_sections": []
    }
  },
  "cells": [
    {
      "cell_type": "markdown",
      "metadata": {
        "id": "V79KhuRBY0eJ"
      },
      "source": [
        "# Word2Vec with LSTM:"
      ]
    },
    {
      "cell_type": "code",
      "metadata": {
        "id": "F4aW1ESZ3gYd",
        "colab": {
          "base_uri": "https://localhost:8080/"
        },
        "outputId": "fc3da75f-9287-41f7-dc88-9c6fe01356a7"
      },
      "source": [
        "\n",
        "import pandas as pd\n",
        "import numpy as np\n",
        "import matplotlib.pyplot as plt\n",
        "import nltk\n",
        "nltk.download('wordnet')\n",
        "nltk.download('stopwords')\n",
        "nltk.download('punkt')\n",
        "from nltk.stem import WordNetLemmatizer\n",
        "from sklearn.model_selection import train_test_split\n",
        "import os\n",
        "\n",
        "from sklearn.feature_extraction.text import TfidfVectorizer\n",
        "import re\n",
        "from nltk.stem.porter import PorterStemmer\n",
        "from sklearn.metrics import classification_report, confusion_matrix\n",
        "from nltk.tokenize import RegexpTokenizer\n",
        "\n",
        "\n",
        "from nltk.corpus import stopwords\n",
        "from nltk.util import ngrams\n",
        "from sklearn.feature_extraction.text import CountVectorizer\n",
        "from collections import defaultdict\n",
        "from collections import  Counter\n",
        "plt.style.use('ggplot')\n",
        "#stop=set(stopwords.words('english'))\n",
        "import re\n",
        "from nltk.tokenize import word_tokenize\n",
        "import gensim\n",
        "import string\n",
        "from keras.preprocessing.text import Tokenizer\n",
        "from keras.preprocessing.sequence import pad_sequences\n",
        "from tqdm import tqdm\n",
        "from keras.models import Sequential\n",
        "from keras.layers import Embedding,LSTM,Dense,SpatialDropout1D\n",
        "from keras.initializers import Constant\n",
        "from sklearn.model_selection import train_test_split\n",
        "from keras.optimizers import Adam\n",
        "from tensorflow.keras.layers import Dense, Input, LSTM, Embedding, Dropout, Activation, Flatten, Bidirectional, GlobalMaxPool1D\n",
        "from tensorflow.keras.callbacks import EarlyStopping, ModelCheckpoint, ReduceLROnPlateau, TensorBoard"
      ],
      "execution_count": 1,
      "outputs": [
        {
          "output_type": "stream",
          "text": [
            "[nltk_data] Downloading package wordnet to /root/nltk_data...\n",
            "[nltk_data]   Unzipping corpora/wordnet.zip.\n",
            "[nltk_data] Downloading package stopwords to /root/nltk_data...\n",
            "[nltk_data]   Unzipping corpora/stopwords.zip.\n",
            "[nltk_data] Downloading package punkt to /root/nltk_data...\n",
            "[nltk_data]   Unzipping tokenizers/punkt.zip.\n"
          ],
          "name": "stdout"
        }
      ]
    },
    {
      "cell_type": "code",
      "metadata": {
        "colab": {
          "base_uri": "https://localhost:8080/"
        },
        "id": "Gzz3x81z3gYk",
        "outputId": "f56ee9e7-e1db-49c3-8e6d-98ba4020a7c8"
      },
      "source": [
        "import tensorflow as tf\n",
        "print(tf.__version__)"
      ],
      "execution_count": 2,
      "outputs": [
        {
          "output_type": "stream",
          "text": [
            "2.4.1\n"
          ],
          "name": "stdout"
        }
      ]
    },
    {
      "cell_type": "code",
      "metadata": {
        "id": "nijE2wNl3gYk"
      },
      "source": [
        "from tensorflow.keras.preprocessing.text import Tokenizer\n",
        "from tensorflow.keras.preprocessing.sequence import pad_sequences"
      ],
      "execution_count": 3,
      "outputs": []
    },
    {
      "cell_type": "markdown",
      "metadata": {
        "id": "GAeNAYol3gYl"
      },
      "source": [
        "## Helper Functions for Text cleaning::"
      ]
    },
    {
      "cell_type": "code",
      "metadata": {
        "id": "ghSPR04x3gYl"
      },
      "source": [
        "import re\n",
        "def decontracted(phrase):\n",
        "  \"\"\"decontracted takes text and convert contractions into natural form.\n",
        "     ref: https://stackoverflow.com/questions/19790188/expanding-english-language-contractions-in-python/47091490#47091490\"\"\"\n",
        "\n",
        "  # specific\n",
        "  phrase = re.sub(r\"won\\'t\", \"will not\", phrase)\n",
        "  phrase = re.sub(r\"can\\'t\", \"can not\", phrase)\n",
        "  phrase = re.sub(r\"won\\’t\", \"will not\", phrase)\n",
        "  phrase = re.sub(r\"can\\’t\", \"can not\", phrase)\n",
        "\n",
        "  # general\n",
        "  phrase = re.sub(r\"n\\'t\", \" not\", phrase)\n",
        "  phrase = re.sub(r\"\\'re\", \" are\", phrase)\n",
        "  phrase = re.sub(r\"\\'s\", \" is\", phrase)\n",
        "  phrase = re.sub(r\"\\'d\", \" would\", phrase)\n",
        "  phrase = re.sub(r\"\\'ll\", \" will\", phrase)\n",
        "  phrase = re.sub(r\"\\'t\", \" not\", phrase)\n",
        "  phrase = re.sub(r\"\\'ve\", \" have\", phrase)\n",
        "  phrase = re.sub(r\"\\'m\", \" am\", phrase)\n",
        "\n",
        "  phrase = re.sub(r\"n\\’t\", \" not\", phrase)\n",
        "  phrase = re.sub(r\"\\’re\", \" are\", phrase)\n",
        "  phrase = re.sub(r\"\\’s\", \" is\", phrase)\n",
        "  phrase = re.sub(r\"\\’d\", \" would\", phrase)\n",
        "  phrase = re.sub(r\"\\’ll\", \" will\", phrase)\n",
        "  phrase = re.sub(r\"\\’t\", \" not\", phrase)\n",
        "  phrase = re.sub(r\"\\’ve\", \" have\", phrase)\n",
        "  phrase = re.sub(r\"\\’m\", \" am\", phrase)\n",
        "\n",
        "  return phrase\n",
        "\n",
        "#processed_text = decontracted(processed_text)\n",
        "#print(processed_text)\n",
        "\n",
        "def remove_special_character(phrase, remove_number=False):\n",
        "  \"\"\"remove_special_character takes text and removes special charcters.\n",
        "     ref: https://stackoverflow.com/a/18082370/4084039\"\"\"\n",
        "\n",
        "  phrase = re.sub(\"\\S*\\d\\S*\", \"\", phrase).strip()\n",
        "  if remove_number:\n",
        "    phrase = re.sub('[^A-Za-z]+', ' ', phrase)\n",
        "  else:\n",
        "    phrase = re.sub('[^A-Za-z0-9]+', ' ', phrase)\n",
        "  return phrase\n",
        "\n",
        "# processed_text = remove_special_character(processed_text, True)\n",
        "# print(processed_text)\n",
        "\n",
        "def remove_stop_words(text):\n",
        "    stopwords= set(['br', 'the', 'i', 'me', 'my', 'myself', 'we', 'our', 'ours', 'ourselves', 'you', \\\n",
        "                \"you're\", \"you've\", \"you'll\", \"you'd\", 'your', 'yours', 'yourself', 'yourselves', \\\n",
        "                'he', 'him', 'his', 'himself', 'she', \"she's\", 'her', 'hers', 'herself', 'it', \"it's\", \\\n",
        "                'its', 'itself', 'they', 'them', 'their', 'theirs', 'themselves', 'what', 'which', 'who', \\\n",
        "                'whom', 'this', 'that', \"that'll\", 'these', 'those', 'am', 'is', 'are', 'was', 'were', \\\n",
        "                'be', 'been', 'being', 'have', 'has', 'had', 'having', 'do', 'does', 'did', 'doing', \\\n",
        "                'a', 'an', 'the', 'and', 'but', 'if', 'or', 'because', 'as', 'until', 'while', 'of', \\\n",
        "                'at', 'by', 'for', 'with', 'about', 'against', 'between', 'into', 'through', 'during', \\\n",
        "                'before', 'after', 'above', 'below', 'to', 'from', 'up', 'down', 'in', 'out', 'on', 'off', \\\n",
        "                'over', 'under', 'again', 'further', 'then', 'once', 'here', 'there', 'when', 'where', 'why', \\\n",
        "                'how', 'all', 'any', 'both', 'each', 'few', 'more', 'most', 'other', 'some', 'such', 'only', \\\n",
        "                'own', 'same', 'so', 'than', 'too', 'very', 's', 't', 'can', 'will', 'just', 'don', \"don't\", \\\n",
        "                'should', \"should've\", 'now', 'd', 'll', 'm', 'o', 're', 've', 'y', 'ain', 'aren', \"aren't\", \\\n",
        "                'couldn', \"couldn't\", 'didn', \"didn't\", 'doesn', \"doesn't\", 'hadn', \"hadn't\", 'hasn', \\\n",
        "                \"hasn't\", 'haven', \"haven't\", 'isn', \"isn't\", 'ma', 'mightn', \"mightn't\", 'mustn', \\\n",
        "                \"mustn't\", 'needn', \"needn't\", 'shan', \"shan't\", 'shouldn', \"shouldn't\", 'wasn', \"wasn't\", \\\n",
        "                'weren', \"weren't\", 'won', \"won't\", 'wouldn', \"wouldn't\"])\n",
        "    return ' '.join(e.lower() for e in text.split() if e.lower() not in stopwords)\n",
        "\n",
        "# ref: https://gist.github.com/sebleier/554280\n",
        "\n",
        "# processed_text = ' '.join(e.lower() for e in processed_text.split() if e.lower() not in stopwords)\n",
        "# print(processed_text)\n",
        "\n",
        "def lemmatize_text(text_data):\n",
        "  \"\"\"lem_text takes text and lemmatize it using WordNetLemmatizer.\n",
        "     ref: https://stackoverflow.com/a/25535348\"\"\"\n",
        "  lem = WordNetLemmatizer()\n",
        "  n_text = []\n",
        "  for word in text_data.split(' '):\n",
        "    n_word = lem.lemmatize(word, pos='a')\n",
        "    n_word = lem.lemmatize(n_word, pos='v')\n",
        "    n_text.append(n_word)\n",
        "\n",
        "  return ' '.join(n_text)\n",
        "\n",
        "# processed_text = lem_text(processed_text)\n",
        "# print(processed_text)\n",
        "\n",
        "def stem_and_stopwords(text):\n",
        "    stemmer = nltk.stem.SnowballStemmer('english')\n",
        "    stop_words = set(nltk.corpus.stopwords.words('english'))\n",
        "    tokens = [word for word in nltk.word_tokenize(text) if (len(word) > 3 and len(word.strip('Xx/')) > 2 and len(re.sub('\\d+', '', word.strip('Xx/'))) > 3) ] \n",
        "    tokens = map(str.lower, tokens)\n",
        "    stems = [stemmer.stem(item) for item in tokens if (item not in stop_words)]\n",
        "    return stems\n",
        "\n",
        "\n",
        "def clean_text(text):\n",
        "    text = decontracted(text)\n",
        "    text = remove_special_character(text)\n",
        "    text = remove_stop_words(text)\n",
        "    text = lemmatize_text(text)\n",
        "    #text = stem_and_stopwords(text)\n",
        "    return text\n",
        "\n",
        "\n",
        "def find_max_list_idx(list):\n",
        "    list_len = [len(i) for i in list]\n",
        "    return np.argmax(np.array(list_len))\n",
        "\n",
        "def desc_to_words(comp):\n",
        "    \n",
        "    words = RegexpTokenizer('\\w+').tokenize(comp)\n",
        "    words = [re.sub(r'([xx]+)|([XX]+)|(\\d+)', '', w).lower() for w in words]\n",
        "    words = list(filter(lambda a: a != '', words))\n",
        "    return words"
      ],
      "execution_count": 4,
      "outputs": []
    },
    {
      "cell_type": "code",
      "metadata": {
        "colab": {
          "base_uri": "https://localhost:8080/"
        },
        "id": "GiThfKfj3lFU",
        "outputId": "f0630bdd-43fe-475e-8554-d09d791b2af4"
      },
      "source": [
        "# Using GoogleCollab:\n",
        "from google.colab import drive\n",
        "drive.mount('/content/drive')\n",
        "os.chdir('/content/drive/My Drive/Colab Notebooks/')"
      ],
      "execution_count": 5,
      "outputs": [
        {
          "output_type": "stream",
          "text": [
            "Mounted at /content/drive\n"
          ],
          "name": "stdout"
        }
      ]
    },
    {
      "cell_type": "code",
      "metadata": {
        "id": "WlYnUow33gYm"
      },
      "source": [
        "data = pd.read_csv('data.csv')"
      ],
      "execution_count": 6,
      "outputs": []
    },
    {
      "cell_type": "code",
      "metadata": {
        "colab": {
          "base_uri": "https://localhost:8080/"
        },
        "id": "bYIUnaV13gYm",
        "outputId": "1407a8c0-2608-4cfb-d295-dd62ab50c7f4"
      },
      "source": [
        "data.shape"
      ],
      "execution_count": 7,
      "outputs": [
        {
          "output_type": "execute_result",
          "data": {
            "text/plain": [
              "(425, 11)"
            ]
          },
          "metadata": {
            "tags": []
          },
          "execution_count": 7
        }
      ]
    },
    {
      "cell_type": "code",
      "metadata": {
        "colab": {
          "base_uri": "https://localhost:8080/",
          "height": 162
        },
        "id": "bbdquj5H3gYn",
        "outputId": "606ba4cf-e612-4c4b-fca3-64486e377c4e"
      },
      "source": [
        "data.head(2)"
      ],
      "execution_count": 8,
      "outputs": [
        {
          "output_type": "execute_result",
          "data": {
            "text/html": [
              "<div>\n",
              "<style scoped>\n",
              "    .dataframe tbody tr th:only-of-type {\n",
              "        vertical-align: middle;\n",
              "    }\n",
              "\n",
              "    .dataframe tbody tr th {\n",
              "        vertical-align: top;\n",
              "    }\n",
              "\n",
              "    .dataframe thead th {\n",
              "        text-align: right;\n",
              "    }\n",
              "</style>\n",
              "<table border=\"1\" class=\"dataframe\">\n",
              "  <thead>\n",
              "    <tr style=\"text-align: right;\">\n",
              "      <th></th>\n",
              "      <th>Unnamed: 0</th>\n",
              "      <th>Data</th>\n",
              "      <th>Countries</th>\n",
              "      <th>Local</th>\n",
              "      <th>Industry Sector</th>\n",
              "      <th>Accident Level</th>\n",
              "      <th>Potential Accident Level</th>\n",
              "      <th>Genre</th>\n",
              "      <th>Employee or Third Party</th>\n",
              "      <th>Critical Risk</th>\n",
              "      <th>Description</th>\n",
              "    </tr>\n",
              "  </thead>\n",
              "  <tbody>\n",
              "    <tr>\n",
              "      <th>0</th>\n",
              "      <td>0</td>\n",
              "      <td>2016-01-01 00:00:00</td>\n",
              "      <td>Country_01</td>\n",
              "      <td>Local_01</td>\n",
              "      <td>Mining</td>\n",
              "      <td>I</td>\n",
              "      <td>IV</td>\n",
              "      <td>Male</td>\n",
              "      <td>Third Party</td>\n",
              "      <td>Pressed</td>\n",
              "      <td>While removing the drill rod of the Jumbo 08 f...</td>\n",
              "    </tr>\n",
              "    <tr>\n",
              "      <th>1</th>\n",
              "      <td>1</td>\n",
              "      <td>2016-01-02 00:00:00</td>\n",
              "      <td>Country_02</td>\n",
              "      <td>Local_02</td>\n",
              "      <td>Mining</td>\n",
              "      <td>I</td>\n",
              "      <td>IV</td>\n",
              "      <td>Male</td>\n",
              "      <td>Employee</td>\n",
              "      <td>Pressurized Systems</td>\n",
              "      <td>During the activation of a sodium sulphide pum...</td>\n",
              "    </tr>\n",
              "  </tbody>\n",
              "</table>\n",
              "</div>"
            ],
            "text/plain": [
              "   Unnamed: 0  ...                                        Description\n",
              "0           0  ...  While removing the drill rod of the Jumbo 08 f...\n",
              "1           1  ...  During the activation of a sodium sulphide pum...\n",
              "\n",
              "[2 rows x 11 columns]"
            ]
          },
          "metadata": {
            "tags": []
          },
          "execution_count": 8
        }
      ]
    },
    {
      "cell_type": "code",
      "metadata": {
        "id": "4_Aa65co3gYn"
      },
      "source": [
        "#target_column = 'Potential Accident Level'\n",
        "target_column = 'Accident Level'\n",
        "target={'I':0, 'II':1, 'III':2, 'IV':3, 'V':4, 'VI':5}\n",
        "\n",
        "data['target']=data[target_column].map(target)"
      ],
      "execution_count": 9,
      "outputs": []
    },
    {
      "cell_type": "code",
      "metadata": {
        "id": "5ren1hJU3gYn"
      },
      "source": [
        "df = data[['target', 'Description']]"
      ],
      "execution_count": 10,
      "outputs": []
    },
    {
      "cell_type": "code",
      "metadata": {
        "colab": {
          "base_uri": "https://localhost:8080/"
        },
        "id": "yW87jv4K3gYo",
        "outputId": "5eba3493-8d84-47d8-ff1c-8d0d23dd944b"
      },
      "source": [
        "df.Description = df.Description.apply(clean_text)"
      ],
      "execution_count": 11,
      "outputs": [
        {
          "output_type": "stream",
          "text": [
            "/usr/local/lib/python3.7/dist-packages/pandas/core/generic.py:5170: SettingWithCopyWarning: \n",
            "A value is trying to be set on a copy of a slice from a DataFrame.\n",
            "Try using .loc[row_indexer,col_indexer] = value instead\n",
            "\n",
            "See the caveats in the documentation: https://pandas.pydata.org/pandas-docs/stable/user_guide/indexing.html#returning-a-view-versus-a-copy\n",
            "  self[name] = value\n"
          ],
          "name": "stderr"
        }
      ]
    },
    {
      "cell_type": "code",
      "metadata": {
        "colab": {
          "base_uri": "https://localhost:8080/",
          "height": 111
        },
        "id": "SOwofkdz3gYo",
        "outputId": "d31ca91e-16b5-4e60-a3eb-6a5a51a4fd69"
      },
      "source": [
        "df.head(2)"
      ],
      "execution_count": 12,
      "outputs": [
        {
          "output_type": "execute_result",
          "data": {
            "text/html": [
              "<div>\n",
              "<style scoped>\n",
              "    .dataframe tbody tr th:only-of-type {\n",
              "        vertical-align: middle;\n",
              "    }\n",
              "\n",
              "    .dataframe tbody tr th {\n",
              "        vertical-align: top;\n",
              "    }\n",
              "\n",
              "    .dataframe thead th {\n",
              "        text-align: right;\n",
              "    }\n",
              "</style>\n",
              "<table border=\"1\" class=\"dataframe\">\n",
              "  <thead>\n",
              "    <tr style=\"text-align: right;\">\n",
              "      <th></th>\n",
              "      <th>target</th>\n",
              "      <th>Description</th>\n",
              "    </tr>\n",
              "  </thead>\n",
              "  <tbody>\n",
              "    <tr>\n",
              "      <th>0</th>\n",
              "      <td>0</td>\n",
              "      <td>remove drill rod jumbo maintenance supervisor ...</td>\n",
              "    </tr>\n",
              "    <tr>\n",
              "      <th>1</th>\n",
              "      <td>0</td>\n",
              "      <td>activation sodium sulphide pump pip uncouple s...</td>\n",
              "    </tr>\n",
              "  </tbody>\n",
              "</table>\n",
              "</div>"
            ],
            "text/plain": [
              "   target                                        Description\n",
              "0       0  remove drill rod jumbo maintenance supervisor ...\n",
              "1       0  activation sodium sulphide pump pip uncouple s..."
            ]
          },
          "metadata": {
            "tags": []
          },
          "execution_count": 12
        }
      ]
    },
    {
      "cell_type": "markdown",
      "metadata": {
        "id": "_GpezFEJRg1r"
      },
      "source": [
        "###Convert target to category::"
      ]
    },
    {
      "cell_type": "code",
      "metadata": {
        "colab": {
          "base_uri": "https://localhost:8080/"
        },
        "id": "L_XenyLZRtne",
        "outputId": "6a4c2dc9-f721-4dcb-9318-79e0b1d9c6c1"
      },
      "source": [
        "df['target'].astype('category')"
      ],
      "execution_count": 13,
      "outputs": [
        {
          "output_type": "execute_result",
          "data": {
            "text/plain": [
              "0      0\n",
              "1      0\n",
              "2      0\n",
              "3      0\n",
              "4      3\n",
              "      ..\n",
              "420    0\n",
              "421    0\n",
              "422    0\n",
              "423    0\n",
              "424    0\n",
              "Name: target, Length: 425, dtype: category\n",
              "Categories (5, int64): [0, 1, 2, 3, 4]"
            ]
          },
          "metadata": {
            "tags": []
          },
          "execution_count": 13
        }
      ]
    },
    {
      "cell_type": "markdown",
      "metadata": {
        "id": "OS2Zgj9g3gYp"
      },
      "source": [
        "---"
      ]
    },
    {
      "cell_type": "code",
      "metadata": {
        "colab": {
          "base_uri": "https://localhost:8080/"
        },
        "id": "oVMKw1DF9J6g",
        "outputId": "2e3ab244-8791-4470-fb1e-143745ea8c40"
      },
      "source": [
        "max_idx = find_max_list_idx(df['Description'])\n",
        "print(max_idx)"
      ],
      "execution_count": 14,
      "outputs": [
        {
          "output_type": "stream",
          "text": [
            "174\n"
          ],
          "name": "stdout"
        }
      ]
    },
    {
      "cell_type": "code",
      "metadata": {
        "colab": {
          "base_uri": "https://localhost:8080/"
        },
        "id": "gcvQHb0B9My0",
        "outputId": "daf7cf43-d58e-4533-a735-d31925fc939a"
      },
      "source": [
        "print(len(df['Description'][max_idx]))\n",
        "\n"
      ],
      "execution_count": 15,
      "outputs": [
        {
          "output_type": "stream",
          "text": [
            "622\n"
          ],
          "name": "stdout"
        }
      ]
    },
    {
      "cell_type": "code",
      "metadata": {
        "colab": {
          "base_uri": "https://localhost:8080/",
          "height": 103
        },
        "id": "1rALTXvuVO4N",
        "outputId": "fd56a52c-3c39-4bdb-8f09-63be13f01db0"
      },
      "source": [
        "df['Description'][max_idx]"
      ],
      "execution_count": 16,
      "outputs": [
        {
          "output_type": "execute_result",
          "data": {
            "application/vnd.google.colaboratory.intrinsic+json": {
              "type": "string"
            },
            "text/plain": [
              "'level gallery hold activity bolter equipment no operator perform drill first hole support right gable drill end drill rod break leave thread inside drill machine shank operator assistant decide make two empty percussion attempt free thread shank without success third attempt assistant enter corrugate iron central hole rest bar embed shank generate pressure moment operator activate percussion generate movement shank hit palm victim leave hand generate describe injury worker wear safety gloves time accident end corrugate iron contact leave hand shape like cane worker time accident position roof support mesh split set'"
            ]
          },
          "metadata": {
            "tags": []
          },
          "execution_count": 16
        }
      ]
    },
    {
      "cell_type": "code",
      "metadata": {
        "id": "sPPL8OxFVIma"
      },
      "source": [
        "MAX_SEQUENCE_LENGTH = len(df['Description'][max_idx])"
      ],
      "execution_count": 17,
      "outputs": []
    },
    {
      "cell_type": "markdown",
      "metadata": {
        "id": "sWpmu2D6bttp"
      },
      "source": [
        "# Create Word2Vec from gensim::"
      ]
    },
    {
      "cell_type": "markdown",
      "metadata": {
        "id": "Z-PXM4AMgZNT"
      },
      "source": [
        "##Text Clean for Gensim::"
      ]
    },
    {
      "cell_type": "code",
      "metadata": {
        "id": "_4XSZc883gYt"
      },
      "source": [
        "desc_lines = list()\n",
        "lines = df['Description'].values.tolist()\n",
        "\n",
        "for line in lines:   \n",
        "    tokens = word_tokenize(line)\n",
        "    # convert to lower case\n",
        "    tokens = [w.lower() for w in tokens]\n",
        "    # remove punctuation from each word    \n",
        "    table = str.maketrans('', '', string.punctuation)\n",
        "    stripped = [w.translate(table) for w in tokens]\n",
        "    # remove remaining tokens that are not alphabetic\n",
        "    words = [word for word in stripped if word.isalpha()]\n",
        "    # filter out stop words    \n",
        "    stop_words = set(stopwords.words('english'))\n",
        "    words = [w for w in words if not w in stop_words]\n",
        "    desc_lines.append(words)"
      ],
      "execution_count": 18,
      "outputs": []
    },
    {
      "cell_type": "code",
      "metadata": {
        "colab": {
          "base_uri": "https://localhost:8080/"
        },
        "id": "VpslZx1hqdvO",
        "outputId": "66578c32-344c-4aea-b95c-105a8de30cd0"
      },
      "source": [
        "len(desc_lines)\n"
      ],
      "execution_count": 19,
      "outputs": [
        {
          "output_type": "execute_result",
          "data": {
            "text/plain": [
              "425"
            ]
          },
          "metadata": {
            "tags": []
          },
          "execution_count": 19
        }
      ]
    },
    {
      "cell_type": "code",
      "metadata": {
        "colab": {
          "base_uri": "https://localhost:8080/",
          "height": 52
        },
        "id": "OL0RjfO972oB",
        "outputId": "c8426209-e283-4397-ccdd-e1d9d137e33a"
      },
      "source": [
        "data['Description'][1]"
      ],
      "execution_count": 20,
      "outputs": [
        {
          "output_type": "execute_result",
          "data": {
            "application/vnd.google.colaboratory.intrinsic+json": {
              "type": "string"
            },
            "text/plain": [
              "'During the activation of a sodium sulphide pump, the piping was uncoupled and the sulfide solution was designed in the area to reach the maid. Immediately she made use of the emergency shower and was directed to the ambulatory doctor and later to the hospital. Note: of sulphide solution = 48 grams / liter.'"
            ]
          },
          "metadata": {
            "tags": []
          },
          "execution_count": 20
        }
      ]
    },
    {
      "cell_type": "code",
      "metadata": {
        "colab": {
          "base_uri": "https://localhost:8080/",
          "height": 52
        },
        "id": "gRd3H5qj7xcB",
        "outputId": "5ebe813b-c14e-41d7-d82f-d2ae1f9cba91"
      },
      "source": [
        "df['Description'][1]"
      ],
      "execution_count": 21,
      "outputs": [
        {
          "output_type": "execute_result",
          "data": {
            "application/vnd.google.colaboratory.intrinsic+json": {
              "type": "string"
            },
            "text/plain": [
              "'activation sodium sulphide pump pip uncouple sulfide solution design area reach maid immediately make use emergency shower direct ambulatory doctor late hospital note sulphide solution grams liter'"
            ]
          },
          "metadata": {
            "tags": []
          },
          "execution_count": 21
        }
      ]
    },
    {
      "cell_type": "code",
      "metadata": {
        "colab": {
          "base_uri": "https://localhost:8080/"
        },
        "id": "5igo_PVL7j39",
        "outputId": "a4e8ef2b-5cc6-48bd-da95-6554df28bd16"
      },
      "source": [
        "desc_lines[1]"
      ],
      "execution_count": 22,
      "outputs": [
        {
          "output_type": "execute_result",
          "data": {
            "text/plain": [
              "['activation',\n",
              " 'sodium',\n",
              " 'sulphide',\n",
              " 'pump',\n",
              " 'pip',\n",
              " 'uncouple',\n",
              " 'sulfide',\n",
              " 'solution',\n",
              " 'design',\n",
              " 'area',\n",
              " 'reach',\n",
              " 'maid',\n",
              " 'immediately',\n",
              " 'make',\n",
              " 'use',\n",
              " 'emergency',\n",
              " 'shower',\n",
              " 'direct',\n",
              " 'ambulatory',\n",
              " 'doctor',\n",
              " 'late',\n",
              " 'hospital',\n",
              " 'note',\n",
              " 'sulphide',\n",
              " 'solution',\n",
              " 'grams',\n",
              " 'liter']"
            ]
          },
          "metadata": {
            "tags": []
          },
          "execution_count": 22
        }
      ]
    },
    {
      "cell_type": "code",
      "metadata": {
        "colab": {
          "base_uri": "https://localhost:8080/"
        },
        "id": "VwjOpZzWxpoT",
        "outputId": "d7dd23c4-2e11-4f68-d542-cf208c1d79fc"
      },
      "source": [
        "len(desc_lines)"
      ],
      "execution_count": 23,
      "outputs": [
        {
          "output_type": "execute_result",
          "data": {
            "text/plain": [
              "425"
            ]
          },
          "metadata": {
            "tags": []
          },
          "execution_count": 23
        }
      ]
    },
    {
      "cell_type": "code",
      "metadata": {
        "colab": {
          "base_uri": "https://localhost:8080/"
        },
        "id": "20oFwNnsqdsd",
        "outputId": "14abca3e-8bed-481c-d8ca-13bd48a93832"
      },
      "source": [
        "import gensim \n",
        "\n",
        "EMBEDDING_DIM = 100\n",
        "# train word2vec model\n",
        "model = gensim.models.Word2Vec(sentences=desc_lines, size=EMBEDDING_DIM, window=5, workers=4, min_count=1)\n",
        "# vocab size\n",
        "words = list(model.wv.vocab)\n",
        "print('Vocabulary size: %d' % len(words))"
      ],
      "execution_count": 24,
      "outputs": [
        {
          "output_type": "stream",
          "text": [
            "Vocabulary size: 2372\n"
          ],
          "name": "stdout"
        }
      ]
    },
    {
      "cell_type": "code",
      "metadata": {
        "id": "xFS-azleqdp2"
      },
      "source": [
        "# save model in ASCII (word2vec) format\n",
        "filename = 'embedding_word2vec.txt'\n",
        "model.wv.save_word2vec_format(filename, binary=False)"
      ],
      "execution_count": 25,
      "outputs": []
    },
    {
      "cell_type": "code",
      "metadata": {
        "colab": {
          "base_uri": "https://localhost:8080/"
        },
        "id": "ynpEc8JYqdm5",
        "outputId": "5e744196-1402-4139-fabc-6db5805d0216"
      },
      "source": [
        "words[10:15]"
      ],
      "execution_count": 26,
      "outputs": [
        {
          "output_type": "execute_result",
          "data": {
            "text/plain": [
              "['centralizer', 'facilitate', 'removal', 'see', 'mechanic']"
            ]
          },
          "metadata": {
            "tags": []
          },
          "execution_count": 26
        }
      ]
    },
    {
      "cell_type": "code",
      "metadata": {
        "colab": {
          "base_uri": "https://localhost:8080/"
        },
        "id": "T4ZVagVEqdkA",
        "outputId": "cf545f48-cb9b-4794-f534-df3086d47c5e"
      },
      "source": [
        "model.wv.most_similar('mechanic')"
      ],
      "execution_count": 27,
      "outputs": [
        {
          "output_type": "execute_result",
          "data": {
            "text/plain": [
              "[('fragment', 0.9874339699745178),\n",
              " ('use', 0.987318217754364),\n",
              " ('make', 0.986915111541748),\n",
              " ('operator', 0.9858063459396362),\n",
              " ('work', 0.9849867820739746),\n",
              " ('hand', 0.9846134185791016),\n",
              " ('area', 0.98447585105896),\n",
              " ('hit', 0.9843685626983643),\n",
              " ('right', 0.9843416213989258),\n",
              " ('cause', 0.9841146469116211)]"
            ]
          },
          "metadata": {
            "tags": []
          },
          "execution_count": 27
        }
      ]
    },
    {
      "cell_type": "code",
      "metadata": {
        "id": "0J7A0Jugqdhg"
      },
      "source": [
        ""
      ],
      "execution_count": 27,
      "outputs": []
    },
    {
      "cell_type": "markdown",
      "metadata": {
        "id": "sOVt2__x8Fx0"
      },
      "source": [
        "##Load the saved model::"
      ]
    },
    {
      "cell_type": "code",
      "metadata": {
        "id": "HEFvQ4UPqdfV"
      },
      "source": [
        "embeddings_index = {}\n",
        "f = open(os.path.join('', 'embedding_word2vec.txt'),  encoding = \"utf-8\")\n",
        "for line in f:\n",
        "    values = line.split()\n",
        "    word = values[0]\n",
        "    coefs = np.asarray(values[1:], dtype='float32')\n",
        "    embeddings_index[word] = coefs\n",
        "f.close()"
      ],
      "execution_count": 28,
      "outputs": []
    },
    {
      "cell_type": "code",
      "metadata": {
        "colab": {
          "base_uri": "https://localhost:8080/"
        },
        "id": "--u90NDITh7y",
        "outputId": "f0eead6a-4a3c-4d34-8cd0-1e5630df4eda"
      },
      "source": [
        "from tensorflow.python.keras.preprocessing.text import Tokenizer\n",
        "from tensorflow.python.keras.preprocessing.sequence import pad_sequences\n",
        "\n",
        "# vectorize the text samples into a 2D integer tensor\n",
        "tokenizer_obj = Tokenizer()\n",
        "tokenizer_obj.fit_on_texts(desc_lines)\n",
        "sequences = tokenizer_obj.texts_to_sequences(desc_lines)\n",
        "\n",
        "# pad sequences\n",
        "word_index = tokenizer_obj.word_index\n",
        "print('Found %s unique tokens.' % len(word_index))\n",
        "\n",
        "desc_pad = pad_sequences(sequences, maxlen=MAX_SEQUENCE_LENGTH)\n",
        "\n",
        "X = desc_pad\n",
        "print('Shape of Desc tensor:', X.shape)\n",
        "\n"
      ],
      "execution_count": 29,
      "outputs": [
        {
          "output_type": "stream",
          "text": [
            "Found 2372 unique tokens.\n",
            "Shape of Desc tensor: (425, 622)\n"
          ],
          "name": "stdout"
        }
      ]
    },
    {
      "cell_type": "code",
      "metadata": {
        "colab": {
          "base_uri": "https://localhost:8080/"
        },
        "id": "rz2xn2StTh4n",
        "outputId": "e63232d1-588a-46dc-d051-b07e3b3194d0"
      },
      "source": [
        "y = pd.get_dummies(df['target']).values\n",
        "print('Shape of label tensor:', y.shape)\n"
      ],
      "execution_count": 30,
      "outputs": [
        {
          "output_type": "stream",
          "text": [
            "Shape of label tensor: (425, 5)\n"
          ],
          "name": "stdout"
        }
      ]
    },
    {
      "cell_type": "code",
      "metadata": {
        "colab": {
          "base_uri": "https://localhost:8080/"
        },
        "id": "EWEAKVL5O9yz",
        "outputId": "5ced9217-a18e-40a7-9b72-4fd77b1d4959"
      },
      "source": [
        "pd.DataFrame(y).value_counts()"
      ],
      "execution_count": 31,
      "outputs": [
        {
          "output_type": "execute_result",
          "data": {
            "text/plain": [
              "0  1  2  3  4\n",
              "1  0  0  0  0    316\n",
              "0  1  0  0  0     40\n",
              "   0  1  0  0     31\n",
              "      0  1  0     30\n",
              "         0  1      8\n",
              "dtype: int64"
            ]
          },
          "metadata": {
            "tags": []
          },
          "execution_count": 31
        }
      ]
    },
    {
      "cell_type": "code",
      "metadata": {
        "colab": {
          "base_uri": "https://localhost:8080/"
        },
        "id": "3Jka9gDnL5hW",
        "outputId": "eefb2f9e-23ce-4117-900d-49e81f2c23c9"
      },
      "source": [
        "X[0]"
      ],
      "execution_count": 32,
      "outputs": [
        {
          "output_type": "execute_result",
          "data": {
            "text/plain": [
              "array([   0,    0,    0,    0,    0,    0,    0,    0,    0,    0,    0,\n",
              "          0,    0,    0,    0,    0,    0,    0,    0,    0,    0,    0,\n",
              "          0,    0,    0,    0,    0,    0,    0,    0,    0,    0,    0,\n",
              "          0,    0,    0,    0,    0,    0,    0,    0,    0,    0,    0,\n",
              "          0,    0,    0,    0,    0,    0,    0,    0,    0,    0,    0,\n",
              "          0,    0,    0,    0,    0,    0,    0,    0,    0,    0,    0,\n",
              "          0,    0,    0,    0,    0,    0,    0,    0,    0,    0,    0,\n",
              "          0,    0,    0,    0,    0,    0,    0,    0,    0,    0,    0,\n",
              "          0,    0,    0,    0,    0,    0,    0,    0,    0,    0,    0,\n",
              "          0,    0,    0,    0,    0,    0,    0,    0,    0,    0,    0,\n",
              "          0,    0,    0,    0,    0,    0,    0,    0,    0,    0,    0,\n",
              "          0,    0,    0,    0,    0,    0,    0,    0,    0,    0,    0,\n",
              "          0,    0,    0,    0,    0,    0,    0,    0,    0,    0,    0,\n",
              "          0,    0,    0,    0,    0,    0,    0,    0,    0,    0,    0,\n",
              "          0,    0,    0,    0,    0,    0,    0,    0,    0,    0,    0,\n",
              "          0,    0,    0,    0,    0,    0,    0,    0,    0,    0,    0,\n",
              "          0,    0,    0,    0,    0,    0,    0,    0,    0,    0,    0,\n",
              "          0,    0,    0,    0,    0,    0,    0,    0,    0,    0,    0,\n",
              "          0,    0,    0,    0,    0,    0,    0,    0,    0,    0,    0,\n",
              "          0,    0,    0,    0,    0,    0,    0,    0,    0,    0,    0,\n",
              "          0,    0,    0,    0,    0,    0,    0,    0,    0,    0,    0,\n",
              "          0,    0,    0,    0,    0,    0,    0,    0,    0,    0,    0,\n",
              "          0,    0,    0,    0,    0,    0,    0,    0,    0,    0,    0,\n",
              "          0,    0,    0,    0,    0,    0,    0,    0,    0,    0,    0,\n",
              "          0,    0,    0,    0,    0,    0,    0,    0,    0,    0,    0,\n",
              "          0,    0,    0,    0,    0,    0,    0,    0,    0,    0,    0,\n",
              "          0,    0,    0,    0,    0,    0,    0,    0,    0,    0,    0,\n",
              "          0,    0,    0,    0,    0,    0,    0,    0,    0,    0,    0,\n",
              "          0,    0,    0,    0,    0,    0,    0,    0,    0,    0,    0,\n",
              "          0,    0,    0,    0,    0,    0,    0,    0,    0,    0,    0,\n",
              "          0,    0,    0,    0,    0,    0,    0,    0,    0,    0,    0,\n",
              "          0,    0,    0,    0,    0,    0,    0,    0,    0,    0,    0,\n",
              "          0,    0,    0,    0,    0,    0,    0,    0,    0,    0,    0,\n",
              "          0,    0,    0,    0,    0,    0,    0,    0,    0,    0,    0,\n",
              "          0,    0,    0,    0,    0,    0,    0,    0,    0,    0,    0,\n",
              "          0,    0,    0,    0,    0,    0,    0,    0,    0,    0,    0,\n",
              "          0,    0,    0,    0,    0,    0,    0,    0,    0,    0,    0,\n",
              "          0,    0,    0,    0,    0,    0,    0,    0,    0,    0,    0,\n",
              "          0,    0,    0,    0,    0,    0,    0,    0,    0,    0,    0,\n",
              "          0,    0,    0,    0,    0,    0,    0,    0,    0,    0,    0,\n",
              "          0,    0,    0,    0,    0,    0,    0,    0,    0,    0,    0,\n",
              "          0,    0,    0,    0,    0,    0,    0,    0,    0,    0,    0,\n",
              "          0,    0,    0,    0,    0,    0,    0,    0,    0,    0,    0,\n",
              "          0,    0,    0,    0,    0,    0,    0,    0,    0,    0,    0,\n",
              "          0,    0,    0,    0,    0,    0,    0,    0,    0,    0,    0,\n",
              "          0,    0,    0,    0,    0,    0,    0,    0,    0,    0,    0,\n",
              "          0,    0,    0,    0,    0,    0,    0,    0,    0,    0,    0,\n",
              "          0,    0,    0,    0,    0,    0,    0,    0,    0,    0,    0,\n",
              "          0,    0,    0,    0,    0,    0,    0,    0,    0,    0,    0,\n",
              "          0,    0,    0,    0,    0,    0,    0,    0,    0,    0,    0,\n",
              "          0,    0,    0,    0,    0,    0,    0,    0,    0,    0,    0,\n",
              "          0,    0,    0,    0,    0,    0,    0,    0,    0,    0,    0,\n",
              "          0,    0,    0,    0,    0,    0,    0,    0,    0,    0,    0,\n",
              "          0,    0,   32,   35,  226,  325,   76,  295,   87,  326,   24,\n",
              "        755, 1347, 1348,  198,  327,   81,   24,   15,   68,   35,   17,\n",
              "        130,    3,  116, 1349,  198,   16,  116,   93,   63,   24,  756,\n",
              "         18,   81,   35,  116,  328,  325], dtype=int32)"
            ]
          },
          "metadata": {
            "tags": []
          },
          "execution_count": 32
        }
      ]
    },
    {
      "cell_type": "code",
      "metadata": {
        "id": "-4TX_6AhQhfK"
      },
      "source": [
        ""
      ],
      "execution_count": 32,
      "outputs": []
    },
    {
      "cell_type": "markdown",
      "metadata": {
        "id": "FnZiepru5kRT"
      },
      "source": [
        "###Train and Val split:: (90-10)"
      ]
    },
    {
      "cell_type": "code",
      "metadata": {
        "id": "qAUWw98f5KgI"
      },
      "source": [
        "x_train, x_val, y_train, y_val = train_test_split(X, y, test_size = 0.1, random_state = 1122, shuffle = True)"
      ],
      "execution_count": 33,
      "outputs": []
    },
    {
      "cell_type": "code",
      "metadata": {
        "colab": {
          "base_uri": "https://localhost:8080/"
        },
        "id": "MAg4e6vt5Kc0",
        "outputId": "c176be5b-5932-4f0a-a259-7c759f09b3e8"
      },
      "source": [
        "print('##'*20, f'\\nNumber of rows in training dataset: {x_train.shape[0]}')\n",
        "print(f'Number of columns in training dataset: {x_train.shape[1]}')\n",
        "print(f'Number of unique words in training dataset: {len(np.unique(np.hstack(x_train)))}')\n",
        "\n",
        "print('##'*20, f'\\nNumber of rows in test dataset: {x_val.shape[0]}')\n",
        "print(f'Number of columns in test dataset: {x_val.shape[1]}')\n",
        "print(f'Number of unique words in test dataset: {len(np.unique(np.hstack(x_val)))}')"
      ],
      "execution_count": 34,
      "outputs": [
        {
          "output_type": "stream",
          "text": [
            "######################################## \n",
            "Number of rows in training dataset: 382\n",
            "Number of columns in training dataset: 622\n",
            "Number of unique words in training dataset: 2253\n",
            "######################################## \n",
            "Number of rows in test dataset: 43\n",
            "Number of columns in test dataset: 622\n",
            "Number of unique words in test dataset: 675\n"
          ],
          "name": "stdout"
        }
      ]
    },
    {
      "cell_type": "markdown",
      "metadata": {
        "id": "1YWFial7ZANa"
      },
      "source": [
        "### Model with imblearn::"
      ]
    },
    {
      "cell_type": "code",
      "metadata": {
        "colab": {
          "base_uri": "https://localhost:8080/"
        },
        "id": "0rw2MuEQS4po",
        "outputId": "390eaf80-6396-4589-ea3e-32afa33efba8"
      },
      "source": [
        "!pip install imblearn\n",
        "import imblearn\n",
        "from imblearn.over_sampling import SMOTE\n"
      ],
      "execution_count": 35,
      "outputs": [
        {
          "output_type": "stream",
          "text": [
            "Requirement already satisfied: imblearn in /usr/local/lib/python3.7/dist-packages (0.0)\n",
            "Requirement already satisfied: imbalanced-learn in /usr/local/lib/python3.7/dist-packages (from imblearn) (0.4.3)\n",
            "Requirement already satisfied: scipy>=0.13.3 in /usr/local/lib/python3.7/dist-packages (from imbalanced-learn->imblearn) (1.4.1)\n",
            "Requirement already satisfied: numpy>=1.8.2 in /usr/local/lib/python3.7/dist-packages (from imbalanced-learn->imblearn) (1.19.5)\n",
            "Requirement already satisfied: scikit-learn>=0.20 in /usr/local/lib/python3.7/dist-packages (from imbalanced-learn->imblearn) (0.22.2.post1)\n",
            "Requirement already satisfied: joblib>=0.11 in /usr/local/lib/python3.7/dist-packages (from scikit-learn>=0.20->imbalanced-learn->imblearn) (1.0.1)\n"
          ],
          "name": "stdout"
        },
        {
          "output_type": "stream",
          "text": [
            "/usr/local/lib/python3.7/dist-packages/sklearn/externals/six.py:31: FutureWarning: The module is deprecated in version 0.21 and will be removed in version 0.23 since we've dropped support for Python 2.7. Please rely on the official version of six (https://pypi.org/project/six/).\n",
            "  \"(https://pypi.org/project/six/).\", FutureWarning)\n",
            "/usr/local/lib/python3.7/dist-packages/sklearn/utils/deprecation.py:144: FutureWarning: The sklearn.neighbors.base module is  deprecated in version 0.22 and will be removed in version 0.24. The corresponding classes / functions should instead be imported from sklearn.neighbors. Anything that cannot be imported from sklearn.neighbors is now part of the private API.\n",
            "  warnings.warn(message, FutureWarning)\n"
          ],
          "name": "stderr"
        }
      ]
    },
    {
      "cell_type": "code",
      "metadata": {
        "id": "EmBisHrmsy_d",
        "colab": {
          "base_uri": "https://localhost:8080/"
        },
        "outputId": "8ab5159d-7f0e-4c23-df4f-c5afea87230a"
      },
      "source": [
        "\n",
        "# sm = SMOTE(random_state = 111, k_neighbors=4)\n",
        "# X_train_res, y_train_res = sm.fit_sample(X_train_pad, y_train,)\n",
        "\n",
        "from imblearn.over_sampling import SMOTENC\n",
        "sm = SMOTENC(random_state=111, categorical_features=[0,1,2,3,4])\n",
        "X_res, y_res = sm.fit_resample(X, y)\n",
        "\n"
      ],
      "execution_count": 36,
      "outputs": [
        {
          "output_type": "stream",
          "text": [
            "/usr/local/lib/python3.7/dist-packages/sklearn/utils/deprecation.py:87: FutureWarning: Function safe_indexing is deprecated; safe_indexing is deprecated in version 0.22 and will be removed in version 0.24.\n",
            "  warnings.warn(msg, category=FutureWarning)\n",
            "/usr/local/lib/python3.7/dist-packages/sklearn/utils/deprecation.py:87: FutureWarning: Function safe_indexing is deprecated; safe_indexing is deprecated in version 0.22 and will be removed in version 0.24.\n",
            "  warnings.warn(msg, category=FutureWarning)\n"
          ],
          "name": "stderr"
        }
      ]
    },
    {
      "cell_type": "code",
      "metadata": {
        "colab": {
          "base_uri": "https://localhost:8080/"
        },
        "id": "rbaA2y7CUnfb",
        "outputId": "bfaad25f-8a98-47cb-f8fd-f88a464c423e"
      },
      "source": [
        "print('Before Sampling: X_train: {}, y_train: {}'.format(X.shape, y.shape))"
      ],
      "execution_count": 37,
      "outputs": [
        {
          "output_type": "stream",
          "text": [
            "Before Sampling: X_train: (425, 622), y_train: (425, 5)\n"
          ],
          "name": "stdout"
        }
      ]
    },
    {
      "cell_type": "code",
      "metadata": {
        "colab": {
          "base_uri": "https://localhost:8080/"
        },
        "id": "PS7sGtovX3jr",
        "outputId": "b9dbe93d-d169-4ace-a099-3bc13647b90c"
      },
      "source": [
        "print('After Sampling: X: {}, y: {}'.format(X_res.shape, y_res.shape))"
      ],
      "execution_count": 38,
      "outputs": [
        {
          "output_type": "stream",
          "text": [
            "After Sampling: X: (1580, 622), y: (1580, 5)\n"
          ],
          "name": "stdout"
        }
      ]
    },
    {
      "cell_type": "code",
      "metadata": {
        "id": "1e_mIpKj_eEt"
      },
      "source": [
        ""
      ],
      "execution_count": 38,
      "outputs": []
    },
    {
      "cell_type": "code",
      "metadata": {
        "colab": {
          "base_uri": "https://localhost:8080/"
        },
        "id": "hKbpa4JDThxe",
        "outputId": "52db141b-2e1a-4c40-982a-da4b84e5d384"
      },
      "source": [
        "X_train, X_test, y_train, y_test = train_test_split(X_res, y_res, test_size = 0.20, random_state = 1122)\n",
        "print(X_train.shape,y_train.shape)\n",
        "print(X_test.shape,y_test.shape)"
      ],
      "execution_count": 39,
      "outputs": [
        {
          "output_type": "stream",
          "text": [
            "(1264, 622) (1264, 5)\n",
            "(316, 622) (316, 5)\n"
          ],
          "name": "stdout"
        }
      ]
    },
    {
      "cell_type": "code",
      "metadata": {
        "id": "wgWPUc62ThuH",
        "colab": {
          "base_uri": "https://localhost:8080/"
        },
        "outputId": "3f9a42e0-de5c-463a-92a3-145ea1181843"
      },
      "source": [
        "pd.DataFrame(y_train).value_counts()"
      ],
      "execution_count": 40,
      "outputs": [
        {
          "output_type": "execute_result",
          "data": {
            "text/plain": [
              "0  1  2  3  4\n",
              "1  0  0  0  0    261\n",
              "0  1  0  0  0    254\n",
              "   0  0  0  1    253\n",
              "         1  0    249\n",
              "      1  0  0    247\n",
              "dtype: int64"
            ]
          },
          "metadata": {
            "tags": []
          },
          "execution_count": 40
        }
      ]
    },
    {
      "cell_type": "code",
      "metadata": {
        "colab": {
          "base_uri": "https://localhost:8080/"
        },
        "id": "qrBrp_Ed6oag",
        "outputId": "137e8f71-fc16-4a27-dc7f-50cd5f471b74"
      },
      "source": [
        "pd.DataFrame(y_test).value_counts()"
      ],
      "execution_count": 41,
      "outputs": [
        {
          "output_type": "execute_result",
          "data": {
            "text/plain": [
              "0  1  2  3  4\n",
              "0  0  1  0  0    69\n",
              "      0  1  0    67\n",
              "         0  1    63\n",
              "   1  0  0  0    62\n",
              "1  0  0  0  0    55\n",
              "dtype: int64"
            ]
          },
          "metadata": {
            "tags": []
          },
          "execution_count": 41
        }
      ]
    },
    {
      "cell_type": "code",
      "metadata": {
        "id": "pRxNtmlvsNEG"
      },
      "source": [
        "EMBEDDING_DIM =100\n",
        "num_words = len(word_index) + 1\n",
        "embedding_matrix = np.zeros((num_words, EMBEDDING_DIM))\n",
        "\n",
        "for word, i in word_index.items():\n",
        "    if i > num_words:\n",
        "        continue\n",
        "    embedding_vector = embeddings_index.get(word)\n",
        "    if embedding_vector is not None:\n",
        "        # words not found in embedding index will be all-zeros.\n",
        "        embedding_matrix[i] = embedding_vector\n",
        "\n"
      ],
      "execution_count": 42,
      "outputs": []
    },
    {
      "cell_type": "code",
      "metadata": {
        "colab": {
          "base_uri": "https://localhost:8080/"
        },
        "id": "G8Q47gTa8zws",
        "outputId": "7caba871-0588-470c-8163-3dc058512200"
      },
      "source": [
        "embedding_matrix.shape"
      ],
      "execution_count": 43,
      "outputs": [
        {
          "output_type": "execute_result",
          "data": {
            "text/plain": [
              "(2373, 100)"
            ]
          },
          "metadata": {
            "tags": []
          },
          "execution_count": 43
        }
      ]
    },
    {
      "cell_type": "markdown",
      "metadata": {
        "id": "-G_ut_4sPpxL"
      },
      "source": [
        "##TODO:: Avging on top of embedding_matrix -> To happen at sentence level (check GL learning material Session#2)\n",
        "\n",
        "data_list = list()\n",
        "for comp in df['Consumer complaint narrative']:\n",
        "    sentence = np.zeros(300)\n",
        "    count = 0\n",
        "    for w in complaint_to_words(comp):\n",
        "        try:\n",
        "            sentence += embeddings_index[w]\n",
        "            count += 1\n",
        "        except KeyError:\n",
        "            continue\n",
        "    data_list.append(sentence / count)\n",
        "    --> case_study.ipynb"
      ]
    },
    {
      "cell_type": "code",
      "metadata": {
        "id": "CThmQXWOsNA6"
      },
      "source": [
        ""
      ],
      "execution_count": 43,
      "outputs": []
    },
    {
      "cell_type": "code",
      "metadata": {
        "colab": {
          "base_uri": "https://localhost:8080/"
        },
        "id": "AyP_UxIJsM-b",
        "outputId": "b7b81fb9-6e64-4ce7-ecee-880daa3a60fd"
      },
      "source": [
        "print(num_words)\n"
      ],
      "execution_count": 44,
      "outputs": [
        {
          "output_type": "stream",
          "text": [
            "2373\n"
          ],
          "name": "stdout"
        }
      ]
    },
    {
      "cell_type": "code",
      "metadata": {
        "id": "xBariTWvsM7p"
      },
      "source": [
        ""
      ],
      "execution_count": 44,
      "outputs": []
    },
    {
      "cell_type": "markdown",
      "metadata": {
        "id": "raY6ON4HS6-c"
      },
      "source": [
        "### The above model was overfitting, so increase bias: Add drop out layers::"
      ]
    },
    {
      "cell_type": "code",
      "metadata": {
        "colab": {
          "base_uri": "https://localhost:8080/"
        },
        "id": "eB2yJMR2_eB1",
        "outputId": "20239ac3-0e74-42a4-da9c-b4e00a611115"
      },
      "source": [
        "from keras.models import Sequential\n",
        "from keras.layers import Dense, Embedding, Flatten\n",
        "from keras.layers.convolutional import Conv1D\n",
        "from keras.layers.convolutional import MaxPooling1D\n",
        "from keras.initializers import Constant\n",
        "\n",
        "# Model#1:\n",
        "model = Sequential()\n",
        "embedding_layer = Embedding(num_words,\n",
        "                            EMBEDDING_DIM,\n",
        "                            embeddings_initializer=Constant(embedding_matrix),\n",
        "                            input_length=MAX_SEQUENCE_LENGTH,\n",
        "                            trainable=False)\n",
        "\n",
        "# model.add(Embedding(num_words, EMBEDDING_DIM, \n",
        "#                     input_length=MAX_SEQUENCE_LENGTH))\n",
        "model.add(embedding_layer)\n",
        "model.add(Conv1D(filters=128, kernel_size=5, activation='relu'))\n",
        "model.add(SpatialDropout1D(0.2))\n",
        "model.add(LSTM(128, dropout=0.2, recurrent_dropout=0.2))\n",
        "model.add(Dense(5, activation='softmax'))\n",
        "#Accuracy: 39.87%\n",
        "# array([[12,  7, 10,  2,  0],\n",
        "#        [ 2,  5,  9,  4,  0],\n",
        "#        [ 5,  6, 12, 12,  2],\n",
        "#        [ 0,  2,  9, 18,  4],\n",
        "#        [ 0,  0,  8, 13, 16]])\n",
        "model.compile(loss='categorical_crossentropy', optimizer='adam', metrics=['accuracy'])\n",
        "print(model.summary())\n"
      ],
      "execution_count": 58,
      "outputs": [
        {
          "output_type": "stream",
          "text": [
            "Model: \"sequential_1\"\n",
            "_________________________________________________________________\n",
            "Layer (type)                 Output Shape              Param #   \n",
            "=================================================================\n",
            "embedding_1 (Embedding)      (None, 622, 100)          237300    \n",
            "_________________________________________________________________\n",
            "conv1d_1 (Conv1D)            (None, 618, 128)          64128     \n",
            "_________________________________________________________________\n",
            "spatial_dropout1d_1 (Spatial (None, 618, 128)          0         \n",
            "_________________________________________________________________\n",
            "lstm_1 (LSTM)                (None, 128)               131584    \n",
            "_________________________________________________________________\n",
            "dense_1 (Dense)              (None, 5)                 645       \n",
            "=================================================================\n",
            "Total params: 433,657\n",
            "Trainable params: 196,357\n",
            "Non-trainable params: 237,300\n",
            "_________________________________________________________________\n",
            "None\n"
          ],
          "name": "stdout"
        }
      ]
    },
    {
      "cell_type": "code",
      "metadata": {
        "id": "FwgGhtBWZF_o",
        "colab": {
          "base_uri": "https://localhost:8080/"
        },
        "outputId": "797bb15f-5be6-477f-b546-0fd17726c7f8"
      },
      "source": [
        "\n",
        "h = model.fit(X_train, y_train, batch_size=128, epochs=5, validation_data=(x_val, y_val), verbose=2, shuffle=True)\n"
      ],
      "execution_count": 59,
      "outputs": [
        {
          "output_type": "stream",
          "text": [
            "Epoch 1/5\n",
            "10/10 - 39s - loss: 1.6074 - accuracy: 0.1891 - val_loss: 1.5149 - val_accuracy: 0.8140\n",
            "Epoch 2/5\n",
            "10/10 - 36s - loss: 1.5931 - accuracy: 0.2144 - val_loss: 1.4082 - val_accuracy: 0.8605\n",
            "Epoch 3/5\n",
            "10/10 - 36s - loss: 1.5485 - accuracy: 0.2975 - val_loss: 1.4094 - val_accuracy: 0.4419\n",
            "Epoch 4/5\n",
            "10/10 - 36s - loss: 1.4665 - accuracy: 0.3782 - val_loss: 1.5996 - val_accuracy: 0.2558\n",
            "Epoch 5/5\n",
            "10/10 - 36s - loss: 1.4020 - accuracy: 0.3877 - val_loss: 1.3683 - val_accuracy: 0.5581\n"
          ],
          "name": "stdout"
        }
      ]
    },
    {
      "cell_type": "code",
      "metadata": {
        "id": "ZxPw7Qki8Ywn"
      },
      "source": [
        ""
      ],
      "execution_count": 59,
      "outputs": []
    },
    {
      "cell_type": "markdown",
      "metadata": {
        "id": "tw-9L6ls7doj"
      },
      "source": [
        "###Evaluation:"
      ]
    },
    {
      "cell_type": "code",
      "metadata": {
        "colab": {
          "base_uri": "https://localhost:8080/",
          "height": 398
        },
        "id": "pD_MQyln7doo",
        "outputId": "198df2c9-21c1-473e-9532-a94d8abaf8d3"
      },
      "source": [
        "f, (ax1, ax2) = plt.subplots(1, 2, figsize = (24, 6))\n",
        "f.suptitle('Monitoring the performance of the model')\n",
        "\n",
        "loss = 'loss'\n",
        "val_loss = 'val_loss'\n",
        "accuracy = 'accuracy'\n",
        "val_accuracy = 'val_accuracy'\n",
        "\n",
        "ax1.plot(h.history['loss'], label = 'Train')\n",
        "ax1.plot(h.history['val_loss'], label = 'Test')\n",
        "ax1.set_title('Model Loss')\n",
        "ax1.legend(['Train', 'Test'])\n",
        "\n",
        "ax2.plot(h.history[accuracy], label = 'Train')\n",
        "ax2.plot(h.history[val_accuracy], label = 'Test')\n",
        "ax2.set_title('Model Accuracy')\n",
        "ax2.legend(['Train', 'Test'])\n",
        "\n",
        "plt.show()"
      ],
      "execution_count": 60,
      "outputs": [
        {
          "output_type": "display_data",
          "data": {
            "image/png": "[encoded data removed]",
            "text/plain": [
              "<Figure size 1728x432 with 2 Axes>"
            ]
          },
          "metadata": {
            "tags": [],
            "needs_background": "light"
          }
        }
      ]
    },
    {
      "cell_type": "code",
      "metadata": {
        "colab": {
          "base_uri": "https://localhost:8080/"
        },
        "id": "qNazyuPi7doq",
        "outputId": "fdaa1cc0-43dc-484d-f832-8de115ac3ee1"
      },
      "source": [
        "print('Testing...')\n",
        "score, acc = model.evaluate(x_val, y_val, batch_size=10)\n",
        "\n",
        "print('Test score:', score)\n",
        "print('Test accuracy:', acc)\n",
        "\n",
        "print(\"Accuracy: {0:.2%}\".format(acc))"
      ],
      "execution_count": 61,
      "outputs": [
        {
          "output_type": "stream",
          "text": [
            "Testing...\n",
            "5/5 [==============================] - 1s 117ms/step - loss: 1.3683 - accuracy: 0.5581\n",
            "Test score: 1.368272066116333\n",
            "Test accuracy: 0.5581395626068115\n",
            "Accuracy: 55.81%\n"
          ],
          "name": "stdout"
        }
      ]
    },
    {
      "cell_type": "code",
      "metadata": {
        "colab": {
          "base_uri": "https://localhost:8080/"
        },
        "id": "yxX2Hj667doq",
        "outputId": "8fabd8f8-4185-41f4-a3dc-b7e2ca450ef0"
      },
      "source": [
        "from sklearn.metrics import classification_report, confusion_matrix\n",
        "\n",
        "y_pred = model.predict_proba(X_test, batch_size=128, verbose=1)\n",
        "y_pred_bool = np.argmax(y_pred, axis=1)\n",
        "y_test_bool = np.argmax(y_test, axis=1)\n",
        "print(classification_report(y_test_bool, y_pred_bool))\n"
      ],
      "execution_count": 62,
      "outputs": [
        {
          "output_type": "stream",
          "text": [
            "/usr/local/lib/python3.7/dist-packages/tensorflow/python/keras/engine/sequential.py:425: UserWarning: `model.predict_proba()` is deprecated and will be removed after 2021-01-01. Please use `model.predict()` instead.\n",
            "  warnings.warn('`model.predict_proba()` is deprecated and '\n"
          ],
          "name": "stderr"
        },
        {
          "output_type": "stream",
          "text": [
            "3/3 [==============================] - 2s 503ms/step\n",
            "              precision    recall  f1-score   support\n",
            "\n",
            "           0       0.35      0.45      0.39        55\n",
            "           1       0.30      0.11      0.16        62\n",
            "           2       0.36      0.58      0.45        69\n",
            "           3       0.57      0.06      0.11        67\n",
            "           4       0.51      0.84      0.63        63\n",
            "\n",
            "    accuracy                           0.41       316\n",
            "   macro avg       0.42      0.41      0.35       316\n",
            "weighted avg       0.42      0.41      0.35       316\n",
            "\n"
          ],
          "name": "stdout"
        }
      ]
    },
    {
      "cell_type": "code",
      "metadata": {
        "colab": {
          "base_uri": "https://localhost:8080/"
        },
        "id": "kmiYIeJG7dor",
        "outputId": "83fe607c-7c60-4832-c394-5cb15220b936"
      },
      "source": [
        "print(classification_report(y_test_bool, y_pred_bool, labels=[0,1, 2, 3, 4] ))"
      ],
      "execution_count": 63,
      "outputs": [
        {
          "output_type": "stream",
          "text": [
            "              precision    recall  f1-score   support\n",
            "\n",
            "           0       0.35      0.45      0.39        55\n",
            "           1       0.30      0.11      0.16        62\n",
            "           2       0.36      0.58      0.45        69\n",
            "           3       0.57      0.06      0.11        67\n",
            "           4       0.51      0.84      0.63        63\n",
            "\n",
            "    accuracy                           0.41       316\n",
            "   macro avg       0.42      0.41      0.35       316\n",
            "weighted avg       0.42      0.41      0.35       316\n",
            "\n"
          ],
          "name": "stdout"
        }
      ]
    },
    {
      "cell_type": "code",
      "metadata": {
        "colab": {
          "base_uri": "https://localhost:8080/"
        },
        "id": "SX_tGtgK7dor",
        "outputId": "a8995623-b8d2-437e-d72e-c502665833e3"
      },
      "source": [
        "confusion_matrix(y_test_bool, y_pred_bool)"
      ],
      "execution_count": 64,
      "outputs": [
        {
          "output_type": "execute_result",
          "data": {
            "text/plain": [
              "array([[25,  6, 20,  0,  4],\n",
              "       [29,  7, 19,  2,  5],\n",
              "       [ 9,  7, 40,  0, 13],\n",
              "       [ 9,  3, 22,  4, 29],\n",
              "       [ 0,  0,  9,  1, 53]])"
            ]
          },
          "metadata": {
            "tags": []
          },
          "execution_count": 64
        }
      ]
    },
    {
      "cell_type": "code",
      "metadata": {
        "colab": {
          "base_uri": "https://localhost:8080/",
          "height": 282
        },
        "id": "3CxZG_pmTxpp",
        "outputId": "16afaf2d-078e-40d1-e0ad-858c040b68f4"
      },
      "source": [
        "sns.heatmap(confusion_matrix(y_test_bool, y_pred_bool), annot=True)"
      ],
      "execution_count": 65,
      "outputs": [
        {
          "output_type": "execute_result",
          "data": {
            "text/plain": [
              "<matplotlib.axes._subplots.AxesSubplot at 0x7ff1b34dc750>"
            ]
          },
          "metadata": {
            "tags": []
          },
          "execution_count": 65
        },
        {
          "output_type": "display_data",
          "data": {
            "image/png": "[encoded data removed]",
            "text/plain": [
              "<Figure size 432x288 with 2 Axes>"
            ]
          },
          "metadata": {
            "tags": [],
            "needs_background": "light"
          }
        }
      ]
    },
    {
      "cell_type": "code",
      "metadata": {
        "id": "kVAyWeRR5KaL"
      },
      "source": [
        "report = classification_report(y_test_bool, y_pred_bool, output_dict=True)"
      ],
      "execution_count": 66,
      "outputs": []
    },
    {
      "cell_type": "code",
      "metadata": {
        "id": "sgCqEgO_eIBY"
      },
      "source": [
        "from sklearn.metrics import multilabel_confusion_matrix"
      ],
      "execution_count": 67,
      "outputs": []
    },
    {
      "cell_type": "code",
      "metadata": {
        "colab": {
          "base_uri": "https://localhost:8080/"
        },
        "id": "h4tigzgkaemo",
        "outputId": "1096b95a-3635-471f-f126-d67a3fc66e96"
      },
      "source": [
        "multilabel_confusion_matrix(y_test_bool, y_pred_bool, labels=[0,1, 2, 3, 4]  )"
      ],
      "execution_count": 68,
      "outputs": [
        {
          "output_type": "execute_result",
          "data": {
            "text/plain": [
              "array([[[214,  47],\n",
              "        [ 30,  25]],\n",
              "\n",
              "       [[238,  16],\n",
              "        [ 55,   7]],\n",
              "\n",
              "       [[177,  70],\n",
              "        [ 29,  40]],\n",
              "\n",
              "       [[246,   3],\n",
              "        [ 63,   4]],\n",
              "\n",
              "       [[202,  51],\n",
              "        [ 10,  53]]])"
            ]
          },
          "metadata": {
            "tags": []
          },
          "execution_count": 68
        }
      ]
    },
    {
      "cell_type": "code",
      "metadata": {
        "colab": {
          "base_uri": "https://localhost:8080/",
          "height": 585
        },
        "id": "Pfy-LRinaekK",
        "outputId": "9870b759-5b5c-4a50-b129-b28c62377c38"
      },
      "source": [
        "import seaborn as sns\n",
        "labels = [0,1,2,3,4]\n",
        "confusion = multilabel_confusion_matrix(y_test_bool, y_pred_bool, labels=labels)\n",
        "\n",
        "# Plot confusion matrix \n",
        "fig = plt.figure(figsize = (14, 8))\n",
        "for i, (label, matrix) in enumerate(zip(labels, confusion)):\n",
        "    plt.subplot(f'23{i+1}')\n",
        "    labels = [f'Accident Level:{label}', label]\n",
        "    sns.heatmap(matrix, annot = True, square = True, fmt = 'd', cbar = False, cmap = 'Blues', \n",
        "                xticklabels = labels, yticklabels = labels, linecolor = 'black', linewidth = 1)\n",
        "    plt.title(labels[0])\n",
        "\n",
        "plt.tight_layout()\n",
        "plt.show()"
      ],
      "execution_count": 69,
      "outputs": [
        {
          "output_type": "display_data",
          "data": {
            "image/png": "[encoded data removed]",
            "text/plain": [
              "<Figure size 1008x576 with 5 Axes>"
            ]
          },
          "metadata": {
            "tags": [],
            "needs_background": "light"
          }
        }
      ]
    },
    {
      "cell_type": "code",
      "metadata": {
        "id": "3J_gskKlaehM"
      },
      "source": [
        ""
      ],
      "execution_count": 69,
      "outputs": []
    },
    {
      "cell_type": "markdown",
      "metadata": {
        "id": "gDrFlK-vOsxA"
      },
      "source": [
        "\n",
        "\n",
        "---\n",
        "\n",
        "\n",
        "\n",
        "---\n",
        "\n"
      ]
    },
    {
      "cell_type": "code",
      "metadata": {
        "id": "EsS8RRoTS7mx"
      },
      "source": [
        ""
      ],
      "execution_count": 69,
      "outputs": []
    }
  ]
}