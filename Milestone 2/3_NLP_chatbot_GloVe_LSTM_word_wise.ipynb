{
  "nbformat": 4,
  "nbformat_minor": 0,
  "metadata": {
    "kernelspec": {
      "display_name": "Python 3",
      "language": "python",
      "name": "python3"
    },
    "language_info": {
      "codemirror_mode": {
        "name": "ipython",
        "version": 3
      },
      "file_extension": ".py",
      "mimetype": "text/x-python",
      "name": "python",
      "nbconvert_exporter": "python",
      "pygments_lexer": "ipython3",
      "version": "3.7.4"
    },
    "colab": {
      "name": "3_NLP-chatbot-GloVe_LSTM_word_wise.ipynb",
      "provenance": [],
      "collapsed_sections": []
    }
  },
  "cells": [
    {
      "cell_type": "markdown",
      "metadata": {
        "id": "V79KhuRBY0eJ"
      },
      "source": [
        "# GloVe with LSTM:"
      ]
    },
    {
      "cell_type": "code",
      "metadata": {
        "id": "F4aW1ESZ3gYd",
        "colab": {
          "base_uri": "https://localhost:8080/"
        },
        "outputId": "98dd1df9-fbf5-426b-9f51-f94059208258"
      },
      "source": [
        "\n",
        "import pandas as pd\n",
        "import numpy as np\n",
        "import matplotlib.pyplot as plt\n",
        "import nltk\n",
        "nltk.download('wordnet')\n",
        "nltk.download('stopwords')\n",
        "nltk.download('punkt')\n",
        "from nltk.stem import WordNetLemmatizer\n",
        "from sklearn.model_selection import train_test_split\n",
        "import os\n",
        "\n",
        "from sklearn.feature_extraction.text import TfidfVectorizer\n",
        "import re\n",
        "from nltk.stem.porter import PorterStemmer\n",
        "from sklearn.metrics import classification_report, confusion_matrix\n",
        "from nltk.tokenize import RegexpTokenizer\n",
        "\n",
        "\n",
        "from nltk.corpus import stopwords\n",
        "from nltk.util import ngrams\n",
        "from sklearn.feature_extraction.text import CountVectorizer\n",
        "from collections import defaultdict\n",
        "from collections import  Counter\n",
        "plt.style.use('ggplot')\n",
        "#stop=set(stopwords.words('english'))\n",
        "import re\n",
        "from nltk.tokenize import word_tokenize\n",
        "import gensim\n",
        "import string\n",
        "from keras.preprocessing.text import Tokenizer\n",
        "from keras.preprocessing.sequence import pad_sequences\n",
        "from tqdm import tqdm\n",
        "from keras.models import Sequential\n",
        "from keras.layers import Embedding,LSTM,Dense,SpatialDropout1D\n",
        "from keras.initializers import Constant\n",
        "from sklearn.model_selection import train_test_split\n",
        "from keras.optimizers import Adam\n",
        "from tensorflow.keras.layers import Dense, Input, LSTM, Embedding, Dropout, Activation, Flatten, Bidirectional, GlobalMaxPool1D\n",
        "from tensorflow.keras.callbacks import EarlyStopping, ModelCheckpoint, ReduceLROnPlateau, TensorBoard"
      ],
      "execution_count": null,
      "outputs": [
        {
          "output_type": "stream",
          "text": [
            "[nltk_data] Downloading package wordnet to /root/nltk_data...\n",
            "[nltk_data]   Unzipping corpora/wordnet.zip.\n",
            "[nltk_data] Downloading package stopwords to /root/nltk_data...\n",
            "[nltk_data]   Unzipping corpora/stopwords.zip.\n",
            "[nltk_data] Downloading package punkt to /root/nltk_data...\n",
            "[nltk_data]   Unzipping tokenizers/punkt.zip.\n"
          ],
          "name": "stdout"
        }
      ]
    },
    {
      "cell_type": "code",
      "metadata": {
        "colab": {
          "base_uri": "https://localhost:8080/"
        },
        "id": "Gzz3x81z3gYk",
        "outputId": "4ea1b979-05ce-424d-9b4e-bd065c7c20c1"
      },
      "source": [
        "import tensorflow as tf\n",
        "print(tf.__version__)"
      ],
      "execution_count": null,
      "outputs": [
        {
          "output_type": "stream",
          "text": [
            "2.4.1\n"
          ],
          "name": "stdout"
        }
      ]
    },
    {
      "cell_type": "code",
      "metadata": {
        "id": "nijE2wNl3gYk"
      },
      "source": [
        "from tensorflow.keras.preprocessing.text import Tokenizer\n",
        "from tensorflow.keras.preprocessing.sequence import pad_sequences"
      ],
      "execution_count": null,
      "outputs": []
    },
    {
      "cell_type": "markdown",
      "metadata": {
        "id": "GAeNAYol3gYl"
      },
      "source": [
        "## Helper Functions for Text cleaning::"
      ]
    },
    {
      "cell_type": "code",
      "metadata": {
        "id": "ghSPR04x3gYl"
      },
      "source": [
        "import re\n",
        "def decontracted(phrase):\n",
        "  \"\"\"decontracted takes text and convert contractions into natural form.\n",
        "     ref: https://stackoverflow.com/questions/19790188/expanding-english-language-contractions-in-python/47091490#47091490\"\"\"\n",
        "\n",
        "  # specific\n",
        "  phrase = re.sub(r\"won\\'t\", \"will not\", phrase)\n",
        "  phrase = re.sub(r\"can\\'t\", \"can not\", phrase)\n",
        "  phrase = re.sub(r\"won\\’t\", \"will not\", phrase)\n",
        "  phrase = re.sub(r\"can\\’t\", \"can not\", phrase)\n",
        "\n",
        "  # general\n",
        "  phrase = re.sub(r\"n\\'t\", \" not\", phrase)\n",
        "  phrase = re.sub(r\"\\'re\", \" are\", phrase)\n",
        "  phrase = re.sub(r\"\\'s\", \" is\", phrase)\n",
        "  phrase = re.sub(r\"\\'d\", \" would\", phrase)\n",
        "  phrase = re.sub(r\"\\'ll\", \" will\", phrase)\n",
        "  phrase = re.sub(r\"\\'t\", \" not\", phrase)\n",
        "  phrase = re.sub(r\"\\'ve\", \" have\", phrase)\n",
        "  phrase = re.sub(r\"\\'m\", \" am\", phrase)\n",
        "\n",
        "  phrase = re.sub(r\"n\\’t\", \" not\", phrase)\n",
        "  phrase = re.sub(r\"\\’re\", \" are\", phrase)\n",
        "  phrase = re.sub(r\"\\’s\", \" is\", phrase)\n",
        "  phrase = re.sub(r\"\\’d\", \" would\", phrase)\n",
        "  phrase = re.sub(r\"\\’ll\", \" will\", phrase)\n",
        "  phrase = re.sub(r\"\\’t\", \" not\", phrase)\n",
        "  phrase = re.sub(r\"\\’ve\", \" have\", phrase)\n",
        "  phrase = re.sub(r\"\\’m\", \" am\", phrase)\n",
        "\n",
        "  return phrase\n",
        "\n",
        "#processed_text = decontracted(processed_text)\n",
        "#print(processed_text)\n",
        "\n",
        "def remove_special_character(phrase, remove_number=False):\n",
        "  \"\"\"remove_special_character takes text and removes special charcters.\n",
        "     ref: https://stackoverflow.com/a/18082370/4084039\"\"\"\n",
        "\n",
        "  phrase = re.sub(\"\\S*\\d\\S*\", \"\", phrase).strip()\n",
        "  if remove_number:\n",
        "    phrase = re.sub('[^A-Za-z]+', ' ', phrase)\n",
        "  else:\n",
        "    phrase = re.sub('[^A-Za-z0-9]+', ' ', phrase)\n",
        "  return phrase\n",
        "\n",
        "# processed_text = remove_special_character(processed_text, True)\n",
        "# print(processed_text)\n",
        "\n",
        "def remove_stop_words(text):\n",
        "    stopwords= set(['br', 'the', 'i', 'me', 'my', 'myself', 'we', 'our', 'ours', 'ourselves', 'you', \\\n",
        "                \"you're\", \"you've\", \"you'll\", \"you'd\", 'your', 'yours', 'yourself', 'yourselves', \\\n",
        "                'he', 'him', 'his', 'himself', 'she', \"she's\", 'her', 'hers', 'herself', 'it', \"it's\", \\\n",
        "                'its', 'itself', 'they', 'them', 'their', 'theirs', 'themselves', 'what', 'which', 'who', \\\n",
        "                'whom', 'this', 'that', \"that'll\", 'these', 'those', 'am', 'is', 'are', 'was', 'were', \\\n",
        "                'be', 'been', 'being', 'have', 'has', 'had', 'having', 'do', 'does', 'did', 'doing', \\\n",
        "                'a', 'an', 'the', 'and', 'but', 'if', 'or', 'because', 'as', 'until', 'while', 'of', \\\n",
        "                'at', 'by', 'for', 'with', 'about', 'against', 'between', 'into', 'through', 'during', \\\n",
        "                'before', 'after', 'above', 'below', 'to', 'from', 'up', 'down', 'in', 'out', 'on', 'off', \\\n",
        "                'over', 'under', 'again', 'further', 'then', 'once', 'here', 'there', 'when', 'where', 'why', \\\n",
        "                'how', 'all', 'any', 'both', 'each', 'few', 'more', 'most', 'other', 'some', 'such', 'only', \\\n",
        "                'own', 'same', 'so', 'than', 'too', 'very', 's', 't', 'can', 'will', 'just', 'don', \"don't\", \\\n",
        "                'should', \"should've\", 'now', 'd', 'll', 'm', 'o', 're', 've', 'y', 'ain', 'aren', \"aren't\", \\\n",
        "                'couldn', \"couldn't\", 'didn', \"didn't\", 'doesn', \"doesn't\", 'hadn', \"hadn't\", 'hasn', \\\n",
        "                \"hasn't\", 'haven', \"haven't\", 'isn', \"isn't\", 'ma', 'mightn', \"mightn't\", 'mustn', \\\n",
        "                \"mustn't\", 'needn', \"needn't\", 'shan', \"shan't\", 'shouldn', \"shouldn't\", 'wasn', \"wasn't\", \\\n",
        "                'weren', \"weren't\", 'won', \"won't\", 'wouldn', \"wouldn't\"])\n",
        "    return ' '.join(e.lower() for e in text.split() if e.lower() not in stopwords)\n",
        "\n",
        "# ref: https://gist.github.com/sebleier/554280\n",
        "\n",
        "# processed_text = ' '.join(e.lower() for e in processed_text.split() if e.lower() not in stopwords)\n",
        "# print(processed_text)\n",
        "\n",
        "def lemmatize_text(text_data):\n",
        "  \"\"\"lem_text takes text and lemmatize it using WordNetLemmatizer.\n",
        "     ref: https://stackoverflow.com/a/25535348\"\"\"\n",
        "  lem = WordNetLemmatizer()\n",
        "  n_text = []\n",
        "  for word in text_data.split(' '):\n",
        "    n_word = lem.lemmatize(word, pos='a')\n",
        "    n_word = lem.lemmatize(n_word, pos='v')\n",
        "    n_text.append(n_word)\n",
        "\n",
        "  return ' '.join(n_text)\n",
        "\n",
        "# processed_text = lem_text(processed_text)\n",
        "# print(processed_text)\n",
        "\n",
        "def stem_and_stopwords(text):\n",
        "    stemmer = nltk.stem.SnowballStemmer('english')\n",
        "    stop_words = set(nltk.corpus.stopwords.words('english'))\n",
        "    tokens = [word for word in nltk.word_tokenize(text) if (len(word) > 3 and len(word.strip('Xx/')) > 2 and len(re.sub('\\d+', '', word.strip('Xx/'))) > 3) ] \n",
        "    tokens = map(str.lower, tokens)\n",
        "    stems = [stemmer.stem(item) for item in tokens if (item not in stop_words)]\n",
        "    return stems\n",
        "\n",
        "\n",
        "def clean_text(text):\n",
        "    text = decontracted(text)\n",
        "    text = remove_special_character(text)\n",
        "    text = remove_stop_words(text)\n",
        "    text = lemmatize_text(text)\n",
        "    #text = stem_and_stopwords(text)\n",
        "    return text\n",
        "\n",
        "\n",
        "def find_max_list_idx(list):\n",
        "    list_len = [len(i) for i in list]\n",
        "    return np.argmax(np.array(list_len))\n",
        "\n",
        "def desc_to_words(comp):\n",
        "    \n",
        "    words = RegexpTokenizer('\\w+').tokenize(comp)\n",
        "    words = [re.sub(r'([xx]+)|([XX]+)|(\\d+)', '', w).lower() for w in words]\n",
        "    words = list(filter(lambda a: a != '', words))\n",
        "    return words"
      ],
      "execution_count": null,
      "outputs": []
    },
    {
      "cell_type": "code",
      "metadata": {
        "colab": {
          "base_uri": "https://localhost:8080/"
        },
        "id": "GiThfKfj3lFU",
        "outputId": "d3f9d182-f853-471c-ec3f-bae195ce041c"
      },
      "source": [
        "# Using GoogleCollab:\n",
        "from google.colab import drive\n",
        "drive.mount('/content/drive')\n",
        "os.chdir('/content/drive/My Drive/Colab Notebooks/')"
      ],
      "execution_count": null,
      "outputs": [
        {
          "output_type": "stream",
          "text": [
            "Mounted at /content/drive\n"
          ],
          "name": "stdout"
        }
      ]
    },
    {
      "cell_type": "code",
      "metadata": {
        "id": "WlYnUow33gYm"
      },
      "source": [
        "data = pd.read_csv('data.csv')"
      ],
      "execution_count": null,
      "outputs": []
    },
    {
      "cell_type": "code",
      "metadata": {
        "colab": {
          "base_uri": "https://localhost:8080/"
        },
        "id": "bYIUnaV13gYm",
        "outputId": "0b68b05e-b77e-4367-8ab1-4187f8b667f4"
      },
      "source": [
        "data.shape"
      ],
      "execution_count": null,
      "outputs": [
        {
          "output_type": "execute_result",
          "data": {
            "text/plain": [
              "(425, 11)"
            ]
          },
          "metadata": {
            "tags": []
          },
          "execution_count": 8
        }
      ]
    },
    {
      "cell_type": "code",
      "metadata": {
        "colab": {
          "base_uri": "https://localhost:8080/",
          "height": 162
        },
        "id": "bbdquj5H3gYn",
        "outputId": "246e585e-4fdc-4f1c-c9d1-4fa40557f63b"
      },
      "source": [
        "data.head(2)"
      ],
      "execution_count": null,
      "outputs": [
        {
          "output_type": "execute_result",
          "data": {
            "text/html": [
              "<div>\n",
              "<style scoped>\n",
              "    .dataframe tbody tr th:only-of-type {\n",
              "        vertical-align: middle;\n",
              "    }\n",
              "\n",
              "    .dataframe tbody tr th {\n",
              "        vertical-align: top;\n",
              "    }\n",
              "\n",
              "    .dataframe thead th {\n",
              "        text-align: right;\n",
              "    }\n",
              "</style>\n",
              "<table border=\"1\" class=\"dataframe\">\n",
              "  <thead>\n",
              "    <tr style=\"text-align: right;\">\n",
              "      <th></th>\n",
              "      <th>Unnamed: 0</th>\n",
              "      <th>Data</th>\n",
              "      <th>Countries</th>\n",
              "      <th>Local</th>\n",
              "      <th>Industry Sector</th>\n",
              "      <th>Accident Level</th>\n",
              "      <th>Potential Accident Level</th>\n",
              "      <th>Genre</th>\n",
              "      <th>Employee or Third Party</th>\n",
              "      <th>Critical Risk</th>\n",
              "      <th>Description</th>\n",
              "    </tr>\n",
              "  </thead>\n",
              "  <tbody>\n",
              "    <tr>\n",
              "      <th>0</th>\n",
              "      <td>0</td>\n",
              "      <td>2016-01-01 00:00:00</td>\n",
              "      <td>Country_01</td>\n",
              "      <td>Local_01</td>\n",
              "      <td>Mining</td>\n",
              "      <td>I</td>\n",
              "      <td>IV</td>\n",
              "      <td>Male</td>\n",
              "      <td>Third Party</td>\n",
              "      <td>Pressed</td>\n",
              "      <td>While removing the drill rod of the Jumbo 08 f...</td>\n",
              "    </tr>\n",
              "    <tr>\n",
              "      <th>1</th>\n",
              "      <td>1</td>\n",
              "      <td>2016-01-02 00:00:00</td>\n",
              "      <td>Country_02</td>\n",
              "      <td>Local_02</td>\n",
              "      <td>Mining</td>\n",
              "      <td>I</td>\n",
              "      <td>IV</td>\n",
              "      <td>Male</td>\n",
              "      <td>Employee</td>\n",
              "      <td>Pressurized Systems</td>\n",
              "      <td>During the activation of a sodium sulphide pum...</td>\n",
              "    </tr>\n",
              "  </tbody>\n",
              "</table>\n",
              "</div>"
            ],
            "text/plain": [
              "   Unnamed: 0  ...                                        Description\n",
              "0           0  ...  While removing the drill rod of the Jumbo 08 f...\n",
              "1           1  ...  During the activation of a sodium sulphide pum...\n",
              "\n",
              "[2 rows x 11 columns]"
            ]
          },
          "metadata": {
            "tags": []
          },
          "execution_count": 9
        }
      ]
    },
    {
      "cell_type": "code",
      "metadata": {
        "id": "4_Aa65co3gYn"
      },
      "source": [
        "#target_column = 'Potential Accident Level'\n",
        "target_column = 'Accident Level'\n",
        "target={'I':0, 'II':1, 'III':2, 'IV':3, 'V':4, 'VI':5}\n",
        "\n",
        "data['target']=data[target_column].map(target)"
      ],
      "execution_count": null,
      "outputs": []
    },
    {
      "cell_type": "code",
      "metadata": {
        "id": "5ren1hJU3gYn"
      },
      "source": [
        "df = data[['target', 'Description']]"
      ],
      "execution_count": null,
      "outputs": []
    },
    {
      "cell_type": "code",
      "metadata": {
        "colab": {
          "base_uri": "https://localhost:8080/"
        },
        "id": "yW87jv4K3gYo",
        "outputId": "90fd6afd-7ab2-4f80-854a-ec03b6a89265"
      },
      "source": [
        "df.Description = df.Description.apply(clean_text)"
      ],
      "execution_count": null,
      "outputs": [
        {
          "output_type": "stream",
          "text": [
            "/usr/local/lib/python3.7/dist-packages/pandas/core/generic.py:5170: SettingWithCopyWarning: \n",
            "A value is trying to be set on a copy of a slice from a DataFrame.\n",
            "Try using .loc[row_indexer,col_indexer] = value instead\n",
            "\n",
            "See the caveats in the documentation: https://pandas.pydata.org/pandas-docs/stable/user_guide/indexing.html#returning-a-view-versus-a-copy\n",
            "  self[name] = value\n"
          ],
          "name": "stderr"
        }
      ]
    },
    {
      "cell_type": "code",
      "metadata": {
        "colab": {
          "base_uri": "https://localhost:8080/",
          "height": 111
        },
        "id": "SOwofkdz3gYo",
        "outputId": "079f3115-1dff-42ab-b418-099b421d6875"
      },
      "source": [
        "df.head(2)"
      ],
      "execution_count": null,
      "outputs": [
        {
          "output_type": "execute_result",
          "data": {
            "text/html": [
              "<div>\n",
              "<style scoped>\n",
              "    .dataframe tbody tr th:only-of-type {\n",
              "        vertical-align: middle;\n",
              "    }\n",
              "\n",
              "    .dataframe tbody tr th {\n",
              "        vertical-align: top;\n",
              "    }\n",
              "\n",
              "    .dataframe thead th {\n",
              "        text-align: right;\n",
              "    }\n",
              "</style>\n",
              "<table border=\"1\" class=\"dataframe\">\n",
              "  <thead>\n",
              "    <tr style=\"text-align: right;\">\n",
              "      <th></th>\n",
              "      <th>target</th>\n",
              "      <th>Description</th>\n",
              "    </tr>\n",
              "  </thead>\n",
              "  <tbody>\n",
              "    <tr>\n",
              "      <th>0</th>\n",
              "      <td>0</td>\n",
              "      <td>remove drill rod jumbo maintenance supervisor ...</td>\n",
              "    </tr>\n",
              "    <tr>\n",
              "      <th>1</th>\n",
              "      <td>0</td>\n",
              "      <td>activation sodium sulphide pump pip uncouple s...</td>\n",
              "    </tr>\n",
              "  </tbody>\n",
              "</table>\n",
              "</div>"
            ],
            "text/plain": [
              "   target                                        Description\n",
              "0       0  remove drill rod jumbo maintenance supervisor ...\n",
              "1       0  activation sodium sulphide pump pip uncouple s..."
            ]
          },
          "metadata": {
            "tags": []
          },
          "execution_count": 13
        }
      ]
    },
    {
      "cell_type": "markdown",
      "metadata": {
        "id": "_GpezFEJRg1r"
      },
      "source": [
        "###Convert target to category::"
      ]
    },
    {
      "cell_type": "code",
      "metadata": {
        "colab": {
          "base_uri": "https://localhost:8080/"
        },
        "id": "L_XenyLZRtne",
        "outputId": "eb78cc7c-9243-4c41-ff20-1d66826459b8"
      },
      "source": [
        "df['target'].astype('category')"
      ],
      "execution_count": null,
      "outputs": [
        {
          "output_type": "execute_result",
          "data": {
            "text/plain": [
              "0      0\n",
              "1      0\n",
              "2      0\n",
              "3      0\n",
              "4      3\n",
              "      ..\n",
              "420    0\n",
              "421    0\n",
              "422    0\n",
              "423    0\n",
              "424    0\n",
              "Name: target, Length: 425, dtype: category\n",
              "Categories (5, int64): [0, 1, 2, 3, 4]"
            ]
          },
          "metadata": {
            "tags": []
          },
          "execution_count": 14
        }
      ]
    },
    {
      "cell_type": "markdown",
      "metadata": {
        "id": "OS2Zgj9g3gYp"
      },
      "source": [
        "---"
      ]
    },
    {
      "cell_type": "code",
      "metadata": {
        "colab": {
          "base_uri": "https://localhost:8080/"
        },
        "id": "oVMKw1DF9J6g",
        "outputId": "80e429c6-bcbb-4a7d-f45c-0583f4a45045"
      },
      "source": [
        "max_idx = find_max_list_idx(df['Description'])\n",
        "print(max_idx)"
      ],
      "execution_count": null,
      "outputs": [
        {
          "output_type": "stream",
          "text": [
            "174\n"
          ],
          "name": "stdout"
        }
      ]
    },
    {
      "cell_type": "code",
      "metadata": {
        "colab": {
          "base_uri": "https://localhost:8080/"
        },
        "id": "gcvQHb0B9My0",
        "outputId": "fd315b5e-8ce2-4223-8a4b-52c62bff2d3c"
      },
      "source": [
        "print(len(df['Description'][max_idx]))\n",
        "\n"
      ],
      "execution_count": null,
      "outputs": [
        {
          "output_type": "stream",
          "text": [
            "622\n"
          ],
          "name": "stdout"
        }
      ]
    },
    {
      "cell_type": "code",
      "metadata": {
        "colab": {
          "base_uri": "https://localhost:8080/",
          "height": 103
        },
        "id": "1rALTXvuVO4N",
        "outputId": "d2871514-527c-43c1-a6e1-bb6fbc4f2524"
      },
      "source": [
        "df['Description'][max_idx]"
      ],
      "execution_count": null,
      "outputs": [
        {
          "output_type": "execute_result",
          "data": {
            "application/vnd.google.colaboratory.intrinsic+json": {
              "type": "string"
            },
            "text/plain": [
              "'level gallery hold activity bolter equipment no operator perform drill first hole support right gable drill end drill rod break leave thread inside drill machine shank operator assistant decide make two empty percussion attempt free thread shank without success third attempt assistant enter corrugate iron central hole rest bar embed shank generate pressure moment operator activate percussion generate movement shank hit palm victim leave hand generate describe injury worker wear safety gloves time accident end corrugate iron contact leave hand shape like cane worker time accident position roof support mesh split set'"
            ]
          },
          "metadata": {
            "tags": []
          },
          "execution_count": 17
        }
      ]
    },
    {
      "cell_type": "code",
      "metadata": {
        "id": "sPPL8OxFVIma"
      },
      "source": [
        "MAX_SEQUENCE_LENGTH = len(df['Description'][max_idx])"
      ],
      "execution_count": null,
      "outputs": []
    },
    {
      "cell_type": "code",
      "metadata": {
        "colab": {
          "base_uri": "https://localhost:8080/",
          "height": 52
        },
        "id": "OL0RjfO972oB",
        "outputId": "c6339ff3-2d04-48f8-8a84-fbc0705d1c92"
      },
      "source": [
        "data['Description'][1]"
      ],
      "execution_count": null,
      "outputs": [
        {
          "output_type": "execute_result",
          "data": {
            "application/vnd.google.colaboratory.intrinsic+json": {
              "type": "string"
            },
            "text/plain": [
              "'During the activation of a sodium sulphide pump, the piping was uncoupled and the sulfide solution was designed in the area to reach the maid. Immediately she made use of the emergency shower and was directed to the ambulatory doctor and later to the hospital. Note: of sulphide solution = 48 grams / liter.'"
            ]
          },
          "metadata": {
            "tags": []
          },
          "execution_count": 19
        }
      ]
    },
    {
      "cell_type": "code",
      "metadata": {
        "colab": {
          "base_uri": "https://localhost:8080/",
          "height": 52
        },
        "id": "gRd3H5qj7xcB",
        "outputId": "673d0f1a-322a-4704-9ba4-68547cde3690"
      },
      "source": [
        "df['Description'][1]"
      ],
      "execution_count": null,
      "outputs": [
        {
          "output_type": "execute_result",
          "data": {
            "application/vnd.google.colaboratory.intrinsic+json": {
              "type": "string"
            },
            "text/plain": [
              "'activation sodium sulphide pump pip uncouple sulfide solution design area reach maid immediately make use emergency shower direct ambulatory doctor late hospital note sulphide solution grams liter'"
            ]
          },
          "metadata": {
            "tags": []
          },
          "execution_count": 20
        }
      ]
    },
    {
      "cell_type": "markdown",
      "metadata": {
        "id": "WeYr9qWaTEFE"
      },
      "source": [
        "##Extract all unique words::"
      ]
    },
    {
      "cell_type": "code",
      "metadata": {
        "id": "MHB-xiWyS2Kj"
      },
      "source": [
        "all_words = list()\n",
        "for comp in df['Description']:\n",
        "    for w in desc_to_words(comp):\n",
        "        all_words.append(w)"
      ],
      "execution_count": null,
      "outputs": []
    },
    {
      "cell_type": "code",
      "metadata": {
        "colab": {
          "base_uri": "https://localhost:8080/"
        },
        "id": "TNV1yVb9TJ2j",
        "outputId": "4e0b1932-eddd-44f4-df31-6e2217473a19"
      },
      "source": [
        "print('Size of vocabulary: {}'.format(len(set(all_words))))"
      ],
      "execution_count": null,
      "outputs": [
        {
          "output_type": "stream",
          "text": [
            "Size of vocabulary: 2373\n"
          ],
          "name": "stdout"
        }
      ]
    },
    {
      "cell_type": "code",
      "metadata": {
        "colab": {
          "base_uri": "https://localhost:8080/"
        },
        "id": "ZmhtFmDzTN2j",
        "outputId": "672b663f-6f97-47d8-fea5-4d506531027a"
      },
      "source": [
        "print('Description\\n', df['Description'][10], '\\n')\n",
        "print('Tokens\\n', desc_to_words(df['Description'][10]))"
      ],
      "execution_count": null,
      "outputs": [
        {
          "output_type": "stream",
          "text": [
            "Description\n",
            " instal segment polyurethane pulley protective lyner weigh kg head pulley ore winch pulley rotate compress lyner inside channel fall house rub right side worker hip generate injury describe \n",
            "\n",
            "Tokens\n",
            " ['instal', 'segment', 'polyurethane', 'pulley', 'protective', 'lyner', 'weigh', 'kg', 'head', 'pulley', 'ore', 'winch', 'pulley', 'rotate', 'compress', 'lyner', 'inside', 'channel', 'fall', 'house', 'rub', 'right', 'side', 'worker', 'hip', 'generate', 'injury', 'describe']\n"
          ],
          "name": "stdout"
        }
      ]
    },
    {
      "cell_type": "markdown",
      "metadata": {
        "id": "mEgSZ86E3_z7"
      },
      "source": [
        "###Hyperparams::"
      ]
    },
    {
      "cell_type": "code",
      "metadata": {
        "id": "M8ycp1mQ3-mN"
      },
      "source": [
        "max_features = 10000\n",
        "maxlen = MAX_SEQUENCE_LENGTH\n",
        "embedding_size = 200"
      ],
      "execution_count": null,
      "outputs": []
    },
    {
      "cell_type": "markdown",
      "metadata": {
        "id": "79UYwBrC4M0r"
      },
      "source": [
        "###Tokenizer to get indicies for words::"
      ]
    },
    {
      "cell_type": "code",
      "metadata": {
        "id": "DumW6dzp3-i2"
      },
      "source": [
        "tokenizer = Tokenizer(num_words = max_features)\n",
        "tokenizer.fit_on_texts(df['Description'])"
      ],
      "execution_count": null,
      "outputs": []
    },
    {
      "cell_type": "markdown",
      "metadata": {
        "id": "MbmM_Kcr4aNY"
      },
      "source": [
        "###Padding:"
      ]
    },
    {
      "cell_type": "code",
      "metadata": {
        "colab": {
          "base_uri": "https://localhost:8080/"
        },
        "id": "_Ri_A5-f3-gW",
        "outputId": "d25c28eb-016b-4f7c-d0da-23674d5f9acd"
      },
      "source": [
        "X = tokenizer.texts_to_sequences(df['Description'])\n",
        "\n",
        "#step1: padding each sample with max length:\n",
        "X = pad_sequences(X, maxlen = maxlen)\n",
        "\n",
        "#step2: converting target column to numpy array:\n",
        "y = pd.get_dummies(df['target']).values\n",
        "y = np.asarray(y)\n",
        "\n",
        "print(\"Number of Samples:\", len(X))\n",
        "print(X[0])\n",
        "print(\"Number of Labels: \", len(y))\n",
        "print(y[0])"
      ],
      "execution_count": null,
      "outputs": [
        {
          "output_type": "stream",
          "text": [
            "Number of Samples: 425\n",
            "[   0    0    0    0    0    0    0    0    0    0    0    0    0    0\n",
            "    0    0    0    0    0    0    0    0    0    0    0    0    0    0\n",
            "    0    0    0    0    0    0    0    0    0    0    0    0    0    0\n",
            "    0    0    0    0    0    0    0    0    0    0    0    0    0    0\n",
            "    0    0    0    0    0    0    0    0    0    0    0    0    0    0\n",
            "    0    0    0    0    0    0    0    0    0    0    0    0    0    0\n",
            "    0    0    0    0    0    0    0    0    0    0    0    0    0    0\n",
            "    0    0    0    0    0    0    0    0    0    0    0    0    0    0\n",
            "    0    0    0    0    0    0    0    0    0    0    0    0    0    0\n",
            "    0    0    0    0    0    0    0    0    0    0    0    0    0    0\n",
            "    0    0    0    0    0    0    0    0    0    0    0    0    0    0\n",
            "    0    0    0    0    0    0    0    0    0    0    0    0    0    0\n",
            "    0    0    0    0    0    0    0    0    0    0    0    0    0    0\n",
            "    0    0    0    0    0    0    0    0    0    0    0    0    0    0\n",
            "    0    0    0    0    0    0    0    0    0    0    0    0    0    0\n",
            "    0    0    0    0    0    0    0    0    0    0    0    0    0    0\n",
            "    0    0    0    0    0    0    0    0    0    0    0    0    0    0\n",
            "    0    0    0    0    0    0    0    0    0    0    0    0    0    0\n",
            "    0    0    0    0    0    0    0    0    0    0    0    0    0    0\n",
            "    0    0    0    0    0    0    0    0    0    0    0    0    0    0\n",
            "    0    0    0    0    0    0    0    0    0    0    0    0    0    0\n",
            "    0    0    0    0    0    0    0    0    0    0    0    0    0    0\n",
            "    0    0    0    0    0    0    0    0    0    0    0    0    0    0\n",
            "    0    0    0    0    0    0    0    0    0    0    0    0    0    0\n",
            "    0    0    0    0    0    0    0    0    0    0    0    0    0    0\n",
            "    0    0    0    0    0    0    0    0    0    0    0    0    0    0\n",
            "    0    0    0    0    0    0    0    0    0    0    0    0    0    0\n",
            "    0    0    0    0    0    0    0    0    0    0    0    0    0    0\n",
            "    0    0    0    0    0    0    0    0    0    0    0    0    0    0\n",
            "    0    0    0    0    0    0    0    0    0    0    0    0    0    0\n",
            "    0    0    0    0    0    0    0    0    0    0    0    0    0    0\n",
            "    0    0    0    0    0    0    0    0    0    0    0    0    0    0\n",
            "    0    0    0    0    0    0    0    0    0    0    0    0    0    0\n",
            "    0    0    0    0    0    0    0    0    0    0    0    0    0    0\n",
            "    0    0    0    0    0    0    0    0    0    0    0    0    0    0\n",
            "    0    0    0    0    0    0    0    0    0    0    0    0    0    0\n",
            "    0    0    0    0    0    0    0    0    0    0    0    0    0    0\n",
            "    0    0    0    0    0    0    0    0    0    0    0    0    0    0\n",
            "    0    0    0    0    0    0    0    0    0    0    0    0    0    0\n",
            "    0    0    0    0    0    0    0    0    0    0    0    0    0    0\n",
            "    0    0    0    0    0    0    0    0    0    0    0    0    0    0\n",
            "    0    0    0    0    0    0    0    0    0    0    0   32   37  228\n",
            "  327   78  297   89  328   24  758 1351 1352  200  329   83   24   15\n",
            "   70   37   17  132    3  118 1353  200   16  118   95   65   24  759\n",
            "   18   83   37  118  330  327]\n",
            "Number of Labels:  425\n",
            "[1 0 0 0 0]\n"
          ],
          "name": "stdout"
        }
      ]
    },
    {
      "cell_type": "markdown",
      "metadata": {
        "id": "nIPED53t4zqh"
      },
      "source": [
        "###Vocab mapping::"
      ]
    },
    {
      "cell_type": "code",
      "metadata": {
        "colab": {
          "base_uri": "https://localhost:8080/"
        },
        "id": "bJvbqioK4zdR",
        "outputId": "919f30fd-0efc-44a1-d121-179fdd3cad26"
      },
      "source": [
        "vocab_size = len(tokenizer.word_index) + 1\n",
        "print('Vocabulary Size: ', vocab_size)"
      ],
      "execution_count": null,
      "outputs": [
        {
          "output_type": "stream",
          "text": [
            "Vocabulary Size:  2378\n"
          ],
          "name": "stdout"
        }
      ]
    },
    {
      "cell_type": "markdown",
      "metadata": {
        "id": "PFc7BIXg5Cn4"
      },
      "source": [
        "###Setting the # of words::"
      ]
    },
    {
      "cell_type": "code",
      "metadata": {
        "colab": {
          "base_uri": "https://localhost:8080/"
        },
        "id": "ZqhEBop94zYq",
        "outputId": "c320a616-ea0b-4490-ce33-c1e66d238879"
      },
      "source": [
        "num_words = len(tokenizer.word_index) + 1\n",
        "print(num_words)"
      ],
      "execution_count": null,
      "outputs": [
        {
          "output_type": "stream",
          "text": [
            "2378\n"
          ],
          "name": "stdout"
        }
      ]
    },
    {
      "cell_type": "markdown",
      "metadata": {
        "id": "ev-3S0oe5UjA"
      },
      "source": [
        "###Creating an Embedding matrix::"
      ]
    },
    {
      "cell_type": "code",
      "metadata": {
        "id": "oWGl_7au5Ki3"
      },
      "source": [
        "EMBEDDING_FILE = './glove.6B.200d.txt'\n",
        "\n",
        "embeddings = {}\n",
        "for o in open(EMBEDDING_FILE):\n",
        "    word = o.split(\" \")[0]\n",
        "    # print(word)\n",
        "    embd = o.split(\" \")[1:]\n",
        "    embd = np.asarray(embd, dtype='float32')\n",
        "    # print(embd)\n",
        "    embeddings[word] = embd\n",
        "\n",
        "# create a weight matrix for words in training docs\n",
        "embedding_matrix = np.zeros((num_words, 200))\n",
        "\n",
        "for word, i in tokenizer.word_index.items():\n",
        "\tembedding_vector = embeddings.get(word)\n",
        "\tif embedding_vector is not None:\n",
        "\t\tembedding_matrix[i] = embedding_vector"
      ],
      "execution_count": null,
      "outputs": []
    },
    {
      "cell_type": "markdown",
      "metadata": {
        "id": "FnZiepru5kRT"
      },
      "source": [
        "###Train and Val split:: (90-10)"
      ]
    },
    {
      "cell_type": "code",
      "metadata": {
        "id": "qAUWw98f5KgI"
      },
      "source": [
        "x_train, x_val, y_train, y_val = train_test_split(X, y, test_size = 0.1, random_state = 1122, shuffle = True)"
      ],
      "execution_count": null,
      "outputs": []
    },
    {
      "cell_type": "code",
      "metadata": {
        "colab": {
          "base_uri": "https://localhost:8080/"
        },
        "id": "MAg4e6vt5Kc0",
        "outputId": "3d99cffe-b56d-457e-c97e-9302d8104d04"
      },
      "source": [
        "print('##'*20, f'\\nNumber of rows in training dataset: {x_train.shape[0]}')\n",
        "print(f'Number of columns in training dataset: {x_train.shape[1]}')\n",
        "print(f'Number of unique words in training dataset: {len(np.unique(np.hstack(x_train)))}')\n",
        "\n",
        "print('##'*20, f'\\nNumber of rows in test dataset: {x_val.shape[0]}')\n",
        "print(f'Number of columns in test dataset: {x_val.shape[1]}')\n",
        "print(f'Number of unique words in test dataset: {len(np.unique(np.hstack(x_val)))}')"
      ],
      "execution_count": null,
      "outputs": [
        {
          "output_type": "stream",
          "text": [
            "######################################## \n",
            "Number of rows in training dataset: 382\n",
            "Number of columns in training dataset: 622\n",
            "Number of unique words in training dataset: 2258\n",
            "######################################## \n",
            "Number of rows in test dataset: 43\n",
            "Number of columns in test dataset: 622\n",
            "Number of unique words in test dataset: 677\n"
          ],
          "name": "stdout"
        }
      ]
    },
    {
      "cell_type": "markdown",
      "metadata": {
        "id": "8pEiesRd5wfU"
      },
      "source": [
        "###Setting up the model::"
      ]
    },
    {
      "cell_type": "code",
      "metadata": {
        "colab": {
          "base_uri": "https://localhost:8080/"
        },
        "id": "-Y4alHHy5teu",
        "outputId": "8f6cfcf8-5e58-4ff5-904f-d87ac26b65e9"
      },
      "source": [
        "from keras.models import Sequential\n",
        "from keras.layers import Dense, Embedding, Flatten\n",
        "from keras.layers.convolutional import Conv1D\n",
        "from keras.layers.convolutional import MaxPooling1D\n",
        "from keras.initializers import Constant\n",
        "\n",
        "model = Sequential()\n",
        "model.add(Embedding(num_words, embedding_size, embeddings_initializer = Constant(embedding_matrix), input_length = maxlen, trainable = False))\n",
        "model.add(Conv1D(filters=128, kernel_size=5, activation='relu'))\n",
        "model.add(SpatialDropout1D(0.2))\n",
        "model.add(LSTM(128, dropout=0.4, recurrent_dropout=0.2))\n",
        "model.add(Dense(5, activation='softmax'))\n",
        "model.compile(loss='categorical_crossentropy', optimizer='adam', metrics=['accuracy'])\n",
        "print(model.summary())\n"
      ],
      "execution_count": null,
      "outputs": [
        {
          "output_type": "stream",
          "text": [
            "Model: \"sequential\"\n",
            "_________________________________________________________________\n",
            "Layer (type)                 Output Shape              Param #   \n",
            "=================================================================\n",
            "embedding (Embedding)        (None, 622, 200)          475600    \n",
            "_________________________________________________________________\n",
            "conv1d (Conv1D)              (None, 618, 128)          128128    \n",
            "_________________________________________________________________\n",
            "spatial_dropout1d (SpatialDr (None, 618, 128)          0         \n",
            "_________________________________________________________________\n",
            "lstm (LSTM)                  (None, 128)               131584    \n",
            "_________________________________________________________________\n",
            "dense (Dense)                (None, 5)                 645       \n",
            "=================================================================\n",
            "Total params: 735,957\n",
            "Trainable params: 260,357\n",
            "Non-trainable params: 475,600\n",
            "_________________________________________________________________\n",
            "None\n"
          ],
          "name": "stdout"
        }
      ]
    },
    {
      "cell_type": "markdown",
      "metadata": {
        "id": "ijkJupcQ6R_C"
      },
      "source": [
        "###Setup the callbacks::"
      ]
    },
    {
      "cell_type": "code",
      "metadata": {
        "id": "IgLFcRzn6Qkb"
      },
      "source": [
        "es = EarlyStopping(monitor = 'val_loss', mode = 'min', verbose = 1, patience = 10)  \n",
        "mc = ModelCheckpoint('risk_classifier.h5', monitor = 'val_loss', mode = 'min', save_best_only = True, verbose = 1)\n",
        "lr_r = ReduceLROnPlateau(monitor = 'val_loss', factor = 0.1, patience = 5),\n",
        "logdir = 'log'; tb = TensorBoard(logdir, histogram_freq = 1)\n",
        "callbacks = [es, mc, lr_r, tb]"
      ],
      "execution_count": null,
      "outputs": []
    },
    {
      "cell_type": "code",
      "metadata": {
        "colab": {
          "base_uri": "https://localhost:8080/",
          "height": 644
        },
        "id": "fMFq7od75tdH",
        "outputId": "c2306e75-eb27-4685-e131-b0fea10b5ac2"
      },
      "source": [
        "tf.keras.utils.plot_model(model, show_shapes = True)\n"
      ],
      "execution_count": null,
      "outputs": [
        {
          "output_type": "execute_result",
          "data": {
            "image/png": "[encoded data removed]",
            "text/plain": [
              "<IPython.core.display.Image object>"
            ]
          },
          "metadata": {
            "tags": []
          },
          "execution_count": 35
        }
      ]
    },
    {
      "cell_type": "code",
      "metadata": {
        "colab": {
          "base_uri": "https://localhost:8080/"
        },
        "id": "l8DGT62U8Ed3",
        "outputId": "24fa8dd7-311a-40e0-bf1c-d9e4e32deb64"
      },
      "source": [
        "pd.DataFrame(y_train).value_counts()"
      ],
      "execution_count": null,
      "outputs": [
        {
          "output_type": "execute_result",
          "data": {
            "text/plain": [
              "0  1  2  3  4\n",
              "1  0  0  0  0    279\n",
              "0  1  0  0  0     38\n",
              "   0  1  0  0     29\n",
              "      0  1  0     28\n",
              "         0  1      8\n",
              "dtype: int64"
            ]
          },
          "metadata": {
            "tags": []
          },
          "execution_count": 36
        }
      ]
    },
    {
      "cell_type": "code",
      "metadata": {
        "colab": {
          "base_uri": "https://localhost:8080/"
        },
        "id": "9-x6P_mx73LZ",
        "outputId": "06687a2e-7817-4bd4-86a7-50ecb08db6c5"
      },
      "source": [
        "pd.DataFrame(y_val).value_counts()"
      ],
      "execution_count": null,
      "outputs": [
        {
          "output_type": "execute_result",
          "data": {
            "text/plain": [
              "0  1  2  3  4\n",
              "1  0  0  0  0    37\n",
              "0  1  0  0  0     2\n",
              "   0  1  0  0     2\n",
              "      0  1  0     2\n",
              "dtype: int64"
            ]
          },
          "metadata": {
            "tags": []
          },
          "execution_count": 37
        }
      ]
    },
    {
      "cell_type": "code",
      "metadata": {
        "id": "VWL0-cdY73Fe"
      },
      "source": [
        ""
      ],
      "execution_count": null,
      "outputs": []
    },
    {
      "cell_type": "markdown",
      "metadata": {
        "id": "6P8spd3x8iXu"
      },
      "source": [
        "### Model with imblearn::"
      ]
    },
    {
      "cell_type": "code",
      "metadata": {
        "colab": {
          "base_uri": "https://localhost:8080/"
        },
        "id": "ZMuKgSS-8iXv",
        "outputId": "807e662f-74a6-4b8d-bbb8-b4ded4e13fd9"
      },
      "source": [
        "!pip install imblearn\n",
        "import imblearn\n",
        "from imblearn.over_sampling import SMOTE\n"
      ],
      "execution_count": null,
      "outputs": [
        {
          "output_type": "stream",
          "text": [
            "Requirement already satisfied: imblearn in /usr/local/lib/python3.7/dist-packages (0.0)\n",
            "Requirement already satisfied: imbalanced-learn in /usr/local/lib/python3.7/dist-packages (from imblearn) (0.4.3)\n",
            "Requirement already satisfied: scipy>=0.13.3 in /usr/local/lib/python3.7/dist-packages (from imbalanced-learn->imblearn) (1.4.1)\n",
            "Requirement already satisfied: scikit-learn>=0.20 in /usr/local/lib/python3.7/dist-packages (from imbalanced-learn->imblearn) (0.22.2.post1)\n",
            "Requirement already satisfied: numpy>=1.8.2 in /usr/local/lib/python3.7/dist-packages (from imbalanced-learn->imblearn) (1.19.5)\n",
            "Requirement already satisfied: joblib>=0.11 in /usr/local/lib/python3.7/dist-packages (from scikit-learn>=0.20->imbalanced-learn->imblearn) (1.0.1)\n"
          ],
          "name": "stdout"
        },
        {
          "output_type": "stream",
          "text": [
            "/usr/local/lib/python3.7/dist-packages/sklearn/externals/six.py:31: FutureWarning: The module is deprecated in version 0.21 and will be removed in version 0.23 since we've dropped support for Python 2.7. Please rely on the official version of six (https://pypi.org/project/six/).\n",
            "  \"(https://pypi.org/project/six/).\", FutureWarning)\n",
            "/usr/local/lib/python3.7/dist-packages/sklearn/utils/deprecation.py:144: FutureWarning: The sklearn.neighbors.base module is  deprecated in version 0.22 and will be removed in version 0.24. The corresponding classes / functions should instead be imported from sklearn.neighbors. Anything that cannot be imported from sklearn.neighbors is now part of the private API.\n",
            "  warnings.warn(message, FutureWarning)\n"
          ],
          "name": "stderr"
        }
      ]
    },
    {
      "cell_type": "code",
      "metadata": {
        "colab": {
          "base_uri": "https://localhost:8080/"
        },
        "id": "U26Pr1vS8iXv",
        "outputId": "5b16643d-314c-4c1e-a492-8d7a1835cd90"
      },
      "source": [
        "# sm = SMOTE(random_state = 111, k_neighbors=4)\n",
        "# X_train_res, y_train_res = sm.fit_sample(X_train_pad, y_train,)\n",
        "\n",
        "from imblearn.over_sampling import SMOTENC\n",
        "sm = SMOTENC(random_state=111, categorical_features=[0,1,2,3,4])\n",
        "X_res, y_res = sm.fit_resample(x_train, y_train)"
      ],
      "execution_count": null,
      "outputs": [
        {
          "output_type": "stream",
          "text": [
            "/usr/local/lib/python3.7/dist-packages/sklearn/utils/deprecation.py:87: FutureWarning: Function safe_indexing is deprecated; safe_indexing is deprecated in version 0.22 and will be removed in version 0.24.\n",
            "  warnings.warn(msg, category=FutureWarning)\n",
            "/usr/local/lib/python3.7/dist-packages/sklearn/utils/deprecation.py:87: FutureWarning: Function safe_indexing is deprecated; safe_indexing is deprecated in version 0.22 and will be removed in version 0.24.\n",
            "  warnings.warn(msg, category=FutureWarning)\n"
          ],
          "name": "stderr"
        }
      ]
    },
    {
      "cell_type": "code",
      "metadata": {
        "colab": {
          "base_uri": "https://localhost:8080/"
        },
        "id": "XakP2N0u8iXw",
        "outputId": "baa58a7a-0788-4bf4-ff7a-bd2eb5fd6b5c"
      },
      "source": [
        "print('Before Sampling: X_train: {}, y_train: {}'.format(x_train.shape, y_train.shape))"
      ],
      "execution_count": null,
      "outputs": [
        {
          "output_type": "stream",
          "text": [
            "Before Sampling: X_train: (382, 622), y_train: (382, 5)\n"
          ],
          "name": "stdout"
        }
      ]
    },
    {
      "cell_type": "code",
      "metadata": {
        "colab": {
          "base_uri": "https://localhost:8080/"
        },
        "id": "kcrpFvT08iXw",
        "outputId": "47b2841e-1913-4d82-abbe-5f9051cf3bb9"
      },
      "source": [
        "print('After Sampling: X: {}, y: {}'.format(X_res.shape, y_res.shape))"
      ],
      "execution_count": null,
      "outputs": [
        {
          "output_type": "stream",
          "text": [
            "After Sampling: X: (1395, 622), y: (1395, 5)\n"
          ],
          "name": "stdout"
        }
      ]
    },
    {
      "cell_type": "code",
      "metadata": {
        "colab": {
          "base_uri": "https://localhost:8080/"
        },
        "id": "HZ6bSfaW8iXw",
        "outputId": "c36aaf2e-0f4e-4e8a-d37a-6a83f485f94e"
      },
      "source": [
        "X_train2, X_test2, y_train2, y_test2 = train_test_split(X_res, y_res, test_size = 0.30, random_state = 1122)\n",
        "print(X_train2.shape,y_train2.shape)\n",
        "print(X_test2.shape,y_test2.shape)"
      ],
      "execution_count": null,
      "outputs": [
        {
          "output_type": "stream",
          "text": [
            "(976, 622) (976, 5)\n",
            "(419, 622) (419, 5)\n"
          ],
          "name": "stdout"
        }
      ]
    },
    {
      "cell_type": "code",
      "metadata": {
        "colab": {
          "base_uri": "https://localhost:8080/"
        },
        "id": "f2q-zONo8iXw",
        "outputId": "044df3fc-7193-4d9c-a4af-7a6c121b6b41"
      },
      "source": [
        "pd.DataFrame(y_train2).value_counts()"
      ],
      "execution_count": null,
      "outputs": [
        {
          "output_type": "execute_result",
          "data": {
            "text/plain": [
              "0  1  2  3  4\n",
              "0  1  0  0  0    201\n",
              "1  0  0  0  0    195\n",
              "0  0  1  0  0    195\n",
              "      0  0  1    195\n",
              "         1  0    190\n",
              "dtype: int64"
            ]
          },
          "metadata": {
            "tags": []
          },
          "execution_count": 47
        }
      ]
    },
    {
      "cell_type": "code",
      "metadata": {
        "colab": {
          "base_uri": "https://localhost:8080/"
        },
        "id": "pMN7hSYZ8iXx",
        "outputId": "fae6b4dd-fd80-4949-a645-b6eb47930a48"
      },
      "source": [
        "pd.DataFrame(y_test2).value_counts()"
      ],
      "execution_count": null,
      "outputs": [
        {
          "output_type": "execute_result",
          "data": {
            "text/plain": [
              "0  1  2  3  4\n",
              "0  0  0  1  0    89\n",
              "1  0  0  0  0    84\n",
              "0  0  1  0  0    84\n",
              "      0  0  1    84\n",
              "   1  0  0  0    78\n",
              "dtype: int64"
            ]
          },
          "metadata": {
            "tags": []
          },
          "execution_count": 48
        }
      ]
    },
    {
      "cell_type": "code",
      "metadata": {
        "id": "s2nt_XCQTGXW"
      },
      "source": [
        ""
      ],
      "execution_count": null,
      "outputs": []
    },
    {
      "cell_type": "code",
      "metadata": {
        "colab": {
          "base_uri": "https://localhost:8080/"
        },
        "id": "qWhENAYr5tZQ",
        "outputId": "8eed0bb8-5540-4afd-aa48-132fdec8729c"
      },
      "source": [
        "batch_size = 128\n",
        "epochs = 5\n",
        "\n",
        "h = model.fit(X_train2, y_train2, epochs = epochs, validation_data=(x_val, y_val), batch_size = batch_size, verbose = 2, callbacks = callbacks)\n",
        "#h = model.fit(X_train, y_train, batch_size=128, epochs=10, validation_data=(X_test, y_test), verbose=2, shuffle=True)\n"
      ],
      "execution_count": null,
      "outputs": [
        {
          "output_type": "stream",
          "text": [
            "Epoch 1/5\n",
            "8/8 - 33s - loss: 1.0417 - accuracy: 0.5912 - val_loss: 1.0422 - val_accuracy: 0.5581\n",
            "\n",
            "Epoch 00001: val_loss improved from 1.48348 to 1.04220, saving model to risk_classifier.h5\n",
            "Epoch 2/5\n",
            "8/8 - 31s - loss: 0.9609 - accuracy: 0.6445 - val_loss: 1.3789 - val_accuracy: 0.5814\n",
            "\n",
            "Epoch 00002: val_loss did not improve from 1.04220\n",
            "Epoch 3/5\n",
            "8/8 - 30s - loss: 0.8577 - accuracy: 0.6824 - val_loss: 1.7377 - val_accuracy: 0.4419\n",
            "\n",
            "Epoch 00003: val_loss did not improve from 1.04220\n",
            "Epoch 4/5\n",
            "8/8 - 30s - loss: 0.7544 - accuracy: 0.7346 - val_loss: 1.8792 - val_accuracy: 0.3953\n",
            "\n",
            "Epoch 00004: val_loss did not improve from 1.04220\n",
            "Epoch 5/5\n",
            "8/8 - 31s - loss: 0.6469 - accuracy: 0.7838 - val_loss: 1.3569 - val_accuracy: 0.6977\n",
            "\n",
            "Epoch 00005: val_loss did not improve from 1.04220\n"
          ],
          "name": "stdout"
        }
      ]
    },
    {
      "cell_type": "markdown",
      "metadata": {
        "id": "tw-9L6ls7doj"
      },
      "source": [
        "###Evaluation:"
      ]
    },
    {
      "cell_type": "code",
      "metadata": {
        "colab": {
          "base_uri": "https://localhost:8080/",
          "height": 400
        },
        "id": "pD_MQyln7doo",
        "outputId": "ee0aab08-94e5-4079-d011-ed8b7773c7d4"
      },
      "source": [
        "f, (ax1, ax2) = plt.subplots(1, 2, figsize = (24, 6))\n",
        "f.suptitle('Monitoring the performance of the model')\n",
        "\n",
        "loss = 'loss'\n",
        "val_loss = 'val_loss'\n",
        "accuracy = 'accuracy'\n",
        "val_accuracy = 'val_accuracy'\n",
        "\n",
        "ax1.plot(h.history['loss'], label = 'Train')\n",
        "ax1.plot(h.history['val_loss'], label = 'Test')\n",
        "ax1.set_title('Model Loss')\n",
        "ax1.legend(['Train', 'Test'])\n",
        "\n",
        "ax2.plot(h.history[accuracy], label = 'Train')\n",
        "ax2.plot(h.history[val_accuracy], label = 'Test')\n",
        "ax2.set_title('Model Accuracy')\n",
        "ax2.legend(['Train', 'Test'])\n",
        "\n",
        "plt.show()"
      ],
      "execution_count": null,
      "outputs": [
        {
          "output_type": "display_data",
          "data": {
            "image/png": "[encoded data removed]",
            "text/plain": [
              "<Figure size 1728x432 with 2 Axes>"
            ]
          },
          "metadata": {
            "tags": []
          }
        }
      ]
    },
    {
      "cell_type": "code",
      "metadata": {
        "colab": {
          "base_uri": "https://localhost:8080/"
        },
        "id": "qNazyuPi7doq",
        "outputId": "1380770f-c1ab-4b64-e99c-524f8836bbc7"
      },
      "source": [
        "print('Testing...')\n",
        "score, acc = model.evaluate(x_val, y_val, batch_size=10)\n",
        "\n",
        "print('Test score:', score)\n",
        "print('Test accuracy:', acc)\n",
        "\n",
        "print(\"Accuracy: {0:.2%}\".format(acc))"
      ],
      "execution_count": null,
      "outputs": [
        {
          "output_type": "stream",
          "text": [
            "Testing...\n",
            "5/5 [==============================] - 1s 122ms/step - loss: 1.3569 - accuracy: 0.6977\n",
            "Test score: 1.3568952083587646\n",
            "Test accuracy: 0.6976743936538696\n",
            "Accuracy: 69.77%\n"
          ],
          "name": "stdout"
        }
      ]
    },
    {
      "cell_type": "code",
      "metadata": {
        "colab": {
          "base_uri": "https://localhost:8080/"
        },
        "id": "yxX2Hj667doq",
        "outputId": "ed1c7661-1791-4044-f1ff-8497695a0fdf"
      },
      "source": [
        "from sklearn.metrics import classification_report, confusion_matrix\n",
        "\n",
        "y_pred = model.predict_proba(X_test2, batch_size=128, verbose=1)\n",
        "y_pred_bool = np.argmax(y_pred, axis=1)\n",
        "y_test_bool = np.argmax(y_test2, axis=1)\n",
        "print(classification_report(y_test_bool, y_pred_bool))\n"
      ],
      "execution_count": null,
      "outputs": [
        {
          "output_type": "stream",
          "text": [
            "/usr/local/lib/python3.7/dist-packages/tensorflow/python/keras/engine/sequential.py:425: UserWarning: `model.predict_proba()` is deprecated and will be removed after 2021-01-01. Please use `model.predict()` instead.\n",
            "  warnings.warn('`model.predict_proba()` is deprecated and '\n"
          ],
          "name": "stderr"
        },
        {
          "output_type": "stream",
          "text": [
            "4/4 [==============================] - 2s 514ms/step\n",
            "              precision    recall  f1-score   support\n",
            "\n",
            "           0       0.58      0.70      0.63        84\n",
            "           1       0.44      0.32      0.37        78\n",
            "           2       0.43      0.31      0.36        84\n",
            "           3       0.35      0.27      0.30        89\n",
            "           4       0.43      0.67      0.52        84\n",
            "\n",
            "    accuracy                           0.45       419\n",
            "   macro avg       0.45      0.45      0.44       419\n",
            "weighted avg       0.44      0.45      0.44       419\n",
            "\n"
          ],
          "name": "stdout"
        }
      ]
    },
    {
      "cell_type": "code",
      "metadata": {
        "colab": {
          "base_uri": "https://localhost:8080/"
        },
        "id": "kmiYIeJG7dor",
        "outputId": "43f50f50-38b5-4b5f-8439-47aa7dcac4bf"
      },
      "source": [
        "print(classification_report(y_test_bool, y_pred_bool, labels=[0,1, 2, 3, 4] ))"
      ],
      "execution_count": null,
      "outputs": [
        {
          "output_type": "stream",
          "text": [
            "              precision    recall  f1-score   support\n",
            "\n",
            "           0       0.58      0.70      0.63        84\n",
            "           1       0.44      0.32      0.37        78\n",
            "           2       0.43      0.31      0.36        84\n",
            "           3       0.35      0.27      0.30        89\n",
            "           4       0.43      0.67      0.52        84\n",
            "\n",
            "    accuracy                           0.45       419\n",
            "   macro avg       0.45      0.45      0.44       419\n",
            "weighted avg       0.44      0.45      0.44       419\n",
            "\n"
          ],
          "name": "stdout"
        }
      ]
    },
    {
      "cell_type": "code",
      "metadata": {
        "colab": {
          "base_uri": "https://localhost:8080/"
        },
        "id": "SX_tGtgK7dor",
        "outputId": "2d974664-2a0f-4fa5-f98e-f97eda84d62d"
      },
      "source": [
        "confusion_matrix(y_test_bool, y_pred_bool)"
      ],
      "execution_count": null,
      "outputs": [
        {
          "output_type": "execute_result",
          "data": {
            "text/plain": [
              "array([[59,  7,  8,  6,  4],\n",
              "       [12, 25, 14, 11, 16],\n",
              "       [14, 11, 26, 10, 23],\n",
              "       [14, 10,  9, 24, 32],\n",
              "       [ 3,  4,  3, 18, 56]])"
            ]
          },
          "metadata": {
            "tags": []
          },
          "execution_count": 66
        }
      ]
    },
    {
      "cell_type": "code",
      "metadata": {
        "id": "kVAyWeRR5KaL"
      },
      "source": [
        "report = classification_report(y_test_bool, y_pred_bool, output_dict=True)"
      ],
      "execution_count": null,
      "outputs": []
    },
    {
      "cell_type": "code",
      "metadata": {
        "id": "sgCqEgO_eIBY"
      },
      "source": [
        "from sklearn.metrics import multilabel_confusion_matrix"
      ],
      "execution_count": null,
      "outputs": []
    },
    {
      "cell_type": "code",
      "metadata": {
        "colab": {
          "base_uri": "https://localhost:8080/"
        },
        "id": "h4tigzgkaemo",
        "outputId": "87d567e2-7f37-496b-b263-d687fbbdb542"
      },
      "source": [
        "multilabel_confusion_matrix(y_test_bool, y_pred_bool, labels=[0,1, 2, 3, 4]  )"
      ],
      "execution_count": null,
      "outputs": [
        {
          "output_type": "execute_result",
          "data": {
            "text/plain": [
              "array([[[292,  43],\n",
              "        [ 25,  59]],\n",
              "\n",
              "       [[309,  32],\n",
              "        [ 53,  25]],\n",
              "\n",
              "       [[301,  34],\n",
              "        [ 58,  26]],\n",
              "\n",
              "       [[285,  45],\n",
              "        [ 65,  24]],\n",
              "\n",
              "       [[260,  75],\n",
              "        [ 28,  56]]])"
            ]
          },
          "metadata": {
            "tags": []
          },
          "execution_count": 69
        }
      ]
    },
    {
      "cell_type": "code",
      "metadata": {
        "colab": {
          "base_uri": "https://localhost:8080/",
          "height": 585
        },
        "id": "Pfy-LRinaekK",
        "outputId": "239f6f4f-4b0f-41e0-db90-5aba7539813c"
      },
      "source": [
        "import seaborn as sns\n",
        "labels = [0,1,2,3,4]\n",
        "confusion = multilabel_confusion_matrix(y_test_bool, y_pred_bool, labels=labels)\n",
        "\n",
        "# Plot confusion matrix \n",
        "fig = plt.figure(figsize = (14, 8))\n",
        "for i, (label, matrix) in enumerate(zip(labels, confusion)):\n",
        "    plt.subplot(f'23{i+1}')\n",
        "    labels = [f'Accident Level:{label}', label]\n",
        "    sns.heatmap(matrix, annot = True, square = True, fmt = 'd', cbar = False, cmap = 'Blues', \n",
        "                xticklabels = labels, yticklabels = labels, linecolor = 'black', linewidth = 1)\n",
        "    plt.title(labels[0])\n",
        "\n",
        "plt.tight_layout()\n",
        "plt.show()"
      ],
      "execution_count": null,
      "outputs": [
        {
          "output_type": "display_data",
          "data": {
            "image/png": "[encoded data removed]",
            "text/plain": [
              "<Figure size 1008x576 with 5 Axes>"
            ]
          },
          "metadata": {
            "tags": []
          }
        }
      ]
    },
    {
      "cell_type": "code",
      "metadata": {
        "id": "3J_gskKlaehM"
      },
      "source": [
        ""
      ],
      "execution_count": null,
      "outputs": []
    },
    {
      "cell_type": "markdown",
      "metadata": {
        "id": "gDrFlK-vOsxA"
      },
      "source": [
        "\n",
        "\n",
        "---\n",
        "\n",
        "\n",
        "\n",
        "---\n",
        "\n"
      ]
    },
    {
      "cell_type": "code",
      "metadata": {
        "id": "fMohncMZ9dEG"
      },
      "source": [
        ""
      ],
      "execution_count": null,
      "outputs": []
    }
  ]
}